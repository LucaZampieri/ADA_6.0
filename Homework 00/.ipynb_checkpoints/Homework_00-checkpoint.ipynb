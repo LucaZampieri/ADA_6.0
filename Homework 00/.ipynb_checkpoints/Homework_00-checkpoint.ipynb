{
 "cells": [
  {
   "cell_type": "markdown",
   "metadata": {},
   "source": [
    "#  Homework_00"
   ]
  },
  {
   "cell_type": "code",
   "execution_count": 5,
   "metadata": {},
   "outputs": [],
   "source": [
    "def is_number(s):\n",
    "    # This function checks whether the string s is actually a number or not.\n",
    "    #\n",
    "    #\n",
    "    try:\n",
    "        float(s)\n",
    "        return True\n",
    "    except ValueError:\n",
    "        pass\n",
    " \n",
    "    try:\n",
    "        import unicodedata\n",
    "        unicodedata.numeric(s)\n",
    "        return True\n",
    "    except (TypeError, ValueError):\n",
    "        pass\n",
    " \n",
    "    return False"
   ]
  },
  {
   "cell_type": "code",
   "execution_count": 6,
   "metadata": {},
   "outputs": [
    {
     "ename": "NameError",
     "evalue": "name 'csv' is not defined",
     "output_type": "error",
     "traceback": [
      "\u001b[0;31m---------------------------------------------------------------------------\u001b[0m",
      "\u001b[0;31mNameError\u001b[0m                                 Traceback (most recent call last)",
      "\u001b[0;32m<ipython-input-6-f968f4160789>\u001b[0m in \u001b[0;36m<module>\u001b[0;34m()\u001b[0m\n\u001b[1;32m      2\u001b[0m \u001b[0mf\u001b[0m \u001b[0;34m=\u001b[0m \u001b[0mopen\u001b[0m\u001b[0;34m(\u001b[0m\u001b[0mfilename\u001b[0m\u001b[0;34m,\u001b[0m \u001b[0mnewline\u001b[0m\u001b[0;34m=\u001b[0m\u001b[0;34m''\u001b[0m\u001b[0;34m)\u001b[0m\u001b[0;34m\u001b[0m\u001b[0m\n\u001b[1;32m      3\u001b[0m \u001b[0;34m\u001b[0m\u001b[0m\n\u001b[0;32m----> 4\u001b[0;31m \u001b[0mreader_obj\u001b[0m \u001b[0;34m=\u001b[0m \u001b[0mcsv\u001b[0m\u001b[0;34m.\u001b[0m\u001b[0mreader\u001b[0m\u001b[0;34m(\u001b[0m\u001b[0mf\u001b[0m\u001b[0;34m)\u001b[0m  \u001b[0;31m# the csv.reader object is an iterable object\u001b[0m\u001b[0;34m\u001b[0m\u001b[0m\n\u001b[0m\u001b[1;32m      5\u001b[0m                             \u001b[0;31m# (no random access allowed) that allows us\u001b[0m\u001b[0;34m\u001b[0m\u001b[0;34m\u001b[0m\u001b[0m\n\u001b[1;32m      6\u001b[0m                             \u001b[0;31m# to access each row in it\u001b[0m\u001b[0;34m\u001b[0m\u001b[0;34m\u001b[0m\u001b[0m\n",
      "\u001b[0;31mNameError\u001b[0m: name 'csv' is not defined"
     ]
    }
   ],
   "source": [
    "filename = 'interactive_data.csv'\n",
    "f = open(filename, newline='')\n",
    "\n",
    "reader_obj = csv.reader(f)  # the csv.reader object is an iterable object \n",
    "                            # (no random access allowed) that allows us\n",
    "                            # to access each row in it\n",
    "tot=0.   # total number of deaths\n",
    "how_many_suic=0.\n",
    "for index, row in enumerate(reader_obj):\n",
    "    if index>0: # the first row is just the header\n",
    "        \n",
    "        # hereunder I check every row entry, to appropriately modify it.\n",
    "        # It's necessary to modify only two cases: 'NA' entries (actually not necessary for\n",
    "        # our purpose) and numeric strings, to allow us to calculate its sum\n",
    "        \n",
    "        for i, col in enumerate(row):     \n",
    "            if col=='NA':\n",
    "                row[i]=float('nan')\n",
    "            if is_number(col):\n",
    "                row[i]=float(row[i])\n",
    "        #now that I've modified the row, let's count:\n",
    "        if row[1]==\"Suicide\":\n",
    "            how_many_suic+=row[5]\n",
    "        tot+=row[5]\n",
    "        \n",
    "        #let's print the first 10 modified lines:\n",
    "        if index<10:\n",
    "            print(row)\n",
    "            \n",
    "print(how_many_suic)\n",
    "print(tot)\n",
    "print(how_many_suic/tot)    #WHY DA FUCK IT GIVES ME 0.3? IT'S FUCKING CORRECT!\n",
    "                            #we also cecked with excel -.-\"\n",
    "        "
   ]
  },
  {
   "cell_type": "markdown",
   "metadata": {
    "collapsed": true
   },
   "source": [
    "# Using pandas library"
   ]
  },
  {
   "cell_type": "code",
   "execution_count": 3,
   "metadata": {},
   "outputs": [],
   "source": [
    "# Import pandas and sublibraries useful to read the dataset\n",
    "import pandas as pd\n",
    "import pandas as pd\n",
    "from pandas import read_csv\n",
    "from pandas import set_option"
   ]
  },
  {
   "cell_type": "code",
   "execution_count": 4,
   "metadata": {},
   "outputs": [],
   "source": [
    "filename_1 = 'interactive_data.csv'\n",
    "dataset = read_csv(filename_1, header='infer', low_memory=False)\n",
    "                    #na_values=['UNKNOWN', 'UNK'], ### Adds UNKNOWN and UNK to list of NULLs\n",
    "                    #na_filter=True,               ### Detect NA/NaN as actual NULL values\n",
    "                    #skip_blank_lines=True)        ### Skip boring blank lines"
   ]
  },
  {
   "cell_type": "raw",
   "metadata": {},
   "source": [
    "Before playing with the data, it is important to get a general overview "
   ]
  },
  {
   "cell_type": "code",
   "execution_count": 30,
   "metadata": {},
   "outputs": [
    {
     "name": "stdout",
     "output_type": "stream",
     "text": [
      "Dataset shape shape: (540, 8)\n",
      "<class 'pandas.core.frame.DataFrame'>\n",
      "RangeIndex: 540 entries, 0 to 539\n",
      "Data columns (total 8 columns):\n",
      "Unnamed: 0    540 non-null int64\n",
      "Intent        540 non-null object\n",
      "Gender        540 non-null object\n",
      "Age           540 non-null object\n",
      "Race          540 non-null object\n",
      "Deaths        540 non-null int64\n",
      "Population    540 non-null int64\n",
      "Rate          468 non-null float64\n",
      "dtypes: float64(1), int64(3), object(4)\n",
      "memory usage: 33.8+ KB\n",
      "None\n",
      "Peek the training dataset:\n",
      "   Unnamed: 0         Intent         Gender            Age                    Race  Deaths  Population  Rate\n",
      "0           1  None selected  None selected  None selected           None selected   33599   316299978  10.6\n",
      "1           2  None selected  None selected  None selected                   White   22079   197369634  11.2\n",
      "2           3  None selected  None selected  None selected                   Black    7765    38896382  20.0\n",
      "3           4  None selected  None selected  None selected                Hispanic    3007    54049078   5.6\n",
      "4           5  None selected  None selected  None selected  Asian/Pacific Islander     442    16315561   2.7\n",
      "5           6  None selected  None selected  None selected                   Other     306     9669323   3.2\n",
      "6           7  None selected  None selected       Under 15           None selected     427    61085868   0.7\n",
      "7           8  None selected  None selected       Under 15                   White     242    31538832   0.8\n",
      "8           9  None selected  None selected       Under 15                   Black     109     8323603   1.3\n",
      "9          10  None selected  None selected       Under 15                Hispanic      63    14994449   0.4\n",
      "Columns names: Index(['Unnamed: 0', 'Intent', 'Gender', 'Age', 'Race', 'Deaths', 'Population', 'Rate'], dtype='object')\n"
     ]
    }
   ],
   "source": [
    "# Dataset shape\n",
    "print('Dataset shape shape: {}'.format(dataset.shape))\n",
    "print(dataset.info())\n",
    "\n",
    "# Show first and last 10 rows\n",
    "set_option('display.width' , 200) # Display options\n",
    "print('Peek the training dataset:')\n",
    "print(dataset.head(10)) # .tail(10) shows last 10 lines \n",
    "\n",
    "# Assessing the features (columns names)\n",
    "print('Columns names: {}'.format(dataset.columns)) \n",
    "#If it is wanted to know the index names (raws) use \".index\". In this case, there is no index"
   ]
  },
  {
   "cell_type": "code",
   "execution_count": 31,
   "metadata": {},
   "outputs": [
    {
     "name": "stdout",
     "output_type": "stream",
     "text": [
      "Description:\n",
      "       Unnamed: 0    Deaths  Population    Rate\n",
      "count      540.00    540.00    5.40e+02  468.00\n",
      "mean       270.50    995.52    2.34e+07     inf\n",
      "std        156.03   3322.54    4.50e+07     NaN\n",
      "min          1.00      0.00    0.00e+00    0.00\n",
      "25%        135.75      1.00    1.43e+06    0.10\n",
      "50%        270.50     22.00    6.86e+06    0.45\n",
      "75%        405.25    191.75    2.49e+07    3.40\n",
      "max        540.00  33599.00    3.16e+08     inf\n"
     ]
    }
   ],
   "source": [
    "# Descriptives statistics of the dataset\n",
    "set_option('display.width', 200)\n",
    "set_option('precision', 2)\n",
    "print('Description:')\n",
    "print(dataset.describe())"
   ]
  },
  {
   "cell_type": "code",
   "execution_count": 97,
   "metadata": {},
   "outputs": [
    {
     "name": "stdout",
     "output_type": "stream",
     "text": [
      "Accident         108\n",
      "None selected    108\n",
      "Homicide         108\n",
      "Suicide          108\n",
      "Unknown          108\n",
      "Name: Intent, dtype: int64\n",
      "Index(['Accident', 'None selected', 'Homicide', 'Suicide', 'Unknown'], dtype='object')\n",
      "Counts: [108 108 108 108 108]\n"
     ]
    }
   ],
   "source": [
    "# Get the number of ocurrences of Intent\n",
    "ocurrences = dataset['Intent'].value_counts()\n",
    "print(ocurrences)\n",
    "\n",
    "# Split and Save the class names\n",
    "intent_classes = ocurrences.index\n",
    "print(intent_classes)\n",
    "\n",
    "# Split and Save the counts in another variable\n",
    "counts = ocurrences.get_values()\n",
    "print('Counts: {}'.format(counts)) "
   ]
  },
  {
   "cell_type": "code",
   "execution_count": 113,
   "metadata": {},
   "outputs": [
    {
     "name": "stdout",
     "output_type": "stream",
     "text": [
      "168464\n",
      "Suicide ocurrences:\n",
      "None selected    36\n",
      "Male             36\n",
      "Female           36\n",
      "Name: Gender, dtype: int64\n",
      "Race ocurrences:\n",
      "None selected             18\n",
      "Asian/Pacific Islander    18\n",
      "White                     18\n",
      "Hispanic                  18\n",
      "Other                     18\n",
      "Black                     18\n",
      "Name: Race, dtype: int64\n",
      "Age ocurrences:\n",
      "None selected    18\n",
      "65+              18\n",
      "5                18\n",
      "15 - 34          18\n",
      "35 - 64          18\n",
      "Under 15         18\n",
      "Name: Age, dtype: int64\n"
     ]
    }
   ],
   "source": [
    "suicide_df = dataset[dataset.Intent == 'Suicide']\n",
    "suicide_sum = suicide_df.Deaths.sum()\n",
    "\n",
    "print('Suicide Counts: {}'.format(suicide_sum)) \n",
    "suicide_counts = dataset[dataset.Intent == 'Suicide'].Gender.value_counts()\n",
    "print('Suicide ocurrences:')\n",
    "print(suicide_counts)\n",
    "\n",
    "race_counts = dataset[dataset.Intent == 'Suicide'].Race.value_counts()\n",
    "print('Race ocurrences:')\n",
    "print(race_counts)\n",
    "\n",
    "age_counts = dataset[dataset.Intent == 'Suicide'].Age.value_counts()\n",
    "print('Age ocurrences:')\n",
    "print(age_counts)\n",
    "\n",
    "#In case we wanted the percentage, we need to devide by \"len(dataset[dataset.Intent == 'Suicide'].Gender\""
   ]
  },
  {
   "cell_type": "code",
   "execution_count": 106,
   "metadata": {},
   "outputs": [
    {
     "data": {
      "image/png": "[encoded data removed]",
      "text/plain": [
       "<matplotlib.figure.Figure at 0x11a0ff160>"
      ]
     },
     "metadata": {},
     "output_type": "display_data"
    }
   ],
   "source": [
    "import matplotlib.pyplot as plt\n",
    "%matplotlib inline\n",
    "import seaborn as sns # statistical data visualisation\n",
    "\n",
    "sns.set_style('whitegrid')\n",
    "\n",
    "# Create and set a color palette with ridiculous color names\n",
    "my_palette = [\"SlateGray\", \"CornflowerBlue\", \"Gold\", \"SpringGreen\"]\n",
    "current_palette = sns.color_palette(my_palette)\n",
    "sns.set_palette(current_palette, 10)\n",
    "\n",
    "\n",
    "plt.xticks(rotation=90)            # Rotate the x-axis labels\n",
    "plt.xlabel(\"GENDER\", fontsize=14)  # Add the x-axis title\n",
    "plt.ylabel(\"COUNTS\", fontsize=14)  # Add the y-axis title   Why it is not working?\n",
    "plt.tick_params(direction='out', labelsize='large')\n",
    "plt.title(\"SUICIDE GENDER\", fontsize=16)  # Add the plot title\n",
    "\n",
    "# Create a barplot object\n",
    "barplot = sns.barplot(x=suicide_counts.index, y=suicide_counts)"
   ]
  },
  {
   "cell_type": "markdown",
   "metadata": {},
   "source": [
    "Questions to answer:\n",
    "    - How many gun death are suicides?\n",
    "    - How many suicide victimes are male?\n",
    "    - How many suicides are from men aged 45 or more?\n",
    "    - How many gun death are from homicides?\n",
    "    - How many victimes of homicides are young men?\n",
    "    - How many victimes of homicides are young men and black?\n",
    "    - How many women are dead from domestic violence?\n",
    "    \n",
    "    "
   ]
  },
  {
   "cell_type": "markdown",
   "metadata": {},
   "source": [
    "New mod"
   ]
  },
  {
   "cell_type": "code",
   "execution_count": null,
   "metadata": {},
   "outputs": [],
   "source": []
  }
 ],
 "metadata": {
  "kernelspec": {
   "display_name": "Python [default]",
   "language": "python",
   "name": "python3"
  },
  "language_info": {
   "codemirror_mode": {
    "name": "ipython",
    "version": 3
   },
   "file_extension": ".py",
   "mimetype": "text/x-python",
   "name": "python",
   "nbconvert_exporter": "python",
   "pygments_lexer": "ipython3",
   "version": "3.6.1"
  }
 },
 "nbformat": 4,
 "nbformat_minor": 2
}
