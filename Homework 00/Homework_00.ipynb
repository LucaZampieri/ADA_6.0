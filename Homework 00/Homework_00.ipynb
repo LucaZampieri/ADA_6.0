{
 "cells": [
  {
   "cell_type": "markdown",
   "metadata": {},
   "source": [
    "#  Homework_00"
   ]
  },
  {
   "cell_type": "code",
   "execution_count": 1,
   "metadata": {},
   "outputs": [],
   "source": [
    "import numpy as np\n",
    "import matplotlib.pyplot as plt\n",
    "import seaborn as sns # statistical data visualisation\n",
    "sns.set_style('whitegrid')\n",
    "import pandas as pd\n",
    "from pandas import read_csv\n",
    "from pandas import set_option\n",
    "from pandas.tools.plotting import scatter_matrix"
   ]
  },
  {
   "cell_type": "code",
   "execution_count": 4,
   "metadata": {},
   "outputs": [],
   "source": [
    "filename = 'interactive_data.csv'\n",
    "df = read_csv(filename, header='infer', low_memory=False)"
   ]
  },
  {
   "cell_type": "code",
   "execution_count": 6,
   "metadata": {},
   "outputs": [
    {
     "name": "stdout",
     "output_type": "stream",
     "text": [
      "Training set shape: (540, 8)\n",
      "<class 'pandas.core.frame.DataFrame'>\n",
      "RangeIndex: 540 entries, 0 to 539\n",
      "Data columns (total 8 columns):\n",
      "Unnamed: 0    540 non-null int64\n",
      "Intent        540 non-null object\n",
      "Gender        540 non-null object\n",
      "Age           540 non-null object\n",
      "Race          540 non-null object\n",
      "Deaths        540 non-null int64\n",
      "Population    540 non-null int64\n",
      "Rate          468 non-null float64\n",
      "dtypes: float64(1), int64(3), object(4)\n",
      "memory usage: 33.8+ KB\n",
      "None\n",
      "Peek the training dataset:\n",
      "   Unnamed: 0         Intent         Gender            Age                    Race  Deaths  \\\n",
      "0           1  None selected  None selected  None selected           None selected   33599   \n",
      "1           2  None selected  None selected  None selected                   White   22079   \n",
      "2           3  None selected  None selected  None selected                   Black    7765   \n",
      "3           4  None selected  None selected  None selected                Hispanic    3007   \n",
      "4           5  None selected  None selected  None selected  Asian/Pacific Islander     442   \n",
      "5           6  None selected  None selected  None selected                   Other     306   \n",
      "6           7  None selected  None selected       Under 15           None selected     427   \n",
      "7           8  None selected  None selected       Under 15                   White     242   \n",
      "8           9  None selected  None selected       Under 15                   Black     109   \n",
      "9          10  None selected  None selected       Under 15                Hispanic      63   \n",
      "\n",
      "   Population  Rate  \n",
      "0   316299978  10.6  \n",
      "1   197369634  11.2  \n",
      "2    38896382  20.0  \n",
      "3    54049078   5.6  \n",
      "4    16315561   2.7  \n",
      "5     9669323   3.2  \n",
      "6    61085868   0.7  \n",
      "7    31538832   0.8  \n",
      "8     8323603   1.3  \n",
      "9    14994449   0.4  \n",
      "     Unnamed: 0   Intent Gender  Age                    Race  Deaths  Population  Rate\n",
      "530         531  Unknown   Male  65+                   Black       2     1520192   0.1\n",
      "531         532  Unknown   Male  65+                Hispanic       0     1419828   0.0\n",
      "532         533  Unknown   Male  65+  Asian/Pacific Islander       0      750151   0.0\n",
      "533         534  Unknown   Male  65+                   Other       0      255719   0.0\n",
      "534         535  Unknown   Male    5           None selected       0           0   NaN\n",
      "535         536  Unknown   Male    5                   White       0           0   NaN\n",
      "536         537  Unknown   Male    5                   Black       0           0   NaN\n",
      "537         538  Unknown   Male    5                Hispanic       0           0   NaN\n",
      "538         539  Unknown   Male    5  Asian/Pacific Islander       0           0   NaN\n",
      "539         540  Unknown   Male    5                   Other       0           0   NaN\n",
      "Columns names: Index(['Unnamed: 0', 'Intent', 'Gender', 'Age', 'Race', 'Deaths', 'Population', 'Rate'], dtype='object')\n"
     ]
    }
   ],
   "source": [
    "# Dataset shape\n",
    "print('Training set shape: {}'.format(df.shape))\n",
    "print(df.info())\n",
    "\n",
    "# Show first and last 10 rows\n",
    "set_option( 'display.width' , 100)\n",
    "print('Peek the training dataset:')\n",
    "print(df.head(10))\n",
    "print(df.tail(10))\n",
    "\n",
    "# Assessing the features (columns names)\n",
    "print('Columns names: {}'.format(df.columns))\n",
    "\n",
    "# Assessing the index (row names)\n",
    "#print('Rows names: {}'.format(ds_train.index))"
   ]
  },
  {
   "cell_type": "code",
   "execution_count": null,
   "metadata": {},
   "outputs": [],
   "source": []
  },
  {
   "cell_type": "code",
   "execution_count": null,
   "metadata": {},
   "outputs": [],
   "source": []
  },
  {
   "cell_type": "code",
   "execution_count": null,
   "metadata": {},
   "outputs": [],
   "source": []
  },
  {
   "cell_type": "code",
   "execution_count": null,
   "metadata": {},
   "outputs": [],
   "source": []
  },
  {
   "cell_type": "code",
   "execution_count": null,
   "metadata": {},
   "outputs": [],
   "source": []
  }
 ],
 "metadata": {
  "kernelspec": {
   "display_name": "Python [conda root]",
   "language": "python",
   "name": "conda-root-py"
  },
  "language_info": {
   "codemirror_mode": {
    "name": "ipython",
    "version": 3
   },
   "file_extension": ".py",
   "mimetype": "text/x-python",
   "name": "python",
   "nbconvert_exporter": "python",
   "pygments_lexer": "ipython3",
   "version": "3.6.1"
  }
 },
 "nbformat": 4,
 "nbformat_minor": 2
}
