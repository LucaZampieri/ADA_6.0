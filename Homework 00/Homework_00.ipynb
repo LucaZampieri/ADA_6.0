{
 "cells": [
  {
   "cell_type": "markdown",
   "metadata": {},
   "source": [
    "#  Homework_00"
   ]
  },
  {
   "cell_type": "code",
   "execution_count": 2,
   "metadata": {},
   "outputs": [],
   "source": [
    "def is_number(s):\n",
    "    # This function checks whether the string s is actually a number or not.\n",
    "    #\n",
    "    #\n",
    "    try:\n",
    "        float(s)\n",
    "        return True\n",
    "    except ValueError:\n",
    "        pass\n",
    " \n",
    "    try:\n",
    "        import unicodedata\n",
    "        unicodedata.numeric(s)\n",
    "        return True\n",
    "    except (TypeError, ValueError):\n",
    "        pass\n",
    " \n",
    "    return False"
   ]
  },
  {
   "cell_type": "code",
   "execution_count": 8,
   "metadata": {},
   "outputs": [
    {
     "name": "stdout",
     "output_type": "stream",
     "text": [
      "[1.0, 'None selected', 'None selected', 'None selected', 'None selected', 33599.0, 316299978.0, 10.6]\n",
      "[2.0, 'None selected', 'None selected', 'None selected', 'White', 22079.0, 197369634.0, 11.2]\n",
      "[3.0, 'None selected', 'None selected', 'None selected', 'Black', 7765.0, 38896382.0, 20.0]\n",
      "[4.0, 'None selected', 'None selected', 'None selected', 'Hispanic', 3007.0, 54049078.0, 5.6]\n",
      "[5.0, 'None selected', 'None selected', 'None selected', 'Asian/Pacific Islander', 442.0, 16315561.0, 2.7]\n",
      "[6.0, 'None selected', 'None selected', 'None selected', 'Other', 306.0, 9669323.0, 3.2]\n",
      "[7.0, 'None selected', 'None selected', 'Under 15', 'None selected', 427.0, 61085868.0, 0.7]\n",
      "[8.0, 'None selected', 'None selected', 'Under 15', 'White', 242.0, 31538832.0, 0.8]\n",
      "[9.0, 'None selected', 'None selected', 'Under 15', 'Black', 109.0, 8323603.0, 1.3]\n",
      "168464.0\n",
      "537580.0\n",
      "0.3133747535250567\n"
     ]
    }
   ],
   "source": [
    "filename = 'interactive_data.csv'\n",
    "f = open(filename, newline='')\n",
    "\n",
    "reader_obj = csv.reader(f)  # the csv.reader object is an iterable object \n",
    "                            # (no random access allowed) that allows us\n",
    "                            # to access each row in it\n",
    "tot=0.   # total number of deaths\n",
    "how_many_suic=0.\n",
    "for index, row in enumerate(reader_obj):\n",
    "    if index>0: # the first row is just the header\n",
    "        \n",
    "        # hereunder I check every row entry, to appropriately modify it.\n",
    "        # It's necessary to modify only two cases: 'NA' entries (actually not necessary for\n",
    "        # our purpose) and numeric strings, to allow us to calculate its sum\n",
    "        \n",
    "        for i, col in enumerate(row):     \n",
    "            if col=='NA':\n",
    "                row[i]=float('nan')\n",
    "            if is_number(col):\n",
    "                row[i]=float(row[i])\n",
    "        #now that I've modified the row, let's count:\n",
    "        if row[1]==\"Suicide\":\n",
    "            how_many_suic+=row[5]\n",
    "        tot+=row[5]\n",
    "        \n",
    "        #let's print the first 10 modified lines:\n",
    "        if index<10:\n",
    "            print(row)\n",
    "            \n",
    "print(how_many_suic)\n",
    "print(tot)\n",
    "print(how_many_suic/tot)    #WHY DA FUCK IT GIVES ME 0.3? IT'S FUCKING CORRECT!\n",
    "                            #we also cecked with excel -.-\"\n",
    "        "
   ]
  },
  {
   "cell_type": "code",
   "execution_count": null,
   "metadata": {
    "collapsed": true
   },
   "outputs": [],
   "source": []
  }
 ],
 "metadata": {
  "kernelspec": {
   "display_name": "Python 3",
   "language": "python",
   "name": "python3"
  },
  "language_info": {
   "codemirror_mode": {
    "name": "ipython",
    "version": 3
   },
   "file_extension": ".py",
   "mimetype": "text/x-python",
   "name": "python",
   "nbconvert_exporter": "python",
   "pygments_lexer": "ipython3",
   "version": "3.6.1"
  }
 },
 "nbformat": 4,
 "nbformat_minor": 2
}
