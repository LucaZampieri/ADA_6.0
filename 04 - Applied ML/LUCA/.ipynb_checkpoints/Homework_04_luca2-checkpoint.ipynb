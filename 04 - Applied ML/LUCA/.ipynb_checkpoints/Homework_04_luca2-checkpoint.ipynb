{
 "cells": [
  {
   "cell_type": "markdown",
   "metadata": {},
   "source": [
    "## Deadline\n",
    "\n",
    "Wednesday, November 22, 2017, 11:59PM\n",
    "\n",
    "## Important notes\n",
    "\n",
    "- When you push your Notebook to GitHub, all the cells must already have been evaluated.\n",
    "- Don't forget to add a textual description of your thought process and of any assumptions you've made.\n",
    "- Please write all your comments in English, and use meaningful variable names in your code.\n",
    "\n",
    "## Question 1: Propensity score matching\n",
    "\n",
    "In this exercise, you will apply [propensity score matching](http://www.stewartschultz.com/statistics/books/Design%20of%20observational%20studies.pdf), which we discussed in lecture 5 (\"Observational studies\"), in order to draw conclusions from an observational study.\n",
    "\n",
    "We will work with a by-now classic dataset from Robert LaLonde's study \"[Evaluating the Econometric Evaluations of Training Programs](http://people.hbs.edu/nashraf/LaLonde_1986.pdf)\" (1986).\n",
    "The study investigated the effect of a job training program (\"National Supported Work Demonstration\") on the real earnings of an individual, a couple of years after completion of the program.\n",
    "Your task is to determine the effectiveness of the \"treatment\" represented by the job training program.\n",
    "\n",
    "#### Dataset description\n",
    "\n",
    "- `treat`: 1 if the subject participated in the job training program, 0 otherwise\n",
    "- `age`: the subject's age\n",
    "- `educ`: years of education\n",
    "- `race`: categorical variable with three possible values: Black, Hispanic, or White\n",
    "- `married`: 1 if the subject was married at the time of the training program, 0 otherwise\n",
    "- `nodegree`: 1 if the subject has earned no school degree, 0 otherwise\n",
    "- `re74`: real earnings in 1974 (pre-treatment)\n",
    "- `re75`: real earnings in 1975 (pre-treatment)\n",
    "- `re78`: real earnings in 1978 (outcome)\n",
    "\n",
    "If you want to brush up your knowledge on propensity scores and observational studies, we highly recommend Rosenbaum's excellent book on the [\"Design of Observational Studies\"](http://www.stewartschultz.com/statistics/books/Design%20of%20observational%20studies.pdf). Even just reading the first chapter (18 pages) will help you a lot.\n",
    "\n",
    "#### 1. A naive analysis\n",
    "\n",
    "Compare the distribution of the outcome variable (`re78`) between the two groups, using plots and numbers.\n",
    "To summarize and compare the distributions, you may use the techniques we discussed in lectures 4 (\"Read the stats carefully\") and 6 (\"Data visualization\").\n",
    "\n",
    "What might a naive \"researcher\" conclude from this superficial analysis?\n",
    "\n",
    "#### 2. A closer look at the data\n",
    "\n",
    "You're not naive, of course (and even if you are, you've learned certain things in ADA), so you aren't content with a superficial analysis such as the above.\n",
    "You're aware of the dangers of observational studies, so you take a closer look at the data before jumping to conclusions.\n",
    "\n",
    "For each feature in the dataset, compare its distribution in the treated group with its distribution in the control group, using plots and numbers.\n",
    "As above, you may use the techniques we discussed in class for summarizing and comparing the distributions.\n",
    "\n",
    "What do you observe?\n",
    "Describe what your observations mean for the conclusions drawn by the naive \"researcher\" from his superficial analysis.\n",
    "\n",
    "#### 3. A propsensity score model\n",
    "\n",
    "Use logistic regression to estimate propensity scores for all points in the dataset.\n",
    "You may use `sklearn` to fit the logistic regression model and apply it to each data point to obtain propensity scores:\n",
    "\n",
    "```python\n",
    "from sklearn import linear_model\n",
    "logistic = linear_model.LogisticRegression()\n",
    "```\n",
    "\n",
    "Recall that the propensity score of a data point represents its probability of receiving the treatment, based on its pre-treatment features (in this case, age, education, pre-treatment income, etc.).\n",
    "To brush up on propensity scores, you may read chapter 3.3 of the above-cited book by Rosenbaum or [this article](https://drive.google.com/file/d/0B4jctQY-uqhzTlpBaTBJRTJFVFE/view).\n",
    "\n",
    "Note: you do not need a train/test split here. Train and apply the model on the entire dataset. If you're wondering why this is the right thing to do in this situation, recall that the propensity score model is not used in order to make predictions about unseen data. Its sole purpose is to balance the dataset across treatment groups.\n",
    "(See p. 74 of Rosenbaum's book for an explanation why slight overfitting is even good for propensity scores.\n",
    "If you want even more information, read [this article](https://drive.google.com/file/d/0B4jctQY-uqhzTlpBaTBJRTJFVFE/view).)\n",
    "\n",
    "#### 4. Balancing the dataset via matching\n",
    "\n",
    "Use the propensity scores to match each data point from the treated group with exactly one data point from the control group, while ensuring that each data point from the control group is matched with at most one data point from the treated group.\n",
    "(Hint: you may explore the `networkx` package in Python for predefined matching functions.)\n",
    "\n",
    "Your matching should maximize the similarity between matched subjects, as captured by their propensity scores.\n",
    "In other words, the sum (over all matched pairs) of absolute propensity-score differences between the two matched subjects should be minimized.\n",
    "\n",
    "After matching, you have as many treated as you have control subjects.\n",
    "Compare the outcomes (`re78`) between the two groups (treated and control).\n",
    "\n",
    "Also, compare again the feature-value distributions between the two groups, as you've done in part 2 above, but now only for the matched subjects.\n",
    "What do you observe?\n",
    "Are you closer to being able to draw valid conclusions now than you were before?\n",
    "\n",
    "\n",
    "#### 5. Balancing the groups further\n",
    "\n",
    "Based on your comparison of feature-value distributions from part 4, are you fully satisfied with your matching?\n",
    "Would you say your dataset is sufficiently balanced?\n",
    "If not, in what ways could the \"balanced\" dataset you have obtained still not allow you to draw valid conclusions?\n",
    "\n",
    "Improve your matching by explicitly making sure that you match only subjects that have the same value for the problematic feature.\n",
    "Argue with numbers and plots that the two groups (treated and control) are now better balanced than after part 4.\n",
    "\n",
    "\n",
    "#### 6. A less naive analysis\n",
    "\n",
    "Compare the outcomes (`re78`) between treated and control subjects, as you've done in part 1, but now only for the matched dataset you've obtained from part 5.\n",
    "What do you conclude about the effectiveness of the job training program?\n",
    "\n",
    "\n",
    "___\n",
    "\n",
    "## Question 2: Applied ML\n",
    "\n",
    "We are going to build a classifier of news to directly assign them to 20 news categories. Note that the pipeline that you will build in this exercise could be of great help during your project if you plan to work with text!\n",
    "\n",
    "1. Load the 20newsgroup dataset. It is, again, a classic dataset that can directly be loaded using sklearn ([link](http://scikit-learn.org/stable/datasets/twenty_newsgroups.html)).  \n",
    "[TF-IDF](https://en.wikipedia.org/wiki/Tf%E2%80%93idf), short for term frequency–inverse document frequency, is of great help when if comes to compute textual features. Indeed, it gives more importance to terms that are more specific to the considered articles (TF) but reduces the importance of terms that are very frequent in the entire corpus (IDF). Compute TF-IDF features for every article using [TfidfVectorizer](http://scikit-learn.org/stable/modules/generated/sklearn.feature_extraction.text.TfidfVectorizer.html). Then, split your dataset into a training, a testing and a validation set (10% for validation and 10% for testing). Each observation should be paired with its corresponding label (the article category).\n",
    "\n",
    "\n",
    "2. Train a random forest on your training set. Try to fine-tune the parameters of your predictor on your validation set using a simple grid search on the number of estimator \"n_estimators\" and the max depth of the trees \"max_depth\". Then, display a confusion matrix of your classification pipeline. Lastly, once you assessed your model, inspect the `feature_importances_` attribute of your random forest and discuss the obtained results.\n",
    "\n",
    "\n"
   ]
  },
  {
   "cell_type": "markdown",
   "metadata": {},
   "source": [
    "# 1. Propensity score matching"
   ]
  },
  {
   "cell_type": "code",
   "execution_count": 25,
   "metadata": {
    "collapsed": true
   },
   "outputs": [],
   "source": [
    "# Import libraries\n",
    "import pandas as pd\n",
    "import numpy as np\n",
    "\n",
    "import matplotlib.pyplot as plt\n",
    "import seaborn as sns\n",
    "%matplotlib inline "
   ]
  },
  {
   "cell_type": "code",
   "execution_count": null,
   "metadata": {
    "collapsed": true
   },
   "outputs": [],
   "source": [
    "# Load dataset\n",
    "df = pd.read_csv('lalonde.csv')\n",
    "df.head(5)\n",
    "df.tail(5)"
   ]
  },
  {
   "cell_type": "markdown",
   "metadata": {},
   "source": [
    "## 1.1 A naive analysis"
   ]
  },
  {
   "cell_type": "markdown",
   "metadata": {},
   "source": [
    "Compare the distribution of the outcome variable (re78) between the two groups, using plots and numbers. To summarize and compare the distributions, you may use the techniques we discussed in lectures 4 (\"Read the stats carefully\") and 6 (\"Data visualization\").\n",
    "What might a naive \"researcher\" conclude from this superficial analysis?"
   ]
  },
  {
   "cell_type": "code",
   "execution_count": null,
   "metadata": {
    "collapsed": true
   },
   "outputs": [],
   "source": [
    "treat_df = df[df.treat == 1]\n",
    "treat_df.describe()"
   ]
  },
  {
   "cell_type": "code",
   "execution_count": null,
   "metadata": {
    "collapsed": true
   },
   "outputs": [],
   "source": [
    "control_df = df[df.treat == 0]\n",
    "control_df.describe()"
   ]
  },
  {
   "cell_type": "markdown",
   "metadata": {},
   "source": [
    "We notice that the two groups \"treat\" and \"control\" differ a lot in term of average income in '74 before the treatment:\n",
    "* mean of income in '74 for subjects that took part in the training program = **2095.57**\n",
    "* mean of income in '74 for subjects that didn't take part in the training program = **5619.23**\n",
    "\n",
    "in order to correctly study the effectiveness of the treatment and to correctly compare the two groups we'll use the folling quantity:\n",
    "\n",
    "**Income in '78 (after the training program) - Income in '74 (before the training program)**\n",
    "\n",
    "In other words, we'll compare the _increase of salary_ for the two groups, and not just the salary measured in '78, as suggested in the assignment. In our opinion this makes much more sense, since the two groups in this dataset are definetly unequal under this paramenter.\n",
    "\n",
    "## First naïve visualization of the data:\n",
    "here we visualize the distribution of the increase of income for the two groups:\n",
    "* we visualize the distributions of the increase of income on the same graph for the two groups;\n",
    "* we visualize two boxplots of the two distributions already plotted to get a better understanding of the data"
   ]
  },
  {
   "cell_type": "code",
   "execution_count": null,
   "metadata": {
    "collapsed": true
   },
   "outputs": [],
   "source": [
    "# Visualizing distributions\n",
    "income_increase_treatment = treat_df.re78-treat_df.re74\n",
    "income_increase_control = control_df.re78-control_df.re74\n",
    "\n",
    "plt.figure(figsize=(15,7))\n",
    "# plotting the distribution of the income increase for treatment group\n",
    "ax1 = sns.distplot(income_increase_treatment, kde=True, color=\"g\")\n",
    "ax1.set_ylabel('# of people', fontsize=16).set_weight('bold')\n",
    "ax1.set_xlabel('Outcome', fontsize=16).set_weight('bold')\n",
    "# plotting the distribution of the income increase for control group\n",
    "ax2 = sns.distplot(income_increase_control, kde=True, color=\"r\")"
   ]
  },
  {
   "cell_type": "code",
   "execution_count": null,
   "metadata": {
    "collapsed": true,
    "scrolled": true
   },
   "outputs": [],
   "source": [
    "plt.figure(figsize=(15,7))\n",
    "ax1 = sns.distplot(income_increase_treatment, kde=True, color=\"g\")\n",
    "ax1.set_ylabel('# of people', fontsize=16).set_weight('bold')\n",
    "ax1.set_xlabel('Outcome', fontsize=16).set_weight('bold')\n",
    "\n",
    "\n",
    "ax2 = sns.distplot(income_increase_control, kde=True, color=\"r\")"
   ]
  },
  {
   "cell_type": "markdown",
   "metadata": {},
   "source": [
    "We can see that the distribution for the people that took part in the program (in green) is **clearly shifted to the right** siggesting (at first sight) a clear effectiveness of the training program! Let's visualize the boxplots of the two distributions to get a better understanding of them:"
   ]
  },
  {
   "cell_type": "code",
   "execution_count": null,
   "metadata": {
    "collapsed": true
   },
   "outputs": [],
   "source": [
    "# Stats for people who participated on the training program\n",
    "print('Skew:', income_increase_treatment.skew())\n",
    "print(income_increase_treatment.describe())\n",
    "\n",
    "# Visualisation of the distribution with a boxplot\n",
    "maxvalue = np.max(income_increase_treatment) * 1.05\n",
    "minvalue = np.min(income_increase_treatment) * 1.05\n",
    "plt.figure(figsize=(10,4))\n",
    "ax1 = sns.boxplot(x=income_increase_treatment, palette=\"Set2\")\n",
    "plt.title('Income increase for partecipants of the program from \\'74 (pre-training) to \\'78 (post-training)', fontsize=20).set_weight('bold')\n",
    "ax1.set_xlabel('Income increase', fontsize=16).set_weight('bold')\n",
    "plt.xlim(minvalue, maxvalue)"
   ]
  },
  {
   "cell_type": "code",
   "execution_count": null,
   "metadata": {
    "collapsed": true
   },
   "outputs": [],
   "source": [
    "# Stats for people who don't participated to the training program\n",
    "print('Skew:', income_increase_control.skew())\n",
    "print(income_increase_control.describe())\n",
    "maxvalue = np.max(income_increase_control) * 1.05\n",
    "minvalue = np.min(income_increase_control) * 1.05\n",
    "plt.figure(figsize=(10,4))\n",
    "ax1 = sns.boxplot(x=income_increase_control, palette=\"Set1\")\n",
    "plt.title('Income increase for control group from \\'74 (pre-training) to \\'78 (post training)', fontsize=20).set_weight('bold')\n",
    "ax1.set_xlabel('Income increase', fontsize=16).set_weight('bold')\n",
    "plt.xlim(minvalue, maxvalue)"
   ]
  },
  {
   "cell_type": "markdown",
   "metadata": {},
   "source": [
    "With a Naive analysis, it can be concluded:\n",
    "- The mean income increase change a lot with the training programs!\n",
    "    * mean income increase for partecipants in the program: **4253.14**\n",
    "    * mean income increase for non-partecipants in the program: **1364.93**\n",
    "- The distributions of the outcome of people that have assisted in training programs is more heavy tailed (positive skewed). If the maximum income in '78 is compared, the one for people that have assisted to the program is 60'307 chf and the one of the people that does not assited is 25'564. \n",
    "- The number of observations differ heavily: we have only 185 people in the treated group, and 429 people in the control group"
   ]
  },
  {
   "cell_type": "markdown",
   "metadata": {},
   "source": [
    "## 1.2) A closer look to the data"
   ]
  },
  {
   "cell_type": "markdown",
   "metadata": {},
   "source": [
    "You're not naive, of course (and even if you are, you've learned certain things in ADA), so you aren't content with a superficial analysis such as the above. You're aware of the dangers of observational studies, so you take a closer look at the data before jumping to conclusions.\n",
    "For each feature in the dataset, compare its distribution in the treated group with its distribution in the control group, using plots and numbers. As above, you may use the techniques we discussed in class for summarizing and comparing the distributions.\n",
    "What do you observe? Describe what your observations mean for the conclusions drawn by the naive \"researcher\" from his superficial analysis."
   ]
  },
  {
   "cell_type": "markdown",
   "metadata": {},
   "source": [
    "#### Plot helper functions"
   ]
  },
  {
   "cell_type": "code",
   "execution_count": null,
   "metadata": {
    "collapsed": true
   },
   "outputs": [],
   "source": [
    "# Plot helper functions\n",
    "def value_barplot_label(plot_name):\n",
    "    # Inserts the value label on the top of each bar.\n",
    "\n",
    "    for p in plot_name.patches:\n",
    "        height = p.get_height()\n",
    "        ax.text(p.get_x()+p.get_width()/2., height,'{:0.0f}'.format(height), ha=\"center\").set_weight('bold')\n",
    "\n",
    "def tick_format(plot,tick_type):\n",
    "    if tick_type == 1:\n",
    "        for label in plot.get_xticklabels():\n",
    "            label.set_fontsize(16)\n",
    "            label.set_rotation(90)\n",
    "            \n",
    "        for label in plot.get_yticklabels():\n",
    "            label.set_fontsize(14)\n",
    "        \n",
    "    if tick_type == 2:\n",
    "        for label in plot.get_xticklabels():\n",
    "            label.set_fontsize(16)\n",
    "\n",
    "        for label in plot.get_yticklabels():\n",
    "            label.set_fontsize(14)\n",
    "\n",
    "def value_counts_plot(feature, title, xlabel, ylabel):\n",
    "    # Visualize how many universitie sper country are there in the best 200 ranking\n",
    "    plt.figure(figsize=(7,5))\n",
    "    ax = sns.barplot(x=df[feature].value_counts().index, y=df[feature].value_counts())\n",
    "    plt.title(title, fontsize=25).set_weight('bold')\n",
    "    tick_format(ax, 2)\n",
    "    value_barplot_label(ax)\n",
    "    ax.set_ylabel(ylabel, fontsize=16).set_weight('bold')\n",
    "    ax.set_xlabel(xlabel, fontsize=16).set_weight('bold')"
   ]
  },
  {
   "cell_type": "markdown",
   "metadata": {},
   "source": [
    "### 1.2.1 treat"
   ]
  },
  {
   "cell_type": "code",
   "execution_count": null,
   "metadata": {
    "collapsed": true,
    "scrolled": true
   },
   "outputs": [],
   "source": [
    "# Visualize \n",
    "plt.figure(figsize=(7,5))\n",
    "ax = sns.barplot(x=df.treat.value_counts().index, y=df.treat.value_counts())\n",
    "plt.title(\"Treated and control group\", fontsize=25).set_weight('bold')\n",
    "tick_format(ax, 2)\n",
    "value_barplot_label(ax)\n",
    "ax.set_ylabel('number on people', fontsize=16).set_weight('bold')\n",
    "ax.set_xlabel('0: control group, 1: treated group', fontsize=16).set_weight('bold')"
   ]
  },
  {
   "cell_type": "markdown",
   "metadata": {},
   "source": [
    "### 1.2.2 Age"
   ]
  },
  {
   "cell_type": "code",
   "execution_count": null,
   "metadata": {
    "collapsed": true
   },
   "outputs": [],
   "source": [
    "# Treat value counts\n",
    "# Visualize \n",
    "plt.figure(figsize=(15,5))\n",
    "ax = sns.countplot(x=df.age, palette=\"Greens\")\n",
    "plt.title(\"Age distribution\", fontsize=25).set_weight('bold')\n",
    "tick_format(ax, 2)\n",
    "value_barplot_label(ax)\n",
    "ax.set_ylabel('Count', fontsize=16).set_weight('bold')\n",
    "ax.set_xlabel('Age', fontsize=16).set_weight('bold')\n",
    "\n",
    "print(\"Age describe: \", df.age.describe())"
   ]
  },
  {
   "cell_type": "code",
   "execution_count": null,
   "metadata": {
    "collapsed": true
   },
   "outputs": [],
   "source": [
    "# Visualizing distributions\n",
    "part_age = df[df.treat == 1].age[df[df.treat == 1].age != 0]\n",
    "nonpart_age = df[df.treat == 0].age[df[df.treat == 0].age != 0]\n",
    "\n",
    "plt.figure(figsize=(15,7))\n",
    "ax1 = sns.distplot(part_age, kde=True, color=\"g\")\n",
    "ax1.set_ylabel('% of people', fontsize=16).set_weight('bold')\n",
    "ax1.set_xlabel('Outcome', fontsize=16).set_weight('bold')\n",
    "ax1.legend(label='Non-assisted')\n",
    "ax2 = sns.distplot(nonpart_age, kde=True, color=\"r\")\n",
    "ax2.legend(label='Non-assisted')\n",
    "\n",
    "print(\"Assisted describe: \", part_age.describe())\n",
    "print(\"Assisted skew: \", part_age.skew())\n",
    "print(\"Non-Assisted describe: \", nonpart_age.describe())\n",
    "print(\"Non-Assisted skew: \", nonpart_age.skew())"
   ]
  },
  {
   "cell_type": "markdown",
   "metadata": {},
   "source": [
    "### 1.2.3 educ"
   ]
  },
  {
   "cell_type": "code",
   "execution_count": null,
   "metadata": {
    "collapsed": true
   },
   "outputs": [],
   "source": [
    "# Visualize \n",
    "plt.figure(figsize=(10,6))\n",
    "ax = sns.barplot(x=df.educ.value_counts().index, y=df.educ.value_counts(), palette=\"terrain_r\")\n",
    "plt.title(\"Years of education\", fontsize=25).set_weight('bold')\n",
    "tick_format(ax, 2)\n",
    "value_barplot_label(ax)\n",
    "ax.set_ylabel('Counts', fontsize=16).set_weight('bold')\n",
    "ax.set_xlabel('Years of education', fontsize=16).set_weight('bold')"
   ]
  },
  {
   "cell_type": "code",
   "execution_count": null,
   "metadata": {
    "collapsed": true
   },
   "outputs": [],
   "source": [
    "# Visualizing distributions\n",
    "part_educ = df[df.treat == 1].educ\n",
    "nonpart_educ = df[df.treat == 0].educ\n",
    "\n",
    "plt.figure(figsize=(15,7))\n",
    "ax1 = sns.distplot(part_educ, kde=True, color=\"g\")\n",
    "ax1.set_ylabel('% of people', fontsize=16).set_weight('bold')\n",
    "ax1.set_xlabel('Outcome', fontsize=16).set_weight('bold')\n",
    "ax1.legend(label='Non-assisted')\n",
    "ax2 = sns.distplot(nonpart_educ, kde=True, color=\"r\")\n",
    "ax2.legend(label='Non-assisted')\n",
    "\n",
    "print(\"Assisted describe: \", part_educ.describe())\n",
    "print(\"Assisted skew: \", part_educ.skew())\n",
    "print(\"Non-Assisted describe: \", nonpart_educ.describe())\n",
    "print(\"Non-Assisted skew: \", nonpart_educ.skew())"
   ]
  },
  {
   "cell_type": "markdown",
   "metadata": {},
   "source": [
    "### 1.2.3 race"
   ]
  },
  {
   "cell_type": "code",
   "execution_count": null,
   "metadata": {
    "collapsed": true
   },
   "outputs": [],
   "source": [
    "def add_race(df,x):\n",
    "    \n",
    "    if (df.black.loc[x]==0 & df.hispan.loc[x]==0):\n",
    "        race=0\n",
    "    elif (df.black.loc[x]==1 & df.hispan.loc[x]==0):\n",
    "        race=1\n",
    "    elif (df.black.loc[x]==0 & df.hispan.loc[x]==1):\n",
    "        race=2\n",
    "\n",
    "    return race"
   ]
  },
  {
   "cell_type": "code",
   "execution_count": null,
   "metadata": {
    "collapsed": true
   },
   "outputs": [],
   "source": [
    "df['race'] = 0\n",
    "df.race[df.black == 1] = 1\n",
    "df.race[df.hispan == 1] = 2"
   ]
  },
  {
   "cell_type": "code",
   "execution_count": null,
   "metadata": {
    "collapsed": true
   },
   "outputs": [],
   "source": [
    "# Visualize \n",
    "plt.figure(figsize=(7,5))\n",
    "ax = sns.barplot(x=df.race.value_counts().index, y=df.race.value_counts())\n",
    "plt.title(\"Race\", fontsize=25).set_weight('bold')\n",
    "tick_format(ax, 2)\n",
    "value_barplot_label(ax)\n",
    "ax.set_ylabel('Count', fontsize=16).set_weight('bold')\n",
    "ax.set_xlabel('0: White, 1:Black, 2:Hispan', fontsize=16).set_weight('bold')"
   ]
  },
  {
   "cell_type": "markdown",
   "metadata": {},
   "source": [
    "We can see that the race of the participants is also unbalanced."
   ]
  },
  {
   "cell_type": "code",
   "execution_count": null,
   "metadata": {
    "collapsed": true
   },
   "outputs": [],
   "source": [
    "plt.figure(figsize=(7,5))\n",
    "ax = sns.factorplot(x=\"race\", y=\"treat\", data=df,\n",
    "                   size=6, kind=\"bar\", palette=\"muted\")\n",
    "plt.title(\"Participation rate per race\", fontsize=25).set_weight('bold')\n",
    "ax.set_ylabels(\"Participation rate\", fontsize=16)\n",
    "ax.set_xlabels(\"0: White, 1:Black, 2:Hispan\", fontsize=16)"
   ]
  },
  {
   "cell_type": "markdown",
   "metadata": {},
   "source": [
    "### 1.2.4 married"
   ]
  },
  {
   "cell_type": "code",
   "execution_count": null,
   "metadata": {
    "collapsed": true
   },
   "outputs": [],
   "source": [
    "# Visualize \n",
    "plt.figure(figsize=(7,5))\n",
    "ax = sns.barplot(x=df.married.value_counts().index, y=df.married.value_counts())\n",
    "plt.title(\"Married\", fontsize=25).set_weight('bold')\n",
    "tick_format(ax, 2)\n",
    "value_barplot_label(ax)\n",
    "ax.set_ylabel('Count', fontsize=16).set_weight('bold')\n",
    "ax.set_xlabel('0: Non-married, 1:Married', fontsize=16).set_weight('bold')"
   ]
  },
  {
   "cell_type": "code",
   "execution_count": null,
   "metadata": {
    "collapsed": true
   },
   "outputs": [],
   "source": [
    "plt.figure(figsize=(7,5))\n",
    "ax = sns.factorplot(x=\"married\", y=\"treat\", data=df,\n",
    "                   size=6, kind=\"bar\", palette=\"muted\")\n",
    "plt.title(\"Participation rate per marriage\", fontsize=25).set_weight('bold')\n",
    "ax.set_ylabels(\"Participation rate\", fontsize=16)\n",
    "ax.set_xlabels(\"0: Non-married, 1:Married\", fontsize=16)"
   ]
  },
  {
   "cell_type": "markdown",
   "metadata": {},
   "source": [
    "### 1.2.5 Non degree"
   ]
  },
  {
   "cell_type": "code",
   "execution_count": null,
   "metadata": {
    "collapsed": true
   },
   "outputs": [],
   "source": [
    "# Visualize \n",
    "plt.figure(figsize=(7,5))\n",
    "ax = sns.barplot(x=df.nodegree.value_counts().index, y=df.nodegree.value_counts())\n",
    "plt.title(\"School degree\", fontsize=25).set_weight('bold')\n",
    "tick_format(ax, 2)\n",
    "value_barplot_label(ax)\n",
    "ax.set_ylabel('Count', fontsize=16).set_weight('bold')\n",
    "ax.set_xlabel('0: YES    1:NO', fontsize=16).set_weight('bold')"
   ]
  },
  {
   "cell_type": "code",
   "execution_count": null,
   "metadata": {
    "collapsed": true
   },
   "outputs": [],
   "source": [
    "plt.figure(figsize=(7,5))\n",
    "ax = sns.factorplot(x=\"nodegree\", y=\"treat\", data=df,\n",
    "                   size=6, kind=\"bar\", palette=\"muted\")\n",
    "plt.title(\"Participation rate per school degree obtention\", fontsize=25).set_weight('bold')\n",
    "ax.set_ylabels(\"Participation rate\", fontsize=16)\n",
    "ax.set_xlabels(\"0: YES    1:NO\", fontsize=16)"
   ]
  },
  {
   "cell_type": "markdown",
   "metadata": {},
   "source": [
    "### 1.2.6 re74"
   ]
  },
  {
   "cell_type": "markdown",
   "metadata": {},
   "source": [
    "### 1.2.7 re75"
   ]
  },
  {
   "cell_type": "markdown",
   "metadata": {},
   "source": [
    "### 1.2.8 re78"
   ]
  },
  {
   "cell_type": "markdown",
   "metadata": {},
   "source": [
    "## 1.3 A propensity score model\n",
    "Use logistic regression to estimate propensity scores for all points in the dataset.\n",
    "You may use `sklearn` to fit the logistic regression model and apply it to each data point to obtain propensity scores:\n",
    "\n",
    "```python\n",
    "from sklearn import linear_model\n",
    "logistic = linear_model.LogisticRegression()\n",
    "```\n",
    "\n",
    "Recall that the propensity score of a data point represents its probability of receiving the treatment, based on its pre-treatment features (in this case, age, education, pre-treatment income, etc.).\n",
    "To brush up on propensity scores, you may read chapter 3.3 of the above-cited book by Rosenbaum or [this article](https://drive.google.com/file/d/0B4jctQY-uqhzTlpBaTBJRTJFVFE/view).\n",
    "\n",
    "Note: you do not need a train/test split here. Train and apply the model on the entire dataset. If you're wondering why this is the right thing to do in this situation, recall that the propensity score model is not used in order to make predictions about unseen data. Its sole purpose is to balance the dataset across treatment groups.\n",
    "(See p. 74 of Rosenbaum's book for an explanation why slight overfitting is even good for propensity scores.\n",
    "If you want even more information, read [this article](https://drive.google.com/file/d/0B4jctQY-uqhzTlpBaTBJRTJFVFE/view).)\n"
   ]
  },
  {
   "cell_type": "code",
   "execution_count": null,
   "metadata": {
    "collapsed": true
   },
   "outputs": [],
   "source": [
    "# Import ML library\n",
    "from sklearn import linear_model\n",
    "from sklearn.metrics import confusion_matrix, classification_report\n",
    "\n",
    "# Build a regressor\n",
    "logistic = linear_model.LogisticRegression()"
   ]
  },
  {
   "cell_type": "code",
   "execution_count": null,
   "metadata": {
    "collapsed": true
   },
   "outputs": [],
   "source": [
    "# Create feature matrix and prediction vector\n",
    "feature_cols = ['age', 'educ', 'race', 'married', 'nodegree','re74','re75','re78']\n",
    "X = df[feature_cols]\n",
    "y = df.treat\n",
    "\n",
    "X.describe()"
   ]
  },
  {
   "cell_type": "code",
   "execution_count": null,
   "metadata": {
    "collapsed": true
   },
   "outputs": [],
   "source": [
    "logistic.fit(X, y)  # train it"
   ]
  },
  {
   "cell_type": "code",
   "execution_count": null,
   "metadata": {
    "collapsed": true,
    "scrolled": true
   },
   "outputs": [],
   "source": [
    "pred = logistic.predict_proba(X)\n",
    "propensity_score=pred[:,1]\n",
    "\n",
    "y_pred = logistic.predict(X)\n",
    "df['prediction']= y_pred\n",
    "df['propensity score']= propensity_score"
   ]
  },
  {
   "cell_type": "code",
   "execution_count": null,
   "metadata": {
    "collapsed": true
   },
   "outputs": [],
   "source": [
    "df.head()"
   ]
  },
  {
   "cell_type": "code",
   "execution_count": null,
   "metadata": {
    "collapsed": true
   },
   "outputs": [],
   "source": [
    "print(classification_report(y, y_pred))"
   ]
  },
  {
   "cell_type": "markdown",
   "metadata": {},
   "source": [
    "## 1.4 Balancing the dataset via matching\n",
    "\n",
    "Use the propensity scores to match each data point from the treated group with exactly one data point from the control group, while ensuring that each data point from the control group is matched with at most one data point from the treated group.\n",
    "(Hint: you may explore the `networkx` package in Python for predefined matching functions.)\n",
    "\n",
    "Your matching should maximize the similarity between matched subjects, as captured by their propensity scores.\n",
    "In other words, the sum (over all matched pairs) of absolute propensity-score differences between the two matched subjects should be minimized.\n",
    "\n",
    "After matching, you have as many treated as you have control subjects.\n",
    "Compare the outcomes (`re78`) between the two groups (treated and control).\n",
    "\n",
    "Also, compare again the feature-value distributions between the two groups, as you've done in part 2 above, but now only for the matched subjects.\n",
    "What do you observe?\n",
    "Are you closer to being able to draw valid conclusions now than you were before?"
   ]
  },
  {
   "cell_type": "markdown",
   "metadata": {},
   "source": [
    "## ANSWER \n",
    "As LaLonde suggests in his work, \"the mean earnings of the AFDC treatments and the AFDC controls in the year before train- ing differ by $2, the mean age of the two groups differ by 3 months, and the mean years of schooling are identical. None of the differences between the treatment's and control's characteristics, hours, and earnings are statistically significant.\""
   ]
  },
  {
   "cell_type": "code",
   "execution_count": null,
   "metadata": {
    "collapsed": true
   },
   "outputs": [],
   "source": [
    "from scipy.optimize import linear_sum_assignment\n",
    "\n",
    "control_df = df[df['treat']==0].reset_index(drop=True)\n",
    "treat_df = df[df['treat']==1].reset_index(drop=True)\n",
    "\n",
    "def match(treat_df, control_df):\n",
    "    \n",
    "    # we store in prop1, prop2 the vectors of the propensity scorse of the two groups\n",
    "    prop1 = treat_df['propensity score']\n",
    "    prop0 = control_df['propensity score']\n",
    "    \n",
    "    # building the matrix of costs of the arches of the bipartite graph\n",
    "    cost = np.array([np.abs(p-prop0) for p in prop1])\n",
    "    \n",
    "    # With this simple command we find the desired matches!\n",
    "    row_ind, col_ind = linear_sum_assignment(cost)\n",
    "    \n",
    "    # we extract the matched people from treatment and control group\n",
    "    matched_treat_df = treat_df.loc[row_ind]\n",
    "    matched_control_df = control_df.loc[col_ind]\n",
    "    # we add a new feature to the treatment: the ID of the matched person in the control group\n",
    "    matched_treat_df['matched control ID']=col_ind\n",
    "    # we merge the dataframe, to have the data of the matched people on the same row!\n",
    "    merged_df = pd.merge(matched_treat_df, matched_control_df,left_on='matched control ID', right_index=True)\n",
    "    \n",
    "    # we creae the new feature 'RESULTS OF TREATMENT'\n",
    "    merged_df['RESULT OF TREATMENT']=(merged_df.re78_x-merged_df.re74_x)-\\\n",
    "                                     (merged_df.re78_y-merged_df.re74_y)\n",
    "    # we create the concatenated dataframe with the matched control and treatment group\n",
    "    concat_df = pd.concat([matched_treat_df, matched_control_df])\n",
    "    \n",
    "    return matched_treat_df,matched_control_df, merged_df, concat_df\n",
    "\n",
    "\n",
    "treat_df, new_control_df, matched_df, new_df = match(treat_df, control_df)\n"
   ]
  },
  {
   "cell_type": "markdown",
   "metadata": {},
   "source": [
    "Oh yeah! Let's go for the viz:"
   ]
  },
  {
   "cell_type": "code",
   "execution_count": null,
   "metadata": {
    "collapsed": true
   },
   "outputs": [],
   "source": [
    "# Visualizing distributions\n",
    "part = treat_df.re78-treat_df.re74\n",
    "nonpart = new_control_df.re78 - new_control_df.re74\n",
    "\n",
    "plt.figure(figsize=(15,7))\n",
    "ax1 = sns.distplot(part, kde=True, color=\"g\")\n",
    "ax1.set_ylabel('# of people', fontsize=16).set_weight('bold')\n",
    "ax1.set_xlabel('Outcome', fontsize=16).set_weight('bold')\n",
    "ax1.legend(label='Non-assisted')\n",
    "\n",
    "ax2 = sns.distplot(nonpart, kde=True, color=\"r\")\n",
    "ax2.legend(label='Non-assisted')"
   ]
  },
  {
   "cell_type": "markdown",
   "metadata": {},
   "source": [
    "Just a check on the merged dataframe: this should return cost[row_ind, col_ind].sum()"
   ]
  },
  {
   "cell_type": "markdown",
   "metadata": {
    "collapsed": true
   },
   "source": [
    "We see that now **the clear shift to the right of the green distribution is disappeared!**"
   ]
  },
  {
   "cell_type": "code",
   "execution_count": null,
   "metadata": {
    "collapsed": true
   },
   "outputs": [],
   "source": [
    "(abs(matched_df['propensity score_x']-matched_df['propensity score_y'])).sum()"
   ]
  },
  {
   "cell_type": "code",
   "execution_count": null,
   "metadata": {
    "collapsed": true
   },
   "outputs": [],
   "source": [
    "# Visualizing distributions\n",
    "plt.figure(figsize=(15,7))\n",
    "ax1 = sns.boxplot(matched_df['RESULT OF TREATMENT'], color=\"g\")\n",
    "ax1.set_ylabel('Result of treatment', fontsize=16).set_weight('bold')\n",
    "ax1.set_xlabel('Difference in increase of income', fontsize=16).set_weight('bold')\n",
    "ax1.legend(label='difference')"
   ]
  },
  {
   "cell_type": "markdown",
   "metadata": {},
   "source": [
    "Let's repeat the analysis of point 1.2 with the new control group:"
   ]
  },
  {
   "cell_type": "code",
   "execution_count": null,
   "metadata": {
    "collapsed": true,
    "scrolled": true
   },
   "outputs": [],
   "source": [
    "# Visualize \n",
    "plt.figure(figsize=(7,5))\n",
    "ax = sns.barplot(x=new_df.treat.value_counts().index, y=new_df.treat.value_counts())\n",
    "plt.title(\"Training program\", fontsize=25).set_weight('bold')\n",
    "tick_format(ax, 2)\n",
    "value_barplot_label(ax)\n",
    "ax.set_ylabel('Count', fontsize=16).set_weight('bold')\n",
    "ax.set_xlabel('0: Not-assisted, 1: Assisted', fontsize=16).set_weight('bold')"
   ]
  },
  {
   "cell_type": "markdown",
   "metadata": {},
   "source": [
    "### 1.2.2 Age"
   ]
  },
  {
   "cell_type": "code",
   "execution_count": null,
   "metadata": {
    "collapsed": true
   },
   "outputs": [],
   "source": [
    "# Visualizing distributions\n",
    "part_age = new_df[new_df.treat == 1].age[new_df[new_df.treat == 1].age != 0]\n",
    "nonpart_age = new_df[new_df.treat == 0].age[new_df[new_df.treat == 0].age != 0]\n",
    "\n",
    "plt.figure(figsize=(15,7))\n",
    "ax1 = sns.distplot(part_age, kde=True, color=\"g\")\n",
    "ax1.set_ylabel('% of people', fontsize=16).set_weight('bold')\n",
    "ax1.set_xlabel('Outcome', fontsize=16).set_weight('bold')\n",
    "ax1.legend(label='Non-assisted')\n",
    "ax2 = sns.distplot(nonpart_age, kde=True, color=\"r\")\n",
    "ax2.legend(label='Non-assisted')\n",
    "\n",
    "print(\"Assisted describe: \", part_age.describe())\n",
    "print(\"Assisted skew: \", part_age.skew())\n",
    "print(\"Non-Assisted describe: \", nonpart_age.describe())\n",
    "print(\"Non-Assisted skew: \", nonpart_age.skew())"
   ]
  },
  {
   "cell_type": "markdown",
   "metadata": {},
   "source": [
    "### 1.2.3 educ"
   ]
  },
  {
   "cell_type": "code",
   "execution_count": null,
   "metadata": {
    "collapsed": true
   },
   "outputs": [],
   "source": [
    "# Visualizing distributions\n",
    "part_educ = new_df[new_df.treat == 1].educ\n",
    "nonpart_educ = new_df[new_df.treat == 0].educ\n",
    "\n",
    "plt.figure(figsize=(15,7))\n",
    "ax1 = sns.distplot(part_educ, kde=True, color=\"g\")\n",
    "ax1.set_ylabel('% of people', fontsize=16).set_weight('bold')\n",
    "ax1.set_xlabel('Outcome', fontsize=16).set_weight('bold')\n",
    "ax1.legend(label='Non-assisted')\n",
    "ax2 = sns.distplot(nonpart_educ, kde=True, color=\"r\")\n",
    "ax2.legend(label='Non-assisted')\n",
    "\n",
    "print(\"Assisted describe: \", part_educ.describe())\n",
    "print(\"Assisted skew: \", part_educ.skew())\n",
    "print(\"Non-Assisted describe: \", nonpart_educ.describe())\n",
    "print(\"Non-Assisted skew: \", nonpart_educ.skew())"
   ]
  },
  {
   "cell_type": "markdown",
   "metadata": {},
   "source": [
    "### 1.2.3 race"
   ]
  },
  {
   "cell_type": "code",
   "execution_count": null,
   "metadata": {
    "collapsed": true
   },
   "outputs": [],
   "source": [
    "plt.figure(figsize=(7,5))\n",
    "ax = sns.factorplot(x=\"race\", y=\"treat\", data=new_df,\n",
    "                   size=6, kind=\"bar\", palette=\"muted\")\n",
    "plt.title(\"Participation rate per race\", fontsize=25).set_weight('bold')\n",
    "ax.set_ylabels(\"Participation rate\", fontsize=16)\n",
    "ax.set_xlabels(\"0: White, 1:Black, 2:Hispan\", fontsize=16)"
   ]
  },
  {
   "cell_type": "markdown",
   "metadata": {},
   "source": [
    "### 1.2.4 married"
   ]
  },
  {
   "cell_type": "code",
   "execution_count": null,
   "metadata": {
    "collapsed": true
   },
   "outputs": [],
   "source": [
    "plt.figure(figsize=(7,5))\n",
    "ax = sns.factorplot(x=\"married\", y=\"treat\", data=new_df,\n",
    "                   size=6, kind=\"bar\", palette=\"muted\")\n",
    "plt.title(\"Participation rate per marriage\", fontsize=25).set_weight('bold')\n",
    "ax.set_ylabels(\"Participation rate\", fontsize=16)\n",
    "ax.set_xlabels(\"0: Non-married, 1:Married\", fontsize=16)"
   ]
  },
  {
   "cell_type": "markdown",
   "metadata": {},
   "source": [
    "### 1.2.5 Non degree"
   ]
  },
  {
   "cell_type": "code",
   "execution_count": null,
   "metadata": {
    "collapsed": true
   },
   "outputs": [],
   "source": [
    "plt.figure(figsize=(7,5))\n",
    "ax = sns.factorplot(x=\"nodegree\", y=\"treat\", data=new_df,\n",
    "                   size=6, kind=\"bar\", palette=\"muted\")\n",
    "plt.title(\"Participation rate per school degree obtention\", fontsize=25).set_weight('bold')\n",
    "ax.set_ylabels(\"Participation rate\", fontsize=16)\n",
    "ax.set_xlabels(\"0: YES    1:NO\", fontsize=16)"
   ]
  },
  {
   "cell_type": "markdown",
   "metadata": {},
   "source": [
    "## 1.5 Balancing the groups further\n",
    "\n",
    "Based on your comparison of feature-value distributions from part 4, are you fully satisfied with your matching?\n",
    "Would you say your dataset is sufficiently balanced?\n",
    "If not, in what ways could the \"balanced\" dataset you have obtained still not allow you to draw valid conclusions?\n",
    "\n",
    "Improve your matching by explicitly making sure that you match only subjects that have the same value for the problematic feature.\n",
    "Argue with numbers and plots that the two groups (treated and control) are now better balanced than after part 4."
   ]
  },
  {
   "cell_type": "code",
   "execution_count": null,
   "metadata": {
    "collapsed": true
   },
   "outputs": [],
   "source": [
    "treat_white_df = treat_df[treat_df.race==0].reset_index(drop=True)\n",
    "treat_black_df = treat_df[treat_df.race==1].reset_index(drop=True)\n",
    "treat_hispanic_df = treat_df[treat_df.race==2].reset_index(drop=True)\n",
    "\n",
    "control_white_df = control_df[control_df.race==0].reset_index(drop=True)\n",
    "control_black_df = control_df[control_df.race==1].reset_index(drop=True)\n",
    "control_hispanic_df = control_df[control_df.race==2].reset_index(drop=True)"
   ]
  },
  {
   "cell_type": "code",
   "execution_count": null,
   "metadata": {
    "collapsed": true
   },
   "outputs": [],
   "source": [
    "print(treat_white_df.shape, control_white_df.shape)\n",
    "print(treat_black_df.shape, control_black_df.shape)\n",
    "print(treat_hispanic_df.shape, control_hispanic_df.shape)"
   ]
  },
  {
   "cell_type": "markdown",
   "metadata": {},
   "source": [
    "THERE ARE LESS BLACK PEOPLE IN THE CONTROL THAN IN THE TREATMENT! THIS IS NOT GOOD 'CAUSE I CAN'T FIND A MATCH FOR EVERY TREATED ONE -> I HAVE TO REDUCE THE TREATED BLACK PEOPLE TO 87"
   ]
  },
  {
   "cell_type": "code",
   "execution_count": null,
   "metadata": {
    "collapsed": true
   },
   "outputs": [],
   "source": [
    "treat_white_df, control_white_df, merged_white_df, concat_white_df = match(treat_white_df, control_white_df)\n",
    "treat_black_df, control_black_df, merged_black_df, concat_black_df = match(treat_black_df, control_black_df)\n",
    "treat_hispanic_df, control_hispanic_df, merged_hispanic_df, concat_hispanic_df = match(treat_hispanic_df, control_hispanic_df)\n"
   ]
  },
  {
   "cell_type": "code",
   "execution_count": null,
   "metadata": {
    "collapsed": true
   },
   "outputs": [],
   "source": [
    "print(treat_white_df.shape, control_white_df.shape)\n",
    "print(treat_black_df.shape, control_black_df.shape)\n",
    "print(treat_hispanic_df.shape, control_hispanic_df.shape)"
   ]
  },
  {
   "cell_type": "code",
   "execution_count": null,
   "metadata": {
    "collapsed": true
   },
   "outputs": [],
   "source": [
    "newnew_treat_df = pd.concat([treat_white_df,treat_black_df,treat_hispanic_df])\n",
    "newnew_control_df = pd.concat([control_white_df,control_black_df,control_hispanic_df])\n",
    "\n",
    "newnew_df = pd.concat([newnew_treat_df,newnew_control_df])\n",
    "\n",
    "newnew_df.head()"
   ]
  },
  {
   "cell_type": "code",
   "execution_count": null,
   "metadata": {
    "collapsed": true,
    "scrolled": true
   },
   "outputs": [],
   "source": [
    "plt.figure(figsize=(7,5))\n",
    "ax = sns.factorplot(x=\"race\", y=\"treat\", data=newnew_df,\n",
    "                   size=6, kind=\"bar\", palette=\"muted\")\n",
    "plt.title(\"Participation rate per race\", fontsize=25).set_weight('bold')\n",
    "ax.set_ylabels(\"Participation rate\", fontsize=16)\n",
    "ax.set_xlabels(\"0: White, 1:Black, 2:Hispan\", fontsize=16)"
   ]
  },
  {
   "cell_type": "code",
   "execution_count": null,
   "metadata": {
    "collapsed": true
   },
   "outputs": [],
   "source": [
    "merged_df = pd.concat([merged_white_df,merged_black_df,merged_hispanic_df])"
   ]
  },
  {
   "cell_type": "markdown",
   "metadata": {},
   "source": [
    "## 1.6 A less naive analysis\n",
    "\n",
    "Compare the outcomes (`re78`) between treated and control subjects, as you've done in part 1, but now only for the matched dataset you've obtained from part 5.\n",
    "What do you conclude about the effectiveness of the job training program?"
   ]
  },
  {
   "cell_type": "code",
   "execution_count": null,
   "metadata": {
    "collapsed": true
   },
   "outputs": [],
   "source": [
    "# Visualizing distributions\n",
    "income_increase_treated = newnew_treat_df.re78-newnew_treat_df.re74\n",
    "income_increase_control = newnew_control_df.re78-newnew_control_df.re74\n",
    "\n",
    "plt.figure(figsize=(15,7))\n",
    "ax1 = sns.distplot(income_increase_treated, kde=True, color=\"g\")\n",
    "ax1.set_ylabel('# of people', fontsize=16).set_weight('bold')\n",
    "ax1.set_xlabel('Outcome', fontsize=16).set_weight('bold')\n",
    "ax1.legend(label='Non-assisted')\n",
    "\n",
    "ax2 = sns.distplot(income_increase_control, kde=True, color=\"r\")\n",
    "ax2.legend(label='Non-assisted')"
   ]
  },
  {
   "cell_type": "code",
   "execution_count": null,
   "metadata": {
    "collapsed": true,
    "scrolled": true
   },
   "outputs": [],
   "source": [
    "plt.figure(figsize=(15,7))\n",
    "ax1 = sns.boxplot(merged_df['RESULT OF TREATMENT'], color=\"g\")\n",
    "ax1.set_ylabel('Result of treatment', fontsize=16).set_weight('bold')\n",
    "ax1.set_xlabel('Difference in Outcome', fontsize=16).set_weight('bold')\n",
    "ax1.legend(label='difference')"
   ]
  },
  {
   "cell_type": "markdown",
   "metadata": {},
   "source": [
    "# 2. Applied ML"
   ]
  },
  {
   "cell_type": "markdown",
   "metadata": {
    "collapsed": true
   },
   "source": [
    "We are going to build a classifier of news to directly assign them to 20 news categories. Note that the pipeline that you will build in this exercise could be of great help during your project if you plan to work with text!\n",
    "\n",
    "1. Load the 20newsgroup dataset. It is, again, a classic dataset that can directly be loaded using sklearn ([link](http://scikit-learn.org/stable/datasets/twenty_newsgroups.html)).  \n",
    "[TF-IDF](https://en.wikipedia.org/wiki/Tf%E2%80%93idf), short for term frequency–inverse document frequency, is of great help when if comes to compute textual features. Indeed, it gives more importance to terms that are more specific to the considered articles (TF) but reduces the importance of terms that are very frequent in the entire corpus (IDF). Compute TF-IDF features for every article using [TfidfVectorizer](http://scikit-learn.org/stable/modules/generated/sklearn.feature_extraction.text.TfidfVectorizer.html). Then, split your dataset into a training, a testing and a validation set (10% for validation and 10% for testing). Each observation should be paired with its corresponding label (the article category).\n",
    "\n",
    "2. Train a random forest on your training set. Try to fine-tune the parameters of your predictor on your validation set using a simple grid search on the number of estimator \"n_estimators\" and the max depth of the trees \"max_depth\". Then, display a confusion matrix of your classification pipeline. Lastly, once you assessed your model, inspect the `feature_importances_` attribute of your random forest and discuss the obtained results.\n",
    "\n"
   ]
  },
  {
   "cell_type": "markdown",
   "metadata": {},
   "source": [
    "## 2.1 Load dataset and vectorize"
   ]
  },
  {
   "cell_type": "markdown",
   "metadata": {},
   "source": [
    "A classifier of news is going to be built to assign 20 news categories. Let's import the dataset and check the different categories:"
   ]
  },
  {
   "cell_type": "code",
   "execution_count": 48,
   "metadata": {
    "collapsed": true
   },
   "outputs": [],
   "source": [
    "# Import libraries\n",
    "from sklearn.datasets import fetch_20newsgroups # Data function that dowloads the data from archive\n",
    "from sklearn.feature_extraction.text import TfidfVectorizer\n",
    "from sklearn.model_selection import train_test_split\n",
    "from sklearn.ensemble import RandomForestClassifier\n",
    "from sklearn.pipeline import Pipeline\n",
    "from sklearn.model_selection import GridSearchCV\n",
    "from sklearn.metrics import confusion_matrix\n",
    "from pprint import pprint\n",
    "from time import time\n",
    "import itertools"
   ]
  },
  {
   "cell_type": "code",
   "execution_count": 35,
   "metadata": {},
   "outputs": [
    {
     "name": "stdout",
     "output_type": "stream",
     "text": [
      "['alt.atheism',\n",
      " 'comp.graphics',\n",
      " 'comp.os.ms-windows.misc',\n",
      " 'comp.sys.ibm.pc.hardware',\n",
      " 'comp.sys.mac.hardware',\n",
      " 'comp.windows.x',\n",
      " 'misc.forsale',\n",
      " 'rec.autos',\n",
      " 'rec.motorcycles',\n",
      " 'rec.sport.baseball',\n",
      " 'rec.sport.hockey',\n",
      " 'sci.crypt',\n",
      " 'sci.electronics',\n",
      " 'sci.med',\n",
      " 'sci.space',\n",
      " 'soc.religion.christian',\n",
      " 'talk.politics.guns',\n",
      " 'talk.politics.mideast',\n",
      " 'talk.politics.misc',\n",
      " 'talk.religion.misc']\n"
     ]
    },
    {
     "data": {
      "text/plain": [
       "['alt.atheism',\n",
       " 'comp.graphics',\n",
       " 'comp.os.ms-windows.misc',\n",
       " 'comp.sys.ibm.pc.hardware',\n",
       " 'comp.sys.mac.hardware',\n",
       " 'comp.windows.x',\n",
       " 'misc.forsale',\n",
       " 'rec.autos',\n",
       " 'rec.motorcycles',\n",
       " 'rec.sport.baseball',\n",
       " 'rec.sport.hockey',\n",
       " 'sci.crypt',\n",
       " 'sci.electronics',\n",
       " 'sci.med',\n",
       " 'sci.space',\n",
       " 'soc.religion.christian',\n",
       " 'talk.politics.guns',\n",
       " 'talk.politics.mideast',\n",
       " 'talk.politics.misc',\n",
       " 'talk.religion.misc']"
      ]
     },
     "execution_count": 35,
     "metadata": {},
     "output_type": "execute_result"
    }
   ],
   "source": [
    "# Import dataset\n",
    "newsgroups = fetch_20newsgroups(subset='all', remove = ('headers', 'footers', 'quotes'))\n",
    "\n",
    "# Show categories list\n",
    "pprint(list(newsgroups.target_names))\n",
    "classes = newsgroups.target_names"
   ]
  },
  {
   "cell_type": "markdown",
   "metadata": {},
   "source": [
    "Let's check the dataset shape and how is like each datapoint:"
   ]
  },
  {
   "cell_type": "code",
   "execution_count": 3,
   "metadata": {},
   "outputs": [
    {
     "name": "stdout",
     "output_type": "stream",
     "text": [
      "Filenames shape: (18846,)\n",
      "Target shape: (18846,)\n"
     ]
    },
    {
     "data": {
      "text/plain": [
       "'My brother is in the market for a high-performance video card that supports\\nVESA local bus with 1-2MB RAM.  Does anyone have suggestions/ideas on:\\n\\n  - Diamond Stealth Pro Local Bus\\n\\n  - Orchid Farenheit 1280\\n\\n  - ATI Graphics Ultra Pro\\n\\n  - Any other high-performance VLB card\\n\\n\\nPlease post or email.  Thank you!\\n\\n  - Matt\\n'"
      ]
     },
     "execution_count": 3,
     "metadata": {},
     "output_type": "execute_result"
    }
   ],
   "source": [
    "# The real data lies in the filenames and target attributes(target category)\n",
    "print('Filenames shape:', newsgroups.filenames.shape)\n",
    "print('Target shape:',newsgroups.target.shape)\n",
    "\n",
    "# Show \n",
    "newsgroups.data[1]"
   ]
  },
  {
   "cell_type": "code",
   "execution_count": 19,
   "metadata": {},
   "outputs": [
    {
     "data": {
      "text/plain": [
       "(18846, 10000)"
      ]
     },
     "execution_count": 19,
     "metadata": {},
     "output_type": "execute_result"
    }
   ],
   "source": [
    "# Vectorize the text dataset\n",
    "vectorizer = TfidfVectorizer(max_features=10000, max_df=0.5, stop_words='english')\n",
    "vectors = vectorizer.fit_transform(newsgroups.data)\n",
    "vectors.shape"
   ]
  },
  {
   "cell_type": "markdown",
   "metadata": {},
   "source": [
    "### Split in training, testing and validation sets"
   ]
  },
  {
   "cell_type": "markdown",
   "metadata": {},
   "source": [
    "Split training (80%), testing(10%) and validation (10%) sets"
   ]
  },
  {
   "cell_type": "code",
   "execution_count": 20,
   "metadata": {
    "collapsed": true
   },
   "outputs": [],
   "source": [
    "# Create predictors and predicted variable\n",
    "X = vectors\n",
    "y = newsgroups.target\n",
    "\n",
    "# Split training, testing and validation tests\n",
    "X_train, X_test, y_train, y_test = train_test_split(X, y, random_state=0, train_size=0.8)\n",
    "X_test, X_val, y_test, y_val = train_test_split(X_test, y_test, random_state=0, train_size=0.5)"
   ]
  },
  {
   "cell_type": "code",
   "execution_count": 23,
   "metadata": {},
   "outputs": [
    {
     "data": {
      "text/plain": [
       "RandomForestClassifier(bootstrap=True, class_weight=None, criterion='gini',\n",
       "            max_depth=None, max_features='auto', max_leaf_nodes=None,\n",
       "            min_impurity_split=1e-07, min_samples_leaf=1,\n",
       "            min_samples_split=2, min_weight_fraction_leaf=0.0,\n",
       "            n_estimators=100, n_jobs=1, oob_score=False, random_state=50,\n",
       "            verbose=0, warm_start=False)"
      ]
     },
     "execution_count": 23,
     "metadata": {},
     "output_type": "execute_result"
    }
   ],
   "source": [
    "rand_state = 50\n",
    "\n",
    "# Create a fit the classifier\n",
    "rand_forest = RandomForestClassifier(n_estimators=100, random_state=rand_state)\n",
    "rand_forest.fit(X_train, y_train)"
   ]
  },
  {
   "cell_type": "code",
   "execution_count": 22,
   "metadata": {},
   "outputs": [
    {
     "name": "stdout",
     "output_type": "stream",
     "text": [
      "Train score: 0.963650835765\n",
      "Test score: 0.581432360743\n",
      "Validation score: 0.577188328912\n"
     ]
    }
   ],
   "source": [
    "# First Evaluation\n",
    "print('Train score:',rand_forest.score(X_train, y_train))\n",
    "print('Test score:',rand_forest.score(X_test, y_test))\n",
    "print('Validation score:',rand_forest.score(X_val, y_val))"
   ]
  },
  {
   "cell_type": "markdown",
   "metadata": {},
   "source": [
    "It can be observed that the first fitting of the classifier on the test and validation sets are not very good."
   ]
  },
  {
   "cell_type": "code",
   "execution_count": 26,
   "metadata": {},
   "outputs": [
    {
     "name": "stdout",
     "output_type": "stream",
     "text": [
      "Number of features: 10000\n",
      "Features importances: [  5.15972280e-04   2.39288116e-04   3.11560725e-06 ...,   0.00000000e+00\n",
      "   7.56002595e-05   2.89388934e-06]\n"
     ]
    },
    {
     "data": {
      "text/plain": [
       "count    100.000000\n",
       "mean     827.760000\n",
       "std       24.148162\n",
       "min      770.000000\n",
       "25%      809.000000\n",
       "50%      827.500000\n",
       "75%      844.250000\n",
       "max      898.000000\n",
       "dtype: float64"
      ]
     },
     "execution_count": 26,
     "metadata": {},
     "output_type": "execute_result"
    }
   ],
   "source": [
    "print('Number of features:',rand_forest.n_features_)\n",
    "print('Features importances:',rand_forest.feature_importances_)\n",
    "depths = pd.Series([estimator.tree_.max_depth for estimator in rand_forest.estimators_])\n",
    "depths.describe()"
   ]
  },
  {
   "cell_type": "markdown",
   "metadata": {},
   "source": [
    "Watching at the max depth statistical description all estimators will help us to know how to tune better this parameter."
   ]
  },
  {
   "cell_type": "markdown",
   "metadata": {},
   "source": [
    "### Grid search"
   ]
  },
  {
   "cell_type": "code",
   "execution_count": 45,
   "metadata": {},
   "outputs": [
    {
     "name": "stdout",
     "output_type": "stream",
     "text": [
      "Best parameters: {'max_depth': 292, 'n_estimators': 100}\n"
     ]
    }
   ],
   "source": [
    "# Parameters of the grid search\n",
    "n_estim_range = np.round(np.logspace(1,2,num=2,dtype=int))\n",
    "max_depth_range = np.round(np.logspace(1,3.2,num=4,dtype=int))\n",
    "paramgrid = {'n_estimators': n_estim_range,'max_depth': max_depth_range}\n",
    "\n",
    "# Grid search on the number of estimators\n",
    "clf = GridSearchCV(RandomForestClassifier(random_state=rand_state), paramgrid, cv = 3)\n",
    "clf.fit(X_train, y_train)\n",
    "print('Best parameters:',clf.best_params_)"
   ]
  },
  {
   "cell_type": "code",
   "execution_count": 46,
   "metadata": {},
   "outputs": [
    {
     "name": "stdout",
     "output_type": "stream",
     "text": [
      "Train score: 0.96424781109\n",
      "Test score: 0.645623342175\n",
      "Validation score: 0.635543766578\n"
     ]
    }
   ],
   "source": [
    "# Evaluation\n",
    "print('Train score:',clf.score(X_train, y_train))\n",
    "print('Test score:',clf.score(X_test, y_test))\n",
    "print('Validation score:',clf.score(X_val, y_val))"
   ]
  },
  {
   "cell_type": "markdown",
   "metadata": {},
   "source": [
    "## Confusion matrix"
   ]
  },
  {
   "cell_type": "code",
   "execution_count": 50,
   "metadata": {},
   "outputs": [
    {
     "data": {
      "image/png": "[encoded data removed]",
      "text/plain": [
       "<matplotlib.figure.Figure at 0x189661198>"
      ]
     },
     "metadata": {},
     "output_type": "display_data"
    }
   ],
   "source": [
    "# Compute the confusion matrix\n",
    "y_pred = clf.predict(X_val)\n",
    "cm = confusion_matrix(y_pred, y_val)\n",
    "\n",
    "# Plot it!\n",
    "plt.figure(figsize=(20,20))\n",
    "plt.imshow(cm, interpolation='nearest', cmap=plt.cm.Blues)\n",
    "plt.title('Confusion matrix')\n",
    "plt.colorbar()\n",
    "tick_marks = np.arange(len(classes))\n",
    "plt.xticks(tick_marks, classes, rotation=45)\n",
    "plt.yticks(tick_marks, classes)\n",
    "\n",
    "normalize=False\n",
    "fmt = '.2f' if normalize else 'd'\n",
    "thresh = cm.max() / 2.\n",
    "for i, j in itertools.product(range(cm.shape[0]), range(cm.shape[1])):\n",
    "    plt.text(j, i, format(cm[i, j], fmt),\n",
    "             horizontalalignment=\"center\",\n",
    "             color=\"white\" if cm[i, j] > thresh else \"black\")\n",
    "\n",
    "plt.tight_layout()\n",
    "plt.ylabel('True label')\n",
    "plt.xlabel('Predicted label')\n",
    "plt.show()"
   ]
  },
  {
   "cell_type": "markdown",
   "metadata": {},
   "source": [
    "## 2.2.Results discussion"
   ]
  },
  {
   "cell_type": "code",
   "execution_count": 51,
   "metadata": {
    "scrolled": true
   },
   "outputs": [
    {
     "name": "stdout",
     "output_type": "stream",
     "text": [
      "Number of features: 10000\n",
      "Features importances: [  5.15972280e-04   2.39288116e-04   3.11560725e-06 ...,   0.00000000e+00\n",
      "   7.56002595e-05   2.89388934e-06]\n"
     ]
    },
    {
     "data": {
      "text/plain": [
       "count    100.000000\n",
       "mean     827.760000\n",
       "std       24.148162\n",
       "min      770.000000\n",
       "25%      809.000000\n",
       "50%      827.500000\n",
       "75%      844.250000\n",
       "max      898.000000\n",
       "dtype: float64"
      ]
     },
     "execution_count": 51,
     "metadata": {},
     "output_type": "execute_result"
    }
   ],
   "source": [
    "print('Number of features:',rand_forest.n_features_)\n",
    "print('Features importances:',rand_forest.feature_importances_)\n",
    "depths = pd.Series([estimator.tree_.max_depth for estimator in rand_forest.estimators_])\n",
    "depths.describe()"
   ]
  },
  {
   "cell_type": "code",
   "execution_count": null,
   "metadata": {
    "collapsed": true
   },
   "outputs": [],
   "source": []
  }
 ],
 "metadata": {
  "kernelspec": {
   "display_name": "Python 3",
   "language": "python",
   "name": "python3"
  },
  "language_info": {
   "codemirror_mode": {
    "name": "ipython",
    "version": 3
   },
   "file_extension": ".py",
   "mimetype": "text/x-python",
   "name": "python",
   "nbconvert_exporter": "python",
   "pygments_lexer": "ipython3",
   "version": "3.6.2"
  }
 },
 "nbformat": 4,
 "nbformat_minor": 2
}
