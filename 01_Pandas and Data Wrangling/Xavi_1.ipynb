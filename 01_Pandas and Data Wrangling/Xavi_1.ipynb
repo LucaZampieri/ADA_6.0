{
 "cells": [
  {
   "cell_type": "markdown",
   "metadata": {},
   "source": [
    "# Table of Contents\n",
    " <p><div class=\"lev1\"><a href=\"#Task-1.-Compiling-Ebola-Data\"><span class=\"toc-item-num\">Task 1.&nbsp;&nbsp;</span>Compiling Ebola Data</a></div>\n",
    " <div class=\"lev1\"><a href=\"#Task-2.-RNA-Sequences\"><span class=\"toc-item-num\">Task 2.&nbsp;&nbsp;</span>RNA Sequences</a></div>\n",
    " <div class=\"lev1\"><a href=\"#Task-3.-Class-War-in-Titanic\"><span class=\"toc-item-num\">Task 3.&nbsp;&nbsp;</span>Class War in Titanic</a></div></p>"
   ]
  },
  {
   "cell_type": "code",
   "execution_count": 1,
   "metadata": {
    "collapsed": true
   },
   "outputs": [],
   "source": [
    "DATA_FOLDER = 'Data/ebola' # Use the data folder provided in Tutorial 02 - Intro to Pandas."
   ]
  },
  {
   "cell_type": "markdown",
   "metadata": {},
   "source": [
    "# Task 1. Compiling Ebola Data\n",
    "\n",
    "The `DATA_FOLDER/ebola` folder contains summarized reports of Ebola cases from three countries (Guinea, Liberia and Sierra Leone) during the recent outbreak of the disease in West Africa. For each country, there are daily reports that contain various information about the outbreak in several cities in each country.\n",
    "\n",
    "Use pandas to import these data files into a single `Dataframe`.\n",
    "Using this `DataFrame`, calculate for *each country*, the *daily average per month* of *new cases* and *deaths*.\n",
    "Make sure you handle all the different expressions for *new cases* and *deaths* that are used in the reports."
   ]
  },
  {
   "cell_type": "markdown",
   "metadata": {},
   "source": [
    "Our goal in this first task is to obtain a unique dataframe with the daily average per month of new cases and deaths for the three different countries. Our approach is to analyse the three countries separetly and then merge them in an unique ´Dataframe´.\n",
    "\n",
    "For each country, there are different reports in `.csv` format. We are going to use some functions of the `glob` library in order to merge all the daily reports in a three ´Dataframes´, one for each country. Then, the `pandas` library will be used in order to structure all the data and then analyse it. Other libraries as `numpy` or `datetime` will be also used. So let's first import the main libraires: \n",
    "  "
   ]
  },
  {
   "cell_type": "code",
   "execution_count": 2,
   "metadata": {
    "collapsed": true
   },
   "outputs": [],
   "source": [
    "# Import libraries\n",
    "import pandas as pd \n",
    "import numpy as np \n",
    "import glob \n",
    "pd.options.mode.chained_assignment = None \n",
    "from datetime import datetime, date, time\n",
    "from dateutil.parser import parse"
   ]
  },
  {
   "cell_type": "markdown",
   "metadata": {},
   "source": [
    "# Task 1.1. Guinea"
   ]
  },
  {
   "cell_type": "markdown",
   "metadata": {},
   "source": [
    "We first merge all the '.csv' files found in the guinea_data folder into one one single dataframe 'guinea_df'"
   ]
  },
  {
   "cell_type": "code",
   "execution_count": 3,
   "metadata": {},
   "outputs": [
    {
     "name": "stdout",
     "output_type": "stream",
     "text": [
      "Number of csv files: 22\n",
      "Shape guinea_df: (714, 25)\n",
      "Columns: Index(['Beyla', 'Boffa', 'Conakry', 'Coyah', 'Dabola', 'Dalaba', 'Date',\n",
      "       'Description', 'Dinguiraye', 'Dubreka', 'Forecariah', 'Gueckedou',\n",
      "       'Kerouane', 'Kindia', 'Kissidougou', 'Kouroussa', 'Lola', 'Macenta',\n",
      "       'Mzerekore', 'Nzerekore', 'Pita', 'Siguiri', 'Telimele', 'Totals',\n",
      "       'Yomou'],\n",
      "      dtype='object')\n"
     ]
    }
   ],
   "source": [
    "# Import Guinea data in one file\n",
    "data_folder ='Data/ebola/guinea_data/'\n",
    "allFiles = glob.glob(data_folder + \"/*.csv\")\n",
    "print('Number of csv files:',len(allFiles))\n",
    "list_ = []\n",
    "for file_ in allFiles:\n",
    "    df = pd.read_csv(file_,index_col=None, header=0)\n",
    "    list_.append(df)\n",
    "guinea_df = pd.concat(list_)\n",
    "\n",
    "print('Shape guinea_df:',guinea_df.shape)\n",
    "print('Columns:', guinea_df.columns)"
   ]
  },
  {
   "cell_type": "markdown",
   "metadata": {},
   "source": [
    "On the guinea_data folder 22 different reports are found. The resulting Dataframe has 25 columns and 714 different entries. We note that the columns of our interest are `Date`, `Description` and `Total` as we only look for global daily new cases and deaths for all the country. We assume that the column `Totals` summarizes correctly all the other regional accounting columns. However, the following, closer look at the data shows that this is not true.\n",
    "Let's compare the values in the column `Totals` with the values compute manually by summing the values in the other columns of the dataset:"
   ]
  },
  {
   "cell_type": "code",
   "execution_count": 4,
   "metadata": {},
   "outputs": [
    {
     "data": {
      "text/html": [
       "<div>\n",
       "<style>\n",
       "    .dataframe thead tr:only-child th {\n",
       "        text-align: right;\n",
       "    }\n",
       "\n",
       "    .dataframe thead th {\n",
       "        text-align: left;\n",
       "    }\n",
       "\n",
       "    .dataframe tbody tr th {\n",
       "        vertical-align: top;\n",
       "    }\n",
       "</style>\n",
       "<table border=\"1\" class=\"dataframe\">\n",
       "  <thead>\n",
       "    <tr style=\"text-align: right;\">\n",
       "      <th></th>\n",
       "      <th>0</th>\n",
       "      <th>1</th>\n",
       "      <th>2</th>\n",
       "      <th>3</th>\n",
       "      <th>4</th>\n",
       "      <th>5</th>\n",
       "      <th>6</th>\n",
       "      <th>7</th>\n",
       "      <th>8</th>\n",
       "      <th>9</th>\n",
       "      <th>...</th>\n",
       "      <th>11</th>\n",
       "      <th>12</th>\n",
       "      <th>13</th>\n",
       "      <th>14</th>\n",
       "      <th>15</th>\n",
       "      <th>16</th>\n",
       "      <th>17</th>\n",
       "      <th>18</th>\n",
       "      <th>19</th>\n",
       "      <th>20</th>\n",
       "    </tr>\n",
       "  </thead>\n",
       "  <tbody>\n",
       "    <tr>\n",
       "      <th>total values provided</th>\n",
       "      <td>5</td>\n",
       "      <td>0</td>\n",
       "      <td>4</td>\n",
       "      <td>9</td>\n",
       "      <td>11</td>\n",
       "      <td>133</td>\n",
       "      <td>351</td>\n",
       "      <td>495</td>\n",
       "      <td>2</td>\n",
       "      <td>2</td>\n",
       "      <td>...</td>\n",
       "      <td>0</td>\n",
       "      <td>2</td>\n",
       "      <td>133</td>\n",
       "      <td>228</td>\n",
       "      <td>363</td>\n",
       "      <td>31</td>\n",
       "      <td>18</td>\n",
       "      <td>0</td>\n",
       "      <td>13</td>\n",
       "      <td>138</td>\n",
       "    </tr>\n",
       "    <tr>\n",
       "      <th>total values computed manually</th>\n",
       "      <td>5</td>\n",
       "      <td>1</td>\n",
       "      <td>6</td>\n",
       "      <td>12</td>\n",
       "      <td>15</td>\n",
       "      <td>138</td>\n",
       "      <td>357</td>\n",
       "      <td>502</td>\n",
       "      <td>10</td>\n",
       "      <td>11</td>\n",
       "      <td>...</td>\n",
       "      <td>11</td>\n",
       "      <td>14</td>\n",
       "      <td>146</td>\n",
       "      <td>242</td>\n",
       "      <td>378</td>\n",
       "      <td>47</td>\n",
       "      <td>35</td>\n",
       "      <td>18</td>\n",
       "      <td>32</td>\n",
       "      <td>159</td>\n",
       "    </tr>\n",
       "  </tbody>\n",
       "</table>\n",
       "<p>2 rows × 21 columns</p>\n",
       "</div>"
      ],
      "text/plain": [
       "                                0   1   2   3   4    5    6    7   8   9   \\\n",
       "total values provided            5   0   4   9  11  133  351  495   2   2   \n",
       "total values computed manually   5   1   6  12  15  138  357  502  10  11   \n",
       "\n",
       "                               ...   11  12   13   14   15  16  17  18  19  \\\n",
       "total values provided          ...    0   2  133  228  363  31  18   0  13   \n",
       "total values computed manually ...   11  14  146  242  378  47  35  18  32   \n",
       "\n",
       "                                 20  \n",
       "total values provided           138  \n",
       "total values computed manually  159  \n",
       "\n",
       "[2 rows x 21 columns]"
      ]
     },
     "execution_count": 4,
     "metadata": {},
     "output_type": "execute_result"
    }
   ],
   "source": [
    "manual_tot = guinea_df[['Beyla', 'Boffa', 'Conakry', 'Coyah', 'Dabola', 'Dalaba',\n",
    "           'Dinguiraye', 'Dubreka', 'Forecariah', 'Gueckedou',\n",
    "           'Kerouane', 'Kindia', 'Kissidougou', 'Kouroussa', 'Lola', 'Macenta',\n",
    "           'Mzerekore', 'Nzerekore', 'Pita', 'Siguiri', 'Telimele', \n",
    "           'Yomou']].reset_index().loc[0:20].fillna(value=0).apply(pd.to_numeric).astype(int).sum(axis=1)\n",
    "provided_tot = guinea_df['Totals'].reset_index(drop=True).loc[0:20].apply(pd.to_numeric).astype(int)\n",
    "manual_tot.name='total values computed manually'\n",
    "provided_tot.name='total values provided'\n",
    "pd.DataFrame(data=[provided_tot, manual_tot])\n"
   ]
  },
  {
   "cell_type": "markdown",
   "metadata": {},
   "source": [
    "The difference the values shown in the DataFrame above are 'very' close for the purpose of this work. _The values provided in the column 'Totals' will then be used for the following reasons:_\n",
    "* the values obtained in the two different ways are 'close' for the purpose of this work\n",
    "* it is impossible to infer which data is correct and which is not, so the simpler approach would be preferable\n",
    "* the dataframe is very dirty: computing the total manually would imply a lot of work to clean the dataset\n",
    "* the _total values provided_ seems to be always less that _total values computed manually_. This seems not to be a casualty: probably the 'Total' data provided in the reports has been revised in order to be less alarmistic and more cautious. It could be a good idea to adopt the same approach. "
   ]
  },
  {
   "cell_type": "markdown",
   "metadata": {},
   "source": [
    "Let's then select the columns of our interest:"
   ]
  },
  {
   "cell_type": "code",
   "execution_count": 5,
   "metadata": {},
   "outputs": [
    {
     "name": "stdout",
     "output_type": "stream",
     "text": [
      "         Date                        Description Totals\n",
      "0  2014-08-04              New cases of suspects      5\n",
      "1  2014-08-04             New cases of probables      0\n",
      "2  2014-08-04             New cases of confirmed      4\n",
      "3  2014-08-04  Total new cases registered so far      9\n",
      "4  2014-08-04            Total cases of suspects     11\n"
     ]
    },
    {
     "data": {
      "text/plain": [
       "Cumulative (confirmed + probable + suspects)                22\n",
       "New cases of suspects                                       22\n",
       "Total deaths of probables                                   22\n",
       "Total contacts registered from start date                   22\n",
       "New cases of confirmed                                      22\n",
       "Total deaths of confirmed                                   22\n",
       "Total cases of confirmed                                    22\n",
       "Total deaths of suspects                                    22\n",
       "Total cases of probables                                    22\n",
       "New cases of probables                                      22\n",
       "Total deaths (confirmed + probables + suspects)             22\n",
       "Total cases of suspects                                     22\n",
       "Number of contacts to follow today                          22\n",
       "Total new cases registered so far                           22\n",
       "New deaths registered among health workers                  21\n",
       "Total samples tested                                        21\n",
       "Total case of confirmed among health workers                21\n",
       "Number of contacts out of the track 21 days                 21\n",
       "Number of contacts lost to follow up                        21\n",
       "New contacts registered so far                              21\n",
       "Total number of hospitalized cases in CTE                   21\n",
       "New admits to CTE so far                                    21\n",
       "New cases of confirmed among health workers                 21\n",
       "Number of samples under test                                21\n",
       "New deaths registered                                       21\n",
       "Total number of admissions to CTE                           21\n",
       "Total suspected non-class cases                             21\n",
       "Total number of exits from CTE                              21\n",
       "Number of contacts followed today                           21\n",
       "Total deaths registered among health workers                21\n",
       "Number of samples collected today                           21\n",
       "Fatality rate for confirmed and probables                   21\n",
       "Number of female suspects cases                              1\n",
       "Number of male suspects cases                                1\n",
       "Number of male confirmed cases                               1\n",
       "Number of female probables cases                             1\n",
       "Total PEC center today (confirmed)                           1\n",
       "Number of death of confirmed cases among health workers      1\n",
       "Total number of male cases                                   1\n",
       "New deaths registered today (confirmed)                      1\n",
       "Number of male probables cases                               1\n",
       "New deaths registered today (suspects)                       1\n",
       "Number of contacts out of track                              1\n",
       "Total of deaths in confirmed cases in CTE                    1\n",
       "Number of suspects cases among health workers                1\n",
       "Number of probables cases among health workers               1\n",
       "Number of female confirmed cases                             1\n",
       "Total of cured in confirmed cases in CTE                     1\n",
       "Number of confirmed cases among health workers               1\n",
       "Number of patients tested                                    1\n",
       "Total PEC center today                                       1\n",
       "Number of deaths of probables cases among health workers     1\n",
       "Number of contacts followed yesterday                        1\n",
       "Number of samples collected                                  1\n",
       "Total number of female cases                                 1\n",
       "Number of deaths of confirmed cases among health workers     1\n",
       "Total PEC center today (suspects)                            1\n",
       "Total PEC center today (probables)                           1\n",
       "New deaths registered today                                  1\n",
       "New deaths registered today (probables)                      1\n",
       "Name: Description, dtype: int64"
      ]
     },
     "execution_count": 5,
     "metadata": {},
     "output_type": "execute_result"
    }
   ],
   "source": [
    "# Switch the column order by name to have 'Date and 'Description' first\n",
    "guinea_df = guinea_df[['Date','Description', 'Totals']]\n",
    "\n",
    "print(guinea_df.head(5))\n",
    "guinea_df.Description.value_counts()"
   ]
  },
  {
   "cell_type": "markdown",
   "metadata": {},
   "source": [
    "From the Dataframe above, we identify different classes for new cases and new deaths in `Description` column. Let's select the rows of our interest: \n",
    " - `Total new cases registered so far`\n",
    " - `New death registered today`\n",
    " - `New death registered`\n",
    "\n",
    "As we can see, the last two categories refer to the same kind of data. We have to rename one of the two. In addition, we are going to check the shape of both dataframe to verify that we are not missing any information on the renaming operation to analyse the new deaths."
   ]
  },
  {
   "cell_type": "code",
   "execution_count": 6,
   "metadata": {},
   "outputs": [
    {
     "name": "stdout",
     "output_type": "stream",
     "text": [
      "Shape guinea_df_new: (44, 3)\n"
     ]
    }
   ],
   "source": [
    "# Concatenate the Description categories of our interest\n",
    "guinea_df_new = pd.concat([guinea_df[guinea_df.Description == 'Total new cases registered so far'],\n",
    "                           guinea_df[guinea_df.Description  == 'New deaths registered'],\n",
    "                           guinea_df[guinea_df.Description  == 'New deaths registered today']])\n",
    "\n",
    "# Aggregate New deaths in only one category\n",
    "guinea_df_new.Description = guinea_df_new.Description.replace('New deaths registered today', 'New deaths registered')\n",
    "\n",
    "print('Shape guinea_df_new:', guinea_df_new.shape)"
   ]
  },
  {
   "cell_type": "markdown",
   "metadata": {},
   "source": [
    "It is verified that there is 22 datapoints for each category (new cases/new deaths) which corresponds to the 22 guinea reports. Once the rows with all the relevant information for our analysis has been concatenated, we start the data cleaning :"
   ]
  },
  {
   "cell_type": "code",
   "execution_count": 7,
   "metadata": {},
   "outputs": [
    {
     "name": "stdout",
     "output_type": "stream",
     "text": [
      "<class 'pandas.core.frame.DataFrame'>\n",
      "Int64Index: 44 entries, 3 to 8\n",
      "Data columns (total 3 columns):\n",
      "Date           44 non-null object\n",
      "Description    44 non-null object\n",
      "Totals         44 non-null object\n",
      "dtypes: object(3)\n",
      "memory usage: 1.4+ KB\n"
     ]
    }
   ],
   "source": [
    "# Fill nan values with a 0 if there is any value null\n",
    "if guinea_df_new.Totals.isnull().any():\n",
    "    guinea_df_new = guinea_df_new.fillna(value=0)\n",
    "\n",
    "# Get the data type of each column\n",
    "guinea_df_new.info()"
   ]
  },
  {
   "cell_type": "markdown",
   "metadata": {},
   "source": [
    "The datatype for all the columns is `object`. Let's transform the `Date` column in datetime format and the `Totals` column to numeric(`int`). In addition, a `Month` column will be added for the ease of analysing the new cases and deaths per month."
   ]
  },
  {
   "cell_type": "code",
   "execution_count": 8,
   "metadata": {},
   "outputs": [
    {
     "name": "stdout",
     "output_type": "stream",
     "text": [
      "<class 'pandas.core.frame.DataFrame'>\n",
      "Int64Index: 44 entries, 3 to 8\n",
      "Data columns (total 4 columns):\n",
      "Date           44 non-null datetime64[ns]\n",
      "Month          44 non-null int64\n",
      "Description    44 non-null object\n",
      "Totals         44 non-null int64\n",
      "dtypes: datetime64[ns](1), int64(2), object(1)\n",
      "memory usage: 1.7+ KB\n"
     ]
    }
   ],
   "source": [
    "# Change to date format the Date column\n",
    "guinea_df_new.Date = guinea_df_new.Date.apply(lambda d: pd.to_datetime(d))\n",
    "guinea_df_new['Month'] = [date.month for date in guinea_df_new.Date]\n",
    "guinea_df_new = guinea_df_new[['Date','Month', 'Description', 'Totals']]\n",
    "\n",
    "# Change to numeric the Totals\n",
    "guinea_df_new['Totals'] = guinea_df_new['Totals'].apply(pd.to_numeric).astype(int)\n",
    "\n",
    "guinea_df_new.info()"
   ]
  },
  {
   "cell_type": "markdown",
   "metadata": {},
   "source": [
    "In order to compute the monthly daily average, we need to identify the day of the first report and the days of the last report."
   ]
  },
  {
   "cell_type": "code",
   "execution_count": 9,
   "metadata": {},
   "outputs": [
    {
     "name": "stdout",
     "output_type": "stream",
     "text": [
      "9     32\n",
      "8     10\n",
      "10     2\n",
      "Name: Month, dtype: int64\n",
      "First date of August: 2014-08-04 00:00:00\n",
      "Last date of October: 2014-10-01 00:00:00\n"
     ]
    }
   ],
   "source": [
    "print(guinea_df_new.Month.value_counts())\n",
    "print('First date of August:',np.min(guinea_df_new.Date))\n",
    "print('Last date of October:', np.max(guinea_df_new.Date))"
   ]
  },
  {
   "cell_type": "markdown",
   "metadata": {},
   "source": [
    "We assume:\n",
    "- The only report from October is accounting for the month of September new cases and deaths\n",
    "- The first report of August is accounting for the new cases and deaths of the three first days of the month, and none of the previous month.\n",
    "\n",
    "For this reason, we modify the month of report of October to Semptember (10 to 9). We don't care about modifying the day, since the final goal is to aggregate the data per month."
   ]
  },
  {
   "cell_type": "code",
   "execution_count": 10,
   "metadata": {},
   "outputs": [
    {
     "data": {
      "text/html": [
       "<div>\n",
       "<style>\n",
       "    .dataframe thead tr:only-child th {\n",
       "        text-align: right;\n",
       "    }\n",
       "\n",
       "    .dataframe thead th {\n",
       "        text-align: left;\n",
       "    }\n",
       "\n",
       "    .dataframe tbody tr th {\n",
       "        vertical-align: top;\n",
       "    }\n",
       "</style>\n",
       "<table border=\"1\" class=\"dataframe\">\n",
       "  <thead>\n",
       "    <tr style=\"text-align: right;\">\n",
       "      <th></th>\n",
       "      <th>avg_new_cases</th>\n",
       "      <th>avg_new_deaths</th>\n",
       "      <th>Country</th>\n",
       "    </tr>\n",
       "    <tr>\n",
       "      <th>Month</th>\n",
       "      <th></th>\n",
       "      <th></th>\n",
       "      <th></th>\n",
       "    </tr>\n",
       "  </thead>\n",
       "  <tbody>\n",
       "    <tr>\n",
       "      <th>8</th>\n",
       "      <td>4.16</td>\n",
       "      <td>0.57</td>\n",
       "      <td>Guinea</td>\n",
       "    </tr>\n",
       "    <tr>\n",
       "      <th>9</th>\n",
       "      <td>11.23</td>\n",
       "      <td>2.40</td>\n",
       "      <td>Guinea</td>\n",
       "    </tr>\n",
       "  </tbody>\n",
       "</table>\n",
       "</div>"
      ],
      "text/plain": [
       "       avg_new_cases  avg_new_deaths Country\n",
       "Month                                       \n",
       "8               4.16            0.57  Guinea\n",
       "9              11.23            2.40  Guinea"
      ]
     },
     "execution_count": 10,
     "metadata": {},
     "output_type": "execute_result"
    }
   ],
   "source": [
    "guinea_df_new.Month = guinea_df_new.Month.replace(10, 9)\n",
    "\n",
    "# New cases\n",
    "new_cases = guinea_df_new[guinea_df_new.Description == 'Total new cases registered so far']\n",
    "new_cases_grouped = new_cases.groupby('Month').agg(np.sum)/31\n",
    "new_cases_grouped.rename(columns={'Totals': 'avg_new_cases'}, inplace=True)\n",
    "\n",
    "# New deaths\n",
    "new_deaths = guinea_df_new[guinea_df_new.Description == 'New deaths registered']\n",
    "new_deaths_grouped = new_deaths.groupby('Month').agg(np.sum)/30\n",
    "new_deaths_grouped.rename(columns={'Totals': 'avg_new_deaths'}, inplace=True)\n",
    "\n",
    "# Concatenate\n",
    "guinea_conc = pd.concat([new_cases_grouped, new_deaths_grouped], axis=1)\n",
    "guinea_conc['Country'] = 'Guinea'\n",
    "\n",
    "pd.set_option('precision', 2)\n",
    "guinea_conc"
   ]
  },
  {
   "cell_type": "markdown",
   "metadata": {},
   "source": [
    "## Task 1.2. Liberia "
   ]
  },
  {
   "cell_type": "markdown",
   "metadata": {},
   "source": [
    "We follow the same procedure done for Guinea, in this case for Liberia:"
   ]
  },
  {
   "cell_type": "code",
   "execution_count": 11,
   "metadata": {},
   "outputs": [
    {
     "name": "stdout",
     "output_type": "stream",
     "text": [
      "Number of csv files: 100\n",
      "Shape guinea_df: (714, 3)\n",
      "Columns: Index(['Bomi County', 'Bong County', 'Date', 'Gbarpolu County', 'Grand Bassa',\n",
      "       'Grand Cape Mount', 'Grand Gedeh', 'Grand Kru', 'Lofa County',\n",
      "       'Margibi County', 'Maryland County', 'Montserrado County', 'National',\n",
      "       'Nimba County', 'River Gee County', 'RiverCess County', 'Sinoe County',\n",
      "       'Unnamed: 18', 'Variable'],\n",
      "      dtype='object')\n"
     ]
    }
   ],
   "source": [
    "# Import Liberia data in one file\n",
    "data_folder ='Data/ebola/liberia_data/'\n",
    "allFiles = glob.glob(data_folder + \"/*.csv\")\n",
    "print('Number of csv files:',len(allFiles))\n",
    "list_ = []\n",
    "for file_ in allFiles:\n",
    "    df = pd.read_csv(file_,index_col=None, header=0)\n",
    "    list_.append(df)\n",
    "liberia_df = pd.concat(list_)\n",
    "\n",
    "print('Shape guinea_df:',guinea_df.shape)\n",
    "print('Columns:', liberia_df.columns)"
   ]
  },
  {
   "cell_type": "markdown",
   "metadata": {},
   "source": [
    "We identifiy the column categories of our interest: `Date`, `Variable`, `National` \n",
    "\n",
    "We still keep the assumption that the National columns well accounts for all the new cases and deaths for each region."
   ]
  },
  {
   "cell_type": "code",
   "execution_count": 12,
   "metadata": {},
   "outputs": [
    {
     "data": {
      "text/html": [
       "<div>\n",
       "<style>\n",
       "    .dataframe thead tr:only-child th {\n",
       "        text-align: right;\n",
       "    }\n",
       "\n",
       "    .dataframe thead th {\n",
       "        text-align: left;\n",
       "    }\n",
       "\n",
       "    .dataframe tbody tr th {\n",
       "        vertical-align: top;\n",
       "    }\n",
       "</style>\n",
       "<table border=\"1\" class=\"dataframe\">\n",
       "  <thead>\n",
       "    <tr style=\"text-align: right;\">\n",
       "      <th></th>\n",
       "      <th>Date</th>\n",
       "      <th>Variable</th>\n",
       "      <th>National</th>\n",
       "    </tr>\n",
       "  </thead>\n",
       "  <tbody>\n",
       "    <tr>\n",
       "      <th>0</th>\n",
       "      <td>6/16/2014</td>\n",
       "      <td>Specimens collected</td>\n",
       "      <td>1.0</td>\n",
       "    </tr>\n",
       "    <tr>\n",
       "      <th>1</th>\n",
       "      <td>6/16/2014</td>\n",
       "      <td>Specimens pending for testing</td>\n",
       "      <td>0.0</td>\n",
       "    </tr>\n",
       "    <tr>\n",
       "      <th>2</th>\n",
       "      <td>6/16/2014</td>\n",
       "      <td>Total specimens tested</td>\n",
       "      <td>28.0</td>\n",
       "    </tr>\n",
       "    <tr>\n",
       "      <th>3</th>\n",
       "      <td>6/16/2014</td>\n",
       "      <td>Newly reported deaths</td>\n",
       "      <td>2.0</td>\n",
       "    </tr>\n",
       "    <tr>\n",
       "      <th>4</th>\n",
       "      <td>6/16/2014</td>\n",
       "      <td>Total death/s in confirmed cases</td>\n",
       "      <td>8.0</td>\n",
       "    </tr>\n",
       "  </tbody>\n",
       "</table>\n",
       "</div>"
      ],
      "text/plain": [
       "        Date                          Variable  National\n",
       "0  6/16/2014               Specimens collected       1.0\n",
       "1  6/16/2014     Specimens pending for testing       0.0\n",
       "2  6/16/2014            Total specimens tested      28.0\n",
       "3  6/16/2014             Newly reported deaths       2.0\n",
       "4  6/16/2014  Total death/s in confirmed cases       8.0"
      ]
     },
     "execution_count": 12,
     "metadata": {},
     "output_type": "execute_result"
    }
   ],
   "source": [
    "liberia_df = liberia_df[['Date','Variable', 'National']]\n",
    "liberia_df.head(5)"
   ]
  },
  {
   "cell_type": "markdown",
   "metadata": {},
   "source": [
    "In order to classify the new cases and new deaths, we need to know the different categories in Variables:"
   ]
  },
  {
   "cell_type": "code",
   "execution_count": 13,
   "metadata": {
    "scrolled": true
   },
   "outputs": [
    {
     "data": {
      "text/plain": [
       "Total death/s in probable cases                                     101\n",
       "Total death/s in suspected cases                                    101\n",
       "Cumulative cases among HCW                                          101\n",
       "Total death/s in confirmed cases                                    101\n",
       "Cumulative deaths among HCW                                         101\n",
       "Total contacts listed                                               100\n",
       "Currently under follow-up                                           100\n",
       "Total confirmed cases                                               100\n",
       "Newly Reported deaths in HCW                                        100\n",
       "Contacts seen                                                       100\n",
       "New Case/s (Probable)                                               100\n",
       "New case/s (confirmed)                                              100\n",
       "Contacts lost to follow-up                                          100\n",
       "Newly reported contacts                                             100\n",
       "Total discharges                                                    100\n",
       "Newly reported deaths                                               100\n",
       "New admissions                                                      100\n",
       "Newly Reported Cases in HCW                                         100\n",
       "New Case/s (Suspected)                                              100\n",
       "Total probable cases                                                100\n",
       "Total suspected cases                                               100\n",
       "Total specimens tested                                               99\n",
       "Specimens pending for testing                                        99\n",
       "Specimens collected                                                  99\n",
       "Cumulative admission/isolation                                       99\n",
       "Total Number of Confirmed Cases of Guinean Nationality               76\n",
       "Total death/s in confirmed, probable, suspected cases                76\n",
       "Contacts who completed 21 day follow-up                              76\n",
       "Total Number of Confirmed Cases of Sierra Leonean Nationality        76\n",
       "Case Fatality Rate (CFR) - Confirmed & Probable Cases                76\n",
       "Total no. currently in Treatment Units                               76\n",
       "Cumulative confirmed, probable and suspected cases                   33\n",
       "Total Number of Confirmed Cases \\n of Sierra Leonean Nationality     24\n",
       "Case Fatality Rate (CFR) - \\n Confirmed & Probable Cases             24\n",
       "Contacts who completed 21 day \\n follow-up                           24\n",
       "Total death/s in confirmed, \\n probable, suspected cases             24\n",
       "Total Number of Confirmed Cases \\n of Guinean Nationality            24\n",
       "Total no. currently in Treatment \\n Units                            24\n",
       "Cumulative (confirmed + probable + suspects)                         11\n",
       "Cumulative (confirmed + probable + suspected)                         2\n",
       "Total case/s (confirmed)                                              1\n",
       "Total Case/s (Probable)                                               1\n",
       "Total Case/s (Suspected)                                              1\n",
       "Cumulative CFR                                                        1\n",
       "Total death/s in confirmed,  probable, suspected cases                1\n",
       "Name: Variable, dtype: int64"
      ]
     },
     "execution_count": 13,
     "metadata": {},
     "output_type": "execute_result"
    }
   ],
   "source": [
    "liberia_df.Variable.value_counts()"
   ]
  },
  {
   "cell_type": "markdown",
   "metadata": {},
   "source": [
    "We are going to select the following:\n",
    "\n",
    "- Newly reported deaths\n",
    "- New case/s (confirmed)\n",
    "- New Case/s (Suspected)\n",
    "- New Case/s (Probable)\n",
    "\n",
    "since this choice seemed the most similar to the one previously did in the Guinea case.\n",
    "Let's concatenate this categories:"
   ]
  },
  {
   "cell_type": "code",
   "execution_count": 14,
   "metadata": {},
   "outputs": [
    {
     "name": "stdout",
     "output_type": "stream",
     "text": [
      "Shape liberia_df_new: (400, 3)\n"
     ]
    }
   ],
   "source": [
    "liberia_df_new = pd.concat([liberia_df[liberia_df.Variable == 'New Case/s (Probable)'],\n",
    "                            liberia_df[liberia_df.Variable  == 'New Case/s (Suspected)'],\n",
    "                            liberia_df[liberia_df.Variable  == 'New case/s (confirmed)'],\n",
    "                            liberia_df[liberia_df.Variable  == 'Newly reported deaths']])\n",
    "\n",
    "print('Shape liberia_df_new:', liberia_df_new.shape)"
   ]
  },
  {
   "cell_type": "markdown",
   "metadata": {},
   "source": [
    "The shape of the new concatenated dataframe is computed to verfify that there are 100 data entries per category as there are the same number evola reports. We are able to start with the data cleaning and analysis:"
   ]
  },
  {
   "cell_type": "code",
   "execution_count": 15,
   "metadata": {},
   "outputs": [
    {
     "name": "stdout",
     "output_type": "stream",
     "text": [
      "<class 'pandas.core.frame.DataFrame'>\n",
      "Int64Index: 400 entries, 24 to 3\n",
      "Data columns (total 3 columns):\n",
      "Date        400 non-null object\n",
      "Variable    400 non-null object\n",
      "National    400 non-null float64\n",
      "dtypes: float64(1), object(2)\n",
      "memory usage: 12.5+ KB\n"
     ]
    }
   ],
   "source": [
    "# Fill nan values with a 0 if there is any value null\n",
    "if liberia_df_new.National.isnull().any():\n",
    "    liberia_df_new = liberia_df_new.fillna(value=0)\n",
    "\n",
    "# Get the data type of each column\n",
    "liberia_df_new.info()"
   ]
  },
  {
   "cell_type": "markdown",
   "metadata": {},
   "source": [
    "As we did before, we modify the datatypes for each category and we create the `Month` column."
   ]
  },
  {
   "cell_type": "code",
   "execution_count": 16,
   "metadata": {},
   "outputs": [
    {
     "name": "stdout",
     "output_type": "stream",
     "text": [
      "<class 'pandas.core.frame.DataFrame'>\n",
      "Int64Index: 400 entries, 24 to 3\n",
      "Data columns (total 4 columns):\n",
      "Date        400 non-null datetime64[ns]\n",
      "Month       400 non-null int64\n",
      "Variable    400 non-null object\n",
      "National    400 non-null int64\n",
      "dtypes: datetime64[ns](1), int64(2), object(1)\n",
      "memory usage: 15.6+ KB\n"
     ]
    }
   ],
   "source": [
    "# Change to date format the Date column\n",
    "liberia_df_new.Date = liberia_df_new.Date.apply(lambda d: pd.to_datetime(d))\n",
    "liberia_df_new['Month'] = [date.month for date in liberia_df_new.Date] # Create a new column 'Month'\n",
    "liberia_df_new = liberia_df_new[['Date','Month', 'Variable', 'National']]\n",
    "\n",
    "# Change to numeric the Totals\n",
    "liberia_df_new['National'] = liberia_df_new['National'].apply(pd.to_numeric).astype(int)\n",
    "\n",
    "liberia_df_new.info()"
   ]
  },
  {
   "cell_type": "code",
   "execution_count": 17,
   "metadata": {},
   "outputs": [
    {
     "name": "stdout",
     "output_type": "stream",
     "text": [
      "10    25.0\n",
      "9     24.0\n",
      "11    15.0\n",
      "7     11.0\n",
      "12     9.0\n",
      "8      9.0\n",
      "6      7.0\n",
      "Name: Month, dtype: float64\n",
      "First date of June: 2014-06-16 00:00:00\n",
      "Last date of December: 2014-12-09 00:00:00\n"
     ]
    }
   ],
   "source": [
    "print(liberia_df_new.Month.value_counts()/4)\n",
    "print('First date of June:',np.min(liberia_df_new.Date))\n",
    "print('Last date of December:', np.max(liberia_df_new.Date))"
   ]
  },
  {
   "cell_type": "markdown",
   "metadata": {},
   "source": [
    "In this case, we will analyse the new cases and new deaths separately in order to aggregate the three categories meaning `new case`.\n",
    "\n",
    "In addition, it is identified an error on the number of new cases and deaths in December. For this reason, we drop the values for December. A further analysis could be to identify what is the exact error (apparently it has been used the cumulative value in the New column).\n"
   ]
  },
  {
   "cell_type": "code",
   "execution_count": 18,
   "metadata": {},
   "outputs": [
    {
     "data": {
      "text/html": [
       "<div>\n",
       "<style>\n",
       "    .dataframe thead tr:only-child th {\n",
       "        text-align: right;\n",
       "    }\n",
       "\n",
       "    .dataframe thead th {\n",
       "        text-align: left;\n",
       "    }\n",
       "\n",
       "    .dataframe tbody tr th {\n",
       "        vertical-align: top;\n",
       "    }\n",
       "</style>\n",
       "<table border=\"1\" class=\"dataframe\">\n",
       "  <thead>\n",
       "    <tr style=\"text-align: right;\">\n",
       "      <th></th>\n",
       "      <th>avg_new_cases</th>\n",
       "      <th>avg_new_deaths</th>\n",
       "      <th>Country</th>\n",
       "    </tr>\n",
       "    <tr>\n",
       "      <th>Month</th>\n",
       "      <th></th>\n",
       "      <th></th>\n",
       "      <th></th>\n",
       "    </tr>\n",
       "  </thead>\n",
       "  <tbody>\n",
       "    <tr>\n",
       "      <th>6</th>\n",
       "      <td>2.67</td>\n",
       "      <td>0.93</td>\n",
       "      <td>Liberia</td>\n",
       "    </tr>\n",
       "    <tr>\n",
       "      <th>7</th>\n",
       "      <td>3.03</td>\n",
       "      <td>1.52</td>\n",
       "      <td>Liberia</td>\n",
       "    </tr>\n",
       "    <tr>\n",
       "      <th>8</th>\n",
       "      <td>10.81</td>\n",
       "      <td>6.74</td>\n",
       "      <td>Liberia</td>\n",
       "    </tr>\n",
       "    <tr>\n",
       "      <th>9</th>\n",
       "      <td>51.07</td>\n",
       "      <td>28.83</td>\n",
       "      <td>Liberia</td>\n",
       "    </tr>\n",
       "    <tr>\n",
       "      <th>10</th>\n",
       "      <td>36.74</td>\n",
       "      <td>22.61</td>\n",
       "      <td>Liberia</td>\n",
       "    </tr>\n",
       "    <tr>\n",
       "      <th>11</th>\n",
       "      <td>13.23</td>\n",
       "      <td>6.73</td>\n",
       "      <td>Liberia</td>\n",
       "    </tr>\n",
       "  </tbody>\n",
       "</table>\n",
       "</div>"
      ],
      "text/plain": [
       "       avg_new_cases  avg_new_deaths  Country\n",
       "Month                                        \n",
       "6               2.67            0.93  Liberia\n",
       "7               3.03            1.52  Liberia\n",
       "8              10.81            6.74  Liberia\n",
       "9              51.07           28.83  Liberia\n",
       "10             36.74           22.61  Liberia\n",
       "11             13.23            6.73  Liberia"
      ]
     },
     "execution_count": 18,
     "metadata": {},
     "output_type": "execute_result"
    }
   ],
   "source": [
    "# New cases\n",
    "new_cases_l = pd.concat([liberia_df_new[liberia_df_new.Variable == 'New Case/s (Probable)'],\n",
    "                         liberia_df_new[liberia_df_new.Variable  == 'New Case/s (Suspected)'],\n",
    "                         liberia_df_new[liberia_df_new.Variable  == 'New case/s (confirmed)']])\n",
    "\n",
    "new_cases_l_grouped = new_cases_l.groupby('Month').agg(np.sum) # Ag\n",
    "new_cases_l_grouped = new_cases_l_grouped.rename(columns={'National': 'avg_new_cases'})\n",
    "\n",
    "# New deaths\n",
    "new_deaths_l = liberia_df_new[liberia_df_new.Variable == 'Newly reported deaths']\n",
    "new_deaths_l_grouped = new_deaths_l.groupby('Month').agg(np.sum)\n",
    "new_deaths_l_grouped = new_deaths_l_grouped.rename(columns={'National': 'avg_new_deaths'})\n",
    "liberia_conc = pd.concat([new_cases_l_grouped, new_deaths_l_grouped], axis=1)\n",
    "liberia_conc.drop(12, inplace=True)\n",
    "\n",
    "days_per_month = [15, 31, 31, 30, 31, 30]  \n",
    "pd.set_option('precision', 2)\n",
    "liberia_conc.avg_new_cases = liberia_conc.avg_new_cases/days_per_month\n",
    "liberia_conc.avg_new_deaths = liberia_conc.avg_new_deaths/days_per_month\n",
    "\n",
    "liberia_conc['Country'] = 'Liberia'\n",
    "liberia_conc"
   ]
  },
  {
   "cell_type": "markdown",
   "metadata": {},
   "source": [
    "## Task 1.3. Sierra leone\n"
   ]
  },
  {
   "cell_type": "markdown",
   "metadata": {},
   "source": [
    "Again, we follow the same procedure for Sierra leone."
   ]
  },
  {
   "cell_type": "code",
   "execution_count": 19,
   "metadata": {},
   "outputs": [
    {
     "name": "stdout",
     "output_type": "stream",
     "text": [
      "Number of csv files: 103\n",
      "Shape sl_df: (3262, 27)\n",
      "Columns: Index(['34 Military Hospital', 'Bo', 'Bo EMC', 'Bombali', 'Bonthe',\n",
      "       'Hastings-F/Town', 'Kailahun', 'Kambia', 'Kenema', 'Kenema (IFRC)',\n",
      "       'Kenema (KGH)', 'Koinadugu', 'Kono', 'Moyamba', 'National',\n",
      "       'Police training School', 'Police traning School', 'Port Loko',\n",
      "       'Pujehun', 'Tonkolili', 'Unnamed: 18', 'Western area',\n",
      "       'Western area combined', 'Western area rural', 'Western area urban',\n",
      "       'date', 'variable'],\n",
      "      dtype='object')\n"
     ]
    }
   ],
   "source": [
    "# Import Guinea data in one file\n",
    "data_folder ='Data/ebola/sl_data/'\n",
    "allFiles = glob.glob(data_folder + \"/*.csv\")\n",
    "print('Number of csv files:',len(allFiles))\n",
    "list_ = []\n",
    "for file_ in allFiles:\n",
    "    df = pd.read_csv(file_,index_col=None, header=0)\n",
    "    list_.append(df)\n",
    "sl_df = pd.concat(list_)\n",
    "\n",
    "print('Shape sl_df:',sl_df.shape)\n",
    "print('Columns:', sl_df.columns)"
   ]
  },
  {
   "cell_type": "markdown",
   "metadata": {},
   "source": [
    "We identify the columns of our interes: `date`, `variable` and `National`\n",
    "\n",
    "In order to identify the categories in `variables`"
   ]
  },
  {
   "cell_type": "code",
   "execution_count": 20,
   "metadata": {},
   "outputs": [
    {
     "data": {
      "text/plain": [
       "new_contacts              103\n",
       "cum_contacts              103\n",
       "cum_probable              103\n",
       "etc_new_discharges        103\n",
       "cum_completed_contacts    103\n",
       "contacts_ill              103\n",
       "cfr                       103\n",
       "etc_new_admission         103\n",
       "cum_noncase               103\n",
       "death_suspected           103\n",
       "death_probable            103\n",
       "new_probable              103\n",
       "new_completed_contacts    103\n",
       "new_noncase               103\n",
       "cum_confirmed             103\n",
       "contacts_not_seen         103\n",
       "etc_new_deaths            103\n",
       "contacts_followed         103\n",
       "population                103\n",
       "etc_currently_admitted    103\n",
       "etc_cum_discharges        103\n",
       "death_confirmed           103\n",
       "new_confirmed             103\n",
       "etc_cum_admission         103\n",
       "etc_cum_deaths            103\n",
       "cum_suspected             103\n",
       "percent_seen              103\n",
       "contacts_healthy          103\n",
       "new_suspected             103\n",
       "pending                    35\n",
       "negative_corpse            35\n",
       "positive_corpse            35\n",
       "new_negative               34\n",
       "new_samples                34\n",
       "total_lab_samples          34\n",
       "repeat_samples             34\n",
       "new_positive               34\n",
       "Name: variable, dtype: int64"
      ]
     },
     "execution_count": 20,
     "metadata": {},
     "output_type": "execute_result"
    }
   ],
   "source": [
    "# Switch the column order by name to have 'Date and 'Description' first. Used guinea_df.columns to know the columns\n",
    "sl_df = sl_df[['date','variable', 'National']]\n",
    "\n",
    "sl_df.variable.value_counts()"
   ]
  },
  {
   "cell_type": "markdown",
   "metadata": {},
   "source": [
    "It has been identified the following categories in `variables` for our interest:\n",
    "- new_confirmed\n",
    "- new_probable\n",
    "- new_suspected\n",
    "- death_confirmed\n",
    "\n",
    "We assume that when there is missing values in `Nationals` mean that it is equal to 0. Let's analyse first new cases categories. "
   ]
  },
  {
   "cell_type": "code",
   "execution_count": 21,
   "metadata": {},
   "outputs": [
    {
     "name": "stdout",
     "output_type": "stream",
     "text": [
      "<class 'pandas.core.frame.DataFrame'>\n",
      "Int64Index: 309 entries, 4 to 2\n",
      "Data columns (total 3 columns):\n",
      "date        309 non-null object\n",
      "variable    309 non-null object\n",
      "National    309 non-null object\n",
      "dtypes: object(3)\n",
      "memory usage: 9.7+ KB\n"
     ]
    }
   ],
   "source": [
    "# New cases \n",
    "sl_df_new = pd.concat([sl_df[sl_df.variable == 'new_confirmed'],\n",
    "                         sl_df[sl_df.variable  == 'new_probable'],\n",
    "                         sl_df[sl_df.variable  == 'new_suspected']])\n",
    "\n",
    "# Fill the missing values in Nationals with 0 \n",
    "sl_df_new = sl_df_new.fillna(value=0)\n",
    "\n",
    "sl_df_new.info()"
   ]
  },
  {
   "cell_type": "markdown",
   "metadata": {},
   "source": [
    "Let's change the format of the columns:"
   ]
  },
  {
   "cell_type": "code",
   "execution_count": 22,
   "metadata": {
    "collapsed": true
   },
   "outputs": [],
   "source": [
    "# Change to date format the Date column\n",
    "sl_df_new.date = sl_df_new.date.apply(lambda d: pd.to_datetime(d))\n",
    "sl_df_new['Month'] = [date.month for date in sl_df_new.date] \n",
    "sl_df_new = sl_df_new[['date','Month', 'variable', 'National']]\n",
    "sl_df_new.set_index('date', inplace=True)\n",
    "\n",
    "# Change to numeric the Totals\n",
    "sl_df_new['National'] = sl_df_new['National'].apply(pd.to_numeric).astype(int)"
   ]
  },
  {
   "cell_type": "code",
   "execution_count": 23,
   "metadata": {},
   "outputs": [
    {
     "name": "stdout",
     "output_type": "stream",
     "text": [
      "9     29.0\n",
      "10    28.0\n",
      "11    21.0\n",
      "8     20.0\n",
      "12     5.0\n",
      "Name: Month, dtype: float64\n",
      "First date of August: 2014-08-12 00:00:00\n",
      "Last date of December: 2014-12-13 00:00:00\n"
     ]
    },
    {
     "data": {
      "text/html": [
       "<div>\n",
       "<style>\n",
       "    .dataframe thead tr:only-child th {\n",
       "        text-align: right;\n",
       "    }\n",
       "\n",
       "    .dataframe thead th {\n",
       "        text-align: left;\n",
       "    }\n",
       "\n",
       "    .dataframe tbody tr th {\n",
       "        vertical-align: top;\n",
       "    }\n",
       "</style>\n",
       "<table border=\"1\" class=\"dataframe\">\n",
       "  <thead>\n",
       "    <tr style=\"text-align: right;\">\n",
       "      <th></th>\n",
       "      <th>avg_new_cases</th>\n",
       "    </tr>\n",
       "    <tr>\n",
       "      <th>Month</th>\n",
       "      <th></th>\n",
       "    </tr>\n",
       "  </thead>\n",
       "  <tbody>\n",
       "    <tr>\n",
       "      <th>8</th>\n",
       "      <td>503</td>\n",
       "    </tr>\n",
       "    <tr>\n",
       "      <th>9</th>\n",
       "      <td>1180</td>\n",
       "    </tr>\n",
       "    <tr>\n",
       "      <th>10</th>\n",
       "      <td>1986</td>\n",
       "    </tr>\n",
       "    <tr>\n",
       "      <th>11</th>\n",
       "      <td>1580</td>\n",
       "    </tr>\n",
       "    <tr>\n",
       "      <th>12</th>\n",
       "      <td>205</td>\n",
       "    </tr>\n",
       "  </tbody>\n",
       "</table>\n",
       "</div>"
      ],
      "text/plain": [
       "       avg_new_cases\n",
       "Month               \n",
       "8                503\n",
       "9               1180\n",
       "10              1986\n",
       "11              1580\n",
       "12               205"
      ]
     },
     "execution_count": 23,
     "metadata": {},
     "output_type": "execute_result"
    }
   ],
   "source": [
    "print(sl_df_new.Month.value_counts()/3)\n",
    "print('First date of August:',np.min(sl_df_new.index))\n",
    "print('Last date of December:', np.max(sl_df_new.index))\n",
    "# Aggregate the per month to get the total new cases per month\n",
    "sl_df_new = sl_df_new.groupby('Month').agg(np.sum)\n",
    "sl_df_new.rename(columns={'National': 'avg_new_cases'}, inplace=True)\n",
    "sl_df_new"
   ]
  },
  {
   "cell_type": "markdown",
   "metadata": {},
   "source": [
    "Let's analyse the new deaths. We identify that the category of `new_cases` is a cumulative value."
   ]
  },
  {
   "cell_type": "code",
   "execution_count": 25,
   "metadata": {},
   "outputs": [
    {
     "data": {
      "text/html": [
       "<div>\n",
       "<style>\n",
       "    .dataframe thead tr:only-child th {\n",
       "        text-align: right;\n",
       "    }\n",
       "\n",
       "    .dataframe thead th {\n",
       "        text-align: left;\n",
       "    }\n",
       "\n",
       "    .dataframe tbody tr th {\n",
       "        vertical-align: top;\n",
       "    }\n",
       "</style>\n",
       "<table border=\"1\" class=\"dataframe\">\n",
       "  <thead>\n",
       "    <tr style=\"text-align: right;\">\n",
       "      <th></th>\n",
       "      <th>avg_new_cases</th>\n",
       "      <th>avg_new_deaths</th>\n",
       "      <th>Country</th>\n",
       "    </tr>\n",
       "    <tr>\n",
       "      <th>Month</th>\n",
       "      <th></th>\n",
       "      <th></th>\n",
       "      <th></th>\n",
       "    </tr>\n",
       "  </thead>\n",
       "  <tbody>\n",
       "    <tr>\n",
       "      <th>8</th>\n",
       "      <td>503</td>\n",
       "      <td>5.35</td>\n",
       "      <td>Sierra Leone</td>\n",
       "    </tr>\n",
       "    <tr>\n",
       "      <th>9</th>\n",
       "      <td>1180</td>\n",
       "      <td>5.43</td>\n",
       "      <td>Sierra Leone</td>\n",
       "    </tr>\n",
       "    <tr>\n",
       "      <th>10</th>\n",
       "      <td>1986</td>\n",
       "      <td>16.77</td>\n",
       "      <td>Sierra Leone</td>\n",
       "    </tr>\n",
       "    <tr>\n",
       "      <th>11</th>\n",
       "      <td>1580</td>\n",
       "      <td>14.20</td>\n",
       "      <td>Sierra Leone</td>\n",
       "    </tr>\n",
       "    <tr>\n",
       "      <th>12</th>\n",
       "      <td>205</td>\n",
       "      <td>6.84</td>\n",
       "      <td>Sierra Leone</td>\n",
       "    </tr>\n",
       "  </tbody>\n",
       "</table>\n",
       "</div>"
      ],
      "text/plain": [
       "       avg_new_cases  avg_new_deaths       Country\n",
       "Month                                             \n",
       "8                503            5.35  Sierra Leone\n",
       "9               1180            5.43  Sierra Leone\n",
       "10              1986           16.77  Sierra Leone\n",
       "11              1580           14.20  Sierra Leone\n",
       "12               205            6.84  Sierra Leone"
      ]
     },
     "execution_count": 25,
     "metadata": {},
     "output_type": "execute_result"
    }
   ],
   "source": [
    "days = [31-8, 30, 31, 30, 31]\n",
    "sl_temp = sl_df[sl_df.variable == 'death_confirmed'] \n",
    "\n",
    "# Fill the missing values by backfill to compute the difference of the cumulative number of deaths to know the new deaths \n",
    "sl_temp = sl_temp.fillna(method='bfill')\n",
    "sl_temp = sl_temp.fillna('1708')\n",
    "\n",
    "# Change the data type of Nationals\n",
    "sl_temp['National'] = sl_temp['National'].apply(pd.to_numeric).astype(int)  # Change to numeric the Totals\n",
    "\n",
    "# Compute the new cases value by doing the difference\n",
    "sl_temp.National = sl_temp.National.diff().fillna(0)\n",
    "\n",
    "\n",
    "# Change to date format the Date column\n",
    "sl_temp.date = sl_temp.date.apply(lambda d: pd.to_datetime(d))\n",
    "sl_temp['Month'] = [date.month for date in sl_temp.date] # Create a new column 'Month'\n",
    "sl_temp = sl_temp[['date','Month', 'variable', 'National']]\n",
    "\n",
    "\n",
    "sl_temp.set_index('date', inplace=True)\n",
    "sl_temp = sl_temp.groupby('Month').sum()\n",
    "sl_temp.National = sl_temp.National/days\n",
    "sl_temp.rename(columns={'National':'avg_new_deaths'}, inplace=True)\n",
    "\n",
    "sl_conc = pd.concat([sl_df_new, sl_temp], axis=1)\n",
    "sl_conc['Country'] = 'Sierra Leone'\n",
    "sl_conc"
   ]
  },
  {
   "cell_type": "markdown",
   "metadata": {},
   "source": [
    "## Task 1.4. Conclusion"
   ]
  },
  {
   "cell_type": "code",
   "execution_count": 26,
   "metadata": {},
   "outputs": [
    {
     "data": {
      "text/html": [
       "<div>\n",
       "<style>\n",
       "    .dataframe thead tr:only-child th {\n",
       "        text-align: right;\n",
       "    }\n",
       "\n",
       "    .dataframe thead th {\n",
       "        text-align: left;\n",
       "    }\n",
       "\n",
       "    .dataframe tbody tr th {\n",
       "        vertical-align: top;\n",
       "    }\n",
       "</style>\n",
       "<table border=\"1\" class=\"dataframe\">\n",
       "  <thead>\n",
       "    <tr style=\"text-align: right;\">\n",
       "      <th></th>\n",
       "      <th></th>\n",
       "      <th>avg_new_cases</th>\n",
       "      <th>avg_new_deaths</th>\n",
       "    </tr>\n",
       "    <tr>\n",
       "      <th>Month</th>\n",
       "      <th>Country</th>\n",
       "      <th></th>\n",
       "      <th></th>\n",
       "    </tr>\n",
       "  </thead>\n",
       "  <tbody>\n",
       "    <tr>\n",
       "      <th>8</th>\n",
       "      <th>Guinea</th>\n",
       "      <td>4.16</td>\n",
       "      <td>0.57</td>\n",
       "    </tr>\n",
       "    <tr>\n",
       "      <th>9</th>\n",
       "      <th>Guinea</th>\n",
       "      <td>11.23</td>\n",
       "      <td>2.40</td>\n",
       "    </tr>\n",
       "    <tr>\n",
       "      <th>6</th>\n",
       "      <th>Liberia</th>\n",
       "      <td>2.67</td>\n",
       "      <td>0.93</td>\n",
       "    </tr>\n",
       "    <tr>\n",
       "      <th>7</th>\n",
       "      <th>Liberia</th>\n",
       "      <td>3.03</td>\n",
       "      <td>1.52</td>\n",
       "    </tr>\n",
       "    <tr>\n",
       "      <th>8</th>\n",
       "      <th>Liberia</th>\n",
       "      <td>10.81</td>\n",
       "      <td>6.74</td>\n",
       "    </tr>\n",
       "    <tr>\n",
       "      <th>9</th>\n",
       "      <th>Liberia</th>\n",
       "      <td>51.07</td>\n",
       "      <td>28.83</td>\n",
       "    </tr>\n",
       "    <tr>\n",
       "      <th>10</th>\n",
       "      <th>Liberia</th>\n",
       "      <td>36.74</td>\n",
       "      <td>22.61</td>\n",
       "    </tr>\n",
       "    <tr>\n",
       "      <th>11</th>\n",
       "      <th>Liberia</th>\n",
       "      <td>13.23</td>\n",
       "      <td>6.73</td>\n",
       "    </tr>\n",
       "    <tr>\n",
       "      <th>8</th>\n",
       "      <th>Sierra Leone</th>\n",
       "      <td>503.00</td>\n",
       "      <td>5.35</td>\n",
       "    </tr>\n",
       "    <tr>\n",
       "      <th>9</th>\n",
       "      <th>Sierra Leone</th>\n",
       "      <td>1180.00</td>\n",
       "      <td>5.43</td>\n",
       "    </tr>\n",
       "    <tr>\n",
       "      <th>10</th>\n",
       "      <th>Sierra Leone</th>\n",
       "      <td>1986.00</td>\n",
       "      <td>16.77</td>\n",
       "    </tr>\n",
       "    <tr>\n",
       "      <th>11</th>\n",
       "      <th>Sierra Leone</th>\n",
       "      <td>1580.00</td>\n",
       "      <td>14.20</td>\n",
       "    </tr>\n",
       "    <tr>\n",
       "      <th>12</th>\n",
       "      <th>Sierra Leone</th>\n",
       "      <td>205.00</td>\n",
       "      <td>6.84</td>\n",
       "    </tr>\n",
       "  </tbody>\n",
       "</table>\n",
       "</div>"
      ],
      "text/plain": [
       "                    avg_new_cases  avg_new_deaths\n",
       "Month Country                                    \n",
       "8     Guinea                 4.16            0.57\n",
       "9     Guinea                11.23            2.40\n",
       "6     Liberia                2.67            0.93\n",
       "7     Liberia                3.03            1.52\n",
       "8     Liberia               10.81            6.74\n",
       "9     Liberia               51.07           28.83\n",
       "10    Liberia               36.74           22.61\n",
       "11    Liberia               13.23            6.73\n",
       "8     Sierra Leone         503.00            5.35\n",
       "9     Sierra Leone        1180.00            5.43\n",
       "10    Sierra Leone        1986.00           16.77\n",
       "11    Sierra Leone        1580.00           14.20\n",
       "12    Sierra Leone         205.00            6.84"
      ]
     },
     "execution_count": 26,
     "metadata": {},
     "output_type": "execute_result"
    }
   ],
   "source": [
    "evola = pd.DataFrame()\n",
    "evola = pd.concat([guinea_conc, liberia_conc, sl_conc])\n",
    "evola = evola.reset_index()\n",
    "evola.set_index(['Month', 'Country'])"
   ]
  },
  {
   "cell_type": "markdown",
   "metadata": {},
   "source": [
    "## Task 2. RNA Sequences\n",
    "\n",
    "In the `DATA_FOLDER/microbiome` subdirectory, there are 9 spreadsheets of microbiome data that was acquired from high-throughput RNA sequencing procedures, along with a 10<sup>th</sup> file that describes the content of each. \n",
    "\n",
    "Use pandas to import the first 9 spreadsheets into a single `DataFrame`.\n",
    "Then, add the metadata information from the 10<sup>th</sup> spreadsheet as columns in the combined `DataFrame`.\n",
    "Make sure that the final `DataFrame` has a unique index and all the `NaN` values have been replaced by the tag `unknown`."
   ]
  },
  {
   "cell_type": "code",
   "execution_count": null,
   "metadata": {
    "collapsed": true
   },
   "outputs": [],
   "source": [
    "# Write your answer here"
   ]
  },
  {
   "cell_type": "markdown",
   "metadata": {},
   "source": [
    "## Task 3. Class War in Titanic\n",
    "\n",
    "Use pandas to import the data file `Data/titanic.xls`. It contains data on all the passengers that travelled on the Titanic."
   ]
  },
  {
   "cell_type": "code",
   "execution_count": null,
   "metadata": {},
   "outputs": [],
   "source": [
    "from IPython.core.display import HTML\n",
    "HTML(filename=DATA_FOLDER+'/titanic.html')"
   ]
  },
  {
   "cell_type": "markdown",
   "metadata": {},
   "source": [
    "For each of the following questions state clearly your assumptions and discuss your findings:\n",
    "1. Describe the *type* and the *value range* of each attribute. Indicate and transform the attributes that can be `Categorical`. \n",
    "2. Plot histograms for the *travel class*, *embarkation port*, *sex* and *age* attributes. For the latter one, use *discrete decade intervals*. \n",
    "3. Calculate the proportion of passengers by *cabin floor*. Present your results in a *pie chart*.\n",
    "4. For each *travel class*, calculate the proportion of the passengers that survived. Present your results in *pie charts*.\n",
    "5. Calculate the proportion of the passengers that survived by *travel class* and *sex*. Present your results in *a single histogram*.\n",
    "6. Create 2 equally populated *age categories* and calculate survival proportions by *age category*, *travel class* and *sex*. Present your results in a `DataFrame` with unique index."
   ]
  },
  {
   "cell_type": "code",
   "execution_count": null,
   "metadata": {
    "collapsed": true
   },
   "outputs": [],
   "source": [
    "# Write your answer here"
   ]
  }
 ],
 "metadata": {
  "kernelspec": {
   "display_name": "Python 3",
   "language": "python",
   "name": "python3"
  },
  "language_info": {
   "codemirror_mode": {
    "name": "ipython",
    "version": 3
   },
   "file_extension": ".py",
   "mimetype": "text/x-python",
   "name": "python",
   "nbconvert_exporter": "python",
   "pygments_lexer": "ipython3",
   "version": "3.6.1"
  }
 },
 "nbformat": 4,
 "nbformat_minor": 2
}
