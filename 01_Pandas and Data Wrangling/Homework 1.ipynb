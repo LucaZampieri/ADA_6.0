{
 "cells": [
  {
   "cell_type": "markdown",
   "metadata": {},
   "source": [
    "# Table of Contents\n",
    " <p><div class=\"lev1\"><a href=\"#Task-1.-Compiling-Ebola-Data\"><span class=\"toc-item-num\">Task 1.&nbsp;&nbsp;</span>Compiling Ebola Data</a></div>\n",
    " <div class=\"lev1\"><a href=\"#Task-2.-RNA-Sequences\"><span class=\"toc-item-num\">Task 2.&nbsp;&nbsp;</span>RNA Sequences</a></div>\n",
    " <div class=\"lev1\"><a href=\"#Task-3.-Class-War-in-Titanic\"><span class=\"toc-item-num\">Task 3.&nbsp;&nbsp;</span>Class War in Titanic</a></div></p>"
   ]
  },
  {
   "cell_type": "code",
   "execution_count": 26,
   "metadata": {},
   "outputs": [],
   "source": [
    "DATA_FOLDER = 'Data/ebola' # Use the data folder provided in Tutorial 02 - Intro to Pandas."
   ]
  },
  {
   "cell_type": "markdown",
   "metadata": {},
   "source": [
    "## Task 1. Compiling Ebola Data\n",
    "\n",
    "The `DATA_FOLDER/ebola` folder contains summarized reports of Ebola cases from three countries (Guinea, Liberia and Sierra Leone) during the recent outbreak of the disease in West Africa. For each country, there are daily reports that contain various information about the outbreak in several cities in each country.\n",
    "\n",
    "Use pandas to import these data files into a single `Dataframe`.\n",
    "Using this `DataFrame`, calculate for *each country*, the *daily average per month* of *new cases* and *deaths*.\n",
    "Make sure you handle all the different expressions for *new cases* and *deaths* that are used in the reports."
   ]
  },
  {
   "cell_type": "code",
   "execution_count": 1,
   "metadata": {},
   "outputs": [],
   "source": [
    "# Import libraries\n",
    "import pandas as pd\n",
    "import numpy as np\n",
    "import glob  # finds all the pathnames matching a specified pattern\n",
    "pd.options.mode.chained_assignment = None  # default='warn', Mutes warnings when copying a slice from a DataFrame.\n",
    "from datetime import datetime, date, time\n",
    "from dateutil.parser import parse"
   ]
  },
  {
   "cell_type": "markdown",
   "metadata": {},
   "source": [
    "- Import the different reports in a DataFrame's and merge by country (Adding two different columns: report_date and country)\n",
    "- Merge 3 DataFrame's in one\n",
    "- For each country:\n",
    "    - Daily average per month of new cases\n",
    "    - Daily avg per month of deaths\n",
    "  "
   ]
  },
  {
   "cell_type": "markdown",
   "metadata": {},
   "source": [
    "# Task 1.1. Guinea"
   ]
  },
  {
   "cell_type": "markdown",
   "metadata": {},
   "source": [
    "First, all the files on the guine_data folder have to be merged in a dataframe called `guinea_df`."
   ]
  },
  {
   "cell_type": "code",
   "execution_count": 2,
   "metadata": {},
   "outputs": [
    {
     "name": "stdout",
     "output_type": "stream",
     "text": [
      "Shape guinea_df: (714, 25)\n",
      "Columns: Index(['Beyla', 'Boffa', 'Conakry', 'Coyah', 'Dabola', 'Dalaba', 'Date',\n",
      "       'Description', 'Dinguiraye', 'Dubreka', 'Forecariah', 'Gueckedou',\n",
      "       'Kerouane', 'Kindia', 'Kissidougou', 'Kouroussa', 'Lola', 'Macenta',\n",
      "       'Mzerekore', 'Nzerekore', 'Pita', 'Siguiri', 'Telimele', 'Totals',\n",
      "       'Yomou'],\n",
      "      dtype='object')\n"
     ]
    }
   ],
   "source": [
    "# Import Guinea data in one file\n",
    "data_folder ='Data/ebola/guinea_data/'\n",
    "allFiles = glob.glob(data_folder + \"/*.csv\")\n",
    "frame = pd.DataFrame()\n",
    "list_ = []\n",
    "for file_ in allFiles:\n",
    "    df = pd.read_csv(file_,index_col=None, header=0)\n",
    "    list_.append(df)\n",
    "guinea_df = pd.concat(list_)\n",
    "\n",
    "print('Shape guinea_df:',guinea_df.shape)\n",
    "print('Columns:', guinea_df.columns)"
   ]
  },
  {
   "cell_type": "markdown",
   "metadata": {},
   "source": [
    "For our analysis, it is needed only the rows corresponding to the new cases and deaths and the columns of `Date`, `Description` and `Totals`. Let's check which raws we need to select by checking on the `Description` column."
   ]
  },
  {
   "cell_type": "code",
   "execution_count": 18,
   "metadata": {},
   "outputs": [
    {
     "data": {
      "text/html": [
       "<div>\n",
       "<style>\n",
       "    .dataframe thead tr:only-child th {\n",
       "        text-align: right;\n",
       "    }\n",
       "\n",
       "    .dataframe thead th {\n",
       "        text-align: left;\n",
       "    }\n",
       "\n",
       "    .dataframe tbody tr th {\n",
       "        vertical-align: top;\n",
       "    }\n",
       "</style>\n",
       "<table border=\"1\" class=\"dataframe\">\n",
       "  <thead>\n",
       "    <tr style=\"text-align: right;\">\n",
       "      <th></th>\n",
       "      <th>Date</th>\n",
       "      <th>Description</th>\n",
       "      <th>Totals</th>\n",
       "    </tr>\n",
       "  </thead>\n",
       "  <tbody>\n",
       "    <tr>\n",
       "      <th>0</th>\n",
       "      <td>2014-08-04</td>\n",
       "      <td>New cases of suspects</td>\n",
       "      <td>5</td>\n",
       "    </tr>\n",
       "    <tr>\n",
       "      <th>1</th>\n",
       "      <td>2014-08-04</td>\n",
       "      <td>New cases of probables</td>\n",
       "      <td>0</td>\n",
       "    </tr>\n",
       "    <tr>\n",
       "      <th>2</th>\n",
       "      <td>2014-08-04</td>\n",
       "      <td>New cases of confirmed</td>\n",
       "      <td>4</td>\n",
       "    </tr>\n",
       "    <tr>\n",
       "      <th>3</th>\n",
       "      <td>2014-08-04</td>\n",
       "      <td>Total new cases registered so far</td>\n",
       "      <td>9</td>\n",
       "    </tr>\n",
       "    <tr>\n",
       "      <th>4</th>\n",
       "      <td>2014-08-04</td>\n",
       "      <td>Total cases of suspects</td>\n",
       "      <td>11</td>\n",
       "    </tr>\n",
       "  </tbody>\n",
       "</table>\n",
       "</div>"
      ],
      "text/plain": [
       "         Date                        Description Totals\n",
       "0  2014-08-04              New cases of suspects      5\n",
       "1  2014-08-04             New cases of probables      0\n",
       "2  2014-08-04             New cases of confirmed      4\n",
       "3  2014-08-04  Total new cases registered so far      9\n",
       "4  2014-08-04            Total cases of suspects     11"
      ]
     },
     "execution_count": 18,
     "metadata": {},
     "output_type": "execute_result"
    }
   ],
   "source": [
    "# Switch the column order by name to have 'Date and 'Description' first. Used guinea_df.columns to know the columns\n",
    "guinea_df = guinea_df[['Date','Description', 'Totals']]\n",
    "\n",
    "guinea_df.head(5)"
   ]
  },
  {
   "cell_type": "markdown",
   "metadata": {},
   "source": [
    "From the array above, we can identify different classes for new cases and new deaths. Let's select the raws of our interest: \n",
    " - `Total new cases registered so far`\n",
    " - `New death registered today`\n",
    " - `New death registered`\n",
    "\n",
    "As we can see, we should merge the two last classes of `Description` in order to compare both new cases and deaths. In addition, we are going to check the shape of boths dataframe to verify that we are not forgetting any information on the merging."
   ]
  },
  {
   "cell_type": "code",
   "execution_count": 4,
   "metadata": {},
   "outputs": [
    {
     "name": "stdout",
     "output_type": "stream",
     "text": [
      "Shape guinea_df_new: (44, 3)\n"
     ]
    }
   ],
   "source": [
    "guinea_df_new = pd.concat([guinea_df[guinea_df.Description == 'Total new cases registered so far'],\n",
    "                           guinea_df[guinea_df.Description  == 'New deaths registered'],\n",
    "                           guinea_df[guinea_df.Description  == 'New deaths registered today']])\n",
    "\n",
    "# Aggregate New deaths in only one category\n",
    "guinea_df_new.Description = guinea_df_new.Description.replace('New deaths registered today', 'New deaths registered')\n",
    "\n",
    "print('Shape guinea_df_new:', guinea_df_new.shape)"
   ]
  },
  {
   "cell_type": "markdown",
   "metadata": {},
   "source": [
    " Once the raws with all the relevant information for our analysis has been concatenated, we start the data cleaning "
   ]
  },
  {
   "cell_type": "code",
   "execution_count": 8,
   "metadata": {},
   "outputs": [
    {
     "name": "stdout",
     "output_type": "stream",
     "text": [
      "<class 'pandas.core.frame.DataFrame'>\n",
      "Int64Index: 44 entries, 3 to 8\n",
      "Data columns (total 3 columns):\n",
      "Date           44 non-null object\n",
      "Description    44 non-null object\n",
      "Totals         44 non-null object\n",
      "dtypes: object(3)\n",
      "memory usage: 1.4+ KB\n"
     ]
    }
   ],
   "source": [
    "# Fill nan values with a 0 if there is any value null\n",
    "if guinea_df_new.Totals.isnull().any():\n",
    "    guinea_df_new = guinea_df_new.fillna(value=0)\n",
    "\n",
    "# Get the data type of each column\n",
    "guinea_df_new.info()"
   ]
  },
  {
   "cell_type": "markdown",
   "metadata": {},
   "source": [
    "Let's transform the `Date` column in datetime format and the `Totals` column to numeric:"
   ]
  },
  {
   "cell_type": "code",
   "execution_count": 9,
   "metadata": {},
   "outputs": [
    {
     "name": "stdout",
     "output_type": "stream",
     "text": [
      "<class 'pandas.core.frame.DataFrame'>\n",
      "Int64Index: 44 entries, 3 to 8\n",
      "Data columns (total 4 columns):\n",
      "Date           44 non-null datetime64[ns]\n",
      "Month          44 non-null int64\n",
      "Description    44 non-null object\n",
      "Totals         44 non-null int64\n",
      "dtypes: datetime64[ns](1), int64(2), object(1)\n",
      "memory usage: 1.7+ KB\n"
     ]
    }
   ],
   "source": [
    "# Change to date format the Date column\n",
    "guinea_df_new.Date = guinea_df_new.Date.apply(lambda d: pd.to_datetime(d))\n",
    "guinea_df_new['Month'] = [date.month for date in guinea_df_new.Date] # Create a new column 'Month'\n",
    "guinea_df_new = guinea_df_new[['Date','Month', 'Description', 'Totals']]\n",
    "\n",
    "# Change to numeric the Totals\n",
    "guinea_df_new['Totals'] = guinea_df_new['Totals'].apply(pd.to_numeric).astype(int)\n",
    "\n",
    "guinea_df_new.info()"
   ]
  },
  {
   "cell_type": "markdown",
   "metadata": {},
   "source": [
    "In order to compute the daily average monthly, some assumptions have to be taken in account:\n",
    "- The data from the ebola dataset are from month 8 and 9. The only file containing data from month 10, as is taken on the first of the month, can be considered from the month before.\n"
   ]
  },
  {
   "cell_type": "code",
   "execution_count": 17,
   "metadata": {},
   "outputs": [
    {
     "data": {
      "text/html": [
       "<div>\n",
       "<style>\n",
       "    .dataframe thead tr:only-child th {\n",
       "        text-align: right;\n",
       "    }\n",
       "\n",
       "    .dataframe thead th {\n",
       "        text-align: left;\n",
       "    }\n",
       "\n",
       "    .dataframe tbody tr th {\n",
       "        vertical-align: top;\n",
       "    }\n",
       "</style>\n",
       "<table border=\"1\" class=\"dataframe\">\n",
       "  <thead>\n",
       "    <tr style=\"text-align: right;\">\n",
       "      <th></th>\n",
       "      <th>avg_new_deaths</th>\n",
       "      <th>avg_new_deaths</th>\n",
       "    </tr>\n",
       "    <tr>\n",
       "      <th>Month</th>\n",
       "      <th></th>\n",
       "      <th></th>\n",
       "    </tr>\n",
       "  </thead>\n",
       "  <tbody>\n",
       "    <tr>\n",
       "      <th>8</th>\n",
       "      <td>4.3</td>\n",
       "      <td>0.566667</td>\n",
       "    </tr>\n",
       "    <tr>\n",
       "      <th>9</th>\n",
       "      <td>11.6</td>\n",
       "      <td>2.400000</td>\n",
       "    </tr>\n",
       "  </tbody>\n",
       "</table>\n",
       "</div>"
      ],
      "text/plain": [
       "       avg_new_deaths  avg_new_deaths\n",
       "Month                                \n",
       "8                 4.3        0.566667\n",
       "9                11.6        2.400000"
      ]
     },
     "execution_count": 17,
     "metadata": {},
     "output_type": "execute_result"
    }
   ],
   "source": [
    "guinea_df_new.Month = guinea_df_new.Month.replace(10, 9)\n",
    "\n",
    "# New cases\n",
    "new_cases = guinea_df_new[guinea_df_new.Description == 'Total new cases registered so far']\n",
    "new_cases_grouped = new_cases.groupby('Month').agg(np.sum)/30\n",
    "\n",
    "# New deaths\n",
    "new_deaths = guinea_df_new[guinea_df_new.Description == 'New deaths registered']\n",
    "new_deaths_grouped = new_deaths.groupby('Month').agg(np.sum)/30\n",
    "\n",
    "guinea_conc = pd.concat([new_cases_grouped, new_deaths_grouped], axis=1)\n",
    "guinea_conc = guinea_conc.rename(columns={'Totals': 'avg_new_cases', 'Totals': 'avg_new_deaths'})\n",
    "guinea_conc"
   ]
  },
  {
   "cell_type": "markdown",
   "metadata": {},
   "source": [
    "# Liberia "
   ]
  },
  {
   "cell_type": "code",
   "execution_count": 19,
   "metadata": {},
   "outputs": [
    {
     "name": "stdout",
     "output_type": "stream",
     "text": [
      "Shape guinea_df: (714, 3)\n",
      "Columns: Index(['Date', 'Description', 'Totals'], dtype='object')\n"
     ]
    }
   ],
   "source": [
    "# Import Liberia data in one file\n",
    "data_folder ='Data/ebola/liberia_data/'\n",
    "allFiles = glob.glob(data_folder + \"/*.csv\")\n",
    "liberia_df = pd.DataFrame()\n",
    "list_ = []\n",
    "for file_ in allFiles:\n",
    "    df = pd.read_csv(file_,index_col=None, header=0)\n",
    "    list_.append(df)\n",
    "liberia_df = pd.concat(list_)\n",
    "\n",
    "print('Shape guinea_df:',guinea_df.shape)\n",
    "print('Columns:', guinea_df.columns)"
   ]
  },
  {
   "cell_type": "code",
   "execution_count": 20,
   "metadata": {},
   "outputs": [
    {
     "data": {
      "text/html": [
       "<div>\n",
       "<style>\n",
       "    .dataframe thead tr:only-child th {\n",
       "        text-align: right;\n",
       "    }\n",
       "\n",
       "    .dataframe thead th {\n",
       "        text-align: left;\n",
       "    }\n",
       "\n",
       "    .dataframe tbody tr th {\n",
       "        vertical-align: top;\n",
       "    }\n",
       "</style>\n",
       "<table border=\"1\" class=\"dataframe\">\n",
       "  <thead>\n",
       "    <tr style=\"text-align: right;\">\n",
       "      <th></th>\n",
       "      <th>Date</th>\n",
       "      <th>Variable</th>\n",
       "      <th>National</th>\n",
       "    </tr>\n",
       "  </thead>\n",
       "  <tbody>\n",
       "    <tr>\n",
       "      <th>0</th>\n",
       "      <td>6/16/2014</td>\n",
       "      <td>Specimens collected</td>\n",
       "      <td>1.0</td>\n",
       "    </tr>\n",
       "    <tr>\n",
       "      <th>1</th>\n",
       "      <td>6/16/2014</td>\n",
       "      <td>Specimens pending for testing</td>\n",
       "      <td>0.0</td>\n",
       "    </tr>\n",
       "    <tr>\n",
       "      <th>2</th>\n",
       "      <td>6/16/2014</td>\n",
       "      <td>Total specimens tested</td>\n",
       "      <td>28.0</td>\n",
       "    </tr>\n",
       "    <tr>\n",
       "      <th>3</th>\n",
       "      <td>6/16/2014</td>\n",
       "      <td>Newly reported deaths</td>\n",
       "      <td>2.0</td>\n",
       "    </tr>\n",
       "    <tr>\n",
       "      <th>4</th>\n",
       "      <td>6/16/2014</td>\n",
       "      <td>Total death/s in confirmed cases</td>\n",
       "      <td>8.0</td>\n",
       "    </tr>\n",
       "  </tbody>\n",
       "</table>\n",
       "</div>"
      ],
      "text/plain": [
       "        Date                          Variable  National\n",
       "0  6/16/2014               Specimens collected       1.0\n",
       "1  6/16/2014     Specimens pending for testing       0.0\n",
       "2  6/16/2014            Total specimens tested      28.0\n",
       "3  6/16/2014             Newly reported deaths       2.0\n",
       "4  6/16/2014  Total death/s in confirmed cases       8.0"
      ]
     },
     "execution_count": 20,
     "metadata": {},
     "output_type": "execute_result"
    }
   ],
   "source": [
    "liberia_df = liberia_df[['Date','Variable', 'National']]\n",
    "liberia_df.head(5)"
   ]
  },
  {
   "cell_type": "code",
   "execution_count": 22,
   "metadata": {
    "scrolled": true
   },
   "outputs": [
    {
     "data": {
      "text/plain": [
       "Total death/s in confirmed cases    101\n",
       "Total death/s in probable cases     101\n",
       "Total death/s in suspected cases    101\n",
       "Cumulative cases among HCW          101\n",
       "Cumulative deaths among HCW         101\n",
       "Newly Reported Cases in HCW         100\n",
       "Contacts seen                       100\n",
       "Total suspected cases               100\n",
       "Total confirmed cases               100\n",
       "Total discharges                    100\n",
       "Newly Reported deaths in HCW        100\n",
       "Currently under follow-up           100\n",
       "Newly reported contacts             100\n",
       "Newly reported deaths               100\n",
       "New Case/s (Probable)               100\n",
       "New admissions                      100\n",
       "Total probable cases                100\n",
       "New case/s (confirmed)              100\n",
       "New Case/s (Suspected)              100\n",
       "Contacts lost to follow-up          100\n",
       "Name: Variable, dtype: int64"
      ]
     },
     "execution_count": 22,
     "metadata": {},
     "output_type": "execute_result"
    }
   ],
   "source": [
    "liberia_df.Variable.value_counts().head(20)"
   ]
  },
  {
   "cell_type": "markdown",
   "metadata": {},
   "source": [
    "As we did in the guina dataset, we need to select the variables names related to the new cases and new deaths:\n",
    "- Newly reported deaths\n",
    "- New case/s (confirmed)\n",
    "- New Case/s (Suspected)\n",
    "- New Case/s (Probable)"
   ]
  },
  {
   "cell_type": "code",
   "execution_count": 37,
   "metadata": {},
   "outputs": [
    {
     "name": "stdout",
     "output_type": "stream",
     "text": [
      "Shape liberia_df_new: (400, 3)\n"
     ]
    }
   ],
   "source": [
    "# New cases \n",
    "liberia_df_new = pd.concat([liberia_df[liberia_df.Variable == 'New Case/s (Probable)'],\n",
    "                         liberia_df[liberia_df.Variable  == 'New Case/s (Suspected)'],\n",
    "                         liberia_df[liberia_df.Variable  == 'New case/s (confirmed)'],\n",
    "                         liberia_df[liberia_df.Variable  == 'Newly reported deaths']])\n",
    "\n",
    "print('Shape liberia_df_new:', liberia_df_new.shape)\n",
    "#new_cases_l.set_index('Date', inplace=True)\n",
    "#new_cases_l = new_cases_l.groupby(new_cases_l.index).sum()\n",
    "\n",
    "# New deaths\n"
   ]
  },
  {
   "cell_type": "code",
   "execution_count": 40,
   "metadata": {},
   "outputs": [
    {
     "name": "stdout",
     "output_type": "stream",
     "text": [
      "<class 'pandas.core.frame.DataFrame'>\n",
      "Int64Index: 400 entries, 24 to 3\n",
      "Data columns (total 3 columns):\n",
      "Date        400 non-null object\n",
      "Variable    400 non-null object\n",
      "National    400 non-null float64\n",
      "dtypes: float64(1), object(2)\n",
      "memory usage: 12.5+ KB\n"
     ]
    }
   ],
   "source": [
    "# Fill nan values with a 0 if there is any value null\n",
    "if liberia_df_new.National.isnull().any():\n",
    "    liberia_df_new = liberia_df_new.fillna(value=0)\n",
    "\n",
    "# Get the data type of each column\n",
    "liberia_df_new.info()"
   ]
  },
  {
   "cell_type": "markdown",
   "metadata": {},
   "source": [
    "Now we need to change the format of the columns to treat them."
   ]
  },
  {
   "cell_type": "code",
   "execution_count": null,
   "metadata": {},
   "outputs": [],
   "source": []
  },
  {
   "cell_type": "markdown",
   "metadata": {},
   "source": [
    "## Task 2. RNA Sequences\n",
    "\n",
    "In the `DATA_FOLDER/microbiome` subdirectory, there are 9 spreadsheets of microbiome data that was acquired from high-throughput RNA sequencing procedures, along with a 10<sup>th</sup> file that describes the content of each. \n",
    "\n",
    "Use pandas to import the first 9 spreadsheets into a single `DataFrame`.\n",
    "Then, add the metadata information from the 10<sup>th</sup> spreadsheet as columns in the combined `DataFrame`.\n",
    "Make sure that the final `DataFrame` has a unique index and all the `NaN` values have been replaced by the tag `unknown`."
   ]
  },
  {
   "cell_type": "code",
   "execution_count": null,
   "metadata": {},
   "outputs": [],
   "source": [
    "# Write your answer here"
   ]
  },
  {
   "cell_type": "markdown",
   "metadata": {},
   "source": [
    "## Task 3. Class War in Titanic\n",
    "\n",
    "Use pandas to import the data file `Data/titanic.xls`. It contains data on all the passengers that travelled on the Titanic."
   ]
  },
  {
   "cell_type": "code",
   "execution_count": null,
   "metadata": {},
   "outputs": [],
   "source": [
    "from IPython.core.display import HTML\n",
    "HTML(filename=DATA_FOLDER+'/titanic.html')"
   ]
  },
  {
   "cell_type": "markdown",
   "metadata": {},
   "source": [
    "For each of the following questions state clearly your assumptions and discuss your findings:\n",
    "1. Describe the *type* and the *value range* of each attribute. Indicate and transform the attributes that can be `Categorical`. \n",
    "2. Plot histograms for the *travel class*, *embarkation port*, *sex* and *age* attributes. For the latter one, use *discrete decade intervals*. \n",
    "3. Calculate the proportion of passengers by *cabin floor*. Present your results in a *pie chart*.\n",
    "4. For each *travel class*, calculate the proportion of the passengers that survived. Present your results in *pie charts*.\n",
    "5. Calculate the proportion of the passengers that survived by *travel class* and *sex*. Present your results in *a single histogram*.\n",
    "6. Create 2 equally populated *age categories* and calculate survival proportions by *age category*, *travel class* and *sex*. Present your results in a `DataFrame` with unique index."
   ]
  },
  {
   "cell_type": "code",
   "execution_count": null,
   "metadata": {},
   "outputs": [],
   "source": [
    "# Write your answer here"
   ]
  }
 ],
 "metadata": {
  "kernelspec": {
   "display_name": "Python [conda root]",
   "language": "python",
   "name": "conda-root-py"
  },
  "language_info": {
   "codemirror_mode": {
    "name": "ipython",
    "version": 3
   },
   "file_extension": ".py",
   "mimetype": "text/x-python",
   "name": "python",
   "nbconvert_exporter": "python",
   "pygments_lexer": "ipython3",
   "version": "3.6.1"
  }
 },
 "nbformat": 4,
 "nbformat_minor": 2
}
