{
 "cells": [
  {
   "cell_type": "markdown",
   "metadata": {},
   "source": [
    "# Table of Contents\n",
    " <p><div class=\"lev1\"><a href=\"#Task-1.-Compiling-Ebola-Data\"><span class=\"toc-item-num\">Task 1.&nbsp;&nbsp;</span>Compiling Ebola Data</a></div>\n",
    " <div class=\"lev1\"><a href=\"#Task-2.-RNA-Sequences\"><span class=\"toc-item-num\">Task 2.&nbsp;&nbsp;</span>RNA Sequences</a></div>\n",
    " <div class=\"lev1\"><a href=\"#Task-3.-Class-War-in-Titanic\"><span class=\"toc-item-num\">Task 3.&nbsp;&nbsp;</span>Class War in Titanic</a></div></p>"
   ]
  },
  {
   "cell_type": "code",
   "execution_count": 26,
   "metadata": {},
   "outputs": [],
   "source": [
    "DATA_FOLDER = 'Data/ebola' # Use the data folder provided in Tutorial 02 - Intro to Pandas."
   ]
  },
  {
   "cell_type": "markdown",
   "metadata": {},
   "source": [
    "# Task 1. Compiling Ebola Data\n",
    "\n",
    "The `DATA_FOLDER/ebola` folder contains summarized reports of Ebola cases from three countries (Guinea, Liberia and Sierra Leone) during the recent outbreak of the disease in West Africa. For each country, there are daily reports that contain various information about the outbreak in several cities in each country.\n",
    "\n",
    "Use pandas to import these data files into a single `Dataframe`.\n",
    "Using this `DataFrame`, calculate for *each country*, the *daily average per month* of *new cases* and *deaths*.\n",
    "Make sure you handle all the different expressions for *new cases* and *deaths* that are used in the reports."
   ]
  },
  {
   "cell_type": "code",
   "execution_count": 1,
   "metadata": {},
   "outputs": [],
   "source": [
    "# Import libraries\n",
    "import pandas as pd\n",
    "import numpy as np\n",
    "import glob  # finds all the pathnames matching a specified pattern\n",
    "pd.options.mode.chained_assignment = None  # default='warn', Mutes warnings when copying a slice from a DataFrame.\n",
    "from datetime import datetime, date, time\n",
    "from dateutil.parser import parse"
   ]
  },
  {
   "cell_type": "markdown",
   "metadata": {},
   "source": [
    "- Import the different reports in a DataFrame's and merge by country (Adding two different columns: report_date and country)\n",
    "- Merge 3 DataFrame's in one\n",
    "- For each country:\n",
    "    - Daily average per month of new cases\n",
    "    - Daily avg per month of deaths\n",
    "  "
   ]
  },
  {
   "cell_type": "markdown",
   "metadata": {},
   "source": [
    "# Task 1.1. Guinea"
   ]
  },
  {
   "cell_type": "markdown",
   "metadata": {},
   "source": [
    "First, all the files on the guine_data folder have to be merged in a dataframe called `guinea_df`."
   ]
  },
  {
   "cell_type": "code",
   "execution_count": 2,
   "metadata": {},
   "outputs": [
    {
     "name": "stdout",
     "output_type": "stream",
     "text": [
      "Shape guinea_df: (714, 25)\n",
      "Columns: Index(['Beyla', 'Boffa', 'Conakry', 'Coyah', 'Dabola', 'Dalaba', 'Date',\n",
      "       'Description', 'Dinguiraye', 'Dubreka', 'Forecariah', 'Gueckedou',\n",
      "       'Kerouane', 'Kindia', 'Kissidougou', 'Kouroussa', 'Lola', 'Macenta',\n",
      "       'Mzerekore', 'Nzerekore', 'Pita', 'Siguiri', 'Telimele', 'Totals',\n",
      "       'Yomou'],\n",
      "      dtype='object')\n"
     ]
    }
   ],
   "source": [
    "# Import Guinea data in one file\n",
    "data_folder ='Data/ebola/guinea_data/'\n",
    "allFiles = glob.glob(data_folder + \"/*.csv\")\n",
    "frame = pd.DataFrame()\n",
    "list_ = []\n",
    "for file_ in allFiles:\n",
    "    df = pd.read_csv(file_,index_col=None, header=0)\n",
    "    list_.append(df)\n",
    "guinea_df = pd.concat(list_)\n",
    "\n",
    "print('Shape guinea_df:',guinea_df.shape)\n",
    "print('Columns:', guinea_df.columns)"
   ]
  },
  {
   "cell_type": "markdown",
   "metadata": {},
   "source": [
    "For our analysis, it is needed only the rows corresponding to the new cases and deaths and the columns of `Date`, `Description` and `Totals`. Let's check which raws we need to select by checking on the `Description` column."
   ]
  },
  {
   "cell_type": "code",
   "execution_count": 18,
   "metadata": {},
   "outputs": [
    {
     "data": {
      "text/html": [
       "<div>\n",
       "<style>\n",
       "    .dataframe thead tr:only-child th {\n",
       "        text-align: right;\n",
       "    }\n",
       "\n",
       "    .dataframe thead th {\n",
       "        text-align: left;\n",
       "    }\n",
       "\n",
       "    .dataframe tbody tr th {\n",
       "        vertical-align: top;\n",
       "    }\n",
       "</style>\n",
       "<table border=\"1\" class=\"dataframe\">\n",
       "  <thead>\n",
       "    <tr style=\"text-align: right;\">\n",
       "      <th></th>\n",
       "      <th>Date</th>\n",
       "      <th>Description</th>\n",
       "      <th>Totals</th>\n",
       "    </tr>\n",
       "  </thead>\n",
       "  <tbody>\n",
       "    <tr>\n",
       "      <th>0</th>\n",
       "      <td>2014-08-04</td>\n",
       "      <td>New cases of suspects</td>\n",
       "      <td>5</td>\n",
       "    </tr>\n",
       "    <tr>\n",
       "      <th>1</th>\n",
       "      <td>2014-08-04</td>\n",
       "      <td>New cases of probables</td>\n",
       "      <td>0</td>\n",
       "    </tr>\n",
       "    <tr>\n",
       "      <th>2</th>\n",
       "      <td>2014-08-04</td>\n",
       "      <td>New cases of confirmed</td>\n",
       "      <td>4</td>\n",
       "    </tr>\n",
       "    <tr>\n",
       "      <th>3</th>\n",
       "      <td>2014-08-04</td>\n",
       "      <td>Total new cases registered so far</td>\n",
       "      <td>9</td>\n",
       "    </tr>\n",
       "    <tr>\n",
       "      <th>4</th>\n",
       "      <td>2014-08-04</td>\n",
       "      <td>Total cases of suspects</td>\n",
       "      <td>11</td>\n",
       "    </tr>\n",
       "  </tbody>\n",
       "</table>\n",
       "</div>"
      ],
      "text/plain": [
       "         Date                        Description Totals\n",
       "0  2014-08-04              New cases of suspects      5\n",
       "1  2014-08-04             New cases of probables      0\n",
       "2  2014-08-04             New cases of confirmed      4\n",
       "3  2014-08-04  Total new cases registered so far      9\n",
       "4  2014-08-04            Total cases of suspects     11"
      ]
     },
     "execution_count": 18,
     "metadata": {},
     "output_type": "execute_result"
    }
   ],
   "source": [
    "# Switch the column order by name to have 'Date and 'Description' first. Used guinea_df.columns to know the columns\n",
    "guinea_df = guinea_df[['Date','Description', 'Totals']]\n",
    "\n",
    "guinea_df.head(5)"
   ]
  },
  {
   "cell_type": "markdown",
   "metadata": {},
   "source": [
    "From the array above, we can identify different classes for new cases and new deaths. Let's select the raws of our interest: \n",
    " - `Total new cases registered so far`\n",
    " - `New death registered today`\n",
    " - `New death registered`\n",
    "\n",
    "As we can see, we should merge the two last classes of `Description` in order to compare both new cases and deaths. In addition, we are going to check the shape of boths dataframe to verify that we are not forgetting any information on the merging."
   ]
  },
  {
   "cell_type": "code",
   "execution_count": 4,
   "metadata": {},
   "outputs": [
    {
     "name": "stdout",
     "output_type": "stream",
     "text": [
      "Shape guinea_df_new: (44, 3)\n"
     ]
    }
   ],
   "source": [
    "guinea_df_new = pd.concat([guinea_df[guinea_df.Description == 'Total new cases registered so far'],\n",
    "                           guinea_df[guinea_df.Description  == 'New deaths registered'],\n",
    "                           guinea_df[guinea_df.Description  == 'New deaths registered today']])\n",
    "\n",
    "# Aggregate New deaths in only one category\n",
    "guinea_df_new.Description = guinea_df_new.Description.replace('New deaths registered today', 'New deaths registered')\n",
    "\n",
    "print('Shape guinea_df_new:', guinea_df_new.shape)"
   ]
  },
  {
   "cell_type": "markdown",
   "metadata": {},
   "source": [
    " Once the raws with all the relevant information for our analysis has been concatenated, we start the data cleaning "
   ]
  },
  {
   "cell_type": "code",
   "execution_count": 8,
   "metadata": {},
   "outputs": [
    {
     "name": "stdout",
     "output_type": "stream",
     "text": [
      "<class 'pandas.core.frame.DataFrame'>\n",
      "Int64Index: 44 entries, 3 to 8\n",
      "Data columns (total 3 columns):\n",
      "Date           44 non-null object\n",
      "Description    44 non-null object\n",
      "Totals         44 non-null object\n",
      "dtypes: object(3)\n",
      "memory usage: 1.4+ KB\n"
     ]
    }
   ],
   "source": [
    "# Fill nan values with a 0 if there is any value null\n",
    "if guinea_df_new.Totals.isnull().any():\n",
    "    guinea_df_new = guinea_df_new.fillna(value=0)\n",
    "\n",
    "# Get the data type of each column\n",
    "guinea_df_new.info()"
   ]
  },
  {
   "cell_type": "markdown",
   "metadata": {},
   "source": [
    "Let's transform the `Date` column in datetime format and the `Totals` column to numeric:"
   ]
  },
  {
   "cell_type": "code",
   "execution_count": 9,
   "metadata": {},
   "outputs": [
    {
     "name": "stdout",
     "output_type": "stream",
     "text": [
      "<class 'pandas.core.frame.DataFrame'>\n",
      "Int64Index: 44 entries, 3 to 8\n",
      "Data columns (total 4 columns):\n",
      "Date           44 non-null datetime64[ns]\n",
      "Month          44 non-null int64\n",
      "Description    44 non-null object\n",
      "Totals         44 non-null int64\n",
      "dtypes: datetime64[ns](1), int64(2), object(1)\n",
      "memory usage: 1.7+ KB\n"
     ]
    }
   ],
   "source": [
    "# Change to date format the Date column\n",
    "guinea_df_new.Date = guinea_df_new.Date.apply(lambda d: pd.to_datetime(d))\n",
    "guinea_df_new['Month'] = [date.month for date in guinea_df_new.Date] # Create a new column 'Month'\n",
    "guinea_df_new = guinea_df_new[['Date','Month', 'Description', 'Totals']]\n",
    "\n",
    "# Change to numeric the Totals\n",
    "guinea_df_new['Totals'] = guinea_df_new['Totals'].apply(pd.to_numeric).astype(int)\n",
    "\n",
    "guinea_df_new.info()"
   ]
  },
  {
   "cell_type": "markdown",
   "metadata": {},
   "source": [
    "In order to compute the daily average monthly, some assumptions have to be taken in account:\n",
    "- The data from the ebola dataset are from month 8 and 9. The only file containing data from month 10, as is taken on the first of the month, can be considered from the month before.\n"
   ]
  },
  {
   "cell_type": "code",
   "execution_count": 17,
   "metadata": {},
   "outputs": [
    {
     "data": {
      "text/html": [
       "<div>\n",
       "<style>\n",
       "    .dataframe thead tr:only-child th {\n",
       "        text-align: right;\n",
       "    }\n",
       "\n",
       "    .dataframe thead th {\n",
       "        text-align: left;\n",
       "    }\n",
       "\n",
       "    .dataframe tbody tr th {\n",
       "        vertical-align: top;\n",
       "    }\n",
       "</style>\n",
       "<table border=\"1\" class=\"dataframe\">\n",
       "  <thead>\n",
       "    <tr style=\"text-align: right;\">\n",
       "      <th></th>\n",
       "      <th>avg_new_deaths</th>\n",
       "      <th>avg_new_deaths</th>\n",
       "    </tr>\n",
       "    <tr>\n",
       "      <th>Month</th>\n",
       "      <th></th>\n",
       "      <th></th>\n",
       "    </tr>\n",
       "  </thead>\n",
       "  <tbody>\n",
       "    <tr>\n",
       "      <th>8</th>\n",
       "      <td>4.3</td>\n",
       "      <td>0.566667</td>\n",
       "    </tr>\n",
       "    <tr>\n",
       "      <th>9</th>\n",
       "      <td>11.6</td>\n",
       "      <td>2.400000</td>\n",
       "    </tr>\n",
       "  </tbody>\n",
       "</table>\n",
       "</div>"
      ],
      "text/plain": [
       "       avg_new_deaths  avg_new_deaths\n",
       "Month                                \n",
       "8                 4.3        0.566667\n",
       "9                11.6        2.400000"
      ]
     },
     "execution_count": 17,
     "metadata": {},
     "output_type": "execute_result"
    }
   ],
   "source": [
    "guinea_df_new.Month = guinea_df_new.Month.replace(10, 9)\n",
    "\n",
    "# New cases\n",
    "new_cases = guinea_df_new[guinea_df_new.Description == 'Total new cases registered so far']\n",
    "new_cases_grouped = new_cases.groupby('Month').agg(np.sum)/30\n",
    "\n",
    "# New deaths\n",
    "new_deaths = guinea_df_new[guinea_df_new.Description == 'New deaths registered']\n",
    "new_deaths_grouped = new_deaths.groupby('Month').agg(np.sum)/30\n",
    "\n",
    "guinea_conc = pd.concat([new_cases_grouped, new_deaths_grouped], axis=1)\n",
    "guinea_conc = guinea_conc.rename(columns={'Totals': 'avg_new_cases', 'Totals': 'avg_new_deaths'})\n",
    "guinea_conc"
   ]
  },
  {
   "cell_type": "markdown",
   "metadata": {},
   "source": [
    "# Task 1.2. Liberia "
   ]
  },
  {
   "cell_type": "code",
   "execution_count": 19,
   "metadata": {},
   "outputs": [
    {
     "name": "stdout",
     "output_type": "stream",
     "text": [
      "Shape guinea_df: (714, 3)\n",
      "Columns: Index(['Date', 'Description', 'Totals'], dtype='object')\n"
     ]
    }
   ],
   "source": [
    "# Import Liberia data in one file\n",
    "data_folder ='Data/ebola/liberia_data/'\n",
    "allFiles = glob.glob(data_folder + \"/*.csv\")\n",
    "liberia_df = pd.DataFrame()\n",
    "list_ = []\n",
    "for file_ in allFiles:\n",
    "    df = pd.read_csv(file_,index_col=None, header=0)\n",
    "    list_.append(df)\n",
    "liberia_df = pd.concat(list_)\n",
    "\n",
    "print('Shape guinea_df:',guinea_df.shape)\n",
    "print('Columns:', guinea_df.columns)"
   ]
  },
  {
   "cell_type": "code",
   "execution_count": 20,
   "metadata": {},
   "outputs": [
    {
     "data": {
      "text/html": [
       "<div>\n",
       "<style>\n",
       "    .dataframe thead tr:only-child th {\n",
       "        text-align: right;\n",
       "    }\n",
       "\n",
       "    .dataframe thead th {\n",
       "        text-align: left;\n",
       "    }\n",
       "\n",
       "    .dataframe tbody tr th {\n",
       "        vertical-align: top;\n",
       "    }\n",
       "</style>\n",
       "<table border=\"1\" class=\"dataframe\">\n",
       "  <thead>\n",
       "    <tr style=\"text-align: right;\">\n",
       "      <th></th>\n",
       "      <th>Date</th>\n",
       "      <th>Variable</th>\n",
       "      <th>National</th>\n",
       "    </tr>\n",
       "  </thead>\n",
       "  <tbody>\n",
       "    <tr>\n",
       "      <th>0</th>\n",
       "      <td>6/16/2014</td>\n",
       "      <td>Specimens collected</td>\n",
       "      <td>1.0</td>\n",
       "    </tr>\n",
       "    <tr>\n",
       "      <th>1</th>\n",
       "      <td>6/16/2014</td>\n",
       "      <td>Specimens pending for testing</td>\n",
       "      <td>0.0</td>\n",
       "    </tr>\n",
       "    <tr>\n",
       "      <th>2</th>\n",
       "      <td>6/16/2014</td>\n",
       "      <td>Total specimens tested</td>\n",
       "      <td>28.0</td>\n",
       "    </tr>\n",
       "    <tr>\n",
       "      <th>3</th>\n",
       "      <td>6/16/2014</td>\n",
       "      <td>Newly reported deaths</td>\n",
       "      <td>2.0</td>\n",
       "    </tr>\n",
       "    <tr>\n",
       "      <th>4</th>\n",
       "      <td>6/16/2014</td>\n",
       "      <td>Total death/s in confirmed cases</td>\n",
       "      <td>8.0</td>\n",
       "    </tr>\n",
       "  </tbody>\n",
       "</table>\n",
       "</div>"
      ],
      "text/plain": [
       "        Date                          Variable  National\n",
       "0  6/16/2014               Specimens collected       1.0\n",
       "1  6/16/2014     Specimens pending for testing       0.0\n",
       "2  6/16/2014            Total specimens tested      28.0\n",
       "3  6/16/2014             Newly reported deaths       2.0\n",
       "4  6/16/2014  Total death/s in confirmed cases       8.0"
      ]
     },
     "execution_count": 20,
     "metadata": {},
     "output_type": "execute_result"
    }
   ],
   "source": [
    "liberia_df = liberia_df[['Date','Variable', 'National']]\n",
    "liberia_df.head(5)"
   ]
  },
  {
   "cell_type": "code",
   "execution_count": 88,
   "metadata": {
    "scrolled": true
   },
   "outputs": [],
   "source": [
    "#liberia_df.Variable.value_counts().head(20)"
   ]
  },
  {
   "cell_type": "markdown",
   "metadata": {},
   "source": [
    "As we did in the guina dataset, we need to select the variables names related to the new cases and new deaths:\n",
    "- Newly reported deaths\n",
    "- New case/s (confirmed)\n",
    "- New Case/s (Suspected)\n",
    "- New Case/s (Probable)"
   ]
  },
  {
   "cell_type": "code",
   "execution_count": 37,
   "metadata": {},
   "outputs": [
    {
     "name": "stdout",
     "output_type": "stream",
     "text": [
      "Shape liberia_df_new: (400, 3)\n"
     ]
    }
   ],
   "source": [
    "# New cases \n",
    "liberia_df_new = pd.concat([liberia_df[liberia_df.Variable == 'New Case/s (Probable)'],\n",
    "                         liberia_df[liberia_df.Variable  == 'New Case/s (Suspected)'],\n",
    "                         liberia_df[liberia_df.Variable  == 'New case/s (confirmed)'],\n",
    "                         liberia_df[liberia_df.Variable  == 'Newly reported deaths']])\n",
    "\n",
    "print('Shape liberia_df_new:', liberia_df_new.shape)\n",
    "#new_cases_l.set_index('Date', inplace=True)\n",
    "#new_cases_l = new_cases_l.groupby(new_cases_l.index).sum()\n",
    "\n",
    "# New deaths\n"
   ]
  },
  {
   "cell_type": "code",
   "execution_count": 52,
   "metadata": {},
   "outputs": [
    {
     "name": "stdout",
     "output_type": "stream",
     "text": [
      "<class 'pandas.core.frame.DataFrame'>\n",
      "Int64Index: 400 entries, 24 to 3\n",
      "Data columns (total 4 columns):\n",
      "Date        400 non-null datetime64[ns]\n",
      "Month       400 non-null int64\n",
      "Variable    400 non-null object\n",
      "National    400 non-null int64\n",
      "dtypes: datetime64[ns](1), int64(2), object(1)\n",
      "memory usage: 15.6+ KB\n"
     ]
    }
   ],
   "source": [
    "# Fill nan values with a 0 if there is any value null\n",
    "if liberia_df_new.National.isnull().any():\n",
    "    liberia_df_new = liberia_df_new.fillna(value=0)\n",
    "\n",
    "# Get the data type of each column\n",
    "liberia_df_new.info()"
   ]
  },
  {
   "cell_type": "markdown",
   "metadata": {},
   "source": [
    "Now we need to change the format of the columns to treat them."
   ]
  },
  {
   "cell_type": "code",
   "execution_count": 53,
   "metadata": {},
   "outputs": [
    {
     "name": "stdout",
     "output_type": "stream",
     "text": [
      "<class 'pandas.core.frame.DataFrame'>\n",
      "Int64Index: 400 entries, 24 to 3\n",
      "Data columns (total 4 columns):\n",
      "Date        400 non-null datetime64[ns]\n",
      "Month       400 non-null int64\n",
      "Variable    400 non-null object\n",
      "National    400 non-null int64\n",
      "dtypes: datetime64[ns](1), int64(2), object(1)\n",
      "memory usage: 15.6+ KB\n"
     ]
    }
   ],
   "source": [
    "# Change to date format the Date column\n",
    "liberia_df_new.Date = liberia_df_new.Date.apply(lambda d: pd.to_datetime(d))\n",
    "liberia_df_new['Month'] = [date.month for date in liberia_df_new.Date] # Create a new column 'Month'\n",
    "liberia_df_new = liberia_df_new[['Date','Month', 'Variable', 'National']]\n",
    "\n",
    "# Change to numeric the Totals\n",
    "liberia_df_new['National'] = liberia_df_new['National'].apply(pd.to_numeric).astype(int)\n",
    "\n",
    "liberia_df_new.info()"
   ]
  },
  {
   "cell_type": "code",
   "execution_count": 87,
   "metadata": {},
   "outputs": [
    {
     "data": {
      "text/html": [
       "<div>\n",
       "<style>\n",
       "    .dataframe thead tr:only-child th {\n",
       "        text-align: right;\n",
       "    }\n",
       "\n",
       "    .dataframe thead th {\n",
       "        text-align: left;\n",
       "    }\n",
       "\n",
       "    .dataframe tbody tr th {\n",
       "        vertical-align: top;\n",
       "    }\n",
       "</style>\n",
       "<table border=\"1\" class=\"dataframe\">\n",
       "  <thead>\n",
       "    <tr style=\"text-align: right;\">\n",
       "      <th></th>\n",
       "      <th>avg_new_cases</th>\n",
       "      <th>avg_new_deaths</th>\n",
       "    </tr>\n",
       "    <tr>\n",
       "      <th>Month</th>\n",
       "      <th></th>\n",
       "      <th></th>\n",
       "    </tr>\n",
       "  </thead>\n",
       "  <tbody>\n",
       "    <tr>\n",
       "      <th>6</th>\n",
       "      <td>2.666667</td>\n",
       "      <td>0.933333</td>\n",
       "    </tr>\n",
       "    <tr>\n",
       "      <th>7</th>\n",
       "      <td>3.133333</td>\n",
       "      <td>1.566667</td>\n",
       "    </tr>\n",
       "    <tr>\n",
       "      <th>8</th>\n",
       "      <td>11.166667</td>\n",
       "      <td>6.966667</td>\n",
       "    </tr>\n",
       "    <tr>\n",
       "      <th>9</th>\n",
       "      <td>51.066667</td>\n",
       "      <td>28.833333</td>\n",
       "    </tr>\n",
       "    <tr>\n",
       "      <th>10</th>\n",
       "      <td>37.966667</td>\n",
       "      <td>23.366667</td>\n",
       "    </tr>\n",
       "    <tr>\n",
       "      <th>11</th>\n",
       "      <td>13.233333</td>\n",
       "      <td>6.733333</td>\n",
       "    </tr>\n",
       "  </tbody>\n",
       "</table>\n",
       "</div>"
      ],
      "text/plain": [
       "       avg_new_cases  avg_new_deaths\n",
       "Month                               \n",
       "6           2.666667        0.933333\n",
       "7           3.133333        1.566667\n",
       "8          11.166667        6.966667\n",
       "9          51.066667       28.833333\n",
       "10         37.966667       23.366667\n",
       "11         13.233333        6.733333"
      ]
     },
     "execution_count": 87,
     "metadata": {},
     "output_type": "execute_result"
    }
   ],
   "source": [
    "days_per_month = [15, 30, 30, 30, 30, 30]  # Do it proper\n",
    "\n",
    "# New cases\n",
    "new_cases_l = pd.concat([liberia_df_new[liberia_df_new.Variable == 'New Case/s (Probable)'],\n",
    "                         liberia_df_new[liberia_df_new.Variable  == 'New Case/s (Suspected)'],\n",
    "                         liberia_df_new[liberia_df_new.Variable  == 'New case/s (confirmed)']])\n",
    "\n",
    "new_cases_l_grouped = new_cases_l.groupby('Month').agg(np.sum)\n",
    "new_cases_l_grouped = new_cases_l_grouped.rename(columns={'National': 'avg_new_cases'})\n",
    "\n",
    "# New deaths\n",
    "new_deaths_l = liberia_df_new[liberia_df_new.Variable == 'Newly reported deaths']\n",
    "new_deaths_l_grouped = new_deaths_l.groupby('Month').agg(np.sum)\n",
    "new_deaths_l_grouped = new_deaths_l_grouped.rename(columns={'National': 'avg_new_deaths'})\n",
    "liberia_conc = pd.concat([new_cases_l_grouped, new_deaths_l_grouped], axis=1)\n",
    "liberia_conc.drop(12, inplace=True)\n",
    "\n",
    "liberia_conc.avg_new_cases = liberia_conc.avg_new_cases/days_per_month\n",
    "liberia_conc.avg_new_deaths = liberia_conc.avg_new_deaths/days_per_month\n",
    "\n",
    "liberia_conc"
   ]
  },
  {
   "cell_type": "markdown",
   "metadata": {},
   "source": [
    "# Sierra leone\n"
   ]
  },
  {
   "cell_type": "code",
   "execution_count": 135,
   "metadata": {},
   "outputs": [
    {
     "name": "stdout",
     "output_type": "stream",
     "text": [
      "Number of csv files: 103\n",
      "Shape sl_df: (3262, 27)\n",
      "Columns: Index(['34 Military Hospital', 'Bo', 'Bo EMC', 'Bombali', 'Bonthe',\n",
      "       'Hastings-F/Town', 'Kailahun', 'Kambia', 'Kenema', 'Kenema (IFRC)',\n",
      "       'Kenema (KGH)', 'Koinadugu', 'Kono', 'Moyamba', 'National',\n",
      "       'Police training School', 'Police traning School', 'Port Loko',\n",
      "       'Pujehun', 'Tonkolili', 'Unnamed: 18', 'Western area',\n",
      "       'Western area combined', 'Western area rural', 'Western area urban',\n",
      "       'date', 'variable'],\n",
      "      dtype='object')\n"
     ]
    }
   ],
   "source": [
    "# Import Guinea data in one file\n",
    "data_folder ='Data/ebola/sl_data/'\n",
    "allFiles = glob.glob(data_folder + \"/*.csv\")\n",
    "print('Number of csv files:',len(allFiles))\n",
    "list_ = []\n",
    "for file_ in allFiles:\n",
    "    df = pd.read_csv(file_,index_col=None, header=0)\n",
    "    list_.append(df)\n",
    "sl_df = pd.concat(list_)\n",
    "\n",
    "print('Shape sl_df:',sl_df.shape)\n",
    "print('Columns:', sl_df.columns)"
   ]
  },
  {
   "cell_type": "code",
   "execution_count": 136,
   "metadata": {},
   "outputs": [
    {
     "name": "stdout",
     "output_type": "stream",
     "text": [
      "<class 'pandas.core.frame.DataFrame'>\n",
      "Int64Index: 3262 entries, 0 to 36\n",
      "Data columns (total 3 columns):\n",
      "date        3262 non-null object\n",
      "variable    3262 non-null object\n",
      "National    2339 non-null object\n",
      "dtypes: object(3)\n",
      "memory usage: 101.9+ KB\n"
     ]
    }
   ],
   "source": [
    "# Switch the column order by name to have 'Date and 'Description' first. Used guinea_df.columns to know the columns\n",
    "sl_df = sl_df[['date','variable', 'National']]\n",
    "sl_df.info()"
   ]
  },
  {
   "cell_type": "code",
   "execution_count": null,
   "metadata": {},
   "outputs": [],
   "source": [
    "# New cases \n",
    "sl_df_new = pd.concat([sl_df[sl_df.variable == 'New Case/s (Probable)'],\n",
    "                         sl_df[sl_df.variable  == 'New Case/s (Suspected)'],\n",
    "                         sl_df[sl_df.variable  == 'New case/s (confirmed)']])"
   ]
  },
  {
   "cell_type": "code",
   "execution_count": 139,
   "metadata": {},
   "outputs": [
    {
     "name": "stdout",
     "output_type": "stream",
     "text": [
      "<class 'pandas.core.frame.DataFrame'>\n",
      "Int64Index: 400 entries, 24 to 3\n",
      "Data columns (total 4 columns):\n",
      "Date        400 non-null datetime64[ns]\n",
      "Month       400 non-null int64\n",
      "Variable    400 non-null object\n",
      "National    400 non-null int64\n",
      "dtypes: datetime64[ns](1), int64(2), object(1)\n",
      "memory usage: 15.6+ KB\n"
     ]
    }
   ],
   "source": [
    "# Fill nan values with a 0 if there is any value null\n",
    "if sl_df.National.isnull().any():\n",
    "    sl_df = sl_df.fillna(value=0)\n",
    "\n",
    "# Get the data type of each column\n",
    "liberia_df_new.info()"
   ]
  },
  {
   "cell_type": "code",
   "execution_count": 138,
   "metadata": {},
   "outputs": [
    {
     "data": {
      "text/html": [
       "<div>\n",
       "<style>\n",
       "    .dataframe thead tr:only-child th {\n",
       "        text-align: right;\n",
       "    }\n",
       "\n",
       "    .dataframe thead th {\n",
       "        text-align: left;\n",
       "    }\n",
       "\n",
       "    .dataframe tbody tr th {\n",
       "        vertical-align: top;\n",
       "    }\n",
       "</style>\n",
       "<table border=\"1\" class=\"dataframe\">\n",
       "  <thead>\n",
       "    <tr style=\"text-align: right;\">\n",
       "      <th></th>\n",
       "      <th>date</th>\n",
       "      <th>Month</th>\n",
       "      <th>variable</th>\n",
       "      <th>National</th>\n",
       "    </tr>\n",
       "  </thead>\n",
       "  <tbody>\n",
       "    <tr>\n",
       "      <th>0</th>\n",
       "      <td>2014-08-12</td>\n",
       "      <td>8</td>\n",
       "      <td>population</td>\n",
       "      <td>6348350</td>\n",
       "    </tr>\n",
       "    <tr>\n",
       "      <th>1</th>\n",
       "      <td>2014-08-12</td>\n",
       "      <td>8</td>\n",
       "      <td>new_noncase</td>\n",
       "      <td>4</td>\n",
       "    </tr>\n",
       "    <tr>\n",
       "      <th>2</th>\n",
       "      <td>2014-08-12</td>\n",
       "      <td>8</td>\n",
       "      <td>new_suspected</td>\n",
       "      <td>10</td>\n",
       "    </tr>\n",
       "    <tr>\n",
       "      <th>3</th>\n",
       "      <td>2014-08-12</td>\n",
       "      <td>8</td>\n",
       "      <td>new_probable</td>\n",
       "      <td>1</td>\n",
       "    </tr>\n",
       "    <tr>\n",
       "      <th>4</th>\n",
       "      <td>2014-08-12</td>\n",
       "      <td>8</td>\n",
       "      <td>new_confirmed</td>\n",
       "      <td>11</td>\n",
       "    </tr>\n",
       "    <tr>\n",
       "      <th>5</th>\n",
       "      <td>2014-08-12</td>\n",
       "      <td>8</td>\n",
       "      <td>cum_noncase</td>\n",
       "      <td>657</td>\n",
       "    </tr>\n",
       "    <tr>\n",
       "      <th>6</th>\n",
       "      <td>2014-08-12</td>\n",
       "      <td>8</td>\n",
       "      <td>cum_suspected</td>\n",
       "      <td>46</td>\n",
       "    </tr>\n",
       "    <tr>\n",
       "      <th>7</th>\n",
       "      <td>2014-08-12</td>\n",
       "      <td>8</td>\n",
       "      <td>cum_probable</td>\n",
       "      <td>37</td>\n",
       "    </tr>\n",
       "    <tr>\n",
       "      <th>8</th>\n",
       "      <td>2014-08-12</td>\n",
       "      <td>8</td>\n",
       "      <td>cum_confirmed</td>\n",
       "      <td>717</td>\n",
       "    </tr>\n",
       "    <tr>\n",
       "      <th>9</th>\n",
       "      <td>2014-08-12</td>\n",
       "      <td>8</td>\n",
       "      <td>death_suspected</td>\n",
       "      <td>5</td>\n",
       "    </tr>\n",
       "    <tr>\n",
       "      <th>10</th>\n",
       "      <td>2014-08-12</td>\n",
       "      <td>8</td>\n",
       "      <td>death_probable</td>\n",
       "      <td>34</td>\n",
       "    </tr>\n",
       "    <tr>\n",
       "      <th>11</th>\n",
       "      <td>2014-08-12</td>\n",
       "      <td>8</td>\n",
       "      <td>death_confirmed</td>\n",
       "      <td>264</td>\n",
       "    </tr>\n",
       "    <tr>\n",
       "      <th>12</th>\n",
       "      <td>2014-08-12</td>\n",
       "      <td>8</td>\n",
       "      <td>cfr</td>\n",
       "      <td>36.8</td>\n",
       "    </tr>\n",
       "    <tr>\n",
       "      <th>13</th>\n",
       "      <td>2014-08-12</td>\n",
       "      <td>8</td>\n",
       "      <td>etc_new_admission</td>\n",
       "      <td>0</td>\n",
       "    </tr>\n",
       "    <tr>\n",
       "      <th>14</th>\n",
       "      <td>2014-08-12</td>\n",
       "      <td>8</td>\n",
       "      <td>etc_currently_admitted</td>\n",
       "      <td>0</td>\n",
       "    </tr>\n",
       "    <tr>\n",
       "      <th>15</th>\n",
       "      <td>2014-08-12</td>\n",
       "      <td>8</td>\n",
       "      <td>etc_cum_admission</td>\n",
       "      <td>0</td>\n",
       "    </tr>\n",
       "    <tr>\n",
       "      <th>16</th>\n",
       "      <td>2014-08-12</td>\n",
       "      <td>8</td>\n",
       "      <td>etc_new_deaths</td>\n",
       "      <td>0</td>\n",
       "    </tr>\n",
       "    <tr>\n",
       "      <th>17</th>\n",
       "      <td>2014-08-12</td>\n",
       "      <td>8</td>\n",
       "      <td>etc_cum_deaths</td>\n",
       "      <td>0</td>\n",
       "    </tr>\n",
       "    <tr>\n",
       "      <th>18</th>\n",
       "      <td>2014-08-12</td>\n",
       "      <td>8</td>\n",
       "      <td>etc_new_discharges</td>\n",
       "      <td>0</td>\n",
       "    </tr>\n",
       "    <tr>\n",
       "      <th>19</th>\n",
       "      <td>2014-08-12</td>\n",
       "      <td>8</td>\n",
       "      <td>etc_cum_discharges</td>\n",
       "      <td>0</td>\n",
       "    </tr>\n",
       "    <tr>\n",
       "      <th>20</th>\n",
       "      <td>2014-08-12</td>\n",
       "      <td>8</td>\n",
       "      <td>cum_contacts</td>\n",
       "      <td>2838</td>\n",
       "    </tr>\n",
       "    <tr>\n",
       "      <th>21</th>\n",
       "      <td>2014-08-12</td>\n",
       "      <td>8</td>\n",
       "      <td>cum_completed_contacts</td>\n",
       "      <td>901</td>\n",
       "    </tr>\n",
       "    <tr>\n",
       "      <th>22</th>\n",
       "      <td>2014-08-12</td>\n",
       "      <td>8</td>\n",
       "      <td>contacts_followed</td>\n",
       "      <td>2255</td>\n",
       "    </tr>\n",
       "    <tr>\n",
       "      <th>23</th>\n",
       "      <td>2014-08-12</td>\n",
       "      <td>8</td>\n",
       "      <td>new_contacts</td>\n",
       "      <td>743</td>\n",
       "    </tr>\n",
       "    <tr>\n",
       "      <th>24</th>\n",
       "      <td>2014-08-12</td>\n",
       "      <td>8</td>\n",
       "      <td>contacts_healthy</td>\n",
       "      <td>1937</td>\n",
       "    </tr>\n",
       "    <tr>\n",
       "      <th>25</th>\n",
       "      <td>2014-08-12</td>\n",
       "      <td>8</td>\n",
       "      <td>contacts_ill</td>\n",
       "      <td>14</td>\n",
       "    </tr>\n",
       "    <tr>\n",
       "      <th>26</th>\n",
       "      <td>2014-08-12</td>\n",
       "      <td>8</td>\n",
       "      <td>contacts_not_seen</td>\n",
       "      <td>131</td>\n",
       "    </tr>\n",
       "    <tr>\n",
       "      <th>27</th>\n",
       "      <td>2014-08-12</td>\n",
       "      <td>8</td>\n",
       "      <td>new_completed_contacts</td>\n",
       "      <td>73</td>\n",
       "    </tr>\n",
       "    <tr>\n",
       "      <th>28</th>\n",
       "      <td>2014-08-12</td>\n",
       "      <td>8</td>\n",
       "      <td>percent_seen</td>\n",
       "      <td>87%</td>\n",
       "    </tr>\n",
       "    <tr>\n",
       "      <th>0</th>\n",
       "      <td>2014-08-13</td>\n",
       "      <td>8</td>\n",
       "      <td>population</td>\n",
       "      <td>6,348,350</td>\n",
       "    </tr>\n",
       "    <tr>\n",
       "      <th>...</th>\n",
       "      <td>...</td>\n",
       "      <td>...</td>\n",
       "      <td>...</td>\n",
       "      <td>...</td>\n",
       "    </tr>\n",
       "    <tr>\n",
       "      <th>7</th>\n",
       "      <td>2014-12-13</td>\n",
       "      <td>12</td>\n",
       "      <td>cum_probable</td>\n",
       "      <td>79</td>\n",
       "    </tr>\n",
       "    <tr>\n",
       "      <th>8</th>\n",
       "      <td>2014-12-13</td>\n",
       "      <td>12</td>\n",
       "      <td>cum_confirmed</td>\n",
       "      <td>6638</td>\n",
       "    </tr>\n",
       "    <tr>\n",
       "      <th>9</th>\n",
       "      <td>2014-12-13</td>\n",
       "      <td>12</td>\n",
       "      <td>death_suspected</td>\n",
       "      <td>0</td>\n",
       "    </tr>\n",
       "    <tr>\n",
       "      <th>10</th>\n",
       "      <td>2014-12-13</td>\n",
       "      <td>12</td>\n",
       "      <td>death_probable</td>\n",
       "      <td>0</td>\n",
       "    </tr>\n",
       "    <tr>\n",
       "      <th>11</th>\n",
       "      <td>2014-12-13</td>\n",
       "      <td>12</td>\n",
       "      <td>death_confirmed</td>\n",
       "      <td>0</td>\n",
       "    </tr>\n",
       "    <tr>\n",
       "      <th>12</th>\n",
       "      <td>2014-12-13</td>\n",
       "      <td>12</td>\n",
       "      <td>cfr</td>\n",
       "      <td>0</td>\n",
       "    </tr>\n",
       "    <tr>\n",
       "      <th>13</th>\n",
       "      <td>2014-12-13</td>\n",
       "      <td>12</td>\n",
       "      <td>etc_new_admission</td>\n",
       "      <td>0</td>\n",
       "    </tr>\n",
       "    <tr>\n",
       "      <th>14</th>\n",
       "      <td>2014-12-13</td>\n",
       "      <td>12</td>\n",
       "      <td>etc_currently_admitted</td>\n",
       "      <td>0</td>\n",
       "    </tr>\n",
       "    <tr>\n",
       "      <th>15</th>\n",
       "      <td>2014-12-13</td>\n",
       "      <td>12</td>\n",
       "      <td>etc_cum_admission</td>\n",
       "      <td>0</td>\n",
       "    </tr>\n",
       "    <tr>\n",
       "      <th>16</th>\n",
       "      <td>2014-12-13</td>\n",
       "      <td>12</td>\n",
       "      <td>etc_new_deaths</td>\n",
       "      <td>0</td>\n",
       "    </tr>\n",
       "    <tr>\n",
       "      <th>17</th>\n",
       "      <td>2014-12-13</td>\n",
       "      <td>12</td>\n",
       "      <td>etc_cum_deaths</td>\n",
       "      <td>0</td>\n",
       "    </tr>\n",
       "    <tr>\n",
       "      <th>18</th>\n",
       "      <td>2014-12-13</td>\n",
       "      <td>12</td>\n",
       "      <td>etc_new_discharges</td>\n",
       "      <td>0</td>\n",
       "    </tr>\n",
       "    <tr>\n",
       "      <th>19</th>\n",
       "      <td>2014-12-13</td>\n",
       "      <td>12</td>\n",
       "      <td>etc_cum_discharges</td>\n",
       "      <td>0</td>\n",
       "    </tr>\n",
       "    <tr>\n",
       "      <th>20</th>\n",
       "      <td>2014-12-13</td>\n",
       "      <td>12</td>\n",
       "      <td>cum_contacts</td>\n",
       "      <td>0</td>\n",
       "    </tr>\n",
       "    <tr>\n",
       "      <th>21</th>\n",
       "      <td>2014-12-13</td>\n",
       "      <td>12</td>\n",
       "      <td>cum_completed_contacts</td>\n",
       "      <td>0</td>\n",
       "    </tr>\n",
       "    <tr>\n",
       "      <th>22</th>\n",
       "      <td>2014-12-13</td>\n",
       "      <td>12</td>\n",
       "      <td>contacts_followed</td>\n",
       "      <td>0</td>\n",
       "    </tr>\n",
       "    <tr>\n",
       "      <th>23</th>\n",
       "      <td>2014-12-13</td>\n",
       "      <td>12</td>\n",
       "      <td>new_contacts</td>\n",
       "      <td>0</td>\n",
       "    </tr>\n",
       "    <tr>\n",
       "      <th>24</th>\n",
       "      <td>2014-12-13</td>\n",
       "      <td>12</td>\n",
       "      <td>contacts_healthy</td>\n",
       "      <td>0</td>\n",
       "    </tr>\n",
       "    <tr>\n",
       "      <th>25</th>\n",
       "      <td>2014-12-13</td>\n",
       "      <td>12</td>\n",
       "      <td>contacts_ill</td>\n",
       "      <td>0</td>\n",
       "    </tr>\n",
       "    <tr>\n",
       "      <th>26</th>\n",
       "      <td>2014-12-13</td>\n",
       "      <td>12</td>\n",
       "      <td>contacts_not_seen</td>\n",
       "      <td>0</td>\n",
       "    </tr>\n",
       "    <tr>\n",
       "      <th>27</th>\n",
       "      <td>2014-12-13</td>\n",
       "      <td>12</td>\n",
       "      <td>new_completed_contacts</td>\n",
       "      <td>0</td>\n",
       "    </tr>\n",
       "    <tr>\n",
       "      <th>28</th>\n",
       "      <td>2014-12-13</td>\n",
       "      <td>12</td>\n",
       "      <td>percent_seen</td>\n",
       "      <td>0</td>\n",
       "    </tr>\n",
       "    <tr>\n",
       "      <th>29</th>\n",
       "      <td>2014-12-13</td>\n",
       "      <td>12</td>\n",
       "      <td>total_lab_samples</td>\n",
       "      <td>0</td>\n",
       "    </tr>\n",
       "    <tr>\n",
       "      <th>30</th>\n",
       "      <td>2014-12-13</td>\n",
       "      <td>12</td>\n",
       "      <td>repeat_samples</td>\n",
       "      <td>0</td>\n",
       "    </tr>\n",
       "    <tr>\n",
       "      <th>31</th>\n",
       "      <td>2014-12-13</td>\n",
       "      <td>12</td>\n",
       "      <td>new_samples</td>\n",
       "      <td>0</td>\n",
       "    </tr>\n",
       "    <tr>\n",
       "      <th>32</th>\n",
       "      <td>2014-12-13</td>\n",
       "      <td>12</td>\n",
       "      <td>new_positive</td>\n",
       "      <td>0</td>\n",
       "    </tr>\n",
       "    <tr>\n",
       "      <th>33</th>\n",
       "      <td>2014-12-13</td>\n",
       "      <td>12</td>\n",
       "      <td>new_negative</td>\n",
       "      <td>0</td>\n",
       "    </tr>\n",
       "    <tr>\n",
       "      <th>34</th>\n",
       "      <td>2014-12-13</td>\n",
       "      <td>12</td>\n",
       "      <td>pending</td>\n",
       "      <td>0</td>\n",
       "    </tr>\n",
       "    <tr>\n",
       "      <th>35</th>\n",
       "      <td>2014-12-13</td>\n",
       "      <td>12</td>\n",
       "      <td>positive_corpse</td>\n",
       "      <td>0</td>\n",
       "    </tr>\n",
       "    <tr>\n",
       "      <th>36</th>\n",
       "      <td>2014-12-13</td>\n",
       "      <td>12</td>\n",
       "      <td>negative_corpse</td>\n",
       "      <td>0</td>\n",
       "    </tr>\n",
       "  </tbody>\n",
       "</table>\n",
       "<p>3262 rows × 4 columns</p>\n",
       "</div>"
      ],
      "text/plain": [
       "         date  Month                variable   National\n",
       "0  2014-08-12      8              population    6348350\n",
       "1  2014-08-12      8             new_noncase          4\n",
       "2  2014-08-12      8           new_suspected         10\n",
       "3  2014-08-12      8            new_probable          1\n",
       "4  2014-08-12      8           new_confirmed         11\n",
       "5  2014-08-12      8             cum_noncase        657\n",
       "6  2014-08-12      8           cum_suspected         46\n",
       "7  2014-08-12      8            cum_probable         37\n",
       "8  2014-08-12      8           cum_confirmed        717\n",
       "9  2014-08-12      8         death_suspected          5\n",
       "10 2014-08-12      8          death_probable         34\n",
       "11 2014-08-12      8         death_confirmed        264\n",
       "12 2014-08-12      8                     cfr       36.8\n",
       "13 2014-08-12      8       etc_new_admission          0\n",
       "14 2014-08-12      8  etc_currently_admitted          0\n",
       "15 2014-08-12      8       etc_cum_admission          0\n",
       "16 2014-08-12      8          etc_new_deaths          0\n",
       "17 2014-08-12      8          etc_cum_deaths          0\n",
       "18 2014-08-12      8      etc_new_discharges          0\n",
       "19 2014-08-12      8      etc_cum_discharges          0\n",
       "20 2014-08-12      8            cum_contacts       2838\n",
       "21 2014-08-12      8  cum_completed_contacts        901\n",
       "22 2014-08-12      8       contacts_followed       2255\n",
       "23 2014-08-12      8            new_contacts        743\n",
       "24 2014-08-12      8        contacts_healthy       1937\n",
       "25 2014-08-12      8            contacts_ill         14\n",
       "26 2014-08-12      8       contacts_not_seen        131\n",
       "27 2014-08-12      8  new_completed_contacts         73\n",
       "28 2014-08-12      8            percent_seen        87%\n",
       "0  2014-08-13      8              population  6,348,350\n",
       "..        ...    ...                     ...        ...\n",
       "7  2014-12-13     12            cum_probable         79\n",
       "8  2014-12-13     12           cum_confirmed       6638\n",
       "9  2014-12-13     12         death_suspected          0\n",
       "10 2014-12-13     12          death_probable          0\n",
       "11 2014-12-13     12         death_confirmed          0\n",
       "12 2014-12-13     12                     cfr          0\n",
       "13 2014-12-13     12       etc_new_admission          0\n",
       "14 2014-12-13     12  etc_currently_admitted          0\n",
       "15 2014-12-13     12       etc_cum_admission          0\n",
       "16 2014-12-13     12          etc_new_deaths          0\n",
       "17 2014-12-13     12          etc_cum_deaths          0\n",
       "18 2014-12-13     12      etc_new_discharges          0\n",
       "19 2014-12-13     12      etc_cum_discharges          0\n",
       "20 2014-12-13     12            cum_contacts          0\n",
       "21 2014-12-13     12  cum_completed_contacts          0\n",
       "22 2014-12-13     12       contacts_followed          0\n",
       "23 2014-12-13     12            new_contacts          0\n",
       "24 2014-12-13     12        contacts_healthy          0\n",
       "25 2014-12-13     12            contacts_ill          0\n",
       "26 2014-12-13     12       contacts_not_seen          0\n",
       "27 2014-12-13     12  new_completed_contacts          0\n",
       "28 2014-12-13     12            percent_seen          0\n",
       "29 2014-12-13     12       total_lab_samples          0\n",
       "30 2014-12-13     12          repeat_samples          0\n",
       "31 2014-12-13     12             new_samples          0\n",
       "32 2014-12-13     12            new_positive          0\n",
       "33 2014-12-13     12            new_negative          0\n",
       "34 2014-12-13     12                 pending          0\n",
       "35 2014-12-13     12         positive_corpse          0\n",
       "36 2014-12-13     12         negative_corpse          0\n",
       "\n",
       "[3262 rows x 4 columns]"
      ]
     },
     "execution_count": 138,
     "metadata": {},
     "output_type": "execute_result"
    }
   ],
   "source": [
    "# Change to date format the Date column\n",
    "sl_df.date = sl_df.date.apply(lambda d: pd.to_datetime(d))\n",
    "sl_df['Month'] = [date.month for date in sl_df.date] # Create a new column 'Month'\n",
    "sl_df = sl_df[['date','Month', 'variable', 'National']]\n",
    "\n",
    "# Change to numeric the Totals\n",
    "#sl_df['National'] = sl_df['National'].apply(pd.to_numeric).astype(int)\n",
    "\n",
    "sl_df"
   ]
  },
  {
   "cell_type": "code",
   "execution_count": null,
   "metadata": {},
   "outputs": [],
   "source": []
  },
  {
   "cell_type": "code",
   "execution_count": 118,
   "metadata": {},
   "outputs": [
    {
     "ename": "TypeError",
     "evalue": "Empty 'DataFrame': no numeric data to plot",
     "output_type": "error",
     "traceback": [
      "\u001b[0;31m---------------------------------------------------------------------------\u001b[0m",
      "\u001b[0;31mTypeError\u001b[0m                                 Traceback (most recent call last)",
      "\u001b[0;32m<ipython-input-118-acc28c7b7b45>\u001b[0m in \u001b[0;36m<module>\u001b[0;34m()\u001b[0m\n\u001b[1;32m      3\u001b[0m \u001b[0;34m\u001b[0m\u001b[0m\n\u001b[1;32m      4\u001b[0m \u001b[0;31m#sl_df.set_index('date', inplace=True)\u001b[0m\u001b[0;34m\u001b[0m\u001b[0;34m\u001b[0m\u001b[0m\n\u001b[0;32m----> 5\u001b[0;31m \u001b[0msl_df\u001b[0m\u001b[0;34m.\u001b[0m\u001b[0mNational\u001b[0m\u001b[0;34m[\u001b[0m\u001b[0msl_df\u001b[0m\u001b[0;34m.\u001b[0m\u001b[0mvariable\u001b[0m \u001b[0;34m==\u001b[0m \u001b[0;34m'etc_cum_deaths'\u001b[0m\u001b[0;34m]\u001b[0m\u001b[0;34m.\u001b[0m\u001b[0mplot\u001b[0m\u001b[0;34m(\u001b[0m\u001b[0;34m)\u001b[0m\u001b[0;34m\u001b[0m\u001b[0m\n\u001b[0m",
      "\u001b[0;32m~/anaconda/lib/python3.6/site-packages/pandas/plotting/_core.py\u001b[0m in \u001b[0;36m__call__\u001b[0;34m(self, kind, ax, figsize, use_index, title, grid, legend, style, logx, logy, loglog, xticks, yticks, xlim, ylim, rot, fontsize, colormap, table, yerr, xerr, label, secondary_y, **kwds)\u001b[0m\n\u001b[1;32m   2444\u001b[0m                            \u001b[0mcolormap\u001b[0m\u001b[0;34m=\u001b[0m\u001b[0mcolormap\u001b[0m\u001b[0;34m,\u001b[0m \u001b[0mtable\u001b[0m\u001b[0;34m=\u001b[0m\u001b[0mtable\u001b[0m\u001b[0;34m,\u001b[0m \u001b[0myerr\u001b[0m\u001b[0;34m=\u001b[0m\u001b[0myerr\u001b[0m\u001b[0;34m,\u001b[0m\u001b[0;34m\u001b[0m\u001b[0m\n\u001b[1;32m   2445\u001b[0m                            \u001b[0mxerr\u001b[0m\u001b[0;34m=\u001b[0m\u001b[0mxerr\u001b[0m\u001b[0;34m,\u001b[0m \u001b[0mlabel\u001b[0m\u001b[0;34m=\u001b[0m\u001b[0mlabel\u001b[0m\u001b[0;34m,\u001b[0m \u001b[0msecondary_y\u001b[0m\u001b[0;34m=\u001b[0m\u001b[0msecondary_y\u001b[0m\u001b[0;34m,\u001b[0m\u001b[0;34m\u001b[0m\u001b[0m\n\u001b[0;32m-> 2446\u001b[0;31m                            **kwds)\n\u001b[0m\u001b[1;32m   2447\u001b[0m     \u001b[0m__call__\u001b[0m\u001b[0;34m.\u001b[0m\u001b[0m__doc__\u001b[0m \u001b[0;34m=\u001b[0m \u001b[0mplot_series\u001b[0m\u001b[0;34m.\u001b[0m\u001b[0m__doc__\u001b[0m\u001b[0;34m\u001b[0m\u001b[0m\n\u001b[1;32m   2448\u001b[0m \u001b[0;34m\u001b[0m\u001b[0m\n",
      "\u001b[0;32m~/anaconda/lib/python3.6/site-packages/pandas/plotting/_core.py\u001b[0m in \u001b[0;36mplot_series\u001b[0;34m(data, kind, ax, figsize, use_index, title, grid, legend, style, logx, logy, loglog, xticks, yticks, xlim, ylim, rot, fontsize, colormap, table, yerr, xerr, label, secondary_y, **kwds)\u001b[0m\n\u001b[1;32m   1886\u001b[0m                  \u001b[0myerr\u001b[0m\u001b[0;34m=\u001b[0m\u001b[0myerr\u001b[0m\u001b[0;34m,\u001b[0m \u001b[0mxerr\u001b[0m\u001b[0;34m=\u001b[0m\u001b[0mxerr\u001b[0m\u001b[0;34m,\u001b[0m\u001b[0;34m\u001b[0m\u001b[0m\n\u001b[1;32m   1887\u001b[0m                  \u001b[0mlabel\u001b[0m\u001b[0;34m=\u001b[0m\u001b[0mlabel\u001b[0m\u001b[0;34m,\u001b[0m \u001b[0msecondary_y\u001b[0m\u001b[0;34m=\u001b[0m\u001b[0msecondary_y\u001b[0m\u001b[0;34m,\u001b[0m\u001b[0;34m\u001b[0m\u001b[0m\n\u001b[0;32m-> 1888\u001b[0;31m                  **kwds)\n\u001b[0m\u001b[1;32m   1889\u001b[0m \u001b[0;34m\u001b[0m\u001b[0m\n\u001b[1;32m   1890\u001b[0m \u001b[0;34m\u001b[0m\u001b[0m\n",
      "\u001b[0;32m~/anaconda/lib/python3.6/site-packages/pandas/plotting/_core.py\u001b[0m in \u001b[0;36m_plot\u001b[0;34m(data, x, y, subplots, ax, kind, **kwds)\u001b[0m\n\u001b[1;32m   1680\u001b[0m         \u001b[0mplot_obj\u001b[0m \u001b[0;34m=\u001b[0m \u001b[0mklass\u001b[0m\u001b[0;34m(\u001b[0m\u001b[0mdata\u001b[0m\u001b[0;34m,\u001b[0m \u001b[0msubplots\u001b[0m\u001b[0;34m=\u001b[0m\u001b[0msubplots\u001b[0m\u001b[0;34m,\u001b[0m \u001b[0max\u001b[0m\u001b[0;34m=\u001b[0m\u001b[0max\u001b[0m\u001b[0;34m,\u001b[0m \u001b[0mkind\u001b[0m\u001b[0;34m=\u001b[0m\u001b[0mkind\u001b[0m\u001b[0;34m,\u001b[0m \u001b[0;34m**\u001b[0m\u001b[0mkwds\u001b[0m\u001b[0;34m)\u001b[0m\u001b[0;34m\u001b[0m\u001b[0m\n\u001b[1;32m   1681\u001b[0m \u001b[0;34m\u001b[0m\u001b[0m\n\u001b[0;32m-> 1682\u001b[0;31m     \u001b[0mplot_obj\u001b[0m\u001b[0;34m.\u001b[0m\u001b[0mgenerate\u001b[0m\u001b[0;34m(\u001b[0m\u001b[0;34m)\u001b[0m\u001b[0;34m\u001b[0m\u001b[0m\n\u001b[0m\u001b[1;32m   1683\u001b[0m     \u001b[0mplot_obj\u001b[0m\u001b[0;34m.\u001b[0m\u001b[0mdraw\u001b[0m\u001b[0;34m(\u001b[0m\u001b[0;34m)\u001b[0m\u001b[0;34m\u001b[0m\u001b[0m\n\u001b[1;32m   1684\u001b[0m     \u001b[0;32mreturn\u001b[0m \u001b[0mplot_obj\u001b[0m\u001b[0;34m.\u001b[0m\u001b[0mresult\u001b[0m\u001b[0;34m\u001b[0m\u001b[0m\n",
      "\u001b[0;32m~/anaconda/lib/python3.6/site-packages/pandas/plotting/_core.py\u001b[0m in \u001b[0;36mgenerate\u001b[0;34m(self)\u001b[0m\n\u001b[1;32m    234\u001b[0m     \u001b[0;32mdef\u001b[0m \u001b[0mgenerate\u001b[0m\u001b[0;34m(\u001b[0m\u001b[0mself\u001b[0m\u001b[0;34m)\u001b[0m\u001b[0;34m:\u001b[0m\u001b[0;34m\u001b[0m\u001b[0m\n\u001b[1;32m    235\u001b[0m         \u001b[0mself\u001b[0m\u001b[0;34m.\u001b[0m\u001b[0m_args_adjust\u001b[0m\u001b[0;34m(\u001b[0m\u001b[0;34m)\u001b[0m\u001b[0;34m\u001b[0m\u001b[0m\n\u001b[0;32m--> 236\u001b[0;31m         \u001b[0mself\u001b[0m\u001b[0;34m.\u001b[0m\u001b[0m_compute_plot_data\u001b[0m\u001b[0;34m(\u001b[0m\u001b[0;34m)\u001b[0m\u001b[0;34m\u001b[0m\u001b[0m\n\u001b[0m\u001b[1;32m    237\u001b[0m         \u001b[0mself\u001b[0m\u001b[0;34m.\u001b[0m\u001b[0m_setup_subplots\u001b[0m\u001b[0;34m(\u001b[0m\u001b[0;34m)\u001b[0m\u001b[0;34m\u001b[0m\u001b[0m\n\u001b[1;32m    238\u001b[0m         \u001b[0mself\u001b[0m\u001b[0;34m.\u001b[0m\u001b[0m_make_plot\u001b[0m\u001b[0;34m(\u001b[0m\u001b[0;34m)\u001b[0m\u001b[0;34m\u001b[0m\u001b[0m\n",
      "\u001b[0;32m~/anaconda/lib/python3.6/site-packages/pandas/plotting/_core.py\u001b[0m in \u001b[0;36m_compute_plot_data\u001b[0;34m(self)\u001b[0m\n\u001b[1;32m    343\u001b[0m         \u001b[0;32mif\u001b[0m \u001b[0mis_empty\u001b[0m\u001b[0;34m:\u001b[0m\u001b[0;34m\u001b[0m\u001b[0m\n\u001b[1;32m    344\u001b[0m             raise TypeError('Empty {0!r}: no numeric data to '\n\u001b[0;32m--> 345\u001b[0;31m                             'plot'.format(numeric_data.__class__.__name__))\n\u001b[0m\u001b[1;32m    346\u001b[0m \u001b[0;34m\u001b[0m\u001b[0m\n\u001b[1;32m    347\u001b[0m         \u001b[0mself\u001b[0m\u001b[0;34m.\u001b[0m\u001b[0mdata\u001b[0m \u001b[0;34m=\u001b[0m \u001b[0mnumeric_data\u001b[0m\u001b[0;34m\u001b[0m\u001b[0m\n",
      "\u001b[0;31mTypeError\u001b[0m: Empty 'DataFrame': no numeric data to plot"
     ]
    }
   ],
   "source": [
    "import matplotlib.pyplot as plt\n",
    "%matplotlib inline\n",
    "    \n",
    "#sl_df.set_index('date', inplace=True)\n",
    "#sl_df.National[sl_df.variable == 'etc_cum_deaths'].plot()\n"
   ]
  },
  {
   "cell_type": "code",
   "execution_count": null,
   "metadata": {},
   "outputs": [],
   "source": []
  },
  {
   "cell_type": "code",
   "execution_count": null,
   "metadata": {},
   "outputs": [],
   "source": []
  },
  {
   "cell_type": "code",
   "execution_count": null,
   "metadata": {},
   "outputs": [],
   "source": []
  },
  {
   "cell_type": "code",
   "execution_count": null,
   "metadata": {},
   "outputs": [],
   "source": []
  },
  {
   "cell_type": "code",
   "execution_count": null,
   "metadata": {},
   "outputs": [],
   "source": [
    "guinea_df_new = pd.concat([guinea_df[guinea_df.Description == 'Total new cases registered so far'],\n",
    "                           guinea_df[guinea_df.Description  == 'New deaths registered'],\n",
    "                           guinea_df[guinea_df.Description  == 'New deaths registered today']])\n",
    "\n",
    "# Aggregate New deaths in only one category\n",
    "guinea_df_new.Description = guinea_df_new.Description.replace('New deaths registered today', 'New deaths registered')\n",
    "\n",
    "print('Shape guinea_df_new:', guinea_df_new.shape)"
   ]
  },
  {
   "cell_type": "code",
   "execution_count": null,
   "metadata": {},
   "outputs": [],
   "source": [
    "# Fill nan values with a 0 if there is any value null\n",
    "if guinea_df_new.Totals.isnull().any():\n",
    "    guinea_df_new = guinea_df_new.fillna(value=0)\n",
    "\n",
    "# Get the data type of each column\n",
    "guinea_df_new.info()"
   ]
  },
  {
   "cell_type": "code",
   "execution_count": null,
   "metadata": {},
   "outputs": [],
   "source": []
  },
  {
   "cell_type": "code",
   "execution_count": null,
   "metadata": {},
   "outputs": [],
   "source": []
  },
  {
   "cell_type": "markdown",
   "metadata": {},
   "source": [
    "## Task 2. RNA Sequences\n",
    "\n",
    "In the `DATA_FOLDER/microbiome` subdirectory, there are 9 spreadsheets of microbiome data that was acquired from high-throughput RNA sequencing procedures, along with a 10<sup>th</sup> file that describes the content of each. \n",
    "\n",
    "Use pandas to import the first 9 spreadsheets into a single `DataFrame`.\n",
    "Then, add the metadata information from the 10<sup>th</sup> spreadsheet as columns in the combined `DataFrame`.\n",
    "Make sure that the final `DataFrame` has a unique index and all the `NaN` values have been replaced by the tag `unknown`."
   ]
  },
  {
   "cell_type": "code",
   "execution_count": null,
   "metadata": {},
   "outputs": [],
   "source": [
    "# Write your answer here"
   ]
  },
  {
   "cell_type": "markdown",
   "metadata": {},
   "source": [
    "## Task 3. Class War in Titanic\n",
    "\n",
    "Use pandas to import the data file `Data/titanic.xls`. It contains data on all the passengers that travelled on the Titanic."
   ]
  },
  {
   "cell_type": "code",
   "execution_count": null,
   "metadata": {},
   "outputs": [],
   "source": [
    "from IPython.core.display import HTML\n",
    "HTML(filename=DATA_FOLDER+'/titanic.html')"
   ]
  },
  {
   "cell_type": "markdown",
   "metadata": {},
   "source": [
    "For each of the following questions state clearly your assumptions and discuss your findings:\n",
    "1. Describe the *type* and the *value range* of each attribute. Indicate and transform the attributes that can be `Categorical`. \n",
    "2. Plot histograms for the *travel class*, *embarkation port*, *sex* and *age* attributes. For the latter one, use *discrete decade intervals*. \n",
    "3. Calculate the proportion of passengers by *cabin floor*. Present your results in a *pie chart*.\n",
    "4. For each *travel class*, calculate the proportion of the passengers that survived. Present your results in *pie charts*.\n",
    "5. Calculate the proportion of the passengers that survived by *travel class* and *sex*. Present your results in *a single histogram*.\n",
    "6. Create 2 equally populated *age categories* and calculate survival proportions by *age category*, *travel class* and *sex*. Present your results in a `DataFrame` with unique index."
   ]
  },
  {
   "cell_type": "code",
   "execution_count": null,
   "metadata": {},
   "outputs": [],
   "source": [
    "# Write your answer here"
   ]
  }
 ],
 "metadata": {
  "kernelspec": {
   "display_name": "Python [conda root]",
   "language": "python",
   "name": "conda-root-py"
  },
  "language_info": {
   "codemirror_mode": {
    "name": "ipython",
    "version": 3
   },
   "file_extension": ".py",
   "mimetype": "text/x-python",
   "name": "python",
   "nbconvert_exporter": "python",
   "pygments_lexer": "ipython3",
   "version": "3.6.1"
  }
 },
 "nbformat": 4,
 "nbformat_minor": 2
}
