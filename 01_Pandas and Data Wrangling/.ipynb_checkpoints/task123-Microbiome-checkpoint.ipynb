{
 "cells": [
  {
   "cell_type": "markdown",
   "metadata": {},
   "source": [
    "# Task 2. RNA Sequences\n",
    "\n",
    "In the `DATA_FOLDER/microbiome` subdirectory, there are 9 spreadsheets of microbiome data that was acquired from high-throughput RNA sequencing procedures, along with a 10<sup>th</sup> file that describes the content of each. \n",
    "\n",
    "Use pandas to import the first 9 spreadsheets into a single `DataFrame`.\n",
    "Then, add the metadata information from the 10<sup>th</sup> spreadsheet as columns in the combined `DataFrame`.\n",
    "Make sure that the final `DataFrame` has a unique index and all the `NaN` values have been replaced by the tag `unknown`."
   ]
  },
  {
   "cell_type": "markdown",
   "metadata": {},
   "source": [
    "## Task 2.1 Importing the files\n",
    "\n",
    "The files from MID1.xls to MID9.xls have been opened in Excel to have a look directly on the data, to be sure about the number of spreadsheets contained in every file and not to forget to import any data. Once that it's been verified that every .xls file has only one sheet, the first 9 .xls files have been imported into the following 9 different dataframes.\n",
    "The name 'mb1' stands for 'microbiome 1', 'mb2' stands for 'microbiome 2', and so on. "
   ]
  },
  {
   "cell_type": "code",
   "execution_count": 1,
   "metadata": {},
   "outputs": [
    {
     "ename": "NameError",
     "evalue": "name 'pd' is not defined",
     "output_type": "error",
     "traceback": [
      "\u001b[0;31m---------------------------------------------------------------------------\u001b[0m",
      "\u001b[0;31mNameError\u001b[0m                                 Traceback (most recent call last)",
      "\u001b[0;32m<ipython-input-1-6d67968110a0>\u001b[0m in \u001b[0;36m<module>\u001b[0;34m()\u001b[0m\n\u001b[1;32m      1\u001b[0m \u001b[0;31m# Importing all the files from excel\u001b[0m\u001b[0;34m\u001b[0m\u001b[0;34m\u001b[0m\u001b[0m\n\u001b[0;32m----> 2\u001b[0;31m \u001b[0mmb1\u001b[0m \u001b[0;34m=\u001b[0m \u001b[0mpd\u001b[0m\u001b[0;34m.\u001b[0m\u001b[0mread_excel\u001b[0m\u001b[0;34m(\u001b[0m\u001b[0;34m'Data/microbiome/MID1.xls'\u001b[0m\u001b[0;34m,\u001b[0m \u001b[0;34m'Sheet 1'\u001b[0m\u001b[0;34m,\u001b[0m \u001b[0mindex_col\u001b[0m\u001b[0;34m=\u001b[0m\u001b[0;36m0\u001b[0m\u001b[0;34m,\u001b[0m \u001b[0mheader\u001b[0m\u001b[0;34m=\u001b[0m\u001b[0;32mNone\u001b[0m\u001b[0;34m)\u001b[0m\u001b[0;34m\u001b[0m\u001b[0m\n\u001b[0m\u001b[1;32m      3\u001b[0m \u001b[0mmb2\u001b[0m \u001b[0;34m=\u001b[0m \u001b[0mpd\u001b[0m\u001b[0;34m.\u001b[0m\u001b[0mread_excel\u001b[0m\u001b[0;34m(\u001b[0m\u001b[0;34m'Data/microbiome/MID2.xls'\u001b[0m\u001b[0;34m,\u001b[0m \u001b[0;34m'Sheet 1'\u001b[0m\u001b[0;34m,\u001b[0m \u001b[0mindex_col\u001b[0m\u001b[0;34m=\u001b[0m\u001b[0;36m0\u001b[0m\u001b[0;34m,\u001b[0m \u001b[0mheader\u001b[0m\u001b[0;34m=\u001b[0m\u001b[0;32mNone\u001b[0m\u001b[0;34m)\u001b[0m\u001b[0;34m\u001b[0m\u001b[0m\n\u001b[1;32m      4\u001b[0m \u001b[0mmb3\u001b[0m \u001b[0;34m=\u001b[0m \u001b[0mpd\u001b[0m\u001b[0;34m.\u001b[0m\u001b[0mread_excel\u001b[0m\u001b[0;34m(\u001b[0m\u001b[0;34m'Data/microbiome/MID3.xls'\u001b[0m\u001b[0;34m,\u001b[0m \u001b[0;34m'Sheet 1'\u001b[0m\u001b[0;34m,\u001b[0m \u001b[0mindex_col\u001b[0m\u001b[0;34m=\u001b[0m\u001b[0;36m0\u001b[0m\u001b[0;34m,\u001b[0m \u001b[0mheader\u001b[0m\u001b[0;34m=\u001b[0m\u001b[0;32mNone\u001b[0m\u001b[0;34m)\u001b[0m\u001b[0;34m\u001b[0m\u001b[0m\n\u001b[1;32m      5\u001b[0m \u001b[0mmb4\u001b[0m \u001b[0;34m=\u001b[0m \u001b[0mpd\u001b[0m\u001b[0;34m.\u001b[0m\u001b[0mread_excel\u001b[0m\u001b[0;34m(\u001b[0m\u001b[0;34m'Data/microbiome/MID4.xls'\u001b[0m\u001b[0;34m,\u001b[0m \u001b[0;34m'Sheet 1'\u001b[0m\u001b[0;34m,\u001b[0m \u001b[0mindex_col\u001b[0m\u001b[0;34m=\u001b[0m\u001b[0;36m0\u001b[0m\u001b[0;34m,\u001b[0m \u001b[0mheader\u001b[0m\u001b[0;34m=\u001b[0m\u001b[0;32mNone\u001b[0m\u001b[0;34m)\u001b[0m\u001b[0;34m\u001b[0m\u001b[0m\n",
      "\u001b[0;31mNameError\u001b[0m: name 'pd' is not defined"
     ]
    }
   ],
   "source": [
    "# Importing all the files from excel\n",
    "mb1 = pd.read_excel(DATA_FOLDER+'/microbiome/MID1.xls', 'Sheet 1', index_col=0, header=None)\n",
    "mb2 = pd.read_excel(DATA_FOLDER+'/microbiome/MID2.xls', 'Sheet 1', index_col=0, header=None)\n",
    "mb3 = pd.read_excel(DATA_FOLDER+'/microbiome/MID3.xls', 'Sheet 1', index_col=0, header=None)\n",
    "mb4 = pd.read_excel(DATA_FOLDER+'/microbiome/MID4.xls', 'Sheet 1', index_col=0, header=None)\n",
    "mb5 = pd.read_excel(DATA_FOLDER+'/microbiome/MID5.xls', 'Sheet 1', index_col=0, header=None)\n",
    "mb6 = pd.read_excel(DATA_FOLDER+'/microbiome/MID6.xls', 'Sheet 1', index_col=0, header=None)\n",
    "mb7 = pd.read_excel(DATA_FOLDER+'/microbiome/MID7.xls', 'Sheet 1', index_col=0, header=None)\n",
    "mb8 = pd.read_excel(DATA_FOLDER+'/microbiome/MID8.xls', 'Sheet 1', index_col=0, header=None)\n",
    "mb9 = pd.read_excel(DATA_FOLDER+'/microbiome/MID9.xls', 'Sheet 1', index_col=0, header=None)"
   ]
  },
  {
   "cell_type": "markdown",
   "metadata": {},
   "source": [
    "### Taking a look on the datasets\n",
    "\n",
    "From the previous look directly in Excel, all the dataframes looked very simple, with only one column for the name of the bacteria and one column for the corresponding value, probably recorded in some experiment. Here the head of the first dataframe is displayed anyway in order to:\n",
    "* check that the data have been successfully imported\n",
    "* provide ourself with a visual image of the dataset as a help for correctly handle this dataset"
   ]
  },
  {
   "cell_type": "code",
   "execution_count": null,
   "metadata": {
    "collapsed": true,
    "scrolled": true
   },
   "outputs": [],
   "source": [
    "mb1.head()"
   ]
  },
  {
   "cell_type": "markdown",
   "metadata": {},
   "source": [
    "It can be observed that Pandas already recognised the first column as index, and put the recorded value as unique value of the dataframe.\n",
    "Now the 10th dataframe 'metadata.xls' is loaded to provide us information on the values of the dataframes mb1-mb9:"
   ]
  },
  {
   "cell_type": "code",
   "execution_count": null,
   "metadata": {
    "collapsed": true,
    "scrolled": false
   },
   "outputs": [],
   "source": [
    "names = pd.read_excel(DATA_FOLDER+'/microbiome/metadata.xls', 'Sheet1', na_values=['NA'])\n",
    "names"
   ]
  },
  {
   "cell_type": "markdown",
   "metadata": {},
   "source": [
    "Setting the 'BARCODE' column as index we obtain:"
   ]
  },
  {
   "cell_type": "code",
   "execution_count": null,
   "metadata": {
    "collapsed": true,
    "scrolled": true
   },
   "outputs": [],
   "source": [
    "names.set_index('BARCODE', inplace=True)\n",
    "names"
   ]
  },
  {
   "cell_type": "markdown",
   "metadata": {},
   "source": [
    "Let's now see in details the infos provided in the different spreadsheets:"
   ]
  },
  {
   "cell_type": "code",
   "execution_count": null,
   "metadata": {
    "collapsed": true
   },
   "outputs": [],
   "source": [
    "print('EXTRACTION CONTROL\\n', mb1.describe(), '\\n\\n')\n",
    "print('tissue, NEC 1\\n', mb2.describe(), '\\n\\n')\n",
    "print('tissue, Control 1\\n', mb3.describe(), '\\n\\n')\n",
    "print('tissue, NEC 2\\n', mb4.describe(), '\\n\\n')\n",
    "print('tissue, Control 2\\n', mb5.describe(), '\\n\\n')\n",
    "print('stool, NEC 1\\n', mb6.describe(), '\\n\\n')\n",
    "print('stool, Control 1\\n', mb7.describe(), '\\n\\n')\n",
    "print('stool, NEC 2\\n', mb8.describe(), '\\n\\n')\n",
    "print('stool, Control 2\\n', mb9.describe(), '\\n\\n')"
   ]
  },
  {
   "cell_type": "markdown",
   "metadata": {},
   "source": [
    "The following things can be noticed:\n",
    "* the dataframes have very different sizes (from 99 to 385),\n",
    "* all the dataframes have really high std dev, with a lot of low values and a few really high ones"
   ]
  },
  {
   "cell_type": "markdown",
   "metadata": {},
   "source": [
    "### Comment on the metadata.xls and on what we  understood of the dataset\n",
    "From the metadata.xls file, the following meaning of the files `MB1-MB9` has been understood.\n",
    "* For each bacteria, only one value for the field `'extraction control'` has been recorded.\n",
    "* For each bacteria, the values of the fields 'NEC' and 'Control' have been recorded four times each (`'NEC 1'`, `'NEC 2'`, `'Control 1'`, `'Control 2'`) on two different `'samples'={'tissue', 'stool'}` and in two different `contexts={1, 2}`. \n",
    "\n",
    "### Final goal\n",
    "\n",
    "To keep track of the `'NEC'` and `'Control'` values, it seems then logical merge the _eigth dataframes mb2-mb9_ into one single dataset with the following carachteristcs:\n",
    "* a three-level index with the following levels: `['bacteria name', 'sample', 'context']`\n",
    "* with the following columns: `['NEC', 'Control','extraction control']`\n"
   ]
  },
  {
   "cell_type": "markdown",
   "metadata": {},
   "source": [
    "## Task 2.2 First four merges\n",
    "\n",
    "Let's then procede by renaming the index and the value of each dataframe in a logical way"
   ]
  },
  {
   "cell_type": "code",
   "execution_count": null,
   "metadata": {
    "collapsed": true
   },
   "outputs": [],
   "source": [
    "for mb in [mb1,mb2, mb3, mb4, mb5, mb6, mb7, mb8, mb9]:\n",
    "    mb.columns=['count']\n",
    "    mb.index.name='bacteria'"
   ]
  },
  {
   "cell_type": "markdown",
   "metadata": {},
   "source": [
    "Now, let's do _4 merges_ of the following couples of dataframes:\n",
    "\n",
    "* `mb2` with `mb3`\n",
    "* `mb4` with `mb5`\n",
    "* `mb6` with `mb7`\n",
    "* `mb8` with `mb9`\n",
    "\n",
    "and store the results in a list of resulting dataframes called `_4df`\n",
    "\n",
    "Recall that:\n",
    "* `mb2, mb3` contains respectively the value of `'NEC', 'Control'` for `sample=tissue, context=1`\n",
    "* `mb4, mb5` contains respectively the value of `'NEC', 'Control'` for `sample=tissue, context=2`\n",
    "* `mb6, mb7` contains respectively the value of `'NEC', 'Control'` for `sample=stool, context=1`\n",
    "* `mb8, mb9` contains respectively the value of `'NEC', 'Control'` for `sample=stool, context=2`\n",
    "\n",
    "The following cell provides a bit cumbersome but short way to do so. The following aspects of the code should be noted:\n",
    "* `pd.concat()` has been used to concatenate the colums of `'NEC'` and `'Control'` values, since it creates a dataframe with the _union_ of the indices of the two datasets, filling missing values with `NaN`\n",
    "* two columns have been added to register the `sample` and the `context` of the data of the new dataframes\n",
    "* A three-level index `['bacteria', 'sample', 'context']` has been created"
   ]
  },
  {
   "cell_type": "code",
   "execution_count": null,
   "metadata": {
    "collapsed": true
   },
   "outputs": [],
   "source": [
    "samples = ['tissue']*2+['stool']*2\n",
    "_4df=[1,2,3,4]\n",
    "\n",
    "for i,[M1, M2] in enumerate(zip([mb2, mb4, mb6, mb8],[mb3, mb5, mb7, mb9])):\n",
    "    _4df[i] = pd.concat( [ M1['count'].rename('NEC'),\n",
    "                           M2['count'].rename('Control')], axis=1)\n",
    "    _4df[i] ['sample'] = samples[i]\n",
    "    _4df[i] ['context']=(i%2)+1\n",
    "    _4df[i].index.name='bacteria'\n",
    "    _4df[i]=_4df[i][['sample','context','NEC','Control']]\n",
    "    _4df[i].set_index(['sample','context'], append=True, inplace=True)"
   ]
  },
  {
   "cell_type": "markdown",
   "metadata": {},
   "source": [
    "Let's show the results to have a better understanding of what has been done:"
   ]
  },
  {
   "cell_type": "code",
   "execution_count": null,
   "metadata": {
    "collapsed": true
   },
   "outputs": [],
   "source": [
    "_4df[0].head()"
   ]
  },
  {
   "cell_type": "code",
   "execution_count": null,
   "metadata": {
    "collapsed": true
   },
   "outputs": [],
   "source": [
    "_4df[1].head()"
   ]
  },
  {
   "cell_type": "code",
   "execution_count": null,
   "metadata": {
    "collapsed": true
   },
   "outputs": [],
   "source": [
    "_4df[2].head()"
   ]
  },
  {
   "cell_type": "code",
   "execution_count": null,
   "metadata": {
    "collapsed": true
   },
   "outputs": [],
   "source": [
    "_4df[3].head()"
   ]
  },
  {
   "cell_type": "markdown",
   "metadata": {},
   "source": [
    "## Task 2.3 combine the four dataframes into one\n",
    "Now, it will be sufficient to _combine_ these datasets to have the desired one. \n",
    "Note the use of `combine_first()` so that the result index columns will be the union of the respective indexes and columns of the two arguments of the command."
   ]
  },
  {
   "cell_type": "code",
   "execution_count": null,
   "metadata": {
    "collapsed": true,
    "scrolled": true
   },
   "outputs": [],
   "source": [
    "tissue = _4df[0].combine_first(_4df[1])\n",
    "stool = _4df[2].combine_first(_4df[3])\n",
    "tissue_and_stool = stool.combine_first(tissue)\n",
    "print('the index of the following dataframe is unique?', tissue_and_stool.index.is_unique)\n",
    "print('\\n\\n', tissue_and_stool.describe())\n",
    "tissue_and_stool.head(20)\n"
   ]
  },
  {
   "cell_type": "markdown",
   "metadata": {},
   "source": [
    "### Finally, add the 'extraction control' value to the dataframe\n",
    "and also change the name of the newly added column from _'count'_ to _'extraction control'_"
   ]
  },
  {
   "cell_type": "code",
   "execution_count": null,
   "metadata": {
    "collapsed": true
   },
   "outputs": [],
   "source": [
    "tissue_and_stool = tissue_and_stool.join(mb1, how='outer')\n",
    "tissue_and_stool.rename(columns={'count': 'extraction control'}, inplace=True)"
   ]
  },
  {
   "cell_type": "markdown",
   "metadata": {},
   "source": [
    "### Fill NaN values\n",
    "let's now fill `NaN` values with the tag `unknown` as requested"
   ]
  },
  {
   "cell_type": "code",
   "execution_count": null,
   "metadata": {
    "collapsed": true,
    "scrolled": true
   },
   "outputs": [],
   "source": [
    "tissue_and_stool.fillna('unknown', inplace=True )\n",
    "tissue_and_stool.head(20)"
   ]
  },
  {
   "cell_type": "markdown",
   "metadata": {},
   "source": [
    "## Task 2.4 Final Comments\n",
    "Another option could have been creating more levels for the index, one for every catgory in the bacteria name hierarchy ('Life', 'Domain', 'Kingdom', etc. etc.) to let the user access to subsets of the bacterias in a easy way ( for example, all the bacterias in the _Archaea_ family).\n",
    "However, it has been thought that such a thing would have created a useless complication in handling this dataset, since for different bacterias we don't even have the complete description of its hierarchy. Also, the dataframe that has been created still let a user familiar with the bacteria hierarchy to perform such a query in the following way:"
   ]
  },
  {
   "cell_type": "code",
   "execution_count": null,
   "metadata": {
    "collapsed": true
   },
   "outputs": [],
   "source": [
    "bacterias = tissue_and_stool.index.get_level_values(0)\n",
    "mask = ['Archaea' in name for name in bacterias]\n",
    "tissue_and_stool.loc[mask]"
   ]
  }
 ],
 "metadata": {
  "kernelspec": {
   "display_name": "Python 3",
   "language": "python",
   "name": "python3"
  },
  "language_info": {
   "codemirror_mode": {
    "name": "ipython",
    "version": 3
   },
   "file_extension": ".py",
   "mimetype": "text/x-python",
   "name": "python",
   "nbconvert_exporter": "python",
   "pygments_lexer": "ipython3",
   "version": "3.6.1"
  },
  "name": "_merged"
 },
 "nbformat": 4,
 "nbformat_minor": 2
}
