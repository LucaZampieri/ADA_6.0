{
 "cells": [
  {
   "cell_type": "markdown",
   "metadata": {},
   "source": [
    "# Table of Contents\n",
    " <p><div class=\"lev1\"><a href=\"#Task-1.-Compiling-Ebola-Data\"><span class=\"toc-item-num\">Task 1.&nbsp;&nbsp;</span>Compiling Ebola Data</a></div>\n",
    " <div class=\"lev2\"><a href=\"##Task-1.1.-Guinea\"><span class=\"toc-item-num\">Task 1.1.&nbsp;&nbsp;</span>Guinea</a></div>\n",
    " <div class=\"lev1\"><a href=\"#Task-1.2.-Liberia\"><span class=\"toc-item-num\">Task 1.2.&nbsp;&nbsp;</span>Liberia</a></div>\n",
    " <div class=\"lev1\"><a href=\"#Task-1.3.-Sierra-Leione\"><span class=\"toc-item-num\">Task 1.3.&nbsp;&nbsp;</span>Sierra Leone</a></div>\n",
    " <div class=\"lev1\"><a href=\"#Task-1.4.-Conclusion\"><span class=\"toc-item-num\">Task 1.4.&nbsp;&nbsp;</span>Conclusion</a></div>\n",
    " <div class=\"lev1\"><a href=\"#Task-2.-RNA-Sequences\"><span class=\"toc-item-num\">Task 2.&nbsp;&nbsp;</span>RNA Sequences</a></div>\n",
    " <div class=\"lev1\"><a href=\"#Task-2.1-Importing-the-files\"><span class=\"toc-item-num\">Task 2.1.&nbsp;&nbsp;</span>Importing the files</a></div>\n",
    " <div class=\"lev1\"><a href=\"#Task-2.2-First-four-merges\"><span class=\"toc-item-num\">Task 2.2.&nbsp;&nbsp;</span>First four merges</a></div>\n",
    " <div class=\"lev1\"><a href=\"#Task-2.3-combine-the-four-dataframes-into-one\"><span class=\"toc-item-num\">Task 2.3.&nbsp;&nbsp;</span>RNA Sequences</a></div>\n",
    " <div class=\"lev1\"><a href=\"#Task-2.4-Final-comments\"><span class=\"toc-item-num\">Task 2.4.&nbsp;&nbsp;</span>Final comments</a></div>\n",
    " <div class=\"lev1\"><a href=\"#Task-3.-Class-War-in-Titanic\"><span class=\"toc-item-num\">Task 3.&nbsp;&nbsp;</span>Class War in Titanic</a></div>\n",
    " <div class=\"lev1\"><a href=\"#Task-3.1.-Question-1:\"><span class=\"toc-item-num\">Task 3.1.&nbsp;&nbsp;</span>Question 1</a></div>\n",
    " <div class=\"lev1\"><a href=\"#Task-3.2.-Question-2:\"><span class=\"toc-item-num\">Task 3.2.&nbsp;&nbsp;</span>Question 2</a></div>\n",
    " <div class=\"lev1\"><a href=\"#Task-3.3.-Question-3:\"><span class=\"toc-item-num\">Task 3.3.&nbsp;&nbsp;</span>Question 3</a></div>\n",
    " <div class=\"lev1\"><a href=\"#Task-3.4.-Question-4:\"><span class=\"toc-item-num\">Task 3.4.&nbsp;&nbsp;</span>Question 4</a></div>\n",
    " <div class=\"lev1\"><a href=\"#Task-3.5.-Question-5:\"><span class=\"toc-item-num\">Task 3.5.&nbsp;&nbsp;</span>Question 5</a></div>\n",
    " <div class=\"lev1\"><a href=\"#Task-3.6.-Question-6:\"><span class=\"toc-item-num\">Task 3.6.&nbsp;&nbsp;</span>Question 6</a></div></p>"
   ]
  },
  {
   "cell_type": "markdown",
   "metadata": {},
   "source": [
    "First of all, the main libraries useful for this homework are imported:"
   ]
  },
  {
   "cell_type": "code",
   "execution_count": 1,
   "metadata": {
    "collapsed": true
   },
   "outputs": [],
   "source": [
    "# Import libraries\n",
    "import pandas as pd \n",
    "import numpy as np \n",
    "import glob \n",
    "pd.options.mode.chained_assignment = None \n",
    "from datetime import datetime, date, time\n",
    "from dateutil.parser import parse"
   ]
  },
  {
   "cell_type": "code",
   "execution_count": 2,
   "metadata": {
    "collapsed": true
   },
   "outputs": [],
   "source": [
    "DATA_FOLDER = 'Data' # Use the data folder provided in Tutorial 02 - Intro to Pandas."
   ]
  },
  {
   "cell_type": "markdown",
   "metadata": {},
   "source": [
    "# Task 1. Compiling Ebola Data\n",
    "\n",
    "The `DATA_FOLDER/ebola` folder contains summarized reports of Ebola cases from three countries (Guinea, Liberia and Sierra Leone) during the recent outbreak of the disease in West Africa. For each country, there are daily reports that contain various information about the outbreak in several cities in each country.\n",
    "\n",
    "Use pandas to import these data files into a single `Dataframe`.\n",
    "Using this `DataFrame`, calculate for *each country*, the *daily average per month* of *new cases* and *deaths*.\n",
    "Make sure you handle all the different expressions for *new cases* and *deaths* that are used in the reports."
   ]
  },
  {
   "cell_type": "markdown",
   "metadata": {},
   "source": [
    "Our goal in this first task is to obtain a unique dataframe with the **daily average per month** of new cases and deaths for the three different countries. Our approach is to analyse the three countries separetly and then merge them in an unique `Dataframe`.\n",
    "\n",
    "For each country, there are different reports in `.csv` format. We are going to use some functions of the `Glob` library in order to merge all the daily reports in a three `Dataframe`'s, one for each country. Then, `Pandas` library will be used in order to structure all the data and then analyse it. Other libraries as `Numpy` or `Datetime` will be also used."
   ]
  },
  {
   "cell_type": "markdown",
   "metadata": {},
   "source": [
    "## Task 1.1. Guinea"
   ]
  },
  {
   "cell_type": "markdown",
   "metadata": {},
   "source": [
    "We first merge all the '.csv' files found in the `guinea_data` folder into one one single `DataFrame`."
   ]
  },
  {
   "cell_type": "code",
   "execution_count": 3,
   "metadata": {},
   "outputs": [
    {
     "name": "stdout",
     "output_type": "stream",
     "text": [
      "Number of csv files: 22\n",
      "Shape guinea_df: (714, 25)\n",
      "Columns: Index(['Beyla', 'Boffa', 'Conakry', 'Coyah', 'Dabola', 'Dalaba', 'Date',\n",
      "       'Description', 'Dinguiraye', 'Dubreka', 'Forecariah', 'Gueckedou',\n",
      "       'Kerouane', 'Kindia', 'Kissidougou', 'Kouroussa', 'Lola', 'Macenta',\n",
      "       'Mzerekore', 'Nzerekore', 'Pita', 'Siguiri', 'Telimele', 'Totals',\n",
      "       'Yomou'],\n",
      "      dtype='object')\n"
     ]
    }
   ],
   "source": [
    "# Import Guinea data in one file\n",
    "data_folder = DATA_FOLDER+'/ebola/guinea_data/'\n",
    "allFiles = glob.glob(data_folder + \"/*.csv\")\n",
    "print('Number of csv files:',len(allFiles))\n",
    "list_ = []\n",
    "for file_ in allFiles:\n",
    "    df = pd.read_csv(file_,index_col=None, header=0)\n",
    "    list_.append(df)\n",
    "guinea_df = pd.concat(list_)\n",
    "\n",
    "# Summerize guinea_df\n",
    "print('Shape guinea_df:',guinea_df.shape)\n",
    "print('Columns:', guinea_df.columns)"
   ]
  },
  {
   "cell_type": "markdown",
   "metadata": {},
   "source": [
    "In the `guinea_dat` folder, 22 different reports are found. The resulting `DataFrame` has 25 columns and 714 different entries. \n",
    "\n",
    "We note that the columns of our interest are `Date`, `Description` and `Total`, as we only look for global daily new cases and deaths for all the country. \n",
    "\n",
    "It is assumed that the column `Totals` summarizes correctly all the other regional accounting columns. However, the following, closer look at the data shows that this is not true.\n",
    "\n",
    "\n",
    "Let's compare the values in the column `Totals` with the values compute manually by summing the values in the other columns of the dataset:"
   ]
  },
  {
   "cell_type": "code",
   "execution_count": 4,
   "metadata": {},
   "outputs": [
    {
     "data": {
      "text/html": [
       "<div>\n",
       "<style>\n",
       "    .dataframe thead tr:only-child th {\n",
       "        text-align: right;\n",
       "    }\n",
       "\n",
       "    .dataframe thead th {\n",
       "        text-align: left;\n",
       "    }\n",
       "\n",
       "    .dataframe tbody tr th {\n",
       "        vertical-align: top;\n",
       "    }\n",
       "</style>\n",
       "<table border=\"1\" class=\"dataframe\">\n",
       "  <thead>\n",
       "    <tr style=\"text-align: right;\">\n",
       "      <th></th>\n",
       "      <th>0</th>\n",
       "      <th>1</th>\n",
       "      <th>2</th>\n",
       "      <th>3</th>\n",
       "      <th>4</th>\n",
       "      <th>5</th>\n",
       "      <th>6</th>\n",
       "      <th>7</th>\n",
       "      <th>8</th>\n",
       "      <th>9</th>\n",
       "      <th>...</th>\n",
       "      <th>11</th>\n",
       "      <th>12</th>\n",
       "      <th>13</th>\n",
       "      <th>14</th>\n",
       "      <th>15</th>\n",
       "      <th>16</th>\n",
       "      <th>17</th>\n",
       "      <th>18</th>\n",
       "      <th>19</th>\n",
       "      <th>20</th>\n",
       "    </tr>\n",
       "  </thead>\n",
       "  <tbody>\n",
       "    <tr>\n",
       "      <th>total values provided</th>\n",
       "      <td>5</td>\n",
       "      <td>0</td>\n",
       "      <td>4</td>\n",
       "      <td>9</td>\n",
       "      <td>11</td>\n",
       "      <td>133</td>\n",
       "      <td>351</td>\n",
       "      <td>495</td>\n",
       "      <td>2</td>\n",
       "      <td>2</td>\n",
       "      <td>...</td>\n",
       "      <td>0</td>\n",
       "      <td>2</td>\n",
       "      <td>133</td>\n",
       "      <td>228</td>\n",
       "      <td>363</td>\n",
       "      <td>31</td>\n",
       "      <td>18</td>\n",
       "      <td>0</td>\n",
       "      <td>13</td>\n",
       "      <td>138</td>\n",
       "    </tr>\n",
       "    <tr>\n",
       "      <th>total values computed manually</th>\n",
       "      <td>5</td>\n",
       "      <td>1</td>\n",
       "      <td>6</td>\n",
       "      <td>12</td>\n",
       "      <td>15</td>\n",
       "      <td>138</td>\n",
       "      <td>357</td>\n",
       "      <td>502</td>\n",
       "      <td>10</td>\n",
       "      <td>11</td>\n",
       "      <td>...</td>\n",
       "      <td>11</td>\n",
       "      <td>14</td>\n",
       "      <td>146</td>\n",
       "      <td>242</td>\n",
       "      <td>378</td>\n",
       "      <td>47</td>\n",
       "      <td>35</td>\n",
       "      <td>18</td>\n",
       "      <td>32</td>\n",
       "      <td>159</td>\n",
       "    </tr>\n",
       "  </tbody>\n",
       "</table>\n",
       "<p>2 rows × 21 columns</p>\n",
       "</div>"
      ],
      "text/plain": [
       "                                0   1   2   3   4    5    6    7   8   9   \\\n",
       "total values provided            5   0   4   9  11  133  351  495   2   2   \n",
       "total values computed manually   5   1   6  12  15  138  357  502  10  11   \n",
       "\n",
       "                               ...   11  12   13   14   15  16  17  18  19  \\\n",
       "total values provided          ...    0   2  133  228  363  31  18   0  13   \n",
       "total values computed manually ...   11  14  146  242  378  47  35  18  32   \n",
       "\n",
       "                                 20  \n",
       "total values provided           138  \n",
       "total values computed manually  159  \n",
       "\n",
       "[2 rows x 21 columns]"
      ]
     },
     "execution_count": 4,
     "metadata": {},
     "output_type": "execute_result"
    }
   ],
   "source": [
    "manual_tot = guinea_df[['Beyla', 'Boffa', 'Conakry', 'Coyah', 'Dabola', 'Dalaba',\n",
    "           'Dinguiraye', 'Dubreka', 'Forecariah', 'Gueckedou',\n",
    "           'Kerouane', 'Kindia', 'Kissidougou', 'Kouroussa', 'Lola', 'Macenta',\n",
    "           'Mzerekore', 'Nzerekore', 'Pita', 'Siguiri', 'Telimele', \n",
    "           'Yomou']].reset_index().loc[0:20].fillna(value=0).apply(pd.to_numeric).astype(int).sum(axis=1)\n",
    "\n",
    "# Change to numeric format the Totals column\n",
    "provided_tot = guinea_df['Totals'].reset_index(drop=True).loc[0:20].apply(pd.to_numeric).astype(int)\n",
    "\n",
    "# Add index name\n",
    "manual_tot.name='total values computed manually'\n",
    "provided_tot.name='total values provided'\n",
    "\n",
    "# Show a comparison table\n",
    "pd.DataFrame(data=[provided_tot, manual_tot])"
   ]
  },
  {
   "cell_type": "markdown",
   "metadata": {},
   "source": [
    "The difference the values shown in the `DataFrame` above are 'very' close for the purpose of this work. _The values provided in the column 'Totals' will then be used for the following reasons:_\n",
    "* The values obtained in the two different ways are 'close' for the purpose of this work.\n",
    "* It is impossible to infer which data is correct and which is not, so the simpler approach would be preferable.\n",
    "* The dataframe is very dirty: computing the total manually would imply a lot of work to clean the dataset.\n",
    "* The _total values provided_ seems to be always less that _total values computed manually_. This seems not to be a casualty: probably the 'Total' data provided in the reports has been revised in order to be less alarmistic and more cautious. It could be a good idea to adopt the same approach. "
   ]
  },
  {
   "cell_type": "markdown",
   "metadata": {},
   "source": [
    "Let's then select the columns of our interest:"
   ]
  },
  {
   "cell_type": "code",
   "execution_count": 5,
   "metadata": {},
   "outputs": [
    {
     "name": "stdout",
     "output_type": "stream",
     "text": [
      "         Date                        Description Totals\n",
      "0  2014-08-04              New cases of suspects      5\n",
      "1  2014-08-04             New cases of probables      0\n",
      "2  2014-08-04             New cases of confirmed      4\n",
      "3  2014-08-04  Total new cases registered so far      9\n",
      "4  2014-08-04            Total cases of suspects     11\n"
     ]
    }
   ],
   "source": [
    "# Select and switch the column order by name \n",
    "guinea_df = guinea_df[['Date','Description', 'Totals']]\n",
    "\n",
    "print(guinea_df.head(5))"
   ]
  },
  {
   "cell_type": "markdown",
   "metadata": {},
   "source": [
    "From the `DataFrame` above, we identify different classes for **new cases and new deaths** in `Description` column. Let's identify and select the `Description`'s of our interest: "
   ]
  },
  {
   "cell_type": "code",
   "execution_count": 6,
   "metadata": {},
   "outputs": [
    {
     "data": {
      "text/plain": [
       "New cases of confirmed                                      22\n",
       "Total deaths (confirmed + probables + suspects)             22\n",
       "Total cases of suspects                                     22\n",
       "New cases of probables                                      22\n",
       "New cases of suspects                                       22\n",
       "Total new cases registered so far                           22\n",
       "Total cases of probables                                    22\n",
       "Total cases of confirmed                                    22\n",
       "Total deaths of confirmed                                   22\n",
       "Number of contacts to follow today                          22\n",
       "Total deaths of probables                                   22\n",
       "Total deaths of suspects                                    22\n",
       "Cumulative (confirmed + probable + suspects)                22\n",
       "Total contacts registered from start date                   22\n",
       "Total samples tested                                        21\n",
       "Total number of hospitalized cases in CTE                   21\n",
       "Total number of exits from CTE                              21\n",
       "Number of contacts lost to follow up                        21\n",
       "Number of contacts out of the track 21 days                 21\n",
       "Total suspected non-class cases                             21\n",
       "Number of samples under test                                21\n",
       "Number of contacts followed today                           21\n",
       "Total deaths registered among health workers                21\n",
       "New deaths registered                                       21\n",
       "Total number of admissions to CTE                           21\n",
       "Total case of confirmed among health workers                21\n",
       "New contacts registered so far                              21\n",
       "Number of samples collected today                           21\n",
       "Fatality rate for confirmed and probables                   21\n",
       "New deaths registered among health workers                  21\n",
       "New admits to CTE so far                                    21\n",
       "New cases of confirmed among health workers                 21\n",
       "New deaths registered today (probables)                      1\n",
       "Total number of female cases                                 1\n",
       "Total of cured in confirmed cases in CTE                     1\n",
       "Number of male probables cases                               1\n",
       "Number of female suspects cases                              1\n",
       "Number of male confirmed cases                               1\n",
       "Total PEC center today (confirmed)                           1\n",
       "Total PEC center today                                       1\n",
       "Number of contacts out of track                              1\n",
       "Total number of male cases                                   1\n",
       "Number of patients tested                                    1\n",
       "Total of deaths in confirmed cases in CTE                    1\n",
       "Number of deaths of confirmed cases among health workers     1\n",
       "Total PEC center today (suspects)                            1\n",
       "Number of samples collected                                  1\n",
       "Total PEC center today (probables)                           1\n",
       "Number of male suspects cases                                1\n",
       "New deaths registered today                                  1\n",
       "Number of female confirmed cases                             1\n",
       "Number of confirmed cases among health workers               1\n",
       "Number of suspects cases among health workers                1\n",
       "New deaths registered today (suspects)                       1\n",
       "New deaths registered today (confirmed)                      1\n",
       "Number of death of confirmed cases among health workers      1\n",
       "Number of female probables cases                             1\n",
       "Number of contacts followed yesterday                        1\n",
       "Number of deaths of probables cases among health workers     1\n",
       "Number of probables cases among health workers               1\n",
       "Name: Description, dtype: int64"
      ]
     },
     "execution_count": 6,
     "metadata": {},
     "output_type": "execute_result"
    }
   ],
   "source": [
    "# Identify all the Description categories\n",
    "guinea_df.Description.value_counts()"
   ]
  },
  {
   "cell_type": "markdown",
   "metadata": {},
   "source": [
    "The following categories in `Description` are chosen to be analysed:\n",
    "\n",
    "* `Total new cases registered so far`\n",
    "* `New death registered today`\n",
    "* `New death registered`\n",
    "\n",
    "As we can see, the last two categories refer to the same kind of data (New deaths). So we need to rename one of both. \n",
    "\n",
    "In addition, we are going to check the shape of both `DataFrame` to verify that we are not missing any information on the renaming operation."
   ]
  },
  {
   "cell_type": "code",
   "execution_count": 7,
   "metadata": {},
   "outputs": [
    {
     "name": "stdout",
     "output_type": "stream",
     "text": [
      "Shape guinea_df_new: (44, 3)\n"
     ]
    }
   ],
   "source": [
    "# Concatenate the Description categories of our interest\n",
    "guinea_df_new = pd.concat([guinea_df[guinea_df.Description == 'Total new cases registered so far'],\n",
    "                           guinea_df[guinea_df.Description  == 'New deaths registered'],\n",
    "                           guinea_df[guinea_df.Description  == 'New deaths registered today']])\n",
    "\n",
    "# Aggregate New deaths in only one category\n",
    "guinea_df_new.Description = guinea_df_new.Description.replace('New deaths registered today', 'New deaths registered')\n",
    "\n",
    "# Verify that the number of rows is 22*2\n",
    "print('Shape guinea_df_new:', guinea_df_new.shape)"
   ]
  },
  {
   "cell_type": "markdown",
   "metadata": {},
   "source": [
    "It is verified that there is 22 datapoints for each category (new cases/new deaths) which corresponds to the 22 guinea reports. \n",
    "\n",
    "Once the rows with all the relevant information for our analysis have been concatenated, we start to clean the data :"
   ]
  },
  {
   "cell_type": "code",
   "execution_count": 8,
   "metadata": {},
   "outputs": [
    {
     "name": "stdout",
     "output_type": "stream",
     "text": [
      "<class 'pandas.core.frame.DataFrame'>\n",
      "Int64Index: 44 entries, 3 to 8\n",
      "Data columns (total 3 columns):\n",
      "Date           44 non-null object\n",
      "Description    44 non-null object\n",
      "Totals         44 non-null object\n",
      "dtypes: object(3)\n",
      "memory usage: 1.4+ KB\n"
     ]
    }
   ],
   "source": [
    "# Fill missing values with a 0 \n",
    "if guinea_df_new.Totals.isnull().any():\n",
    "    guinea_df_new = guinea_df_new.fillna(value=0)\n",
    "\n",
    "# Get the data type for each column\n",
    "guinea_df_new.info()"
   ]
  },
  {
   "cell_type": "markdown",
   "metadata": {},
   "source": [
    "The datatype for all the columns is `object`. Let's transform the `Date` column in datetime format and the `Totals` column to numeric(`int`). In addition, a `Month` column will be added for the ease of analysing the new cases and deaths per month."
   ]
  },
  {
   "cell_type": "code",
   "execution_count": 9,
   "metadata": {},
   "outputs": [
    {
     "name": "stdout",
     "output_type": "stream",
     "text": [
      "<class 'pandas.core.frame.DataFrame'>\n",
      "Int64Index: 44 entries, 3 to 8\n",
      "Data columns (total 4 columns):\n",
      "Date           44 non-null datetime64[ns]\n",
      "Month          44 non-null int64\n",
      "Description    44 non-null object\n",
      "Totals         44 non-null int64\n",
      "dtypes: datetime64[ns](1), int64(2), object(1)\n",
      "memory usage: 1.7+ KB\n"
     ]
    }
   ],
   "source": [
    "# Change to date format the Date column\n",
    "guinea_df_new.Date = guinea_df_new.Date.apply(lambda d: pd.to_datetime(d))\n",
    "guinea_df_new['Month'] = [date.month for date in guinea_df_new.Date]\n",
    "guinea_df_new = guinea_df_new[['Date','Month', 'Description', 'Totals']]\n",
    "\n",
    "# Change to numeric the Totals\n",
    "guinea_df_new['Totals'] = guinea_df_new['Totals'].apply(pd.to_numeric).astype(int)\n",
    "\n",
    "# Verify the new columns dtypes\n",
    "guinea_df_new.info()"
   ]
  },
  {
   "cell_type": "markdown",
   "metadata": {},
   "source": [
    "In order to compute the `monthly daily average`, we need to identify the first report date and the last report date."
   ]
  },
  {
   "cell_type": "code",
   "execution_count": 10,
   "metadata": {},
   "outputs": [
    {
     "name": "stdout",
     "output_type": "stream",
     "text": [
      "9     32\n",
      "8     10\n",
      "10     2\n",
      "Name: Month, dtype: int64\n",
      "First report date: 2014-08-04 00:00:00\n",
      "Last report date: 2014-10-01 00:00:00\n"
     ]
    }
   ],
   "source": [
    "print(guinea_df_new.Month.value_counts())\n",
    "print('First report date:',np.min(guinea_df_new.Date))\n",
    "print('Last report date:', np.max(guinea_df_new.Date))"
   ]
  },
  {
   "cell_type": "markdown",
   "metadata": {},
   "source": [
    "We assume:\n",
    "* The only report from October is accounting for the month of September new cases and deaths.\n",
    "* The first report of August is accounting for the new cases and deaths of the three first days of the month, and none of the previous month.\n",
    "\n",
    "For this reason, we modify the last report month from October to Semptember (10 to 9). We don't care about modifying the day, since the final goal is to aggregate the data per month."
   ]
  },
  {
   "cell_type": "code",
   "execution_count": 11,
   "metadata": {},
   "outputs": [
    {
     "data": {
      "text/html": [
       "<div>\n",
       "<style>\n",
       "    .dataframe thead tr:only-child th {\n",
       "        text-align: right;\n",
       "    }\n",
       "\n",
       "    .dataframe thead th {\n",
       "        text-align: left;\n",
       "    }\n",
       "\n",
       "    .dataframe tbody tr th {\n",
       "        vertical-align: top;\n",
       "    }\n",
       "</style>\n",
       "<table border=\"1\" class=\"dataframe\">\n",
       "  <thead>\n",
       "    <tr style=\"text-align: right;\">\n",
       "      <th></th>\n",
       "      <th>avg_new_cases</th>\n",
       "      <th>avg_new_deaths</th>\n",
       "      <th>Country</th>\n",
       "    </tr>\n",
       "    <tr>\n",
       "      <th>Month</th>\n",
       "      <th></th>\n",
       "      <th></th>\n",
       "      <th></th>\n",
       "    </tr>\n",
       "  </thead>\n",
       "  <tbody>\n",
       "    <tr>\n",
       "      <th>8</th>\n",
       "      <td>4.16</td>\n",
       "      <td>0.57</td>\n",
       "      <td>Guinea</td>\n",
       "    </tr>\n",
       "    <tr>\n",
       "      <th>9</th>\n",
       "      <td>11.23</td>\n",
       "      <td>2.40</td>\n",
       "      <td>Guinea</td>\n",
       "    </tr>\n",
       "  </tbody>\n",
       "</table>\n",
       "</div>"
      ],
      "text/plain": [
       "       avg_new_cases  avg_new_deaths Country\n",
       "Month                                       \n",
       "8               4.16            0.57  Guinea\n",
       "9              11.23            2.40  Guinea"
      ]
     },
     "execution_count": 11,
     "metadata": {},
     "output_type": "execute_result"
    }
   ],
   "source": [
    "# Change the last report month\n",
    "guinea_df_new.Month = guinea_df_new.Month.replace(10, 9)\n",
    "\n",
    "# New cases\n",
    "new_cases = guinea_df_new[guinea_df_new.Description == 'Total new cases registered so far']\n",
    "new_cases_grouped = new_cases.groupby('Month').agg(np.sum)/31\n",
    "new_cases_grouped.rename(columns={'Totals': 'avg_new_cases'}, inplace=True)\n",
    "\n",
    "# New deaths\n",
    "new_deaths = guinea_df_new[guinea_df_new.Description == 'New deaths registered']\n",
    "new_deaths_grouped = new_deaths.groupby('Month').agg(np.sum)/30\n",
    "new_deaths_grouped.rename(columns={'Totals': 'avg_new_deaths'}, inplace=True)\n",
    "\n",
    "# Concatenate\n",
    "guinea_conc = pd.concat([new_cases_grouped, new_deaths_grouped], axis=1)\n",
    "guinea_conc['Country'] = 'Guinea'\n",
    "\n",
    "# Set precision of the DataFrame\n",
    "pd.set_option('precision', 2)\n",
    "\n",
    "# Show the guinea results\n",
    "guinea_conc"
   ]
  },
  {
   "cell_type": "markdown",
   "metadata": {},
   "source": [
    "## Task 1.2. Liberia "
   ]
  },
  {
   "cell_type": "markdown",
   "metadata": {},
   "source": [
    "We follow the same procedure done for Guinea, in this case for Liberia:"
   ]
  },
  {
   "cell_type": "code",
   "execution_count": 12,
   "metadata": {},
   "outputs": [
    {
     "name": "stdout",
     "output_type": "stream",
     "text": [
      "Number of csv files: 100\n",
      "Shape guinea_df: (3152, 19)\n",
      "Columns: Index(['Bomi County', 'Bong County', 'Date', 'Gbarpolu County', 'Grand Bassa',\n",
      "       'Grand Cape Mount', 'Grand Gedeh', 'Grand Kru', 'Lofa County',\n",
      "       'Margibi County', 'Maryland County', 'Montserrado County', 'National',\n",
      "       'Nimba County', 'River Gee County', 'RiverCess County', 'Sinoe County',\n",
      "       'Unnamed: 18', 'Variable'],\n",
      "      dtype='object')\n"
     ]
    }
   ],
   "source": [
    "# Import Liberia data in one file\n",
    "data_folder =DATA_FOLDER+'/ebola/liberia_data/'\n",
    "allFiles = glob.glob(data_folder + \"/*.csv\")\n",
    "print('Number of csv files:',len(allFiles))\n",
    "list_ = []\n",
    "for file_ in allFiles:\n",
    "    df = pd.read_csv(file_,index_col=None, header=0)\n",
    "    list_.append(df)\n",
    "liberia_df = pd.concat(list_)\n",
    "\n",
    "# Summerize liberia_df\n",
    "print('Shape guinea_df:',liberia_df.shape)\n",
    "print('Columns:', liberia_df.columns)"
   ]
  },
  {
   "cell_type": "markdown",
   "metadata": {},
   "source": [
    "The following column categories are identified of our interest: `Date`, `Variable`, `National` \n",
    "\n",
    "We still keep the assumption that the National columns well accounts for all the new cases and deaths for each region."
   ]
  },
  {
   "cell_type": "code",
   "execution_count": 13,
   "metadata": {},
   "outputs": [
    {
     "data": {
      "text/html": [
       "<div>\n",
       "<style>\n",
       "    .dataframe thead tr:only-child th {\n",
       "        text-align: right;\n",
       "    }\n",
       "\n",
       "    .dataframe thead th {\n",
       "        text-align: left;\n",
       "    }\n",
       "\n",
       "    .dataframe tbody tr th {\n",
       "        vertical-align: top;\n",
       "    }\n",
       "</style>\n",
       "<table border=\"1\" class=\"dataframe\">\n",
       "  <thead>\n",
       "    <tr style=\"text-align: right;\">\n",
       "      <th></th>\n",
       "      <th>Date</th>\n",
       "      <th>Variable</th>\n",
       "      <th>National</th>\n",
       "    </tr>\n",
       "  </thead>\n",
       "  <tbody>\n",
       "    <tr>\n",
       "      <th>0</th>\n",
       "      <td>6/16/2014</td>\n",
       "      <td>Specimens collected</td>\n",
       "      <td>1.0</td>\n",
       "    </tr>\n",
       "    <tr>\n",
       "      <th>1</th>\n",
       "      <td>6/16/2014</td>\n",
       "      <td>Specimens pending for testing</td>\n",
       "      <td>0.0</td>\n",
       "    </tr>\n",
       "    <tr>\n",
       "      <th>2</th>\n",
       "      <td>6/16/2014</td>\n",
       "      <td>Total specimens tested</td>\n",
       "      <td>28.0</td>\n",
       "    </tr>\n",
       "    <tr>\n",
       "      <th>3</th>\n",
       "      <td>6/16/2014</td>\n",
       "      <td>Newly reported deaths</td>\n",
       "      <td>2.0</td>\n",
       "    </tr>\n",
       "    <tr>\n",
       "      <th>4</th>\n",
       "      <td>6/16/2014</td>\n",
       "      <td>Total death/s in confirmed cases</td>\n",
       "      <td>8.0</td>\n",
       "    </tr>\n",
       "  </tbody>\n",
       "</table>\n",
       "</div>"
      ],
      "text/plain": [
       "        Date                          Variable  National\n",
       "0  6/16/2014               Specimens collected       1.0\n",
       "1  6/16/2014     Specimens pending for testing       0.0\n",
       "2  6/16/2014            Total specimens tested      28.0\n",
       "3  6/16/2014             Newly reported deaths       2.0\n",
       "4  6/16/2014  Total death/s in confirmed cases       8.0"
      ]
     },
     "execution_count": 13,
     "metadata": {},
     "output_type": "execute_result"
    }
   ],
   "source": [
    "# Columns selection and order switching\n",
    "liberia_df = liberia_df[['Date','Variable', 'National']]\n",
    "liberia_df.head(5)"
   ]
  },
  {
   "cell_type": "markdown",
   "metadata": {},
   "source": [
    "In order to classify the new cases and new deaths, we need to know the different categories in Variables:"
   ]
  },
  {
   "cell_type": "code",
   "execution_count": 14,
   "metadata": {
    "scrolled": true
   },
   "outputs": [
    {
     "data": {
      "text/plain": [
       "Cumulative cases among HCW                                          101\n",
       "Cumulative deaths among HCW                                         101\n",
       "Total death/s in probable cases                                     101\n",
       "Total death/s in suspected cases                                    101\n",
       "Total death/s in confirmed cases                                    101\n",
       "Contacts seen                                                       100\n",
       "Total discharges                                                    100\n",
       "Currently under follow-up                                           100\n",
       "Total probable cases                                                100\n",
       "New admissions                                                      100\n",
       "Newly reported contacts                                             100\n",
       "Newly Reported deaths in HCW                                        100\n",
       "New Case/s (Suspected)                                              100\n",
       "Newly reported deaths                                               100\n",
       "New case/s (confirmed)                                              100\n",
       "Total confirmed cases                                               100\n",
       "Total suspected cases                                               100\n",
       "New Case/s (Probable)                                               100\n",
       "Contacts lost to follow-up                                          100\n",
       "Newly Reported Cases in HCW                                         100\n",
       "Total contacts listed                                               100\n",
       "Specimens pending for testing                                        99\n",
       "Total specimens tested                                               99\n",
       "Specimens collected                                                  99\n",
       "Cumulative admission/isolation                                       99\n",
       "Contacts who completed 21 day follow-up                              76\n",
       "Total Number of Confirmed Cases of Guinean Nationality               76\n",
       "Case Fatality Rate (CFR) - Confirmed & Probable Cases                76\n",
       "Total Number of Confirmed Cases of Sierra Leonean Nationality        76\n",
       "Total death/s in confirmed, probable, suspected cases                76\n",
       "Total no. currently in Treatment Units                               76\n",
       "Cumulative confirmed, probable and suspected cases                   33\n",
       "Contacts who completed 21 day \\n follow-up                           24\n",
       "Total Number of Confirmed Cases \\n of Sierra Leonean Nationality     24\n",
       "Total death/s in confirmed, \\n probable, suspected cases             24\n",
       "Case Fatality Rate (CFR) - \\n Confirmed & Probable Cases             24\n",
       "Total Number of Confirmed Cases \\n of Guinean Nationality            24\n",
       "Total no. currently in Treatment \\n Units                            24\n",
       "Cumulative (confirmed + probable + suspects)                         11\n",
       "Cumulative (confirmed + probable + suspected)                         2\n",
       "Total case/s (confirmed)                                              1\n",
       "Total death/s in confirmed,  probable, suspected cases                1\n",
       "Total Case/s (Suspected)                                              1\n",
       "Total Case/s (Probable)                                               1\n",
       "Cumulative CFR                                                        1\n",
       "Name: Variable, dtype: int64"
      ]
     },
     "execution_count": 14,
     "metadata": {},
     "output_type": "execute_result"
    }
   ],
   "source": [
    "# Identify the different categories in Variable\n",
    "liberia_df.Variable.value_counts()"
   ]
  },
  {
   "cell_type": "markdown",
   "metadata": {},
   "source": [
    "We are going to select the following:\n",
    "\n",
    "* `Newly reported deaths`\n",
    "* `New case/s (confirmed)`\n",
    "* `New Case/s (Suspected)`\n",
    "* `New Case/s (Probable)`\n",
    "\n",
    "Since this choice seemed the most similar to the one previously did in the Guinea case (make the different countries comparable).\n",
    "\n",
    "Let's concatenate this categories:"
   ]
  },
  {
   "cell_type": "code",
   "execution_count": 15,
   "metadata": {},
   "outputs": [
    {
     "name": "stdout",
     "output_type": "stream",
     "text": [
      "Shape liberia_df_new: (400, 3)\n"
     ]
    }
   ],
   "source": [
    "liberia_df_new = pd.concat([liberia_df[liberia_df.Variable == 'New Case/s (Probable)'],\n",
    "                            liberia_df[liberia_df.Variable  == 'New Case/s (Suspected)'],\n",
    "                            liberia_df[liberia_df.Variable  == 'New case/s (confirmed)'],\n",
    "                            liberia_df[liberia_df.Variable  == 'Newly reported deaths']])\n",
    "\n",
    "print('Shape liberia_df_new:', liberia_df_new.shape)"
   ]
  },
  {
   "cell_type": "markdown",
   "metadata": {},
   "source": [
    "The shape of the new concatenated dataframe is computed to verfify that there are 100 data entries per category as there are the same number evola reports. We are able to start with the data cleaning and analysis:"
   ]
  },
  {
   "cell_type": "code",
   "execution_count": 16,
   "metadata": {},
   "outputs": [
    {
     "name": "stdout",
     "output_type": "stream",
     "text": [
      "<class 'pandas.core.frame.DataFrame'>\n",
      "Int64Index: 400 entries, 24 to 3\n",
      "Data columns (total 3 columns):\n",
      "Date        400 non-null object\n",
      "Variable    400 non-null object\n",
      "National    400 non-null float64\n",
      "dtypes: float64(1), object(2)\n",
      "memory usage: 12.5+ KB\n"
     ]
    }
   ],
   "source": [
    "# Fill nan values with a 0 if there is any value null\n",
    "if liberia_df_new.National.isnull().any():\n",
    "    liberia_df_new = liberia_df_new.fillna(value=0)\n",
    "\n",
    "# Get the data type of each column\n",
    "liberia_df_new.info()"
   ]
  },
  {
   "cell_type": "markdown",
   "metadata": {},
   "source": [
    "As we did before, we modify the datatypes for each category and we create the `Month` column."
   ]
  },
  {
   "cell_type": "code",
   "execution_count": 17,
   "metadata": {},
   "outputs": [
    {
     "name": "stdout",
     "output_type": "stream",
     "text": [
      "<class 'pandas.core.frame.DataFrame'>\n",
      "Int64Index: 400 entries, 24 to 3\n",
      "Data columns (total 4 columns):\n",
      "Date        400 non-null datetime64[ns]\n",
      "Month       400 non-null int64\n",
      "Variable    400 non-null object\n",
      "National    400 non-null int64\n",
      "dtypes: datetime64[ns](1), int64(2), object(1)\n",
      "memory usage: 15.6+ KB\n"
     ]
    }
   ],
   "source": [
    "# Change to date format the Date column\n",
    "liberia_df_new.Date = liberia_df_new.Date.apply(lambda d: pd.to_datetime(d))\n",
    "liberia_df_new['Month'] = [date.month for date in liberia_df_new.Date] # Create a new column 'Month'\n",
    "liberia_df_new = liberia_df_new[['Date','Month', 'Variable', 'National']]\n",
    "\n",
    "# Change to numeric the Totals\n",
    "liberia_df_new['National'] = liberia_df_new['National'].apply(pd.to_numeric).astype(int)\n",
    "\n",
    "# Verify that the columns dtypes have been modified\n",
    "liberia_df_new.info()"
   ]
  },
  {
   "cell_type": "markdown",
   "metadata": {},
   "source": [
    "Let's analyse the number of reports per months and the first and final report date's:"
   ]
  },
  {
   "cell_type": "code",
   "execution_count": 18,
   "metadata": {},
   "outputs": [
    {
     "name": "stdout",
     "output_type": "stream",
     "text": [
      "10    25.0\n",
      "9     24.0\n",
      "11    15.0\n",
      "7     11.0\n",
      "12     9.0\n",
      "8      9.0\n",
      "6      7.0\n",
      "Name: Month, dtype: float64\n",
      "First date of June: 2014-06-16 00:00:00\n",
      "Last date of December: 2014-12-09 00:00:00\n"
     ]
    }
   ],
   "source": [
    "print(liberia_df_new.Month.value_counts()/4)\n",
    "print('First date of June:',np.min(liberia_df_new.Date))\n",
    "print('Last date of December:', np.max(liberia_df_new.Date))"
   ]
  },
  {
   "cell_type": "markdown",
   "metadata": {},
   "source": [
    "In this case, we will analyse the new cases and new deaths separately because we need to aggregate the three categories meaning `new case`.\n",
    "\n",
    "In addition, it is identified an error on the number of new cases and deaths in December. For this reason, we drop the values for December. A further analysis could be to identify what is the exact error (apparently it has been used the cumulative value in the New column, so that we could compute the difference between preceding dates). \n",
    "\n",
    "Please note that we first rename as average and then we compute the average.\n"
   ]
  },
  {
   "cell_type": "code",
   "execution_count": 19,
   "metadata": {},
   "outputs": [
    {
     "data": {
      "text/html": [
       "<div>\n",
       "<style>\n",
       "    .dataframe thead tr:only-child th {\n",
       "        text-align: right;\n",
       "    }\n",
       "\n",
       "    .dataframe thead th {\n",
       "        text-align: left;\n",
       "    }\n",
       "\n",
       "    .dataframe tbody tr th {\n",
       "        vertical-align: top;\n",
       "    }\n",
       "</style>\n",
       "<table border=\"1\" class=\"dataframe\">\n",
       "  <thead>\n",
       "    <tr style=\"text-align: right;\">\n",
       "      <th></th>\n",
       "      <th>avg_new_cases</th>\n",
       "      <th>avg_new_deaths</th>\n",
       "      <th>Country</th>\n",
       "    </tr>\n",
       "    <tr>\n",
       "      <th>Month</th>\n",
       "      <th></th>\n",
       "      <th></th>\n",
       "      <th></th>\n",
       "    </tr>\n",
       "  </thead>\n",
       "  <tbody>\n",
       "    <tr>\n",
       "      <th>6</th>\n",
       "      <td>2.67</td>\n",
       "      <td>0.93</td>\n",
       "      <td>Liberia</td>\n",
       "    </tr>\n",
       "    <tr>\n",
       "      <th>7</th>\n",
       "      <td>3.03</td>\n",
       "      <td>1.52</td>\n",
       "      <td>Liberia</td>\n",
       "    </tr>\n",
       "    <tr>\n",
       "      <th>8</th>\n",
       "      <td>10.81</td>\n",
       "      <td>6.74</td>\n",
       "      <td>Liberia</td>\n",
       "    </tr>\n",
       "    <tr>\n",
       "      <th>9</th>\n",
       "      <td>51.07</td>\n",
       "      <td>28.83</td>\n",
       "      <td>Liberia</td>\n",
       "    </tr>\n",
       "    <tr>\n",
       "      <th>10</th>\n",
       "      <td>36.74</td>\n",
       "      <td>22.61</td>\n",
       "      <td>Liberia</td>\n",
       "    </tr>\n",
       "    <tr>\n",
       "      <th>11</th>\n",
       "      <td>13.23</td>\n",
       "      <td>6.73</td>\n",
       "      <td>Liberia</td>\n",
       "    </tr>\n",
       "  </tbody>\n",
       "</table>\n",
       "</div>"
      ],
      "text/plain": [
       "       avg_new_cases  avg_new_deaths  Country\n",
       "Month                                        \n",
       "6               2.67            0.93  Liberia\n",
       "7               3.03            1.52  Liberia\n",
       "8              10.81            6.74  Liberia\n",
       "9              51.07           28.83  Liberia\n",
       "10             36.74           22.61  Liberia\n",
       "11             13.23            6.73  Liberia"
      ]
     },
     "execution_count": 19,
     "metadata": {},
     "output_type": "execute_result"
    }
   ],
   "source": [
    "# New cases\n",
    "new_cases_l = pd.concat([liberia_df_new[liberia_df_new.Variable == 'New Case/s (Probable)'],\n",
    "                         liberia_df_new[liberia_df_new.Variable  == 'New Case/s (Suspected)'],\n",
    "                         liberia_df_new[liberia_df_new.Variable  == 'New case/s (confirmed)']])\n",
    "\n",
    "new_cases_l_grouped = new_cases_l.groupby('Month').agg(np.sum) # Aggegate per month\n",
    "new_cases_l_grouped = new_cases_l_grouped.rename(columns={'National': 'avg_new_cases'}) \n",
    "\n",
    "# New deaths\n",
    "new_deaths_l = liberia_df_new[liberia_df_new.Variable == 'Newly reported deaths']\n",
    "new_deaths_l_grouped = new_deaths_l.groupby('Month').agg(np.sum)\n",
    "new_deaths_l_grouped = new_deaths_l_grouped.rename(columns={'National': 'avg_new_deaths'})\n",
    "liberia_conc = pd.concat([new_cases_l_grouped, new_deaths_l_grouped], axis=1)\n",
    "liberia_conc.drop(12, inplace=True) # Drop December data\n",
    "\n",
    "# Compute the daily average\n",
    "days_per_month = [15, 31, 31, 30, 31, 30]  \n",
    "pd.set_option('precision', 2)\n",
    "liberia_conc.avg_new_cases = liberia_conc.avg_new_cases/days_per_month\n",
    "liberia_conc.avg_new_deaths = liberia_conc.avg_new_deaths/days_per_month\n",
    "\n",
    "# Add Country column\n",
    "liberia_conc['Country'] = 'Liberia'\n",
    "\n",
    "# Show the results\n",
    "liberia_conc"
   ]
  },
  {
   "cell_type": "markdown",
   "metadata": {},
   "source": [
    "## Task 1.3. Sierra Leone\n"
   ]
  },
  {
   "cell_type": "markdown",
   "metadata": {},
   "source": [
    "Again, we follow the same procedure for Sierra Leone."
   ]
  },
  {
   "cell_type": "code",
   "execution_count": 20,
   "metadata": {},
   "outputs": [
    {
     "name": "stdout",
     "output_type": "stream",
     "text": [
      "Number of csv files: 103\n",
      "Shape sl_df: (3262, 27)\n",
      "Columns: Index(['34 Military Hospital', 'Bo', 'Bo EMC', 'Bombali', 'Bonthe',\n",
      "       'Hastings-F/Town', 'Kailahun', 'Kambia', 'Kenema', 'Kenema (IFRC)',\n",
      "       'Kenema (KGH)', 'Koinadugu', 'Kono', 'Moyamba', 'National',\n",
      "       'Police training School', 'Police traning School', 'Port Loko',\n",
      "       'Pujehun', 'Tonkolili', 'Unnamed: 18', 'Western area',\n",
      "       'Western area combined', 'Western area rural', 'Western area urban',\n",
      "       'date', 'variable'],\n",
      "      dtype='object')\n"
     ]
    }
   ],
   "source": [
    "# Import Guinea data in one file\n",
    "data_folder =DATA_FOLDER+'/ebola/sl_data/'\n",
    "allFiles = glob.glob(data_folder + \"/*.csv\")\n",
    "print('Number of csv files:',len(allFiles))\n",
    "list_ = []\n",
    "for file_ in allFiles:\n",
    "    df = pd.read_csv(file_,index_col=None, header=0)\n",
    "    list_.append(df)\n",
    "sl_df = pd.concat(list_)\n",
    "\n",
    "# Summerize sl_df\n",
    "print('Shape sl_df:',sl_df.shape)\n",
    "print('Columns:', sl_df.columns)"
   ]
  },
  {
   "cell_type": "markdown",
   "metadata": {},
   "source": [
    "We identify the columns of our interest: `date`, `variable` and `National`"
   ]
  },
  {
   "cell_type": "code",
   "execution_count": 21,
   "metadata": {
    "collapsed": true
   },
   "outputs": [],
   "source": [
    "# Selection and order switching\n",
    "sl_df = sl_df[['date','variable', 'National']]"
   ]
  },
  {
   "cell_type": "markdown",
   "metadata": {},
   "source": [
    "In order to classify the new cases and new deaths, we need to know the different categories in `variables`:"
   ]
  },
  {
   "cell_type": "code",
   "execution_count": 22,
   "metadata": {},
   "outputs": [
    {
     "data": {
      "text/plain": [
       "etc_currently_admitted    103\n",
       "cum_confirmed             103\n",
       "percent_seen              103\n",
       "etc_cum_admission         103\n",
       "new_probable              103\n",
       "death_probable            103\n",
       "contacts_ill              103\n",
       "new_suspected             103\n",
       "new_noncase               103\n",
       "cum_contacts              103\n",
       "contacts_healthy          103\n",
       "cum_suspected             103\n",
       "etc_new_deaths            103\n",
       "death_confirmed           103\n",
       "contacts_followed         103\n",
       "cfr                       103\n",
       "etc_new_discharges        103\n",
       "new_completed_contacts    103\n",
       "cum_probable              103\n",
       "new_contacts              103\n",
       "etc_cum_discharges        103\n",
       "new_confirmed             103\n",
       "etc_cum_deaths            103\n",
       "etc_new_admission         103\n",
       "contacts_not_seen         103\n",
       "cum_noncase               103\n",
       "cum_completed_contacts    103\n",
       "death_suspected           103\n",
       "population                103\n",
       "negative_corpse            35\n",
       "pending                    35\n",
       "positive_corpse            35\n",
       "total_lab_samples          34\n",
       "new_positive               34\n",
       "new_negative               34\n",
       "new_samples                34\n",
       "repeat_samples             34\n",
       "Name: variable, dtype: int64"
      ]
     },
     "execution_count": 22,
     "metadata": {},
     "output_type": "execute_result"
    }
   ],
   "source": [
    "# Identify the different categories in Variable\n",
    "sl_df.variable.value_counts()"
   ]
  },
  {
   "cell_type": "markdown",
   "metadata": {},
   "source": [
    "It has been identified the following categories in `variables` for our interest:\n",
    "* `new_confirmed`\n",
    "* `new_probable`\n",
    "* `new_suspected`\n",
    "* `death_confirmed`\n",
    "\n",
    "We assume that when there is missing values in `Nationals`, it means that it is equal to 0. \n",
    "\n",
    "Let's analyse first `new cases` categories:"
   ]
  },
  {
   "cell_type": "code",
   "execution_count": 23,
   "metadata": {},
   "outputs": [
    {
     "name": "stdout",
     "output_type": "stream",
     "text": [
      "<class 'pandas.core.frame.DataFrame'>\n",
      "Int64Index: 309 entries, 4 to 2\n",
      "Data columns (total 3 columns):\n",
      "date        309 non-null object\n",
      "variable    309 non-null object\n",
      "National    309 non-null object\n",
      "dtypes: object(3)\n",
      "memory usage: 9.7+ KB\n"
     ]
    }
   ],
   "source": [
    "# New cases categories\n",
    "sl_df_new = pd.concat([sl_df[sl_df.variable == 'new_confirmed'],\n",
    "                         sl_df[sl_df.variable  == 'new_probable'],\n",
    "                         sl_df[sl_df.variable  == 'new_suspected']])\n",
    "\n",
    "# Fill the missing values in Nationals with 0 \n",
    "sl_df_new = sl_df_new.fillna(value=0)\n",
    "\n",
    "# Get the dypes\n",
    "sl_df_new.info()"
   ]
  },
  {
   "cell_type": "markdown",
   "metadata": {},
   "source": [
    "Let's change the format of the columns:"
   ]
  },
  {
   "cell_type": "code",
   "execution_count": 24,
   "metadata": {
    "collapsed": true
   },
   "outputs": [],
   "source": [
    "# Change to date format the Date column\n",
    "sl_df_new.date = sl_df_new.date.apply(lambda d: pd.to_datetime(d))\n",
    "sl_df_new['Month'] = [date.month for date in sl_df_new.date] \n",
    "sl_df_new = sl_df_new[['date','Month', 'variable', 'National']]\n",
    "sl_df_new.set_index('date', inplace=True)\n",
    "\n",
    "# Change to numeric the Totals\n",
    "sl_df_new['National'] = sl_df_new['National'].apply(pd.to_numeric).astype(int)"
   ]
  },
  {
   "cell_type": "code",
   "execution_count": 25,
   "metadata": {},
   "outputs": [
    {
     "name": "stdout",
     "output_type": "stream",
     "text": [
      "9     29.0\n",
      "10    28.0\n",
      "11    21.0\n",
      "8     20.0\n",
      "12     5.0\n",
      "Name: Month, dtype: float64\n",
      "First date of August: 2014-08-12 00:00:00\n",
      "Last date of December: 2014-12-13 00:00:00\n"
     ]
    }
   ],
   "source": [
    "# Identify the reports dates\n",
    "print(sl_df_new.Month.value_counts()/3)\n",
    "print('First date of August:',np.min(sl_df_new.index))\n",
    "print('Last date of December:', np.max(sl_df_new.index))"
   ]
  },
  {
   "cell_type": "code",
   "execution_count": 26,
   "metadata": {},
   "outputs": [
    {
     "data": {
      "text/html": [
       "<div>\n",
       "<style>\n",
       "    .dataframe thead tr:only-child th {\n",
       "        text-align: right;\n",
       "    }\n",
       "\n",
       "    .dataframe thead th {\n",
       "        text-align: left;\n",
       "    }\n",
       "\n",
       "    .dataframe tbody tr th {\n",
       "        vertical-align: top;\n",
       "    }\n",
       "</style>\n",
       "<table border=\"1\" class=\"dataframe\">\n",
       "  <thead>\n",
       "    <tr style=\"text-align: right;\">\n",
       "      <th></th>\n",
       "      <th>avg_new_cases</th>\n",
       "    </tr>\n",
       "    <tr>\n",
       "      <th>Month</th>\n",
       "      <th></th>\n",
       "    </tr>\n",
       "  </thead>\n",
       "  <tbody>\n",
       "    <tr>\n",
       "      <th>8</th>\n",
       "      <td>26.47</td>\n",
       "    </tr>\n",
       "    <tr>\n",
       "      <th>9</th>\n",
       "      <td>39.33</td>\n",
       "    </tr>\n",
       "    <tr>\n",
       "      <th>10</th>\n",
       "      <td>64.06</td>\n",
       "    </tr>\n",
       "    <tr>\n",
       "      <th>11</th>\n",
       "      <td>52.67</td>\n",
       "    </tr>\n",
       "    <tr>\n",
       "      <th>12</th>\n",
       "      <td>15.77</td>\n",
       "    </tr>\n",
       "  </tbody>\n",
       "</table>\n",
       "</div>"
      ],
      "text/plain": [
       "       avg_new_cases\n",
       "Month               \n",
       "8              26.47\n",
       "9              39.33\n",
       "10             64.06\n",
       "11             52.67\n",
       "12             15.77"
      ]
     },
     "execution_count": 26,
     "metadata": {},
     "output_type": "execute_result"
    }
   ],
   "source": [
    "# Aggregate the per month to get the total new cases per month\n",
    "sl_df_new = sl_df_new.groupby('Month').agg(np.sum)\n",
    "\n",
    "days = [31-12, 30, 31, 30, 13]\n",
    "sl_df_new['National']=sl_df_new['National']/days\n",
    "sl_df_new.rename(columns={'National': 'avg_new_cases'}, inplace=True)\n",
    "sl_df_new"
   ]
  },
  {
   "cell_type": "markdown",
   "metadata": {},
   "source": [
    "Let's analyse the new deaths. We identify that the category of `new_cases` is a cumulative value. In order to compute the new deaths we are going to compute the difference between two preceding reports:"
   ]
  },
  {
   "cell_type": "code",
   "execution_count": 27,
   "metadata": {},
   "outputs": [
    {
     "data": {
      "text/html": [
       "<div>\n",
       "<style>\n",
       "    .dataframe thead tr:only-child th {\n",
       "        text-align: right;\n",
       "    }\n",
       "\n",
       "    .dataframe thead th {\n",
       "        text-align: left;\n",
       "    }\n",
       "\n",
       "    .dataframe tbody tr th {\n",
       "        vertical-align: top;\n",
       "    }\n",
       "</style>\n",
       "<table border=\"1\" class=\"dataframe\">\n",
       "  <thead>\n",
       "    <tr style=\"text-align: right;\">\n",
       "      <th></th>\n",
       "      <th>avg_new_cases</th>\n",
       "      <th>avg_new_deaths</th>\n",
       "      <th>Country</th>\n",
       "    </tr>\n",
       "    <tr>\n",
       "      <th>Month</th>\n",
       "      <th></th>\n",
       "      <th></th>\n",
       "      <th></th>\n",
       "    </tr>\n",
       "  </thead>\n",
       "  <tbody>\n",
       "    <tr>\n",
       "      <th>8</th>\n",
       "      <td>26.47</td>\n",
       "      <td>6.47</td>\n",
       "      <td>Sierra Leone</td>\n",
       "    </tr>\n",
       "    <tr>\n",
       "      <th>9</th>\n",
       "      <td>39.33</td>\n",
       "      <td>5.43</td>\n",
       "      <td>Sierra Leone</td>\n",
       "    </tr>\n",
       "    <tr>\n",
       "      <th>10</th>\n",
       "      <td>64.06</td>\n",
       "      <td>16.77</td>\n",
       "      <td>Sierra Leone</td>\n",
       "    </tr>\n",
       "    <tr>\n",
       "      <th>11</th>\n",
       "      <td>52.67</td>\n",
       "      <td>14.20</td>\n",
       "      <td>Sierra Leone</td>\n",
       "    </tr>\n",
       "    <tr>\n",
       "      <th>12</th>\n",
       "      <td>15.77</td>\n",
       "      <td>16.31</td>\n",
       "      <td>Sierra Leone</td>\n",
       "    </tr>\n",
       "  </tbody>\n",
       "</table>\n",
       "</div>"
      ],
      "text/plain": [
       "       avg_new_cases  avg_new_deaths       Country\n",
       "Month                                             \n",
       "8              26.47            6.47  Sierra Leone\n",
       "9              39.33            5.43  Sierra Leone\n",
       "10             64.06           16.77  Sierra Leone\n",
       "11             52.67           14.20  Sierra Leone\n",
       "12             15.77           16.31  Sierra Leone"
      ]
     },
     "execution_count": 27,
     "metadata": {},
     "output_type": "execute_result"
    }
   ],
   "source": [
    "# Select the new_deaths category\n",
    "sl_temp = sl_df[sl_df.variable == 'death_confirmed'] \n",
    "\n",
    "# Fill the missing values by backfill to compute the difference of the cumulative number of deaths to know the new deaths \n",
    "sl_temp = sl_temp.fillna(method='bfill')\n",
    "sl_temp = sl_temp.fillna('1708')\n",
    "\n",
    "# Change the data type of Nationals\n",
    "sl_temp['National'] = sl_temp['National'].apply(pd.to_numeric).astype(int)  # Change to numeric the Totals\n",
    "\n",
    "# Compute the new cases value by doing the difference\n",
    "sl_temp.National = sl_temp.National.diff().fillna(0)\n",
    "\n",
    "# Change to date format the Date column\n",
    "sl_temp.date = sl_temp.date.apply(lambda d: pd.to_datetime(d))\n",
    "sl_temp['Month'] = [date.month for date in sl_temp.date] # Create a new column 'Month'\n",
    "sl_temp = sl_temp[['date','Month', 'variable', 'National']]\n",
    "sl_temp.set_index('date', inplace=True)\n",
    "\n",
    "# Compute the new deaths average per month\n",
    "sl_temp = sl_temp.groupby('Month').sum()\n",
    "sl_temp.National = sl_temp.National/days\n",
    "sl_temp.rename(columns={'National':'avg_new_deaths'}, inplace=True)\n",
    "\n",
    "# Concatenate the new cases and new deaths\n",
    "sl_conc = pd.concat([sl_df_new, sl_temp], axis=1)\n",
    "\n",
    "# Add country column\n",
    "sl_conc['Country'] = 'Sierra Leone'\n",
    "\n",
    "# Show results\n",
    "sl_conc"
   ]
  },
  {
   "cell_type": "markdown",
   "metadata": {},
   "source": [
    "## Task 1.4. Conclusion"
   ]
  },
  {
   "cell_type": "markdown",
   "metadata": {},
   "source": [
    "In order to compare the new cases and new deaths we are coing to concatenate the results for the three countries"
   ]
  },
  {
   "cell_type": "code",
   "execution_count": 28,
   "metadata": {
    "collapsed": true
   },
   "outputs": [],
   "source": [
    "ebola = pd.concat([guinea_conc, liberia_conc, sl_conc])\n",
    "\n",
    "# Create a copy to plot the results after\n",
    "ebolaf = ebola.copy()\n",
    "\n",
    "ebola = ebola.reset_index()\n",
    "ebola.set_index(['Month', 'Country'], inplace=True)\n",
    "ebola.sort_index(inplace=True)\n",
    "\n",
    "# Adapt the dataframe to be able to plot\n",
    "ebolaf.reset_index(drop=False,inplace=True)\n",
    "\n"
   ]
  },
  {
   "cell_type": "markdown",
   "metadata": {},
   "source": [
    "Let's visualize the results in two Barplot: one for the new cases and one for the new deaths:"
   ]
  },
  {
   "cell_type": "code",
   "execution_count": 29,
   "metadata": {},
   "outputs": [
    {
     "name": "stdout",
     "output_type": "stream",
     "text": [
      "Populating the interactive namespace from numpy and matplotlib\n"
     ]
    },
    {
     "name": "stderr",
     "output_type": "stream",
     "text": [
      "/Users/Mart/anaconda/lib/python3.6/site-packages/IPython/core/magics/pylab.py:161: UserWarning: pylab import has clobbered these variables: ['datetime']\n",
      "`%matplotlib` prevents importing * from pylab and numpy\n",
      "  \"\\n`%matplotlib` prevents importing * from pylab and numpy\"\n"
     ]
    },
    {
     "data": {
      "text/plain": [
       "<matplotlib.legend.Legend at 0x11801b550>"
      ]
     },
     "execution_count": 29,
     "metadata": {},
     "output_type": "execute_result"
    },
    {
     "data": {
      "image/png": "[encoded data removed]",
      "text/plain": [
       "<matplotlib.figure.Figure at 0x117a368d0>"
      ]
     },
     "metadata": {},
     "output_type": "display_data"
    }
   ],
   "source": [
    "# Import ploting libraries\n",
    "import matplotlib.pyplot as plt\n",
    "%pylab inline\n",
    "import seaborn as sns\n",
    "\n",
    "# Seaborn parameters\n",
    "sns.set_palette('Reds')\n",
    "sns.set_context(\"notebook\") # possible values are paper, notebook, talk, and poster\n",
    "\n",
    "# Initialise the subplot\n",
    "f, (ax1, ax2) = plt.subplots(1, 2, figsize=(15, 5))\n",
    "ax1.set_title('Average new cases')\n",
    "ax2.set_title('Average new deaths')\n",
    "\n",
    "# New cases plot\n",
    "sns.factorplot(x=\"Month\",y='avg_new_cases',hue='Country', data=ebolaf, kind=\"bar\",\\\n",
    "                   palette='hls',legend=True, margin_titles=True,ax=ax1)\n",
    "plt.close()\n",
    "\n",
    "# New deaths plot\n",
    "sns.factorplot(x=\"Month\",y='avg_new_deaths',hue='Country', data=ebolaf, kind=\"bar\",\\\n",
    "                   palette='hls',legend=True, margin_titles=True,ax=ax2)\n",
    "\n",
    "plt.close()\n",
    "plt.ylim(0,67.5)\n",
    "plt.legend(loc='upper left')\n",
    "plt.legend(loc='upper left')"
   ]
  },
  {
   "cell_type": "markdown",
   "metadata": {},
   "source": [
    "Thanks to this visualisation, we can draw some conclusions: \n",
    "* As it is logic, there are more daily new cases than deaths in average.\n",
    "* Sierra Leone is the country with more daily new cases. However, there are more newly deaths in Liberia. This fact is maybe due to the level of healthcare of both countries.\n",
    "* In Sierra Leone, we identify an increase of new cases during October and Novemeber. However, there is an stable number of daily deaths during the same months (around 14).\n",
    "* The daily new deaths in Liberia hasa decreasing trend.\n",
    "* Guinea has much less deaths than the other two countries.\n",
    "\n"
   ]
  },
  {
   "cell_type": "markdown",
   "metadata": {},
   "source": [
    "# Task 2. RNA Sequences\n",
    "\n",
    "In the `DATA_FOLDER/microbiome` subdirectory, there are 9 spreadsheets of microbiome data that was acquired from high-throughput RNA sequencing procedures, along with a 10<sup>th</sup> file that describes the content of each. \n",
    "\n",
    "Use pandas to import the first 9 spreadsheets into a single `DataFrame`.\n",
    "Then, add the metadata information from the 10<sup>th</sup> spreadsheet as columns in the combined `DataFrame`.\n",
    "Make sure that the final `DataFrame` has a unique index and all the `NaN` values have been replaced by the tag `unknown`."
   ]
  },
  {
   "cell_type": "markdown",
   "metadata": {},
   "source": [
    "## Task 2.1 Importing the files\n",
    "\n",
    "The files from MID1.xls to MID9.xls have been opened in Excel to have a look directly on the data, to be sure about the number of spreadsheets contained in every file and not to forget to import any data. Once that it's been verified that every .xls file has only one sheet, the first 9 .xls files have been imported into the following 9 different dataframes.\n",
    "The name 'mb1' stands for 'microbiome 1', 'mb2' stands for 'microbiome 2', and so on. "
   ]
  },
  {
   "cell_type": "code",
   "execution_count": 30,
   "metadata": {},
   "outputs": [],
   "source": [
    "# Importing all the files from excel\n",
    "mb1 = pd.read_excel(DATA_FOLDER+'/microbiome/MID1.xls', 'Sheet 1', index_col=0, header=None)\n",
    "mb2 = pd.read_excel(DATA_FOLDER+'/microbiome/MID2.xls', 'Sheet 1', index_col=0, header=None)\n",
    "mb3 = pd.read_excel(DATA_FOLDER+'/microbiome/MID3.xls', 'Sheet 1', index_col=0, header=None)\n",
    "mb4 = pd.read_excel(DATA_FOLDER+'/microbiome/MID4.xls', 'Sheet 1', index_col=0, header=None)\n",
    "mb5 = pd.read_excel(DATA_FOLDER+'/microbiome/MID5.xls', 'Sheet 1', index_col=0, header=None)\n",
    "mb6 = pd.read_excel(DATA_FOLDER+'/microbiome/MID6.xls', 'Sheet 1', index_col=0, header=None)\n",
    "mb7 = pd.read_excel(DATA_FOLDER+'/microbiome/MID7.xls', 'Sheet 1', index_col=0, header=None)\n",
    "mb8 = pd.read_excel(DATA_FOLDER+'/microbiome/MID8.xls', 'Sheet 1', index_col=0, header=None)\n",
    "mb9 = pd.read_excel(DATA_FOLDER+'/microbiome/MID9.xls', 'Sheet 1', index_col=0, header=None)"
   ]
  },
  {
   "cell_type": "markdown",
   "metadata": {},
   "source": [
    "### Taking a look on the datasets\n",
    "\n",
    "From the previous look directly in Excel, all the dataframes looked very simple, with only one column for the name of the bacteria and one column for the corresponding value, probably recorded in some experiment. Here the head of the first dataframe is displayed anyway in order to:\n",
    "* check that the data have been successfully imported\n",
    "* provide ourself with a visual image of the dataset as a help for correctly handle this dataset"
   ]
  },
  {
   "cell_type": "code",
   "execution_count": 31,
   "metadata": {
    "scrolled": true
   },
   "outputs": [
    {
     "data": {
      "text/html": [
       "<div>\n",
       "<style>\n",
       "    .dataframe thead tr:only-child th {\n",
       "        text-align: right;\n",
       "    }\n",
       "\n",
       "    .dataframe thead th {\n",
       "        text-align: left;\n",
       "    }\n",
       "\n",
       "    .dataframe tbody tr th {\n",
       "        vertical-align: top;\n",
       "    }\n",
       "</style>\n",
       "<table border=\"1\" class=\"dataframe\">\n",
       "  <thead>\n",
       "    <tr style=\"text-align: right;\">\n",
       "      <th></th>\n",
       "      <th>1</th>\n",
       "    </tr>\n",
       "    <tr>\n",
       "      <th>0</th>\n",
       "      <th></th>\n",
       "    </tr>\n",
       "  </thead>\n",
       "  <tbody>\n",
       "    <tr>\n",
       "      <th>Archaea \"Crenarchaeota\" Thermoprotei Desulfurococcales Desulfurococcaceae Ignisphaera</th>\n",
       "      <td>7</td>\n",
       "    </tr>\n",
       "    <tr>\n",
       "      <th>Archaea \"Crenarchaeota\" Thermoprotei Desulfurococcales Pyrodictiaceae Pyrolobus</th>\n",
       "      <td>2</td>\n",
       "    </tr>\n",
       "    <tr>\n",
       "      <th>Archaea \"Crenarchaeota\" Thermoprotei Sulfolobales Sulfolobaceae Stygiolobus</th>\n",
       "      <td>3</td>\n",
       "    </tr>\n",
       "    <tr>\n",
       "      <th>Archaea \"Crenarchaeota\" Thermoprotei Thermoproteales Thermofilaceae Thermofilum</th>\n",
       "      <td>3</td>\n",
       "    </tr>\n",
       "    <tr>\n",
       "      <th>Archaea \"Euryarchaeota\" \"Methanomicrobia\" Methanocellales Methanocellaceae Methanocella</th>\n",
       "      <td>7</td>\n",
       "    </tr>\n",
       "  </tbody>\n",
       "</table>\n",
       "</div>"
      ],
      "text/plain": [
       "                                                    1\n",
       "0                                                    \n",
       "Archaea \"Crenarchaeota\" Thermoprotei Desulfuroc...  7\n",
       "Archaea \"Crenarchaeota\" Thermoprotei Desulfuroc...  2\n",
       "Archaea \"Crenarchaeota\" Thermoprotei Sulfolobal...  3\n",
       "Archaea \"Crenarchaeota\" Thermoprotei Thermoprot...  3\n",
       "Archaea \"Euryarchaeota\" \"Methanomicrobia\" Metha...  7"
      ]
     },
     "execution_count": 31,
     "metadata": {},
     "output_type": "execute_result"
    }
   ],
   "source": [
    "mb1.head()"
   ]
  },
  {
   "cell_type": "markdown",
   "metadata": {},
   "source": [
    "It can be observed that Pandas already recognised the first column as index, and put the recorded value as unique value of the dataframe.\n",
    "Now the 10th dataframe 'metadata.xls' is loaded to provide us information on the values of the dataframes mb1-mb9:"
   ]
  },
  {
   "cell_type": "code",
   "execution_count": 32,
   "metadata": {
    "scrolled": false
   },
   "outputs": [
    {
     "data": {
      "text/html": [
       "<div>\n",
       "<style>\n",
       "    .dataframe thead tr:only-child th {\n",
       "        text-align: right;\n",
       "    }\n",
       "\n",
       "    .dataframe thead th {\n",
       "        text-align: left;\n",
       "    }\n",
       "\n",
       "    .dataframe tbody tr th {\n",
       "        vertical-align: top;\n",
       "    }\n",
       "</style>\n",
       "<table border=\"1\" class=\"dataframe\">\n",
       "  <thead>\n",
       "    <tr style=\"text-align: right;\">\n",
       "      <th></th>\n",
       "      <th>BARCODE</th>\n",
       "      <th>GROUP</th>\n",
       "      <th>SAMPLE</th>\n",
       "    </tr>\n",
       "  </thead>\n",
       "  <tbody>\n",
       "    <tr>\n",
       "      <th>0</th>\n",
       "      <td>MID1</td>\n",
       "      <td>EXTRACTION CONTROL</td>\n",
       "      <td>NaN</td>\n",
       "    </tr>\n",
       "    <tr>\n",
       "      <th>1</th>\n",
       "      <td>MID2</td>\n",
       "      <td>NEC 1</td>\n",
       "      <td>tissue</td>\n",
       "    </tr>\n",
       "    <tr>\n",
       "      <th>2</th>\n",
       "      <td>MID3</td>\n",
       "      <td>Control 1</td>\n",
       "      <td>tissue</td>\n",
       "    </tr>\n",
       "    <tr>\n",
       "      <th>3</th>\n",
       "      <td>MID4</td>\n",
       "      <td>NEC 2</td>\n",
       "      <td>tissue</td>\n",
       "    </tr>\n",
       "    <tr>\n",
       "      <th>4</th>\n",
       "      <td>MID5</td>\n",
       "      <td>Control 2</td>\n",
       "      <td>tissue</td>\n",
       "    </tr>\n",
       "    <tr>\n",
       "      <th>5</th>\n",
       "      <td>MID6</td>\n",
       "      <td>NEC 1</td>\n",
       "      <td>stool</td>\n",
       "    </tr>\n",
       "    <tr>\n",
       "      <th>6</th>\n",
       "      <td>MID7</td>\n",
       "      <td>Control 1</td>\n",
       "      <td>stool</td>\n",
       "    </tr>\n",
       "    <tr>\n",
       "      <th>7</th>\n",
       "      <td>MID8</td>\n",
       "      <td>NEC 2</td>\n",
       "      <td>stool</td>\n",
       "    </tr>\n",
       "    <tr>\n",
       "      <th>8</th>\n",
       "      <td>MID9</td>\n",
       "      <td>Control 2</td>\n",
       "      <td>stool</td>\n",
       "    </tr>\n",
       "  </tbody>\n",
       "</table>\n",
       "</div>"
      ],
      "text/plain": [
       "  BARCODE               GROUP  SAMPLE\n",
       "0    MID1  EXTRACTION CONTROL     NaN\n",
       "1    MID2               NEC 1  tissue\n",
       "2    MID3           Control 1  tissue\n",
       "3    MID4               NEC 2  tissue\n",
       "4    MID5           Control 2  tissue\n",
       "5    MID6               NEC 1   stool\n",
       "6    MID7           Control 1   stool\n",
       "7    MID8               NEC 2   stool\n",
       "8    MID9           Control 2   stool"
      ]
     },
     "execution_count": 32,
     "metadata": {},
     "output_type": "execute_result"
    }
   ],
   "source": [
    "names = pd.read_excel(DATA_FOLDER+'/microbiome/metadata.xls', 'Sheet1', na_values=['NA'])\n",
    "names"
   ]
  },
  {
   "cell_type": "markdown",
   "metadata": {},
   "source": [
    "Setting the 'BARCODE' column as index we obtain:"
   ]
  },
  {
   "cell_type": "code",
   "execution_count": 33,
   "metadata": {
    "scrolled": true
   },
   "outputs": [
    {
     "data": {
      "text/html": [
       "<div>\n",
       "<style>\n",
       "    .dataframe thead tr:only-child th {\n",
       "        text-align: right;\n",
       "    }\n",
       "\n",
       "    .dataframe thead th {\n",
       "        text-align: left;\n",
       "    }\n",
       "\n",
       "    .dataframe tbody tr th {\n",
       "        vertical-align: top;\n",
       "    }\n",
       "</style>\n",
       "<table border=\"1\" class=\"dataframe\">\n",
       "  <thead>\n",
       "    <tr style=\"text-align: right;\">\n",
       "      <th></th>\n",
       "      <th>GROUP</th>\n",
       "      <th>SAMPLE</th>\n",
       "    </tr>\n",
       "    <tr>\n",
       "      <th>BARCODE</th>\n",
       "      <th></th>\n",
       "      <th></th>\n",
       "    </tr>\n",
       "  </thead>\n",
       "  <tbody>\n",
       "    <tr>\n",
       "      <th>MID1</th>\n",
       "      <td>EXTRACTION CONTROL</td>\n",
       "      <td>NaN</td>\n",
       "    </tr>\n",
       "    <tr>\n",
       "      <th>MID2</th>\n",
       "      <td>NEC 1</td>\n",
       "      <td>tissue</td>\n",
       "    </tr>\n",
       "    <tr>\n",
       "      <th>MID3</th>\n",
       "      <td>Control 1</td>\n",
       "      <td>tissue</td>\n",
       "    </tr>\n",
       "    <tr>\n",
       "      <th>MID4</th>\n",
       "      <td>NEC 2</td>\n",
       "      <td>tissue</td>\n",
       "    </tr>\n",
       "    <tr>\n",
       "      <th>MID5</th>\n",
       "      <td>Control 2</td>\n",
       "      <td>tissue</td>\n",
       "    </tr>\n",
       "    <tr>\n",
       "      <th>MID6</th>\n",
       "      <td>NEC 1</td>\n",
       "      <td>stool</td>\n",
       "    </tr>\n",
       "    <tr>\n",
       "      <th>MID7</th>\n",
       "      <td>Control 1</td>\n",
       "      <td>stool</td>\n",
       "    </tr>\n",
       "    <tr>\n",
       "      <th>MID8</th>\n",
       "      <td>NEC 2</td>\n",
       "      <td>stool</td>\n",
       "    </tr>\n",
       "    <tr>\n",
       "      <th>MID9</th>\n",
       "      <td>Control 2</td>\n",
       "      <td>stool</td>\n",
       "    </tr>\n",
       "  </tbody>\n",
       "</table>\n",
       "</div>"
      ],
      "text/plain": [
       "                      GROUP  SAMPLE\n",
       "BARCODE                            \n",
       "MID1     EXTRACTION CONTROL     NaN\n",
       "MID2                  NEC 1  tissue\n",
       "MID3              Control 1  tissue\n",
       "MID4                  NEC 2  tissue\n",
       "MID5              Control 2  tissue\n",
       "MID6                  NEC 1   stool\n",
       "MID7              Control 1   stool\n",
       "MID8                  NEC 2   stool\n",
       "MID9              Control 2   stool"
      ]
     },
     "execution_count": 33,
     "metadata": {},
     "output_type": "execute_result"
    }
   ],
   "source": [
    "names.set_index('BARCODE', inplace=True)\n",
    "names"
   ]
  },
  {
   "cell_type": "markdown",
   "metadata": {},
   "source": [
    "Let's now see in details the infos provided in the different spreadsheets:"
   ]
  },
  {
   "cell_type": "code",
   "execution_count": 34,
   "metadata": {},
   "outputs": [
    {
     "name": "stdout",
     "output_type": "stream",
     "text": [
      "EXTRACTION CONTROL\n",
      "              1\n",
      "count   272.00\n",
      "mean     44.80\n",
      "std     267.47\n",
      "min       1.00\n",
      "25%       1.00\n",
      "50%       2.00\n",
      "75%       7.00\n",
      "max    3732.00 \n",
      "\n",
      "\n",
      "tissue, NEC 1\n",
      "              1\n",
      "count   288.00\n",
      "mean     58.38\n",
      "std     467.04\n",
      "min       1.00\n",
      "25%       1.00\n",
      "50%       2.00\n",
      "75%       7.25\n",
      "max    6176.00 \n",
      "\n",
      "\n",
      "tissue, Control 1\n",
      "              1\n",
      "count   367.00\n",
      "mean     33.45\n",
      "std     154.77\n",
      "min       1.00\n",
      "25%       1.00\n",
      "50%       3.00\n",
      "75%      11.00\n",
      "max    1968.00 \n",
      "\n",
      "\n",
      "tissue, NEC 2\n",
      "              1\n",
      "count   134.00\n",
      "mean     76.39\n",
      "std     685.83\n",
      "min       1.00\n",
      "25%       1.00\n",
      "50%       2.00\n",
      "75%       4.75\n",
      "max    7910.00 \n",
      "\n",
      "\n",
      "tissue, Control 2\n",
      "              1\n",
      "count   379.00\n",
      "mean     47.63\n",
      "std     364.84\n",
      "min       1.00\n",
      "25%       1.00\n",
      "50%       3.00\n",
      "75%       8.50\n",
      "max    5503.00 \n",
      "\n",
      "\n",
      "stool, NEC 1\n",
      "              1\n",
      "count   181.00\n",
      "mean     84.01\n",
      "std     596.44\n",
      "min       1.00\n",
      "25%       1.00\n",
      "50%       2.00\n",
      "75%       7.00\n",
      "max    5762.00 \n",
      "\n",
      "\n",
      "stool, Control 1\n",
      "              1\n",
      "count   395.00\n",
      "mean     48.12\n",
      "std     252.25\n",
      "min       1.00\n",
      "25%       1.00\n",
      "50%       3.00\n",
      "75%      11.50\n",
      "max    3448.00 \n",
      "\n",
      "\n",
      "stool, NEC 2\n",
      "              1\n",
      "count    99.00\n",
      "mean     87.90\n",
      "std     652.26\n",
      "min       1.00\n",
      "25%       1.00\n",
      "50%       3.00\n",
      "75%       6.50\n",
      "max    6445.00 \n",
      "\n",
      "\n",
      "stool, Control 2\n",
      "               1\n",
      "count    281.00\n",
      "mean      74.98\n",
      "std      709.30\n",
      "min        1.00\n",
      "25%        1.00\n",
      "50%        2.00\n",
      "75%        7.00\n",
      "max    11277.00 \n",
      "\n",
      "\n"
     ]
    }
   ],
   "source": [
    "print('EXTRACTION CONTROL\\n', mb1.describe(), '\\n\\n')\n",
    "print('tissue, NEC 1\\n', mb2.describe(), '\\n\\n')\n",
    "print('tissue, Control 1\\n', mb3.describe(), '\\n\\n')\n",
    "print('tissue, NEC 2\\n', mb4.describe(), '\\n\\n')\n",
    "print('tissue, Control 2\\n', mb5.describe(), '\\n\\n')\n",
    "print('stool, NEC 1\\n', mb6.describe(), '\\n\\n')\n",
    "print('stool, Control 1\\n', mb7.describe(), '\\n\\n')\n",
    "print('stool, NEC 2\\n', mb8.describe(), '\\n\\n')\n",
    "print('stool, Control 2\\n', mb9.describe(), '\\n\\n')"
   ]
  },
  {
   "cell_type": "markdown",
   "metadata": {},
   "source": [
    "The following things can be noticed:\n",
    "* the dataframes have very different sizes (from 99 to 385),\n",
    "* all the dataframes have really high std dev, with a lot of low values and a few really high ones"
   ]
  },
  {
   "cell_type": "markdown",
   "metadata": {},
   "source": [
    "### Comment on the metadata.xls and on what we  understood of the dataset\n",
    "From the metadata.xls file, the following meaning of the files `MB1-MB9` has been understood.\n",
    "* For each bacteria, only one value for the field `'extraction control'` has been recorded.\n",
    "* For each bacteria, the values of the fields 'NEC' and 'Control' have been recorded four times each (`'NEC 1'`, `'NEC 2'`, `'Control 1'`, `'Control 2'`) on two different `'samples'={'tissue', 'stool'}` and in two different `contexts={1, 2}`. \n",
    "\n",
    "### Final goal\n",
    "\n",
    "To keep track of the `'NEC'` and `'Control'` values, it seems then logical merge the _eigth dataframes mb2-mb9_ into one single dataset with the following carachteristcs:\n",
    "* a three-level index with the following levels: `['bacteria name', 'sample', 'context']`\n",
    "* with the following columns: `['NEC', 'Control','extraction control']`\n"
   ]
  },
  {
   "cell_type": "markdown",
   "metadata": {},
   "source": [
    "## Task 2.2 First four merges\n",
    "\n",
    "Let's then procede by renaming the index and the value of each dataframe in a logical way"
   ]
  },
  {
   "cell_type": "code",
   "execution_count": 35,
   "metadata": {
    "collapsed": true
   },
   "outputs": [],
   "source": [
    "for mb in [mb1,mb2, mb3, mb4, mb5, mb6, mb7, mb8, mb9]:\n",
    "    mb.columns=['count']\n",
    "    mb.index.name='bacteria'"
   ]
  },
  {
   "cell_type": "markdown",
   "metadata": {},
   "source": [
    "Now, let's do _4 merges_ of the following couples of dataframes:\n",
    "\n",
    "* `mb2` with `mb3`\n",
    "* `mb4` with `mb5`\n",
    "* `mb6` with `mb7`\n",
    "* `mb8` with `mb9`\n",
    "\n",
    "and store the results in a list of resulting dataframes called `_4df`\n",
    "\n",
    "Recall that:\n",
    "* `mb2, mb3` contains respectively the value of `'NEC', 'Control'` for `sample=tissue, context=1`\n",
    "* `mb4, mb5` contains respectively the value of `'NEC', 'Control'` for `sample=tissue, context=2`\n",
    "* `mb6, mb7` contains respectively the value of `'NEC', 'Control'` for `sample=stool, context=1`\n",
    "* `mb8, mb9` contains respectively the value of `'NEC', 'Control'` for `sample=stool, context=2`\n",
    "\n",
    "The following cell provides a bit cumbersome but short way to do so. The following aspects of the code should be noted:\n",
    "* `pd.concat()` has been used to concatenate the colums of `'NEC'` and `'Control'` values, since it creates a dataframe with the _union_ of the indices of the two datasets, filling missing values with `NaN`\n",
    "* two columns have been added to register the `sample` and the `context` of the data of the new dataframes\n",
    "* A three-level index `['bacteria', 'sample', 'context']` has been created"
   ]
  },
  {
   "cell_type": "code",
   "execution_count": 36,
   "metadata": {
    "collapsed": true
   },
   "outputs": [],
   "source": [
    "samples = ['tissue']*2+['stool']*2\n",
    "_4df=[1,2,3,4]\n",
    "\n",
    "for i,[M1, M2] in enumerate(zip([mb2, mb4, mb6, mb8],[mb3, mb5, mb7, mb9])):\n",
    "    _4df[i] = pd.concat( [ M1['count'].rename('NEC'),\n",
    "                           M2['count'].rename('Control')], axis=1)\n",
    "    _4df[i] ['sample'] = samples[i]\n",
    "    _4df[i] ['context']=(i%2)+1\n",
    "    _4df[i].index.name='bacteria'\n",
    "    _4df[i]=_4df[i][['sample','context','NEC','Control']]\n",
    "    _4df[i].set_index(['sample','context'], append=True, inplace=True)"
   ]
  },
  {
   "cell_type": "markdown",
   "metadata": {},
   "source": [
    "Let's show the results to have a better understanding of what has been done:"
   ]
  },
  {
   "cell_type": "code",
   "execution_count": 37,
   "metadata": {},
   "outputs": [
    {
     "data": {
      "text/html": [
       "<div>\n",
       "<style>\n",
       "    .dataframe thead tr:only-child th {\n",
       "        text-align: right;\n",
       "    }\n",
       "\n",
       "    .dataframe thead th {\n",
       "        text-align: left;\n",
       "    }\n",
       "\n",
       "    .dataframe tbody tr th {\n",
       "        vertical-align: top;\n",
       "    }\n",
       "</style>\n",
       "<table border=\"1\" class=\"dataframe\">\n",
       "  <thead>\n",
       "    <tr style=\"text-align: right;\">\n",
       "      <th></th>\n",
       "      <th></th>\n",
       "      <th></th>\n",
       "      <th>NEC</th>\n",
       "      <th>Control</th>\n",
       "    </tr>\n",
       "    <tr>\n",
       "      <th>bacteria</th>\n",
       "      <th>sample</th>\n",
       "      <th>context</th>\n",
       "      <th></th>\n",
       "      <th></th>\n",
       "    </tr>\n",
       "  </thead>\n",
       "  <tbody>\n",
       "    <tr>\n",
       "      <th>Archaea \"Crenarchaeota\" Thermoprotei Acidilobales Acidilobaceae Acidilobus</th>\n",
       "      <th>tissue</th>\n",
       "      <th>1</th>\n",
       "      <td>2.0</td>\n",
       "      <td>1.0</td>\n",
       "    </tr>\n",
       "    <tr>\n",
       "      <th>Archaea \"Crenarchaeota\" Thermoprotei Acidilobales Caldisphaeraceae Caldisphaera</th>\n",
       "      <th>tissue</th>\n",
       "      <th>1</th>\n",
       "      <td>14.0</td>\n",
       "      <td>15.0</td>\n",
       "    </tr>\n",
       "    <tr>\n",
       "      <th>Archaea \"Crenarchaeota\" Thermoprotei Desulfurococcales Desulfurococcaceae Ignisphaera</th>\n",
       "      <th>tissue</th>\n",
       "      <th>1</th>\n",
       "      <td>23.0</td>\n",
       "      <td>14.0</td>\n",
       "    </tr>\n",
       "    <tr>\n",
       "      <th>Archaea \"Crenarchaeota\" Thermoprotei Desulfurococcales Desulfurococcaceae Sulfophobococcus</th>\n",
       "      <th>tissue</th>\n",
       "      <th>1</th>\n",
       "      <td>1.0</td>\n",
       "      <td>4.0</td>\n",
       "    </tr>\n",
       "    <tr>\n",
       "      <th>Archaea \"Crenarchaeota\" Thermoprotei Desulfurococcales Desulfurococcaceae Thermodiscus</th>\n",
       "      <th>tissue</th>\n",
       "      <th>1</th>\n",
       "      <td>NaN</td>\n",
       "      <td>1.0</td>\n",
       "    </tr>\n",
       "  </tbody>\n",
       "</table>\n",
       "</div>"
      ],
      "text/plain": [
       "                                                                    NEC  \\\n",
       "bacteria                                           sample context         \n",
       "Archaea \"Crenarchaeota\" Thermoprotei Acidilobal... tissue 1         2.0   \n",
       "Archaea \"Crenarchaeota\" Thermoprotei Acidilobal... tissue 1        14.0   \n",
       "Archaea \"Crenarchaeota\" Thermoprotei Desulfuroc... tissue 1        23.0   \n",
       "Archaea \"Crenarchaeota\" Thermoprotei Desulfuroc... tissue 1         1.0   \n",
       "Archaea \"Crenarchaeota\" Thermoprotei Desulfuroc... tissue 1         NaN   \n",
       "\n",
       "                                                                   Control  \n",
       "bacteria                                           sample context           \n",
       "Archaea \"Crenarchaeota\" Thermoprotei Acidilobal... tissue 1            1.0  \n",
       "Archaea \"Crenarchaeota\" Thermoprotei Acidilobal... tissue 1           15.0  \n",
       "Archaea \"Crenarchaeota\" Thermoprotei Desulfuroc... tissue 1           14.0  \n",
       "Archaea \"Crenarchaeota\" Thermoprotei Desulfuroc... tissue 1            4.0  \n",
       "Archaea \"Crenarchaeota\" Thermoprotei Desulfuroc... tissue 1            1.0  "
      ]
     },
     "execution_count": 37,
     "metadata": {},
     "output_type": "execute_result"
    }
   ],
   "source": [
    "_4df[0].head()"
   ]
  },
  {
   "cell_type": "code",
   "execution_count": 38,
   "metadata": {},
   "outputs": [
    {
     "data": {
      "text/html": [
       "<div>\n",
       "<style>\n",
       "    .dataframe thead tr:only-child th {\n",
       "        text-align: right;\n",
       "    }\n",
       "\n",
       "    .dataframe thead th {\n",
       "        text-align: left;\n",
       "    }\n",
       "\n",
       "    .dataframe tbody tr th {\n",
       "        vertical-align: top;\n",
       "    }\n",
       "</style>\n",
       "<table border=\"1\" class=\"dataframe\">\n",
       "  <thead>\n",
       "    <tr style=\"text-align: right;\">\n",
       "      <th></th>\n",
       "      <th></th>\n",
       "      <th></th>\n",
       "      <th>NEC</th>\n",
       "      <th>Control</th>\n",
       "    </tr>\n",
       "    <tr>\n",
       "      <th>bacteria</th>\n",
       "      <th>sample</th>\n",
       "      <th>context</th>\n",
       "      <th></th>\n",
       "      <th></th>\n",
       "    </tr>\n",
       "  </thead>\n",
       "  <tbody>\n",
       "    <tr>\n",
       "      <th>Archaea \"Crenarchaeota\" Thermoprotei Acidilobales Acidilobaceae Acidilobus</th>\n",
       "      <th>tissue</th>\n",
       "      <th>2</th>\n",
       "      <td>NaN</td>\n",
       "      <td>5.0</td>\n",
       "    </tr>\n",
       "    <tr>\n",
       "      <th>Archaea \"Crenarchaeota\" Thermoprotei Acidilobales Caldisphaeraceae Caldisphaera</th>\n",
       "      <th>tissue</th>\n",
       "      <th>2</th>\n",
       "      <td>NaN</td>\n",
       "      <td>26.0</td>\n",
       "    </tr>\n",
       "    <tr>\n",
       "      <th>Archaea \"Crenarchaeota\" Thermoprotei Desulfurococcales Desulfurococcaceae Ignisphaera</th>\n",
       "      <th>tissue</th>\n",
       "      <th>2</th>\n",
       "      <td>2.0</td>\n",
       "      <td>28.0</td>\n",
       "    </tr>\n",
       "    <tr>\n",
       "      <th>Archaea \"Crenarchaeota\" Thermoprotei Desulfurococcales Desulfurococcaceae Stetteria</th>\n",
       "      <th>tissue</th>\n",
       "      <th>2</th>\n",
       "      <td>NaN</td>\n",
       "      <td>1.0</td>\n",
       "    </tr>\n",
       "    <tr>\n",
       "      <th>Archaea \"Crenarchaeota\" Thermoprotei Desulfurococcales Desulfurococcaceae Sulfophobococcus</th>\n",
       "      <th>tissue</th>\n",
       "      <th>2</th>\n",
       "      <td>NaN</td>\n",
       "      <td>5.0</td>\n",
       "    </tr>\n",
       "  </tbody>\n",
       "</table>\n",
       "</div>"
      ],
      "text/plain": [
       "                                                                   NEC  \\\n",
       "bacteria                                           sample context        \n",
       "Archaea \"Crenarchaeota\" Thermoprotei Acidilobal... tissue 2        NaN   \n",
       "Archaea \"Crenarchaeota\" Thermoprotei Acidilobal... tissue 2        NaN   \n",
       "Archaea \"Crenarchaeota\" Thermoprotei Desulfuroc... tissue 2        2.0   \n",
       "Archaea \"Crenarchaeota\" Thermoprotei Desulfuroc... tissue 2        NaN   \n",
       "Archaea \"Crenarchaeota\" Thermoprotei Desulfuroc... tissue 2        NaN   \n",
       "\n",
       "                                                                   Control  \n",
       "bacteria                                           sample context           \n",
       "Archaea \"Crenarchaeota\" Thermoprotei Acidilobal... tissue 2            5.0  \n",
       "Archaea \"Crenarchaeota\" Thermoprotei Acidilobal... tissue 2           26.0  \n",
       "Archaea \"Crenarchaeota\" Thermoprotei Desulfuroc... tissue 2           28.0  \n",
       "Archaea \"Crenarchaeota\" Thermoprotei Desulfuroc... tissue 2            1.0  \n",
       "Archaea \"Crenarchaeota\" Thermoprotei Desulfuroc... tissue 2            5.0  "
      ]
     },
     "execution_count": 38,
     "metadata": {},
     "output_type": "execute_result"
    }
   ],
   "source": [
    "_4df[1].head()"
   ]
  },
  {
   "cell_type": "code",
   "execution_count": 39,
   "metadata": {},
   "outputs": [
    {
     "data": {
      "text/html": [
       "<div>\n",
       "<style>\n",
       "    .dataframe thead tr:only-child th {\n",
       "        text-align: right;\n",
       "    }\n",
       "\n",
       "    .dataframe thead th {\n",
       "        text-align: left;\n",
       "    }\n",
       "\n",
       "    .dataframe tbody tr th {\n",
       "        vertical-align: top;\n",
       "    }\n",
       "</style>\n",
       "<table border=\"1\" class=\"dataframe\">\n",
       "  <thead>\n",
       "    <tr style=\"text-align: right;\">\n",
       "      <th></th>\n",
       "      <th></th>\n",
       "      <th></th>\n",
       "      <th>NEC</th>\n",
       "      <th>Control</th>\n",
       "    </tr>\n",
       "    <tr>\n",
       "      <th>bacteria</th>\n",
       "      <th>sample</th>\n",
       "      <th>context</th>\n",
       "      <th></th>\n",
       "      <th></th>\n",
       "    </tr>\n",
       "  </thead>\n",
       "  <tbody>\n",
       "    <tr>\n",
       "      <th>Archaea \"Crenarchaeota\" Thermoprotei Acidilobales Caldisphaeraceae Caldisphaera</th>\n",
       "      <th>stool</th>\n",
       "      <th>1</th>\n",
       "      <td>NaN</td>\n",
       "      <td>1.0</td>\n",
       "    </tr>\n",
       "    <tr>\n",
       "      <th>Archaea \"Crenarchaeota\" Thermoprotei Desulfurococcales Desulfurococcaceae Ignisphaera</th>\n",
       "      <th>stool</th>\n",
       "      <th>1</th>\n",
       "      <td>7.0</td>\n",
       "      <td>8.0</td>\n",
       "    </tr>\n",
       "    <tr>\n",
       "      <th>Archaea \"Crenarchaeota\" Thermoprotei Desulfurococcales Desulfurococcaceae Sulfophobococcus</th>\n",
       "      <th>stool</th>\n",
       "      <th>1</th>\n",
       "      <td>1.0</td>\n",
       "      <td>2.0</td>\n",
       "    </tr>\n",
       "    <tr>\n",
       "      <th>Archaea \"Crenarchaeota\" Thermoprotei Desulfurococcales Desulfurococcaceae Thermosphaera</th>\n",
       "      <th>stool</th>\n",
       "      <th>1</th>\n",
       "      <td>NaN</td>\n",
       "      <td>1.0</td>\n",
       "    </tr>\n",
       "    <tr>\n",
       "      <th>Archaea \"Crenarchaeota\" Thermoprotei Desulfurococcales Pyrodictiaceae Pyrodictium</th>\n",
       "      <th>stool</th>\n",
       "      <th>1</th>\n",
       "      <td>1.0</td>\n",
       "      <td>1.0</td>\n",
       "    </tr>\n",
       "  </tbody>\n",
       "</table>\n",
       "</div>"
      ],
      "text/plain": [
       "                                                                   NEC  \\\n",
       "bacteria                                           sample context        \n",
       "Archaea \"Crenarchaeota\" Thermoprotei Acidilobal... stool  1        NaN   \n",
       "Archaea \"Crenarchaeota\" Thermoprotei Desulfuroc... stool  1        7.0   \n",
       "Archaea \"Crenarchaeota\" Thermoprotei Desulfuroc... stool  1        1.0   \n",
       "Archaea \"Crenarchaeota\" Thermoprotei Desulfuroc... stool  1        NaN   \n",
       "Archaea \"Crenarchaeota\" Thermoprotei Desulfuroc... stool  1        1.0   \n",
       "\n",
       "                                                                   Control  \n",
       "bacteria                                           sample context           \n",
       "Archaea \"Crenarchaeota\" Thermoprotei Acidilobal... stool  1            1.0  \n",
       "Archaea \"Crenarchaeota\" Thermoprotei Desulfuroc... stool  1            8.0  \n",
       "Archaea \"Crenarchaeota\" Thermoprotei Desulfuroc... stool  1            2.0  \n",
       "Archaea \"Crenarchaeota\" Thermoprotei Desulfuroc... stool  1            1.0  \n",
       "Archaea \"Crenarchaeota\" Thermoprotei Desulfuroc... stool  1            1.0  "
      ]
     },
     "execution_count": 39,
     "metadata": {},
     "output_type": "execute_result"
    }
   ],
   "source": [
    "_4df[2].head()"
   ]
  },
  {
   "cell_type": "code",
   "execution_count": 40,
   "metadata": {},
   "outputs": [
    {
     "data": {
      "text/html": [
       "<div>\n",
       "<style>\n",
       "    .dataframe thead tr:only-child th {\n",
       "        text-align: right;\n",
       "    }\n",
       "\n",
       "    .dataframe thead th {\n",
       "        text-align: left;\n",
       "    }\n",
       "\n",
       "    .dataframe tbody tr th {\n",
       "        vertical-align: top;\n",
       "    }\n",
       "</style>\n",
       "<table border=\"1\" class=\"dataframe\">\n",
       "  <thead>\n",
       "    <tr style=\"text-align: right;\">\n",
       "      <th></th>\n",
       "      <th></th>\n",
       "      <th></th>\n",
       "      <th>NEC</th>\n",
       "      <th>Control</th>\n",
       "    </tr>\n",
       "    <tr>\n",
       "      <th>bacteria</th>\n",
       "      <th>sample</th>\n",
       "      <th>context</th>\n",
       "      <th></th>\n",
       "      <th></th>\n",
       "    </tr>\n",
       "  </thead>\n",
       "  <tbody>\n",
       "    <tr>\n",
       "      <th>Archaea \"Crenarchaeota\" Thermoprotei Acidilobales Caldisphaeraceae Caldisphaera</th>\n",
       "      <th>stool</th>\n",
       "      <th>2</th>\n",
       "      <td>NaN</td>\n",
       "      <td>1.0</td>\n",
       "    </tr>\n",
       "    <tr>\n",
       "      <th>Archaea \"Crenarchaeota\" Thermoprotei Desulfurococcales Desulfurococcaceae Ignisphaera</th>\n",
       "      <th>stool</th>\n",
       "      <th>2</th>\n",
       "      <td>NaN</td>\n",
       "      <td>16.0</td>\n",
       "    </tr>\n",
       "    <tr>\n",
       "      <th>Archaea \"Crenarchaeota\" Thermoprotei Desulfurococcales Desulfurococcaceae Sulfophobococcus</th>\n",
       "      <th>stool</th>\n",
       "      <th>2</th>\n",
       "      <td>NaN</td>\n",
       "      <td>2.0</td>\n",
       "    </tr>\n",
       "    <tr>\n",
       "      <th>Archaea \"Crenarchaeota\" Thermoprotei Desulfurococcales Pyrodictiaceae Pyrodictium</th>\n",
       "      <th>stool</th>\n",
       "      <th>2</th>\n",
       "      <td>NaN</td>\n",
       "      <td>5.0</td>\n",
       "    </tr>\n",
       "    <tr>\n",
       "      <th>Archaea \"Crenarchaeota\" Thermoprotei Sulfolobales Sulfolobaceae Stygiolobus</th>\n",
       "      <th>stool</th>\n",
       "      <th>2</th>\n",
       "      <td>1.0</td>\n",
       "      <td>6.0</td>\n",
       "    </tr>\n",
       "  </tbody>\n",
       "</table>\n",
       "</div>"
      ],
      "text/plain": [
       "                                                                   NEC  \\\n",
       "bacteria                                           sample context        \n",
       "Archaea \"Crenarchaeota\" Thermoprotei Acidilobal... stool  2        NaN   \n",
       "Archaea \"Crenarchaeota\" Thermoprotei Desulfuroc... stool  2        NaN   \n",
       "Archaea \"Crenarchaeota\" Thermoprotei Desulfuroc... stool  2        NaN   \n",
       "Archaea \"Crenarchaeota\" Thermoprotei Desulfuroc... stool  2        NaN   \n",
       "Archaea \"Crenarchaeota\" Thermoprotei Sulfolobal... stool  2        1.0   \n",
       "\n",
       "                                                                   Control  \n",
       "bacteria                                           sample context           \n",
       "Archaea \"Crenarchaeota\" Thermoprotei Acidilobal... stool  2            1.0  \n",
       "Archaea \"Crenarchaeota\" Thermoprotei Desulfuroc... stool  2           16.0  \n",
       "Archaea \"Crenarchaeota\" Thermoprotei Desulfuroc... stool  2            2.0  \n",
       "Archaea \"Crenarchaeota\" Thermoprotei Desulfuroc... stool  2            5.0  \n",
       "Archaea \"Crenarchaeota\" Thermoprotei Sulfolobal... stool  2            6.0  "
      ]
     },
     "execution_count": 40,
     "metadata": {},
     "output_type": "execute_result"
    }
   ],
   "source": [
    "_4df[3].head()"
   ]
  },
  {
   "cell_type": "markdown",
   "metadata": {},
   "source": [
    "## Task 2.3 combine the four dataframes into one\n",
    "Now, it will be sufficient to _combine_ these datasets to have the desired one. \n",
    "Note the use of `combine_first()` so that the result index columns will be the union of the respective indexes and columns of the two arguments of the command."
   ]
  },
  {
   "cell_type": "code",
   "execution_count": 41,
   "metadata": {
    "scrolled": true
   },
   "outputs": [
    {
     "name": "stdout",
     "output_type": "stream",
     "text": [
      "the index of the following dataframe is unique? True\n",
      "\n",
      "\n",
      "            NEC   Control\n",
      "count   702.00   1422.00\n",
      "mean     72.59     49.51\n",
      "std     574.04    398.18\n",
      "min       1.00      1.00\n",
      "25%       1.00      1.00\n",
      "50%       2.00      3.00\n",
      "75%       7.00     10.00\n",
      "max    7910.00  11277.00\n"
     ]
    },
    {
     "data": {
      "text/html": [
       "<div>\n",
       "<style>\n",
       "    .dataframe thead tr:only-child th {\n",
       "        text-align: right;\n",
       "    }\n",
       "\n",
       "    .dataframe thead th {\n",
       "        text-align: left;\n",
       "    }\n",
       "\n",
       "    .dataframe tbody tr th {\n",
       "        vertical-align: top;\n",
       "    }\n",
       "</style>\n",
       "<table border=\"1\" class=\"dataframe\">\n",
       "  <thead>\n",
       "    <tr style=\"text-align: right;\">\n",
       "      <th></th>\n",
       "      <th></th>\n",
       "      <th></th>\n",
       "      <th>NEC</th>\n",
       "      <th>Control</th>\n",
       "    </tr>\n",
       "    <tr>\n",
       "      <th>bacteria</th>\n",
       "      <th>sample</th>\n",
       "      <th>context</th>\n",
       "      <th></th>\n",
       "      <th></th>\n",
       "    </tr>\n",
       "  </thead>\n",
       "  <tbody>\n",
       "    <tr>\n",
       "      <th rowspan=\"2\" valign=\"top\">Archaea \"Crenarchaeota\" Thermoprotei Acidilobales Acidilobaceae Acidilobus</th>\n",
       "      <th rowspan=\"2\" valign=\"top\">tissue</th>\n",
       "      <th>1</th>\n",
       "      <td>2.0</td>\n",
       "      <td>1.0</td>\n",
       "    </tr>\n",
       "    <tr>\n",
       "      <th>2</th>\n",
       "      <td>NaN</td>\n",
       "      <td>5.0</td>\n",
       "    </tr>\n",
       "    <tr>\n",
       "      <th rowspan=\"4\" valign=\"top\">Archaea \"Crenarchaeota\" Thermoprotei Acidilobales Caldisphaeraceae Caldisphaera</th>\n",
       "      <th rowspan=\"2\" valign=\"top\">stool</th>\n",
       "      <th>1</th>\n",
       "      <td>NaN</td>\n",
       "      <td>1.0</td>\n",
       "    </tr>\n",
       "    <tr>\n",
       "      <th>2</th>\n",
       "      <td>NaN</td>\n",
       "      <td>1.0</td>\n",
       "    </tr>\n",
       "    <tr>\n",
       "      <th rowspan=\"2\" valign=\"top\">tissue</th>\n",
       "      <th>1</th>\n",
       "      <td>14.0</td>\n",
       "      <td>15.0</td>\n",
       "    </tr>\n",
       "    <tr>\n",
       "      <th>2</th>\n",
       "      <td>NaN</td>\n",
       "      <td>26.0</td>\n",
       "    </tr>\n",
       "    <tr>\n",
       "      <th rowspan=\"4\" valign=\"top\">Archaea \"Crenarchaeota\" Thermoprotei Desulfurococcales Desulfurococcaceae Ignisphaera</th>\n",
       "      <th rowspan=\"2\" valign=\"top\">stool</th>\n",
       "      <th>1</th>\n",
       "      <td>7.0</td>\n",
       "      <td>8.0</td>\n",
       "    </tr>\n",
       "    <tr>\n",
       "      <th>2</th>\n",
       "      <td>NaN</td>\n",
       "      <td>16.0</td>\n",
       "    </tr>\n",
       "    <tr>\n",
       "      <th rowspan=\"2\" valign=\"top\">tissue</th>\n",
       "      <th>1</th>\n",
       "      <td>23.0</td>\n",
       "      <td>14.0</td>\n",
       "    </tr>\n",
       "    <tr>\n",
       "      <th>2</th>\n",
       "      <td>2.0</td>\n",
       "      <td>28.0</td>\n",
       "    </tr>\n",
       "    <tr>\n",
       "      <th>Archaea \"Crenarchaeota\" Thermoprotei Desulfurococcales Desulfurococcaceae Stetteria</th>\n",
       "      <th>tissue</th>\n",
       "      <th>2</th>\n",
       "      <td>NaN</td>\n",
       "      <td>1.0</td>\n",
       "    </tr>\n",
       "    <tr>\n",
       "      <th rowspan=\"4\" valign=\"top\">Archaea \"Crenarchaeota\" Thermoprotei Desulfurococcales Desulfurococcaceae Sulfophobococcus</th>\n",
       "      <th rowspan=\"2\" valign=\"top\">stool</th>\n",
       "      <th>1</th>\n",
       "      <td>1.0</td>\n",
       "      <td>2.0</td>\n",
       "    </tr>\n",
       "    <tr>\n",
       "      <th>2</th>\n",
       "      <td>NaN</td>\n",
       "      <td>2.0</td>\n",
       "    </tr>\n",
       "    <tr>\n",
       "      <th rowspan=\"2\" valign=\"top\">tissue</th>\n",
       "      <th>1</th>\n",
       "      <td>1.0</td>\n",
       "      <td>4.0</td>\n",
       "    </tr>\n",
       "    <tr>\n",
       "      <th>2</th>\n",
       "      <td>NaN</td>\n",
       "      <td>5.0</td>\n",
       "    </tr>\n",
       "    <tr>\n",
       "      <th>Archaea \"Crenarchaeota\" Thermoprotei Desulfurococcales Desulfurococcaceae Thermodiscus</th>\n",
       "      <th>tissue</th>\n",
       "      <th>1</th>\n",
       "      <td>NaN</td>\n",
       "      <td>1.0</td>\n",
       "    </tr>\n",
       "    <tr>\n",
       "      <th rowspan=\"3\" valign=\"top\">Archaea \"Crenarchaeota\" Thermoprotei Desulfurococcales Desulfurococcaceae Thermosphaera</th>\n",
       "      <th>stool</th>\n",
       "      <th>1</th>\n",
       "      <td>NaN</td>\n",
       "      <td>1.0</td>\n",
       "    </tr>\n",
       "    <tr>\n",
       "      <th rowspan=\"2\" valign=\"top\">tissue</th>\n",
       "      <th>1</th>\n",
       "      <td>2.0</td>\n",
       "      <td>1.0</td>\n",
       "    </tr>\n",
       "    <tr>\n",
       "      <th>2</th>\n",
       "      <td>NaN</td>\n",
       "      <td>2.0</td>\n",
       "    </tr>\n",
       "    <tr>\n",
       "      <th>Archaea \"Crenarchaeota\" Thermoprotei Desulfurococcales Pyrodictiaceae Hyperthermus</th>\n",
       "      <th>tissue</th>\n",
       "      <th>1</th>\n",
       "      <td>1.0</td>\n",
       "      <td>NaN</td>\n",
       "    </tr>\n",
       "  </tbody>\n",
       "</table>\n",
       "</div>"
      ],
      "text/plain": [
       "                                                                    NEC  \\\n",
       "bacteria                                           sample context         \n",
       "Archaea \"Crenarchaeota\" Thermoprotei Acidilobal... tissue 1         2.0   \n",
       "                                                          2         NaN   \n",
       "Archaea \"Crenarchaeota\" Thermoprotei Acidilobal... stool  1         NaN   \n",
       "                                                          2         NaN   \n",
       "                                                   tissue 1        14.0   \n",
       "                                                          2         NaN   \n",
       "Archaea \"Crenarchaeota\" Thermoprotei Desulfuroc... stool  1         7.0   \n",
       "                                                          2         NaN   \n",
       "                                                   tissue 1        23.0   \n",
       "                                                          2         2.0   \n",
       "Archaea \"Crenarchaeota\" Thermoprotei Desulfuroc... tissue 2         NaN   \n",
       "Archaea \"Crenarchaeota\" Thermoprotei Desulfuroc... stool  1         1.0   \n",
       "                                                          2         NaN   \n",
       "                                                   tissue 1         1.0   \n",
       "                                                          2         NaN   \n",
       "Archaea \"Crenarchaeota\" Thermoprotei Desulfuroc... tissue 1         NaN   \n",
       "Archaea \"Crenarchaeota\" Thermoprotei Desulfuroc... stool  1         NaN   \n",
       "                                                   tissue 1         2.0   \n",
       "                                                          2         NaN   \n",
       "Archaea \"Crenarchaeota\" Thermoprotei Desulfuroc... tissue 1         1.0   \n",
       "\n",
       "                                                                   Control  \n",
       "bacteria                                           sample context           \n",
       "Archaea \"Crenarchaeota\" Thermoprotei Acidilobal... tissue 1            1.0  \n",
       "                                                          2            5.0  \n",
       "Archaea \"Crenarchaeota\" Thermoprotei Acidilobal... stool  1            1.0  \n",
       "                                                          2            1.0  \n",
       "                                                   tissue 1           15.0  \n",
       "                                                          2           26.0  \n",
       "Archaea \"Crenarchaeota\" Thermoprotei Desulfuroc... stool  1            8.0  \n",
       "                                                          2           16.0  \n",
       "                                                   tissue 1           14.0  \n",
       "                                                          2           28.0  \n",
       "Archaea \"Crenarchaeota\" Thermoprotei Desulfuroc... tissue 2            1.0  \n",
       "Archaea \"Crenarchaeota\" Thermoprotei Desulfuroc... stool  1            2.0  \n",
       "                                                          2            2.0  \n",
       "                                                   tissue 1            4.0  \n",
       "                                                          2            5.0  \n",
       "Archaea \"Crenarchaeota\" Thermoprotei Desulfuroc... tissue 1            1.0  \n",
       "Archaea \"Crenarchaeota\" Thermoprotei Desulfuroc... stool  1            1.0  \n",
       "                                                   tissue 1            1.0  \n",
       "                                                          2            2.0  \n",
       "Archaea \"Crenarchaeota\" Thermoprotei Desulfuroc... tissue 1            NaN  "
      ]
     },
     "execution_count": 41,
     "metadata": {},
     "output_type": "execute_result"
    }
   ],
   "source": [
    "tissue = _4df[0].combine_first(_4df[1])\n",
    "stool = _4df[2].combine_first(_4df[3])\n",
    "tissue_and_stool = stool.combine_first(tissue)\n",
    "print('the index of the following dataframe is unique?', tissue_and_stool.index.is_unique)\n",
    "print('\\n\\n', tissue_and_stool.describe())\n",
    "tissue_and_stool.head(20)\n"
   ]
  },
  {
   "cell_type": "markdown",
   "metadata": {},
   "source": [
    "### Finally, add the 'extraction control' value to the dataframe\n",
    "and also change the name of the newly added column from _'count'_ to _'extraction control'_"
   ]
  },
  {
   "cell_type": "code",
   "execution_count": 42,
   "metadata": {
    "collapsed": true
   },
   "outputs": [],
   "source": [
    "tissue_and_stool = tissue_and_stool.join(mb1, how='outer')\n",
    "tissue_and_stool.rename(columns={'count': 'extraction control'}, inplace=True)"
   ]
  },
  {
   "cell_type": "markdown",
   "metadata": {},
   "source": [
    "### Fill NaN values\n",
    "let's now fill `NaN` values with the tag `unknown` as requested"
   ]
  },
  {
   "cell_type": "code",
   "execution_count": 43,
   "metadata": {
    "scrolled": true
   },
   "outputs": [
    {
     "data": {
      "text/html": [
       "<div>\n",
       "<style>\n",
       "    .dataframe thead tr:only-child th {\n",
       "        text-align: right;\n",
       "    }\n",
       "\n",
       "    .dataframe thead th {\n",
       "        text-align: left;\n",
       "    }\n",
       "\n",
       "    .dataframe tbody tr th {\n",
       "        vertical-align: top;\n",
       "    }\n",
       "</style>\n",
       "<table border=\"1\" class=\"dataframe\">\n",
       "  <thead>\n",
       "    <tr style=\"text-align: right;\">\n",
       "      <th></th>\n",
       "      <th></th>\n",
       "      <th></th>\n",
       "      <th>NEC</th>\n",
       "      <th>Control</th>\n",
       "      <th>extraction control</th>\n",
       "    </tr>\n",
       "    <tr>\n",
       "      <th>bacteria</th>\n",
       "      <th>sample</th>\n",
       "      <th>context</th>\n",
       "      <th></th>\n",
       "      <th></th>\n",
       "      <th></th>\n",
       "    </tr>\n",
       "  </thead>\n",
       "  <tbody>\n",
       "    <tr>\n",
       "      <th rowspan=\"2\" valign=\"top\">Archaea \"Crenarchaeota\" Thermoprotei Acidilobales Acidilobaceae Acidilobus</th>\n",
       "      <th rowspan=\"2\" valign=\"top\">tissue</th>\n",
       "      <th>1</th>\n",
       "      <td>2</td>\n",
       "      <td>1</td>\n",
       "      <td>unknown</td>\n",
       "    </tr>\n",
       "    <tr>\n",
       "      <th>2</th>\n",
       "      <td>unknown</td>\n",
       "      <td>5</td>\n",
       "      <td>unknown</td>\n",
       "    </tr>\n",
       "    <tr>\n",
       "      <th rowspan=\"4\" valign=\"top\">Archaea \"Crenarchaeota\" Thermoprotei Acidilobales Caldisphaeraceae Caldisphaera</th>\n",
       "      <th rowspan=\"2\" valign=\"top\">stool</th>\n",
       "      <th>1</th>\n",
       "      <td>unknown</td>\n",
       "      <td>1</td>\n",
       "      <td>unknown</td>\n",
       "    </tr>\n",
       "    <tr>\n",
       "      <th>2</th>\n",
       "      <td>unknown</td>\n",
       "      <td>1</td>\n",
       "      <td>unknown</td>\n",
       "    </tr>\n",
       "    <tr>\n",
       "      <th rowspan=\"2\" valign=\"top\">tissue</th>\n",
       "      <th>1</th>\n",
       "      <td>14</td>\n",
       "      <td>15</td>\n",
       "      <td>unknown</td>\n",
       "    </tr>\n",
       "    <tr>\n",
       "      <th>2</th>\n",
       "      <td>unknown</td>\n",
       "      <td>26</td>\n",
       "      <td>unknown</td>\n",
       "    </tr>\n",
       "    <tr>\n",
       "      <th rowspan=\"4\" valign=\"top\">Archaea \"Crenarchaeota\" Thermoprotei Desulfurococcales Desulfurococcaceae Ignisphaera</th>\n",
       "      <th rowspan=\"2\" valign=\"top\">stool</th>\n",
       "      <th>1</th>\n",
       "      <td>7</td>\n",
       "      <td>8</td>\n",
       "      <td>7</td>\n",
       "    </tr>\n",
       "    <tr>\n",
       "      <th>2</th>\n",
       "      <td>unknown</td>\n",
       "      <td>16</td>\n",
       "      <td>7</td>\n",
       "    </tr>\n",
       "    <tr>\n",
       "      <th rowspan=\"2\" valign=\"top\">tissue</th>\n",
       "      <th>1</th>\n",
       "      <td>23</td>\n",
       "      <td>14</td>\n",
       "      <td>7</td>\n",
       "    </tr>\n",
       "    <tr>\n",
       "      <th>2</th>\n",
       "      <td>2</td>\n",
       "      <td>28</td>\n",
       "      <td>7</td>\n",
       "    </tr>\n",
       "    <tr>\n",
       "      <th>Archaea \"Crenarchaeota\" Thermoprotei Desulfurococcales Desulfurococcaceae Stetteria</th>\n",
       "      <th>tissue</th>\n",
       "      <th>2</th>\n",
       "      <td>unknown</td>\n",
       "      <td>1</td>\n",
       "      <td>unknown</td>\n",
       "    </tr>\n",
       "    <tr>\n",
       "      <th rowspan=\"4\" valign=\"top\">Archaea \"Crenarchaeota\" Thermoprotei Desulfurococcales Desulfurococcaceae Sulfophobococcus</th>\n",
       "      <th rowspan=\"2\" valign=\"top\">stool</th>\n",
       "      <th>1</th>\n",
       "      <td>1</td>\n",
       "      <td>2</td>\n",
       "      <td>unknown</td>\n",
       "    </tr>\n",
       "    <tr>\n",
       "      <th>2</th>\n",
       "      <td>unknown</td>\n",
       "      <td>2</td>\n",
       "      <td>unknown</td>\n",
       "    </tr>\n",
       "    <tr>\n",
       "      <th rowspan=\"2\" valign=\"top\">tissue</th>\n",
       "      <th>1</th>\n",
       "      <td>1</td>\n",
       "      <td>4</td>\n",
       "      <td>unknown</td>\n",
       "    </tr>\n",
       "    <tr>\n",
       "      <th>2</th>\n",
       "      <td>unknown</td>\n",
       "      <td>5</td>\n",
       "      <td>unknown</td>\n",
       "    </tr>\n",
       "    <tr>\n",
       "      <th>Archaea \"Crenarchaeota\" Thermoprotei Desulfurococcales Desulfurococcaceae Thermodiscus</th>\n",
       "      <th>tissue</th>\n",
       "      <th>1</th>\n",
       "      <td>unknown</td>\n",
       "      <td>1</td>\n",
       "      <td>unknown</td>\n",
       "    </tr>\n",
       "    <tr>\n",
       "      <th rowspan=\"3\" valign=\"top\">Archaea \"Crenarchaeota\" Thermoprotei Desulfurococcales Desulfurococcaceae Thermosphaera</th>\n",
       "      <th>stool</th>\n",
       "      <th>1</th>\n",
       "      <td>unknown</td>\n",
       "      <td>1</td>\n",
       "      <td>unknown</td>\n",
       "    </tr>\n",
       "    <tr>\n",
       "      <th rowspan=\"2\" valign=\"top\">tissue</th>\n",
       "      <th>1</th>\n",
       "      <td>2</td>\n",
       "      <td>1</td>\n",
       "      <td>unknown</td>\n",
       "    </tr>\n",
       "    <tr>\n",
       "      <th>2</th>\n",
       "      <td>unknown</td>\n",
       "      <td>2</td>\n",
       "      <td>unknown</td>\n",
       "    </tr>\n",
       "    <tr>\n",
       "      <th>Archaea \"Crenarchaeota\" Thermoprotei Desulfurococcales Pyrodictiaceae Hyperthermus</th>\n",
       "      <th>tissue</th>\n",
       "      <th>1</th>\n",
       "      <td>1</td>\n",
       "      <td>unknown</td>\n",
       "      <td>unknown</td>\n",
       "    </tr>\n",
       "  </tbody>\n",
       "</table>\n",
       "</div>"
      ],
      "text/plain": [
       "                                                                       NEC  \\\n",
       "bacteria                                           sample context            \n",
       "Archaea \"Crenarchaeota\" Thermoprotei Acidilobal... tissue 1              2   \n",
       "                                                          2        unknown   \n",
       "Archaea \"Crenarchaeota\" Thermoprotei Acidilobal... stool  1        unknown   \n",
       "                                                          2        unknown   \n",
       "                                                   tissue 1             14   \n",
       "                                                          2        unknown   \n",
       "Archaea \"Crenarchaeota\" Thermoprotei Desulfuroc... stool  1              7   \n",
       "                                                          2        unknown   \n",
       "                                                   tissue 1             23   \n",
       "                                                          2              2   \n",
       "Archaea \"Crenarchaeota\" Thermoprotei Desulfuroc... tissue 2        unknown   \n",
       "Archaea \"Crenarchaeota\" Thermoprotei Desulfuroc... stool  1              1   \n",
       "                                                          2        unknown   \n",
       "                                                   tissue 1              1   \n",
       "                                                          2        unknown   \n",
       "Archaea \"Crenarchaeota\" Thermoprotei Desulfuroc... tissue 1        unknown   \n",
       "Archaea \"Crenarchaeota\" Thermoprotei Desulfuroc... stool  1        unknown   \n",
       "                                                   tissue 1              2   \n",
       "                                                          2        unknown   \n",
       "Archaea \"Crenarchaeota\" Thermoprotei Desulfuroc... tissue 1              1   \n",
       "\n",
       "                                                                   Control  \\\n",
       "bacteria                                           sample context            \n",
       "Archaea \"Crenarchaeota\" Thermoprotei Acidilobal... tissue 1              1   \n",
       "                                                          2              5   \n",
       "Archaea \"Crenarchaeota\" Thermoprotei Acidilobal... stool  1              1   \n",
       "                                                          2              1   \n",
       "                                                   tissue 1             15   \n",
       "                                                          2             26   \n",
       "Archaea \"Crenarchaeota\" Thermoprotei Desulfuroc... stool  1              8   \n",
       "                                                          2             16   \n",
       "                                                   tissue 1             14   \n",
       "                                                          2             28   \n",
       "Archaea \"Crenarchaeota\" Thermoprotei Desulfuroc... tissue 2              1   \n",
       "Archaea \"Crenarchaeota\" Thermoprotei Desulfuroc... stool  1              2   \n",
       "                                                          2              2   \n",
       "                                                   tissue 1              4   \n",
       "                                                          2              5   \n",
       "Archaea \"Crenarchaeota\" Thermoprotei Desulfuroc... tissue 1              1   \n",
       "Archaea \"Crenarchaeota\" Thermoprotei Desulfuroc... stool  1              1   \n",
       "                                                   tissue 1              1   \n",
       "                                                          2              2   \n",
       "Archaea \"Crenarchaeota\" Thermoprotei Desulfuroc... tissue 1        unknown   \n",
       "\n",
       "                                                                  extraction control  \n",
       "bacteria                                           sample context                     \n",
       "Archaea \"Crenarchaeota\" Thermoprotei Acidilobal... tissue 1                  unknown  \n",
       "                                                          2                  unknown  \n",
       "Archaea \"Crenarchaeota\" Thermoprotei Acidilobal... stool  1                  unknown  \n",
       "                                                          2                  unknown  \n",
       "                                                   tissue 1                  unknown  \n",
       "                                                          2                  unknown  \n",
       "Archaea \"Crenarchaeota\" Thermoprotei Desulfuroc... stool  1                        7  \n",
       "                                                          2                        7  \n",
       "                                                   tissue 1                        7  \n",
       "                                                          2                        7  \n",
       "Archaea \"Crenarchaeota\" Thermoprotei Desulfuroc... tissue 2                  unknown  \n",
       "Archaea \"Crenarchaeota\" Thermoprotei Desulfuroc... stool  1                  unknown  \n",
       "                                                          2                  unknown  \n",
       "                                                   tissue 1                  unknown  \n",
       "                                                          2                  unknown  \n",
       "Archaea \"Crenarchaeota\" Thermoprotei Desulfuroc... tissue 1                  unknown  \n",
       "Archaea \"Crenarchaeota\" Thermoprotei Desulfuroc... stool  1                  unknown  \n",
       "                                                   tissue 1                  unknown  \n",
       "                                                          2                  unknown  \n",
       "Archaea \"Crenarchaeota\" Thermoprotei Desulfuroc... tissue 1                  unknown  "
      ]
     },
     "execution_count": 43,
     "metadata": {},
     "output_type": "execute_result"
    }
   ],
   "source": [
    "tissue_and_stool.fillna('unknown', inplace=True )\n",
    "tissue_and_stool.head(20)"
   ]
  },
  {
   "cell_type": "markdown",
   "metadata": {},
   "source": [
    "## Task 2.4 Final comments\n",
    "Another option could have been creating more levels for the index, one for every catgory in the bacteria name hierarchy ('Life', 'Domain', 'Kingdom', etc. etc.) to let the user access to subsets of the bacterias in a easy way ( for example, all the bacterias in the _Archaea_ family).\n",
    "However, it has been thought that such a thing would have created a useless complication in handling this dataset, since for different bacterias we don't even have the complete description of its hierarchy. Also, the dataframe that has been created still let a user familiar with the bacteria hierarchy to perform such a query in the following way:"
   ]
  },
  {
   "cell_type": "code",
   "execution_count": 44,
   "metadata": {},
   "outputs": [
    {
     "data": {
      "text/html": [
       "<div>\n",
       "<style>\n",
       "    .dataframe thead tr:only-child th {\n",
       "        text-align: right;\n",
       "    }\n",
       "\n",
       "    .dataframe thead th {\n",
       "        text-align: left;\n",
       "    }\n",
       "\n",
       "    .dataframe tbody tr th {\n",
       "        vertical-align: top;\n",
       "    }\n",
       "</style>\n",
       "<table border=\"1\" class=\"dataframe\">\n",
       "  <thead>\n",
       "    <tr style=\"text-align: right;\">\n",
       "      <th></th>\n",
       "      <th></th>\n",
       "      <th></th>\n",
       "      <th>NEC</th>\n",
       "      <th>Control</th>\n",
       "      <th>extraction control</th>\n",
       "    </tr>\n",
       "    <tr>\n",
       "      <th>bacteria</th>\n",
       "      <th>sample</th>\n",
       "      <th>context</th>\n",
       "      <th></th>\n",
       "      <th></th>\n",
       "      <th></th>\n",
       "    </tr>\n",
       "  </thead>\n",
       "  <tbody>\n",
       "    <tr>\n",
       "      <th rowspan=\"2\" valign=\"top\">Archaea \"Crenarchaeota\" Thermoprotei Acidilobales Acidilobaceae Acidilobus</th>\n",
       "      <th rowspan=\"2\" valign=\"top\">tissue</th>\n",
       "      <th>1</th>\n",
       "      <td>2</td>\n",
       "      <td>1</td>\n",
       "      <td>unknown</td>\n",
       "    </tr>\n",
       "    <tr>\n",
       "      <th>2</th>\n",
       "      <td>unknown</td>\n",
       "      <td>5</td>\n",
       "      <td>unknown</td>\n",
       "    </tr>\n",
       "    <tr>\n",
       "      <th rowspan=\"4\" valign=\"top\">Archaea \"Crenarchaeota\" Thermoprotei Acidilobales Caldisphaeraceae Caldisphaera</th>\n",
       "      <th rowspan=\"2\" valign=\"top\">stool</th>\n",
       "      <th>1</th>\n",
       "      <td>unknown</td>\n",
       "      <td>1</td>\n",
       "      <td>unknown</td>\n",
       "    </tr>\n",
       "    <tr>\n",
       "      <th>2</th>\n",
       "      <td>unknown</td>\n",
       "      <td>1</td>\n",
       "      <td>unknown</td>\n",
       "    </tr>\n",
       "    <tr>\n",
       "      <th rowspan=\"2\" valign=\"top\">tissue</th>\n",
       "      <th>1</th>\n",
       "      <td>14</td>\n",
       "      <td>15</td>\n",
       "      <td>unknown</td>\n",
       "    </tr>\n",
       "    <tr>\n",
       "      <th>2</th>\n",
       "      <td>unknown</td>\n",
       "      <td>26</td>\n",
       "      <td>unknown</td>\n",
       "    </tr>\n",
       "    <tr>\n",
       "      <th rowspan=\"4\" valign=\"top\">Archaea \"Crenarchaeota\" Thermoprotei Desulfurococcales Desulfurococcaceae Ignisphaera</th>\n",
       "      <th rowspan=\"2\" valign=\"top\">stool</th>\n",
       "      <th>1</th>\n",
       "      <td>7</td>\n",
       "      <td>8</td>\n",
       "      <td>7</td>\n",
       "    </tr>\n",
       "    <tr>\n",
       "      <th>2</th>\n",
       "      <td>unknown</td>\n",
       "      <td>16</td>\n",
       "      <td>7</td>\n",
       "    </tr>\n",
       "    <tr>\n",
       "      <th rowspan=\"2\" valign=\"top\">tissue</th>\n",
       "      <th>1</th>\n",
       "      <td>23</td>\n",
       "      <td>14</td>\n",
       "      <td>7</td>\n",
       "    </tr>\n",
       "    <tr>\n",
       "      <th>2</th>\n",
       "      <td>2</td>\n",
       "      <td>28</td>\n",
       "      <td>7</td>\n",
       "    </tr>\n",
       "    <tr>\n",
       "      <th>Archaea \"Crenarchaeota\" Thermoprotei Desulfurococcales Desulfurococcaceae Stetteria</th>\n",
       "      <th>tissue</th>\n",
       "      <th>2</th>\n",
       "      <td>unknown</td>\n",
       "      <td>1</td>\n",
       "      <td>unknown</td>\n",
       "    </tr>\n",
       "    <tr>\n",
       "      <th rowspan=\"4\" valign=\"top\">Archaea \"Crenarchaeota\" Thermoprotei Desulfurococcales Desulfurococcaceae Sulfophobococcus</th>\n",
       "      <th rowspan=\"2\" valign=\"top\">stool</th>\n",
       "      <th>1</th>\n",
       "      <td>1</td>\n",
       "      <td>2</td>\n",
       "      <td>unknown</td>\n",
       "    </tr>\n",
       "    <tr>\n",
       "      <th>2</th>\n",
       "      <td>unknown</td>\n",
       "      <td>2</td>\n",
       "      <td>unknown</td>\n",
       "    </tr>\n",
       "    <tr>\n",
       "      <th rowspan=\"2\" valign=\"top\">tissue</th>\n",
       "      <th>1</th>\n",
       "      <td>1</td>\n",
       "      <td>4</td>\n",
       "      <td>unknown</td>\n",
       "    </tr>\n",
       "    <tr>\n",
       "      <th>2</th>\n",
       "      <td>unknown</td>\n",
       "      <td>5</td>\n",
       "      <td>unknown</td>\n",
       "    </tr>\n",
       "    <tr>\n",
       "      <th>Archaea \"Crenarchaeota\" Thermoprotei Desulfurococcales Desulfurococcaceae Thermodiscus</th>\n",
       "      <th>tissue</th>\n",
       "      <th>1</th>\n",
       "      <td>unknown</td>\n",
       "      <td>1</td>\n",
       "      <td>unknown</td>\n",
       "    </tr>\n",
       "    <tr>\n",
       "      <th rowspan=\"3\" valign=\"top\">Archaea \"Crenarchaeota\" Thermoprotei Desulfurococcales Desulfurococcaceae Thermosphaera</th>\n",
       "      <th>stool</th>\n",
       "      <th>1</th>\n",
       "      <td>unknown</td>\n",
       "      <td>1</td>\n",
       "      <td>unknown</td>\n",
       "    </tr>\n",
       "    <tr>\n",
       "      <th rowspan=\"2\" valign=\"top\">tissue</th>\n",
       "      <th>1</th>\n",
       "      <td>2</td>\n",
       "      <td>1</td>\n",
       "      <td>unknown</td>\n",
       "    </tr>\n",
       "    <tr>\n",
       "      <th>2</th>\n",
       "      <td>unknown</td>\n",
       "      <td>2</td>\n",
       "      <td>unknown</td>\n",
       "    </tr>\n",
       "    <tr>\n",
       "      <th>Archaea \"Crenarchaeota\" Thermoprotei Desulfurococcales Pyrodictiaceae Hyperthermus</th>\n",
       "      <th>tissue</th>\n",
       "      <th>1</th>\n",
       "      <td>1</td>\n",
       "      <td>unknown</td>\n",
       "      <td>unknown</td>\n",
       "    </tr>\n",
       "    <tr>\n",
       "      <th rowspan=\"4\" valign=\"top\">Archaea \"Crenarchaeota\" Thermoprotei Desulfurococcales Pyrodictiaceae Pyrodictium</th>\n",
       "      <th rowspan=\"2\" valign=\"top\">stool</th>\n",
       "      <th>1</th>\n",
       "      <td>1</td>\n",
       "      <td>1</td>\n",
       "      <td>unknown</td>\n",
       "    </tr>\n",
       "    <tr>\n",
       "      <th>2</th>\n",
       "      <td>unknown</td>\n",
       "      <td>5</td>\n",
       "      <td>unknown</td>\n",
       "    </tr>\n",
       "    <tr>\n",
       "      <th rowspan=\"2\" valign=\"top\">tissue</th>\n",
       "      <th>1</th>\n",
       "      <td>unknown</td>\n",
       "      <td>3</td>\n",
       "      <td>unknown</td>\n",
       "    </tr>\n",
       "    <tr>\n",
       "      <th>2</th>\n",
       "      <td>unknown</td>\n",
       "      <td>2</td>\n",
       "      <td>unknown</td>\n",
       "    </tr>\n",
       "    <tr>\n",
       "      <th rowspan=\"3\" valign=\"top\">Archaea \"Crenarchaeota\" Thermoprotei Desulfurococcales Pyrodictiaceae Pyrolobus</th>\n",
       "      <th>stool</th>\n",
       "      <th>1</th>\n",
       "      <td>2</td>\n",
       "      <td>1</td>\n",
       "      <td>2</td>\n",
       "    </tr>\n",
       "    <tr>\n",
       "      <th rowspan=\"2\" valign=\"top\">tissue</th>\n",
       "      <th>1</th>\n",
       "      <td>2</td>\n",
       "      <td>unknown</td>\n",
       "      <td>2</td>\n",
       "    </tr>\n",
       "    <tr>\n",
       "      <th>2</th>\n",
       "      <td>unknown</td>\n",
       "      <td>3</td>\n",
       "      <td>2</td>\n",
       "    </tr>\n",
       "    <tr>\n",
       "      <th rowspan=\"3\" valign=\"top\">Archaea \"Crenarchaeota\" Thermoprotei Sulfolobales Sulfolobaceae Stygiolobus</th>\n",
       "      <th rowspan=\"2\" valign=\"top\">stool</th>\n",
       "      <th>1</th>\n",
       "      <td>5</td>\n",
       "      <td>5</td>\n",
       "      <td>3</td>\n",
       "    </tr>\n",
       "    <tr>\n",
       "      <th>2</th>\n",
       "      <td>1</td>\n",
       "      <td>6</td>\n",
       "      <td>3</td>\n",
       "    </tr>\n",
       "    <tr>\n",
       "      <th>tissue</th>\n",
       "      <th>1</th>\n",
       "      <td>10</td>\n",
       "      <td>4</td>\n",
       "      <td>3</td>\n",
       "    </tr>\n",
       "    <tr>\n",
       "      <th>...</th>\n",
       "      <th>...</th>\n",
       "      <th>...</th>\n",
       "      <td>...</td>\n",
       "      <td>...</td>\n",
       "      <td>...</td>\n",
       "    </tr>\n",
       "    <tr>\n",
       "      <th>Archaea \"Euryarchaeota\" Halobacteria Halobacteriales Halobacteriaceae Halosarcina</th>\n",
       "      <th>tissue</th>\n",
       "      <th>2</th>\n",
       "      <td>unknown</td>\n",
       "      <td>2</td>\n",
       "      <td>unknown</td>\n",
       "    </tr>\n",
       "    <tr>\n",
       "      <th rowspan=\"4\" valign=\"top\">Archaea \"Euryarchaeota\" Halobacteria Halobacteriales Halobacteriaceae Halosimplex</th>\n",
       "      <th rowspan=\"2\" valign=\"top\">stool</th>\n",
       "      <th>1</th>\n",
       "      <td>3</td>\n",
       "      <td>2</td>\n",
       "      <td>1</td>\n",
       "    </tr>\n",
       "    <tr>\n",
       "      <th>2</th>\n",
       "      <td>unknown</td>\n",
       "      <td>2</td>\n",
       "      <td>1</td>\n",
       "    </tr>\n",
       "    <tr>\n",
       "      <th rowspan=\"2\" valign=\"top\">tissue</th>\n",
       "      <th>1</th>\n",
       "      <td>5</td>\n",
       "      <td>2</td>\n",
       "      <td>1</td>\n",
       "    </tr>\n",
       "    <tr>\n",
       "      <th>2</th>\n",
       "      <td>unknown</td>\n",
       "      <td>1</td>\n",
       "      <td>1</td>\n",
       "    </tr>\n",
       "    <tr>\n",
       "      <th rowspan=\"4\" valign=\"top\">Archaea \"Euryarchaeota\" Halobacteria Halobacteriales Halobacteriaceae Halostagnicola</th>\n",
       "      <th rowspan=\"2\" valign=\"top\">stool</th>\n",
       "      <th>1</th>\n",
       "      <td>1</td>\n",
       "      <td>unknown</td>\n",
       "      <td>unknown</td>\n",
       "    </tr>\n",
       "    <tr>\n",
       "      <th>2</th>\n",
       "      <td>unknown</td>\n",
       "      <td>1</td>\n",
       "      <td>unknown</td>\n",
       "    </tr>\n",
       "    <tr>\n",
       "      <th rowspan=\"2\" valign=\"top\">tissue</th>\n",
       "      <th>1</th>\n",
       "      <td>unknown</td>\n",
       "      <td>1</td>\n",
       "      <td>unknown</td>\n",
       "    </tr>\n",
       "    <tr>\n",
       "      <th>2</th>\n",
       "      <td>unknown</td>\n",
       "      <td>1</td>\n",
       "      <td>unknown</td>\n",
       "    </tr>\n",
       "    <tr>\n",
       "      <th rowspan=\"4\" valign=\"top\">Archaea \"Euryarchaeota\" Halobacteria Halobacteriales Halobacteriaceae Natronobacterium</th>\n",
       "      <th rowspan=\"2\" valign=\"top\">stool</th>\n",
       "      <th>1</th>\n",
       "      <td>3</td>\n",
       "      <td>6</td>\n",
       "      <td>2</td>\n",
       "    </tr>\n",
       "    <tr>\n",
       "      <th>2</th>\n",
       "      <td>unknown</td>\n",
       "      <td>4</td>\n",
       "      <td>2</td>\n",
       "    </tr>\n",
       "    <tr>\n",
       "      <th rowspan=\"2\" valign=\"top\">tissue</th>\n",
       "      <th>1</th>\n",
       "      <td>2</td>\n",
       "      <td>2</td>\n",
       "      <td>2</td>\n",
       "    </tr>\n",
       "    <tr>\n",
       "      <th>2</th>\n",
       "      <td>unknown</td>\n",
       "      <td>1</td>\n",
       "      <td>2</td>\n",
       "    </tr>\n",
       "    <tr>\n",
       "      <th rowspan=\"4\" valign=\"top\">Archaea \"Euryarchaeota\" Halobacteria Halobacteriales Halobacteriaceae Natronomonas</th>\n",
       "      <th rowspan=\"2\" valign=\"top\">stool</th>\n",
       "      <th>1</th>\n",
       "      <td>unknown</td>\n",
       "      <td>4</td>\n",
       "      <td>4</td>\n",
       "    </tr>\n",
       "    <tr>\n",
       "      <th>2</th>\n",
       "      <td>unknown</td>\n",
       "      <td>2</td>\n",
       "      <td>4</td>\n",
       "    </tr>\n",
       "    <tr>\n",
       "      <th rowspan=\"2\" valign=\"top\">tissue</th>\n",
       "      <th>1</th>\n",
       "      <td>26</td>\n",
       "      <td>27</td>\n",
       "      <td>4</td>\n",
       "    </tr>\n",
       "    <tr>\n",
       "      <th>2</th>\n",
       "      <td>unknown</td>\n",
       "      <td>36</td>\n",
       "      <td>4</td>\n",
       "    </tr>\n",
       "    <tr>\n",
       "      <th rowspan=\"4\" valign=\"top\">Archaea \"Euryarchaeota\" Methanobacteria Methanobacteriales Methanobacteriaceae Methanosphaera</th>\n",
       "      <th rowspan=\"2\" valign=\"top\">stool</th>\n",
       "      <th>1</th>\n",
       "      <td>1</td>\n",
       "      <td>1</td>\n",
       "      <td>unknown</td>\n",
       "    </tr>\n",
       "    <tr>\n",
       "      <th>2</th>\n",
       "      <td>unknown</td>\n",
       "      <td>1</td>\n",
       "      <td>unknown</td>\n",
       "    </tr>\n",
       "    <tr>\n",
       "      <th rowspan=\"2\" valign=\"top\">tissue</th>\n",
       "      <th>1</th>\n",
       "      <td>1</td>\n",
       "      <td>1</td>\n",
       "      <td>unknown</td>\n",
       "    </tr>\n",
       "    <tr>\n",
       "      <th>2</th>\n",
       "      <td>unknown</td>\n",
       "      <td>4</td>\n",
       "      <td>unknown</td>\n",
       "    </tr>\n",
       "    <tr>\n",
       "      <th>Archaea \"Euryarchaeota\" Methanococci Methanococcales Methanocaldococcaceae Methanotorris</th>\n",
       "      <th>stool</th>\n",
       "      <th>1</th>\n",
       "      <td>unknown</td>\n",
       "      <td>1</td>\n",
       "      <td>1</td>\n",
       "    </tr>\n",
       "    <tr>\n",
       "      <th rowspan=\"4\" valign=\"top\">Archaea \"Euryarchaeota\" Methanopyri Methanopyrales Methanopyraceae Methanopyrus</th>\n",
       "      <th rowspan=\"2\" valign=\"top\">stool</th>\n",
       "      <th>1</th>\n",
       "      <td>23</td>\n",
       "      <td>59</td>\n",
       "      <td>12</td>\n",
       "    </tr>\n",
       "    <tr>\n",
       "      <th>2</th>\n",
       "      <td>9</td>\n",
       "      <td>50</td>\n",
       "      <td>12</td>\n",
       "    </tr>\n",
       "    <tr>\n",
       "      <th rowspan=\"2\" valign=\"top\">tissue</th>\n",
       "      <th>1</th>\n",
       "      <td>47</td>\n",
       "      <td>46</td>\n",
       "      <td>12</td>\n",
       "    </tr>\n",
       "    <tr>\n",
       "      <th>2</th>\n",
       "      <td>10</td>\n",
       "      <td>72</td>\n",
       "      <td>12</td>\n",
       "    </tr>\n",
       "    <tr>\n",
       "      <th rowspan=\"4\" valign=\"top\">Archaea \"Euryarchaeota\" Thermoplasmata Thermoplasmatales Thermoplasmatales_incertae_sedis Thermogymnomonas</th>\n",
       "      <th rowspan=\"2\" valign=\"top\">stool</th>\n",
       "      <th>1</th>\n",
       "      <td>11</td>\n",
       "      <td>10</td>\n",
       "      <td>2</td>\n",
       "    </tr>\n",
       "    <tr>\n",
       "      <th>2</th>\n",
       "      <td>unknown</td>\n",
       "      <td>16</td>\n",
       "      <td>2</td>\n",
       "    </tr>\n",
       "    <tr>\n",
       "      <th rowspan=\"2\" valign=\"top\">tissue</th>\n",
       "      <th>1</th>\n",
       "      <td>10</td>\n",
       "      <td>11</td>\n",
       "      <td>2</td>\n",
       "    </tr>\n",
       "    <tr>\n",
       "      <th>2</th>\n",
       "      <td>1</td>\n",
       "      <td>15</td>\n",
       "      <td>2</td>\n",
       "    </tr>\n",
       "  </tbody>\n",
       "</table>\n",
       "<p>120 rows × 3 columns</p>\n",
       "</div>"
      ],
      "text/plain": [
       "                                                                       NEC  \\\n",
       "bacteria                                           sample context            \n",
       "Archaea \"Crenarchaeota\" Thermoprotei Acidilobal... tissue 1              2   \n",
       "                                                          2        unknown   \n",
       "Archaea \"Crenarchaeota\" Thermoprotei Acidilobal... stool  1        unknown   \n",
       "                                                          2        unknown   \n",
       "                                                   tissue 1             14   \n",
       "                                                          2        unknown   \n",
       "Archaea \"Crenarchaeota\" Thermoprotei Desulfuroc... stool  1              7   \n",
       "                                                          2        unknown   \n",
       "                                                   tissue 1             23   \n",
       "                                                          2              2   \n",
       "Archaea \"Crenarchaeota\" Thermoprotei Desulfuroc... tissue 2        unknown   \n",
       "Archaea \"Crenarchaeota\" Thermoprotei Desulfuroc... stool  1              1   \n",
       "                                                          2        unknown   \n",
       "                                                   tissue 1              1   \n",
       "                                                          2        unknown   \n",
       "Archaea \"Crenarchaeota\" Thermoprotei Desulfuroc... tissue 1        unknown   \n",
       "Archaea \"Crenarchaeota\" Thermoprotei Desulfuroc... stool  1        unknown   \n",
       "                                                   tissue 1              2   \n",
       "                                                          2        unknown   \n",
       "Archaea \"Crenarchaeota\" Thermoprotei Desulfuroc... tissue 1              1   \n",
       "Archaea \"Crenarchaeota\" Thermoprotei Desulfuroc... stool  1              1   \n",
       "                                                          2        unknown   \n",
       "                                                   tissue 1        unknown   \n",
       "                                                          2        unknown   \n",
       "Archaea \"Crenarchaeota\" Thermoprotei Desulfuroc... stool  1              2   \n",
       "                                                   tissue 1              2   \n",
       "                                                          2        unknown   \n",
       "Archaea \"Crenarchaeota\" Thermoprotei Sulfolobal... stool  1              5   \n",
       "                                                          2              1   \n",
       "                                                   tissue 1             10   \n",
       "...                                                                    ...   \n",
       "Archaea \"Euryarchaeota\" Halobacteria Halobacter... tissue 2        unknown   \n",
       "Archaea \"Euryarchaeota\" Halobacteria Halobacter... stool  1              3   \n",
       "                                                          2        unknown   \n",
       "                                                   tissue 1              5   \n",
       "                                                          2        unknown   \n",
       "Archaea \"Euryarchaeota\" Halobacteria Halobacter... stool  1              1   \n",
       "                                                          2        unknown   \n",
       "                                                   tissue 1        unknown   \n",
       "                                                          2        unknown   \n",
       "Archaea \"Euryarchaeota\" Halobacteria Halobacter... stool  1              3   \n",
       "                                                          2        unknown   \n",
       "                                                   tissue 1              2   \n",
       "                                                          2        unknown   \n",
       "Archaea \"Euryarchaeota\" Halobacteria Halobacter... stool  1        unknown   \n",
       "                                                          2        unknown   \n",
       "                                                   tissue 1             26   \n",
       "                                                          2        unknown   \n",
       "Archaea \"Euryarchaeota\" Methanobacteria Methano... stool  1              1   \n",
       "                                                          2        unknown   \n",
       "                                                   tissue 1              1   \n",
       "                                                          2        unknown   \n",
       "Archaea \"Euryarchaeota\" Methanococci Methanococ... stool  1        unknown   \n",
       "Archaea \"Euryarchaeota\" Methanopyri Methanopyra... stool  1             23   \n",
       "                                                          2              9   \n",
       "                                                   tissue 1             47   \n",
       "                                                          2             10   \n",
       "Archaea \"Euryarchaeota\" Thermoplasmata Thermopl... stool  1             11   \n",
       "                                                          2        unknown   \n",
       "                                                   tissue 1             10   \n",
       "                                                          2              1   \n",
       "\n",
       "                                                                   Control  \\\n",
       "bacteria                                           sample context            \n",
       "Archaea \"Crenarchaeota\" Thermoprotei Acidilobal... tissue 1              1   \n",
       "                                                          2              5   \n",
       "Archaea \"Crenarchaeota\" Thermoprotei Acidilobal... stool  1              1   \n",
       "                                                          2              1   \n",
       "                                                   tissue 1             15   \n",
       "                                                          2             26   \n",
       "Archaea \"Crenarchaeota\" Thermoprotei Desulfuroc... stool  1              8   \n",
       "                                                          2             16   \n",
       "                                                   tissue 1             14   \n",
       "                                                          2             28   \n",
       "Archaea \"Crenarchaeota\" Thermoprotei Desulfuroc... tissue 2              1   \n",
       "Archaea \"Crenarchaeota\" Thermoprotei Desulfuroc... stool  1              2   \n",
       "                                                          2              2   \n",
       "                                                   tissue 1              4   \n",
       "                                                          2              5   \n",
       "Archaea \"Crenarchaeota\" Thermoprotei Desulfuroc... tissue 1              1   \n",
       "Archaea \"Crenarchaeota\" Thermoprotei Desulfuroc... stool  1              1   \n",
       "                                                   tissue 1              1   \n",
       "                                                          2              2   \n",
       "Archaea \"Crenarchaeota\" Thermoprotei Desulfuroc... tissue 1        unknown   \n",
       "Archaea \"Crenarchaeota\" Thermoprotei Desulfuroc... stool  1              1   \n",
       "                                                          2              5   \n",
       "                                                   tissue 1              3   \n",
       "                                                          2              2   \n",
       "Archaea \"Crenarchaeota\" Thermoprotei Desulfuroc... stool  1              1   \n",
       "                                                   tissue 1        unknown   \n",
       "                                                          2              3   \n",
       "Archaea \"Crenarchaeota\" Thermoprotei Sulfolobal... stool  1              5   \n",
       "                                                          2              6   \n",
       "                                                   tissue 1              4   \n",
       "...                                                                    ...   \n",
       "Archaea \"Euryarchaeota\" Halobacteria Halobacter... tissue 2              2   \n",
       "Archaea \"Euryarchaeota\" Halobacteria Halobacter... stool  1              2   \n",
       "                                                          2              2   \n",
       "                                                   tissue 1              2   \n",
       "                                                          2              1   \n",
       "Archaea \"Euryarchaeota\" Halobacteria Halobacter... stool  1        unknown   \n",
       "                                                          2              1   \n",
       "                                                   tissue 1              1   \n",
       "                                                          2              1   \n",
       "Archaea \"Euryarchaeota\" Halobacteria Halobacter... stool  1              6   \n",
       "                                                          2              4   \n",
       "                                                   tissue 1              2   \n",
       "                                                          2              1   \n",
       "Archaea \"Euryarchaeota\" Halobacteria Halobacter... stool  1              4   \n",
       "                                                          2              2   \n",
       "                                                   tissue 1             27   \n",
       "                                                          2             36   \n",
       "Archaea \"Euryarchaeota\" Methanobacteria Methano... stool  1              1   \n",
       "                                                          2              1   \n",
       "                                                   tissue 1              1   \n",
       "                                                          2              4   \n",
       "Archaea \"Euryarchaeota\" Methanococci Methanococ... stool  1              1   \n",
       "Archaea \"Euryarchaeota\" Methanopyri Methanopyra... stool  1             59   \n",
       "                                                          2             50   \n",
       "                                                   tissue 1             46   \n",
       "                                                          2             72   \n",
       "Archaea \"Euryarchaeota\" Thermoplasmata Thermopl... stool  1             10   \n",
       "                                                          2             16   \n",
       "                                                   tissue 1             11   \n",
       "                                                          2             15   \n",
       "\n",
       "                                                                  extraction control  \n",
       "bacteria                                           sample context                     \n",
       "Archaea \"Crenarchaeota\" Thermoprotei Acidilobal... tissue 1                  unknown  \n",
       "                                                          2                  unknown  \n",
       "Archaea \"Crenarchaeota\" Thermoprotei Acidilobal... stool  1                  unknown  \n",
       "                                                          2                  unknown  \n",
       "                                                   tissue 1                  unknown  \n",
       "                                                          2                  unknown  \n",
       "Archaea \"Crenarchaeota\" Thermoprotei Desulfuroc... stool  1                        7  \n",
       "                                                          2                        7  \n",
       "                                                   tissue 1                        7  \n",
       "                                                          2                        7  \n",
       "Archaea \"Crenarchaeota\" Thermoprotei Desulfuroc... tissue 2                  unknown  \n",
       "Archaea \"Crenarchaeota\" Thermoprotei Desulfuroc... stool  1                  unknown  \n",
       "                                                          2                  unknown  \n",
       "                                                   tissue 1                  unknown  \n",
       "                                                          2                  unknown  \n",
       "Archaea \"Crenarchaeota\" Thermoprotei Desulfuroc... tissue 1                  unknown  \n",
       "Archaea \"Crenarchaeota\" Thermoprotei Desulfuroc... stool  1                  unknown  \n",
       "                                                   tissue 1                  unknown  \n",
       "                                                          2                  unknown  \n",
       "Archaea \"Crenarchaeota\" Thermoprotei Desulfuroc... tissue 1                  unknown  \n",
       "Archaea \"Crenarchaeota\" Thermoprotei Desulfuroc... stool  1                  unknown  \n",
       "                                                          2                  unknown  \n",
       "                                                   tissue 1                  unknown  \n",
       "                                                          2                  unknown  \n",
       "Archaea \"Crenarchaeota\" Thermoprotei Desulfuroc... stool  1                        2  \n",
       "                                                   tissue 1                        2  \n",
       "                                                          2                        2  \n",
       "Archaea \"Crenarchaeota\" Thermoprotei Sulfolobal... stool  1                        3  \n",
       "                                                          2                        3  \n",
       "                                                   tissue 1                        3  \n",
       "...                                                                              ...  \n",
       "Archaea \"Euryarchaeota\" Halobacteria Halobacter... tissue 2                  unknown  \n",
       "Archaea \"Euryarchaeota\" Halobacteria Halobacter... stool  1                        1  \n",
       "                                                          2                        1  \n",
       "                                                   tissue 1                        1  \n",
       "                                                          2                        1  \n",
       "Archaea \"Euryarchaeota\" Halobacteria Halobacter... stool  1                  unknown  \n",
       "                                                          2                  unknown  \n",
       "                                                   tissue 1                  unknown  \n",
       "                                                          2                  unknown  \n",
       "Archaea \"Euryarchaeota\" Halobacteria Halobacter... stool  1                        2  \n",
       "                                                          2                        2  \n",
       "                                                   tissue 1                        2  \n",
       "                                                          2                        2  \n",
       "Archaea \"Euryarchaeota\" Halobacteria Halobacter... stool  1                        4  \n",
       "                                                          2                        4  \n",
       "                                                   tissue 1                        4  \n",
       "                                                          2                        4  \n",
       "Archaea \"Euryarchaeota\" Methanobacteria Methano... stool  1                  unknown  \n",
       "                                                          2                  unknown  \n",
       "                                                   tissue 1                  unknown  \n",
       "                                                          2                  unknown  \n",
       "Archaea \"Euryarchaeota\" Methanococci Methanococ... stool  1                        1  \n",
       "Archaea \"Euryarchaeota\" Methanopyri Methanopyra... stool  1                       12  \n",
       "                                                          2                       12  \n",
       "                                                   tissue 1                       12  \n",
       "                                                          2                       12  \n",
       "Archaea \"Euryarchaeota\" Thermoplasmata Thermopl... stool  1                        2  \n",
       "                                                          2                        2  \n",
       "                                                   tissue 1                        2  \n",
       "                                                          2                        2  \n",
       "\n",
       "[120 rows x 3 columns]"
      ]
     },
     "execution_count": 44,
     "metadata": {},
     "output_type": "execute_result"
    }
   ],
   "source": [
    "bacterias = tissue_and_stool.index.get_level_values(0)\n",
    "mask = ['Archaea' in name for name in bacterias]\n",
    "tissue_and_stool.loc[mask]"
   ]
  },
  {
   "cell_type": "markdown",
   "metadata": {},
   "source": [
    "# Task 3. Class War in Titanic\n",
    "\n",
    "Use pandas to import the data file `Data/titanic.xls`. It contains data on all the passengers that travelled on the Titanic."
   ]
  },
  {
   "cell_type": "code",
   "execution_count": 45,
   "metadata": {},
   "outputs": [
    {
     "name": "stdout",
     "output_type": "stream",
     "text": [
      "Populating the interactive namespace from numpy and matplotlib\n"
     ]
    },
    {
     "name": "stderr",
     "output_type": "stream",
     "text": [
      "/Users/Mart/anaconda/lib/python3.6/site-packages/IPython/core/magics/pylab.py:161: UserWarning: pylab import has clobbered these variables: ['f']\n",
      "`%matplotlib` prevents importing * from pylab and numpy\n",
      "  \"\\n`%matplotlib` prevents importing * from pylab and numpy\"\n"
     ]
    }
   ],
   "source": [
    "# imports and random stuff (edited by us)\n",
    "%pylab inline\n",
    "# Website for maps of titanic: https://www.encyclopedia-titanica.org/titanic-deckplans/boat-deck.html\n",
    "# (as of friday 7 october)"
   ]
  },
  {
   "cell_type": "code",
   "execution_count": 46,
   "metadata": {
    "scrolled": true
   },
   "outputs": [
    {
     "data": {
      "text/html": [
       "<hr><h2>Data frame:titanic3</h2>1309 observations and 14 variables, maximum # NAs:1188<hr>\n",
       "<TABLE BORDER>\n",
       "<tr><td>Name</td><td>Labels</td><td>Units</td><td>Levels</td><td>Storage</td><td>NAs</td></tr>\n",
       "<tr><td>pclass</td><td></td><td></td><td><a href=\"#pclass\"><div align=right>  3</div></a></td><td>integer</td><td><div align=right>   0</div></td></tr>\n",
       "<tr><td>survived</td><td>Survived</td><td></td><td><div align=right></div></td><td>double</td><td><div align=right>   0</div></td></tr>\n",
       "<tr><td>name</td><td>Name</td><td></td><td><div align=right></div></td><td>character</td><td><div align=right>   0</div></td></tr>\n",
       "<tr><td>sex</td><td></td><td></td><td><a href=\"#sex\"><div align=right>  2</div></a></td><td>integer</td><td><div align=right>   0</div></td></tr>\n",
       "<tr><td>age</td><td>Age</td><td>Year</td><td><div align=right></div></td><td>double</td><td><div align=right> 263</div></td></tr>\n",
       "<tr><td>sibsp</td><td>Number of Siblings/Spouses Aboard</td><td></td><td><div align=right></div></td><td>double</td><td><div align=right>   0</div></td></tr>\n",
       "<tr><td>parch</td><td>Number of Parents/Children Aboard</td><td></td><td><div align=right></div></td><td>double</td><td><div align=right>   0</div></td></tr>\n",
       "<tr><td>ticket</td><td>Ticket Number</td><td></td><td><div align=right></div></td><td>character</td><td><div align=right>   0</div></td></tr>\n",
       "<tr><td>fare</td><td>Passenger Fare</td><td>British Pound (\\243)</td><td><div align=right></div></td><td>double</td><td><div align=right>   1</div></td></tr>\n",
       "<tr><td>cabin</td><td></td><td></td><td><a href=\"#cabin\"><div align=right>187</div></a></td><td>integer</td><td><div align=right>   0</div></td></tr>\n",
       "<tr><td>embarked</td><td></td><td></td><td><a href=\"#embarked\"><div align=right>  3</div></a></td><td>integer</td><td><div align=right>   2</div></td></tr>\n",
       "<tr><td>boat</td><td></td><td></td><td><a href=\"#boat\"><div align=right> 28</div></a></td><td>integer</td><td><div align=right>   0</div></td></tr>\n",
       "<tr><td>body</td><td>Body Identification Number</td><td></td><td><div align=right></div></td><td>double</td><td><div align=right>1188</div></td></tr>\n",
       "<tr><td>home.dest</td><td>Home/Destination</td><td></td><td><div align=right></div></td><td>character</td><td><div align=right>   0</div></td></tr>\n",
       "</TABLE>\n",
       "<hr>\n",
       "<TABLE BORDER>\n",
       "<tr><td>Variable</td><td>Levels</td></tr>\n",
       "<tr><td><a name=\"pclass\">pclass</a></td><td>1st</td></tr>\n",
       "<tr><td></td><td>2nd</td></tr>\n",
       "<tr><td></td><td>3rd</td></tr>\n",
       "<tr><td><a name=\"sex\">sex</a></td><td>female</td></tr>\n",
       "<tr><td></td><td>male</td></tr>\n",
       "<tr><td><a name=\"cabin\">cabin</a></td><td></td></tr>\n",
       "<tr><td></td><td>A10</td></tr>\n",
       "<tr><td></td><td>A11</td></tr>\n",
       "<tr><td></td><td>A14</td></tr>\n",
       "<tr><td></td><td>A16</td></tr>\n",
       "<tr><td></td><td>A18</td></tr>\n",
       "<tr><td></td><td>A19</td></tr>\n",
       "<tr><td></td><td>A20</td></tr>\n",
       "<tr><td></td><td>A21</td></tr>\n",
       "<tr><td></td><td>A23</td></tr>\n",
       "<tr><td></td><td>A24</td></tr>\n",
       "<tr><td></td><td>A26</td></tr>\n",
       "<tr><td></td><td>A29</td></tr>\n",
       "<tr><td></td><td>A31</td></tr>\n",
       "<tr><td></td><td>A32</td></tr>\n",
       "<tr><td></td><td>A34</td></tr>\n",
       "<tr><td></td><td>A36</td></tr>\n",
       "<tr><td></td><td>A5</td></tr>\n",
       "<tr><td></td><td>A6</td></tr>\n",
       "<tr><td></td><td>A7</td></tr>\n",
       "<tr><td></td><td>A9</td></tr>\n",
       "<tr><td></td><td>B10</td></tr>\n",
       "<tr><td></td><td>B101</td></tr>\n",
       "<tr><td></td><td>B102</td></tr>\n",
       "<tr><td></td><td>B11</td></tr>\n",
       "<tr><td></td><td>B18</td></tr>\n",
       "<tr><td></td><td>B19</td></tr>\n",
       "<tr><td></td><td>B20</td></tr>\n",
       "<tr><td></td><td>B22</td></tr>\n",
       "<tr><td></td><td>B24</td></tr>\n",
       "<tr><td></td><td>B26</td></tr>\n",
       "<tr><td></td><td>B28</td></tr>\n",
       "<tr><td></td><td>B3</td></tr>\n",
       "<tr><td></td><td>B30</td></tr>\n",
       "<tr><td></td><td>B35</td></tr>\n",
       "<tr><td></td><td>B36</td></tr>\n",
       "<tr><td></td><td>B37</td></tr>\n",
       "<tr><td></td><td>B38</td></tr>\n",
       "<tr><td></td><td>B39</td></tr>\n",
       "<tr><td></td><td>B4</td></tr>\n",
       "<tr><td></td><td>B41</td></tr>\n",
       "<tr><td></td><td>B42</td></tr>\n",
       "<tr><td></td><td>B45</td></tr>\n",
       "<tr><td></td><td>B49</td></tr>\n",
       "<tr><td></td><td>B5</td></tr>\n",
       "<tr><td></td><td>B50</td></tr>\n",
       "<tr><td></td><td>B51 B53 B55</td></tr>\n",
       "<tr><td></td><td>B52 B54 B56</td></tr>\n",
       "<tr><td></td><td>B57 B59 B63 B66</td></tr>\n",
       "<tr><td></td><td>B58 B60</td></tr>\n",
       "<tr><td></td><td>B61</td></tr>\n",
       "<tr><td></td><td>B69</td></tr>\n",
       "<tr><td></td><td>B71</td></tr>\n",
       "<tr><td></td><td>B73</td></tr>\n",
       "<tr><td></td><td>B77</td></tr>\n",
       "<tr><td></td><td>B78</td></tr>\n",
       "<tr><td></td><td>B79</td></tr>\n",
       "<tr><td></td><td>B80</td></tr>\n",
       "<tr><td></td><td>B82 B84</td></tr>\n",
       "<tr><td></td><td>B86</td></tr>\n",
       "<tr><td></td><td>B94</td></tr>\n",
       "<tr><td></td><td>B96 B98</td></tr>\n",
       "<tr><td></td><td>C101</td></tr>\n",
       "<tr><td></td><td>C103</td></tr>\n",
       "<tr><td></td><td>C104</td></tr>\n",
       "<tr><td></td><td>C105</td></tr>\n",
       "<tr><td></td><td>C106</td></tr>\n",
       "<tr><td></td><td>C110</td></tr>\n",
       "<tr><td></td><td>C111</td></tr>\n",
       "<tr><td></td><td>C116</td></tr>\n",
       "<tr><td></td><td>C118</td></tr>\n",
       "<tr><td></td><td>C123</td></tr>\n",
       "<tr><td></td><td>C124</td></tr>\n",
       "<tr><td></td><td>C125</td></tr>\n",
       "<tr><td></td><td>C126</td></tr>\n",
       "<tr><td></td><td>C128</td></tr>\n",
       "<tr><td></td><td>C130</td></tr>\n",
       "<tr><td></td><td>C132</td></tr>\n",
       "<tr><td></td><td>C148</td></tr>\n",
       "<tr><td></td><td>C2</td></tr>\n",
       "<tr><td></td><td>C22 C26</td></tr>\n",
       "<tr><td></td><td>C23 C25 C27</td></tr>\n",
       "<tr><td></td><td>C28</td></tr>\n",
       "<tr><td></td><td>C30</td></tr>\n",
       "<tr><td></td><td>C31</td></tr>\n",
       "<tr><td></td><td>C32</td></tr>\n",
       "<tr><td></td><td>C39</td></tr>\n",
       "<tr><td></td><td>C45</td></tr>\n",
       "<tr><td></td><td>C46</td></tr>\n",
       "<tr><td></td><td>C47</td></tr>\n",
       "<tr><td></td><td>C49</td></tr>\n",
       "<tr><td></td><td>C50</td></tr>\n",
       "<tr><td></td><td>C51</td></tr>\n",
       "<tr><td></td><td>C52</td></tr>\n",
       "<tr><td></td><td>C53</td></tr>\n",
       "<tr><td></td><td>C54</td></tr>\n",
       "<tr><td></td><td>C55 C57</td></tr>\n",
       "<tr><td></td><td>C6</td></tr>\n",
       "<tr><td></td><td>C62 C64</td></tr>\n",
       "<tr><td></td><td>C65</td></tr>\n",
       "<tr><td></td><td>C68</td></tr>\n",
       "<tr><td></td><td>C7</td></tr>\n",
       "<tr><td></td><td>C70</td></tr>\n",
       "<tr><td></td><td>C78</td></tr>\n",
       "<tr><td></td><td>C80</td></tr>\n",
       "<tr><td></td><td>C82</td></tr>\n",
       "<tr><td></td><td>C83</td></tr>\n",
       "<tr><td></td><td>C85</td></tr>\n",
       "<tr><td></td><td>C86</td></tr>\n",
       "<tr><td></td><td>C87</td></tr>\n",
       "<tr><td></td><td>C89</td></tr>\n",
       "<tr><td></td><td>C90</td></tr>\n",
       "<tr><td></td><td>C91</td></tr>\n",
       "<tr><td></td><td>C92</td></tr>\n",
       "<tr><td></td><td>C93</td></tr>\n",
       "<tr><td></td><td>C95</td></tr>\n",
       "<tr><td></td><td>C97</td></tr>\n",
       "<tr><td></td><td>C99</td></tr>\n",
       "<tr><td></td><td>D</td></tr>\n",
       "<tr><td></td><td>D10 D12</td></tr>\n",
       "<tr><td></td><td>D11</td></tr>\n",
       "<tr><td></td><td>D15</td></tr>\n",
       "<tr><td></td><td>D17</td></tr>\n",
       "<tr><td></td><td>D19</td></tr>\n",
       "<tr><td></td><td>D20</td></tr>\n",
       "<tr><td></td><td>D21</td></tr>\n",
       "<tr><td></td><td>D22</td></tr>\n",
       "<tr><td></td><td>D26</td></tr>\n",
       "<tr><td></td><td>D28</td></tr>\n",
       "<tr><td></td><td>D30</td></tr>\n",
       "<tr><td></td><td>D33</td></tr>\n",
       "<tr><td></td><td>D34</td></tr>\n",
       "<tr><td></td><td>D35</td></tr>\n",
       "<tr><td></td><td>D36</td></tr>\n",
       "<tr><td></td><td>D37</td></tr>\n",
       "<tr><td></td><td>D38</td></tr>\n",
       "<tr><td></td><td>D40</td></tr>\n",
       "<tr><td></td><td>D43</td></tr>\n",
       "<tr><td></td><td>D45</td></tr>\n",
       "<tr><td></td><td>D46</td></tr>\n",
       "<tr><td></td><td>D47</td></tr>\n",
       "<tr><td></td><td>D48</td></tr>\n",
       "<tr><td></td><td>D49</td></tr>\n",
       "<tr><td></td><td>D50</td></tr>\n",
       "<tr><td></td><td>D56</td></tr>\n",
       "<tr><td></td><td>D6</td></tr>\n",
       "<tr><td></td><td>D7</td></tr>\n",
       "<tr><td></td><td>D9</td></tr>\n",
       "<tr><td></td><td>E10</td></tr>\n",
       "<tr><td></td><td>E101</td></tr>\n",
       "<tr><td></td><td>E12</td></tr>\n",
       "<tr><td></td><td>E121</td></tr>\n",
       "<tr><td></td><td>E17</td></tr>\n",
       "<tr><td></td><td>E24</td></tr>\n",
       "<tr><td></td><td>E25</td></tr>\n",
       "<tr><td></td><td>E31</td></tr>\n",
       "<tr><td></td><td>E33</td></tr>\n",
       "<tr><td></td><td>E34</td></tr>\n",
       "<tr><td></td><td>E36</td></tr>\n",
       "<tr><td></td><td>E38</td></tr>\n",
       "<tr><td></td><td>E39 E41</td></tr>\n",
       "<tr><td></td><td>E40</td></tr>\n",
       "<tr><td></td><td>E44</td></tr>\n",
       "<tr><td></td><td>E45</td></tr>\n",
       "<tr><td></td><td>E46</td></tr>\n",
       "<tr><td></td><td>E49</td></tr>\n",
       "<tr><td></td><td>E50</td></tr>\n",
       "<tr><td></td><td>E52</td></tr>\n",
       "<tr><td></td><td>E58</td></tr>\n",
       "<tr><td></td><td>E60</td></tr>\n",
       "<tr><td></td><td>E63</td></tr>\n",
       "<tr><td></td><td>E67</td></tr>\n",
       "<tr><td></td><td>E68</td></tr>\n",
       "<tr><td></td><td>E77</td></tr>\n",
       "<tr><td></td><td>E8</td></tr>\n",
       "<tr><td></td><td>F</td></tr>\n",
       "<tr><td></td><td>F E46</td></tr>\n",
       "<tr><td></td><td>F E57</td></tr>\n",
       "<tr><td></td><td>F E69</td></tr>\n",
       "<tr><td></td><td>F G63</td></tr>\n",
       "<tr><td></td><td>F G73</td></tr>\n",
       "<tr><td></td><td>F2</td></tr>\n",
       "<tr><td></td><td>F33</td></tr>\n",
       "<tr><td></td><td>F38</td></tr>\n",
       "<tr><td></td><td>F4</td></tr>\n",
       "<tr><td></td><td>G6</td></tr>\n",
       "<tr><td></td><td>T</td></tr>\n",
       "<tr><td><a name=\"embarked\">embarked</a></td><td>Cherbourg</td></tr>\n",
       "<tr><td></td><td>Queenstown</td></tr>\n",
       "<tr><td></td><td>Southampton</td></tr>\n",
       "<tr><td><a name=\"boat\">boat</a></td><td></td></tr>\n",
       "<tr><td></td><td>1</td></tr>\n",
       "<tr><td></td><td>10</td></tr>\n",
       "<tr><td></td><td>11</td></tr>\n",
       "<tr><td></td><td>12</td></tr>\n",
       "<tr><td></td><td>13</td></tr>\n",
       "<tr><td></td><td>13 15</td></tr>\n",
       "<tr><td></td><td>13 15 B</td></tr>\n",
       "<tr><td></td><td>14</td></tr>\n",
       "<tr><td></td><td>15</td></tr>\n",
       "<tr><td></td><td>15 16</td></tr>\n",
       "<tr><td></td><td>16</td></tr>\n",
       "<tr><td></td><td>2</td></tr>\n",
       "<tr><td></td><td>3</td></tr>\n",
       "<tr><td></td><td>4</td></tr>\n",
       "<tr><td></td><td>5</td></tr>\n",
       "<tr><td></td><td>5 7</td></tr>\n",
       "<tr><td></td><td>5 9</td></tr>\n",
       "<tr><td></td><td>6</td></tr>\n",
       "<tr><td></td><td>7</td></tr>\n",
       "<tr><td></td><td>8</td></tr>\n",
       "<tr><td></td><td>8 10</td></tr>\n",
       "<tr><td></td><td>9</td></tr>\n",
       "<tr><td></td><td>A</td></tr>\n",
       "<tr><td></td><td>B</td></tr>\n",
       "<tr><td></td><td>C</td></tr>\n",
       "<tr><td></td><td>C D</td></tr>\n",
       "<tr><td></td><td>D</td></tr>\n",
       "</TABLE>\n",
       "<hr>\n"
      ],
      "text/plain": [
       "<IPython.core.display.HTML object>"
      ]
     },
     "execution_count": 46,
     "metadata": {},
     "output_type": "execute_result"
    }
   ],
   "source": [
    "DATA_FOLDER = 'Data' # Use the data folder provided in Tutorial 02 - Intro to Pandas.\n",
    "from IPython.core.display import HTML\n",
    "HTML(filename=DATA_FOLDER+'/titanic.html')"
   ]
  },
  {
   "cell_type": "markdown",
   "metadata": {},
   "source": [
    "For each of the following questions state clearly your assumptions and discuss your findings:\n",
    "1. Describe the *type* and the *value range* of each attribute. Indicate and transform the attributes that can be `Categorical`. \n",
    "2. Plot histograms for the *travel class*, *embarkation port*, *sex* and *age* attributes. For the latter one, use *discrete decade intervals*. \n",
    "3. Calculate the proportion of passengers by *cabin floor*. Present your results in a *pie chart*.\n",
    "4. For each *travel class*, calculate the proportion of the passengers that survived. Present your results in *pie charts*.\n",
    "5. Calculate the proportion of the passengers that survived by *travel class* and *sex*. Present your results in *a single histogram*.\n",
    "6. Create 2 equally populated *age categories* and calculate survival proportions by *age category*, *travel class* and *sex*. Present your results in a `DataFrame` with unique index."
   ]
  },
  {
   "cell_type": "markdown",
   "metadata": {},
   "source": [
    "We take a look to the dataset (here and in excel)"
   ]
  },
  {
   "cell_type": "code",
   "execution_count": 47,
   "metadata": {
    "scrolled": true
   },
   "outputs": [
    {
     "data": {
      "text/html": [
       "<div>\n",
       "<style>\n",
       "    .dataframe thead tr:only-child th {\n",
       "        text-align: right;\n",
       "    }\n",
       "\n",
       "    .dataframe thead th {\n",
       "        text-align: left;\n",
       "    }\n",
       "\n",
       "    .dataframe tbody tr th {\n",
       "        vertical-align: top;\n",
       "    }\n",
       "</style>\n",
       "<table border=\"1\" class=\"dataframe\">\n",
       "  <thead>\n",
       "    <tr style=\"text-align: right;\">\n",
       "      <th></th>\n",
       "      <th>pclass</th>\n",
       "      <th>survived</th>\n",
       "      <th>name</th>\n",
       "      <th>sex</th>\n",
       "      <th>age</th>\n",
       "      <th>sibsp</th>\n",
       "      <th>parch</th>\n",
       "      <th>ticket</th>\n",
       "      <th>fare</th>\n",
       "      <th>cabin</th>\n",
       "      <th>embarked</th>\n",
       "      <th>boat</th>\n",
       "      <th>body</th>\n",
       "      <th>home.dest</th>\n",
       "    </tr>\n",
       "  </thead>\n",
       "  <tbody>\n",
       "    <tr>\n",
       "      <th>0</th>\n",
       "      <td>1</td>\n",
       "      <td>1</td>\n",
       "      <td>Allen, Miss. Elisabeth Walton</td>\n",
       "      <td>female</td>\n",
       "      <td>29.00</td>\n",
       "      <td>0</td>\n",
       "      <td>0</td>\n",
       "      <td>24160</td>\n",
       "      <td>211.34</td>\n",
       "      <td>B5</td>\n",
       "      <td>S</td>\n",
       "      <td>2</td>\n",
       "      <td>NaN</td>\n",
       "      <td>St Louis, MO</td>\n",
       "    </tr>\n",
       "    <tr>\n",
       "      <th>1</th>\n",
       "      <td>1</td>\n",
       "      <td>1</td>\n",
       "      <td>Allison, Master. Hudson Trevor</td>\n",
       "      <td>male</td>\n",
       "      <td>0.92</td>\n",
       "      <td>1</td>\n",
       "      <td>2</td>\n",
       "      <td>113781</td>\n",
       "      <td>151.55</td>\n",
       "      <td>C22 C26</td>\n",
       "      <td>S</td>\n",
       "      <td>11</td>\n",
       "      <td>NaN</td>\n",
       "      <td>Montreal, PQ / Chesterville, ON</td>\n",
       "    </tr>\n",
       "    <tr>\n",
       "      <th>2</th>\n",
       "      <td>1</td>\n",
       "      <td>0</td>\n",
       "      <td>Allison, Miss. Helen Loraine</td>\n",
       "      <td>female</td>\n",
       "      <td>2.00</td>\n",
       "      <td>1</td>\n",
       "      <td>2</td>\n",
       "      <td>113781</td>\n",
       "      <td>151.55</td>\n",
       "      <td>C22 C26</td>\n",
       "      <td>S</td>\n",
       "      <td>NaN</td>\n",
       "      <td>NaN</td>\n",
       "      <td>Montreal, PQ / Chesterville, ON</td>\n",
       "    </tr>\n",
       "    <tr>\n",
       "      <th>3</th>\n",
       "      <td>1</td>\n",
       "      <td>0</td>\n",
       "      <td>Allison, Mr. Hudson Joshua Creighton</td>\n",
       "      <td>male</td>\n",
       "      <td>30.00</td>\n",
       "      <td>1</td>\n",
       "      <td>2</td>\n",
       "      <td>113781</td>\n",
       "      <td>151.55</td>\n",
       "      <td>C22 C26</td>\n",
       "      <td>S</td>\n",
       "      <td>NaN</td>\n",
       "      <td>135.0</td>\n",
       "      <td>Montreal, PQ / Chesterville, ON</td>\n",
       "    </tr>\n",
       "    <tr>\n",
       "      <th>4</th>\n",
       "      <td>1</td>\n",
       "      <td>0</td>\n",
       "      <td>Allison, Mrs. Hudson J C (Bessie Waldo Daniels)</td>\n",
       "      <td>female</td>\n",
       "      <td>25.00</td>\n",
       "      <td>1</td>\n",
       "      <td>2</td>\n",
       "      <td>113781</td>\n",
       "      <td>151.55</td>\n",
       "      <td>C22 C26</td>\n",
       "      <td>S</td>\n",
       "      <td>NaN</td>\n",
       "      <td>NaN</td>\n",
       "      <td>Montreal, PQ / Chesterville, ON</td>\n",
       "    </tr>\n",
       "  </tbody>\n",
       "</table>\n",
       "</div>"
      ],
      "text/plain": [
       "   pclass  survived                                             name     sex  \\\n",
       "0       1         1                    Allen, Miss. Elisabeth Walton  female   \n",
       "1       1         1                   Allison, Master. Hudson Trevor    male   \n",
       "2       1         0                     Allison, Miss. Helen Loraine  female   \n",
       "3       1         0             Allison, Mr. Hudson Joshua Creighton    male   \n",
       "4       1         0  Allison, Mrs. Hudson J C (Bessie Waldo Daniels)  female   \n",
       "\n",
       "     age  sibsp  parch  ticket    fare    cabin embarked boat   body  \\\n",
       "0  29.00      0      0   24160  211.34       B5        S    2    NaN   \n",
       "1   0.92      1      2  113781  151.55  C22 C26        S   11    NaN   \n",
       "2   2.00      1      2  113781  151.55  C22 C26        S  NaN    NaN   \n",
       "3  30.00      1      2  113781  151.55  C22 C26        S  NaN  135.0   \n",
       "4  25.00      1      2  113781  151.55  C22 C26        S  NaN    NaN   \n",
       "\n",
       "                         home.dest  \n",
       "0                     St Louis, MO  \n",
       "1  Montreal, PQ / Chesterville, ON  \n",
       "2  Montreal, PQ / Chesterville, ON  \n",
       "3  Montreal, PQ / Chesterville, ON  \n",
       "4  Montreal, PQ / Chesterville, ON  "
      ]
     },
     "execution_count": 47,
     "metadata": {},
     "output_type": "execute_result"
    }
   ],
   "source": [
    "# Import Titanic data \n",
    "data_file =DATA_FOLDER +'/titanic.xls'\n",
    "data = pd.read_excel(data_file)\n",
    "ori_data = data.copy()\n",
    "data.head(5)"
   ]
  },
  {
   "cell_type": "markdown",
   "metadata": {},
   "source": [
    "## Task 3.1. Question 1:\n",
    "1. Describe the *type* and the *value range* of each attribute. Indicate and transform the attributes that can be `Categorical`. "
   ]
  },
  {
   "cell_type": "markdown",
   "metadata": {},
   "source": [
    "We start by replacing the nan with values that are neither above the max value, neither below the min values (for example by replacing them either with the max or min value that we already see). \n",
    "It is not a clean way to do it but it is fast. We do it in a copy of the dataset. This is just to have a global idea, a more throughfully analysis is done jsut below."
   ]
  },
  {
   "cell_type": "code",
   "execution_count": 48,
   "metadata": {
    "collapsed": true
   },
   "outputs": [],
   "source": [
    "data['cabin'] = data['cabin'].fillna(\"M\") #not the right way, but will enable us to see the max easily\n",
    "data['embarked'] = data['embarked'].fillna(\"C\") #not the right way, but will enable us to see the max easily\n",
    "\n",
    "data['boat'] = data['boat'].fillna(\"1\") #not the right way, but will enable us to see the max easily\n",
    "data['home.dest'] = data['home.dest'].fillna(\"?z\") #not the right way, but will enable us to see the max easily"
   ]
  },
  {
   "cell_type": "markdown",
   "metadata": {},
   "source": [
    "Now we converted the types to string to use string comparisons:"
   ]
  },
  {
   "cell_type": "code",
   "execution_count": 49,
   "metadata": {
    "collapsed": true
   },
   "outputs": [],
   "source": [
    "data['ticket']    = data['ticket'].astype('str')\n",
    "data['home.dest'] = data['home.dest'].astype('str') \n",
    "data['cabin']     = data['cabin'].astype('str') \n",
    "data['boat']     = data['boat'].astype('str') \n",
    "data['embarked']     = data['embarked'].astype('str') "
   ]
  },
  {
   "cell_type": "markdown",
   "metadata": {},
   "source": [
    "Now we extract the types of our objects and find min-max values. We then merged everything together to make it more readable."
   ]
  },
  {
   "cell_type": "code",
   "execution_count": 50,
   "metadata": {
    "scrolled": false
   },
   "outputs": [
    {
     "data": {
      "text/html": [
       "<div>\n",
       "<style>\n",
       "    .dataframe thead tr:only-child th {\n",
       "        text-align: right;\n",
       "    }\n",
       "\n",
       "    .dataframe thead th {\n",
       "        text-align: left;\n",
       "    }\n",
       "\n",
       "    .dataframe tbody tr th {\n",
       "        vertical-align: top;\n",
       "    }\n",
       "</style>\n",
       "<table border=\"1\" class=\"dataframe\">\n",
       "  <thead>\n",
       "    <tr style=\"text-align: right;\">\n",
       "      <th></th>\n",
       "      <th>dtype</th>\n",
       "      <th>min_value</th>\n",
       "      <th>max_value</th>\n",
       "    </tr>\n",
       "  </thead>\n",
       "  <tbody>\n",
       "    <tr>\n",
       "      <th>pclass</th>\n",
       "      <td>int64</td>\n",
       "      <td>1</td>\n",
       "      <td>3</td>\n",
       "    </tr>\n",
       "    <tr>\n",
       "      <th>survived</th>\n",
       "      <td>int64</td>\n",
       "      <td>0</td>\n",
       "      <td>1</td>\n",
       "    </tr>\n",
       "    <tr>\n",
       "      <th>name</th>\n",
       "      <td>object</td>\n",
       "      <td>Abbing, Mr. Anthony</td>\n",
       "      <td>van Melkebeke, Mr. Philemon</td>\n",
       "    </tr>\n",
       "    <tr>\n",
       "      <th>sex</th>\n",
       "      <td>object</td>\n",
       "      <td>female</td>\n",
       "      <td>male</td>\n",
       "    </tr>\n",
       "    <tr>\n",
       "      <th>age</th>\n",
       "      <td>float64</td>\n",
       "      <td>0.17</td>\n",
       "      <td>80</td>\n",
       "    </tr>\n",
       "    <tr>\n",
       "      <th>sibsp</th>\n",
       "      <td>int64</td>\n",
       "      <td>0</td>\n",
       "      <td>8</td>\n",
       "    </tr>\n",
       "    <tr>\n",
       "      <th>parch</th>\n",
       "      <td>int64</td>\n",
       "      <td>0</td>\n",
       "      <td>9</td>\n",
       "    </tr>\n",
       "    <tr>\n",
       "      <th>ticket</th>\n",
       "      <td>object</td>\n",
       "      <td>110152</td>\n",
       "      <td>WE/P 5735</td>\n",
       "    </tr>\n",
       "    <tr>\n",
       "      <th>fare</th>\n",
       "      <td>float64</td>\n",
       "      <td>0</td>\n",
       "      <td>5.1e+02</td>\n",
       "    </tr>\n",
       "    <tr>\n",
       "      <th>cabin</th>\n",
       "      <td>object</td>\n",
       "      <td>A10</td>\n",
       "      <td>T</td>\n",
       "    </tr>\n",
       "    <tr>\n",
       "      <th>embarked</th>\n",
       "      <td>object</td>\n",
       "      <td>C</td>\n",
       "      <td>S</td>\n",
       "    </tr>\n",
       "    <tr>\n",
       "      <th>boat</th>\n",
       "      <td>object</td>\n",
       "      <td>1</td>\n",
       "      <td>D</td>\n",
       "    </tr>\n",
       "    <tr>\n",
       "      <th>body</th>\n",
       "      <td>float64</td>\n",
       "      <td>1</td>\n",
       "      <td>3.3e+02</td>\n",
       "    </tr>\n",
       "    <tr>\n",
       "      <th>home.dest</th>\n",
       "      <td>object</td>\n",
       "      <td>?Havana, Cuba</td>\n",
       "      <td>Zurich, Switzerland</td>\n",
       "    </tr>\n",
       "  </tbody>\n",
       "</table>\n",
       "</div>"
      ],
      "text/plain": [
       "             dtype            min_value                    max_value\n",
       "pclass       int64                    1                            3\n",
       "survived     int64                    0                            1\n",
       "name        object  Abbing, Mr. Anthony  van Melkebeke, Mr. Philemon\n",
       "sex         object               female                         male\n",
       "age        float64                 0.17                           80\n",
       "sibsp        int64                    0                            8\n",
       "parch        int64                    0                            9\n",
       "ticket      object               110152                    WE/P 5735\n",
       "fare       float64                    0                      5.1e+02\n",
       "cabin       object                  A10                            T\n",
       "embarked    object                    C                            S\n",
       "boat        object                    1                            D\n",
       "body       float64                    1                      3.3e+02\n",
       "home.dest   object        ?Havana, Cuba          Zurich, Switzerland"
      ]
     },
     "execution_count": 50,
     "metadata": {},
     "output_type": "execute_result"
    }
   ],
   "source": [
    "description = pd.DataFrame(data.dtypes.copy())\n",
    "min_data = pd.DataFrame(data.min())\n",
    "max_data = pd.DataFrame(data.max())\n",
    "\n",
    "description.columns=['dtype']\n",
    "min_data.columns=['min_value']\n",
    "max_data.columns=['max_value']\n",
    "tot=description.merge(min_data, left_index=True, right_index=True, how='outer')\\\n",
    "                .merge(max_data, left_index=True, right_index=True, how='outer')\n",
    "pd.concat([description,min_data,max_data],axis=1)"
   ]
  },
  {
   "cell_type": "markdown",
   "metadata": {},
   "source": [
    "This is mainly informative and give meaningfull infos just for categories with numeric values. For the others categories we will do it later."
   ]
  },
  {
   "cell_type": "markdown",
   "metadata": {},
   "source": [
    "Where above when there were numbers and character we compared them with the rules of string comparisons.\n",
    "\n",
    "We extract some more information as the number of nun-null values."
   ]
  },
  {
   "cell_type": "code",
   "execution_count": 51,
   "metadata": {},
   "outputs": [
    {
     "name": "stdout",
     "output_type": "stream",
     "text": [
      "<class 'pandas.core.frame.DataFrame'>\n",
      "RangeIndex: 1309 entries, 0 to 1308\n",
      "Data columns (total 14 columns):\n",
      "pclass       1309 non-null int64\n",
      "survived     1309 non-null int64\n",
      "name         1309 non-null object\n",
      "sex          1309 non-null object\n",
      "age          1046 non-null float64\n",
      "sibsp        1309 non-null int64\n",
      "parch        1309 non-null int64\n",
      "ticket       1309 non-null object\n",
      "fare         1308 non-null float64\n",
      "cabin        295 non-null object\n",
      "embarked     1307 non-null object\n",
      "boat         486 non-null object\n",
      "body         121 non-null float64\n",
      "home.dest    745 non-null object\n",
      "dtypes: float64(3), int64(4), object(7)\n",
      "memory usage: 143.2+ KB\n"
     ]
    }
   ],
   "source": [
    "ori_data.info()"
   ]
  },
  {
   "cell_type": "markdown",
   "metadata": {},
   "source": [
    "## Dataset infos: \n",
    "\n",
    "    *. There are 14 different categaories: \n",
    "        - pclass:   the passenger class $ \\in $ {1,2,3}, no missing data\n",
    "        - survived: binary value for survaval\n",
    "        - name:     full name, often in the form: [\"surname\", \"abreviated title\" \"names\"]\n",
    "        - sex:      gender: male or female\n",
    "        - age:      Age in years. If decimal value, we consider it was for representing age with months and days ecc.. (usually for examples for babies, in adults it may have been a typo)\n",
    "        - sibsp:    Number of siblings/spouses aboard\n",
    "        - parch:    Number of parents/childrens aboard\n",
    "        - ticket:   Ticket number (containing also characters)\n",
    "        - fare:     Prices of the ticket in british pounds\n",
    "        - cabin:    Cabin number of the form \"floor cabin-number\"\n",
    "        - embarked: Port in which the passenger has embarked\n",
    "        - boat:     The safety boat that the passenger took \n",
    "        - body:     Body number of dead passenger\n",
    "        - home.dest:Origin and destination of the passenger\n",
    "        \n",
    "    **Before** continuing any further lets eliminate the data in wich we are not interested, i.e.: \n",
    "        - boat\n",
    "        - sibsp. Could have been used to find out how many persons were in each cabins\n",
    "        - parch. Same remark than for sibsp\n",
    "        - body\n",
    "        - fare. May have been used to determine people by cabins\n",
    "        - name. May have been used to find spouses, children...\n",
    "        - ticket. May have been used to find out how many persons by cabins\n",
    "        - home.dest\n",
    "    \n",
    "    (consideration: instead of doing multiples dataframes, we could have added columns to the original, to avoid copies)\n",
    "        "
   ]
  },
  {
   "cell_type": "markdown",
   "metadata": {},
   "source": [
    "           \n",
    "    Categories that we kept, indicating if we could transforn them to categorical:\n",
    "        - pclass (-> categorical)\n",
    "        - embarked (-> categorical)\n",
    "        - sex (-> categorical)\n",
    "        - age (once by decades, once in tyo equally parted categories) (-> categorical for the decades)\n",
    "        - cabin floors (-> categorical)\n",
    "        - survived (-> categorical)"
   ]
  },
  {
   "cell_type": "markdown",
   "metadata": {},
   "source": [
    "### Notes for the titanic:\n",
    "\n",
    "    - The deck are: A,B,C,D,E,F,G + Boat deck + Orlop Deck + Tank Top. \n",
    "     Since there is only one person in T we suspected an error or it could be living in Tank Top... \n",
    "     After having seen the chart, it is not the tank top, so we counted it as an error.\n",
    "    - We assumed F E57 is the cabin E57 of floor F since on the floor F there are subsection named by letters. This may be an error.\n",
    "    \n",
    "Now I take again the original data and begin the data wrangling."
   ]
  },
  {
   "cell_type": "code",
   "execution_count": 52,
   "metadata": {},
   "outputs": [
    {
     "data": {
      "text/html": [
       "<div>\n",
       "<style>\n",
       "    .dataframe thead tr:only-child th {\n",
       "        text-align: right;\n",
       "    }\n",
       "\n",
       "    .dataframe thead th {\n",
       "        text-align: left;\n",
       "    }\n",
       "\n",
       "    .dataframe tbody tr th {\n",
       "        vertical-align: top;\n",
       "    }\n",
       "</style>\n",
       "<table border=\"1\" class=\"dataframe\">\n",
       "  <thead>\n",
       "    <tr style=\"text-align: right;\">\n",
       "      <th></th>\n",
       "      <th>pclass</th>\n",
       "      <th>survived</th>\n",
       "      <th>sex</th>\n",
       "      <th>age</th>\n",
       "      <th>cabin</th>\n",
       "      <th>embarked</th>\n",
       "    </tr>\n",
       "  </thead>\n",
       "  <tbody>\n",
       "    <tr>\n",
       "      <th>0</th>\n",
       "      <td>1</td>\n",
       "      <td>1</td>\n",
       "      <td>female</td>\n",
       "      <td>29.00</td>\n",
       "      <td>B5</td>\n",
       "      <td>S</td>\n",
       "    </tr>\n",
       "    <tr>\n",
       "      <th>1</th>\n",
       "      <td>1</td>\n",
       "      <td>1</td>\n",
       "      <td>male</td>\n",
       "      <td>0.92</td>\n",
       "      <td>C22 C26</td>\n",
       "      <td>S</td>\n",
       "    </tr>\n",
       "    <tr>\n",
       "      <th>2</th>\n",
       "      <td>1</td>\n",
       "      <td>0</td>\n",
       "      <td>female</td>\n",
       "      <td>2.00</td>\n",
       "      <td>C22 C26</td>\n",
       "      <td>S</td>\n",
       "    </tr>\n",
       "    <tr>\n",
       "      <th>3</th>\n",
       "      <td>1</td>\n",
       "      <td>0</td>\n",
       "      <td>male</td>\n",
       "      <td>30.00</td>\n",
       "      <td>C22 C26</td>\n",
       "      <td>S</td>\n",
       "    </tr>\n",
       "    <tr>\n",
       "      <th>4</th>\n",
       "      <td>1</td>\n",
       "      <td>0</td>\n",
       "      <td>female</td>\n",
       "      <td>25.00</td>\n",
       "      <td>C22 C26</td>\n",
       "      <td>S</td>\n",
       "    </tr>\n",
       "  </tbody>\n",
       "</table>\n",
       "</div>"
      ],
      "text/plain": [
       "   pclass  survived     sex    age    cabin embarked\n",
       "0       1         1  female  29.00       B5        S\n",
       "1       1         1    male   0.92  C22 C26        S\n",
       "2       1         0  female   2.00  C22 C26        S\n",
       "3       1         0    male  30.00  C22 C26        S\n",
       "4       1         0  female  25.00  C22 C26        S"
      ]
     },
     "execution_count": 52,
     "metadata": {},
     "output_type": "execute_result"
    }
   ],
   "source": [
    "originalDf = pd.read_excel(data_file)\n",
    "myDf = originalDf.copy()\n",
    "myDf.drop(['name','sibsp','parch','ticket','fare','boat','body','home.dest'],axis=1,inplace=True)\n",
    "df_dropped_col=myDf.copy()\n",
    "myDf.head()"
   ]
  },
  {
   "cell_type": "markdown",
   "metadata": {},
   "source": [
    "Transform the cabin column into one indicating the floor and adding a column indicating the number of cabin are associated to each passenger. \n",
    "\n",
    "Assumption: We haven't checked that each cabin nulber is a valid number for the given floor (it could be done with the map of the titanic for example). We assume that it is."
   ]
  },
  {
   "cell_type": "code",
   "execution_count": 53,
   "metadata": {},
   "outputs": [
    {
     "data": {
      "text/html": [
       "<div>\n",
       "<style>\n",
       "    .dataframe thead tr:only-child th {\n",
       "        text-align: right;\n",
       "    }\n",
       "\n",
       "    .dataframe thead th {\n",
       "        text-align: left;\n",
       "    }\n",
       "\n",
       "    .dataframe tbody tr th {\n",
       "        vertical-align: top;\n",
       "    }\n",
       "</style>\n",
       "<table border=\"1\" class=\"dataframe\">\n",
       "  <thead>\n",
       "    <tr style=\"text-align: right;\">\n",
       "      <th></th>\n",
       "      <th>pclass</th>\n",
       "      <th>survived</th>\n",
       "      <th>sex</th>\n",
       "      <th>age</th>\n",
       "      <th>cabin</th>\n",
       "      <th>embarked</th>\n",
       "      <th>cabin count</th>\n",
       "    </tr>\n",
       "  </thead>\n",
       "  <tbody>\n",
       "    <tr>\n",
       "      <th>0</th>\n",
       "      <td>1</td>\n",
       "      <td>1</td>\n",
       "      <td>female</td>\n",
       "      <td>29.00</td>\n",
       "      <td>B</td>\n",
       "      <td>S</td>\n",
       "      <td>1</td>\n",
       "    </tr>\n",
       "    <tr>\n",
       "      <th>1</th>\n",
       "      <td>1</td>\n",
       "      <td>1</td>\n",
       "      <td>male</td>\n",
       "      <td>0.92</td>\n",
       "      <td>C</td>\n",
       "      <td>S</td>\n",
       "      <td>2</td>\n",
       "    </tr>\n",
       "    <tr>\n",
       "      <th>2</th>\n",
       "      <td>1</td>\n",
       "      <td>0</td>\n",
       "      <td>female</td>\n",
       "      <td>2.00</td>\n",
       "      <td>C</td>\n",
       "      <td>S</td>\n",
       "      <td>2</td>\n",
       "    </tr>\n",
       "    <tr>\n",
       "      <th>3</th>\n",
       "      <td>1</td>\n",
       "      <td>0</td>\n",
       "      <td>male</td>\n",
       "      <td>30.00</td>\n",
       "      <td>C</td>\n",
       "      <td>S</td>\n",
       "      <td>2</td>\n",
       "    </tr>\n",
       "    <tr>\n",
       "      <th>4</th>\n",
       "      <td>1</td>\n",
       "      <td>0</td>\n",
       "      <td>female</td>\n",
       "      <td>25.00</td>\n",
       "      <td>C</td>\n",
       "      <td>S</td>\n",
       "      <td>2</td>\n",
       "    </tr>\n",
       "  </tbody>\n",
       "</table>\n",
       "</div>"
      ],
      "text/plain": [
       "   pclass  survived     sex    age cabin embarked cabin count\n",
       "0       1         1  female  29.00     B        S           1\n",
       "1       1         1    male   0.92     C        S           2\n",
       "2       1         0  female   2.00     C        S           2\n",
       "3       1         0    male  30.00     C        S           2\n",
       "4       1         0  female  25.00     C        S           2"
      ]
     },
     "execution_count": 53,
     "metadata": {},
     "output_type": "execute_result"
    }
   ],
   "source": [
    "myDf['cabin'] = myDf['cabin'].astype('str') \n",
    "\n",
    "myDf['cabin count']=pd.DataFrame(myDf['cabin'].str.split(\" \").apply(len))\n",
    "myDf.loc[myDf.cabin == \"nan\", 'cabin count'] = \"0\"\n",
    "\n",
    "myDf.cabin = myDf.cabin.transform(lambda x: x[0])\n",
    "myDf.head()"
   ]
  },
  {
   "cell_type": "markdown",
   "metadata": {},
   "source": [
    "##### Scan for wrong values for pclass:\n"
   ]
  },
  {
   "cell_type": "code",
   "execution_count": 54,
   "metadata": {
    "scrolled": false
   },
   "outputs": [
    {
     "name": "stdout",
     "output_type": "stream",
     "text": [
      "3    709\n",
      "1    323\n",
      "2    277\n",
      "Name: pclass, dtype: int64 \n",
      "\n",
      " True is good:  True\n"
     ]
    }
   ],
   "source": [
    "print(myDf.pclass.value_counts(),'\\n\\n True is good: ',myDf.pclass.value_counts().sum()==myDf.shape[0])"
   ]
  },
  {
   "cell_type": "markdown",
   "metadata": {},
   "source": [
    "##### Scan for wrong values for survived:"
   ]
  },
  {
   "cell_type": "code",
   "execution_count": 55,
   "metadata": {
    "scrolled": true
   },
   "outputs": [
    {
     "name": "stdout",
     "output_type": "stream",
     "text": [
      "False is good news! \n",
      " We have:  False\n"
     ]
    }
   ],
   "source": [
    "print('False is good news! \\n We have: ',any([(myDf['survived'] != 0) & (myDf['survived'] != 1)])) "
   ]
  },
  {
   "cell_type": "markdown",
   "metadata": {},
   "source": [
    "##### Scan for wrong values for sex:"
   ]
  },
  {
   "cell_type": "code",
   "execution_count": 56,
   "metadata": {
    "scrolled": true
   },
   "outputs": [
    {
     "name": "stdout",
     "output_type": "stream",
     "text": [
      "male      843\n",
      "female    466\n",
      "Name: sex, dtype: int64 \n",
      "\n",
      " True is good!  True\n",
      "Something wrong?  False\n"
     ]
    }
   ],
   "source": [
    "print(myDf.sex.value_counts(),'\\n\\n True is good! ',myDf.sex.value_counts().sum()== myDf.shape[0])\n",
    "# or we could do \n",
    "print('Something wrong? ',any([(myDf['sex'] != 'male') & (myDf['sex'] != 'female')])) # if return false, it is OK!"
   ]
  },
  {
   "cell_type": "markdown",
   "metadata": {},
   "source": [
    "##### Scan for wrong values for age:\n",
    "\n",
    "We have already seen the range which is reasonable, and we assume that the decimal reprensent the months so they are accepted."
   ]
  },
  {
   "cell_type": "code",
   "execution_count": 57,
   "metadata": {},
   "outputs": [
    {
     "name": "stdout",
     "output_type": "stream",
     "text": [
      "#(nan) = #(non-numeric)?   True\n"
     ]
    }
   ],
   "source": [
    "myDf_sortedAge = myDf.copy().sort_values(['age'], ascending=[1])\n",
    "#print(myDf_sortedAge.age.value_counts(),'\\n\\n',myDf.age.value_counts().sum())\n",
    "print('#(nan) = #(non-numeric)?  ',myDf.age.value_counts().sum() == myDf.copy().dropna(subset=['age']).shape[0])\n",
    "# if true is promted, it means that all non-identified values (by value_count) are NaN!"
   ]
  },
  {
   "cell_type": "markdown",
   "metadata": {},
   "source": [
    "##### Scan for wrong values for cabin:"
   ]
  },
  {
   "cell_type": "code",
   "execution_count": 58,
   "metadata": {
    "scrolled": true
   },
   "outputs": [
    {
     "name": "stdout",
     "output_type": "stream",
     "text": [
      "n    1014\n",
      "C      94\n",
      "B      65\n",
      "D      46\n",
      "E      41\n",
      "A      22\n",
      "F      21\n",
      "G       5\n",
      "T       1\n",
      "Name: cabin, dtype: int64\n"
     ]
    }
   ],
   "source": [
    "print(myDf.cabin.value_counts())"
   ]
  },
  {
   "cell_type": "markdown",
   "metadata": {},
   "source": [
    "considering T as a typo: he is the only one in T, and it doesn't seems like it is an habitable floor on the map\n",
    "Instead, we will put him in cabin C since it is the most recurrent! "
   ]
  },
  {
   "cell_type": "code",
   "execution_count": 59,
   "metadata": {},
   "outputs": [
    {
     "name": "stdout",
     "output_type": "stream",
     "text": [
      "n    1014\n",
      "C      95\n",
      "B      65\n",
      "D      46\n",
      "E      41\n",
      "A      22\n",
      "F      21\n",
      "G       5\n",
      "Name: cabin, dtype: int64\n"
     ]
    }
   ],
   "source": [
    "myDf.cabin[(myDf['cabin'] == 'T')]='C'\n",
    "print(myDf.cabin.value_counts())"
   ]
  },
  {
   "cell_type": "markdown",
   "metadata": {},
   "source": [
    "##### Scan for wrong values for embarked:"
   ]
  },
  {
   "cell_type": "code",
   "execution_count": 60,
   "metadata": {},
   "outputs": [
    {
     "name": "stdout",
     "output_type": "stream",
     "text": [
      "1307\n",
      "1309 if ==  1309 ,it is wonderful!\n"
     ]
    }
   ],
   "source": [
    "print(myDf.embarked.value_counts().sum())\n",
    "myDf[\"embarked\"][(myDf['embarked'] != 'C') & (myDf['embarked'] != 'Q') & (myDf['embarked'] != 'S')] = 'S'\n",
    "print(myDf.embarked.value_counts().sum() , 'if == ',myDf.shape[0],',it is wonderful!')"
   ]
  },
  {
   "cell_type": "markdown",
   "metadata": {},
   "source": [
    "##### Scan for wrong values for cabin count:"
   ]
  },
  {
   "cell_type": "code",
   "execution_count": 61,
   "metadata": {},
   "outputs": [
    {
     "name": "stdout",
     "output_type": "stream",
     "text": [
      "0    1014\n",
      "1     254\n",
      "2      26\n",
      "3      10\n",
      "4       5\n",
      "Name: cabin count, dtype: int64 \n",
      "\n",
      " 1309\n",
      "occupied found places:  356   closer to 1309 would be better\n"
     ]
    }
   ],
   "source": [
    "print(myDf['cabin count'].value_counts(),'\\n\\n',myDf['cabin count'].value_counts().sum())\n",
    "# the sum should be 1309 and the value taken should make sense to us\n",
    "result_tmp = 0\n",
    "for i in range(myDf['cabin count'].value_counts().shape[0]):\n",
    "    result_tmp += i*myDf['cabin count'].value_counts()[i]\n",
    "print('occupied found places: ',result_tmp, '  closer to 1309 would be better')"
   ]
  },
  {
   "cell_type": "markdown",
   "metadata": {},
   "source": [
    "There are too many persons without a room. Our assumption that all the persons wihtout a room where in reality associated with the multiple rooms of some passengers is then wrong. \n",
    "Our new options are:\n",
    "    - the spouses sleep with their partners \n",
    "    - sons sleep with parents (or we could just put families together)\n",
    "    \n",
    "Some possibilities:\n",
    "    - we could check what kind of room they booked... \n",
    "        - it could be linked with the different fares of same class tickets\n",
    "        - check on the plans of the titanic\n",
    "        \n",
    "We also checked that the # nan did not change before and after our modification. \n",
    "cabins with \"F \"another cabin\" have been considered as conataing two persons in F floor, since F floor has subsections with \"neiboorhood\" named after another floor. Plus the size allows us to add a person... but we should know more about the dataset to conclude."
   ]
  },
  {
   "cell_type": "code",
   "execution_count": 62,
   "metadata": {},
   "outputs": [
    {
     "name": "stdout",
     "output_type": "stream",
     "text": [
      "True\n"
     ]
    }
   ],
   "source": [
    "print(any([(myDf['cabin count'] != 0) & (myDf['cabin count'] != 1) & (myDf['cabin count'] != 2) & (myDf['cabin count'] != 3)]))"
   ]
  },
  {
   "cell_type": "markdown",
   "metadata": {},
   "source": [
    "#### Set everything as categorical ------------------------------------------------------------------\n",
    "every thing can be set to cateorical in our case, after some modifications of the code. For age, we are gonna separate the two cases:\n",
    "    - separation by decades\n",
    "    - separation by two equal classe\n",
    "and we will do it just after!\n"
   ]
  },
  {
   "cell_type": "code",
   "execution_count": 63,
   "metadata": {
    "collapsed": true
   },
   "outputs": [],
   "source": [
    "myDf['pclass']      = myDf['pclass'].astype('category')\n",
    "myDf['survived']    = myDf['survived'].astype('category')\n",
    "myDf['sex']         = myDf['sex'].astype('category')\n",
    "myDf['cabin']       = myDf['cabin'].astype('category')\n",
    "myDf['embarked']    = myDf['embarked'].astype('category')\n",
    "myDf['cabin count'] = myDf['cabin count'].astype('category')"
   ]
  },
  {
   "cell_type": "code",
   "execution_count": 64,
   "metadata": {
    "scrolled": true
   },
   "outputs": [
    {
     "data": {
      "text/html": [
       "<div>\n",
       "<style>\n",
       "    .dataframe thead tr:only-child th {\n",
       "        text-align: right;\n",
       "    }\n",
       "\n",
       "    .dataframe thead th {\n",
       "        text-align: left;\n",
       "    }\n",
       "\n",
       "    .dataframe tbody tr th {\n",
       "        vertical-align: top;\n",
       "    }\n",
       "</style>\n",
       "<table border=\"1\" class=\"dataframe\">\n",
       "  <thead>\n",
       "    <tr style=\"text-align: right;\">\n",
       "      <th></th>\n",
       "      <th>pclass</th>\n",
       "      <th>survived</th>\n",
       "      <th>sex</th>\n",
       "      <th>age</th>\n",
       "      <th>cabin</th>\n",
       "      <th>embarked</th>\n",
       "      <th>cabin count</th>\n",
       "    </tr>\n",
       "  </thead>\n",
       "  <tbody>\n",
       "    <tr>\n",
       "      <th>0</th>\n",
       "      <td>1</td>\n",
       "      <td>1</td>\n",
       "      <td>female</td>\n",
       "      <td>20.0</td>\n",
       "      <td>B</td>\n",
       "      <td>S</td>\n",
       "      <td>1</td>\n",
       "    </tr>\n",
       "    <tr>\n",
       "      <th>1</th>\n",
       "      <td>1</td>\n",
       "      <td>1</td>\n",
       "      <td>male</td>\n",
       "      <td>0.0</td>\n",
       "      <td>C</td>\n",
       "      <td>S</td>\n",
       "      <td>2</td>\n",
       "    </tr>\n",
       "    <tr>\n",
       "      <th>2</th>\n",
       "      <td>1</td>\n",
       "      <td>0</td>\n",
       "      <td>female</td>\n",
       "      <td>0.0</td>\n",
       "      <td>C</td>\n",
       "      <td>S</td>\n",
       "      <td>2</td>\n",
       "    </tr>\n",
       "    <tr>\n",
       "      <th>3</th>\n",
       "      <td>1</td>\n",
       "      <td>0</td>\n",
       "      <td>male</td>\n",
       "      <td>30.0</td>\n",
       "      <td>C</td>\n",
       "      <td>S</td>\n",
       "      <td>2</td>\n",
       "    </tr>\n",
       "    <tr>\n",
       "      <th>4</th>\n",
       "      <td>1</td>\n",
       "      <td>0</td>\n",
       "      <td>female</td>\n",
       "      <td>20.0</td>\n",
       "      <td>C</td>\n",
       "      <td>S</td>\n",
       "      <td>2</td>\n",
       "    </tr>\n",
       "  </tbody>\n",
       "</table>\n",
       "</div>"
      ],
      "text/plain": [
       "  pclass survived     sex   age cabin embarked cabin count\n",
       "0      1        1  female  20.0     B        S           1\n",
       "1      1        1    male   0.0     C        S           2\n",
       "2      1        0  female   0.0     C        S           2\n",
       "3      1        0    male  30.0     C        S           2\n",
       "4      1        0  female  20.0     C        S           2"
      ]
     },
     "execution_count": 64,
     "metadata": {},
     "output_type": "execute_result"
    }
   ],
   "source": [
    "# for the questions where we will need age in decades\n",
    "myDf_decades = myDf.copy()\n",
    "myDf_decades.age = myDf_decades.age.transform(lambda x: 10*floor(x/10))\n",
    "myDf_decades['age'] = myDf_decades['age'].astype('category')\n",
    "myDf_decades.head()"
   ]
  },
  {
   "cell_type": "code",
   "execution_count": 65,
   "metadata": {},
   "outputs": [
    {
     "data": {
      "text/html": [
       "<div>\n",
       "<style>\n",
       "    .dataframe thead tr:only-child th {\n",
       "        text-align: right;\n",
       "    }\n",
       "\n",
       "    .dataframe thead th {\n",
       "        text-align: left;\n",
       "    }\n",
       "\n",
       "    .dataframe tbody tr th {\n",
       "        vertical-align: top;\n",
       "    }\n",
       "</style>\n",
       "<table border=\"1\" class=\"dataframe\">\n",
       "  <thead>\n",
       "    <tr style=\"text-align: right;\">\n",
       "      <th></th>\n",
       "      <th>index</th>\n",
       "      <th>old index</th>\n",
       "      <th>pclass</th>\n",
       "      <th>survived</th>\n",
       "      <th>sex</th>\n",
       "      <th>age</th>\n",
       "      <th>cabin</th>\n",
       "      <th>embarked</th>\n",
       "      <th>cabin count</th>\n",
       "    </tr>\n",
       "  </thead>\n",
       "  <tbody>\n",
       "    <tr>\n",
       "      <th>0</th>\n",
       "      <td>0</td>\n",
       "      <td>763</td>\n",
       "      <td>3</td>\n",
       "      <td>1</td>\n",
       "      <td>female</td>\n",
       "      <td>1.0</td>\n",
       "      <td>n</td>\n",
       "      <td>S</td>\n",
       "      <td>0</td>\n",
       "    </tr>\n",
       "    <tr>\n",
       "      <th>1</th>\n",
       "      <td>1</td>\n",
       "      <td>747</td>\n",
       "      <td>3</td>\n",
       "      <td>0</td>\n",
       "      <td>male</td>\n",
       "      <td>1.0</td>\n",
       "      <td>n</td>\n",
       "      <td>S</td>\n",
       "      <td>0</td>\n",
       "    </tr>\n",
       "    <tr>\n",
       "      <th>2</th>\n",
       "      <td>2</td>\n",
       "      <td>1240</td>\n",
       "      <td>3</td>\n",
       "      <td>1</td>\n",
       "      <td>male</td>\n",
       "      <td>1.0</td>\n",
       "      <td>n</td>\n",
       "      <td>C</td>\n",
       "      <td>0</td>\n",
       "    </tr>\n",
       "    <tr>\n",
       "      <th>3</th>\n",
       "      <td>3</td>\n",
       "      <td>427</td>\n",
       "      <td>2</td>\n",
       "      <td>1</td>\n",
       "      <td>male</td>\n",
       "      <td>1.0</td>\n",
       "      <td>n</td>\n",
       "      <td>S</td>\n",
       "      <td>0</td>\n",
       "    </tr>\n",
       "    <tr>\n",
       "      <th>4</th>\n",
       "      <td>4</td>\n",
       "      <td>1111</td>\n",
       "      <td>3</td>\n",
       "      <td>0</td>\n",
       "      <td>male</td>\n",
       "      <td>1.0</td>\n",
       "      <td>n</td>\n",
       "      <td>S</td>\n",
       "      <td>0</td>\n",
       "    </tr>\n",
       "  </tbody>\n",
       "</table>\n",
       "</div>"
      ],
      "text/plain": [
       "   index  old index pclass survived     sex  age cabin embarked cabin count\n",
       "0      0        763      3        1  female  1.0     n        S           0\n",
       "1      1        747      3        0    male  1.0     n        S           0\n",
       "2      2       1240      3        1    male  1.0     n        C           0\n",
       "3      3        427      2        1    male  1.0     n        S           0\n",
       "4      4       1111      3        0    male  1.0     n        S           0"
      ]
     },
     "execution_count": 65,
     "metadata": {},
     "output_type": "execute_result"
    }
   ],
   "source": [
    "myDf_equalAge = myDf.copy()\n",
    "myDf_equalAge = myDf_equalAge.dropna(subset=['age'])\n",
    "\n",
    "\n",
    "myDf_equalAge.sort_values(by='age',inplace=True)\n",
    "myDf_equalAge.reset_index(drop=False,inplace=True)\n",
    "myDf_equalAge.rename(columns={'index' : 'old index'},inplace=True)\n",
    "myDf_equalAge.reset_index(drop=False,inplace=True)\n",
    "        \n",
    "half = myDf_equalAge.shape[0]/2\n",
    "myDf_equalAge['age'][myDf_equalAge['index'] < half] = 1\n",
    "myDf_equalAge['age'][myDf_equalAge['index'] >= half] = 2\n",
    "\n",
    "myDf_equalAge['age'] = myDf_equalAge['age'].astype('category')\n",
    "myDf_equalAge.head()"
   ]
  },
  {
   "cell_type": "markdown",
   "metadata": {},
   "source": [
    "Now we check if it is equally parted"
   ]
  },
  {
   "cell_type": "code",
   "execution_count": 66,
   "metadata": {},
   "outputs": [
    {
     "name": "stdout",
     "output_type": "stream",
     "text": [
      "523\n",
      "523\n",
      "1046\n"
     ]
    }
   ],
   "source": [
    "print(myDf_equalAge['age'][myDf_equalAge['age']==1].shape[0])\n",
    "print(myDf_equalAge['age'][myDf_equalAge['age']==2].shape[0])\n",
    "print(myDf_equalAge.shape[0])"
   ]
  },
  {
   "cell_type": "markdown",
   "metadata": {},
   "source": [
    "#### end of clean data --------------------------------------------------------------------------"
   ]
  },
  {
   "cell_type": "markdown",
   "metadata": {},
   "source": [
    "At this point everything is categorical. for cabins 'n' are not to be taken into account, since we will take it into account thanks to the cabin count 8our false assumption, that we keep for simplicity)"
   ]
  },
  {
   "cell_type": "markdown",
   "metadata": {},
   "source": [
    "### **From here the plots start** "
   ]
  },
  {
   "cell_type": "markdown",
   "metadata": {},
   "source": [
    "importing libraries for plotting:"
   ]
  },
  {
   "cell_type": "code",
   "execution_count": 67,
   "metadata": {},
   "outputs": [
    {
     "name": "stdout",
     "output_type": "stream",
     "text": [
      "Populating the interactive namespace from numpy and matplotlib\n"
     ]
    },
    {
     "name": "stderr",
     "output_type": "stream",
     "text": [
      "/Users/Mart/anaconda/lib/python3.6/site-packages/IPython/core/magics/pylab.py:161: UserWarning: pylab import has clobbered these variables: ['half']\n",
      "`%matplotlib` prevents importing * from pylab and numpy\n",
      "  \"\\n`%matplotlib` prevents importing * from pylab and numpy\"\n"
     ]
    }
   ],
   "source": [
    "import matplotlib.pyplot as plt\n",
    "%pylab inline\n",
    "import seaborn as sns\n",
    "sns.set_palette('Reds')\n",
    "sns.set_context(\"notebook\")"
   ]
  },
  {
   "cell_type": "markdown",
   "metadata": {},
   "source": [
    "## Task 3.2. Question 2:\n",
    "Plot histograms for the **travel class**, **embarkation port**, **sex** and **age** attributes. For the latter one, use **discrete decade intervals**."
   ]
  },
  {
   "cell_type": "markdown",
   "metadata": {},
   "source": [
    "##### Histogram travel class:"
   ]
  },
  {
   "cell_type": "code",
   "execution_count": 68,
   "metadata": {},
   "outputs": [
    {
     "data": {
      "image/png": "[encoded data removed]",
      "text/plain": [
       "<matplotlib.figure.Figure at 0x1184441d0>"
      ]
     },
     "metadata": {},
     "output_type": "display_data"
    }
   ],
   "source": [
    "def nice_bar_plot(title, data, n,xlabel,ylabel):\n",
    "    \n",
    "    fig, ax = plt.subplots()\n",
    "    ax.set_title(title, fontsize=15, fontweight='bold')\n",
    "    sns.barplot(data[:n].keys(), data[:n])\n",
    "    locs, labels = plt.xticks()\n",
    "    plt.setp(labels, rotation=0)\n",
    "    ax.set(xlabel=xlabel, ylabel=ylabel)\n",
    "\n",
    "tmp = None\n",
    "tmp = myDf.pclass.value_counts()\n",
    "nice_bar_plot('passenger classes',tmp,3,'classes','#passengers')"
   ]
  },
  {
   "cell_type": "markdown",
   "metadata": {},
   "source": [
    "##### histogramm imbarcation port:"
   ]
  },
  {
   "cell_type": "code",
   "execution_count": 69,
   "metadata": {},
   "outputs": [
    {
     "data": {
      "image/png": "[encoded data removed]",
      "text/plain": [
       "<matplotlib.figure.Figure at 0x11836fb38>"
      ]
     },
     "metadata": {},
     "output_type": "display_data"
    }
   ],
   "source": [
    "tmp = None\n",
    "tmp = myDf.embarked.value_counts()\n",
    "nice_bar_plot('Repartition embarcation port',tmp,3,'ports','#passengers')"
   ]
  },
  {
   "cell_type": "markdown",
   "metadata": {},
   "source": [
    "##### histogramm gender:"
   ]
  },
  {
   "cell_type": "code",
   "execution_count": 70,
   "metadata": {
    "scrolled": true
   },
   "outputs": [
    {
     "data": {
      "image/png": "[encoded data removed]",
      "text/plain": [
       "<matplotlib.figure.Figure at 0x118363e10>"
      ]
     },
     "metadata": {},
     "output_type": "display_data"
    }
   ],
   "source": [
    "tmp = None\n",
    "tmp = myDf.sex.value_counts()\n",
    "nice_bar_plot('Gender repartition',tmp,2,'Gender','#passengers')"
   ]
  },
  {
   "cell_type": "markdown",
   "metadata": {},
   "source": [
    "##### histogramm age:"
   ]
  },
  {
   "cell_type": "code",
   "execution_count": 71,
   "metadata": {
    "scrolled": true
   },
   "outputs": [
    {
     "data": {
      "image/png": "[encoded data removed]",
      "text/plain": [
       "<matplotlib.figure.Figure at 0x117f3e668>"
      ]
     },
     "metadata": {},
     "output_type": "display_data"
    }
   ],
   "source": [
    "tmp = None\n",
    "tmp = myDf_decades.age.value_counts()\n",
    "tmp.sort_index()\n",
    "nice_bar_plot('Age repartition by decades',tmp,myDf_decades.age.value_counts().shape[0],'decades [above]','#passengers')"
   ]
  },
  {
   "cell_type": "markdown",
   "metadata": {},
   "source": [
    "where 0.0 means [0,10[ "
   ]
  },
  {
   "cell_type": "markdown",
   "metadata": {},
   "source": [
    "## Task 3.3. Question 3: "
   ]
  },
  {
   "cell_type": "markdown",
   "metadata": {},
   "source": [
    "Calculate the proportion of passengers by cabin floor. Present your results in a pie chart."
   ]
  },
  {
   "cell_type": "markdown",
   "metadata": {},
   "source": [
    "##### If we exclude thoses without cabin (most general of our assunmptions)"
   ]
  },
  {
   "cell_type": "code",
   "execution_count": 72,
   "metadata": {
    "collapsed": true
   },
   "outputs": [],
   "source": [
    "floor_count = myDf.cabin.groupby(lambda x: myDf.cabin[x]).size()"
   ]
  },
  {
   "cell_type": "code",
   "execution_count": 73,
   "metadata": {},
   "outputs": [
    {
     "data": {
      "image/png": "[encoded data removed]",
      "text/plain": [
       "<matplotlib.figure.Figure at 0x117f1d630>"
      ]
     },
     "metadata": {},
     "output_type": "display_data"
    }
   ],
   "source": [
    "labels = list(floor_count.index)[:-1] # we exclude those without cabins\n",
    "sizes = list(floor_count)[:-1] # we exclude those without cabins\n",
    "argmax = np.argmax(sizes)\n",
    "explode = [0] * len(sizes)\n",
    "explode[argmax]=0.1\n",
    "plt.pie(sizes, labels=labels,autopct='%1.1f%%',explode=explode, shadow=True);\n",
    "plt.title('pie of passengers by floor (first assumption)',fontsize=15, fontweight='bold');"
   ]
  },
  {
   "cell_type": "markdown",
   "metadata": {},
   "source": [
    "##### if we count the number of cabins (a bit less general assumption)\n",
    "i.e. if a person has 2 cabins, we will count her/him twice (to implement)"
   ]
  },
  {
   "cell_type": "code",
   "execution_count": 74,
   "metadata": {},
   "outputs": [
    {
     "data": {
      "text/plain": [
       "[22, 96, 115, 48, 42, 28, 5, 0]"
      ]
     },
     "execution_count": 74,
     "metadata": {},
     "output_type": "execute_result"
    }
   ],
   "source": [
    "# for cabin count hypothesis: \n",
    "tmp = myDf.copy()\n",
    "tmp['cabin count'] = tmp['cabin count'].astype(int)\n",
    "grouped = tmp.groupby(by=['cabin'])[['cabin count']].sum()\n",
    "list(grouped['cabin count'])"
   ]
  },
  {
   "cell_type": "code",
   "execution_count": 75,
   "metadata": {},
   "outputs": [
    {
     "data": {
      "image/png": "[encoded data removed]",
      "text/plain": [
       "<matplotlib.figure.Figure at 0x1187887f0>"
      ]
     },
     "metadata": {},
     "output_type": "display_data"
    }
   ],
   "source": [
    "labels = list(grouped.index)[:-1]\n",
    "sizes = list(grouped['cabin count'])[:-1]\n",
    "argmax = np.argmax(sizes)\n",
    "explode = [0] * len(sizes)\n",
    "explode[argmax]=0.1\n",
    "plt.pie(sizes, labels=labels,autopct='%1.1f%%',explode=explode, shadow=True);\n",
    "plt.title('pie of passengers by floor (second assumption)',fontsize=15, fontweight='bold');"
   ]
  },
  {
   "cell_type": "markdown",
   "metadata": {},
   "source": [
    "## Task 3.4. Question 4:\n",
    "For each travel class, calculate the proportion of the passengers that survived. Present your results in pie charts."
   ]
  },
  {
   "cell_type": "code",
   "execution_count": 76,
   "metadata": {
    "collapsed": true
   },
   "outputs": [],
   "source": [
    "survived = pd.DataFrame(myDf['pclass'][myDf['survived'] == 1])\n",
    "total = pd.DataFrame(myDf['pclass'])\n",
    "grouped_survival = survived.groupby('pclass')\n",
    "grouped_tot = total.groupby('pclass')\n",
    "tmp = grouped_survival.size() / grouped_tot.size()"
   ]
  },
  {
   "cell_type": "code",
   "execution_count": 77,
   "metadata": {},
   "outputs": [
    {
     "data": {
      "image/png": "[encoded data removed]",
      "text/plain": [
       "<matplotlib.figure.Figure at 0x118788f98>"
      ]
     },
     "metadata": {},
     "output_type": "display_data"
    }
   ],
   "source": [
    "labels = list(tmp.index)\n",
    "sizes = list(tmp)\n",
    "argmax = np.argmax(sizes)\n",
    "explode = [0] * len(sizes)\n",
    "explode[argmax]=0.1\n",
    "plt.pie(sizes, labels=labels,autopct='%1.1f%%',explode=explode, shadow=True);\n",
    "plt.title('percentage of survivors by class',fontsize=15, fontweight='bold');"
   ]
  },
  {
   "cell_type": "markdown",
   "metadata": {},
   "source": [
    "## Task 3.5. Question 5:\n",
    "Calculate the proportion of the passengers that survived by travel class and sex. Present your results in a single histogram.\n",
    "\n",
    "Like the following but with proposrtions:"
   ]
  },
  {
   "cell_type": "code",
   "execution_count": 78,
   "metadata": {
    "scrolled": false
   },
   "outputs": [
    {
     "data": {
      "image/png": "[encoded data removed]",
      "text/plain": [
       "<matplotlib.figure.Figure at 0x1188ed1d0>"
      ]
     },
     "metadata": {},
     "output_type": "display_data"
    }
   ],
   "source": [
    "sns.set_style(\"whitegrid\")\n",
    "ax = sns.countplot(x=\"pclass\", data=myDf,hue=\"sex\", palette=\"Greens_d\");"
   ]
  },
  {
   "cell_type": "code",
   "execution_count": 79,
   "metadata": {},
   "outputs": [
    {
     "name": "stdout",
     "output_type": "stream",
     "text": [
      "  pclass  proportions   sex\n",
      "0      1         0.34  male\n",
      "1      2         0.15  male\n",
      "2      3         0.15  male\n",
      "  pclass  proportions     sex\n",
      "0      1         0.97  female\n",
      "1      2         0.89  female\n",
      "2      3         0.49  female\n"
     ]
    },
    {
     "data": {
      "text/html": [
       "<div>\n",
       "<style>\n",
       "    .dataframe thead tr:only-child th {\n",
       "        text-align: right;\n",
       "    }\n",
       "\n",
       "    .dataframe thead th {\n",
       "        text-align: left;\n",
       "    }\n",
       "\n",
       "    .dataframe tbody tr th {\n",
       "        vertical-align: top;\n",
       "    }\n",
       "</style>\n",
       "<table border=\"1\" class=\"dataframe\">\n",
       "  <thead>\n",
       "    <tr style=\"text-align: right;\">\n",
       "      <th></th>\n",
       "      <th>pclass</th>\n",
       "      <th>proportions</th>\n",
       "      <th>sex</th>\n",
       "    </tr>\n",
       "  </thead>\n",
       "  <tbody>\n",
       "    <tr>\n",
       "      <th>0</th>\n",
       "      <td>1</td>\n",
       "      <td>0.97</td>\n",
       "      <td>female</td>\n",
       "    </tr>\n",
       "    <tr>\n",
       "      <th>1</th>\n",
       "      <td>2</td>\n",
       "      <td>0.89</td>\n",
       "      <td>female</td>\n",
       "    </tr>\n",
       "    <tr>\n",
       "      <th>2</th>\n",
       "      <td>3</td>\n",
       "      <td>0.49</td>\n",
       "      <td>female</td>\n",
       "    </tr>\n",
       "    <tr>\n",
       "      <th>3</th>\n",
       "      <td>1</td>\n",
       "      <td>0.34</td>\n",
       "      <td>male</td>\n",
       "    </tr>\n",
       "    <tr>\n",
       "      <th>4</th>\n",
       "      <td>2</td>\n",
       "      <td>0.15</td>\n",
       "      <td>male</td>\n",
       "    </tr>\n",
       "    <tr>\n",
       "      <th>5</th>\n",
       "      <td>3</td>\n",
       "      <td>0.15</td>\n",
       "      <td>male</td>\n",
       "    </tr>\n",
       "  </tbody>\n",
       "</table>\n",
       "</div>"
      ],
      "text/plain": [
       "  pclass  proportions     sex\n",
       "0      1         0.97  female\n",
       "1      2         0.89  female\n",
       "2      3         0.49  female\n",
       "3      1         0.34    male\n",
       "4      2         0.15    male\n",
       "5      3         0.15    male"
      ]
     },
     "execution_count": 79,
     "metadata": {},
     "output_type": "execute_result"
    }
   ],
   "source": [
    "#for the males\n",
    "male_survived_byClass = pd.DataFrame(myDf['pclass'][(myDf['survived'] == 1) & (myDf['sex'] == 'male')])\n",
    "male_byClass = pd.DataFrame(myDf['pclass'][myDf['sex'] == 'male'])\n",
    "\n",
    "grouped_MS_byClass = male_survived_byClass.groupby('pclass')\n",
    "grouped_tot_male_byClass = male_byClass.groupby('pclass')\n",
    "\n",
    "#for the females\n",
    "female_survived_byClass = pd.DataFrame(myDf['pclass'][(myDf['survived'] == 1) & (myDf['sex'] == 'female')])\n",
    "female_byClass = pd.DataFrame(myDf['pclass'][myDf['sex'] == 'female'])\n",
    "\n",
    "\n",
    "grouped_FS_byClass = female_survived_byClass.groupby('pclass')\n",
    "grouped_tot_female_byClass = female_byClass.groupby('pclass')\n",
    "\n",
    "proportion_male_byClass = pd.DataFrame(grouped_MS_byClass.size()/grouped_tot_male_byClass.size())\n",
    "proportion_male_byClass.columns = ['proportions']\n",
    "proportion_male_byClass['sex'] = 'male'\n",
    "proportion_male_byClass.reset_index(drop=False,inplace=True)\n",
    "\n",
    "proportion_female_byClass = pd.DataFrame(grouped_FS_byClass.size()/grouped_tot_female_byClass.size())\n",
    "proportion_female_byClass.columns = ['proportions']\n",
    "proportion_female_byClass['sex'] = 'female'\n",
    "proportion_female_byClass.reset_index(drop=False,inplace=True)\n",
    "\n",
    "print(proportion_male_byClass )\n",
    "print(proportion_female_byClass)\n",
    "\n",
    "survived_bySexClass = proportion_female_byClass.merge(proportion_male_byClass,how='outer')\n",
    "survived_bySexClass"
   ]
  },
  {
   "cell_type": "code",
   "execution_count": 80,
   "metadata": {},
   "outputs": [
    {
     "data": {
      "image/png": "[encoded data removed]",
      "text/plain": [
       "<matplotlib.figure.Figure at 0x117cf1b38>"
      ]
     },
     "metadata": {},
     "output_type": "display_data"
    }
   ],
   "source": [
    "g = sns.factorplot(x=\"pclass\",y='proportions', hue='sex', data=survived_bySexClass, kind=\"bar\",\\\n",
    "                   palette=\"RdBu\",legend=True, margin_titles=True)"
   ]
  },
  {
   "cell_type": "markdown",
   "metadata": {},
   "source": [
    "The proprotions are w.r.t. themselves, e.g. The first column indicate the proportion of females of first class that survived w.r.t. the total number of females in first class.\n",
    "\n",
    "Seems like the men have stood up to the sentences \"women first\""
   ]
  },
  {
   "cell_type": "markdown",
   "metadata": {},
   "source": [
    "## Task 3.6. Question 6:    \n",
    "Create 2 equally populated age categories and calculate survival proportions by age category, travel class and sex. Present your results in a DataFrame with unique index."
   ]
  },
  {
   "cell_type": "markdown",
   "metadata": {},
   "source": [
    "##### note \n",
    "the categories have been done in \"myDf_equalAge\" variable"
   ]
  },
  {
   "cell_type": "code",
   "execution_count": 81,
   "metadata": {},
   "outputs": [
    {
     "name": "stdout",
     "output_type": "stream",
     "text": [
      "differences of #passengers between the two classes=  0\n"
     ]
    }
   ],
   "source": [
    "tmp1 = myDf_equalAge [(myDf_equalAge['age'] == 1) ].shape[0]\n",
    "tmp2 = myDf_equalAge [(myDf_equalAge['age'] == 2) ].shape[0]\n",
    "print('differences of #passengers between the two classes= ',tmp1-tmp2)"
   ]
  },
  {
   "cell_type": "code",
   "execution_count": 82,
   "metadata": {},
   "outputs": [
    {
     "data": {
      "text/html": [
       "<div>\n",
       "<style>\n",
       "    .dataframe thead tr:only-child th {\n",
       "        text-align: right;\n",
       "    }\n",
       "\n",
       "    .dataframe thead th {\n",
       "        text-align: left;\n",
       "    }\n",
       "\n",
       "    .dataframe tbody tr th {\n",
       "        vertical-align: top;\n",
       "    }\n",
       "</style>\n",
       "<table border=\"1\" class=\"dataframe\">\n",
       "  <thead>\n",
       "    <tr style=\"text-align: right;\">\n",
       "      <th></th>\n",
       "      <th>index</th>\n",
       "      <th>old index</th>\n",
       "      <th>pclass</th>\n",
       "      <th>survived</th>\n",
       "      <th>sex</th>\n",
       "      <th>age</th>\n",
       "      <th>cabin</th>\n",
       "      <th>embarked</th>\n",
       "      <th>cabin count</th>\n",
       "    </tr>\n",
       "  </thead>\n",
       "  <tbody>\n",
       "    <tr>\n",
       "      <th>0</th>\n",
       "      <td>0</td>\n",
       "      <td>763</td>\n",
       "      <td>3</td>\n",
       "      <td>1</td>\n",
       "      <td>female</td>\n",
       "      <td>1.0</td>\n",
       "      <td>n</td>\n",
       "      <td>S</td>\n",
       "      <td>0</td>\n",
       "    </tr>\n",
       "    <tr>\n",
       "      <th>1</th>\n",
       "      <td>1</td>\n",
       "      <td>747</td>\n",
       "      <td>3</td>\n",
       "      <td>0</td>\n",
       "      <td>male</td>\n",
       "      <td>1.0</td>\n",
       "      <td>n</td>\n",
       "      <td>S</td>\n",
       "      <td>0</td>\n",
       "    </tr>\n",
       "    <tr>\n",
       "      <th>2</th>\n",
       "      <td>2</td>\n",
       "      <td>1240</td>\n",
       "      <td>3</td>\n",
       "      <td>1</td>\n",
       "      <td>male</td>\n",
       "      <td>1.0</td>\n",
       "      <td>n</td>\n",
       "      <td>C</td>\n",
       "      <td>0</td>\n",
       "    </tr>\n",
       "    <tr>\n",
       "      <th>3</th>\n",
       "      <td>3</td>\n",
       "      <td>427</td>\n",
       "      <td>2</td>\n",
       "      <td>1</td>\n",
       "      <td>male</td>\n",
       "      <td>1.0</td>\n",
       "      <td>n</td>\n",
       "      <td>S</td>\n",
       "      <td>0</td>\n",
       "    </tr>\n",
       "    <tr>\n",
       "      <th>4</th>\n",
       "      <td>4</td>\n",
       "      <td>1111</td>\n",
       "      <td>3</td>\n",
       "      <td>0</td>\n",
       "      <td>male</td>\n",
       "      <td>1.0</td>\n",
       "      <td>n</td>\n",
       "      <td>S</td>\n",
       "      <td>0</td>\n",
       "    </tr>\n",
       "  </tbody>\n",
       "</table>\n",
       "</div>"
      ],
      "text/plain": [
       "   index  old index pclass survived     sex  age cabin embarked cabin count\n",
       "0      0        763      3        1  female  1.0     n        S           0\n",
       "1      1        747      3        0    male  1.0     n        S           0\n",
       "2      2       1240      3        1    male  1.0     n        C           0\n",
       "3      3        427      2        1    male  1.0     n        S           0\n",
       "4      4       1111      3        0    male  1.0     n        S           0"
      ]
     },
     "execution_count": 82,
     "metadata": {},
     "output_type": "execute_result"
    }
   ],
   "source": [
    "myDf_equalAge.head()"
   ]
  },
  {
   "cell_type": "markdown",
   "metadata": {},
   "source": [
    "Create df with the proportions of survived young (~= less than 36 years old) females by class"
   ]
  },
  {
   "cell_type": "code",
   "execution_count": 83,
   "metadata": {},
   "outputs": [
    {
     "data": {
      "text/html": [
       "<div>\n",
       "<style>\n",
       "    .dataframe thead tr:only-child th {\n",
       "        text-align: right;\n",
       "    }\n",
       "\n",
       "    .dataframe thead th {\n",
       "        text-align: left;\n",
       "    }\n",
       "\n",
       "    .dataframe tbody tr th {\n",
       "        vertical-align: top;\n",
       "    }\n",
       "</style>\n",
       "<table border=\"1\" class=\"dataframe\">\n",
       "  <thead>\n",
       "    <tr style=\"text-align: right;\">\n",
       "      <th></th>\n",
       "      <th>pclass</th>\n",
       "      <th>proportions</th>\n",
       "      <th>sex</th>\n",
       "      <th>age</th>\n",
       "    </tr>\n",
       "  </thead>\n",
       "  <tbody>\n",
       "    <tr>\n",
       "      <th>0</th>\n",
       "      <td>1</td>\n",
       "      <td>0.95</td>\n",
       "      <td>female</td>\n",
       "      <td>Young</td>\n",
       "    </tr>\n",
       "    <tr>\n",
       "      <th>1</th>\n",
       "      <td>2</td>\n",
       "      <td>0.91</td>\n",
       "      <td>female</td>\n",
       "      <td>Young</td>\n",
       "    </tr>\n",
       "    <tr>\n",
       "      <th>2</th>\n",
       "      <td>3</td>\n",
       "      <td>0.52</td>\n",
       "      <td>female</td>\n",
       "      <td>Young</td>\n",
       "    </tr>\n",
       "  </tbody>\n",
       "</table>\n",
       "</div>"
      ],
      "text/plain": [
       "  pclass  proportions     sex    age\n",
       "0      1         0.95  female  Young\n",
       "1      2         0.91  female  Young\n",
       "2      3         0.52  female  Young"
      ]
     },
     "execution_count": 83,
     "metadata": {},
     "output_type": "execute_result"
    }
   ],
   "source": [
    "#for the females 1\n",
    "female_survived_byClass_young = pd.DataFrame(myDf_equalAge['pclass']\\\n",
    "                                     [(myDf_equalAge['survived'] == 1) & \\\n",
    "                                      (myDf_equalAge['sex'] == 'female') &\\\n",
    "                                      (myDf_equalAge['age'] == 1)\n",
    "                                     ])\n",
    "\n",
    "female_byClass_young = pd.DataFrame(myDf_equalAge['pclass']\\\n",
    "                                     [(myDf_equalAge['sex'] == 'female') &\\\n",
    "                                      (myDf_equalAge['age'] == 1)\n",
    "                                     ])\n",
    "\n",
    "grouped_FSY_byClass = female_survived_byClass_young.groupby('pclass') #F female, S survived, Y young\n",
    "grouped_tot_FY_byClass = female_byClass_young.groupby('pclass')\n",
    "proportion_FY_byClass = pd.DataFrame(grouped_FSY_byClass.size()/grouped_tot_FY_byClass.size())\n",
    "proportion_FY_byClass.columns = ['proportions']\n",
    "proportion_FY_byClass['sex'] = 'female'\n",
    "proportion_FY_byClass['age'] = 'Young'\n",
    "proportion_FY_byClass.reset_index(drop=False,inplace=True)\n",
    "proportion_FY_byClass"
   ]
  },
  {
   "cell_type": "markdown",
   "metadata": {},
   "source": [
    "Create df with the proportions of survived old (~ 36+ years old) females by class"
   ]
  },
  {
   "cell_type": "code",
   "execution_count": 84,
   "metadata": {},
   "outputs": [
    {
     "data": {
      "text/html": [
       "<div>\n",
       "<style>\n",
       "    .dataframe thead tr:only-child th {\n",
       "        text-align: right;\n",
       "    }\n",
       "\n",
       "    .dataframe thead th {\n",
       "        text-align: left;\n",
       "    }\n",
       "\n",
       "    .dataframe tbody tr th {\n",
       "        vertical-align: top;\n",
       "    }\n",
       "</style>\n",
       "<table border=\"1\" class=\"dataframe\">\n",
       "  <thead>\n",
       "    <tr style=\"text-align: right;\">\n",
       "      <th></th>\n",
       "      <th>proportions</th>\n",
       "      <th>sex</th>\n",
       "      <th>age</th>\n",
       "    </tr>\n",
       "    <tr>\n",
       "      <th>pclass</th>\n",
       "      <th></th>\n",
       "      <th></th>\n",
       "      <th></th>\n",
       "    </tr>\n",
       "  </thead>\n",
       "  <tbody>\n",
       "    <tr>\n",
       "      <th>1</th>\n",
       "      <td>0.97</td>\n",
       "      <td>female</td>\n",
       "      <td>Old</td>\n",
       "    </tr>\n",
       "    <tr>\n",
       "      <th>2</th>\n",
       "      <td>0.88</td>\n",
       "      <td>female</td>\n",
       "      <td>Old</td>\n",
       "    </tr>\n",
       "    <tr>\n",
       "      <th>3</th>\n",
       "      <td>0.36</td>\n",
       "      <td>female</td>\n",
       "      <td>Old</td>\n",
       "    </tr>\n",
       "  </tbody>\n",
       "</table>\n",
       "</div>"
      ],
      "text/plain": [
       "        proportions     sex  age\n",
       "pclass                          \n",
       "1              0.97  female  Old\n",
       "2              0.88  female  Old\n",
       "3              0.36  female  Old"
      ]
     },
     "execution_count": 84,
     "metadata": {},
     "output_type": "execute_result"
    }
   ],
   "source": [
    "#for the females 2\n",
    "female_survived_byClass_old = pd.DataFrame(myDf_equalAge['pclass']\\\n",
    "                                     [(myDf_equalAge['survived'] == 1) & \\\n",
    "                                      (myDf_equalAge['sex'] == 'female') &\\\n",
    "                                      (myDf_equalAge['age'] == 2)\n",
    "                                     ])\n",
    "\n",
    "female_byClass_old = pd.DataFrame(myDf_equalAge['pclass']\\\n",
    "                                     [(myDf_equalAge['sex'] == 'female') &\\\n",
    "                                      (myDf_equalAge['age'] == 2)\n",
    "                                     ])\n",
    "\n",
    "grouped_FSO_byClass = female_survived_byClass_old.groupby('pclass') # O for old (it is the letter, not a 0)\n",
    "grouped_tot_FO_byClass = female_byClass_old.groupby('pclass')\n",
    "proportion_FO_byClass = pd.DataFrame(grouped_FSO_byClass.size()/grouped_tot_FO_byClass.size())\n",
    "proportion_FO_byClass.columns = ['proportions']\n",
    "proportion_FO_byClass['sex'] = 'female'\n",
    "proportion_FO_byClass['age'] = 'Old'\n",
    "proportion_FY_byClass.reset_index(drop=False,inplace=True)\n",
    "proportion_FO_byClass"
   ]
  },
  {
   "cell_type": "markdown",
   "metadata": {},
   "source": [
    "##### What about automating this procedure?"
   ]
  },
  {
   "cell_type": "code",
   "execution_count": 85,
   "metadata": {
    "collapsed": true
   },
   "outputs": [],
   "source": [
    "def func_q6_bis(df1,df2,sex,age):\n",
    "    tmp1 = df1.groupby('pclass')\n",
    "    tmp2 = df2.groupby('pclass')\n",
    "    return_ = pd.DataFrame(tmp1.size()/tmp2.size())\n",
    "    return_.columns = ['proportions']\n",
    "    return_['sex'] = sex\n",
    "    return_['age'] = age\n",
    "    return_.reset_index(drop=False,inplace=True)\n",
    "    return return_\n",
    "\n",
    "def func_q6(df,sex,age,age_category):\n",
    "    df1 = pd.DataFrame(df['pclass']\\\n",
    "                       [(df['survived'] == 1) & \\\n",
    "                        (df['sex'] == sex) &\\\n",
    "                        (df['age'] == age_category)\n",
    "                       ])\n",
    "    df2 = pd.DataFrame(df['pclass']\\\n",
    "                       [\n",
    "                        (df['sex'] == sex) &\\\n",
    "                        (df['age'] == age_category)\n",
    "                       ])   \n",
    "    return func_q6_bis(df1,df2,sex,age)\n"
   ]
  },
  {
   "cell_type": "markdown",
   "metadata": {},
   "source": [
    "We then compute all proportions for each gender and each age category (4 dataframes)"
   ]
  },
  {
   "cell_type": "code",
   "execution_count": 86,
   "metadata": {},
   "outputs": [
    {
     "data": {
      "text/html": [
       "<div>\n",
       "<style>\n",
       "    .dataframe thead tr:only-child th {\n",
       "        text-align: right;\n",
       "    }\n",
       "\n",
       "    .dataframe thead th {\n",
       "        text-align: left;\n",
       "    }\n",
       "\n",
       "    .dataframe tbody tr th {\n",
       "        vertical-align: top;\n",
       "    }\n",
       "</style>\n",
       "<table border=\"1\" class=\"dataframe\">\n",
       "  <thead>\n",
       "    <tr style=\"text-align: right;\">\n",
       "      <th></th>\n",
       "      <th>pclass</th>\n",
       "      <th>proportions</th>\n",
       "      <th>sex</th>\n",
       "      <th>age</th>\n",
       "    </tr>\n",
       "  </thead>\n",
       "  <tbody>\n",
       "    <tr>\n",
       "      <th>0</th>\n",
       "      <td>1</td>\n",
       "      <td>0.50</td>\n",
       "      <td>male</td>\n",
       "      <td>young</td>\n",
       "    </tr>\n",
       "    <tr>\n",
       "      <th>1</th>\n",
       "      <td>2</td>\n",
       "      <td>0.23</td>\n",
       "      <td>male</td>\n",
       "      <td>young</td>\n",
       "    </tr>\n",
       "    <tr>\n",
       "      <th>2</th>\n",
       "      <td>3</td>\n",
       "      <td>0.19</td>\n",
       "      <td>male</td>\n",
       "      <td>young</td>\n",
       "    </tr>\n",
       "  </tbody>\n",
       "</table>\n",
       "</div>"
      ],
      "text/plain": [
       "  pclass  proportions   sex    age\n",
       "0      1         0.50  male  young\n",
       "1      2         0.23  male  young\n",
       "2      3         0.19  male  young"
      ]
     },
     "execution_count": 86,
     "metadata": {},
     "output_type": "execute_result"
    }
   ],
   "source": [
    "proportions_FY_byClass = func_q6(df=myDf_equalAge ,sex='female',age='young',age_category=1)\n",
    "proportions_FO_byClass = func_q6(df=myDf_equalAge ,sex='female',age='old',age_category=2)\n",
    "\n",
    "proportions_MY_byClass = func_q6(df=myDf_equalAge ,sex='male',age='young',age_category=1)\n",
    "proportions_MO_byClass = func_q6(df=myDf_equalAge ,sex='male',age='old',age_category=2)\n",
    "\n",
    "proportions_MY_byClass"
   ]
  },
  {
   "cell_type": "markdown",
   "metadata": {},
   "source": [
    "**Finally: ** Aggregate the results in an unique dataframe with unique index"
   ]
  },
  {
   "cell_type": "code",
   "execution_count": 87,
   "metadata": {},
   "outputs": [
    {
     "data": {
      "text/html": [
       "<div>\n",
       "<style>\n",
       "    .dataframe thead tr:only-child th {\n",
       "        text-align: right;\n",
       "    }\n",
       "\n",
       "    .dataframe thead th {\n",
       "        text-align: left;\n",
       "    }\n",
       "\n",
       "    .dataframe tbody tr th {\n",
       "        vertical-align: top;\n",
       "    }\n",
       "</style>\n",
       "<table border=\"1\" class=\"dataframe\">\n",
       "  <thead>\n",
       "    <tr style=\"text-align: right;\">\n",
       "      <th></th>\n",
       "      <th></th>\n",
       "      <th></th>\n",
       "      <th>proportions</th>\n",
       "    </tr>\n",
       "    <tr>\n",
       "      <th>pclass</th>\n",
       "      <th>sex</th>\n",
       "      <th>age</th>\n",
       "      <th></th>\n",
       "    </tr>\n",
       "  </thead>\n",
       "  <tbody>\n",
       "    <tr>\n",
       "      <th rowspan=\"4\" valign=\"top\">1</th>\n",
       "      <th rowspan=\"2\" valign=\"top\">female</th>\n",
       "      <th>young</th>\n",
       "      <td>0.95</td>\n",
       "    </tr>\n",
       "    <tr>\n",
       "      <th>old</th>\n",
       "      <td>0.97</td>\n",
       "    </tr>\n",
       "    <tr>\n",
       "      <th rowspan=\"2\" valign=\"top\">male</th>\n",
       "      <th>young</th>\n",
       "      <td>0.50</td>\n",
       "    </tr>\n",
       "    <tr>\n",
       "      <th>old</th>\n",
       "      <td>0.31</td>\n",
       "    </tr>\n",
       "    <tr>\n",
       "      <th rowspan=\"4\" valign=\"top\">2</th>\n",
       "      <th rowspan=\"2\" valign=\"top\">female</th>\n",
       "      <th>young</th>\n",
       "      <td>0.91</td>\n",
       "    </tr>\n",
       "    <tr>\n",
       "      <th>old</th>\n",
       "      <td>0.88</td>\n",
       "    </tr>\n",
       "    <tr>\n",
       "      <th rowspan=\"2\" valign=\"top\">male</th>\n",
       "      <th>young</th>\n",
       "      <td>0.23</td>\n",
       "    </tr>\n",
       "    <tr>\n",
       "      <th>old</th>\n",
       "      <td>0.08</td>\n",
       "    </tr>\n",
       "    <tr>\n",
       "      <th rowspan=\"4\" valign=\"top\">3</th>\n",
       "      <th rowspan=\"2\" valign=\"top\">female</th>\n",
       "      <th>young</th>\n",
       "      <td>0.52</td>\n",
       "    </tr>\n",
       "    <tr>\n",
       "      <th>old</th>\n",
       "      <td>0.36</td>\n",
       "    </tr>\n",
       "    <tr>\n",
       "      <th rowspan=\"2\" valign=\"top\">male</th>\n",
       "      <th>young</th>\n",
       "      <td>0.19</td>\n",
       "    </tr>\n",
       "    <tr>\n",
       "      <th>old</th>\n",
       "      <td>0.14</td>\n",
       "    </tr>\n",
       "  </tbody>\n",
       "</table>\n",
       "</div>"
      ],
      "text/plain": [
       "                     proportions\n",
       "pclass sex    age               \n",
       "1      female young         0.95\n",
       "              old           0.97\n",
       "       male   young         0.50\n",
       "              old           0.31\n",
       "2      female young         0.91\n",
       "              old           0.88\n",
       "       male   young         0.23\n",
       "              old           0.08\n",
       "3      female young         0.52\n",
       "              old           0.36\n",
       "       male   young         0.19\n",
       "              old           0.14"
      ]
     },
     "execution_count": 87,
     "metadata": {},
     "output_type": "execute_result"
    }
   ],
   "source": [
    "survived_bySexClassAge = proportions_FY_byClass.merge(proportions_FO_byClass,how='outer')\\\n",
    "                                            .merge(proportions_MY_byClass,how='outer')\\\n",
    "                                            .merge(proportions_MO_byClass,how='outer')\n",
    "\n",
    "survived_bySexClassAge = survived_bySexClassAge[['pclass','sex','age','proportions']].sort_values('pclass')\n",
    "survived_bySexClassAge.set_index(['pclass', 'sex', 'age'],inplace=True)\n",
    "survived_bySexClassAge"
   ]
  },
  {
   "cell_type": "markdown",
   "metadata": {},
   "source": [
    "Which is the answer of the sixth question."
   ]
  },
  {
   "cell_type": "markdown",
   "metadata": {},
   "source": [
    "### Conclusions: \n",
    "\n",
    "- There are about twice the number of passengers in third class than in the two others which have about the same number of passengers. \n",
    "- There are about 1.7 the number of males than females\n",
    "- Most of the people embarked at Southampton\n",
    "- Most of the peoples have between 20 and 30 years\n",
    "- Most of the peoples were in decks B and C (although we weren't able to place a lot of passengers)\n",
    "- The survival rate of first class passengers is almost as big as the survival rate of the two other classes\n",
    "- Females have a higher survival rate\n",
    "- The better passenger class the better the survival rate\n",
    "- having less than 36 years improves your survival rate "
   ]
  }
 ],
 "metadata": {
  "kernelspec": {
   "display_name": "Python 3",
   "language": "python",
   "name": "python3"
  },
  "language_info": {
   "codemirror_mode": {
    "name": "ipython",
    "version": 3
   },
   "file_extension": ".py",
   "mimetype": "text/x-python",
   "name": "python",
   "nbconvert_exporter": "python",
   "pygments_lexer": "ipython3",
   "version": "3.6.1"
  },
  "name": "_merged_merged"
 },
 "nbformat": 4,
 "nbformat_minor": 2
}
