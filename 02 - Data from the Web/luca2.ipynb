{
 "cells": [
  {
   "cell_type": "markdown",
   "metadata": {},
   "source": [
    "# 02 - Data from the Web\n",
    "\n",
    "## Deadline\n",
    "Wednesday October 25, 2017 at 11:59PM\n",
    "\n",
    "## Important Notes\n",
    "* Make sure you push on GitHub your Notebook with all the cells already evaluated (i.e., you don't want your colleagues to generate unnecessary Web traffic during the peer review)\n",
    "* Don't forget to add a textual description of your thought process, the assumptions you made, and the solution you plan to implement!\n",
    "* Please write all your comments in English, and use meaningful variable names in your code.\n",
    "\n",
    "## Background\n",
    "In this homework we will extract interesting information from www.topuniversities.com and www.timeshighereducation.com, two platforms that maintain a global ranking of worldwide universities. This ranking is not offered as a downloadable dataset, so you will have to find a way to scrape the information we need!\n",
    "You are not allowed to download manually the entire ranking -- rather you have to understand how the server loads it in your browser. For this task, Postman with the Interceptor extension can help you greatly. We recommend that you watch this [brief tutorial](https://www.youtube.com/watch?v=jBjXVrS8nXs&list=PLM-7VG-sgbtD8qBnGeQM5nvlpqB_ktaLZ&autoplay=1) to understand quickly how to use it.\n",
    "\n",
    "## Assignment\n",
    "1. Obtain the 200 top-ranking universities in www.topuniversities.com ([ranking 2018](https://www.topuniversities.com/university-rankings/world-university-rankings/2018)). In particular, extract the following fields for each university: name, rank, country and region, number of faculty members (international and total) and number of students (international and total). Some information is not available in the main list and you have to find them in the [details page](https://www.topuniversities.com/universities/ecole-polytechnique-fÃ©dÃ©rale-de-lausanne-epfl).\n",
    "Store the resulting dataset in a pandas DataFrame and answer the following questions:\n",
    "- Which are the best universities in term of: (a) ratio between faculty members and students, (b) ratio of international students?\n",
    "- Answer the previous question aggregating the data by (c) country and (d) region.\n",
    "\n",
    "Plot your data using bar charts and describe briefly what you observed.\n",
    "\n",
    "2. Obtain the 200 top-ranking universities in www.timeshighereducation.com ([ranking 2018](http://timeshighereducation.com/world-university-rankings/2018/world-ranking)). Repeat the analysis of the previous point and discuss briefly what you observed.\n",
    "\n",
    "3. Merge the two DataFrames created in questions 1 and 2 using university names. Match universities' names as well as you can, and explain your strategy. Keep track of the original position in both rankings.\n",
    "\n",
    "4. Find useful insights in the data by performing an exploratory analysis. Can you find a strong correlation between any pair of variables in the dataset you just created? Example: when a university is strong in its international dimension, can you observe a consistency both for students and faculty members?\n",
    "\n",
    "5. Can you find the best university taking in consideration both rankings? Explain your approach.\n",
    "\n",
    "Hints:\n",
    "- Keep your Notebook clean and don't print the verbose output of the requests if this does not add useful information for the reader.\n",
    "- In case of tie, use the order defined in the webpage.\n",
    "\n"
   ]
  },
  {
   "cell_type": "code",
   "execution_count": 1,
   "metadata": {
    "collapsed": true
   },
   "outputs": [],
   "source": [
    "# Import libraries\n",
    "# to install selenium in Anaconda type in bash the following line: \n",
    "# $ conda install -c conda-forge selenium\n",
    "import requests\n",
    "from bs4 import BeautifulSoup\n",
    "import json\n",
    "import pandas as pd"
   ]
  },
  {
   "cell_type": "code",
   "execution_count": 2,
   "metadata": {},
   "outputs": [
    {
     "name": "stdout",
     "output_type": "stream",
     "text": [
      "r = <Response [200]> // status_code = 200\n"
     ]
    },
    {
     "data": {
      "text/html": [
       "<div>\n",
       "<style>\n",
       "    .dataframe thead tr:only-child th {\n",
       "        text-align: right;\n",
       "    }\n",
       "\n",
       "    .dataframe thead th {\n",
       "        text-align: left;\n",
       "    }\n",
       "\n",
       "    .dataframe tbody tr th {\n",
       "        vertical-align: top;\n",
       "    }\n",
       "</style>\n",
       "<table border=\"1\" class=\"dataframe\">\n",
       "  <thead>\n",
       "    <tr style=\"text-align: right;\">\n",
       "      <th></th>\n",
       "      <th>name</th>\n",
       "      <th>rank</th>\n",
       "      <th>stats_number_students</th>\n",
       "      <th>stats_student_staff_ratio</th>\n",
       "      <th>stats_pc_intl_students</th>\n",
       "    </tr>\n",
       "  </thead>\n",
       "  <tbody>\n",
       "    <tr>\n",
       "      <th>0</th>\n",
       "      <td>University of Oxford</td>\n",
       "      <td>1</td>\n",
       "      <td>20,409</td>\n",
       "      <td>11.2</td>\n",
       "      <td>38%</td>\n",
       "    </tr>\n",
       "    <tr>\n",
       "      <th>1</th>\n",
       "      <td>University of Cambridge</td>\n",
       "      <td>2</td>\n",
       "      <td>18,389</td>\n",
       "      <td>10.9</td>\n",
       "      <td>35%</td>\n",
       "    </tr>\n",
       "    <tr>\n",
       "      <th>2</th>\n",
       "      <td>California Institute of Technology</td>\n",
       "      <td>=3</td>\n",
       "      <td>2,209</td>\n",
       "      <td>6.5</td>\n",
       "      <td>27%</td>\n",
       "    </tr>\n",
       "    <tr>\n",
       "      <th>3</th>\n",
       "      <td>Stanford University</td>\n",
       "      <td>=3</td>\n",
       "      <td>15,845</td>\n",
       "      <td>7.5</td>\n",
       "      <td>22%</td>\n",
       "    </tr>\n",
       "    <tr>\n",
       "      <th>4</th>\n",
       "      <td>Massachusetts Institute of Technology</td>\n",
       "      <td>5</td>\n",
       "      <td>11,177</td>\n",
       "      <td>8.7</td>\n",
       "      <td>34%</td>\n",
       "    </tr>\n",
       "  </tbody>\n",
       "</table>\n",
       "</div>"
      ],
      "text/plain": [
       "                                    name rank stats_number_students  \\\n",
       "0                   University of Oxford    1                20,409   \n",
       "1                University of Cambridge    2                18,389   \n",
       "2     California Institute of Technology   =3                 2,209   \n",
       "3                    Stanford University   =3                15,845   \n",
       "4  Massachusetts Institute of Technology    5                11,177   \n",
       "\n",
       "  stats_student_staff_ratio stats_pc_intl_students  \n",
       "0                      11.2                    38%  \n",
       "1                      10.9                    35%  \n",
       "2                       6.5                    27%  \n",
       "3                       7.5                    22%  \n",
       "4                       8.7                    34%  "
      ]
     },
     "execution_count": 2,
     "metadata": {},
     "output_type": "execute_result"
    }
   ],
   "source": [
    "# Make the request\n",
    "URL = 'https://www.timeshighereducation.com/sites/default/files/the_data_rankings/'\\\n",
    "                +'world_university_rankings_2018_limit0_369a9045a203e176392b9fb8f8c1cb2a.json'\n",
    "r = requests.get(URL)\n",
    "print('r = {r} // status_code = {status}'.format(r=r,status=r.status_code))\n",
    "r.content\n",
    "soupp = BeautifulSoup(r.content,'html.parser')\n",
    "rank_json = json.loads(r.text)\n",
    "rank_df = pd.DataFrame()\n",
    "rank_df = rank_df.from_dict(rank_json['data']).head(200)\n",
    "rank_df = rank_df[['name', 'rank', 'stats_number_students', 'stats_student_staff_ratio', 'stats_pc_intl_students']]\n",
    "rank_df.head()"
   ]
  },
  {
   "cell_type": "code",
   "execution_count": 3,
   "metadata": {},
   "outputs": [
    {
     "data": {
      "text/plain": [
       "name                         object\n",
       "rank                         object\n",
       "stats_number_students        object\n",
       "stats_student_staff_ratio    object\n",
       "stats_pc_intl_students       object\n",
       "dtype: object"
      ]
     },
     "execution_count": 3,
     "metadata": {},
     "output_type": "execute_result"
    }
   ],
   "source": [
    "rank_df.dtypes"
   ]
  },
  {
   "cell_type": "code",
   "execution_count": 4,
   "metadata": {
    "collapsed": true
   },
   "outputs": [],
   "source": [
    "rank_df.stats_pc_intl_students = rank_df.stats_pc_intl_students.str.replace('%', '').astype('double')/100\n",
    "rank_df.stats_number_students = rank_df.stats_number_students.str.replace(',', '').astype('int')\n",
    "rank_df.stats_student_staff_ratio=rank_df.stats_student_staff_ratio.astype(float)\n",
    "rank_df['fac_memb_int'] = -99\n",
    "rank_df['fac_memb_tot'] = rank_df['stats_number_students']/rank_df['stats_student_staff_ratio']\n",
    "rank_df['nb_stud_int'] = rank_df['stats_number_students']*rank_df['stats_pc_intl_students']\n",
    "rank_df['fac_memb_tot'] = rank_df['fac_memb_tot'].astype(int)\n",
    "rank_df['nb_stud_int'] = rank_df['nb_stud_int'].astype(int)\n",
    "rank_df['stats_staff_student_ratio'] = 1/rank_df['stats_student_staff_ratio']\n",
    "rank_df=rank_df.drop('stats_student_staff_ratio', axis=1)\n",
    "rank_df['rank'] = rank_df['rank'].astype(str)\n",
    "rank_df['rank'] = rank_df['rank'].replace({r'=': ''}, regex=True).apply(pd.to_numeric).astype(int)"
   ]
  },
  {
   "cell_type": "code",
   "execution_count": 6,
   "metadata": {},
   "outputs": [
    {
     "data": {
      "text/html": [
       "<div>\n",
       "<style>\n",
       "    .dataframe thead tr:only-child th {\n",
       "        text-align: right;\n",
       "    }\n",
       "\n",
       "    .dataframe thead th {\n",
       "        text-align: left;\n",
       "    }\n",
       "\n",
       "    .dataframe tbody tr th {\n",
       "        vertical-align: top;\n",
       "    }\n",
       "</style>\n",
       "<table border=\"1\" class=\"dataframe\">\n",
       "  <thead>\n",
       "    <tr style=\"text-align: right;\">\n",
       "      <th></th>\n",
       "      <th>name</th>\n",
       "      <th>rank</th>\n",
       "      <th>stats_number_students</th>\n",
       "      <th>stats_pc_intl_students</th>\n",
       "      <th>fac_memb_int</th>\n",
       "      <th>fac_memb_tot</th>\n",
       "      <th>nb_stud_int</th>\n",
       "      <th>stats_staff_student_ratio</th>\n",
       "    </tr>\n",
       "  </thead>\n",
       "  <tbody>\n",
       "    <tr>\n",
       "      <th>0</th>\n",
       "      <td>University of Oxford</td>\n",
       "      <td>1</td>\n",
       "      <td>20409</td>\n",
       "      <td>0.38</td>\n",
       "      <td>-99</td>\n",
       "      <td>1822</td>\n",
       "      <td>7755</td>\n",
       "      <td>0.089286</td>\n",
       "    </tr>\n",
       "    <tr>\n",
       "      <th>1</th>\n",
       "      <td>University of Cambridge</td>\n",
       "      <td>2</td>\n",
       "      <td>18389</td>\n",
       "      <td>0.35</td>\n",
       "      <td>-99</td>\n",
       "      <td>1687</td>\n",
       "      <td>6436</td>\n",
       "      <td>0.091743</td>\n",
       "    </tr>\n",
       "    <tr>\n",
       "      <th>2</th>\n",
       "      <td>California Institute of Technology</td>\n",
       "      <td>3</td>\n",
       "      <td>2209</td>\n",
       "      <td>0.27</td>\n",
       "      <td>-99</td>\n",
       "      <td>339</td>\n",
       "      <td>596</td>\n",
       "      <td>0.153846</td>\n",
       "    </tr>\n",
       "    <tr>\n",
       "      <th>3</th>\n",
       "      <td>Stanford University</td>\n",
       "      <td>3</td>\n",
       "      <td>15845</td>\n",
       "      <td>0.22</td>\n",
       "      <td>-99</td>\n",
       "      <td>2112</td>\n",
       "      <td>3485</td>\n",
       "      <td>0.133333</td>\n",
       "    </tr>\n",
       "    <tr>\n",
       "      <th>4</th>\n",
       "      <td>Massachusetts Institute of Technology</td>\n",
       "      <td>5</td>\n",
       "      <td>11177</td>\n",
       "      <td>0.34</td>\n",
       "      <td>-99</td>\n",
       "      <td>1284</td>\n",
       "      <td>3800</td>\n",
       "      <td>0.114943</td>\n",
       "    </tr>\n",
       "  </tbody>\n",
       "</table>\n",
       "</div>"
      ],
      "text/plain": [
       "                                    name  rank  stats_number_students  \\\n",
       "0                   University of Oxford     1                  20409   \n",
       "1                University of Cambridge     2                  18389   \n",
       "2     California Institute of Technology     3                   2209   \n",
       "3                    Stanford University     3                  15845   \n",
       "4  Massachusetts Institute of Technology     5                  11177   \n",
       "\n",
       "   stats_pc_intl_students  fac_memb_int  fac_memb_tot  nb_stud_int  \\\n",
       "0                    0.38           -99          1822         7755   \n",
       "1                    0.35           -99          1687         6436   \n",
       "2                    0.27           -99           339          596   \n",
       "3                    0.22           -99          2112         3485   \n",
       "4                    0.34           -99          1284         3800   \n",
       "\n",
       "   stats_staff_student_ratio  \n",
       "0                   0.089286  \n",
       "1                   0.091743  \n",
       "2                   0.153846  \n",
       "3                   0.133333  \n",
       "4                   0.114943  "
      ]
     },
     "execution_count": 6,
     "metadata": {},
     "output_type": "execute_result"
    }
   ],
   "source": [
    "rank_df.head()"
   ]
  },
  {
   "cell_type": "code",
   "execution_count": 7,
   "metadata": {},
   "outputs": [
    {
     "data": {
      "text/plain": [
       "name                          object\n",
       "rank                           int64\n",
       "stats_number_students          int64\n",
       "stats_pc_intl_students       float64\n",
       "fac_memb_int                   int64\n",
       "fac_memb_tot                   int64\n",
       "nb_stud_int                    int64\n",
       "stats_staff_student_ratio    float64\n",
       "dtype: object"
      ]
     },
     "execution_count": 7,
     "metadata": {},
     "output_type": "execute_result"
    }
   ],
   "source": [
    "rank_df.dtypes"
   ]
  },
  {
   "cell_type": "code",
   "execution_count": 8,
   "metadata": {
    "collapsed": true
   },
   "outputs": [],
   "source": []
  },
  {
   "cell_type": "code",
   "execution_count": 10,
   "metadata": {},
   "outputs": [],
   "source": [
    "list1 = list(rank_df['name'])\n"
   ]
  },
  {
   "cell_type": "code",
   "execution_count": 14,
   "metadata": {},
   "outputs": [
    {
     "ename": "AttributeError",
     "evalue": "'list' object has no attribute 'dtype'",
     "output_type": "error",
     "traceback": [
      "\u001b[0;31m---------------------------------------------------------------------------\u001b[0m",
      "\u001b[0;31mAttributeError\u001b[0m                            Traceback (most recent call last)",
      "\u001b[0;32m<ipython-input-14-f7c84f18530b>\u001b[0m in \u001b[0;36m<module>\u001b[0;34m()\u001b[0m\n\u001b[0;32m----> 1\u001b[0;31m \u001b[0mlist1\u001b[0m\u001b[0;34m.\u001b[0m\u001b[0mdtype\u001b[0m\u001b[0;34m\u001b[0m\u001b[0m\n\u001b[0m",
      "\u001b[0;31mAttributeError\u001b[0m: 'list' object has no attribute 'dtype'"
     ]
    }
   ],
   "source": []
  },
  {
   "cell_type": "code",
   "execution_count": null,
   "metadata": {
    "collapsed": true
   },
   "outputs": [],
   "source": []
  }
 ],
 "metadata": {
  "kernelspec": {
   "display_name": "Python 3",
   "language": "python",
   "name": "python3"
  },
  "language_info": {
   "codemirror_mode": {
    "name": "ipython",
    "version": 3
   },
   "file_extension": ".py",
   "mimetype": "text/x-python",
   "name": "python",
   "nbconvert_exporter": "python",
   "pygments_lexer": "ipython3",
   "version": "3.6.1"
  }
 },
 "nbformat": 4,
 "nbformat_minor": 2
}
