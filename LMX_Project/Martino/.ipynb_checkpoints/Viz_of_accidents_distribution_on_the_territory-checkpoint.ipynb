{
 "cells": [
  {
   "cell_type": "markdown",
   "metadata": {},
   "source": [
    "# DRIVE SAFE IN GENEVA\n"
   ]
  },
  {
   "cell_type": "markdown",
   "metadata": {},
   "source": [
    "## Table of Contents\n",
    "\n",
    "<p><div class=\"lev1\"> <a href='#1Project_planning'><span class=\"toc-item-num\">1.&nbsp;&nbsp;</span>Project planning</a> </div> \n",
    "<div class=\"lev1\"><a href='#2Dataset_description'><span class=\"toc-item-num\">2.&nbsp;&nbsp;</span>Dataset description</a></div> \n",
    "<div class=\"lev1\"><a href='#3Understand_data'><span class=\"toc-item-num\">3.&nbsp;&nbsp;</span>Understand the data</a></div> \n",
    "<div class=\"lev1\"><a href='#31Libraries'><span class=\"toc-item-num\">3.1&nbsp;&nbsp;</span>Libraries import and dataset load</a></div>\n",
    "<div class=\"lev1\"><a href='#32Feature'><span class=\"toc-item-num\">3.2&nbsp;&nbsp;</span>Feature subgroup exploration</a></div>\n",
    "<div class=\"lev1\"><a href='#321Time'><span class=\"toc-item-num\">3.2.1&nbsp;&nbsp;</span>Time</a></div>\n",
    "<div class=\"lev1\"><a href='#322Localisation'><span class=\"toc-item-num\">3.2.2&nbsp;&nbsp;</span>Localisation</a></div>\n",
    "<div class=\"lev1\"><a href='#323Conditions'><span class=\"toc-item-num\">3.2.3&nbsp;&nbsp;</span>Conditions</a></div>\n",
    "<div class=\"lev1\"><a href='#324Accident'><span class=\"toc-item-num\">3.2.4&nbsp;&nbsp;</span>Accident type</a></div>\n",
    "</p>"
   ]
  },
  {
   "cell_type": "markdown",
   "metadata": {},
   "source": [
    "## 3.1. Libraries import and  dataset load\n",
    "<a id='31Libraries'></a>"
   ]
  },
  {
   "cell_type": "code",
   "execution_count": 126,
   "metadata": {
    "collapsed": true
   },
   "outputs": [],
   "source": [
    "# Import libraries\n",
    "import pandas as pd\n",
    "import numpy as np\n",
    "import branca.colormap as cm # for color steps\n",
    "import matplotlib.pyplot as plt\n",
    "import seaborn as sns\n",
    "%matplotlib inline \n",
    "\n",
    "import folium\n",
    "\n",
    "from pyproj import Proj, transform\n",
    "\n",
    "from datetime import datetime\n",
    "from datetime import date, time\n",
    "from dateutil.parser import parse"
   ]
  },
  {
   "cell_type": "code",
   "execution_count": 2,
   "metadata": {
    "collapsed": true
   },
   "outputs": [],
   "source": [
    "# Read the dataset\n",
    "acc_data = '../_data/OTC_ACCIDENTS.csv'\n",
    "compt_trafic_data = '../_data/OTC_COMPTAGE_TRAFIC.csv'\n",
    "acc_df = pd.read_csv(acc_data, sep=';', encoding='latin-1')\n",
    "compt_trafic_df = pd.read_csv(compt_trafic_data, sep=';', encoding='latin-1')"
   ]
  },
  {
   "cell_type": "code",
   "execution_count": 3,
   "metadata": {},
   "outputs": [
    {
     "data": {
      "text/html": [
       "<div>\n",
       "<style>\n",
       "    .dataframe thead tr:only-child th {\n",
       "        text-align: right;\n",
       "    }\n",
       "\n",
       "    .dataframe thead th {\n",
       "        text-align: left;\n",
       "    }\n",
       "\n",
       "    .dataframe tbody tr th {\n",
       "        vertical-align: top;\n",
       "    }\n",
       "</style>\n",
       "<table border=\"1\" class=\"dataframe\">\n",
       "  <thead>\n",
       "    <tr style=\"text-align: right;\">\n",
       "      <th></th>\n",
       "      <th>ID_ACCIDENT</th>\n",
       "      <th>DATE_</th>\n",
       "      <th>GROUPE_ACCIDENT</th>\n",
       "      <th>CAUSE</th>\n",
       "      <th>COMMUNE</th>\n",
       "      <th>CONDITIONS_LUMINEUSES</th>\n",
       "      <th>CONDITIONS_METEO</th>\n",
       "      <th>CONSEQUENCES</th>\n",
       "      <th>COOR_X</th>\n",
       "      <th>COOR_Y</th>\n",
       "      <th>...</th>\n",
       "      <th>NB_MOTOS_50</th>\n",
       "      <th>NB_MOTOS_125</th>\n",
       "      <th>NB_MOTOS_11KW</th>\n",
       "      <th>NB_VOITURES_TOURISME</th>\n",
       "      <th>NB_VOITURES_LIVRAISON</th>\n",
       "      <th>NB_CAMIONS</th>\n",
       "      <th>NB_BUS</th>\n",
       "      <th>NB_TRAM</th>\n",
       "      <th>E</th>\n",
       "      <th>N</th>\n",
       "    </tr>\n",
       "  </thead>\n",
       "  <tbody>\n",
       "    <tr>\n",
       "      <th>0</th>\n",
       "      <td>876245.0</td>\n",
       "      <td>2010-11-30 00:00:00</td>\n",
       "      <td>Dérapage ou perte de maîtrise</td>\n",
       "      <td>Inattention et distraction - Manque d'attentio...</td>\n",
       "      <td>Genève</td>\n",
       "      <td>Nuit</td>\n",
       "      <td>Chute de neige</td>\n",
       "      <td>Avec blessés légers</td>\n",
       "      <td>2500774.0</td>\n",
       "      <td>1117364.0</td>\n",
       "      <td>...</td>\n",
       "      <td>0.0</td>\n",
       "      <td>0.0</td>\n",
       "      <td>0.0</td>\n",
       "      <td>1.0</td>\n",
       "      <td>0.0</td>\n",
       "      <td>0.0</td>\n",
       "      <td>0.0</td>\n",
       "      <td>0.0</td>\n",
       "      <td>2500774.0</td>\n",
       "      <td>1117364.0</td>\n",
       "    </tr>\n",
       "    <tr>\n",
       "      <th>1</th>\n",
       "      <td>879408.0</td>\n",
       "      <td>2010-12-08 00:00:00</td>\n",
       "      <td>Autres</td>\n",
       "      <td>Utilisation inadéquate du véhicule - Stationne...</td>\n",
       "      <td>Genève</td>\n",
       "      <td>Jour</td>\n",
       "      <td>Beau</td>\n",
       "      <td>Autres</td>\n",
       "      <td>2498974.0</td>\n",
       "      <td>1118100.0</td>\n",
       "      <td>...</td>\n",
       "      <td>0.0</td>\n",
       "      <td>0.0</td>\n",
       "      <td>0.0</td>\n",
       "      <td>1.0</td>\n",
       "      <td>0.0</td>\n",
       "      <td>0.0</td>\n",
       "      <td>0.0</td>\n",
       "      <td>0.0</td>\n",
       "      <td>2498974.0</td>\n",
       "      <td>1118100.0</td>\n",
       "    </tr>\n",
       "    <tr>\n",
       "      <th>2</th>\n",
       "      <td>877254.0</td>\n",
       "      <td>2010-12-02 00:00:00</td>\n",
       "      <td>Dérapage ou perte de maîtrise</td>\n",
       "      <td>Inobservation de signaux ou de la signalisatio...</td>\n",
       "      <td>Vandoeuvres</td>\n",
       "      <td>Jour</td>\n",
       "      <td>Couvert</td>\n",
       "      <td>Avec blessés légers</td>\n",
       "      <td>2504618.0</td>\n",
       "      <td>1119635.0</td>\n",
       "      <td>...</td>\n",
       "      <td>0.0</td>\n",
       "      <td>0.0</td>\n",
       "      <td>0.0</td>\n",
       "      <td>1.0</td>\n",
       "      <td>0.0</td>\n",
       "      <td>0.0</td>\n",
       "      <td>0.0</td>\n",
       "      <td>0.0</td>\n",
       "      <td>2504618.0</td>\n",
       "      <td>1119635.0</td>\n",
       "    </tr>\n",
       "  </tbody>\n",
       "</table>\n",
       "<p>3 rows × 35 columns</p>\n",
       "</div>"
      ],
      "text/plain": [
       "   ID_ACCIDENT                DATE_                GROUPE_ACCIDENT  \\\n",
       "0     876245.0  2010-11-30 00:00:00  Dérapage ou perte de maîtrise   \n",
       "1     879408.0  2010-12-08 00:00:00                         Autres   \n",
       "2     877254.0  2010-12-02 00:00:00  Dérapage ou perte de maîtrise   \n",
       "\n",
       "                                               CAUSE      COMMUNE  \\\n",
       "0  Inattention et distraction - Manque d'attentio...       Genève   \n",
       "1  Utilisation inadéquate du véhicule - Stationne...       Genève   \n",
       "2  Inobservation de signaux ou de la signalisatio...  Vandoeuvres   \n",
       "\n",
       "  CONDITIONS_LUMINEUSES CONDITIONS_METEO         CONSEQUENCES     COOR_X  \\\n",
       "0                  Nuit   Chute de neige  Avec blessés légers  2500774.0   \n",
       "1                  Jour             Beau               Autres  2498974.0   \n",
       "2                  Jour          Couvert  Avec blessés légers  2504618.0   \n",
       "\n",
       "      COOR_Y    ...     NB_MOTOS_50 NB_MOTOS_125 NB_MOTOS_11KW  \\\n",
       "0  1117364.0    ...             0.0          0.0           0.0   \n",
       "1  1118100.0    ...             0.0          0.0           0.0   \n",
       "2  1119635.0    ...             0.0          0.0           0.0   \n",
       "\n",
       "  NB_VOITURES_TOURISME NB_VOITURES_LIVRAISON  NB_CAMIONS  NB_BUS  NB_TRAM  \\\n",
       "0                  1.0                   0.0         0.0     0.0      0.0   \n",
       "1                  1.0                   0.0         0.0     0.0      0.0   \n",
       "2                  1.0                   0.0         0.0     0.0      0.0   \n",
       "\n",
       "           E          N  \n",
       "0  2500774.0  1117364.0  \n",
       "1  2498974.0  1118100.0  \n",
       "2  2504618.0  1119635.0  \n",
       "\n",
       "[3 rows x 35 columns]"
      ]
     },
     "execution_count": 3,
     "metadata": {},
     "output_type": "execute_result"
    }
   ],
   "source": [
    "# Show the df to have a better idea\n",
    "acc_df.head(3)"
   ]
  },
  {
   "cell_type": "code",
   "execution_count": 4,
   "metadata": {},
   "outputs": [
    {
     "data": {
      "text/plain": [
       "(19231, 35)"
      ]
     },
     "execution_count": 4,
     "metadata": {},
     "output_type": "execute_result"
    }
   ],
   "source": [
    "# Shape of the dataset\n",
    "acc_df.shape"
   ]
  },
  {
   "cell_type": "code",
   "execution_count": 5,
   "metadata": {},
   "outputs": [
    {
     "name": "stdout",
     "output_type": "stream",
     "text": [
      "<class 'pandas.core.frame.DataFrame'>\n",
      "RangeIndex: 19231 entries, 0 to 19230\n",
      "Data columns (total 35 columns):\n",
      "ID_ACCIDENT              19231 non-null float64\n",
      "DATE_                    19231 non-null object\n",
      "GROUPE_ACCIDENT          19231 non-null object\n",
      "CAUSE                    19231 non-null object\n",
      "COMMUNE                  19231 non-null object\n",
      "CONDITIONS_LUMINEUSES    19231 non-null object\n",
      "CONDITIONS_METEO         19231 non-null object\n",
      "CONSEQUENCES             19231 non-null object\n",
      "COOR_X                   19231 non-null float64\n",
      "COOR_Y                   19231 non-null float64\n",
      "ETAT_ROUTE               19231 non-null object\n",
      "GENRE_ROUTE              19231 non-null object\n",
      "HEURE                    19230 non-null object\n",
      "JOUR                     19231 non-null object\n",
      "LOCALITE                 19231 non-null object\n",
      "NB_ENFANTS_IMPLIQUES     19231 non-null float64\n",
      "NB_ENFANTS_ECOLE         19231 non-null float64\n",
      "NB_BLESSES_LEGERS        19231 non-null float64\n",
      "NB_BLESSES_GRAVES        19231 non-null float64\n",
      "NB_TUES                  19231 non-null float64\n",
      "NB_PIETONS               19231 non-null float64\n",
      "NB_BICYCLETTES           19231 non-null float64\n",
      "NB_VAE_25                19231 non-null float64\n",
      "NB_VAE_45                19231 non-null float64\n",
      "NB_CYCLOMOTEURS          19231 non-null float64\n",
      "NB_MOTOS_50              19231 non-null float64\n",
      "NB_MOTOS_125             19231 non-null float64\n",
      "NB_MOTOS_11KW            19231 non-null float64\n",
      "NB_VOITURES_TOURISME     19231 non-null float64\n",
      "NB_VOITURES_LIVRAISON    19231 non-null float64\n",
      "NB_CAMIONS               19231 non-null float64\n",
      "NB_BUS                   19231 non-null float64\n",
      "NB_TRAM                  19231 non-null float64\n",
      "E                        19231 non-null float64\n",
      "N                        19231 non-null float64\n",
      "dtypes: float64(23), object(12)\n",
      "memory usage: 5.1+ MB\n"
     ]
    }
   ],
   "source": [
    "# Information of the dataset\n",
    "acc_df.info()"
   ]
  },
  {
   "cell_type": "markdown",
   "metadata": {},
   "source": [
    "The Geneva accidents dataset has 19'231 datapoints with 35 different features. They can be grouped in the following feature subgroups:\n",
    "\n",
    "1) **Time**: DATE_, HEURE, JOUR\n",
    "\n",
    "2) **Localisation**: COMMUNE, COOR_X, COOR_Y, LOCALITE, E, N \n",
    "\n",
    "3) **Conditions**: CONDITIONS_LUMINEUSES, CONDITIONS_METEO, ETAT_ROUTE, GENRE_ROUTE\n",
    "\n",
    "4) **Accident type**: GROUPE_ACCIDENT, CAUSE \n",
    "\n",
    "5) **Number and type of people**: NB_ENFANTS_IMPLIQUES, NB_ENFANTS_ECOLE, NB_BLESSES_LEGERS, NB_BLESSES_GRAVES, NB_TUES, NB_PIETONS  \n",
    "\n",
    "6) **Number of vehicles involved**: NB_BICYCLETTES, NB_VAE_25, NB_VAE_45, NB_CYCLOMOTEURS, NB_MOTOS_50, NB_MOTOS_125, NB_MOTOS_11KW, NB_VOITURES_TOURISME, NB_VOITURES_LIVRAISON, NB_CAMIONS, NB_BUS, NB_TRAM\n"
   ]
  },
  {
   "cell_type": "markdown",
   "metadata": {},
   "source": [
    "## 3.2 Feature subgroup exploration\n",
    "<a id='32Feature'></a>"
   ]
  },
  {
   "cell_type": "markdown",
   "metadata": {},
   "source": [
    "### 3.2.1 Time\n",
    "<a id='321Time'></a>"
   ]
  },
  {
   "cell_type": "markdown",
   "metadata": {},
   "source": [
    "An important feature of the accidents datasets is the time: It answers the question when the accidents happen. This feature will be very useful for our further analysis. As time features, there are:\n",
    "- Date\n",
    "- Hour\n",
    "- Day of the week\n",
    "\n",
    "Let's check the format of this three features:"
   ]
  },
  {
   "cell_type": "code",
   "execution_count": 6,
   "metadata": {},
   "outputs": [
    {
     "name": "stdout",
     "output_type": "stream",
     "text": [
      "0    2010-11-30 00:00:00\n",
      "1    2010-12-08 00:00:00\n",
      "Name: DATE_, dtype: object\n",
      "0    1899-12-30 21:00:00\n",
      "1    1899-12-30 14:00:00\n",
      "Name: HEURE, dtype: object\n",
      "0       Mardi\n",
      "1    Mercredi\n",
      "Name: JOUR, dtype: object\n"
     ]
    }
   ],
   "source": [
    "print(acc_df.DATE_.head(2))\n",
    "print(acc_df.HEURE.head(2))\n",
    "print(acc_df.JOUR.head(2))"
   ]
  },
  {
   "cell_type": "markdown",
   "metadata": {},
   "source": [
    "In order to use these features, we need to change the format. In addition, to enrich our analysis, we will create the `Year`, `Month` and `Day` of the month to find more correlations with the accidents:"
   ]
  },
  {
   "cell_type": "code",
   "execution_count": 7,
   "metadata": {
    "collapsed": true
   },
   "outputs": [],
   "source": [
    "# Datetime format\n",
    "acc_df['DATE_'] = acc_df['DATE_'].apply(lambda d: pd.to_datetime(d))\n",
    "acc_df['HEURE'] = acc_df['HEURE'].apply(lambda d: pd.to_datetime(d))\n",
    "\n",
    "# Create new time features\n",
    "acc_df['YEAR'] = [date.year for date in acc_df['DATE_']]\n",
    "acc_df['MONTH'] = [date.month for date in acc_df['DATE_']]\n",
    "acc_df['DAY'] = [date.day for date in acc_df['DATE_']]\n",
    "acc_df['HEURE'] = acc_df['HEURE'].fillna(acc_df['HEURE'].iloc[0])  # Fillna with first value of the df (Error neglible)\n",
    "#acc_df.info()"
   ]
  },
  {
   "cell_type": "markdown",
   "metadata": {},
   "source": [
    "### 3.2.2 Localisation\n",
    "<a id='322Localisation'></a>"
   ]
  },
  {
   "cell_type": "markdown",
   "metadata": {},
   "source": [
    "An other important question to ask is WHERE?. The localisation features will help to answer this question and find the relation with the other features. \n",
    "As localisation features, we can find:\n",
    "- **COOR_X**: X coordenate in 'epsg_2056' reference system\n",
    "- **COOR_Y**: X coordenate in 'epsg_2056' reference system\n",
    "\n",
    "E and N gives the same information as COOR_X and COOR_Y. This is why they will be dropped. The COOR_X and COOR_Y coordenates will be projected in the GPS coordenates, also called 'epsg:4326' reference system. For this, the Proj and transform libraries will be used:"
   ]
  },
  {
   "cell_type": "code",
   "execution_count": 8,
   "metadata": {},
   "outputs": [
    {
     "data": {
      "text/html": [
       "<div>\n",
       "<style>\n",
       "    .dataframe thead tr:only-child th {\n",
       "        text-align: right;\n",
       "    }\n",
       "\n",
       "    .dataframe thead th {\n",
       "        text-align: left;\n",
       "    }\n",
       "\n",
       "    .dataframe tbody tr th {\n",
       "        vertical-align: top;\n",
       "    }\n",
       "</style>\n",
       "<table border=\"1\" class=\"dataframe\">\n",
       "  <thead>\n",
       "    <tr style=\"text-align: right;\">\n",
       "      <th></th>\n",
       "      <th>ID_ACCIDENT</th>\n",
       "      <th>DATE_</th>\n",
       "      <th>GROUPE_ACCIDENT</th>\n",
       "      <th>CAUSE</th>\n",
       "      <th>COMMUNE</th>\n",
       "      <th>CONDITIONS_LUMINEUSES</th>\n",
       "      <th>CONDITIONS_METEO</th>\n",
       "      <th>CONSEQUENCES</th>\n",
       "      <th>COOR_X</th>\n",
       "      <th>COOR_Y</th>\n",
       "      <th>...</th>\n",
       "      <th>NB_VOITURES_TOURISME</th>\n",
       "      <th>NB_VOITURES_LIVRAISON</th>\n",
       "      <th>NB_CAMIONS</th>\n",
       "      <th>NB_BUS</th>\n",
       "      <th>NB_TRAM</th>\n",
       "      <th>E</th>\n",
       "      <th>N</th>\n",
       "      <th>YEAR</th>\n",
       "      <th>MONTH</th>\n",
       "      <th>DAY</th>\n",
       "    </tr>\n",
       "  </thead>\n",
       "  <tbody>\n",
       "    <tr>\n",
       "      <th>0</th>\n",
       "      <td>876245.0</td>\n",
       "      <td>2010-11-30</td>\n",
       "      <td>Dérapage ou perte de maîtrise</td>\n",
       "      <td>Inattention et distraction - Manque d'attentio...</td>\n",
       "      <td>Genève</td>\n",
       "      <td>Nuit</td>\n",
       "      <td>Chute de neige</td>\n",
       "      <td>Avec blessés légers</td>\n",
       "      <td>6.153116</td>\n",
       "      <td>46.200401</td>\n",
       "      <td>...</td>\n",
       "      <td>1.0</td>\n",
       "      <td>0.0</td>\n",
       "      <td>0.0</td>\n",
       "      <td>0.0</td>\n",
       "      <td>0.0</td>\n",
       "      <td>2500774.0</td>\n",
       "      <td>1117364.0</td>\n",
       "      <td>2010</td>\n",
       "      <td>11</td>\n",
       "      <td>30</td>\n",
       "    </tr>\n",
       "    <tr>\n",
       "      <th>1</th>\n",
       "      <td>879408.0</td>\n",
       "      <td>2010-12-08</td>\n",
       "      <td>Autres</td>\n",
       "      <td>Utilisation inadéquate du véhicule - Stationne...</td>\n",
       "      <td>Genève</td>\n",
       "      <td>Jour</td>\n",
       "      <td>Beau</td>\n",
       "      <td>Autres</td>\n",
       "      <td>6.129641</td>\n",
       "      <td>46.206753</td>\n",
       "      <td>...</td>\n",
       "      <td>1.0</td>\n",
       "      <td>0.0</td>\n",
       "      <td>0.0</td>\n",
       "      <td>0.0</td>\n",
       "      <td>0.0</td>\n",
       "      <td>2498974.0</td>\n",
       "      <td>1118100.0</td>\n",
       "      <td>2010</td>\n",
       "      <td>12</td>\n",
       "      <td>8</td>\n",
       "    </tr>\n",
       "    <tr>\n",
       "      <th>2</th>\n",
       "      <td>877254.0</td>\n",
       "      <td>2010-12-02</td>\n",
       "      <td>Dérapage ou perte de maîtrise</td>\n",
       "      <td>Inobservation de signaux ou de la signalisatio...</td>\n",
       "      <td>Vandoeuvres</td>\n",
       "      <td>Jour</td>\n",
       "      <td>Couvert</td>\n",
       "      <td>Avec blessés légers</td>\n",
       "      <td>6.202445</td>\n",
       "      <td>46.221384</td>\n",
       "      <td>...</td>\n",
       "      <td>1.0</td>\n",
       "      <td>0.0</td>\n",
       "      <td>0.0</td>\n",
       "      <td>0.0</td>\n",
       "      <td>0.0</td>\n",
       "      <td>2504618.0</td>\n",
       "      <td>1119635.0</td>\n",
       "      <td>2010</td>\n",
       "      <td>12</td>\n",
       "      <td>2</td>\n",
       "    </tr>\n",
       "  </tbody>\n",
       "</table>\n",
       "<p>3 rows × 38 columns</p>\n",
       "</div>"
      ],
      "text/plain": [
       "   ID_ACCIDENT      DATE_                GROUPE_ACCIDENT  \\\n",
       "0     876245.0 2010-11-30  Dérapage ou perte de maîtrise   \n",
       "1     879408.0 2010-12-08                         Autres   \n",
       "2     877254.0 2010-12-02  Dérapage ou perte de maîtrise   \n",
       "\n",
       "                                               CAUSE      COMMUNE  \\\n",
       "0  Inattention et distraction - Manque d'attentio...       Genève   \n",
       "1  Utilisation inadéquate du véhicule - Stationne...       Genève   \n",
       "2  Inobservation de signaux ou de la signalisatio...  Vandoeuvres   \n",
       "\n",
       "  CONDITIONS_LUMINEUSES CONDITIONS_METEO         CONSEQUENCES    COOR_X  \\\n",
       "0                  Nuit   Chute de neige  Avec blessés légers  6.153116   \n",
       "1                  Jour             Beau               Autres  6.129641   \n",
       "2                  Jour          Couvert  Avec blessés légers  6.202445   \n",
       "\n",
       "      COOR_Y ...  NB_VOITURES_TOURISME NB_VOITURES_LIVRAISON NB_CAMIONS  \\\n",
       "0  46.200401 ...                   1.0                   0.0        0.0   \n",
       "1  46.206753 ...                   1.0                   0.0        0.0   \n",
       "2  46.221384 ...                   1.0                   0.0        0.0   \n",
       "\n",
       "  NB_BUS NB_TRAM          E          N  YEAR  MONTH  DAY  \n",
       "0    0.0     0.0  2500774.0  1117364.0  2010     11   30  \n",
       "1    0.0     0.0  2498974.0  1118100.0  2010     12    8  \n",
       "2    0.0     0.0  2504618.0  1119635.0  2010     12    2  \n",
       "\n",
       "[3 rows x 38 columns]"
      ]
     },
     "execution_count": 8,
     "metadata": {},
     "output_type": "execute_result"
    }
   ],
   "source": [
    "# projection definition\n",
    "p1 = Proj(init='epsg:2056')\n",
    "p2 = Proj(init='epsg:4326')\n",
    "\n",
    "# Helper functions\n",
    "def coord_proj(acc_df,i, p1, p2):\n",
    "    x1 = acc_df['COOR_X'].loc[i]\n",
    "    y1 = acc_df['COOR_Y'].loc[i]\n",
    "    x2, y2 = transform(p1,p2,x1,y1)\n",
    "    acc_df['COOR_X'].set_value(i, x2)\n",
    "    acc_df['COOR_Y'].set_value(i, y2)\n",
    "    return acc_df\n",
    "\n",
    "# Project data\n",
    "for i in range(0, len(acc_df['COOR_X'])-1):\n",
    "    acc_df = coord_proj(acc_df,i, p1, p2)\n",
    "# Delete unuseful columns\n",
    "#del acc_df['N']\n",
    "#del acc_df['E']\n",
    "acc_df.head(3)"
   ]
  },
  {
   "cell_type": "markdown",
   "metadata": {},
   "source": [
    "# LET'S GO FOR THE VISUALIZATION"
   ]
  },
  {
   "cell_type": "code",
   "execution_count": 9,
   "metadata": {},
   "outputs": [
    {
     "data": {
      "text/html": [
       "<div style=\"width:100%;\"><div style=\"position:relative;width:100%;height:0;padding-bottom:60%;\"><iframe src=\"data:text/html;charset=utf-8;base64,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\" style=\"position:absolute;width:100%;height:100%;left:0;top:0;border:none !important;\" allowfullscreen webkitallowfullscreen mozallowfullscreen></iframe></div></div>"
      ],
      "text/plain": [
       "<folium.folium.Map at 0x108564e48>"
      ]
     },
     "execution_count": 9,
     "metadata": {},
     "output_type": "execute_result"
    }
   ],
   "source": [
    "m = folium.Map(location=[46.254423, 6.142972], tiles='cartodbpositron', zoom_start=11)\n",
    "folium.GeoJson(open(\"map-3.geojson\",encoding = \"utf-8-sig\").read()).add_to(m)\n",
    "m"
   ]
  },
  {
   "cell_type": "markdown",
   "metadata": {},
   "source": [
    "# associate each accident to the correct polygon"
   ]
  },
  {
   "cell_type": "markdown",
   "metadata": {},
   "source": [
    "This is an example to see the accuracy: to recognize to point, I need to truncate the coordinates with a precision of 1e-4: this is an example that displays the accuracy of such an operation: we can see that the point isstill precise up to 2-3 meters: OK!"
   ]
  },
  {
   "cell_type": "code",
   "execution_count": 53,
   "metadata": {},
   "outputs": [
    {
     "name": "stdout",
     "output_type": "stream",
     "text": [
      "I'm the containing polygon!\n",
      "not found\n",
      "not found\n",
      "not found\n",
      "not found\n",
      "not found\n",
      "not found\n",
      "not found\n",
      "not found\n",
      "not found\n"
     ]
    },
    {
     "data": {
      "text/html": [
       "<div style=\"width:100%;\"><div style=\"position:relative;width:100%;height:0;padding-bottom:60%;\"><iframe src=\"data:text/html;charset=utf-8;base64,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\" style=\"position:absolute;width:100%;height:100%;left:0;top:0;border:none !important;\" allowfullscreen webkitallowfullscreen mozallowfullscreen></iframe></div></div>"
      ],
      "text/plain": [
       "<folium.folium.Map at 0x108564e48>"
      ]
     },
     "execution_count": 53,
     "metadata": {},
     "output_type": "execute_result"
    }
   ],
   "source": [
    "import json\n",
    "from shapely.geometry import shape, Point\n",
    "# depending on your version, use: from shapely.geometry import shape, Point\n",
    "\n",
    "# load GeoJSON file containing sectors\n",
    "with open('map-3.geojson') as f:\n",
    "    js = json.load(f)\n",
    "\n",
    "# construct point based on lon/lat returned by geocoder\n",
    "point = Point(6.1429,46.2544)\n",
    "\n",
    "folium.Marker([46.2544,6.1429] , popup=\"Point\").add_to(m)\n",
    "folium.Marker([46.254400,6.142900] , popup=\"UNCERTAINTY\").add_to(m)\n",
    "folium.Marker([46.254499,6.142900] , popup=\"UNCERTAINTY\").add_to(m)\n",
    "folium.Marker([46.254400,6.142999] , popup=\"UNCERTAINTY\").add_to(m)\n",
    "folium.Marker([46.254499,6.142999] , popup=\"UNCERTAINTY\").add_to(m)\n",
    "# check each polygon to see if it contains the point\n",
    "for feature in js['features']:\n",
    "    polygon = shape(feature['geometry'])\n",
    "    if polygon.contains(point):\n",
    "        print('I\\'m the containing polygon!')\n",
    "    else:\n",
    "        print('not found')\n",
    "m"
   ]
  },
  {
   "cell_type": "markdown",
   "metadata": {},
   "source": [
    "adding an ID to every region in the json file:"
   ]
  },
  {
   "cell_type": "code",
   "execution_count": 89,
   "metadata": {},
   "outputs": [],
   "source": [
    "for i in range(len(js['features'])):\n",
    "    js['features'][i]['id']=i\n",
    "js['features'][9]['id']=0\n",
    "js['features'][8]['id']=0"
   ]
  },
  {
   "cell_type": "code",
   "execution_count": 97,
   "metadata": {},
   "outputs": [
    {
     "data": {
      "text/plain": [
       "0"
      ]
     },
     "execution_count": 97,
     "metadata": {},
     "output_type": "execute_result"
    }
   ],
   "source": [
    "polygons[0]['id']"
   ]
  },
  {
   "cell_type": "code",
   "execution_count": 98,
   "metadata": {
    "scrolled": true
   },
   "outputs": [],
   "source": [
    "# construct point based on lon/lat returned by geocoder\n",
    "acc_df['Region ID'] = 0\n",
    "polygons = js['features']\n",
    "\n",
    "for i in acc_df.index:\n",
    "    point = Point(acc_df.loc[i][['COOR_X','COOR_Y']])\n",
    "    for feature in polygons:\n",
    "        polygon = shape(feature['geometry'])\n",
    "        if polygon.contains(point):\n",
    "            acc_df.set_value(i,'Region ID',feature['id'])"
   ]
  },
  {
   "cell_type": "code",
   "execution_count": 112,
   "metadata": {},
   "outputs": [],
   "source": [
    "accidents_2015_by_region = acc_df.loc[acc_df['YEAR']==2015].groupby('Region ID').count()['ID_ACCIDENT']\n",
    "\n",
    "\n"
   ]
  },
  {
   "cell_type": "code",
   "execution_count": 113,
   "metadata": {},
   "outputs": [
    {
     "data": {
      "text/plain": [
       "Region ID\n",
       "0     180\n",
       "1     762\n",
       "2      40\n",
       "3    1325\n",
       "4     615\n",
       "5      85\n",
       "6     364\n",
       "7      49\n",
       "Name: ID_ACCIDENT, dtype: int64"
      ]
     },
     "execution_count": 113,
     "metadata": {},
     "output_type": "execute_result"
    }
   ],
   "source": [
    "accidents_2015_by_region"
   ]
  },
  {
   "cell_type": "code",
   "execution_count": 195,
   "metadata": {},
   "outputs": [],
   "source": [
    "m = folium.Map(location=[46.254423, 6.142972], tiles='cartodbpositron', zoom_start=11)\n",
    "m.choropleth(geo_data = js,\n",
    "                 data = accidents_2015_by_region,\n",
    "                 key_on = 'id',\n",
    "                 fill_color = 'YlOrRd', fill_opacity=1,\n",
    "                 line_color = 'black', line_weight = 1, line_opacity=0.9,\n",
    "                 smooth_factor = 1,\n",
    "                 reset = True, # False by default, put true if you wanna remove previous layers\n",
    "                 highlight = True, # hovering\n",
    "                 legend_name='Accidents in 2015')"
   ]
  },
  {
   "cell_type": "code",
   "execution_count": 196,
   "metadata": {},
   "outputs": [
    {
     "data": {
      "text/html": [
       "<div style=\"width:100%;\"><div style=\"position:relative;width:100%;height:0;padding-bottom:60%;\"><iframe src=\"data:text/html;charset=utf-8;base64,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\" style=\"position:absolute;width:100%;height:100%;left:0;top:0;border:none !important;\" allowfullscreen webkitallowfullscreen mozallowfullscreen></iframe></div></div>"
      ],
      "text/plain": [
       "<folium.folium.Map at 0x1a0e2d3e10>"
      ]
     },
     "execution_count": 196,
     "metadata": {},
     "output_type": "execute_result"
    }
   ],
   "source": [
    "m"
   ]
  },
  {
   "cell_type": "code",
   "execution_count": null,
   "metadata": {
    "collapsed": true
   },
   "outputs": [],
   "source": [
    "# do one per dataset\n",
    "def get_feature_df_to_plot(year,feature, value, normalize):\n",
    "    serie = acc_df.loc[(acc_df['YEAR']==year) & (acc_df[feature]==value)].groupby('Region ID').count()['ID_ACCIDENT']\n",
    "    if normalize == True:   \n",
    "        total_number_of_accidents_in_year_per_region = acc_df.loc[(acc_df['YEAR']==year)].groupby('Region ID').count()['ID_ACCIDENT']\n",
    "        serie = serie / total_number_of_accidents_in_year_per_region\n",
    "    serie.fillna(0,inplace=True)\n",
    "    return serie\n",
    "\n",
    "\n",
    "def serie_color(feature,serie_to_plot,colormap):\n",
    "    \"\"\"return color for countries, black if no data ':'\n",
    "    depends on colormap settings\"\"\"\n",
    "\n",
    "    if feature['id'] not in list(serie_to_plot.index):\n",
    "        return '#000000'\n",
    "    else:\n",
    "        return colormap(serie_to_plot[feature['id']])\n",
    "    \n",
    "def create_colormap(index = 1, min_=0, max_=10,steps=10 ):\n",
    "    if index == 1:\n",
    "        step = cm.StepColormap(\n",
    "            ['green', 'yellow', 'red'],\n",
    "            vmin=3, vmax=10,\n",
    "            index=[3, 4, 8, 10],\n",
    "            caption='step'\n",
    "            )\n",
    "    if index == 2 :\n",
    "        step = cm.linear.Set1.scale(min_, max_).to_step(steps)\n",
    "    return step\n",
    "\n",
    "\n",
    "def create_map (year, feature, value, normalize):\n",
    "    m_serie = get_feature_df_to_plot(year, feature, value, normalize) # get the serie\n",
    "    colormap = create_colormap(2,m_serie.min(),m_serie.max(),steps = 5) # create a colorfeature\n",
    "    m = folium.Map(location=[46.254423, 6.142972], tiles='cartodbpositron', zoom_start=11)\n",
    "    \n",
    "    folium.GeoJson(js,\n",
    "                  style_function=lambda feature: {\n",
    "                'fillColor': serie_color(feature,m_serie,colormap),\n",
    "                'color' : 'black',\n",
    "                'weight' : 2,\n",
    "                'dashArray' : '5, 5'\n",
    "                }).add_to(m)\n",
    "    \n",
    "    colormap.caption = 'Accidents'\n",
    "    m.add_child(colormap)\n",
    "   \n",
    "    return m\n",
    "\n",
    "from IPython.html.widgets import interact\n",
    "year_list = np.arange(2010,2017)\n",
    "\n",
    "\n",
    "def create_interactive_map(feature, normalize=True):\n",
    "    value_list = list(acc_df[feature].value_counts().index)\n",
    "    m = interact(create_map, year = year_list, feature = feature, value = value_list, normalize= normalize)\n",
    "    return m"
   ]
  },
  {
   "cell_type": "code",
   "execution_count": 189,
   "metadata": {},
   "outputs": [
    {
     "data": {
      "application/vnd.jupyter.widget-view+json": {
       "model_id": "5fc2b05a53ab4277b7c673189af5d882"
      }
     },
     "metadata": {},
     "output_type": "display_data"
    },
    {
     "data": {
      "text/plain": [
       "<function __main__.create_map>"
      ]
     },
     "execution_count": 189,
     "metadata": {},
     "output_type": "execute_result"
    }
   ],
   "source": [
    "create_interactive_map('GROUPE_ACCIDENT')"
   ]
  },
  {
   "cell_type": "code",
   "execution_count": 190,
   "metadata": {},
   "outputs": [
    {
     "data": {
      "application/vnd.jupyter.widget-view+json": {
       "model_id": "72efb1d9c78140b8b8d371985302536a"
      }
     },
     "metadata": {},
     "output_type": "display_data"
    },
    {
     "data": {
      "text/plain": [
       "<function __main__.create_map>"
      ]
     },
     "execution_count": 190,
     "metadata": {},
     "output_type": "execute_result"
    }
   ],
   "source": [
    "create_interactive_map('CAUSE')"
   ]
  },
  {
   "cell_type": "code",
   "execution_count": 191,
   "metadata": {},
   "outputs": [
    {
     "data": {
      "application/vnd.jupyter.widget-view+json": {
       "model_id": "345264283fd84680a72f0197d08a60dd"
      }
     },
     "metadata": {},
     "output_type": "display_data"
    },
    {
     "data": {
      "text/plain": [
       "<function __main__.create_map>"
      ]
     },
     "execution_count": 191,
     "metadata": {},
     "output_type": "execute_result"
    }
   ],
   "source": [
    "create_interactive_map('COMMUNE')"
   ]
  },
  {
   "cell_type": "code",
   "execution_count": 192,
   "metadata": {},
   "outputs": [
    {
     "data": {
      "application/vnd.jupyter.widget-view+json": {
       "model_id": "d6664844e46241b599018cf35cebab96"
      }
     },
     "metadata": {},
     "output_type": "display_data"
    },
    {
     "data": {
      "text/plain": [
       "<function __main__.create_map>"
      ]
     },
     "execution_count": 192,
     "metadata": {},
     "output_type": "execute_result"
    }
   ],
   "source": [
    "create_interactive_map('CONDITIONS_LUMINEUSES')"
   ]
  },
  {
   "cell_type": "code",
   "execution_count": 193,
   "metadata": {},
   "outputs": [
    {
     "data": {
      "application/vnd.jupyter.widget-view+json": {
       "model_id": "bf9cd06ee0da46e187f20f3ee0f9f797"
      }
     },
     "metadata": {},
     "output_type": "display_data"
    },
    {
     "data": {
      "text/plain": [
       "<function __main__.create_map>"
      ]
     },
     "execution_count": 193,
     "metadata": {},
     "output_type": "execute_result"
    }
   ],
   "source": [
    "create_interactive_map('CONDITIONS_METEO')"
   ]
  },
  {
   "cell_type": "code",
   "execution_count": 194,
   "metadata": {},
   "outputs": [
    {
     "data": {
      "application/vnd.jupyter.widget-view+json": {
       "model_id": "9c94676c5e4f4ccb92e4fee6a82bf878"
      }
     },
     "metadata": {},
     "output_type": "display_data"
    },
    {
     "data": {
      "text/plain": [
       "<function __main__.create_map>"
      ]
     },
     "execution_count": 194,
     "metadata": {},
     "output_type": "execute_result"
    }
   ],
   "source": [
    "create_interactive_map('CONSEQUENCES')"
   ]
  },
  {
   "cell_type": "code",
   "execution_count": null,
   "metadata": {
    "collapsed": true
   },
   "outputs": [],
   "source": []
  }
 ],
 "metadata": {
  "kernelspec": {
   "display_name": "Python 3",
   "language": "python",
   "name": "python3"
  },
  "language_info": {
   "codemirror_mode": {
    "name": "ipython",
    "version": 3
   },
   "file_extension": ".py",
   "mimetype": "text/x-python",
   "name": "python",
   "nbconvert_exporter": "python",
   "pygments_lexer": "ipython3",
   "version": "3.6.1"
  }
 },
 "nbformat": 4,
 "nbformat_minor": 2
}
