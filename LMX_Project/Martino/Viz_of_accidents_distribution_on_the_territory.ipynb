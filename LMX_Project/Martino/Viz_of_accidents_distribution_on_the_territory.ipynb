{
 "cells": [
  {
   "cell_type": "markdown",
   "metadata": {},
   "source": [
    "# DRIVE SAFE IN GENEVA\n"
   ]
  },
  {
   "cell_type": "markdown",
   "metadata": {},
   "source": [
    "## Table of Contents\n",
    "\n",
    "<p><div class=\"lev1\"> <a href='#1Project_planning'><span class=\"toc-item-num\">1.&nbsp;&nbsp;</span>Project planning</a> </div> \n",
    "<div class=\"lev1\"><a href='#2Dataset_description'><span class=\"toc-item-num\">2.&nbsp;&nbsp;</span>Dataset description</a></div> \n",
    "<div class=\"lev1\"><a href='#3Understand_data'><span class=\"toc-item-num\">3.&nbsp;&nbsp;</span>Understand the data</a></div> \n",
    "<div class=\"lev1\"><a href='#31Libraries'><span class=\"toc-item-num\">3.1&nbsp;&nbsp;</span>Libraries import and dataset load</a></div>\n",
    "<div class=\"lev1\"><a href='#32Feature'><span class=\"toc-item-num\">3.2&nbsp;&nbsp;</span>Feature subgroup exploration</a></div>\n",
    "<div class=\"lev1\"><a href='#321Time'><span class=\"toc-item-num\">3.2.1&nbsp;&nbsp;</span>Time</a></div>\n",
    "<div class=\"lev1\"><a href='#322Localisation'><span class=\"toc-item-num\">3.2.2&nbsp;&nbsp;</span>Localisation</a></div>\n",
    "<div class=\"lev1\"><a href='#323Conditions'><span class=\"toc-item-num\">3.2.3&nbsp;&nbsp;</span>Conditions</a></div>\n",
    "<div class=\"lev1\"><a href='#324Accident'><span class=\"toc-item-num\">3.2.4&nbsp;&nbsp;</span>Accident type</a></div>\n",
    "</p>"
   ]
  },
  {
   "cell_type": "markdown",
   "metadata": {},
   "source": [
    "## 3.1. Libraries import and  dataset load\n",
    "<a id='31Libraries'></a>"
   ]
  },
  {
   "cell_type": "code",
   "execution_count": 44,
   "metadata": {
    "collapsed": true
   },
   "outputs": [],
   "source": [
    "# Import libraries\n",
    "import pandas as pd\n",
    "import numpy as np\n",
    "import branca.colormap as cm # for color steps\n",
    "%matplotlib inline \n",
    "\n",
    "import folium\n",
    "\n",
    "from pyproj import Proj, transform\n",
    "\n",
    "from datetime import datetime\n",
    "from datetime import date, time\n",
    "from dateutil.parser import parse"
   ]
  },
  {
   "cell_type": "code",
   "execution_count": 45,
   "metadata": {
    "collapsed": true
   },
   "outputs": [],
   "source": [
    "# Read the dataset\n",
    "acc_data = '../_data/OTC_ACCIDENTS.csv'\n",
    "compt_trafic_data = '../_data/OTC_COMPTAGE_TRAFIC.csv'\n",
    "acc_df = pd.read_csv(acc_data, sep=';', encoding='latin-1')\n",
    "compt_trafic_df = pd.read_csv(compt_trafic_data, sep=';', encoding='latin-1')"
   ]
  },
  {
   "cell_type": "code",
   "execution_count": 46,
   "metadata": {},
   "outputs": [
    {
     "data": {
      "text/html": [
       "<div>\n",
       "<style>\n",
       "    .dataframe thead tr:only-child th {\n",
       "        text-align: right;\n",
       "    }\n",
       "\n",
       "    .dataframe thead th {\n",
       "        text-align: left;\n",
       "    }\n",
       "\n",
       "    .dataframe tbody tr th {\n",
       "        vertical-align: top;\n",
       "    }\n",
       "</style>\n",
       "<table border=\"1\" class=\"dataframe\">\n",
       "  <thead>\n",
       "    <tr style=\"text-align: right;\">\n",
       "      <th></th>\n",
       "      <th>ID_ACCIDENT</th>\n",
       "      <th>DATE_</th>\n",
       "      <th>GROUPE_ACCIDENT</th>\n",
       "      <th>CAUSE</th>\n",
       "      <th>COMMUNE</th>\n",
       "      <th>CONDITIONS_LUMINEUSES</th>\n",
       "      <th>CONDITIONS_METEO</th>\n",
       "      <th>CONSEQUENCES</th>\n",
       "      <th>COOR_X</th>\n",
       "      <th>COOR_Y</th>\n",
       "      <th>...</th>\n",
       "      <th>NB_MOTOS_50</th>\n",
       "      <th>NB_MOTOS_125</th>\n",
       "      <th>NB_MOTOS_11KW</th>\n",
       "      <th>NB_VOITURES_TOURISME</th>\n",
       "      <th>NB_VOITURES_LIVRAISON</th>\n",
       "      <th>NB_CAMIONS</th>\n",
       "      <th>NB_BUS</th>\n",
       "      <th>NB_TRAM</th>\n",
       "      <th>E</th>\n",
       "      <th>N</th>\n",
       "    </tr>\n",
       "  </thead>\n",
       "  <tbody>\n",
       "    <tr>\n",
       "      <th>0</th>\n",
       "      <td>876245.0</td>\n",
       "      <td>2010-11-30 00:00:00</td>\n",
       "      <td>Dérapage ou perte de maîtrise</td>\n",
       "      <td>Inattention et distraction - Manque d'attentio...</td>\n",
       "      <td>Genève</td>\n",
       "      <td>Nuit</td>\n",
       "      <td>Chute de neige</td>\n",
       "      <td>Avec blessés légers</td>\n",
       "      <td>2500774.0</td>\n",
       "      <td>1117364.0</td>\n",
       "      <td>...</td>\n",
       "      <td>0.0</td>\n",
       "      <td>0.0</td>\n",
       "      <td>0.0</td>\n",
       "      <td>1.0</td>\n",
       "      <td>0.0</td>\n",
       "      <td>0.0</td>\n",
       "      <td>0.0</td>\n",
       "      <td>0.0</td>\n",
       "      <td>2500774.0</td>\n",
       "      <td>1117364.0</td>\n",
       "    </tr>\n",
       "    <tr>\n",
       "      <th>1</th>\n",
       "      <td>879408.0</td>\n",
       "      <td>2010-12-08 00:00:00</td>\n",
       "      <td>Autres</td>\n",
       "      <td>Utilisation inadéquate du véhicule - Stationne...</td>\n",
       "      <td>Genève</td>\n",
       "      <td>Jour</td>\n",
       "      <td>Beau</td>\n",
       "      <td>Autres</td>\n",
       "      <td>2498974.0</td>\n",
       "      <td>1118100.0</td>\n",
       "      <td>...</td>\n",
       "      <td>0.0</td>\n",
       "      <td>0.0</td>\n",
       "      <td>0.0</td>\n",
       "      <td>1.0</td>\n",
       "      <td>0.0</td>\n",
       "      <td>0.0</td>\n",
       "      <td>0.0</td>\n",
       "      <td>0.0</td>\n",
       "      <td>2498974.0</td>\n",
       "      <td>1118100.0</td>\n",
       "    </tr>\n",
       "    <tr>\n",
       "      <th>2</th>\n",
       "      <td>877254.0</td>\n",
       "      <td>2010-12-02 00:00:00</td>\n",
       "      <td>Dérapage ou perte de maîtrise</td>\n",
       "      <td>Inobservation de signaux ou de la signalisatio...</td>\n",
       "      <td>Vandoeuvres</td>\n",
       "      <td>Jour</td>\n",
       "      <td>Couvert</td>\n",
       "      <td>Avec blessés légers</td>\n",
       "      <td>2504618.0</td>\n",
       "      <td>1119635.0</td>\n",
       "      <td>...</td>\n",
       "      <td>0.0</td>\n",
       "      <td>0.0</td>\n",
       "      <td>0.0</td>\n",
       "      <td>1.0</td>\n",
       "      <td>0.0</td>\n",
       "      <td>0.0</td>\n",
       "      <td>0.0</td>\n",
       "      <td>0.0</td>\n",
       "      <td>2504618.0</td>\n",
       "      <td>1119635.0</td>\n",
       "    </tr>\n",
       "  </tbody>\n",
       "</table>\n",
       "<p>3 rows × 35 columns</p>\n",
       "</div>"
      ],
      "text/plain": [
       "   ID_ACCIDENT                DATE_                GROUPE_ACCIDENT  \\\n",
       "0     876245.0  2010-11-30 00:00:00  Dérapage ou perte de maîtrise   \n",
       "1     879408.0  2010-12-08 00:00:00                         Autres   \n",
       "2     877254.0  2010-12-02 00:00:00  Dérapage ou perte de maîtrise   \n",
       "\n",
       "                                               CAUSE      COMMUNE  \\\n",
       "0  Inattention et distraction - Manque d'attentio...       Genève   \n",
       "1  Utilisation inadéquate du véhicule - Stationne...       Genève   \n",
       "2  Inobservation de signaux ou de la signalisatio...  Vandoeuvres   \n",
       "\n",
       "  CONDITIONS_LUMINEUSES CONDITIONS_METEO         CONSEQUENCES     COOR_X  \\\n",
       "0                  Nuit   Chute de neige  Avec blessés légers  2500774.0   \n",
       "1                  Jour             Beau               Autres  2498974.0   \n",
       "2                  Jour          Couvert  Avec blessés légers  2504618.0   \n",
       "\n",
       "      COOR_Y    ...     NB_MOTOS_50 NB_MOTOS_125 NB_MOTOS_11KW  \\\n",
       "0  1117364.0    ...             0.0          0.0           0.0   \n",
       "1  1118100.0    ...             0.0          0.0           0.0   \n",
       "2  1119635.0    ...             0.0          0.0           0.0   \n",
       "\n",
       "  NB_VOITURES_TOURISME NB_VOITURES_LIVRAISON  NB_CAMIONS  NB_BUS  NB_TRAM  \\\n",
       "0                  1.0                   0.0         0.0     0.0      0.0   \n",
       "1                  1.0                   0.0         0.0     0.0      0.0   \n",
       "2                  1.0                   0.0         0.0     0.0      0.0   \n",
       "\n",
       "           E          N  \n",
       "0  2500774.0  1117364.0  \n",
       "1  2498974.0  1118100.0  \n",
       "2  2504618.0  1119635.0  \n",
       "\n",
       "[3 rows x 35 columns]"
      ]
     },
     "execution_count": 46,
     "metadata": {},
     "output_type": "execute_result"
    }
   ],
   "source": [
    "# Show the df to have a better idea\n",
    "acc_df.head(3)"
   ]
  },
  {
   "cell_type": "code",
   "execution_count": 47,
   "metadata": {},
   "outputs": [
    {
     "data": {
      "text/plain": [
       "(19231, 35)"
      ]
     },
     "execution_count": 47,
     "metadata": {},
     "output_type": "execute_result"
    }
   ],
   "source": [
    "# Shape of the dataset\n",
    "acc_df.shape"
   ]
  },
  {
   "cell_type": "code",
   "execution_count": 48,
   "metadata": {},
   "outputs": [
    {
     "name": "stdout",
     "output_type": "stream",
     "text": [
      "<class 'pandas.core.frame.DataFrame'>\n",
      "RangeIndex: 19231 entries, 0 to 19230\n",
      "Data columns (total 35 columns):\n",
      "ID_ACCIDENT              19231 non-null float64\n",
      "DATE_                    19231 non-null object\n",
      "GROUPE_ACCIDENT          19231 non-null object\n",
      "CAUSE                    19231 non-null object\n",
      "COMMUNE                  19231 non-null object\n",
      "CONDITIONS_LUMINEUSES    19231 non-null object\n",
      "CONDITIONS_METEO         19231 non-null object\n",
      "CONSEQUENCES             19231 non-null object\n",
      "COOR_X                   19231 non-null float64\n",
      "COOR_Y                   19231 non-null float64\n",
      "ETAT_ROUTE               19231 non-null object\n",
      "GENRE_ROUTE              19231 non-null object\n",
      "HEURE                    19230 non-null object\n",
      "JOUR                     19231 non-null object\n",
      "LOCALITE                 19231 non-null object\n",
      "NB_ENFANTS_IMPLIQUES     19231 non-null float64\n",
      "NB_ENFANTS_ECOLE         19231 non-null float64\n",
      "NB_BLESSES_LEGERS        19231 non-null float64\n",
      "NB_BLESSES_GRAVES        19231 non-null float64\n",
      "NB_TUES                  19231 non-null float64\n",
      "NB_PIETONS               19231 non-null float64\n",
      "NB_BICYCLETTES           19231 non-null float64\n",
      "NB_VAE_25                19231 non-null float64\n",
      "NB_VAE_45                19231 non-null float64\n",
      "NB_CYCLOMOTEURS          19231 non-null float64\n",
      "NB_MOTOS_50              19231 non-null float64\n",
      "NB_MOTOS_125             19231 non-null float64\n",
      "NB_MOTOS_11KW            19231 non-null float64\n",
      "NB_VOITURES_TOURISME     19231 non-null float64\n",
      "NB_VOITURES_LIVRAISON    19231 non-null float64\n",
      "NB_CAMIONS               19231 non-null float64\n",
      "NB_BUS                   19231 non-null float64\n",
      "NB_TRAM                  19231 non-null float64\n",
      "E                        19231 non-null float64\n",
      "N                        19231 non-null float64\n",
      "dtypes: float64(23), object(12)\n",
      "memory usage: 5.1+ MB\n"
     ]
    }
   ],
   "source": [
    "# Information of the dataset\n",
    "acc_df.info()"
   ]
  },
  {
   "cell_type": "markdown",
   "metadata": {},
   "source": [
    "The Geneva accidents dataset has 19'231 datapoints with 35 different features. They can be grouped in the following feature subgroups:\n",
    "\n",
    "1) **Time**: DATE_, HEURE, JOUR\n",
    "\n",
    "2) **Localisation**: COMMUNE, COOR_X, COOR_Y, LOCALITE, E, N \n",
    "\n",
    "3) **Conditions**: CONDITIONS_LUMINEUSES, CONDITIONS_METEO, ETAT_ROUTE, GENRE_ROUTE\n",
    "\n",
    "4) **Accident type**: GROUPE_ACCIDENT, CAUSE \n",
    "\n",
    "5) **Number and type of people**: NB_ENFANTS_IMPLIQUES, NB_ENFANTS_ECOLE, NB_BLESSES_LEGERS, NB_BLESSES_GRAVES, NB_TUES, NB_PIETONS  \n",
    "\n",
    "6) **Number of vehicles involved**: NB_BICYCLETTES, NB_VAE_25, NB_VAE_45, NB_CYCLOMOTEURS, NB_MOTOS_50, NB_MOTOS_125, NB_MOTOS_11KW, NB_VOITURES_TOURISME, NB_VOITURES_LIVRAISON, NB_CAMIONS, NB_BUS, NB_TRAM\n"
   ]
  },
  {
   "cell_type": "markdown",
   "metadata": {},
   "source": [
    "## 3.2 Feature subgroup exploration\n",
    "<a id='32Feature'></a>"
   ]
  },
  {
   "cell_type": "markdown",
   "metadata": {},
   "source": [
    "### 3.2.1 Time\n",
    "<a id='321Time'></a>"
   ]
  },
  {
   "cell_type": "markdown",
   "metadata": {},
   "source": [
    "An important feature of the accidents datasets is the time: It answers the question when the accidents happen. This feature will be very useful for our further analysis. As time features, there are:\n",
    "- Date\n",
    "- Hour\n",
    "- Day of the week\n",
    "\n",
    "Let's check the format of this three features:"
   ]
  },
  {
   "cell_type": "code",
   "execution_count": 49,
   "metadata": {},
   "outputs": [
    {
     "name": "stdout",
     "output_type": "stream",
     "text": [
      "0    2010-11-30 00:00:00\n",
      "1    2010-12-08 00:00:00\n",
      "Name: DATE_, dtype: object\n",
      "0    1899-12-30 21:00:00\n",
      "1    1899-12-30 14:00:00\n",
      "Name: HEURE, dtype: object\n",
      "0       Mardi\n",
      "1    Mercredi\n",
      "Name: JOUR, dtype: object\n"
     ]
    }
   ],
   "source": [
    "print(acc_df.DATE_.head(2))\n",
    "print(acc_df.HEURE.head(2))\n",
    "print(acc_df.JOUR.head(2))"
   ]
  },
  {
   "cell_type": "markdown",
   "metadata": {},
   "source": [
    "In order to use these features, we need to change the format. In addition, to enrich our analysis, we will create the `Year`, `Month` and `Day` of the month to find more correlations with the accidents:"
   ]
  },
  {
   "cell_type": "code",
   "execution_count": 50,
   "metadata": {
    "collapsed": true
   },
   "outputs": [],
   "source": [
    "# Datetime format\n",
    "acc_df['DATE_'] = acc_df['DATE_'].apply(lambda d: pd.to_datetime(d))\n",
    "acc_df['HEURE'] = acc_df['HEURE'].apply(lambda d: pd.to_datetime(d))\n",
    "\n",
    "# Create new time features\n",
    "acc_df['YEAR'] = [date.year for date in acc_df['DATE_']]\n",
    "acc_df['MONTH'] = [date.month for date in acc_df['DATE_']]\n",
    "acc_df['DAY'] = [date.day for date in acc_df['DATE_']]\n",
    "acc_df['HEURE'] = acc_df['HEURE'].fillna(acc_df['HEURE'].iloc[0])  # Fillna with first value of the df (Error neglible)\n",
    "#acc_df.info()"
   ]
  },
  {
   "cell_type": "markdown",
   "metadata": {},
   "source": [
    "### 3.2.2 Localisation\n",
    "<a id='322Localisation'></a>"
   ]
  },
  {
   "cell_type": "markdown",
   "metadata": {},
   "source": [
    "An other important question to ask is WHERE?. The localisation features will help to answer this question and find the relation with the other features. \n",
    "As localisation features, we can find:\n",
    "- **COOR_X**: X coordenate in 'epsg_2056' reference system\n",
    "- **COOR_Y**: X coordenate in 'epsg_2056' reference system\n",
    "\n",
    "E and N gives the same information as COOR_X and COOR_Y. This is why they will be dropped. The COOR_X and COOR_Y coordenates will be projected in the GPS coordenates, also called 'epsg:4326' reference system. For this, the Proj and transform libraries will be used:"
   ]
  },
  {
   "cell_type": "code",
   "execution_count": 51,
   "metadata": {},
   "outputs": [
    {
     "data": {
      "text/html": [
       "<div>\n",
       "<style>\n",
       "    .dataframe thead tr:only-child th {\n",
       "        text-align: right;\n",
       "    }\n",
       "\n",
       "    .dataframe thead th {\n",
       "        text-align: left;\n",
       "    }\n",
       "\n",
       "    .dataframe tbody tr th {\n",
       "        vertical-align: top;\n",
       "    }\n",
       "</style>\n",
       "<table border=\"1\" class=\"dataframe\">\n",
       "  <thead>\n",
       "    <tr style=\"text-align: right;\">\n",
       "      <th></th>\n",
       "      <th>ID_ACCIDENT</th>\n",
       "      <th>DATE_</th>\n",
       "      <th>GROUPE_ACCIDENT</th>\n",
       "      <th>CAUSE</th>\n",
       "      <th>COMMUNE</th>\n",
       "      <th>CONDITIONS_LUMINEUSES</th>\n",
       "      <th>CONDITIONS_METEO</th>\n",
       "      <th>CONSEQUENCES</th>\n",
       "      <th>COOR_X</th>\n",
       "      <th>COOR_Y</th>\n",
       "      <th>...</th>\n",
       "      <th>NB_VOITURES_TOURISME</th>\n",
       "      <th>NB_VOITURES_LIVRAISON</th>\n",
       "      <th>NB_CAMIONS</th>\n",
       "      <th>NB_BUS</th>\n",
       "      <th>NB_TRAM</th>\n",
       "      <th>E</th>\n",
       "      <th>N</th>\n",
       "      <th>YEAR</th>\n",
       "      <th>MONTH</th>\n",
       "      <th>DAY</th>\n",
       "    </tr>\n",
       "  </thead>\n",
       "  <tbody>\n",
       "    <tr>\n",
       "      <th>0</th>\n",
       "      <td>876245.0</td>\n",
       "      <td>2010-11-30</td>\n",
       "      <td>Dérapage ou perte de maîtrise</td>\n",
       "      <td>Inattention et distraction - Manque d'attentio...</td>\n",
       "      <td>Genève</td>\n",
       "      <td>Nuit</td>\n",
       "      <td>Chute de neige</td>\n",
       "      <td>Avec blessés légers</td>\n",
       "      <td>6.153116</td>\n",
       "      <td>46.200401</td>\n",
       "      <td>...</td>\n",
       "      <td>1.0</td>\n",
       "      <td>0.0</td>\n",
       "      <td>0.0</td>\n",
       "      <td>0.0</td>\n",
       "      <td>0.0</td>\n",
       "      <td>2500774.0</td>\n",
       "      <td>1117364.0</td>\n",
       "      <td>2010</td>\n",
       "      <td>11</td>\n",
       "      <td>30</td>\n",
       "    </tr>\n",
       "    <tr>\n",
       "      <th>1</th>\n",
       "      <td>879408.0</td>\n",
       "      <td>2010-12-08</td>\n",
       "      <td>Autres</td>\n",
       "      <td>Utilisation inadéquate du véhicule - Stationne...</td>\n",
       "      <td>Genève</td>\n",
       "      <td>Jour</td>\n",
       "      <td>Beau</td>\n",
       "      <td>Autres</td>\n",
       "      <td>6.129641</td>\n",
       "      <td>46.206753</td>\n",
       "      <td>...</td>\n",
       "      <td>1.0</td>\n",
       "      <td>0.0</td>\n",
       "      <td>0.0</td>\n",
       "      <td>0.0</td>\n",
       "      <td>0.0</td>\n",
       "      <td>2498974.0</td>\n",
       "      <td>1118100.0</td>\n",
       "      <td>2010</td>\n",
       "      <td>12</td>\n",
       "      <td>8</td>\n",
       "    </tr>\n",
       "    <tr>\n",
       "      <th>2</th>\n",
       "      <td>877254.0</td>\n",
       "      <td>2010-12-02</td>\n",
       "      <td>Dérapage ou perte de maîtrise</td>\n",
       "      <td>Inobservation de signaux ou de la signalisatio...</td>\n",
       "      <td>Vandoeuvres</td>\n",
       "      <td>Jour</td>\n",
       "      <td>Couvert</td>\n",
       "      <td>Avec blessés légers</td>\n",
       "      <td>6.202445</td>\n",
       "      <td>46.221384</td>\n",
       "      <td>...</td>\n",
       "      <td>1.0</td>\n",
       "      <td>0.0</td>\n",
       "      <td>0.0</td>\n",
       "      <td>0.0</td>\n",
       "      <td>0.0</td>\n",
       "      <td>2504618.0</td>\n",
       "      <td>1119635.0</td>\n",
       "      <td>2010</td>\n",
       "      <td>12</td>\n",
       "      <td>2</td>\n",
       "    </tr>\n",
       "  </tbody>\n",
       "</table>\n",
       "<p>3 rows × 38 columns</p>\n",
       "</div>"
      ],
      "text/plain": [
       "   ID_ACCIDENT      DATE_                GROUPE_ACCIDENT  \\\n",
       "0     876245.0 2010-11-30  Dérapage ou perte de maîtrise   \n",
       "1     879408.0 2010-12-08                         Autres   \n",
       "2     877254.0 2010-12-02  Dérapage ou perte de maîtrise   \n",
       "\n",
       "                                               CAUSE      COMMUNE  \\\n",
       "0  Inattention et distraction - Manque d'attentio...       Genève   \n",
       "1  Utilisation inadéquate du véhicule - Stationne...       Genève   \n",
       "2  Inobservation de signaux ou de la signalisatio...  Vandoeuvres   \n",
       "\n",
       "  CONDITIONS_LUMINEUSES CONDITIONS_METEO         CONSEQUENCES    COOR_X  \\\n",
       "0                  Nuit   Chute de neige  Avec blessés légers  6.153116   \n",
       "1                  Jour             Beau               Autres  6.129641   \n",
       "2                  Jour          Couvert  Avec blessés légers  6.202445   \n",
       "\n",
       "      COOR_Y ...  NB_VOITURES_TOURISME NB_VOITURES_LIVRAISON NB_CAMIONS  \\\n",
       "0  46.200401 ...                   1.0                   0.0        0.0   \n",
       "1  46.206753 ...                   1.0                   0.0        0.0   \n",
       "2  46.221384 ...                   1.0                   0.0        0.0   \n",
       "\n",
       "  NB_BUS NB_TRAM          E          N  YEAR  MONTH  DAY  \n",
       "0    0.0     0.0  2500774.0  1117364.0  2010     11   30  \n",
       "1    0.0     0.0  2498974.0  1118100.0  2010     12    8  \n",
       "2    0.0     0.0  2504618.0  1119635.0  2010     12    2  \n",
       "\n",
       "[3 rows x 38 columns]"
      ]
     },
     "execution_count": 51,
     "metadata": {},
     "output_type": "execute_result"
    }
   ],
   "source": [
    "# projection definition\n",
    "p1 = Proj(init='epsg:2056')\n",
    "p2 = Proj(init='epsg:4326')\n",
    "\n",
    "# Helper functions\n",
    "def coord_proj(acc_df,i, p1, p2):\n",
    "    x1 = acc_df['COOR_X'].loc[i]\n",
    "    y1 = acc_df['COOR_Y'].loc[i]\n",
    "    x2, y2 = transform(p1,p2,x1,y1)\n",
    "    acc_df['COOR_X'].set_value(i, x2)\n",
    "    acc_df['COOR_Y'].set_value(i, y2)\n",
    "    return acc_df\n",
    "\n",
    "# Project data\n",
    "for i in range(0, len(acc_df['COOR_X'])-1):\n",
    "    acc_df = coord_proj(acc_df,i, p1, p2)\n",
    "# Delete unuseful columns\n",
    "#del acc_df['N']\n",
    "#del acc_df['E']\n",
    "acc_df.head(3)"
   ]
  },
  {
   "cell_type": "markdown",
   "metadata": {},
   "source": [
    "# LET'S GO FOR THE VISUALIZATION"
   ]
  },
  {
   "cell_type": "code",
   "execution_count": 52,
   "metadata": {},
   "outputs": [
    {
     "data": {
      "text/html": [
       "<div style=\"width:100%;\"><div style=\"position:relative;width:100%;height:0;padding-bottom:60%;\"><iframe src=\"data:text/html;charset=utf-8;base64,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\" style=\"position:absolute;width:100%;height:100%;left:0;top:0;border:none !important;\" allowfullscreen webkitallowfullscreen mozallowfullscreen></iframe></div></div>"
      ],
      "text/plain": [
       "<folium.folium.Map at 0x10fab44e0>"
      ]
     },
     "execution_count": 52,
     "metadata": {},
     "output_type": "execute_result"
    }
   ],
   "source": [
    "m = folium.Map(location=[46.254423, 6.142972], tiles='cartodbpositron', zoom_start=11)\n",
    "folium.GeoJson(open(\"map-3.geojson\",encoding = \"utf-8-sig\").read()).add_to(m)\n",
    "m"
   ]
  },
  {
   "cell_type": "markdown",
   "metadata": {},
   "source": [
    "# associate each accident to the correct polygon"
   ]
  },
  {
   "cell_type": "code",
   "execution_count": 53,
   "metadata": {
    "collapsed": true
   },
   "outputs": [],
   "source": [
    "import json\n",
    "from shapely.geometry import shape, Point\n",
    "\n",
    "# load GeoJSON file containing sectors\n",
    "with open('map-3.geojson') as f:\n",
    "    js = json.load(f)\n",
    "\n",
    "# adding an ID to every region in the json file:\n",
    "for i in range(len(js['features'])):\n",
    "    js['features'][i]['id']=i\n",
    "js['features'][9]['id']=0\n",
    "js['features'][8]['id']=0\n",
    "\n",
    "### ASSIGNING EACH ACCIDENT ITS CORRECT REGION\n",
    "acc_df['Region ID'] = 0\n",
    "polygons = js['features']\n",
    "for i in acc_df.index:\n",
    "    point = Point(acc_df.loc[i][['COOR_X','COOR_Y']])\n",
    "    for feature in polygons:\n",
    "        polygon = shape(feature['geometry'])\n",
    "        if polygon.contains(point):\n",
    "            acc_df.set_value(i,'Region ID',feature['id'])"
   ]
  },
  {
   "cell_type": "markdown",
   "metadata": {},
   "source": [
    "### let's visualize the total number of accidents in the years 2010-2016"
   ]
  },
  {
   "cell_type": "code",
   "execution_count": 54,
   "metadata": {
    "collapsed": true
   },
   "outputs": [],
   "source": [
    "from IPython.html.widgets import interact"
   ]
  },
  {
   "cell_type": "code",
   "execution_count": 55,
   "metadata": {},
   "outputs": [
    {
     "name": "stderr",
     "output_type": "stream",
     "text": [
      "Widget Javascript not detected.  It may not be installed or enabled properly.\n"
     ]
    },
    {
     "data": {
      "application/vnd.jupyter.widget-view+json": {
       "model_id": "560830e2344e4790aa0d84af30bf3a3d"
      }
     },
     "metadata": {},
     "output_type": "display_data"
    }
   ],
   "source": [
    "\n",
    "\n",
    "def _maps(year):\n",
    "    m = folium.Map(location=[46.254423, 6.142972], tiles='cartodbpositron', zoom_start=11)\n",
    "    accidents_2015_by_region = acc_df.loc[acc_df['YEAR']==year].groupby('Region ID').count()['ID_ACCIDENT']\n",
    "    m.choropleth(geo_data = js,\n",
    "                 data = accidents_2015_by_region,\n",
    "                 key_on = 'id',\n",
    "                 fill_color = 'YlOrRd', fill_opacity=1,\n",
    "                 line_color = 'black', line_weight = 1, line_opacity=0.9,\n",
    "                 smooth_factor = 1,\n",
    "                 reset = True, # False by default, put true if you wanna remove previous layers\n",
    "                 highlight = True, # hovering\n",
    "                 legend_name='Accidents in 2015')\n",
    "    return m\n",
    "year_list = np.arange(2010,2017)\n",
    "\n",
    "m = interact(_maps,year=year_list)"
   ]
  },
  {
   "cell_type": "code",
   "execution_count": 58,
   "metadata": {},
   "outputs": [],
   "source": [
    "# do one per dataset\n",
    "def get_feature_to_plot(year,feature, value, normalize):\n",
    "    serie = acc_df.loc[(acc_df['YEAR']==year) & (acc_df[feature]==value)].groupby('Region ID').count()['ID_ACCIDENT']\n",
    "    if normalize == True:   \n",
    "        total_number_of_accidents_in_year_per_region = acc_df.loc[(acc_df['YEAR']==year)].groupby('Region ID').count()['ID_ACCIDENT']\n",
    "        serie = serie / total_number_of_accidents_in_year_per_region\n",
    "    serie.fillna(0,inplace=True)\n",
    "    print(serie)\n",
    "    return serie\n",
    "\n",
    "\n",
    "def serie_color(feature,serie_to_plot,colormap):\n",
    "    \"\"\"return color for countries, black if no data ':'\n",
    "    depends on colormap settings\"\"\"\n",
    "\n",
    "    if feature['id'] not in list(serie_to_plot.index):\n",
    "        return '#000000'\n",
    "    else:\n",
    "        return colormap(serie_to_plot[feature['id']])\n",
    "    \n",
    "def create_colormap(index = 1, min_=0, max_=10,steps=10 ):\n",
    "    if index == 1:\n",
    "        step = cm.StepColormap(\n",
    "            ['green', 'yellow', 'red'],\n",
    "            vmin=3, vmax=10,\n",
    "            index=[3, 4, 8, 10],\n",
    "            caption='step'\n",
    "            )\n",
    "    if index == 2 :\n",
    "        step = cm.linear.Set1.scale(min_, max_).to_step(steps)\n",
    "    return step\n",
    "\n",
    "\n",
    "def create_map (year, feature, value, normalize):\n",
    "    m_serie = get_feature_to_plot(year, feature, value, normalize) # get the serie\n",
    "    colormap = create_colormap(2,m_serie.min(),m_serie.max(),steps = 5) # create a colorfeature\n",
    "    m = folium.Map(location=[46.254423, 6.142972], tiles='cartodbpositron', zoom_start=11)\n",
    "    \n",
    "    folium.GeoJson(js,\n",
    "                  style_function=lambda feature: {\n",
    "                'fillColor': serie_color(feature,m_serie,colormap),\n",
    "                'color' : 'black',\n",
    "                'weight' : 2,\n",
    "                'dashArray' : '5, 5'\n",
    "                }).add_to(m)\n",
    "    \n",
    "    colormap.caption = 'Accidents'\n",
    "    m.add_child(colormap)\n",
    "   \n",
    "    return m\n",
    "\n",
    "year_list = np.arange(2010,2017)\n",
    "\n",
    "\n",
    "def create_interactive_map(feature, normalize=True):\n",
    "    value_list = list(acc_df[feature].value_counts().index)\n",
    "    m = interact(create_map, year = year_list, feature = feature, value = value_list, normalize= normalize)\n",
    "    return m"
   ]
  },
  {
   "cell_type": "code",
   "execution_count": 59,
   "metadata": {},
   "outputs": [
    {
     "name": "stderr",
     "output_type": "stream",
     "text": [
      "Widget Javascript not detected.  It may not be installed or enabled properly.\n"
     ]
    },
    {
     "data": {
      "application/vnd.jupyter.widget-view+json": {
       "model_id": "d63ecf834f3843899945dddb0378721a"
      }
     },
     "metadata": {},
     "output_type": "display_data"
    },
    {
     "data": {
      "text/plain": [
       "<function __main__.create_map>"
      ]
     },
     "execution_count": 59,
     "metadata": {},
     "output_type": "execute_result"
    }
   ],
   "source": [
    "create_interactive_map('GROUPE_ACCIDENT')"
   ]
  },
  {
   "cell_type": "code",
   "execution_count": 60,
   "metadata": {},
   "outputs": [
    {
     "name": "stderr",
     "output_type": "stream",
     "text": [
      "Widget Javascript not detected.  It may not be installed or enabled properly.\n"
     ]
    },
    {
     "data": {
      "application/vnd.jupyter.widget-view+json": {
       "model_id": "5717b68bce4244af897e482773a8876a"
      }
     },
     "metadata": {},
     "output_type": "display_data"
    },
    {
     "data": {
      "text/plain": [
       "<function __main__.create_map>"
      ]
     },
     "execution_count": 60,
     "metadata": {},
     "output_type": "execute_result"
    }
   ],
   "source": [
    "create_interactive_map('CAUSE')"
   ]
  },
  {
   "cell_type": "code",
   "execution_count": 61,
   "metadata": {},
   "outputs": [
    {
     "name": "stderr",
     "output_type": "stream",
     "text": [
      "Widget Javascript not detected.  It may not be installed or enabled properly.\n"
     ]
    },
    {
     "data": {
      "application/vnd.jupyter.widget-view+json": {
       "model_id": "e4ebf669c384439e8a47de3107d2fd17"
      }
     },
     "metadata": {},
     "output_type": "display_data"
    },
    {
     "data": {
      "text/plain": [
       "<function __main__.create_map>"
      ]
     },
     "execution_count": 61,
     "metadata": {},
     "output_type": "execute_result"
    }
   ],
   "source": [
    "create_interactive_map('COMMUNE')"
   ]
  },
  {
   "cell_type": "code",
   "execution_count": 62,
   "metadata": {},
   "outputs": [
    {
     "name": "stderr",
     "output_type": "stream",
     "text": [
      "Widget Javascript not detected.  It may not be installed or enabled properly.\n"
     ]
    },
    {
     "data": {
      "application/vnd.jupyter.widget-view+json": {
       "model_id": "cc19698bae61450aba5728e3b3817fcd"
      }
     },
     "metadata": {},
     "output_type": "display_data"
    },
    {
     "data": {
      "text/plain": [
       "<function __main__.create_map>"
      ]
     },
     "execution_count": 62,
     "metadata": {},
     "output_type": "execute_result"
    }
   ],
   "source": [
    "create_interactive_map('CONDITIONS_LUMINEUSES')"
   ]
  },
  {
   "cell_type": "code",
   "execution_count": 63,
   "metadata": {},
   "outputs": [
    {
     "name": "stderr",
     "output_type": "stream",
     "text": [
      "Widget Javascript not detected.  It may not be installed or enabled properly.\n"
     ]
    },
    {
     "data": {
      "application/vnd.jupyter.widget-view+json": {
       "model_id": "5007c941436646c8a8892a4e34d12f93"
      }
     },
     "metadata": {},
     "output_type": "display_data"
    },
    {
     "data": {
      "text/plain": [
       "<function __main__.create_map>"
      ]
     },
     "execution_count": 63,
     "metadata": {},
     "output_type": "execute_result"
    }
   ],
   "source": [
    "create_interactive_map('CONDITIONS_METEO')"
   ]
  },
  {
   "cell_type": "code",
   "execution_count": 64,
   "metadata": {},
   "outputs": [
    {
     "name": "stderr",
     "output_type": "stream",
     "text": [
      "Widget Javascript not detected.  It may not be installed or enabled properly.\n"
     ]
    },
    {
     "data": {
      "application/vnd.jupyter.widget-view+json": {
       "model_id": "b34f55c8db7d414ea3a5ec320155bf0f"
      }
     },
     "metadata": {},
     "output_type": "display_data"
    },
    {
     "data": {
      "text/plain": [
       "<function __main__.create_map>"
      ]
     },
     "execution_count": 64,
     "metadata": {},
     "output_type": "execute_result"
    }
   ],
   "source": [
    "create_interactive_map('CONSEQUENCES')"
   ]
  },
  {
   "cell_type": "code",
   "execution_count": 65,
   "metadata": {},
   "outputs": [],
   "source": [
    "def get_number_to_plot(year,feature):\n",
    "    serie = acc_df.loc[(acc_df['YEAR']==year)].groupby('Region ID').sum()[feature]\n",
    "    serie.fillna(0,inplace=True)\n",
    "    return serie\n",
    "\n",
    "def create_NB_map (year, feature):\n",
    "    m_serie = get_number_to_plot(year, feature) # get the serie\n",
    "    colormap = create_colormap(2,m_serie.min(),m_serie.max(),steps = 5) # create a colorfeature\n",
    "    m = folium.Map(location=[46.254423, 6.142972], tiles='cartodbpositron', zoom_start=11)\n",
    "    \n",
    "    folium.GeoJson(js,\n",
    "                  style_function=lambda feature: {\n",
    "                'fillColor': serie_color(feature,m_serie,colormap),\n",
    "                'color' : 'black',\n",
    "                'weight' : 2,\n",
    "                'dashArray' : '5, 5'\n",
    "                }).add_to(m)\n",
    "    \n",
    "    colormap.caption = 'Accidents'\n",
    "    m.add_child(colormap)\n",
    "   \n",
    "    return m\n",
    "\n",
    "\n",
    "\n",
    "def create_interactive_ABSOLUTE_NB_map():\n",
    "    year_list = np.arange(2010,2017)\n",
    "    feature_list = ['NB_ENFANTS_IMPLIQUES', 'NB_ENFANTS_ECOLE']\n",
    "    m = interact(create_NB_map, year = year_list, feature = feature_list)\n",
    "    return m"
   ]
  },
  {
   "cell_type": "code",
   "execution_count": 66,
   "metadata": {},
   "outputs": [
    {
     "name": "stderr",
     "output_type": "stream",
     "text": [
      "Widget Javascript not detected.  It may not be installed or enabled properly.\n"
     ]
    },
    {
     "data": {
      "application/vnd.jupyter.widget-view+json": {
       "model_id": "a78db8d6b921466c86649a5bd1f3bdb7"
      }
     },
     "metadata": {},
     "output_type": "display_data"
    },
    {
     "data": {
      "text/plain": [
       "<function __main__.create_NB_map>"
      ]
     },
     "execution_count": 66,
     "metadata": {},
     "output_type": "execute_result"
    }
   ],
   "source": [
    "create_interactive_ABSOLUTE_NB_map()"
   ]
  },
  {
   "cell_type": "code",
   "execution_count": 67,
   "metadata": {
    "collapsed": true
   },
   "outputs": [],
   "source": [
    "blesses_et_tues = ['NB_BLESSES_LEGERS',\n",
    "       'NB_BLESSES_GRAVES', 'NB_TUES']\n",
    "\n",
    "vehicles = ['NB_BICYCLETTES',\n",
    "       'NB_VAE_25', 'NB_VAE_45', 'NB_CYCLOMOTEURS', 'NB_MOTOS_50',\n",
    "       'NB_MOTOS_125', 'NB_MOTOS_11KW', 'NB_VOITURES_TOURISME',\n",
    "       'NB_VOITURES_LIVRAISON', 'NB_CAMIONS', 'NB_BUS', 'NB_TRAM']"
   ]
  },
  {
   "cell_type": "code",
   "execution_count": 68,
   "metadata": {
    "collapsed": true
   },
   "outputs": [],
   "source": [
    "def get_number_to_plot_blesses_et_tues(year,feature,normalize=False):\n",
    "    cum_df = acc_df.loc[(acc_df['YEAR']==year)].groupby('Region ID').sum()[blesses_et_tues]\n",
    "    serie = cum_df[feature]\n",
    "    print(serie)\n",
    "    if normalize==True:\n",
    "        tot_nb = cum_df.sum(axis=1)\n",
    "        serie  = serie/tot_nb\n",
    "    serie.fillna(0,inplace=True)\n",
    "    return serie\n",
    "\n",
    "def create_normalized_map_blesse_et_tues (year,feature,normalize=False):\n",
    "    m_serie = get_number_to_plot_blesses_et_tues(year, feature,normalize) # get the serie\n",
    "    colormap = create_colormap(2,m_serie.min(),m_serie.max(),steps = 5) # create a colorfeature\n",
    "    m = folium.Map(location=[46.254423, 6.142972], tiles='cartodbpositron', zoom_start=11)\n",
    "    \n",
    "    folium.GeoJson(js,\n",
    "                  style_function=lambda feature: {\n",
    "                'fillColor': serie_color(feature,m_serie,colormap),\n",
    "                'color' : 'black',\n",
    "                'weight' : 2,\n",
    "                'dashArray' : '5, 5'\n",
    "                }).add_to(m)\n",
    "    \n",
    "    colormap.caption = 'Accidents'\n",
    "    m.add_child(colormap)\n",
    "   \n",
    "    return m\n",
    "\n",
    "def create_interactive_map_blesse_et_tues():\n",
    "    year_list = np.arange(2010,2017)\n",
    "    m = interact(create_normalized_map_blesse_et_tues, year = year_list, feature = blesses_et_tues,normalize=False)\n",
    "    return m\n",
    "\n",
    "\n",
    "\n",
    "def get_number_to_plot_vehicles(year,feature,normalize=False):\n",
    "    cum_df = acc_df.loc[(acc_df['YEAR']==year)].groupby('Region ID').sum()[vehicles]\n",
    "    serie = cum_df[feature]\n",
    "    print(serie)\n",
    "    if normalize==True:\n",
    "        tot_nb = cum_df.sum(axis=1)\n",
    "        serie  = serie/tot_nb\n",
    "    serie.fillna(0,inplace=True)\n",
    "    return serie\n",
    "\n",
    "def create_normalized_map_vehicles (year,feature,normalize=False):\n",
    "    m_serie = get_number_to_plot_vehicles(year, feature,normalize) # get the serie\n",
    "    colormap = create_colormap(2,m_serie.min(),m_serie.max(),steps = 5) # create a colorfeature\n",
    "    m = folium.Map(location=[46.254423, 6.142972], tiles='cartodbpositron', zoom_start=11)\n",
    "    \n",
    "    folium.GeoJson(js,\n",
    "                  style_function=lambda feature: {\n",
    "                'fillColor': serie_color(feature,m_serie,colormap),\n",
    "                'color' : 'black',\n",
    "                'weight' : 2,\n",
    "                'dashArray' : '5, 5'\n",
    "                }).add_to(m)\n",
    "    \n",
    "    colormap.caption = 'Accidents'\n",
    "    m.add_child(colormap)\n",
    "   \n",
    "    return m\n",
    "\n",
    "def create_interactive_map_vehicles():\n",
    "    year_list = np.arange(2010,2017)\n",
    "    m = interact(create_normalized_map_vehicles, year = year_list, feature = vehicles,normalize=False)\n",
    "    return m"
   ]
  },
  {
   "cell_type": "code",
   "execution_count": 69,
   "metadata": {},
   "outputs": [
    {
     "name": "stderr",
     "output_type": "stream",
     "text": [
      "Widget Javascript not detected.  It may not be installed or enabled properly.\n"
     ]
    },
    {
     "data": {
      "application/vnd.jupyter.widget-view+json": {
       "model_id": "5eb0f4f044dd46da95055445d1b0ec72"
      }
     },
     "metadata": {},
     "output_type": "display_data"
    },
    {
     "data": {
      "text/plain": [
       "<function __main__.create_normalized_map_blesse_et_tues>"
      ]
     },
     "execution_count": 69,
     "metadata": {},
     "output_type": "execute_result"
    }
   ],
   "source": [
    "create_interactive_map_blesse_et_tues()"
   ]
  },
  {
   "cell_type": "code",
   "execution_count": 70,
   "metadata": {},
   "outputs": [
    {
     "name": "stderr",
     "output_type": "stream",
     "text": [
      "Widget Javascript not detected.  It may not be installed or enabled properly.\n"
     ]
    },
    {
     "data": {
      "application/vnd.jupyter.widget-view+json": {
       "model_id": "025a5b876b864b1c8719fb36b9f17b6d"
      }
     },
     "metadata": {},
     "output_type": "display_data"
    },
    {
     "data": {
      "text/plain": [
       "<function __main__.create_normalized_map_vehicles>"
      ]
     },
     "execution_count": 70,
     "metadata": {},
     "output_type": "execute_result"
    }
   ],
   "source": [
    "create_interactive_map_vehicles()"
   ]
  },
  {
   "cell_type": "code",
   "execution_count": null,
   "metadata": {
    "collapsed": true
   },
   "outputs": [],
   "source": []
  }
 ],
 "metadata": {
  "kernelspec": {
   "display_name": "Python 3",
   "language": "python",
   "name": "python3"
  },
  "language_info": {
   "codemirror_mode": {
    "name": "ipython",
    "version": 3
   },
   "file_extension": ".py",
   "mimetype": "text/x-python",
   "name": "python",
   "nbconvert_exporter": "python",
   "pygments_lexer": "ipython3",
   "version": "3.6.1"
  }
 },
 "nbformat": 4,
 "nbformat_minor": 2
}
