{
 "cells": [
  {
   "cell_type": "markdown",
   "metadata": {},
   "source": [
    "# Visualization of the dataset\n",
    "\n",
    "The aim of this notebook is to display ten (10) choroplet maps to illustrate our dataset:\n",
    "\n",
    "\n",
    "## 1) Libraries import and  dataset load and preparation"
   ]
  },
  {
   "cell_type": "code",
   "execution_count": 1,
   "metadata": {},
   "outputs": [
    {
     "data": {
      "text/html": [
       "<div>\n",
       "<style>\n",
       "    .dataframe thead tr:only-child th {\n",
       "        text-align: right;\n",
       "    }\n",
       "\n",
       "    .dataframe thead th {\n",
       "        text-align: left;\n",
       "    }\n",
       "\n",
       "    .dataframe tbody tr th {\n",
       "        vertical-align: top;\n",
       "    }\n",
       "</style>\n",
       "<table border=\"1\" class=\"dataframe\">\n",
       "  <thead>\n",
       "    <tr style=\"text-align: right;\">\n",
       "      <th></th>\n",
       "      <th>ID_ACCIDENT</th>\n",
       "      <th>DATE_</th>\n",
       "      <th>GROUPE_ACCIDENT</th>\n",
       "      <th>CAUSE</th>\n",
       "      <th>COMMUNE</th>\n",
       "      <th>CONDITIONS_LUMINEUSES</th>\n",
       "      <th>CONDITIONS_METEO</th>\n",
       "      <th>CONSEQUENCES</th>\n",
       "      <th>COOR_X</th>\n",
       "      <th>COOR_Y</th>\n",
       "      <th>...</th>\n",
       "      <th>NB_MOTOS_50</th>\n",
       "      <th>NB_MOTOS_125</th>\n",
       "      <th>NB_MOTOS_11KW</th>\n",
       "      <th>NB_VOITURES_TOURISME</th>\n",
       "      <th>NB_VOITURES_LIVRAISON</th>\n",
       "      <th>NB_CAMIONS</th>\n",
       "      <th>NB_BUS</th>\n",
       "      <th>NB_TRAM</th>\n",
       "      <th>E</th>\n",
       "      <th>N</th>\n",
       "    </tr>\n",
       "  </thead>\n",
       "  <tbody>\n",
       "    <tr>\n",
       "      <th>0</th>\n",
       "      <td>876245.0</td>\n",
       "      <td>2010-11-30 00:00:00</td>\n",
       "      <td>Dérapage ou perte de maîtrise</td>\n",
       "      <td>Inattention et distraction - Manque d'attentio...</td>\n",
       "      <td>Genève</td>\n",
       "      <td>Nuit</td>\n",
       "      <td>Chute de neige</td>\n",
       "      <td>Avec blessés légers</td>\n",
       "      <td>2500774.0</td>\n",
       "      <td>1117364.0</td>\n",
       "      <td>...</td>\n",
       "      <td>0.0</td>\n",
       "      <td>0.0</td>\n",
       "      <td>0.0</td>\n",
       "      <td>1.0</td>\n",
       "      <td>0.0</td>\n",
       "      <td>0.0</td>\n",
       "      <td>0.0</td>\n",
       "      <td>0.0</td>\n",
       "      <td>2500774.0</td>\n",
       "      <td>1117364.0</td>\n",
       "    </tr>\n",
       "    <tr>\n",
       "      <th>1</th>\n",
       "      <td>879408.0</td>\n",
       "      <td>2010-12-08 00:00:00</td>\n",
       "      <td>Autres</td>\n",
       "      <td>Utilisation inadéquate du véhicule - Stationne...</td>\n",
       "      <td>Genève</td>\n",
       "      <td>Jour</td>\n",
       "      <td>Beau</td>\n",
       "      <td>Autres</td>\n",
       "      <td>2498974.0</td>\n",
       "      <td>1118100.0</td>\n",
       "      <td>...</td>\n",
       "      <td>0.0</td>\n",
       "      <td>0.0</td>\n",
       "      <td>0.0</td>\n",
       "      <td>1.0</td>\n",
       "      <td>0.0</td>\n",
       "      <td>0.0</td>\n",
       "      <td>0.0</td>\n",
       "      <td>0.0</td>\n",
       "      <td>2498974.0</td>\n",
       "      <td>1118100.0</td>\n",
       "    </tr>\n",
       "    <tr>\n",
       "      <th>2</th>\n",
       "      <td>877254.0</td>\n",
       "      <td>2010-12-02 00:00:00</td>\n",
       "      <td>Dérapage ou perte de maîtrise</td>\n",
       "      <td>Inobservation de signaux ou de la signalisatio...</td>\n",
       "      <td>Vandoeuvres</td>\n",
       "      <td>Jour</td>\n",
       "      <td>Couvert</td>\n",
       "      <td>Avec blessés légers</td>\n",
       "      <td>2504618.0</td>\n",
       "      <td>1119635.0</td>\n",
       "      <td>...</td>\n",
       "      <td>0.0</td>\n",
       "      <td>0.0</td>\n",
       "      <td>0.0</td>\n",
       "      <td>1.0</td>\n",
       "      <td>0.0</td>\n",
       "      <td>0.0</td>\n",
       "      <td>0.0</td>\n",
       "      <td>0.0</td>\n",
       "      <td>2504618.0</td>\n",
       "      <td>1119635.0</td>\n",
       "    </tr>\n",
       "  </tbody>\n",
       "</table>\n",
       "<p>3 rows × 35 columns</p>\n",
       "</div>"
      ],
      "text/plain": [
       "   ID_ACCIDENT                DATE_                GROUPE_ACCIDENT  \\\n",
       "0     876245.0  2010-11-30 00:00:00  Dérapage ou perte de maîtrise   \n",
       "1     879408.0  2010-12-08 00:00:00                         Autres   \n",
       "2     877254.0  2010-12-02 00:00:00  Dérapage ou perte de maîtrise   \n",
       "\n",
       "                                               CAUSE      COMMUNE  \\\n",
       "0  Inattention et distraction - Manque d'attentio...       Genève   \n",
       "1  Utilisation inadéquate du véhicule - Stationne...       Genève   \n",
       "2  Inobservation de signaux ou de la signalisatio...  Vandoeuvres   \n",
       "\n",
       "  CONDITIONS_LUMINEUSES CONDITIONS_METEO         CONSEQUENCES     COOR_X  \\\n",
       "0                  Nuit   Chute de neige  Avec blessés légers  2500774.0   \n",
       "1                  Jour             Beau               Autres  2498974.0   \n",
       "2                  Jour          Couvert  Avec blessés légers  2504618.0   \n",
       "\n",
       "      COOR_Y    ...     NB_MOTOS_50 NB_MOTOS_125 NB_MOTOS_11KW  \\\n",
       "0  1117364.0    ...             0.0          0.0           0.0   \n",
       "1  1118100.0    ...             0.0          0.0           0.0   \n",
       "2  1119635.0    ...             0.0          0.0           0.0   \n",
       "\n",
       "  NB_VOITURES_TOURISME NB_VOITURES_LIVRAISON  NB_CAMIONS  NB_BUS  NB_TRAM  \\\n",
       "0                  1.0                   0.0         0.0     0.0      0.0   \n",
       "1                  1.0                   0.0         0.0     0.0      0.0   \n",
       "2                  1.0                   0.0         0.0     0.0      0.0   \n",
       "\n",
       "           E          N  \n",
       "0  2500774.0  1117364.0  \n",
       "1  2498974.0  1118100.0  \n",
       "2  2504618.0  1119635.0  \n",
       "\n",
       "[3 rows x 35 columns]"
      ]
     },
     "execution_count": 1,
     "metadata": {},
     "output_type": "execute_result"
    }
   ],
   "source": [
    "# Import common libraries\n",
    "import pandas as pd\n",
    "import numpy as np\n",
    "\n",
    "# Import lib for Json and maps\n",
    "import json\n",
    "from shapely.geometry import shape, Point\n",
    "\n",
    "# plotting lib\n",
    "import branca.colormap as cm # for color steps\n",
    "%matplotlib inline \n",
    "import folium\n",
    "from IPython.display import display\n",
    "\n",
    "\n",
    "# lib to convert GPS coordinates into a new format\n",
    "from pyproj import Proj, transform\n",
    "\n",
    "# lib to convert dates to datetime format\n",
    "from datetime import datetime\n",
    "from datetime import date, time\n",
    "from dateutil.parser import parse\n",
    "\n",
    "# Read the dataset\n",
    "acc_data = '../_data/OTC_ACCIDENTS.csv'\n",
    "compt_trafic_data = '../_data/OTC_COMPTAGE_TRAFIC.csv'\n",
    "acc_df = pd.read_csv(acc_data, sep=';', encoding='latin-1')\n",
    "compt_trafic_df = pd.read_csv(compt_trafic_data, sep=';', encoding='latin-1')\n",
    "\n",
    "# Show the df to have a better idea\n",
    "acc_df.head(3)"
   ]
  },
  {
   "cell_type": "markdown",
   "metadata": {},
   "source": [
    "### Handling of Time data: convert them to datetime format\n",
    "<a id='321Time'></a>"
   ]
  },
  {
   "cell_type": "markdown",
   "metadata": {},
   "source": [
    "An important feature of the accidents datasets is the time: It answers the question when the accidents happen. This feature will be very useful for our further analysis. As time features, there are:\n",
    "- Date\n",
    "- Hour\n",
    "- Day of the week\n",
    "\n",
    "Let's check the format of this three features:"
   ]
  },
  {
   "cell_type": "code",
   "execution_count": 2,
   "metadata": {},
   "outputs": [
    {
     "name": "stdout",
     "output_type": "stream",
     "text": [
      "0    2010-11-30 00:00:00\n",
      "1    2010-12-08 00:00:00\n",
      "Name: DATE_, dtype: object\n",
      "0    1899-12-30 21:00:00\n",
      "1    1899-12-30 14:00:00\n",
      "Name: HEURE, dtype: object\n",
      "0       Mardi\n",
      "1    Mercredi\n",
      "Name: JOUR, dtype: object\n"
     ]
    }
   ],
   "source": [
    "print(acc_df.DATE_.head(2))\n",
    "print(acc_df.HEURE.head(2))\n",
    "print(acc_df.JOUR.head(2))"
   ]
  },
  {
   "cell_type": "markdown",
   "metadata": {},
   "source": [
    "In order to use these features, we need to change the format. In addition, to enrich our analysis, we will create the `Year`, `Month` and `Day` of the month to find more correlations with the accidents:"
   ]
  },
  {
   "cell_type": "code",
   "execution_count": 3,
   "metadata": {
    "collapsed": true
   },
   "outputs": [],
   "source": [
    "# Datetime format\n",
    "acc_df['DATE_'] = acc_df['DATE_'].apply(lambda d: pd.to_datetime(d))\n",
    "acc_df['HEURE'] = acc_df['HEURE'].apply(lambda d: pd.to_datetime(d))\n",
    "\n",
    "# Create new time features\n",
    "acc_df['YEAR'] = [date.year for date in acc_df['DATE_']]\n",
    "acc_df['MONTH'] = [date.month for date in acc_df['DATE_']]\n",
    "acc_df['DAY'] = [date.day for date in acc_df['DATE_']]\n",
    "acc_df['HEURE'] = acc_df['HEURE'].fillna(acc_df['HEURE'].iloc[0])  # Fillna with first value of the df (Error neglible)\n",
    "#acc_df.info()"
   ]
  },
  {
   "cell_type": "markdown",
   "metadata": {},
   "source": [
    "## converting GPS coordinates to standard epsg:4326 reference system\n",
    "\n",
    "An other important question to ask is WHERE?. The localisation features will help to answer this question and find the relation with the other features. \n",
    "As localisation features, we can find:\n",
    "- **COOR_X**: X coordenate in 'epsg_2056' reference system\n",
    "- **COOR_Y**: X coordenate in 'epsg_2056' reference system\n",
    "\n",
    "E and N gives the same information as COOR_X and COOR_Y. This is why they will be dropped. The COOR_X and COOR_Y coordenates will be projected in the GPS coordenates, also called 'epsg:4326' reference system. For this, the Proj and transform libraries will be used:"
   ]
  },
  {
   "cell_type": "code",
   "execution_count": 4,
   "metadata": {},
   "outputs": [
    {
     "data": {
      "text/html": [
       "<div>\n",
       "<style>\n",
       "    .dataframe thead tr:only-child th {\n",
       "        text-align: right;\n",
       "    }\n",
       "\n",
       "    .dataframe thead th {\n",
       "        text-align: left;\n",
       "    }\n",
       "\n",
       "    .dataframe tbody tr th {\n",
       "        vertical-align: top;\n",
       "    }\n",
       "</style>\n",
       "<table border=\"1\" class=\"dataframe\">\n",
       "  <thead>\n",
       "    <tr style=\"text-align: right;\">\n",
       "      <th></th>\n",
       "      <th>ID_ACCIDENT</th>\n",
       "      <th>DATE_</th>\n",
       "      <th>GROUPE_ACCIDENT</th>\n",
       "      <th>CAUSE</th>\n",
       "      <th>COMMUNE</th>\n",
       "      <th>CONDITIONS_LUMINEUSES</th>\n",
       "      <th>CONDITIONS_METEO</th>\n",
       "      <th>CONSEQUENCES</th>\n",
       "      <th>COOR_X</th>\n",
       "      <th>COOR_Y</th>\n",
       "      <th>...</th>\n",
       "      <th>NB_VOITURES_TOURISME</th>\n",
       "      <th>NB_VOITURES_LIVRAISON</th>\n",
       "      <th>NB_CAMIONS</th>\n",
       "      <th>NB_BUS</th>\n",
       "      <th>NB_TRAM</th>\n",
       "      <th>E</th>\n",
       "      <th>N</th>\n",
       "      <th>YEAR</th>\n",
       "      <th>MONTH</th>\n",
       "      <th>DAY</th>\n",
       "    </tr>\n",
       "  </thead>\n",
       "  <tbody>\n",
       "    <tr>\n",
       "      <th>0</th>\n",
       "      <td>876245.0</td>\n",
       "      <td>2010-11-30</td>\n",
       "      <td>Dérapage ou perte de maîtrise</td>\n",
       "      <td>Inattention et distraction - Manque d'attentio...</td>\n",
       "      <td>Genève</td>\n",
       "      <td>Nuit</td>\n",
       "      <td>Chute de neige</td>\n",
       "      <td>Avec blessés légers</td>\n",
       "      <td>6.153116</td>\n",
       "      <td>46.200401</td>\n",
       "      <td>...</td>\n",
       "      <td>1.0</td>\n",
       "      <td>0.0</td>\n",
       "      <td>0.0</td>\n",
       "      <td>0.0</td>\n",
       "      <td>0.0</td>\n",
       "      <td>2500774.0</td>\n",
       "      <td>1117364.0</td>\n",
       "      <td>2010</td>\n",
       "      <td>11</td>\n",
       "      <td>30</td>\n",
       "    </tr>\n",
       "    <tr>\n",
       "      <th>1</th>\n",
       "      <td>879408.0</td>\n",
       "      <td>2010-12-08</td>\n",
       "      <td>Autres</td>\n",
       "      <td>Utilisation inadéquate du véhicule - Stationne...</td>\n",
       "      <td>Genève</td>\n",
       "      <td>Jour</td>\n",
       "      <td>Beau</td>\n",
       "      <td>Autres</td>\n",
       "      <td>6.129641</td>\n",
       "      <td>46.206753</td>\n",
       "      <td>...</td>\n",
       "      <td>1.0</td>\n",
       "      <td>0.0</td>\n",
       "      <td>0.0</td>\n",
       "      <td>0.0</td>\n",
       "      <td>0.0</td>\n",
       "      <td>2498974.0</td>\n",
       "      <td>1118100.0</td>\n",
       "      <td>2010</td>\n",
       "      <td>12</td>\n",
       "      <td>8</td>\n",
       "    </tr>\n",
       "    <tr>\n",
       "      <th>2</th>\n",
       "      <td>877254.0</td>\n",
       "      <td>2010-12-02</td>\n",
       "      <td>Dérapage ou perte de maîtrise</td>\n",
       "      <td>Inobservation de signaux ou de la signalisatio...</td>\n",
       "      <td>Vandoeuvres</td>\n",
       "      <td>Jour</td>\n",
       "      <td>Couvert</td>\n",
       "      <td>Avec blessés légers</td>\n",
       "      <td>6.202445</td>\n",
       "      <td>46.221384</td>\n",
       "      <td>...</td>\n",
       "      <td>1.0</td>\n",
       "      <td>0.0</td>\n",
       "      <td>0.0</td>\n",
       "      <td>0.0</td>\n",
       "      <td>0.0</td>\n",
       "      <td>2504618.0</td>\n",
       "      <td>1119635.0</td>\n",
       "      <td>2010</td>\n",
       "      <td>12</td>\n",
       "      <td>2</td>\n",
       "    </tr>\n",
       "  </tbody>\n",
       "</table>\n",
       "<p>3 rows × 38 columns</p>\n",
       "</div>"
      ],
      "text/plain": [
       "   ID_ACCIDENT      DATE_                GROUPE_ACCIDENT  \\\n",
       "0     876245.0 2010-11-30  Dérapage ou perte de maîtrise   \n",
       "1     879408.0 2010-12-08                         Autres   \n",
       "2     877254.0 2010-12-02  Dérapage ou perte de maîtrise   \n",
       "\n",
       "                                               CAUSE      COMMUNE  \\\n",
       "0  Inattention et distraction - Manque d'attentio...       Genève   \n",
       "1  Utilisation inadéquate du véhicule - Stationne...       Genève   \n",
       "2  Inobservation de signaux ou de la signalisatio...  Vandoeuvres   \n",
       "\n",
       "  CONDITIONS_LUMINEUSES CONDITIONS_METEO         CONSEQUENCES    COOR_X  \\\n",
       "0                  Nuit   Chute de neige  Avec blessés légers  6.153116   \n",
       "1                  Jour             Beau               Autres  6.129641   \n",
       "2                  Jour          Couvert  Avec blessés légers  6.202445   \n",
       "\n",
       "      COOR_Y ...  NB_VOITURES_TOURISME NB_VOITURES_LIVRAISON NB_CAMIONS  \\\n",
       "0  46.200401 ...                   1.0                   0.0        0.0   \n",
       "1  46.206753 ...                   1.0                   0.0        0.0   \n",
       "2  46.221384 ...                   1.0                   0.0        0.0   \n",
       "\n",
       "  NB_BUS NB_TRAM          E          N  YEAR  MONTH  DAY  \n",
       "0    0.0     0.0  2500774.0  1117364.0  2010     11   30  \n",
       "1    0.0     0.0  2498974.0  1118100.0  2010     12    8  \n",
       "2    0.0     0.0  2504618.0  1119635.0  2010     12    2  \n",
       "\n",
       "[3 rows x 38 columns]"
      ]
     },
     "execution_count": 4,
     "metadata": {},
     "output_type": "execute_result"
    }
   ],
   "source": [
    "# projection definition\n",
    "p1 = Proj(init='epsg:2056')\n",
    "p2 = Proj(init='epsg:4326')\n",
    "\n",
    "# Helper functions\n",
    "def coord_proj(acc_df,i, p1, p2):\n",
    "    x1 = acc_df['COOR_X'].loc[i]\n",
    "    y1 = acc_df['COOR_Y'].loc[i]\n",
    "    x2, y2 = transform(p1,p2,x1,y1)\n",
    "    acc_df['COOR_X'].set_value(i, x2)\n",
    "    acc_df['COOR_Y'].set_value(i, y2)\n",
    "    return acc_df\n",
    "\n",
    "# Project data\n",
    "for i in range(0, len(acc_df['COOR_X'])-1):\n",
    "    acc_df = coord_proj(acc_df,i, p1, p2)\n",
    "# Delete unuseful columns\n",
    "#del acc_df['N']\n",
    "#del acc_df['E']\n",
    "acc_df.head(3)"
   ]
  },
  {
   "cell_type": "markdown",
   "metadata": {},
   "source": [
    "# 2) VISUALIZATION of the dataset\n",
    "Now that we finished the (brief) preprocessing of our dataset, let's go for the visualization of the dataset. To do so, we manually created a GeoJson file of different zones of the Genève canton thanks to the intuitive interface of the tool provided at http://geojson.io/#map=2/20.0/0.0. \n",
    "\n",
    "We divided the canton into \n",
    "* 10 polygons\n",
    "* 8 regions\n",
    "\n",
    "Observe that there are 2 less regions than polygon because, as displayed hereunder, the first three polygons in the top left of the map are considered belonging to the same region.\n"
   ]
  },
  {
   "cell_type": "code",
   "execution_count": 5,
   "metadata": {
    "collapsed": true
   },
   "outputs": [],
   "source": [
    "### HELPER FUNCTIONS TO PLOT THE DATA IN FANCY COLOURS\n",
    "\n",
    "def serie_color(feature,serie_to_plot,colormap):\n",
    "    \"\"\"return color for countries, black if no data ':'\n",
    "    depends on colormap settings\"\"\"\n",
    "\n",
    "    if feature['id'] not in list(serie_to_plot.index):\n",
    "        return '#000000'\n",
    "    else:\n",
    "        return colormap(serie_to_plot[feature['id']])\n",
    "    \n",
    "def create_colormap(index = 1, min_=0, max_=10,steps=10 ):\n",
    "    if index == 1:\n",
    "        step = cm.StepColormap(\n",
    "            colors=['#FF0000','#FF8644','#0033FF','#60FFBF','#F6FF00'],\n",
    "            vmin=min_, vmax=max_,\n",
    "            caption='step'\n",
    "            )\n",
    "    if index == 2 :\n",
    "        step = cm.linear.Set1.scale(min_, max_).to_step(steps)\n",
    "    return step"
   ]
  },
  {
   "cell_type": "code",
   "execution_count": 6,
   "metadata": {},
   "outputs": [
    {
     "data": {
      "text/html": [
       "<div style=\"width:100%;\"><div style=\"position:relative;width:100%;height:0;padding-bottom:60%;\"><iframe src=\"data:text/html;charset=utf-8;base64,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\" style=\"position:absolute;width:100%;height:100%;left:0;top:0;border:none !important;\" allowfullscreen webkitallowfullscreen mozallowfullscreen></iframe></div></div>"
      ],
      "text/plain": [
       "<folium.folium.Map at 0x10633c8d0>"
      ]
     },
     "execution_count": 6,
     "metadata": {},
     "output_type": "execute_result"
    }
   ],
   "source": [
    "### CREATING THE MAP\n",
    "m = folium.Map(location=[46.254423, 6.142972], tiles='cartodbpositron', zoom_start=11)\n",
    "\n",
    "### LOAD GeoJSON FILE CONTAINING POLYGONS\n",
    "with open('map-3.geojson') as f:\n",
    "    js = json.load(f)\n",
    "folium.GeoJson(open(\"map-3.geojson\",encoding = \"utf-8-sig\").read()).add_to(m)\n",
    "\n",
    "### ADDING AN ID TO EVERY POLYGON\n",
    "### we define a unique region between the three polygons in the top-left of the canton by setting the last\n",
    "### two indices euqal again to 0\n",
    "ids = [0,1,2,3,4,5,6,7,0,0]\n",
    "for i in range(len(js['features'])):\n",
    "    js['features'][i]['id']=ids[i]\n",
    "\n",
    "### LET'S DISPLAY THE REGIONS:\n",
    "m_serie = pd.Series(ids)\n",
    "colormap = create_colormap(2,m_serie.min(),m_serie.max(),steps = 8) # create a colorfeature\n",
    "\n",
    "    \n",
    "folium.GeoJson(js,\n",
    "                style_function=lambda feature: {\n",
    "                'fillColor': serie_color(feature,m_serie,colormap),\n",
    "                'color' : 'black',\n",
    "                'weight' : 2,\n",
    "                'dashArray' : '5, 5'\n",
    "                }).add_to(m)\n",
    "    \n",
    "colormap.caption = 'Region IDs'\n",
    "m.add_child(colormap)\n",
    "    \n",
    "m"
   ]
  },
  {
   "cell_type": "markdown",
   "metadata": {},
   "source": [
    "## associating each accident to the correct polygon\n",
    "\n",
    "For every accident in the acc_df dataframe, we have its GPS coordinates, but we don't know (yet) which region of the 8 defined above it belongs to. Let's add a column to the acc_df dataframe devoted to store the corresponding region for each accident: acc_df['RegionID']. \n",
    "\n",
    "The functions Point, shape of the library Shapely https://pypi.python.org/pypi/Shapely let us fill this column in a straightforward way in the few lines hereunder:"
   ]
  },
  {
   "cell_type": "code",
   "execution_count": 7,
   "metadata": {},
   "outputs": [
    {
     "data": {
      "text/html": [
       "<div>\n",
       "<style>\n",
       "    .dataframe thead tr:only-child th {\n",
       "        text-align: right;\n",
       "    }\n",
       "\n",
       "    .dataframe thead th {\n",
       "        text-align: left;\n",
       "    }\n",
       "\n",
       "    .dataframe tbody tr th {\n",
       "        vertical-align: top;\n",
       "    }\n",
       "</style>\n",
       "<table border=\"1\" class=\"dataframe\">\n",
       "  <thead>\n",
       "    <tr style=\"text-align: right;\">\n",
       "      <th></th>\n",
       "      <th>ID_ACCIDENT</th>\n",
       "      <th>COOR_X</th>\n",
       "      <th>COOR_Y</th>\n",
       "      <th>Region ID</th>\n",
       "    </tr>\n",
       "  </thead>\n",
       "  <tbody>\n",
       "    <tr>\n",
       "      <th>0</th>\n",
       "      <td>876245.0</td>\n",
       "      <td>6.153116</td>\n",
       "      <td>46.200401</td>\n",
       "      <td>3</td>\n",
       "    </tr>\n",
       "    <tr>\n",
       "      <th>1</th>\n",
       "      <td>879408.0</td>\n",
       "      <td>6.129641</td>\n",
       "      <td>46.206753</td>\n",
       "      <td>3</td>\n",
       "    </tr>\n",
       "    <tr>\n",
       "      <th>2</th>\n",
       "      <td>877254.0</td>\n",
       "      <td>6.202445</td>\n",
       "      <td>46.221384</td>\n",
       "      <td>6</td>\n",
       "    </tr>\n",
       "    <tr>\n",
       "      <th>3</th>\n",
       "      <td>857129.0</td>\n",
       "      <td>6.180094</td>\n",
       "      <td>46.208173</td>\n",
       "      <td>6</td>\n",
       "    </tr>\n",
       "    <tr>\n",
       "      <th>4</th>\n",
       "      <td>843463.0</td>\n",
       "      <td>6.174721</td>\n",
       "      <td>46.199584</td>\n",
       "      <td>6</td>\n",
       "    </tr>\n",
       "  </tbody>\n",
       "</table>\n",
       "</div>"
      ],
      "text/plain": [
       "   ID_ACCIDENT    COOR_X     COOR_Y  Region ID\n",
       "0     876245.0  6.153116  46.200401          3\n",
       "1     879408.0  6.129641  46.206753          3\n",
       "2     877254.0  6.202445  46.221384          6\n",
       "3     857129.0  6.180094  46.208173          6\n",
       "4     843463.0  6.174721  46.199584          6"
      ]
     },
     "execution_count": 7,
     "metadata": {},
     "output_type": "execute_result"
    }
   ],
   "source": [
    "### ASSIGNING EACH ACCIDENT ITS CORRECT REGION\n",
    "\n",
    "# adding a column in the dataframe devoted to store the corresponding region for each accident \n",
    "acc_df['Region ID'] = 0\n",
    "\n",
    "\n",
    "polygons = js['features']\n",
    "for i in acc_df.index:\n",
    "    point = Point(acc_df.loc[i][['COOR_X','COOR_Y']])\n",
    "    for feature in polygons:\n",
    "        polygon = shape(feature['geometry'])\n",
    "        if polygon.contains(point):\n",
    "            acc_df.set_value(i,'Region ID',feature['id'])\n",
    "            \n",
    "acc_df[['ID_ACCIDENT','COOR_X','COOR_Y','Region ID']].head()"
   ]
  },
  {
   "cell_type": "markdown",
   "metadata": {},
   "source": [
    "Now that we have all the geolocalization of the accidents, we can proceed to the visualization!\n",
    "We'll split our visualization in 4 parts. Let's start with a first glimpse into the dataset, and let's display\n",
    "\n",
    " \n",
    "## 2.1) HOW MANY ACCIDENTS HAPPENED PER REGION, PER YEAR\n",
    "\n",
    "We import the widget interact becuase, as one can appreciate hereunder, **it let the user select the year from which extracting the corresponding data to plot**.\n",
    "\n",
    "P.S. The color palette of all the plots is colorblind-friendly."
   ]
  },
  {
   "cell_type": "code",
   "execution_count": 8,
   "metadata": {},
   "outputs": [
    {
     "name": "stderr",
     "output_type": "stream",
     "text": [
      "/Users/Mart/anaconda/lib/python3.6/site-packages/IPython/html.py:14: ShimWarning: The `IPython.html` package has been deprecated since IPython 4.0. You should import from `notebook` instead. `IPython.html.widgets` has moved to `ipywidgets`.\n",
      "  \"`IPython.html.widgets` has moved to `ipywidgets`.\", ShimWarning)\n"
     ]
    }
   ],
   "source": [
    "from IPython.html.widgets import interact"
   ]
  },
  {
   "cell_type": "code",
   "execution_count": 9,
   "metadata": {},
   "outputs": [
    {
     "data": {
      "application/vnd.jupyter.widget-view+json": {
       "model_id": "a4df47d3104d4db7a17edcbefba0052e"
      }
     },
     "metadata": {},
     "output_type": "display_data"
    },
    {
     "data": {
      "text/plain": [
       "<function __main__._maps>"
      ]
     },
     "metadata": {},
     "output_type": "display_data"
    }
   ],
   "source": [
    "def _maps(year):\n",
    "    '''\n",
    "    INPUT: year between 2010 and 2016\n",
    "    OUTPUT: a choropleth map displaying the number of accidents occourred in each region in that year\n",
    "    '''\n",
    "    m = folium.Map(location=[46.254423, 6.142972], tiles='cartodbpositron', zoom_start=11)\n",
    "    accidents_by_region = acc_df.loc[acc_df['YEAR']==year].groupby('Region ID').count()['ID_ACCIDENT']\n",
    "    colormap = create_colormap(1,3,1350,steps = 8) # create a colorfeature\n",
    "    folium.GeoJson(js,\n",
    "                    style_function=lambda feature: {\n",
    "                    'fillColor': serie_color(feature,accidents_by_region,colormap),\n",
    "                    'color' : 'black',\n",
    "                    'weight' : 2,\n",
    "                    'dashArray' : '5, 5'\n",
    "                    }).add_to(m)\n",
    "\n",
    "    colormap.caption = 'Region IDs'\n",
    "    m.add_child(colormap)\n",
    "    return m\n",
    "\n",
    "year_list = np.arange(2010,2017)\n",
    "m = interact(_maps,year=year_list)\n",
    "display(m)"
   ]
  },
  {
   "cell_type": "markdown",
   "metadata": {},
   "source": [
    "By selecting different years, we can appreciate how the number of accidents significantly increased in the center of Geneva (from less that 1000 in 2010 to more than 1200 in 2016), while in the regions surrounding Genève it always stayed \"low\", that means under 170 accidents per year. \n",
    "\n",
    "Of course this is a naïve analysis, that doesn't normalize the increase and just takes the absolute number of accidents. It can be refined later if evaluated interesting. For now we content ourself of this first visualization.\n",
    "\n",
    "## 2) VISUALIZE CATEGORICAL VARIABLES SUCH AS \"GROUPE_ACCIDENT\", \"CONDITIONES_LUMINEUSES\"\n",
    "\n",
    "this kind of data will be represented in two ways, thanks again to the interact function. \n",
    "For every variable, a map has been created. In this map, the user can select \n",
    "* the year he wants i.e. \"2015\"\n",
    "* the value of the variable he's interested in to visualize _i.e. \"All the accidents that have GROUPE-ACCIDENT == accident par tamponament\"_\n",
    "\n",
    "Moreover, by selecting the box \"normalize\" in the widget displayed, the user can look at the same data in two different perspectives:\n",
    "\n",
    "* visualize and compare between regions the absolute number of accidents that belong to a certain class, _i.e. \"All the accidents that have GROUPE-ACCIDENT == accident par tamponament\"_\n",
    "\n",
    "* visualize the same data **as a percentage, normalized with respect to the total number of accidents that happened that year in that region. **"
   ]
  },
  {
   "cell_type": "code",
   "execution_count": 10,
   "metadata": {
    "collapsed": true
   },
   "outputs": [],
   "source": [
    "### ------------------- HELPER FUNCTIONS -------------------\n",
    "### --------------------------------------------------------\n",
    "\n",
    "def get_feature_to_plot(year,feature, value, normalize):\n",
    "    '''\n",
    "    INPUT:\n",
    "    year: which year to look for in the dataframe acc_df\n",
    "    feature: which feature to look for i.e. \"GROUPE_ACCIDENT\"\n",
    "    value: the value of the feature to extract i.e. \"accidents par tamponament\"\n",
    "    normalize: if True, normalize the data extracted as described above in the notebook\n",
    "    '''\n",
    "    serie = acc_df.loc[(acc_df['YEAR']==year) & (acc_df[feature]==value)].groupby('Region ID').count()['ID_ACCIDENT']\n",
    "    if normalize == True:   \n",
    "        total_number_of_accidents_in_year_per_region = acc_df.loc[(acc_df['YEAR']==year)].groupby('Region ID').count()['ID_ACCIDENT']\n",
    "        serie = serie / total_number_of_accidents_in_year_per_region\n",
    "    serie.fillna(0,inplace=True)\n",
    "    print(serie)\n",
    "    return serie\n",
    "\n",
    "\n",
    "def create_map (year, feature, value, normalize):\n",
    "    m_serie = get_feature_to_plot(year, feature, value, normalize) # get the serie\n",
    "    colormap = create_colormap(1,m_serie.min(),m_serie.max(),steps = 5) # create a colorfeature\n",
    "    m = folium.Map(location=[46.254423, 6.142972], tiles='cartodbpositron', zoom_start=11)\n",
    "    \n",
    "    folium.GeoJson(js,\n",
    "                  style_function=lambda feature: {\n",
    "                'fillColor': serie_color(feature,m_serie,colormap),\n",
    "                'color' : 'black',\n",
    "                'weight' : 2,\n",
    "                'dashArray' : '5, 5'\n",
    "                }).add_to(m)\n",
    "    \n",
    "    colormap.caption = 'Accidents'\n",
    "    m.add_child(colormap)\n",
    "   \n",
    "    return m\n",
    "\n",
    "year_list = np.arange(2010,2017)\n",
    "\n",
    "\n",
    "def create_interactive_map(feature, normalize=True):\n",
    "    value_list = list(acc_df[feature].value_counts().index)\n",
    "    m = interact(create_map, year = year_list, feature = feature, value = value_list, normalize= normalize)\n",
    "    return m"
   ]
  },
  {
   "cell_type": "markdown",
   "metadata": {},
   "source": [
    "Let's plot the interactive map!"
   ]
  },
  {
   "cell_type": "code",
   "execution_count": 11,
   "metadata": {},
   "outputs": [
    {
     "name": "stderr",
     "output_type": "stream",
     "text": [
      "Widget Javascript not detected.  It may not be installed or enabled properly.\n"
     ]
    },
    {
     "data": {
      "application/vnd.jupyter.widget-view+json": {
       "model_id": "9d041f2c1e604b9cb94badfcfe4a878a"
      }
     },
     "metadata": {},
     "output_type": "display_data"
    },
    {
     "data": {
      "text/plain": [
       "<function __main__.create_map>"
      ]
     },
     "execution_count": 11,
     "metadata": {},
     "output_type": "execute_result"
    }
   ],
   "source": [
    "create_interactive_map('GROUPE_ACCIDENT')"
   ]
  },
  {
   "cell_type": "markdown",
   "metadata": {},
   "source": [
    "### What does this map mean? Let's take an example. \n",
    "\n",
    "In the map shown above, the user can access and display the data of all years from 2010 to 2017 relative to all different causes of accidents. \n",
    "\n",
    "**Let's select year 2015, select \"accident par tamponament\", and play with the \"normalize\" option**. \n",
    "\n",
    "The user will appreciate how \n",
    "* it's the center of Genève that has the highest number of accidents due to this cause (betwen 180 and 230) \n",
    "\n",
    "* \"normalizing\" (i.e. dividing each data by the total number of accidents occourred in 2015 in the corresponding regions) are the regions just outside Geneve that top the list. \n",
    "\n",
    "What does this mean? Although in the southern region of Lancy only 90-140 accidents \"par tamponament\" occour (grey color of the legend), they actually represent more than the 20% of the accidents in Lancy! In Geneve the percentage is actually lower, between 15% and 19%.\n",
    "\n",
    "How this quantify the \"risk\" of a certain type of accident with respect to another, in different region of the canton? We still can't say: a deeper analysis has to be done, taking into account more variables (such as traffic, for example). "
   ]
  },
  {
   "cell_type": "markdown",
   "metadata": {},
   "source": [
    "### Let's do the same for also other, interesting categorical features of the dataset that caracterize an accident:"
   ]
  },
  {
   "cell_type": "code",
   "execution_count": 12,
   "metadata": {},
   "outputs": [
    {
     "name": "stderr",
     "output_type": "stream",
     "text": [
      "Widget Javascript not detected.  It may not be installed or enabled properly.\n"
     ]
    },
    {
     "data": {
      "application/vnd.jupyter.widget-view+json": {
       "model_id": "c585cc587c2e40fdb53335bf0da50456"
      }
     },
     "metadata": {},
     "output_type": "display_data"
    },
    {
     "data": {
      "text/plain": [
       "<function __main__.create_map>"
      ]
     },
     "execution_count": 12,
     "metadata": {},
     "output_type": "execute_result"
    }
   ],
   "source": [
    "create_interactive_map('CONDITIONS_LUMINEUSES')"
   ]
  },
  {
   "cell_type": "markdown",
   "metadata": {},
   "source": [
    "Let's select **the year 2014, and take a look at the accidents happened at night.**\n",
    "Thanks to this map we can appreciate how _in the western region of Satigny in 2014 happened only 8 accidents at nght, but they represent 30% of the total numebr of accidents! In the southern region of Avuly in 2014 happened  19 accidents at night, but they represent less than 22% of the accidents in this region._ "
   ]
  },
  {
   "cell_type": "code",
   "execution_count": 13,
   "metadata": {},
   "outputs": [
    {
     "name": "stderr",
     "output_type": "stream",
     "text": [
      "Widget Javascript not detected.  It may not be installed or enabled properly.\n"
     ]
    },
    {
     "data": {
      "application/vnd.jupyter.widget-view+json": {
       "model_id": "650915d954ff4cc4b210b1a5f5994b16"
      }
     },
     "metadata": {},
     "output_type": "display_data"
    },
    {
     "data": {
      "text/plain": [
       "<function __main__.create_map>"
      ]
     },
     "execution_count": 13,
     "metadata": {},
     "output_type": "execute_result"
    }
   ],
   "source": [
    "create_interactive_map('CONSEQUENCES')"
   ]
  },
  {
   "cell_type": "markdown",
   "metadata": {},
   "source": [
    "From the map above we can notice a few interesting things:\n",
    "* in each year, there are more accidents with deaths in the center of Genève than everywhere else\n",
    "* in each year _normalizing_ we appreciate how are the outer regions that presents the highest percentage of accidents with deaths. This could suggest that in average, the accidents that occour far from the center are more serious that the ones happening in the city. \n",
    "\n",
    "This is easily understandable, if we only think that the average speed limit in the city is much lower that in outer roads, probably leading to this behaviour of the data.\n",
    "\n",
    "## Let's now plot two features regarding the number of children involved in the accidents.\n",
    "\n",
    "This time no normalization process can be done, since we don't have the data of how many people are involved in the accident in total. We'll just take a look at the raw data aggregated by year and region.\n",
    "\n",
    "New helper functions are needed because of the particular interface of the command interact, that oblige us to define new helper functions to adapt to the new form of the dataset to plot (not normalized)"
   ]
  },
  {
   "cell_type": "code",
   "execution_count": 14,
   "metadata": {
    "collapsed": true
   },
   "outputs": [],
   "source": [
    "### ------------------- NEW HELPER FUNCTIONS -------------------\n",
    "### ------------------------------------------------------------\n",
    "\n",
    "def get_number_to_plot(year,feature):\n",
    "    serie = acc_df.loc[(acc_df['YEAR']==year)].groupby('Region ID').sum()[feature]\n",
    "    serie.fillna(0,inplace=True)\n",
    "    return serie\n",
    "\n",
    "def create_NB_map (year, feature):\n",
    "    m_serie = get_number_to_plot(year, feature) # get the serie\n",
    "    colormap = create_colormap(1,m_serie.min(),m_serie.max(),steps = 5) # create a colorfeature\n",
    "    m = folium.Map(location=[46.254423, 6.142972], tiles='cartodbpositron', zoom_start=11)\n",
    "    \n",
    "    folium.GeoJson(js,\n",
    "                  style_function=lambda feature: {\n",
    "                'fillColor': serie_color(feature,m_serie,colormap),\n",
    "                'color' : 'black',\n",
    "                'weight' : 2,\n",
    "                'dashArray' : '5, 5'\n",
    "                }).add_to(m)\n",
    "    \n",
    "    colormap.caption = 'Accidents'\n",
    "    m.add_child(colormap)\n",
    "   \n",
    "    return m\n",
    "\n",
    "\n",
    "\n",
    "def create_interactive_ABSOLUTE_NB_map():\n",
    "    year_list = np.arange(2010,2017)\n",
    "    feature_list = ['NB_ENFANTS_IMPLIQUES', 'NB_ENFANTS_ECOLE']\n",
    "    m = interact(create_NB_map, year = year_list, feature = feature_list)\n",
    "    return m"
   ]
  },
  {
   "cell_type": "code",
   "execution_count": 15,
   "metadata": {},
   "outputs": [
    {
     "name": "stderr",
     "output_type": "stream",
     "text": [
      "Widget Javascript not detected.  It may not be installed or enabled properly.\n"
     ]
    },
    {
     "data": {
      "application/vnd.jupyter.widget-view+json": {
       "model_id": "811015ad188b44989215095a9ab9ef90"
      }
     },
     "metadata": {},
     "output_type": "display_data"
    },
    {
     "data": {
      "text/plain": [
       "<function __main__.create_NB_map>"
      ]
     },
     "execution_count": 15,
     "metadata": {},
     "output_type": "execute_result"
    }
   ],
   "source": [
    "create_interactive_ABSOLUTE_NB_map()"
   ]
  },
  {
   "cell_type": "markdown",
   "metadata": {},
   "source": [
    "We can appreciate how amost all the accidents that involved a child occourred in the center of Genéve. To correctly evaluate the risk for children to be involved in accidents and not to jump to easy conclusions, other factors should to be taken into account, such the distribution of schools on the territory.\n",
    "\n",
    "Let's move to the analysis of the two last aspects of our accidents: \n",
    "* the distribution of people injured in accidents\n",
    "* the distribution of kind of vehicles involved in the accidents."
   ]
  },
  {
   "cell_type": "code",
   "execution_count": 16,
   "metadata": {
    "collapsed": true
   },
   "outputs": [],
   "source": [
    "### let's define the features we are interested in:\n",
    "blesses_et_tues = ['NB_BLESSES_LEGERS',\n",
    "       'NB_BLESSES_GRAVES', 'NB_TUES']\n",
    "vehicles = ['NB_BICYCLETTES',\n",
    "       'NB_VAE_25', 'NB_VAE_45', 'NB_CYCLOMOTEURS', 'NB_MOTOS_50',\n",
    "       'NB_MOTOS_125', 'NB_MOTOS_11KW', 'NB_VOITURES_TOURISME',\n",
    "       'NB_VOITURES_LIVRAISON', 'NB_CAMIONS', 'NB_BUS', 'NB_TRAM']\n",
    "\n",
    "###--------------------------------------------------------\n",
    "###----------------- NEW HELPER FUNCTIONS -----------------\n",
    "###--------------------------------------------------------\n",
    "\n",
    "def get_number_to_plot_blesses_et_tues(year,feature,normalize=False):\n",
    "    cum_df = acc_df.loc[(acc_df['YEAR']==year)].groupby('Region ID').sum()[blesses_et_tues]\n",
    "    serie = cum_df[feature]\n",
    "    if normalize==True:\n",
    "        tot_nb = cum_df.sum(axis=1)\n",
    "        serie  = serie/tot_nb\n",
    "    serie.fillna(0,inplace=True)\n",
    "    print(serie)\n",
    "    return serie\n",
    "\n",
    "def create_normalized_map_blesse_et_tues (year,feature,normalize=False):\n",
    "    m_serie = get_number_to_plot_blesses_et_tues(year, feature,normalize) # get the serie\n",
    "    colormap = create_colormap(1,m_serie.min(),m_serie.max(),steps = 5) # create a colorfeature\n",
    "    m = folium.Map(location=[46.254423, 6.142972], tiles='cartodbpositron', zoom_start=11)\n",
    "    \n",
    "    folium.GeoJson(js,\n",
    "                  style_function=lambda feature: {\n",
    "                'fillColor': serie_color(feature,m_serie,colormap),\n",
    "                'color' : 'black',\n",
    "                'weight' : 2,\n",
    "                'dashArray' : '5, 5'\n",
    "                }).add_to(m)\n",
    "    \n",
    "    colormap.caption = 'Accidents'\n",
    "    m.add_child(colormap)\n",
    "   \n",
    "    return m\n",
    "\n",
    "def create_interactive_map_blesse_et_tues():\n",
    "    year_list = np.arange(2010,2017)\n",
    "    m = interact(create_normalized_map_blesse_et_tues, year = year_list, feature = blesses_et_tues,normalize=False)\n",
    "    return m\n",
    "\n",
    "\n",
    "\n",
    "def get_number_to_plot_vehicles(year,feature,normalize=False):\n",
    "    cum_df = acc_df.loc[(acc_df['YEAR']==year)].groupby('Region ID').sum()[vehicles]\n",
    "    serie = cum_df[feature]\n",
    "    if normalize==True:\n",
    "        tot_nb = cum_df.sum(axis=1)\n",
    "        serie  = serie/tot_nb\n",
    "    serie.fillna(0,inplace=True)\n",
    "    print(serie)\n",
    "    return serie\n",
    "\n",
    "def create_normalized_map_vehicles (year,feature,normalize=False):\n",
    "    m_serie = get_number_to_plot_vehicles(year, feature,normalize) # get the serie\n",
    "    colormap = create_colormap(1,m_serie.min(),m_serie.max(),steps = 5) # create a colorfeature\n",
    "    m = folium.Map(location=[46.254423, 6.142972], tiles='cartodbpositron', zoom_start=11)\n",
    "    \n",
    "    folium.GeoJson(js,\n",
    "                  style_function=lambda feature: {\n",
    "                'fillColor': serie_color(feature,m_serie,colormap),\n",
    "                'color' : 'black',\n",
    "                'weight' : 2,\n",
    "                'dashArray' : '5, 5'\n",
    "                }).add_to(m)\n",
    "    \n",
    "    colormap.caption = 'Accidents'\n",
    "    m.add_child(colormap)\n",
    "   \n",
    "    return m\n",
    "\n",
    "def create_interactive_map_vehicles():\n",
    "    year_list = np.arange(2010,2017)\n",
    "    m = interact(create_normalized_map_vehicles, year = year_list, feature = vehicles,normalize=False)\n",
    "    return m"
   ]
  },
  {
   "cell_type": "markdown",
   "metadata": {},
   "source": [
    "### INJURED PEOPLE"
   ]
  },
  {
   "cell_type": "code",
   "execution_count": 17,
   "metadata": {},
   "outputs": [
    {
     "name": "stderr",
     "output_type": "stream",
     "text": [
      "Widget Javascript not detected.  It may not be installed or enabled properly.\n"
     ]
    },
    {
     "data": {
      "application/vnd.jupyter.widget-view+json": {
       "model_id": "52d1b1320a014427a4bab4019aa0bb15"
      }
     },
     "metadata": {},
     "output_type": "display_data"
    },
    {
     "data": {
      "text/plain": [
       "<function __main__.create_normalized_map_blesse_et_tues>"
      ]
     },
     "execution_count": 17,
     "metadata": {},
     "output_type": "execute_result"
    }
   ],
   "source": [
    "create_interactive_map_blesse_et_tues()"
   ]
  },
  {
   "cell_type": "markdown",
   "metadata": {},
   "source": [
    "**Let's visualize the percentage of seriously injured peole \"NB_BLESSES_GRAVE\" and play around with the years:**_ we'll notice that the western region of Satigny has a lot more seriously injured people than all the others region!_ In 2011 the percentage was of 57%, while the second highest percentage of the other regions was only 37%! Also, in the years 2014-2015-2016 it was _by far_ the region with the highest percentage of seriously injured people, with really high percentages between 40% and 60%. This visualization suggest us to dig deeper into the kind of accidents happened in that region, to better understand why so many people are injured so badly. Probably the understanding of the kind of accidents typical of this region could help us. Once identified a possible cause, it could be possible to suggest specific actions that the commune could adopt to prevent such causes of serious accidents."
   ]
  },
  {
   "cell_type": "markdown",
   "metadata": {},
   "source": [
    "## VEHICLES INVOLVED IN THE ACCIDENT"
   ]
  },
  {
   "cell_type": "code",
   "execution_count": 18,
   "metadata": {},
   "outputs": [
    {
     "name": "stderr",
     "output_type": "stream",
     "text": [
      "Widget Javascript not detected.  It may not be installed or enabled properly.\n"
     ]
    },
    {
     "data": {
      "application/vnd.jupyter.widget-view+json": {
       "model_id": "a3810d5b4afc4c0f97fdb4dd05702da0"
      }
     },
     "metadata": {},
     "output_type": "display_data"
    },
    {
     "data": {
      "text/plain": [
       "<function __main__.create_normalized_map_vehicles>"
      ]
     },
     "execution_count": 18,
     "metadata": {},
     "output_type": "execute_result"
    }
   ],
   "source": [
    "create_interactive_map_vehicles()"
   ]
  },
  {
   "cell_type": "markdown",
   "metadata": {
    "collapsed": true
   },
   "source": [
    "From this map we see how plotting only the absolute numbers doesn't tell us much: the peak of accidents for every kind of vehicle is in the center of Geneve. However, as soon as we toggle the option \"normalize\" we see different patterns i.e. we see that the percentage of accidents involving bycicles is actually higher (for each year) in the regions outside the center.\n",
    "\n",
    "# Further analysis and proposals for milestone 3\n",
    "We saw that this kind of visualiztion is very useful to understand such a multivariate and complex dataset. For milestone three we aim to create a better, more syntetic, more flexible and more complete visualization at the same time. To reach such a goal, we think to:\n",
    "* create a _unique_ interactive map similar to the ones presented here, capable of displaying all these data \n",
    "* implementing a more detailed and interactive subdivision between regions. It could be cool implementing different layers of geojson files diplaying more detailed regions as the user zoom in on the map to display more detailed subdivisions\n",
    "* create a more synthetic dataframe from which taking the data to plot, with more significant variables extracted from other analysis\n",
    "* implement new, more precise visualization method for accidents that display accidents as colored points on the map, letting the user precisely identify clusters of accidents on the map\n",
    "* plotting accidents and traffic on the same map, so that an eventual (expected) correlation between the two can be visually analysed"
   ]
  }
 ],
 "metadata": {
  "kernelspec": {
   "display_name": "Python [default]",
   "language": "python",
   "name": "python3"
  },
  "language_info": {
   "codemirror_mode": {
    "name": "ipython",
    "version": 3
   },
   "file_extension": ".py",
   "mimetype": "text/x-python",
   "name": "python",
   "nbconvert_exporter": "python",
   "pygments_lexer": "ipython3",
   "version": "3.6.1"
  }
 },
 "nbformat": 4,
 "nbformat_minor": 2
}
