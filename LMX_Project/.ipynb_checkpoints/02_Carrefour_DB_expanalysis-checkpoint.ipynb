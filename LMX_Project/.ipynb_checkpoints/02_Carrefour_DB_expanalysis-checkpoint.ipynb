{
 "cells": [
  {
   "cell_type": "markdown",
   "metadata": {},
   "source": [
    "# Carrefour dataframe\n",
    "\n",
    "Here we just import the dataset of the crossroads of Geneve to check briefly how it is made, to see if and how it could be useful for our analysis. "
   ]
  },
  {
   "cell_type": "code",
   "execution_count": 10,
   "metadata": {},
   "outputs": [
    {
     "data": {
      "text/plain": [
       "ID_GM_CARREFOUR    float64\n",
       "TYPE                object\n",
       "COMMENTAIRE         object\n",
       "DATE_MAJ            object\n",
       "RAYON              float64\n",
       "E                  float64\n",
       "N                  float64\n",
       "dtype: object"
      ]
     },
     "execution_count": 10,
     "metadata": {},
     "output_type": "execute_result"
    }
   ],
   "source": [
    "# Import libraries\n",
    "import pandas as pd\n",
    "import numpy as np\n",
    "\n",
    "import matplotlib.pyplot as plt\n",
    "import seaborn as sns\n",
    "%matplotlib inline \n",
    "from pyproj import Proj, transform\n",
    "import folium\n",
    "\n",
    "# Read the dataset\n",
    "carr_data = '../_data/GMO_CARREFOUR.csv'\n",
    "carr_df = pd.read_csv(carr_data, sep=';', encoding='latin-1')\n",
    "\n",
    "# Read the dataset\n",
    "carr_data = '../_data/GMO_CARREFOUR.csv'\n",
    "carr_df = pd.read_csv(carr_data, sep=';', encoding='latin-1')\n",
    "\n",
    "carr_df.dtypes"
   ]
  },
  {
   "cell_type": "code",
   "execution_count": 11,
   "metadata": {},
   "outputs": [
    {
     "data": {
      "text/plain": [
       "Autres carrefours                      5852\n",
       "Impasse                                1272\n",
       "Signalisation lumineuse                 379\n",
       "Changement voie                         216\n",
       "Giratoire                               198\n",
       "Frontière                               119\n",
       "Stop toutes directions                   32\n",
       "Giratoire à signalisation lumineuse       7\n",
       "Name: TYPE, dtype: int64"
      ]
     },
     "execution_count": 11,
     "metadata": {},
     "output_type": "execute_result"
    }
   ],
   "source": [
    "carr_df.TYPE.value_counts()"
   ]
  },
  {
   "cell_type": "markdown",
   "metadata": {},
   "source": [
    "We see that few basic information are provided:\n",
    "* TYPE : the type of carrefour\n",
    "* COMMENTAIRE: basically no details are provided in this cell.\n",
    "* DATE_MAJ: 'Date mise-a-jour' indicate the date of the last update of the info in the dataset\n",
    "* RAYON: the radius of roundabouts\n",
    "* E-N : usual GPS coordinates"
   ]
  },
  {
   "cell_type": "markdown",
   "metadata": {},
   "source": [
    "## converting GPS coordinates to standard epsg:4326 reference system\n",
    " \n",
    "As localisation features, we can find:\n",
    "- **E**: X coordenate in 'epsg_2056' reference system\n",
    "- **N**: Y coordenate in 'epsg_2056' reference system\n",
    "\n",
    "The E-N coordenates will be projected in the GPS coordenates, also called 'epsg:4326' reference system. For this, the Proj and transform libraries will be used:"
   ]
  },
  {
   "cell_type": "code",
   "execution_count": 4,
   "metadata": {
    "collapsed": true
   },
   "outputs": [],
   "source": [
    "# projection definition\n",
    "p1 = Proj(init='epsg:2056')\n",
    "p2 = Proj(init='epsg:4326')\n",
    "\n",
    "# Helper functions\n",
    "def coord_proj(carr_df,i, p1, p2):\n",
    "    x1 = carr_df['E'].loc[i]\n",
    "    y1 = carr_df['N'].loc[i]\n",
    "    x2, y2 = transform(p1,p2,x1,y1)\n",
    "    carr_df['E'].set_value(i, x2)\n",
    "    carr_df['N'].set_value(i, y2)\n",
    "    return carr_df\n",
    "\n",
    "# Project data\n",
    "for i in range(0, len(carr_df['E'])-1):\n",
    "    carr_df = coord_proj(carr_df,i, p1, p2)\n",
    "# Delete unuseful columns\n",
    "#del acc_df['N']\n",
    "#del acc_df['E']"
   ]
  },
  {
   "cell_type": "markdown",
   "metadata": {},
   "source": [
    "Let's visualize the dataframe, and try to plot some of them on the map to manually check the precision o fthe coordinates"
   ]
  },
  {
   "cell_type": "code",
   "execution_count": 5,
   "metadata": {},
   "outputs": [
    {
     "data": {
      "text/html": [
       "<div>\n",
       "<style>\n",
       "    .dataframe thead tr:only-child th {\n",
       "        text-align: right;\n",
       "    }\n",
       "\n",
       "    .dataframe thead th {\n",
       "        text-align: left;\n",
       "    }\n",
       "\n",
       "    .dataframe tbody tr th {\n",
       "        vertical-align: top;\n",
       "    }\n",
       "</style>\n",
       "<table border=\"1\" class=\"dataframe\">\n",
       "  <thead>\n",
       "    <tr style=\"text-align: right;\">\n",
       "      <th></th>\n",
       "      <th>ID_GM_CARREFOUR</th>\n",
       "      <th>TYPE</th>\n",
       "      <th>COMMENTAIRE</th>\n",
       "      <th>DATE_MAJ</th>\n",
       "      <th>RAYON</th>\n",
       "      <th>E</th>\n",
       "      <th>N</th>\n",
       "    </tr>\n",
       "  </thead>\n",
       "  <tbody>\n",
       "    <tr>\n",
       "      <th>0</th>\n",
       "      <td>227920.0</td>\n",
       "      <td>Autres carrefours</td>\n",
       "      <td>NaN</td>\n",
       "      <td>2008-04-18 16:20:43</td>\n",
       "      <td>NaN</td>\n",
       "      <td>5.997844</td>\n",
       "      <td>46.158031</td>\n",
       "    </tr>\n",
       "    <tr>\n",
       "      <th>1</th>\n",
       "      <td>226972.0</td>\n",
       "      <td>Autres carrefours</td>\n",
       "      <td>NaN</td>\n",
       "      <td>2008-04-18 16:20:43</td>\n",
       "      <td>NaN</td>\n",
       "      <td>6.117844</td>\n",
       "      <td>46.192797</td>\n",
       "    </tr>\n",
       "    <tr>\n",
       "      <th>2</th>\n",
       "      <td>226973.0</td>\n",
       "      <td>Autres carrefours</td>\n",
       "      <td>NaN</td>\n",
       "      <td>2008-04-18 16:20:43</td>\n",
       "      <td>NaN</td>\n",
       "      <td>6.118345</td>\n",
       "      <td>46.193008</td>\n",
       "    </tr>\n",
       "  </tbody>\n",
       "</table>\n",
       "</div>"
      ],
      "text/plain": [
       "   ID_GM_CARREFOUR               TYPE COMMENTAIRE             DATE_MAJ  RAYON  \\\n",
       "0         227920.0  Autres carrefours         NaN  2008-04-18 16:20:43    NaN   \n",
       "1         226972.0  Autres carrefours         NaN  2008-04-18 16:20:43    NaN   \n",
       "2         226973.0  Autres carrefours         NaN  2008-04-18 16:20:43    NaN   \n",
       "\n",
       "          E          N  \n",
       "0  5.997844  46.158031  \n",
       "1  6.117844  46.192797  \n",
       "2  6.118345  46.193008  "
      ]
     },
     "execution_count": 5,
     "metadata": {},
     "output_type": "execute_result"
    }
   ],
   "source": [
    "carr_df.head(3)"
   ]
  },
  {
   "cell_type": "code",
   "execution_count": 7,
   "metadata": {},
   "outputs": [
    {
     "data": {
      "text/html": [
       "<div style=\"width:100%;\"><div style=\"position:relative;width:100%;height:0;padding-bottom:60%;\"><iframe src=\"data:text/html;charset=utf-8;base64,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\" style=\"position:absolute;width:100%;height:100%;left:0;top:0;border:none !important;\" allowfullscreen webkitallowfullscreen mozallowfullscreen></iframe></div></div>"
      ],
      "text/plain": [
       "<folium.folium.Map at 0x1a0fd5aeb8>"
      ]
     },
     "execution_count": 7,
     "metadata": {},
     "output_type": "execute_result"
    }
   ],
   "source": [
    "# Create the map visualization\n",
    "Geneve_coord = [46.2004013, 6.1531163]\n",
    "m = folium.Map(location=Geneve_coord,\n",
    "               tiles='OpenStreetMap',\n",
    "               zoom_start=10)\n",
    "for i in giratoire_df.index[0:20]:\n",
    "    folium.Marker([giratoire_df.N.loc[i], giratoire_df.E.loc[i]] , popup=\"Giratoire, %d\"%i).add_to(m)\n",
    "m"
   ]
  },
  {
   "cell_type": "markdown",
   "metadata": {},
   "source": [
    "The coordinates are really precise!\n",
    "\n",
    "### Possible use of this dataframe for milestone 3:\n",
    "Our idea was to use the GPS coordinates of accidents and carrefours to associate the accidents to each carrefour. By studying the kind of accident and the kind of carrefour where it happened, we want to see possible correlations between these data. A study that we had originally in mind was the following:\n",
    "\n",
    "**Is it possible with this data to predict the variation in accident risk of substituting a specific carrefour with a roundabout (or viceversa)?**\n",
    "\n",
    "To answer this question, a possible approach could be the following:\n",
    "\n",
    "* Link the accidents to the carrefour where they happened\n",
    "* analyze the accidents linked to different kind of carrefours, to identify a possible cause-effect relation between type of carrefour and kind of accident\n",
    "* Find partucularly dangerous carrefours (with a lot of accidents linked to that kind of carrefour)\n",
    "* Suggest to replace them\n",
    "\n",
    "On the internet we also found a document attesting the creation of a roundabout in 2014 (the middle of our time series of data). It could be possible to analyse the distribution of accidents before and after the installation of this particular roundabout to validate our conclusions!\n",
    "\n",
    "Here's the data of this roundabout:\n",
    "\n",
    "Giratoire build (finished) in 2014: possible case study for confronting carrefour VS giratoire\n",
    "https://www.ge.ch/construction/pdf/chantiers/Communique_de_presse_Route_de_Thonon-giratoire_FINAL_28_06_2013.pdf"
   ]
  },
  {
   "cell_type": "code",
   "execution_count": 9,
   "metadata": {},
   "outputs": [
    {
     "data": {
      "text/plain": [
       "ID_GM_CARREFOUR                 226855\n",
       "TYPE                         Giratoire\n",
       "COMMENTAIRE                        NaN\n",
       "DATE_MAJ           2016-02-19 14:07:06\n",
       "RAYON                               15\n",
       "E                              6.20622\n",
       "N                              46.2453\n",
       "Name: 7741, dtype: object"
      ]
     },
     "execution_count": 9,
     "metadata": {},
     "output_type": "execute_result"
    }
   ],
   "source": [
    "giratoire_df.loc[7741]"
   ]
  },
  {
   "cell_type": "code",
   "execution_count": null,
   "metadata": {
    "collapsed": true
   },
   "outputs": [],
   "source": []
  }
 ],
 "metadata": {
  "kernelspec": {
   "display_name": "Python [default]",
   "language": "python",
   "name": "python3"
  },
  "language_info": {
   "codemirror_mode": {
    "name": "ipython",
    "version": 3
   },
   "file_extension": ".py",
   "mimetype": "text/x-python",
   "name": "python",
   "nbconvert_exporter": "python",
   "pygments_lexer": "ipython3",
   "version": "3.6.1"
  }
 },
 "nbformat": 4,
 "nbformat_minor": 2
}
