{
 "cells": [
  {
   "cell_type": "markdown",
   "metadata": {},
   "source": [
    "# Notebook for linking a searched path to a risk\n",
    "\n",
    "We would like to find the risk of going from a point A to a point B in Geneva. This notebook will implement this idea!"
   ]
  },
  {
   "cell_type": "code",
   "execution_count": 117,
   "metadata": {
    "collapsed": true
   },
   "outputs": [],
   "source": [
    "# import libraries\n",
    "import pandas as pd\n",
    "import numpy as np\n",
    "\n",
    "import requests\n",
    "from bs4 import BeautifulSoup\n",
    "import json\n",
    "import pandas as pd\n",
    "from pandas.io.json import json_normalize\n",
    "import copy\n",
    "import csv\n",
    "\n",
    "# for string processing\n",
    "import unidecode \n",
    "import collections\n",
    "import string\n",
    "\n",
    "# Merging names. Installation: pip install fuzzywuzzy and pip install fuzzywuzzy[speedup]\n",
    "from fuzzywuzzy import fuzz\n",
    "from fuzzywuzzy import process\n",
    "from IPython.core import display as ICD\n",
    "\n",
    "# for string processing\n",
    "import re\n",
    "\n",
    "%matplotlib inline "
   ]
  },
  {
   "cell_type": "markdown",
   "metadata": {},
   "source": [
    "## 1. Setting things up:"
   ]
  },
  {
   "cell_type": "code",
   "execution_count": 119,
   "metadata": {},
   "outputs": [
    {
     "data": {
      "text/html": [
       "<div>\n",
       "<style>\n",
       "    .dataframe thead tr:only-child th {\n",
       "        text-align: right;\n",
       "    }\n",
       "\n",
       "    .dataframe thead th {\n",
       "        text-align: left;\n",
       "    }\n",
       "\n",
       "    .dataframe tbody tr th {\n",
       "        vertical-align: top;\n",
       "    }\n",
       "</style>\n",
       "<table border=\"1\" class=\"dataframe\">\n",
       "  <thead>\n",
       "    <tr style=\"text-align: right;\">\n",
       "      <th></th>\n",
       "      <th>Risk_NB_ACC</th>\n",
       "      <th>Risk_NB_PIETONS</th>\n",
       "      <th>Risk_NB_VOITURES_TOURISME</th>\n",
       "      <th>Risk_MOTOS</th>\n",
       "      <th>Risk_BIKES</th>\n",
       "      <th>Risk_INJURY</th>\n",
       "      <th>Risk_GRAVE_INJURY</th>\n",
       "      <th>Risk_PUBLIC_TRANSP</th>\n",
       "      <th>Risk_DRIVEN_BY_EMPLOYEES</th>\n",
       "    </tr>\n",
       "  </thead>\n",
       "  <tbody>\n",
       "    <tr>\n",
       "      <th>avenue de france</th>\n",
       "      <td>1.677023</td>\n",
       "      <td>1.659233</td>\n",
       "      <td>1.775024</td>\n",
       "      <td>1.713112</td>\n",
       "      <td>1.516683</td>\n",
       "      <td>1.775024</td>\n",
       "      <td>1.155005</td>\n",
       "      <td>1.910585</td>\n",
       "      <td>3.473321</td>\n",
       "    </tr>\n",
       "    <tr>\n",
       "      <th>avenue de la paix</th>\n",
       "      <td>2.342910</td>\n",
       "      <td>1.000000</td>\n",
       "      <td>2.806056</td>\n",
       "      <td>1.000000</td>\n",
       "      <td>2.986662</td>\n",
       "      <td>2.103701</td>\n",
       "      <td>1.397332</td>\n",
       "      <td>3.334152</td>\n",
       "      <td>2.585001</td>\n",
       "    </tr>\n",
       "    <tr>\n",
       "      <th>avenue de thonex</th>\n",
       "      <td>2.116569</td>\n",
       "      <td>2.060669</td>\n",
       "      <td>1.906888</td>\n",
       "      <td>3.294716</td>\n",
       "      <td>1.415657</td>\n",
       "      <td>1.692761</td>\n",
       "      <td>1.249394</td>\n",
       "      <td>2.465080</td>\n",
       "      <td>3.984578</td>\n",
       "    </tr>\n",
       "  </tbody>\n",
       "</table>\n",
       "</div>"
      ],
      "text/plain": [
       "                   Risk_NB_ACC  Risk_NB_PIETONS  Risk_NB_VOITURES_TOURISME  \\\n",
       "avenue de france      1.677023         1.659233                   1.775024   \n",
       "avenue de la paix     2.342910         1.000000                   2.806056   \n",
       "avenue de thonex      2.116569         2.060669                   1.906888   \n",
       "\n",
       "                   Risk_MOTOS  Risk_BIKES  Risk_INJURY  Risk_GRAVE_INJURY  \\\n",
       "avenue de france     1.713112    1.516683     1.775024           1.155005   \n",
       "avenue de la paix    1.000000    2.986662     2.103701           1.397332   \n",
       "avenue de thonex     3.294716    1.415657     1.692761           1.249394   \n",
       "\n",
       "                   Risk_PUBLIC_TRANSP  Risk_DRIVEN_BY_EMPLOYEES  \n",
       "avenue de france             1.910585                  3.473321  \n",
       "avenue de la paix            3.334152                  2.585001  \n",
       "avenue de thonex             2.465080                  3.984578  "
      ]
     },
     "execution_count": 119,
     "metadata": {},
     "output_type": "execute_result"
    }
   ],
   "source": [
    "# GO and fetch the google API keys from a local file\n",
    "CENTRAL_FOLDER = '../'\n",
    "API_keys = pd.read_csv(CENTRAL_FOLDER + 'API_google_key',index_col=0,header=None, sep='\\=', engine='python')\n",
    "\n",
    "#############   Google API KEYS ##################\n",
    "nearest_roads_API_KEY = API_keys.iloc[0].values[0] # accepts up to 100 points\n",
    "placesID_API_KEY = API_keys.iloc[1].values[0]\n",
    "API_KEY = API_keys.iloc[2].values[0] # google directions\n",
    "\n",
    "# load risk df:\n",
    "FINAL_FOLDER = '../final_csv/'\n",
    "risk_df = pd.read_csv(FINAL_FOLDER + 'risk.csv',index_col=0, sep='\\t')\n",
    "risk_df.head(3)"
   ]
  },
  {
   "cell_type": "markdown",
   "metadata": {},
   "source": [
    "### 1.1 Functions:"
   ]
  },
  {
   "cell_type": "code",
   "execution_count": 138,
   "metadata": {
    "collapsed": true
   },
   "outputs": [],
   "source": [
    "# function to make requests\n",
    "def request_get_json(url):\n",
    "    \"\"\"make a request to the specified url\"\"\"\n",
    "    r = requests.get(url)\n",
    "    if r.status_code != 200:\n",
    "        print (r.status_code)\n",
    "    page_body = r.text\n",
    "    return json.loads(page_body)"
   ]
  },
  {
   "cell_type": "code",
   "execution_count": 141,
   "metadata": {
    "collapsed": true
   },
   "outputs": [],
   "source": [
    "# function that define a table that we later used for string processing\n",
    "def define_table():\n",
    "    \"\"\"Function that return a table for string processing\"\"\"\n",
    "    table = collections.defaultdict(lambda: None)\n",
    "    table.update({\n",
    "    ord('é'):'e',\n",
    "    ord('ô'):'o',\n",
    "    ord(' '):' ',\n",
    "    ord('-'):' ',\n",
    "    ord('_'):' ',\n",
    "    ord('\\N{NO-BREAK SPACE}'): ' ',\n",
    "    ord('\\N{EN SPACE}'): ' ',\n",
    "    ord('\\N{EM SPACE}'): ' ',\n",
    "    ord('\\N{THREE-PER-EM SPACE}'): ' ',\n",
    "    ord('\\N{FOUR-PER-EM SPACE}'): ' ',\n",
    "    ord('\\N{SIX-PER-EM SPACE}'): ' ',\n",
    "    ord('\\N{FIGURE SPACE}'): ' ',\n",
    "    ord('\\N{PUNCTUATION SPACE}'): ' ',\n",
    "    ord('\\N{THIN SPACE}'): ' ',\n",
    "    ord('\\N{HAIR SPACE}'): ' ',\n",
    "    ord('\\N{ZERO WIDTH SPACE}'): ' ',\n",
    "    ord('\\N{NARROW NO-BREAK SPACE}'): ' ',\n",
    "    ord('\\N{MEDIUM MATHEMATICAL SPACE}'): ' ',\n",
    "    ord('\\N{IDEOGRAPHIC SPACE}'): ' ',\n",
    "    ord('\\N{IDEOGRAPHIC HALF FILL SPACE}'): ' ',\n",
    "    ord('\\N{ZERO WIDTH NO-BREAK SPACE}'): ' ',\n",
    "    ord('\\N{TAG SPACE}'): ' ',\n",
    "    })\n",
    "    table.update(dict(zip(map(ord,string.ascii_uppercase), string.ascii_lowercase)))\n",
    "    table.update(dict(zip(map(ord,string.ascii_lowercase), string.ascii_lowercase)))\n",
    "    table.update(dict(zip(map(ord,string.digits), string.digits)))\n",
    "    return table\n",
    "\n",
    "# function to remove accents\n",
    "def remove_accents(s):\n",
    "    \"\"\"remove accents of a string s\"\"\"\n",
    "    unaccented_string = unidecode.unidecode(s)\n",
    "    return unaccented_string\n",
    "\n",
    "# function that reformat string flattening it: remove accents, lower case and remove undesired characters\n",
    "def reformat_string(s):\n",
    "    \"\"\"reformat a string s stripping the strange characters\"\"\"\n",
    "    s = str(s)\n",
    "    s = remove_accents(s)\n",
    "    s = s.lower()\n",
    "    s = s.strip(',.-_')\n",
    "    table = define_table()\n",
    "    s = s.translate(table,)\n",
    "    return s\n",
    "\n",
    "# this function is NOT USED!!\n",
    "def find_road_match(road_name,prob_limit,df):\n",
    "    \"\"\"Find a match between the searched road_name and the ones in the dataframe df\"\"\"\n",
    "    road_name_found, prob=process.extractOne(road_name, name_df, scorer=fuzz.token_sort_ratio)\n",
    "    if prob>=prob_limit: \n",
    "        return road_name_found\n",
    "    else:\n",
    "        print('road not found')\n",
    "        return '?'\n",
    "    \n",
    "# In the following function the name matching is again (as for the risk) exact once we \n",
    "# have \"flattened\" the strings since we have seen that very similar names of road can \n",
    "# be two different roads (like replacing \"chemin\" with \"route\" gives already mismatches)\n",
    "def get_road_risk(road_name, df,risk_type_col='Risk_NB_VOITURES_TOURISME'):\n",
    "    \"\"\"Given a road name, search fo its equivalent in the dataframe df\n",
    "    and return it with the risk associated to the specified risk column.\"\"\"\n",
    "    road_name = reformat_string(road_name)\n",
    "    if road_name in df.index:\n",
    "        risk = df.loc[[road_name]][risk_type_col][0]\n",
    "    else:\n",
    "        risk = 0\n",
    "    return [road_name,risk]\n",
    "\n",
    "# see below for example of use\n",
    "def find_streets_in_indications(s):\n",
    "    \"\"\"Extract the name of the roads from a tipical indication string\"\"\"\n",
    "    opening = [m.start() for m in re.finditer('<b>', s)]\n",
    "    closing = [m.start() for m in re.finditer('</b>', s)]\n",
    "    streets = []\n",
    "    for i in range (len(opening)):\n",
    "        indication = s[opening[i]+3 : closing[i]]\n",
    "        if indication[0].isupper(): # The name of the roads begin with upper case letter, not directions\n",
    "            streets.append(indication)\n",
    "    return streets"
   ]
  },
  {
   "cell_type": "markdown",
   "metadata": {},
   "source": [
    "Example of use:"
   ]
  },
  {
   "cell_type": "code",
   "execution_count": 150,
   "metadata": {},
   "outputs": [
    {
     "name": "stdout",
     "output_type": "stream",
     "text": [
      "Head <b>northeast</b> on <b>Chemin Terroux</b> toward <b>Chemin Bonvent</b>\n",
      "Continue onto <b>Chemin Edouard-Sarasin</b>\n",
      "Turn <b>right</b> onto <b>Route de Ferney</b>\n",
      "Continue onto <b>Avenue de France</b>\n",
      "Keep <b>left</b> to stay on <b>Avenue de France</b>\n",
      "Continue onto <b>Quai Wilson</b>\n",
      "Continue onto <b>Quai Wald-Wilson</b>\n",
      "Continue onto <b>Quai du Mont-Blanc</b>\n",
      "\n",
      "  1\n",
      "\n",
      "Now with the function:\n"
     ]
    },
    {
     "data": {
      "text/plain": [
       "['Chemin Terroux', 'Chemin Bonvent']"
      ]
     },
     "execution_count": 150,
     "metadata": {},
     "output_type": "execute_result"
    }
   ],
   "source": [
    "origin = 'Chemin+terroux' \n",
    "destination= 'Quai+du+Mont-Blanc+1201+Genève'\n",
    "get_multiples_routes = 'True'\n",
    "\n",
    "url = 'https://maps.googleapis.com/maps/api/directions/json?'+\\\n",
    "        'origin=' + origin  +\\\n",
    "        '&destination='+ destination  +\\\n",
    "        '&alternatives=' + get_multiples_routes +\\\n",
    "        '&key='+ API_KEY\n",
    "        \n",
    "my_json = request_get_json(url)\n",
    "tmp2 = []\n",
    "for i in range(len(my_json['routes'][0]['legs'][0]['steps'])):\n",
    "    tmp = my_json['routes'][0]['legs'][0]['steps'][i]['html_instructions']\n",
    "    tmp2.append(tmp)\n",
    "    print (tmp)\n",
    "\n",
    "print('\\n ',len(my_json['routes']))\n",
    "print('\\nNow with the function:')\n",
    "find_streets_in_indications(tmp2[0])"
   ]
  },
  {
   "cell_type": "markdown",
   "metadata": {},
   "source": [
    "### 1.2 Wrapping up:"
   ]
  },
  {
   "cell_type": "code",
   "execution_count": 121,
   "metadata": {
    "collapsed": true
   },
   "outputs": [],
   "source": [
    "def find_routes_from_origin_to_destination(origin,destination):\n",
    "    \"\"\"Given the origin and destination, the function returns all the routes \n",
    "    that Google API tells us to take in order to reach destination\"\"\"\n",
    "    # url of the request\n",
    "    url = 'https://maps.googleapis.com/maps/api/directions/json?'+\\\n",
    "        'origin=' + origin  +\\\n",
    "        '&destination='+ destination  +\\\n",
    "        '&alternatives=' + get_multiples_routes +\\\n",
    "        '&key='+ API_KEY\n",
    "    my_json = request_get_json(url)\n",
    "    num_routes = len(my_json['routes'])\n",
    "    print('Number of routes found: ', num_routes)\n",
    "    if num_routes <1:\n",
    "        return 0\n",
    "    routes = []\n",
    "    for k in range(0,num_routes):\n",
    "        indications = []\n",
    "        for i in range(len(my_json['routes'][k]['legs'][0]['steps'])):\n",
    "            indication = my_json['routes'][k]['legs'][0]['steps'][i]['html_instructions']\n",
    "            indication = find_streets_in_indications(indication)\n",
    "            if len(indication)>1: # if multiple road names in indication, extract them one by one\n",
    "                for x in indication:\n",
    "                    indications.append(x)\n",
    "            else:\n",
    "                indications.append(indication[0])\n",
    "        indications = list(set(indications)) # to remove duplications\n",
    "        routes.append(indications)\n",
    "    return routes"
   ]
  },
  {
   "cell_type": "markdown",
   "metadata": {},
   "source": [
    "Example of use:"
   ]
  },
  {
   "cell_type": "code",
   "execution_count": 124,
   "metadata": {
    "scrolled": true
   },
   "outputs": [
    {
     "name": "stdout",
     "output_type": "stream",
     "text": [
      "Number of routes found:  3\n",
      "Google API found  3  different routes possibles\n",
      "Here is the look of the first:\n",
      " ['Chemin Edouard-Sarasin', 'Chemin Terroux', 'Quai Wald-Wilson', 'Quai du Mont-Blanc', 'Avenue de France', 'Quai Wilson', 'Chemin Bonvent', 'Route de Ferney']\n"
     ]
    }
   ],
   "source": [
    "origin = 'Chemin+terroux' \n",
    "destination= 'Quai+du+Mont-Blanc+1201+Genève'\n",
    "\n",
    "my_routes = find_routes_from_origin_to_destination(origin,destination)\n",
    "print('Google API found ',len(my_routes),' different routes possibles')\n",
    "print('Here is the look of the first:\\n',my_routes[0])"
   ]
  },
  {
   "cell_type": "markdown",
   "metadata": {},
   "source": [
    "Where we have supposed that google will indicate all the roads taken. From some trials it look like the case exect for \"exessively\" small roads and thus all the roads that a use would have to take are listed!"
   ]
  },
  {
   "cell_type": "markdown",
   "metadata": {},
   "source": [
    "## 2. THE function:"
   ]
  },
  {
   "cell_type": "code",
   "execution_count": 147,
   "metadata": {
    "collapsed": true
   },
   "outputs": [],
   "source": [
    "def get_path_risk(origin,destination,risk_df,risk_col='Risk_NB_VOITURES_TOURISME'):\n",
    "    \"\"\"\n",
    "    Compute the risk of an itinerary\n",
    "    Inputs:\n",
    "    :origin: Starting point of our itinerary as is should be given to google maps API\n",
    "    One could find it by looking at the url after having made a request to google maps\n",
    "    or one could just write key words separated by '+' and it should find the correct place\n",
    "    :destination: Destination point of our itinerary as it should be given to google maps API\n",
    "    :risk_df: The dataframe containing the risk per road\n",
    "    :risk_col: Column with respect to which we wanna compute the risk. By default it is for the \n",
    "    'Voitures de tourisme' since it is the one that makes more sense.\n",
    "    Output: Dataframe containing the risk for the itinerary and several other informations\n",
    "    \"\"\"\n",
    "    d = {'Risk': [], 'mean risk': [],'zeros':[], 'all routes':[],'all risks':[],\\\n",
    "        'number of roads':[]}\n",
    "    out = pd.DataFrame(data=d)\n",
    "    list_of_trajectories = find_routes_from_origin_to_destination(origin=origin,destination=destination)\n",
    "    for i,traj in enumerate(list_of_trajectories):\n",
    "        routes = []\n",
    "        risks = []\n",
    "        count = 0\n",
    "        for x in traj:\n",
    "            route_risk = get_road_risk(road_name=x, df=risk_df,risk_type_col=risk_col)\n",
    "            routes.append(route_risk[0])\n",
    "            risks.append(route_risk[1])\n",
    "            if route_risk[1]==0:\n",
    "                count +=1\n",
    "        filtered_risks = list(filter(lambda a: a != 0, risks))\n",
    "        out = out.append({'Risk': sum(risks)+count, 'mean risk': np.mean(filtered_risks),'zeros':count,\\\n",
    "                          'all routes':routes,'all risks':risks,'number of roads':len(routes)}, ignore_index=True)\n",
    "    cols = ['Risk','mean risk','number of roads','zeros','all routes','all risks']\n",
    "    out = out[cols]\n",
    "    return out"
   ]
  },
  {
   "cell_type": "markdown",
   "metadata": {},
   "source": [
    "Example of use:"
   ]
  },
  {
   "cell_type": "code",
   "execution_count": 148,
   "metadata": {
    "scrolled": true
   },
   "outputs": [
    {
     "name": "stdout",
     "output_type": "stream",
     "text": [
      "Number of routes found:  1\n"
     ]
    },
    {
     "data": {
      "text/html": [
       "<div>\n",
       "<style>\n",
       "    .dataframe thead tr:only-child th {\n",
       "        text-align: right;\n",
       "    }\n",
       "\n",
       "    .dataframe thead th {\n",
       "        text-align: left;\n",
       "    }\n",
       "\n",
       "    .dataframe tbody tr th {\n",
       "        vertical-align: top;\n",
       "    }\n",
       "</style>\n",
       "<table border=\"1\" class=\"dataframe\">\n",
       "  <thead>\n",
       "    <tr style=\"text-align: right;\">\n",
       "      <th></th>\n",
       "      <th>Risk</th>\n",
       "      <th>mean risk</th>\n",
       "      <th>number of roads</th>\n",
       "      <th>zeros</th>\n",
       "      <th>all routes</th>\n",
       "      <th>all risks</th>\n",
       "    </tr>\n",
       "  </thead>\n",
       "  <tbody>\n",
       "    <tr>\n",
       "      <th>0</th>\n",
       "      <td>10.948168</td>\n",
       "      <td>1.982723</td>\n",
       "      <td>8.0</td>\n",
       "      <td>5.0</td>\n",
       "      <td>[rue du vidollet, rue du valais, quai wald wil...</td>\n",
       "      <td>[0, 0, 0, 2.5023691597, 1.77502396276, 1.67077...</td>\n",
       "    </tr>\n",
       "  </tbody>\n",
       "</table>\n",
       "</div>"
      ],
      "text/plain": [
       "        Risk  mean risk  number of roads  zeros  \\\n",
       "0  10.948168   1.982723              8.0    5.0   \n",
       "\n",
       "                                          all routes  \\\n",
       "0  [rue du vidollet, rue du valais, quai wald wil...   \n",
       "\n",
       "                                           all risks  \n",
       "0  [0, 0, 0, 2.5023691597, 1.77502396276, 1.67077...  "
      ]
     },
     "execution_count": 148,
     "metadata": {},
     "output_type": "execute_result"
    }
   ],
   "source": [
    "origin = 'Vermont,+1202+Geneva'\n",
    "destination= 'Quai+du+Mont-Blanc+1201+Genève'\n",
    "get_path_risk(origin,destination,risk_df=risk_df,risk_col='Risk_NB_VOITURES_TOURISME')#['all routes'][0]"
   ]
  },
  {
   "cell_type": "markdown",
   "metadata": {},
   "source": [
    "**Notes about this function: **\n",
    "It uses the risk computed previously which, as discussed, is already very uncertain!\n",
    "Morevoer, as it can be seen in the table, only a small fraction of the roads has an equivalent in the risk table (they should not have a traffic detector in thoses roads) and here we did not take into account that mislead.\n",
    "We should note how we have dealt with missing values:\n",
    "* We counted them as 0 for the total risk\n",
    "* We extract them for the computation of the mean\n",
    "  \n",
    "\n",
    "How we could go around this problem:\n",
    "* taking data over more years (we recall that we took only data from 2015 for the limitations of requests imposed by Google maps)\n",
    "* computing a risk per road without the traffic (it will thus not be scaled) but it will be available for more roads. We could then interpolate to \"predict\" the normalized risk for the roads where we did not have the traffic data.\n",
    "\n",
    "**Other problem:** At some hours of the day (e.g. late at night), the Google API doesn't give multiple routes (or at least not to us)"
   ]
  },
  {
   "cell_type": "markdown",
   "metadata": {},
   "source": []
  },
  {
   "cell_type": "code",
   "execution_count": null,
   "metadata": {
    "collapsed": true
   },
   "outputs": [],
   "source": []
  },
  {
   "cell_type": "code",
   "execution_count": null,
   "metadata": {
    "collapsed": true
   },
   "outputs": [],
   "source": []
  }
 ],
 "metadata": {
  "kernelspec": {
   "display_name": "Python 3",
   "language": "python",
   "name": "python3"
  },
  "language_info": {
   "codemirror_mode": {
    "name": "ipython",
    "version": 3
   },
   "file_extension": ".py",
   "mimetype": "text/x-python",
   "name": "python",
   "nbconvert_exporter": "python",
   "pygments_lexer": "ipython3",
   "version": "3.6.2"
  }
 },
 "nbformat": 4,
 "nbformat_minor": 2
}
