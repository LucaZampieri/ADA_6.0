{
 "cells": [
  {
   "cell_type": "markdown",
   "metadata": {},
   "source": [
    "# Stay safe\n",
    "Week 1 (1st nov - 8th Nov) : Understand the data\n",
    "\n",
    "- Missing values\n",
    "- Change the data formats\n",
    "- Understand the categorical data\n",
    "- Find distributions\n",
    "- Correlations between the different features\n",
    "- Find patterns\n",
    "- Check for errors/dubious data"
   ]
  },
  {
   "cell_type": "code",
   "execution_count": 13,
   "metadata": {},
   "outputs": [],
   "source": [
    "# Import libraries\n",
    "import pandas as pd\n",
    "import numpy as np\n",
    "import matplotlib.pyplot as plt\n",
    "import seaborn as sns\n",
    "%matplotlib inline \n",
    "import folium\n",
    "from pyproj import Proj, transform"
   ]
  },
  {
   "cell_type": "code",
   "execution_count": 8,
   "metadata": {},
   "outputs": [],
   "source": [
    "# Read the dataset\n",
    "acc_data = 'Data/OTC_ACCIDENTS.csv'\n",
    "compt_trafic_data = 'Data/OTC_COMPTAGE_TRAFIC.csv'\n",
    "acc_df = pd.read_csv(acc_data, sep=';', encoding='latin-1')\n",
    "compt_trafic_df = pd.read_csv(compt_trafic_data, sep=';', encoding='latin-1')"
   ]
  },
  {
   "cell_type": "code",
   "execution_count": 9,
   "metadata": {},
   "outputs": [
    {
     "name": "stdout",
     "output_type": "stream",
     "text": [
      "<class 'pandas.core.frame.DataFrame'>\n",
      "RangeIndex: 19231 entries, 0 to 19230\n",
      "Data columns (total 35 columns):\n",
      "ID_ACCIDENT              19231 non-null float64\n",
      "DATE_                    19231 non-null object\n",
      "GROUPE_ACCIDENT          19231 non-null object\n",
      "CAUSE                    19231 non-null object\n",
      "COMMUNE                  19231 non-null object\n",
      "CONDITIONS_LUMINEUSES    19231 non-null object\n",
      "CONDITIONS_METEO         19231 non-null object\n",
      "CONSEQUENCES             19231 non-null object\n",
      "COOR_X                   19231 non-null float64\n",
      "COOR_Y                   19231 non-null float64\n",
      "ETAT_ROUTE               19231 non-null object\n",
      "GENRE_ROUTE              19231 non-null object\n",
      "HEURE                    19230 non-null object\n",
      "JOUR                     19231 non-null object\n",
      "LOCALITE                 19231 non-null object\n",
      "NB_ENFANTS_IMPLIQUES     19231 non-null float64\n",
      "NB_ENFANTS_ECOLE         19231 non-null float64\n",
      "NB_BLESSES_LEGERS        19231 non-null float64\n",
      "NB_BLESSES_GRAVES        19231 non-null float64\n",
      "NB_TUES                  19231 non-null float64\n",
      "NB_PIETONS               19231 non-null float64\n",
      "NB_BICYCLETTES           19231 non-null float64\n",
      "NB_VAE_25                19231 non-null float64\n",
      "NB_VAE_45                19231 non-null float64\n",
      "NB_CYCLOMOTEURS          19231 non-null float64\n",
      "NB_MOTOS_50              19231 non-null float64\n",
      "NB_MOTOS_125             19231 non-null float64\n",
      "NB_MOTOS_11KW            19231 non-null float64\n",
      "NB_VOITURES_TOURISME     19231 non-null float64\n",
      "NB_VOITURES_LIVRAISON    19231 non-null float64\n",
      "NB_CAMIONS               19231 non-null float64\n",
      "NB_BUS                   19231 non-null float64\n",
      "NB_TRAM                  19231 non-null float64\n",
      "E                        19231 non-null float64\n",
      "N                        19231 non-null float64\n",
      "dtypes: float64(23), object(12)\n",
      "memory usage: 5.1+ MB\n"
     ]
    }
   ],
   "source": [
    "acc_df.info()"
   ]
  },
  {
   "cell_type": "code",
   "execution_count": null,
   "metadata": {},
   "outputs": [],
   "source": []
  },
  {
   "cell_type": "code",
   "execution_count": null,
   "metadata": {},
   "outputs": [],
   "source": []
  },
  {
   "cell_type": "code",
   "execution_count": null,
   "metadata": {},
   "outputs": [],
   "source": []
  },
  {
   "cell_type": "code",
   "execution_count": null,
   "metadata": {},
   "outputs": [],
   "source": []
  },
  {
   "cell_type": "code",
   "execution_count": null,
   "metadata": {},
   "outputs": [],
   "source": []
  },
  {
   "cell_type": "code",
   "execution_count": null,
   "metadata": {},
   "outputs": [],
   "source": []
  },
  {
   "cell_type": "code",
   "execution_count": null,
   "metadata": {},
   "outputs": [],
   "source": []
  },
  {
   "cell_type": "code",
   "execution_count": null,
   "metadata": {},
   "outputs": [],
   "source": []
  },
  {
   "cell_type": "code",
   "execution_count": null,
   "metadata": {},
   "outputs": [],
   "source": []
  },
  {
   "cell_type": "code",
   "execution_count": 83,
   "metadata": {},
   "outputs": [],
   "source": [
    "# Create the map visualization\n",
    "Geneve_coord = [46.2004013, 6.1531163]\n",
    "m = folium.Map(location=lausanne_coord, zoom_start=13)"
   ]
  },
  {
   "cell_type": "code",
   "execution_count": 86,
   "metadata": {},
   "outputs": [],
   "source": [
    "# projection 1\n",
    "p1 = Proj(init='epsg:2056')\n",
    "\n",
    "# projection 2\n",
    "p2 = Proj(init='epsg:4326')\n",
    "\n",
    "# find x,y of Jefferson City, MO.\n",
    "x1= 2500774.0\n",
    "y1 = 1117364.0\n",
    "\n",
    "acc_df[['COOR_X','COOR_Y']].head(10)\n",
    "\n",
    "def coord(acc_df,i):\n",
    "    x2 = acc_df['COOR_X'].loc[i]\n",
    "    yy = acc_df['COOR_Y'].loc[i]\n",
    "    return [y2, x2]\n",
    "\n",
    "def coord_proj(acc_df,i, p1, p2):\n",
    "    x1 = acc_df['COOR_X'].loc[i]\n",
    "    y1 = acc_df['COOR_Y'].loc[i]\n",
    "    x2, y2 = transform(p1,p2,x1,y1)\n",
    "    acc_df['COOR_X'].loc[i] = x2\n",
    "    acc_df['COOR_Y'].loc[i] = y2\n",
    "    return acc_df"
   ]
  },
  {
   "cell_type": "code",
   "execution_count": null,
   "metadata": {},
   "outputs": [],
   "source": [
    "# Project data\n",
    "for i in range(0, len(acc_df['COOR_X'])-1):\n",
    "    acc_df = coord_proj(acc_df,i, p1, p2)\n",
    "acc_df"
   ]
  },
  {
   "cell_type": "code",
   "execution_count": 85,
   "metadata": {},
   "outputs": [
    {
     "data": {
      "text/html": [
       "<div style=\"width:100%;\"><div style=\"position:relative;width:100%;height:0;padding-bottom:60%;\"><iframe src=\"data:text/html;charset=utf-8;base64,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\" style=\"position:absolute;width:100%;height:100%;left:0;top:0;border:none !important;\" allowfullscreen webkitallowfullscreen mozallowfullscreen></iframe></div></div>"
      ],
      "text/plain": [
       "<folium.folium.Map at 0x125bc5940>"
      ]
     },
     "execution_count": 85,
     "metadata": {},
     "output_type": "execute_result"
    }
   ],
   "source": [
    "i=1\n",
    "coord(acc_df,i, p1, p2)\n",
    "for i in range(0, len(acc_df['COOR_X'].head(10))):\n",
    "    folium.Marker(coord(acc_df,i, p1, p2) , popup=\"1\").add_to(m)\n",
    "m"
   ]
  },
  {
   "cell_type": "code",
   "execution_count": null,
   "metadata": {},
   "outputs": [],
   "source": []
  }
 ],
 "metadata": {
  "kernelspec": {
   "display_name": "Python [conda root]",
   "language": "python",
   "name": "conda-root-py"
  },
  "language_info": {
   "codemirror_mode": {
    "name": "ipython",
    "version": 3
   },
   "file_extension": ".py",
   "mimetype": "text/x-python",
   "name": "python",
   "nbconvert_exporter": "python",
   "pygments_lexer": "ipython3",
   "version": "3.6.1"
  }
 },
 "nbformat": 4,
 "nbformat_minor": 2
}
