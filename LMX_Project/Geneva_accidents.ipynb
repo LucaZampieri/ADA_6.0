{
 "cells": [
  {
   "cell_type": "markdown",
   "metadata": {},
   "source": [
    "# DRIVE SAFE IN GENEVA\n"
   ]
  },
  {
   "cell_type": "markdown",
   "metadata": {},
   "source": [
    "## Table of Contents\n",
    "\n",
    "<p><div class=\"lev1\"> <a href='#1Project_planning'><span class=\"toc-item-num\">1.&nbsp;&nbsp;</span>Project planning</a> </div> \n",
    "<div class=\"lev1\"><a href='#2Dataset_description'><span class=\"toc-item-num\">2.&nbsp;&nbsp;</span>Dataset description</a></div> \n",
    "<div class=\"lev1\"><a href='#3Understand_data'><span class=\"toc-item-num\">3.&nbsp;&nbsp;</span>Understand the data</a></div> \n",
    "<div class=\"lev1\"><a href='#31Libraries'><span class=\"toc-item-num\">3.1&nbsp;&nbsp;</span>Libraries import and dataset load</a></div>\n",
    "<div class=\"lev1\"><a href='#32Feature'><span class=\"toc-item-num\">3.2&nbsp;&nbsp;</span>Feature subgroup exploration</a></div>\n",
    "<div class=\"lev1\"><a href='#321Time'><span class=\"toc-item-num\">3.2.1&nbsp;&nbsp;</span>Time</a></div>\n",
    "<div class=\"lev1\"><a href='#322Localisation'><span class=\"toc-item-num\">3.2.2&nbsp;&nbsp;</span>Localisation</a></div>\n",
    "<div class=\"lev1\"><a href='#323Conditions'><span class=\"toc-item-num\">3.2.3&nbsp;&nbsp;</span>Conditions</a></div>\n",
    "<div class=\"lev1\"><a href='#324Accident'><span class=\"toc-item-num\">3.2.4&nbsp;&nbsp;</span>Accident type</a></div>\n",
    "</p>"
   ]
  },
  {
   "cell_type": "markdown",
   "metadata": {},
   "source": [
    "# 1. Project planning"
   ]
  },
  {
   "cell_type": "markdown",
   "metadata": {},
   "source": [
    "<a id='1Project_planning'></a>\n",
    "**Week 1** (1st nov - 8th Nov) : Understand the data\n",
    "\n",
    "- Missing values\n",
    "- Change the data formats\n",
    "- Understand the categorical data\n",
    "- Find distributions\n",
    "- Correlations between the different features\n",
    "- Find patterns\n",
    "- Check for errors/dubious data\n",
    "\n",
    "** Week 2 ** (9th - 16th nov)  Enrich the dataset\n",
    "\n",
    "1. Search for external dataset that could further complete our dataset\n",
    "2. Understand the new data\n",
    "3. Transform this data\n",
    "4. Merge with the global dataset\n",
    "5. Relate adress, road and geolocalisation of our datasets\n",
    "6. Begin exploratory analysis"
   ]
  },
  {
   "cell_type": "markdown",
   "metadata": {},
   "source": [
    "# 2. Dataset description"
   ]
  },
  {
   "cell_type": "markdown",
   "metadata": {},
   "source": [
    "<a id='2Dataset_description'></a>"
   ]
  },
  {
   "cell_type": "markdown",
   "metadata": {},
   "source": [
    "# 3. Understand the data\n",
    "<a id='3Understand_data'></a>"
   ]
  },
  {
   "cell_type": "markdown",
   "metadata": {},
   "source": [
    "## 3.1. Libraries import and  dataset load\n",
    "<a id='31Libraries'></a>"
   ]
  },
  {
   "cell_type": "code",
   "execution_count": 1,
   "metadata": {
    "collapsed": true
   },
   "outputs": [],
   "source": [
    "# Import libraries\n",
    "import pandas as pd\n",
    "import numpy as np\n",
    "\n",
    "import matplotlib.pyplot as plt\n",
    "import seaborn as sns\n",
    "%matplotlib inline \n",
    "\n",
    "import folium\n",
    "\n",
    "from pyproj import Proj, transform\n",
    "\n",
    "from datetime import datetime\n",
    "from datetime import date, time\n",
    "from dateutil.parser import parse"
   ]
  },
  {
   "cell_type": "code",
   "execution_count": 20,
   "metadata": {},
   "outputs": [
    {
     "ename": "FileNotFoundError",
     "evalue": "File b'../data_/OTC_ACCIDENTS.csv' does not exist",
     "output_type": "error",
     "traceback": [
      "\u001b[0;31m---------------------------------------------------------------------------\u001b[0m",
      "\u001b[0;31mFileNotFoundError\u001b[0m                         Traceback (most recent call last)",
      "\u001b[0;32m<ipython-input-20-e69785e48aa6>\u001b[0m in \u001b[0;36m<module>\u001b[0;34m()\u001b[0m\n\u001b[1;32m      2\u001b[0m \u001b[0macc_data\u001b[0m \u001b[0;34m=\u001b[0m \u001b[0;34m'../data_/OTC_ACCIDENTS.csv'\u001b[0m\u001b[0;34m\u001b[0m\u001b[0m\n\u001b[1;32m      3\u001b[0m \u001b[0mcompt_trafic_data\u001b[0m \u001b[0;34m=\u001b[0m \u001b[0;34m'../data_/OTC_COMPTAGE_TRAFIC.csv'\u001b[0m\u001b[0;34m\u001b[0m\u001b[0m\n\u001b[0;32m----> 4\u001b[0;31m \u001b[0macc_df\u001b[0m \u001b[0;34m=\u001b[0m \u001b[0mpd\u001b[0m\u001b[0;34m.\u001b[0m\u001b[0mread_csv\u001b[0m\u001b[0;34m(\u001b[0m\u001b[0macc_data\u001b[0m\u001b[0;34m,\u001b[0m \u001b[0msep\u001b[0m\u001b[0;34m=\u001b[0m\u001b[0;34m';'\u001b[0m\u001b[0;34m,\u001b[0m \u001b[0mencoding\u001b[0m\u001b[0;34m=\u001b[0m\u001b[0;34m'latin-1'\u001b[0m\u001b[0;34m)\u001b[0m\u001b[0;34m\u001b[0m\u001b[0m\n\u001b[0m\u001b[1;32m      5\u001b[0m \u001b[0mcompt_trafic_df\u001b[0m \u001b[0;34m=\u001b[0m \u001b[0mpd\u001b[0m\u001b[0;34m.\u001b[0m\u001b[0mread_csv\u001b[0m\u001b[0;34m(\u001b[0m\u001b[0mcompt_trafic_data\u001b[0m\u001b[0;34m,\u001b[0m \u001b[0msep\u001b[0m\u001b[0;34m=\u001b[0m\u001b[0;34m';'\u001b[0m\u001b[0;34m,\u001b[0m \u001b[0mencoding\u001b[0m\u001b[0;34m=\u001b[0m\u001b[0;34m'latin-1'\u001b[0m\u001b[0;34m)\u001b[0m\u001b[0;34m\u001b[0m\u001b[0m\n",
      "\u001b[0;32m~/anaconda3/lib/python3.6/site-packages/pandas/io/parsers.py\u001b[0m in \u001b[0;36mparser_f\u001b[0;34m(filepath_or_buffer, sep, delimiter, header, names, index_col, usecols, squeeze, prefix, mangle_dupe_cols, dtype, engine, converters, true_values, false_values, skipinitialspace, skiprows, nrows, na_values, keep_default_na, na_filter, verbose, skip_blank_lines, parse_dates, infer_datetime_format, keep_date_col, date_parser, dayfirst, iterator, chunksize, compression, thousands, decimal, lineterminator, quotechar, quoting, escapechar, comment, encoding, dialect, tupleize_cols, error_bad_lines, warn_bad_lines, skipfooter, skip_footer, doublequote, delim_whitespace, as_recarray, compact_ints, use_unsigned, low_memory, buffer_lines, memory_map, float_precision)\u001b[0m\n\u001b[1;32m    653\u001b[0m                     skip_blank_lines=skip_blank_lines)\n\u001b[1;32m    654\u001b[0m \u001b[0;34m\u001b[0m\u001b[0m\n\u001b[0;32m--> 655\u001b[0;31m         \u001b[0;32mreturn\u001b[0m \u001b[0m_read\u001b[0m\u001b[0;34m(\u001b[0m\u001b[0mfilepath_or_buffer\u001b[0m\u001b[0;34m,\u001b[0m \u001b[0mkwds\u001b[0m\u001b[0;34m)\u001b[0m\u001b[0;34m\u001b[0m\u001b[0m\n\u001b[0m\u001b[1;32m    656\u001b[0m \u001b[0;34m\u001b[0m\u001b[0m\n\u001b[1;32m    657\u001b[0m     \u001b[0mparser_f\u001b[0m\u001b[0;34m.\u001b[0m\u001b[0m__name__\u001b[0m \u001b[0;34m=\u001b[0m \u001b[0mname\u001b[0m\u001b[0;34m\u001b[0m\u001b[0m\n",
      "\u001b[0;32m~/anaconda3/lib/python3.6/site-packages/pandas/io/parsers.py\u001b[0m in \u001b[0;36m_read\u001b[0;34m(filepath_or_buffer, kwds)\u001b[0m\n\u001b[1;32m    403\u001b[0m \u001b[0;34m\u001b[0m\u001b[0m\n\u001b[1;32m    404\u001b[0m     \u001b[0;31m# Create the parser.\u001b[0m\u001b[0;34m\u001b[0m\u001b[0;34m\u001b[0m\u001b[0m\n\u001b[0;32m--> 405\u001b[0;31m     \u001b[0mparser\u001b[0m \u001b[0;34m=\u001b[0m \u001b[0mTextFileReader\u001b[0m\u001b[0;34m(\u001b[0m\u001b[0mfilepath_or_buffer\u001b[0m\u001b[0;34m,\u001b[0m \u001b[0;34m**\u001b[0m\u001b[0mkwds\u001b[0m\u001b[0;34m)\u001b[0m\u001b[0;34m\u001b[0m\u001b[0m\n\u001b[0m\u001b[1;32m    406\u001b[0m \u001b[0;34m\u001b[0m\u001b[0m\n\u001b[1;32m    407\u001b[0m     \u001b[0;32mif\u001b[0m \u001b[0mchunksize\u001b[0m \u001b[0;32mor\u001b[0m \u001b[0miterator\u001b[0m\u001b[0;34m:\u001b[0m\u001b[0;34m\u001b[0m\u001b[0m\n",
      "\u001b[0;32m~/anaconda3/lib/python3.6/site-packages/pandas/io/parsers.py\u001b[0m in \u001b[0;36m__init__\u001b[0;34m(self, f, engine, **kwds)\u001b[0m\n\u001b[1;32m    762\u001b[0m             \u001b[0mself\u001b[0m\u001b[0;34m.\u001b[0m\u001b[0moptions\u001b[0m\u001b[0;34m[\u001b[0m\u001b[0;34m'has_index_names'\u001b[0m\u001b[0;34m]\u001b[0m \u001b[0;34m=\u001b[0m \u001b[0mkwds\u001b[0m\u001b[0;34m[\u001b[0m\u001b[0;34m'has_index_names'\u001b[0m\u001b[0;34m]\u001b[0m\u001b[0;34m\u001b[0m\u001b[0m\n\u001b[1;32m    763\u001b[0m \u001b[0;34m\u001b[0m\u001b[0m\n\u001b[0;32m--> 764\u001b[0;31m         \u001b[0mself\u001b[0m\u001b[0;34m.\u001b[0m\u001b[0m_make_engine\u001b[0m\u001b[0;34m(\u001b[0m\u001b[0mself\u001b[0m\u001b[0;34m.\u001b[0m\u001b[0mengine\u001b[0m\u001b[0;34m)\u001b[0m\u001b[0;34m\u001b[0m\u001b[0m\n\u001b[0m\u001b[1;32m    765\u001b[0m \u001b[0;34m\u001b[0m\u001b[0m\n\u001b[1;32m    766\u001b[0m     \u001b[0;32mdef\u001b[0m \u001b[0mclose\u001b[0m\u001b[0;34m(\u001b[0m\u001b[0mself\u001b[0m\u001b[0;34m)\u001b[0m\u001b[0;34m:\u001b[0m\u001b[0;34m\u001b[0m\u001b[0m\n",
      "\u001b[0;32m~/anaconda3/lib/python3.6/site-packages/pandas/io/parsers.py\u001b[0m in \u001b[0;36m_make_engine\u001b[0;34m(self, engine)\u001b[0m\n\u001b[1;32m    983\u001b[0m     \u001b[0;32mdef\u001b[0m \u001b[0m_make_engine\u001b[0m\u001b[0;34m(\u001b[0m\u001b[0mself\u001b[0m\u001b[0;34m,\u001b[0m \u001b[0mengine\u001b[0m\u001b[0;34m=\u001b[0m\u001b[0;34m'c'\u001b[0m\u001b[0;34m)\u001b[0m\u001b[0;34m:\u001b[0m\u001b[0;34m\u001b[0m\u001b[0m\n\u001b[1;32m    984\u001b[0m         \u001b[0;32mif\u001b[0m \u001b[0mengine\u001b[0m \u001b[0;34m==\u001b[0m \u001b[0;34m'c'\u001b[0m\u001b[0;34m:\u001b[0m\u001b[0;34m\u001b[0m\u001b[0m\n\u001b[0;32m--> 985\u001b[0;31m             \u001b[0mself\u001b[0m\u001b[0;34m.\u001b[0m\u001b[0m_engine\u001b[0m \u001b[0;34m=\u001b[0m \u001b[0mCParserWrapper\u001b[0m\u001b[0;34m(\u001b[0m\u001b[0mself\u001b[0m\u001b[0;34m.\u001b[0m\u001b[0mf\u001b[0m\u001b[0;34m,\u001b[0m \u001b[0;34m**\u001b[0m\u001b[0mself\u001b[0m\u001b[0;34m.\u001b[0m\u001b[0moptions\u001b[0m\u001b[0;34m)\u001b[0m\u001b[0;34m\u001b[0m\u001b[0m\n\u001b[0m\u001b[1;32m    986\u001b[0m         \u001b[0;32melse\u001b[0m\u001b[0;34m:\u001b[0m\u001b[0;34m\u001b[0m\u001b[0m\n\u001b[1;32m    987\u001b[0m             \u001b[0;32mif\u001b[0m \u001b[0mengine\u001b[0m \u001b[0;34m==\u001b[0m \u001b[0;34m'python'\u001b[0m\u001b[0;34m:\u001b[0m\u001b[0;34m\u001b[0m\u001b[0m\n",
      "\u001b[0;32m~/anaconda3/lib/python3.6/site-packages/pandas/io/parsers.py\u001b[0m in \u001b[0;36m__init__\u001b[0;34m(self, src, **kwds)\u001b[0m\n\u001b[1;32m   1603\u001b[0m         \u001b[0mkwds\u001b[0m\u001b[0;34m[\u001b[0m\u001b[0;34m'allow_leading_cols'\u001b[0m\u001b[0;34m]\u001b[0m \u001b[0;34m=\u001b[0m \u001b[0mself\u001b[0m\u001b[0;34m.\u001b[0m\u001b[0mindex_col\u001b[0m \u001b[0;32mis\u001b[0m \u001b[0;32mnot\u001b[0m \u001b[0;32mFalse\u001b[0m\u001b[0;34m\u001b[0m\u001b[0m\n\u001b[1;32m   1604\u001b[0m \u001b[0;34m\u001b[0m\u001b[0m\n\u001b[0;32m-> 1605\u001b[0;31m         \u001b[0mself\u001b[0m\u001b[0;34m.\u001b[0m\u001b[0m_reader\u001b[0m \u001b[0;34m=\u001b[0m \u001b[0mparsers\u001b[0m\u001b[0;34m.\u001b[0m\u001b[0mTextReader\u001b[0m\u001b[0;34m(\u001b[0m\u001b[0msrc\u001b[0m\u001b[0;34m,\u001b[0m \u001b[0;34m**\u001b[0m\u001b[0mkwds\u001b[0m\u001b[0;34m)\u001b[0m\u001b[0;34m\u001b[0m\u001b[0m\n\u001b[0m\u001b[1;32m   1606\u001b[0m \u001b[0;34m\u001b[0m\u001b[0m\n\u001b[1;32m   1607\u001b[0m         \u001b[0;31m# XXX\u001b[0m\u001b[0;34m\u001b[0m\u001b[0;34m\u001b[0m\u001b[0m\n",
      "\u001b[0;32mpandas/_libs/parsers.pyx\u001b[0m in \u001b[0;36mpandas._libs.parsers.TextReader.__cinit__ (pandas/_libs/parsers.c:4209)\u001b[0;34m()\u001b[0m\n",
      "\u001b[0;32mpandas/_libs/parsers.pyx\u001b[0m in \u001b[0;36mpandas._libs.parsers.TextReader._setup_parser_source (pandas/_libs/parsers.c:8873)\u001b[0;34m()\u001b[0m\n",
      "\u001b[0;31mFileNotFoundError\u001b[0m: File b'../data_/OTC_ACCIDENTS.csv' does not exist"
     ]
    }
   ],
   "source": [
    "# Read the dataset\n",
    "acc_data = '../data_/OTC_ACCIDENTS.csv'\n",
    "compt_trafic_data = '../data_/OTC_COMPTAGE_TRAFIC.csv'\n",
    "acc_df = pd.read_csv(acc_data, sep=';', encoding='latin-1')\n",
    "compt_trafic_df = pd.read_csv(compt_trafic_data, sep=';', encoding='latin-1')"
   ]
  },
  {
   "cell_type": "code",
   "execution_count": null,
   "metadata": {},
   "outputs": [],
   "source": [
    "# Show the df to have a better idea\n",
    "acc_df.head(3)"
   ]
  },
  {
   "cell_type": "code",
   "execution_count": null,
   "metadata": {},
   "outputs": [],
   "source": [
    "# Shape of the dataset\n",
    "acc_df.shape"
   ]
  },
  {
   "cell_type": "code",
   "execution_count": null,
   "metadata": {},
   "outputs": [],
   "source": [
    "# Information of the dataset\n",
    "acc_df.info()"
   ]
  },
  {
   "cell_type": "markdown",
   "metadata": {},
   "source": [
    "The Geneva accidents dataset has 19'231 datapoints with 35 different features. They can be grouped in the following feature subgroups:\n",
    "\n",
    "1) **Time**: DATE_, HEURE, JOUR\n",
    "\n",
    "2) **Localisation**: COMMUNE, COOR_X, COOR_Y, LOCALITE, E, N \n",
    "\n",
    "3) **Conditions**: CONDITIONS_LUMINEUSES, CONDITIONS_METEO, ETAT_ROUTE, GENRE_ROUTE\n",
    "\n",
    "4) **Accident type**: GROUPE_ACCIDENT, CAUSE \n",
    "\n",
    "5) **Number and type of people**: NB_ENFANTS_IMPLIQUES, NB_ENFANTS_ECOLE, NB_BLESSES_LEGERS, NB_BLESSES_GRAVES, NB_TUES, NB_PIETONS  \n",
    "\n",
    "6) **Number of vehicles involved**: NB_BICYCLETTES, NB_VAE_25, NB_VAE_45, NB_CYCLOMOTEURS, NB_MOTOS_50, NB_MOTOS_125, NB_MOTOS_11KW, NB_VOITURES_TOURISME, NB_VOITURES_LIVRAISON, NB_CAMIONS, NB_BUS, NB_TRAM\n"
   ]
  },
  {
   "cell_type": "markdown",
   "metadata": {},
   "source": [
    "## 3.2 Feature subgroup exploration\n",
    "<a id='32Feature'></a>"
   ]
  },
  {
   "cell_type": "markdown",
   "metadata": {},
   "source": [
    "#### Plot helper functions\n"
   ]
  },
  {
   "cell_type": "code",
   "execution_count": 3,
   "metadata": {
    "collapsed": true
   },
   "outputs": [],
   "source": [
    "# Plot helper functions\n",
    "def value_barplot_label(plot_name):\n",
    "    # Inserts the value label on the top of each bar.\n",
    "\n",
    "    for p in plot_name.patches:\n",
    "        height = p.get_height()\n",
    "        plot_name.text(p.get_x()+p.get_width()/2., height,'{:0.0f}'.format(height), ha=\"center\").set_weight('bold')\n",
    "\n",
    "def tick_format(plot,tick_type):\n",
    "    if tick_type == 1:\n",
    "        for label in plot.get_xticklabels():\n",
    "            label.set_fontsize(16)\n",
    "            label.set_rotation(90) \n",
    "        for label in plot.get_yticklabels():\n",
    "            label.set_fontsize(14)\n",
    "    \n",
    "    if tick_type == 2:\n",
    "        for label in plot.get_xticklabels():\n",
    "            label.set_fontsize(16)\n",
    "        for label in plot.get_yticklabels():\n",
    "            label.set_fontsize(14)\n",
    "    \n",
    "    if tick_type == 3:\n",
    "        for label in plot.get_xticklabels():\n",
    "            label.set_fontsize(16)\n",
    "        for label in plot.get_yticklabels():\n",
    "            label.set_fontsize(14)\n",
    "            label.set_rotation(20)"
   ]
  },
  {
   "cell_type": "markdown",
   "metadata": {},
   "source": [
    "### 3.2.1 Time\n",
    "<a id='321Time'></a>"
   ]
  },
  {
   "cell_type": "markdown",
   "metadata": {},
   "source": [
    "An important feature of the accidents datasets is the time: It answers the question when the accidents happen. This feature will be very useful for our further analysis. As time features, there are:\n",
    "- Date\n",
    "- Hour\n",
    "- Day of the week\n",
    "\n",
    "Let's check the format of this three features:"
   ]
  },
  {
   "cell_type": "code",
   "execution_count": 4,
   "metadata": {},
   "outputs": [
    {
     "ename": "NameError",
     "evalue": "name 'acc_df' is not defined",
     "output_type": "error",
     "traceback": [
      "\u001b[0;31m---------------------------------------------------------------------------\u001b[0m",
      "\u001b[0;31mNameError\u001b[0m                                 Traceback (most recent call last)",
      "\u001b[0;32m<ipython-input-4-45064f0016c8>\u001b[0m in \u001b[0;36m<module>\u001b[0;34m()\u001b[0m\n\u001b[0;32m----> 1\u001b[0;31m \u001b[0mprint\u001b[0m\u001b[0;34m(\u001b[0m\u001b[0macc_df\u001b[0m\u001b[0;34m.\u001b[0m\u001b[0mDATE_\u001b[0m\u001b[0;34m.\u001b[0m\u001b[0mhead\u001b[0m\u001b[0;34m(\u001b[0m\u001b[0;36m2\u001b[0m\u001b[0;34m)\u001b[0m\u001b[0;34m)\u001b[0m\u001b[0;34m\u001b[0m\u001b[0m\n\u001b[0m\u001b[1;32m      2\u001b[0m \u001b[0mprint\u001b[0m\u001b[0;34m(\u001b[0m\u001b[0macc_df\u001b[0m\u001b[0;34m.\u001b[0m\u001b[0mHEURE\u001b[0m\u001b[0;34m.\u001b[0m\u001b[0mhead\u001b[0m\u001b[0;34m(\u001b[0m\u001b[0;36m2\u001b[0m\u001b[0;34m)\u001b[0m\u001b[0;34m)\u001b[0m\u001b[0;34m\u001b[0m\u001b[0m\n\u001b[1;32m      3\u001b[0m \u001b[0mprint\u001b[0m\u001b[0;34m(\u001b[0m\u001b[0macc_df\u001b[0m\u001b[0;34m.\u001b[0m\u001b[0mJOUR\u001b[0m\u001b[0;34m.\u001b[0m\u001b[0mhead\u001b[0m\u001b[0;34m(\u001b[0m\u001b[0;36m2\u001b[0m\u001b[0;34m)\u001b[0m\u001b[0;34m)\u001b[0m\u001b[0;34m\u001b[0m\u001b[0m\n",
      "\u001b[0;31mNameError\u001b[0m: name 'acc_df' is not defined"
     ]
    }
   ],
   "source": [
    "print(acc_df.DATE_.head(2))\n",
    "print(acc_df.HEURE.head(2))\n",
    "print(acc_df.JOUR.head(2))"
   ]
  },
  {
   "cell_type": "markdown",
   "metadata": {},
   "source": [
    "In order to use these features, we need to change the format. In addition, to enrich our analysis, we will create the `Year`, `Month` and `Day` of the month to find more correlations with the accidents:"
   ]
  },
  {
   "cell_type": "code",
   "execution_count": 5,
   "metadata": {},
   "outputs": [
    {
     "ename": "NameError",
     "evalue": "name 'acc_df' is not defined",
     "output_type": "error",
     "traceback": [
      "\u001b[0;31m---------------------------------------------------------------------------\u001b[0m",
      "\u001b[0;31mNameError\u001b[0m                                 Traceback (most recent call last)",
      "\u001b[0;32m<ipython-input-5-aa402d4b95bc>\u001b[0m in \u001b[0;36m<module>\u001b[0;34m()\u001b[0m\n\u001b[1;32m      1\u001b[0m \u001b[0;31m# Datetime format\u001b[0m\u001b[0;34m\u001b[0m\u001b[0;34m\u001b[0m\u001b[0m\n\u001b[0;32m----> 2\u001b[0;31m \u001b[0macc_df\u001b[0m\u001b[0;34m[\u001b[0m\u001b[0;34m'DATE_'\u001b[0m\u001b[0;34m]\u001b[0m \u001b[0;34m=\u001b[0m \u001b[0macc_df\u001b[0m\u001b[0;34m[\u001b[0m\u001b[0;34m'DATE_'\u001b[0m\u001b[0;34m]\u001b[0m\u001b[0;34m.\u001b[0m\u001b[0mapply\u001b[0m\u001b[0;34m(\u001b[0m\u001b[0;32mlambda\u001b[0m \u001b[0md\u001b[0m\u001b[0;34m:\u001b[0m \u001b[0mpd\u001b[0m\u001b[0;34m.\u001b[0m\u001b[0mto_datetime\u001b[0m\u001b[0;34m(\u001b[0m\u001b[0md\u001b[0m\u001b[0;34m)\u001b[0m\u001b[0;34m)\u001b[0m\u001b[0;34m\u001b[0m\u001b[0m\n\u001b[0m\u001b[1;32m      3\u001b[0m \u001b[0macc_df\u001b[0m\u001b[0;34m[\u001b[0m\u001b[0;34m'HEURE'\u001b[0m\u001b[0;34m]\u001b[0m \u001b[0;34m=\u001b[0m \u001b[0macc_df\u001b[0m\u001b[0;34m[\u001b[0m\u001b[0;34m'HEURE'\u001b[0m\u001b[0;34m]\u001b[0m\u001b[0;34m.\u001b[0m\u001b[0mapply\u001b[0m\u001b[0;34m(\u001b[0m\u001b[0;32mlambda\u001b[0m \u001b[0md\u001b[0m\u001b[0;34m:\u001b[0m \u001b[0mpd\u001b[0m\u001b[0;34m.\u001b[0m\u001b[0mto_datetime\u001b[0m\u001b[0;34m(\u001b[0m\u001b[0md\u001b[0m\u001b[0;34m)\u001b[0m\u001b[0;34m)\u001b[0m\u001b[0;34m\u001b[0m\u001b[0m\n\u001b[1;32m      4\u001b[0m \u001b[0;34m\u001b[0m\u001b[0m\n\u001b[1;32m      5\u001b[0m \u001b[0;31m# Create new time features\u001b[0m\u001b[0;34m\u001b[0m\u001b[0;34m\u001b[0m\u001b[0m\n",
      "\u001b[0;31mNameError\u001b[0m: name 'acc_df' is not defined"
     ]
    }
   ],
   "source": [
    "# Datetime format\n",
    "acc_df['DATE_'] = acc_df['DATE_'].apply(lambda d: pd.to_datetime(d))\n",
    "acc_df['HEURE'] = acc_df['HEURE'].apply(lambda d: pd.to_datetime(d))\n",
    "\n",
    "# Create new time features\n",
    "acc_df['YEAR'] = [date.year for date in acc_df['DATE_']]\n",
    "acc_df['MONTH'] = [date.month for date in acc_df['DATE_']]\n",
    "acc_df['DAY'] = [date.day for date in acc_df['DATE_']]\n",
    "acc_df['HEURE'] = acc_df['HEURE'].fillna(acc_df['HEURE'].iloc[0])  # Fillna with first value of the df (Error neglible)\n",
    "#acc_df.info()"
   ]
  },
  {
   "cell_type": "markdown",
   "metadata": {},
   "source": [
    "Once the time data can be treated, we start our exploratory analysis by computing:\n",
    "- Number of accidents per year\n",
    "- Number of accidents per month\n",
    "- Number of accidents per day of the month\n",
    "- Number of accidents per weekday"
   ]
  },
  {
   "cell_type": "code",
   "execution_count": 6,
   "metadata": {},
   "outputs": [
    {
     "ename": "NameError",
     "evalue": "name 'acc_df' is not defined",
     "output_type": "error",
     "traceback": [
      "\u001b[0;31m---------------------------------------------------------------------------\u001b[0m",
      "\u001b[0;31mNameError\u001b[0m                                 Traceback (most recent call last)",
      "\u001b[0;32m<ipython-input-6-0bd90e402fca>\u001b[0m in \u001b[0;36m<module>\u001b[0;34m()\u001b[0m\n\u001b[1;32m      3\u001b[0m \u001b[0;31m# Visualize accidents per Year\u001b[0m\u001b[0;34m\u001b[0m\u001b[0;34m\u001b[0m\u001b[0m\n\u001b[1;32m      4\u001b[0m \u001b[0max1\u001b[0m \u001b[0;34m=\u001b[0m \u001b[0mfig\u001b[0m\u001b[0;34m.\u001b[0m\u001b[0madd_subplot\u001b[0m\u001b[0;34m(\u001b[0m\u001b[0;36m221\u001b[0m\u001b[0;34m)\u001b[0m\u001b[0;34m\u001b[0m\u001b[0m\n\u001b[0;32m----> 5\u001b[0;31m \u001b[0macc_per_year\u001b[0m \u001b[0;34m=\u001b[0m \u001b[0macc_df\u001b[0m\u001b[0;34m.\u001b[0m\u001b[0mYEAR\u001b[0m\u001b[0;34m.\u001b[0m\u001b[0mvalue_counts\u001b[0m\u001b[0;34m(\u001b[0m\u001b[0mascending\u001b[0m\u001b[0;34m=\u001b[0m\u001b[0;32mTrue\u001b[0m\u001b[0;34m,\u001b[0m \u001b[0msort\u001b[0m\u001b[0;34m=\u001b[0m\u001b[0;32mFalse\u001b[0m\u001b[0;34m)\u001b[0m\u001b[0;34m\u001b[0m\u001b[0m\n\u001b[0m\u001b[1;32m      6\u001b[0m ax1 = sns.barplot(x=acc_per_year.index, \n\u001b[1;32m      7\u001b[0m                  \u001b[0my\u001b[0m\u001b[0;34m=\u001b[0m\u001b[0macc_per_year\u001b[0m\u001b[0;34m,\u001b[0m\u001b[0;34m\u001b[0m\u001b[0m\n",
      "\u001b[0;31mNameError\u001b[0m: name 'acc_df' is not defined"
     ]
    },
    {
     "data": {
      "image/png": "[encoded data removed]",
      "text/plain": [
       "<matplotlib.figure.Figure at 0x7f8bddf69a90>"
      ]
     },
     "metadata": {},
     "output_type": "display_data"
    }
   ],
   "source": [
    "fig = plt.figure(figsize=(25,15))\n",
    "\n",
    "# Visualize accidents per Year\n",
    "ax1 = fig.add_subplot(221)\n",
    "acc_per_year = acc_df.YEAR.value_counts(ascending=True, sort=False)\n",
    "ax1 = sns.barplot(x=acc_per_year.index, \n",
    "                 y=acc_per_year, \n",
    "                 palette='Reds',\n",
    "                 ax=ax1)\n",
    "value_barplot_label(ax1)\n",
    "plt.title(\"Accidents per year\", fontsize=30).set_weight('bold')\n",
    "tick_format(ax1, 2)\n",
    "ax1.set_ylabel('# of accidents', fontsize=16).set_weight('bold')\n",
    "ax1.set_xlabel('Year', fontsize=16).set_weight('bold')\n",
    "\n",
    "\n",
    "# Visualize accidents per month\n",
    "ax2 = fig.add_subplot(222)\n",
    "acc_per_month = acc_df.MONTH.value_counts(ascending=True, sort=False)\n",
    "ax2 = sns.barplot(x=acc_per_month.index, \n",
    "                 y=acc_per_month, \n",
    "                 palette='Reds',\n",
    "                 ax=ax2)\n",
    "value_barplot_label(ax2)\n",
    "plt.title(\"Accidents per month\", fontsize=30).set_weight('bold')\n",
    "tick_format(ax2, 2)\n",
    "ax2.set_ylabel('# of accidents', fontsize=16).set_weight('bold')\n",
    "ax2.set_xlabel('Month', fontsize=16).set_weight('bold')\n",
    "\n",
    "# Visualize accidents per day of the month\n",
    "ax3 = fig.add_subplot(223)\n",
    "acc_per_day = acc_df.DAY.value_counts(ascending=True, sort=False)\n",
    "ax3 = sns.barplot(x=acc_per_day.index, \n",
    "                 y=acc_per_day, \n",
    "                 palette='Reds',\n",
    "                 ax=ax3)\n",
    "value_barplot_label(ax3)\n",
    "plt.title(\"Accidents per day of the month\", fontsize=30).set_weight('bold')\n",
    "tick_format(ax3, 2)\n",
    "ax3.set_ylabel('# of accidents', fontsize=16).set_weight('bold')\n",
    "ax3.set_xlabel('Day of the month', fontsize=16).set_weight('bold')\n",
    "\n",
    "# Visualize accidents per weekday\n",
    "ax4 = fig.add_subplot(224)\n",
    "weekdays=['Lundi', 'Mardi', 'Mercredi', 'Jeudi', 'Vendredi', 'Samedi', 'Dimanche']\n",
    "acc_per_weekday = acc_df.JOUR.value_counts(ascending=True, sort=False).reindex(weekdays)\n",
    "ax4 = sns.barplot(x=acc_per_weekday.index, \n",
    "                 y=acc_per_weekday, \n",
    "                 palette='Reds',\n",
    "                 ax=ax4)\n",
    "value_barplot_label(ax4)\n",
    "plt.title(\"Accidents per week day\", fontsize=30).set_weight('bold')\n",
    "tick_format(ax4, 2)\n",
    "ax4.set_ylabel('# of accidents', fontsize=16).set_weight('bold')\n",
    "ax4.set_xlabel('Week day', fontsize=16).set_weight('bold')"
   ]
  },
  {
   "cell_type": "markdown",
   "metadata": {},
   "source": [
    "From the plots above we can draw some first conclusions of the time features:\n",
    "- There is an observable increase of number of accidents between 2011 to 2015. In 2016, there is a neglegible decrease.\n",
    "- During the year, it can be observed some up-downs. There is a peak of accidents in March, June, September, October and November. Our first guess is that during the months when it is the holidays start or the end of the year months, it is more probable to have an accident. A further analysis could be done in order to verify the first assumption by getting the information of the year holidays and seeing the correlation with the accidents dates. (**TO DEVELOP**).\n",
    "- During the month, there is no appreciable correlation within the day of the month and the probability to have an accident\n",
    "- However, during the week, the days with higher probability to have an accident are Thurstday and Friday. A further analysis can be to see if there is an increase of this tendency during the years (**TO DEVELOP**)\n",
    "\n",
    "\n",
    "**Create a new feature of time of the day (morning, afternoon, evening, night)**"
   ]
  },
  {
   "cell_type": "markdown",
   "metadata": {},
   "source": [
    "### 3.2.2 Localisation\n",
    "<a id='322Localisation'></a>"
   ]
  },
  {
   "cell_type": "markdown",
   "metadata": {},
   "source": [
    "An other important question to ask is WHERE?. The localisation features will help to answer this question and find the relation with the other features. \n",
    "As localisation features, we can find:\n",
    "- **COOR_X**: X coordenate in 'epsg_2056' reference system\n",
    "- **COOR_Y**: X coordenate in 'epsg_2056' reference system\n",
    "\n",
    "E and N gives the same information as COOR_X and COOR_Y. This is why they will be dropped. The COOR_X and COOR_Y coordenates will be projected in the GPS coordenates, also called 'epsg:4326' reference system. For this, the Proj and transform libraries will be used:"
   ]
  },
  {
   "cell_type": "code",
   "execution_count": 7,
   "metadata": {
    "collapsed": true
   },
   "outputs": [],
   "source": [
    "# projection definition\n",
    "p1 = Proj(init='epsg:2056')\n",
    "p2 = Proj(init='epsg:4326')\n",
    "\n",
    "# Helper functions\n",
    "def coord_proj(acc_df,i, p1, p2):\n",
    "    x1 = acc_df['COOR_X'].loc[i]\n",
    "    y1 = acc_df['COOR_Y'].loc[i]\n",
    "    x2, y2 = transform(p1,p2,x1,y1)\n",
    "    acc_df['COOR_X'].set_value(i, x2)\n",
    "    acc_df['COOR_Y'].set_value(i, y2)\n",
    "    return acc_df"
   ]
  },
  {
   "cell_type": "code",
   "execution_count": 8,
   "metadata": {},
   "outputs": [
    {
     "ename": "NameError",
     "evalue": "name 'acc_df' is not defined",
     "output_type": "error",
     "traceback": [
      "\u001b[0;31m---------------------------------------------------------------------------\u001b[0m",
      "\u001b[0;31mNameError\u001b[0m                                 Traceback (most recent call last)",
      "\u001b[0;32m<ipython-input-8-73f4caf8b598>\u001b[0m in \u001b[0;36m<module>\u001b[0;34m()\u001b[0m\n\u001b[1;32m      1\u001b[0m \u001b[0;31m# Project data\u001b[0m\u001b[0;34m\u001b[0m\u001b[0;34m\u001b[0m\u001b[0m\n\u001b[0;32m----> 2\u001b[0;31m \u001b[0;32mfor\u001b[0m \u001b[0mi\u001b[0m \u001b[0;32min\u001b[0m \u001b[0mrange\u001b[0m\u001b[0;34m(\u001b[0m\u001b[0;36m0\u001b[0m\u001b[0;34m,\u001b[0m \u001b[0mlen\u001b[0m\u001b[0;34m(\u001b[0m\u001b[0macc_df\u001b[0m\u001b[0;34m[\u001b[0m\u001b[0;34m'COOR_X'\u001b[0m\u001b[0;34m]\u001b[0m\u001b[0;34m)\u001b[0m\u001b[0;34m-\u001b[0m\u001b[0;36m1\u001b[0m\u001b[0;34m)\u001b[0m\u001b[0;34m:\u001b[0m\u001b[0;34m\u001b[0m\u001b[0m\n\u001b[0m\u001b[1;32m      3\u001b[0m     \u001b[0macc_df\u001b[0m \u001b[0;34m=\u001b[0m \u001b[0mcoord_proj\u001b[0m\u001b[0;34m(\u001b[0m\u001b[0macc_df\u001b[0m\u001b[0;34m,\u001b[0m\u001b[0mi\u001b[0m\u001b[0;34m,\u001b[0m \u001b[0mp1\u001b[0m\u001b[0;34m,\u001b[0m \u001b[0mp2\u001b[0m\u001b[0;34m)\u001b[0m\u001b[0;34m\u001b[0m\u001b[0m\n\u001b[1;32m      4\u001b[0m \u001b[0;31m# Delete unuseful columns\u001b[0m\u001b[0;34m\u001b[0m\u001b[0;34m\u001b[0m\u001b[0m\n\u001b[1;32m      5\u001b[0m \u001b[0;31m#del acc_df['N']\u001b[0m\u001b[0;34m\u001b[0m\u001b[0;34m\u001b[0m\u001b[0m\n",
      "\u001b[0;31mNameError\u001b[0m: name 'acc_df' is not defined"
     ]
    }
   ],
   "source": [
    "# Project data\n",
    "for i in range(0, len(acc_df['COOR_X'])-1):\n",
    "    acc_df = coord_proj(acc_df,i, p1, p2)\n",
    "# Delete unuseful columns\n",
    "#del acc_df['N']\n",
    "#del acc_df['E']\n",
    "acc_df.head(3)"
   ]
  },
  {
   "cell_type": "markdown",
   "metadata": {},
   "source": [
    "An other localisation feature is the \"Commune\". In order more information to get insight of the accidents dataset, it will be interesting to have the number of inhabitants of each Commune (**TO Develop**)"
   ]
  },
  {
   "cell_type": "code",
   "execution_count": 9,
   "metadata": {},
   "outputs": [
    {
     "ename": "NameError",
     "evalue": "name 'acc_df' is not defined",
     "output_type": "error",
     "traceback": [
      "\u001b[0;31m---------------------------------------------------------------------------\u001b[0m",
      "\u001b[0;31mNameError\u001b[0m                                 Traceback (most recent call last)",
      "\u001b[0;32m<ipython-input-9-097416e29559>\u001b[0m in \u001b[0;36m<module>\u001b[0;34m()\u001b[0m\n\u001b[1;32m      1\u001b[0m \u001b[0;34m\u001b[0m\u001b[0m\n\u001b[1;32m      2\u001b[0m \u001b[0mplt\u001b[0m\u001b[0;34m.\u001b[0m\u001b[0mfigure\u001b[0m\u001b[0;34m(\u001b[0m\u001b[0mfigsize\u001b[0m\u001b[0;34m=\u001b[0m\u001b[0;34m(\u001b[0m\u001b[0;36m15\u001b[0m\u001b[0;34m,\u001b[0m\u001b[0;36m4\u001b[0m\u001b[0;34m)\u001b[0m\u001b[0;34m)\u001b[0m\u001b[0;34m\u001b[0m\u001b[0m\n\u001b[0;32m----> 3\u001b[0;31m \u001b[0mcommune_accidents\u001b[0m \u001b[0;34m=\u001b[0m \u001b[0macc_df\u001b[0m\u001b[0;34m.\u001b[0m\u001b[0mCOMMUNE\u001b[0m\u001b[0;34m.\u001b[0m\u001b[0mvalue_counts\u001b[0m\u001b[0;34m(\u001b[0m\u001b[0;34m)\u001b[0m\u001b[0;34m\u001b[0m\u001b[0m\n\u001b[0m\u001b[1;32m      4\u001b[0m ax = sns.barplot(x=commune_accidents.index, \n\u001b[1;32m      5\u001b[0m                  \u001b[0my\u001b[0m\u001b[0;34m=\u001b[0m\u001b[0mcommune_accidents\u001b[0m\u001b[0;34m,\u001b[0m\u001b[0;34m\u001b[0m\u001b[0m\n",
      "\u001b[0;31mNameError\u001b[0m: name 'acc_df' is not defined"
     ]
    },
    {
     "data": {
      "text/plain": [
       "<matplotlib.figure.Figure at 0x7f8bd9f09390>"
      ]
     },
     "metadata": {},
     "output_type": "display_data"
    }
   ],
   "source": [
    "\n",
    "plt.figure(figsize=(15,4))\n",
    "commune_accidents = acc_df.COMMUNE.value_counts()\n",
    "ax = sns.barplot(x=commune_accidents.index, \n",
    "                 y=commune_accidents, \n",
    "                 palette=sns.cubehelix_palette(reverse=True, n_colors=len(commune_accidents.index)))\n",
    "ax.set(yticks=np.linspace(0,9000,num=10))\n",
    "plt.title(\"Commune\", fontsize=30).set_weight('bold')\n",
    "tick_format(ax, 1)\n",
    "ax.set_ylabel('# of accidents', fontsize=16).set_weight('bold')\n",
    "ax.set_xlabel('Commune', fontsize=16).set_weight('bold')"
   ]
  },
  {
   "cell_type": "code",
   "execution_count": 10,
   "metadata": {
    "scrolled": true
   },
   "outputs": [
    {
     "ename": "NameError",
     "evalue": "name 'acc_df' is not defined",
     "output_type": "error",
     "traceback": [
      "\u001b[0;31m---------------------------------------------------------------------------\u001b[0m",
      "\u001b[0;31mNameError\u001b[0m                                 Traceback (most recent call last)",
      "\u001b[0;32m<ipython-input-10-db383ff9ea0c>\u001b[0m in \u001b[0;36m<module>\u001b[0;34m()\u001b[0m\n\u001b[0;32m----> 1\u001b[0;31m \u001b[0macc_df\u001b[0m\u001b[0;34m.\u001b[0m\u001b[0mLOCALITE\u001b[0m\u001b[0;34m.\u001b[0m\u001b[0mvalue_counts\u001b[0m\u001b[0;34m(\u001b[0m\u001b[0;34m)\u001b[0m\u001b[0;34m\u001b[0m\u001b[0m\n\u001b[0m",
      "\u001b[0;31mNameError\u001b[0m: name 'acc_df' is not defined"
     ]
    }
   ],
   "source": [
    "acc_df.LOCALITE.value_counts()"
   ]
  },
  {
   "cell_type": "markdown",
   "metadata": {},
   "source": [
    "### 3.2.3 Conditions\n",
    "<a id='323Conditions'></a>"
   ]
  },
  {
   "cell_type": "markdown",
   "metadata": {},
   "source": [
    "In this section the external conditions of eacha ccidetn will be analysed. In the list of external conditions we can find:\n",
    "- Light conditions\n",
    "- Weather conditions\n",
    "- Road conditions\n",
    "- Road type\n",
    "CONDITIONS_LUMINEUSES, CONDITIONS_METEO, ETAT_ROUTE, GENRE_ROUTE"
   ]
  },
  {
   "cell_type": "code",
   "execution_count": 11,
   "metadata": {},
   "outputs": [
    {
     "ename": "NameError",
     "evalue": "name 'acc_df' is not defined",
     "output_type": "error",
     "traceback": [
      "\u001b[0;31m---------------------------------------------------------------------------\u001b[0m",
      "\u001b[0;31mNameError\u001b[0m                                 Traceback (most recent call last)",
      "\u001b[0;32m<ipython-input-11-5221caac5112>\u001b[0m in \u001b[0;36m<module>\u001b[0;34m()\u001b[0m\n\u001b[1;32m      3\u001b[0m \u001b[0;31m# Visualize the accident group\u001b[0m\u001b[0;34m\u001b[0m\u001b[0;34m\u001b[0m\u001b[0m\n\u001b[1;32m      4\u001b[0m \u001b[0max1\u001b[0m \u001b[0;34m=\u001b[0m \u001b[0mfig\u001b[0m\u001b[0;34m.\u001b[0m\u001b[0madd_subplot\u001b[0m\u001b[0;34m(\u001b[0m\u001b[0;36m221\u001b[0m\u001b[0;34m)\u001b[0m\u001b[0;34m\u001b[0m\u001b[0m\n\u001b[0;32m----> 5\u001b[0;31m \u001b[0mlight_cond\u001b[0m \u001b[0;34m=\u001b[0m \u001b[0macc_df\u001b[0m\u001b[0;34m.\u001b[0m\u001b[0mCONDITIONS_LUMINEUSES\u001b[0m\u001b[0;34m.\u001b[0m\u001b[0mvalue_counts\u001b[0m\u001b[0;34m(\u001b[0m\u001b[0;34m)\u001b[0m\u001b[0;34m\u001b[0m\u001b[0m\n\u001b[0m\u001b[1;32m      6\u001b[0m ax1 = sns.barplot(x=light_cond, \n\u001b[1;32m      7\u001b[0m                  \u001b[0my\u001b[0m\u001b[0;34m=\u001b[0m\u001b[0mlight_cond\u001b[0m\u001b[0;34m.\u001b[0m\u001b[0mindex\u001b[0m\u001b[0;34m,\u001b[0m\u001b[0;34m\u001b[0m\u001b[0m\n",
      "\u001b[0;31mNameError\u001b[0m: name 'acc_df' is not defined"
     ]
    },
    {
     "data": {
      "image/png": "[encoded data removed]",
      "text/plain": [
       "<matplotlib.figure.Figure at 0x7f8bd9f27fd0>"
      ]
     },
     "metadata": {},
     "output_type": "display_data"
    }
   ],
   "source": [
    "fig = plt.figure(figsize=(25,16))\n",
    "\n",
    "# Visualize the accident group\n",
    "ax1 = fig.add_subplot(221)\n",
    "light_cond = acc_df.CONDITIONS_LUMINEUSES.value_counts()\n",
    "ax1 = sns.barplot(x=light_cond, \n",
    "                 y=light_cond.index, \n",
    "                 palette=sns.cubehelix_palette(reverse=True, n_colors=len(light_cond.index)),\n",
    "                 ax=ax1)\n",
    "plt.title(\"Light conditions\", fontsize=30).set_weight('bold')\n",
    "tick_format(ax1, 3)\n",
    "ax1.set_ylabel('Condition', fontsize=16).set_weight('bold')\n",
    "ax1.set_xlabel('# of accidents', fontsize=16).set_weight('bold')\n",
    "\n",
    "# Visualize the accident group\n",
    "ax2 = fig.add_subplot(222)\n",
    "weather_cond = acc_df.CONDITIONS_METEO.value_counts()\n",
    "ax2 = sns.barplot(x=weather_cond, \n",
    "                 y=weather_cond.index, \n",
    "                 palette=sns.cubehelix_palette(reverse=True, n_colors=len(weather_cond.index)),\n",
    "                 ax=ax2)\n",
    "plt.title(\"Weather conditions\", fontsize=30).set_weight('bold')\n",
    "tick_format(ax2, 3)\n",
    "ax2.set_xlabel('# of accidents', fontsize=16).set_weight('bold')\n",
    "\n",
    "# Visualize the accident group\n",
    "ax3 = fig.add_subplot(223)\n",
    "road_cond = acc_df.ETAT_ROUTE.value_counts()\n",
    "ax3 = sns.barplot(x=road_cond, \n",
    "                 y=road_cond.index, \n",
    "                 palette=sns.cubehelix_palette(reverse=True, n_colors=len(road_cond.index)),\n",
    "                 ax=ax3)\n",
    "plt.title(\"Road conditions\", fontsize=30).set_weight('bold')\n",
    "tick_format(ax3, 3)\n",
    "ax3.set_ylabel('Condition', fontsize=16).set_weight('bold')\n",
    "ax3.set_xlabel('# of accidents', fontsize=16).set_weight('bold')\n",
    "\n",
    "# Visualize the accident group\n",
    "ax4 = fig.add_subplot(224)\n",
    "road_type = acc_df.GENRE_ROUTE.value_counts()\n",
    "ax4 = sns.barplot(x=road_type, \n",
    "                 y=road_type.index, \n",
    "                 palette=sns.cubehelix_palette(reverse=True, n_colors=len(road_type.index)),\n",
    "                 ax=ax4)\n",
    "plt.title(\"Type of road\", fontsize=30).set_weight('bold')\n",
    "tick_format(ax4, 3)\n",
    "ax4.set_ylabel('Condition', fontsize=16).set_weight('bold')\n",
    "ax4.set_xlabel('# of accidents', fontsize=16).set_weight('bold')"
   ]
  },
  {
   "cell_type": "markdown",
   "metadata": {},
   "source": [
    "### 3.2.4 Accident type\n",
    "<a id='324Accident'></a>"
   ]
  },
  {
   "cell_type": "markdown",
   "metadata": {},
   "source": [
    "In the accident type features, it can be found:\n",
    "- Accident group\n",
    "- Causes\n",
    "\n",
    "Let's start analysing the accident group."
   ]
  },
  {
   "cell_type": "code",
   "execution_count": 12,
   "metadata": {},
   "outputs": [
    {
     "ename": "NameError",
     "evalue": "name 'acc_df' is not defined",
     "output_type": "error",
     "traceback": [
      "\u001b[0;31m---------------------------------------------------------------------------\u001b[0m",
      "\u001b[0;31mNameError\u001b[0m                                 Traceback (most recent call last)",
      "\u001b[0;32m<ipython-input-12-507baec9ee42>\u001b[0m in \u001b[0;36m<module>\u001b[0;34m()\u001b[0m\n\u001b[1;32m      1\u001b[0m \u001b[0;31m# Visualize the accident group\u001b[0m\u001b[0;34m\u001b[0m\u001b[0;34m\u001b[0m\u001b[0m\n\u001b[1;32m      2\u001b[0m \u001b[0mplt\u001b[0m\u001b[0;34m.\u001b[0m\u001b[0mfigure\u001b[0m\u001b[0;34m(\u001b[0m\u001b[0mfigsize\u001b[0m\u001b[0;34m=\u001b[0m\u001b[0;34m(\u001b[0m\u001b[0;36m15\u001b[0m\u001b[0;34m,\u001b[0m\u001b[0;36m10\u001b[0m\u001b[0;34m)\u001b[0m\u001b[0;34m)\u001b[0m\u001b[0;34m\u001b[0m\u001b[0m\n\u001b[0;32m----> 3\u001b[0;31m \u001b[0mgroupe_accidents\u001b[0m \u001b[0;34m=\u001b[0m \u001b[0macc_df\u001b[0m\u001b[0;34m.\u001b[0m\u001b[0mGROUPE_ACCIDENT\u001b[0m\u001b[0;34m.\u001b[0m\u001b[0mvalue_counts\u001b[0m\u001b[0;34m(\u001b[0m\u001b[0;34m)\u001b[0m\u001b[0;34m\u001b[0m\u001b[0m\n\u001b[0m\u001b[1;32m      4\u001b[0m ax = sns.barplot(x=groupe_accidents, \n\u001b[1;32m      5\u001b[0m                  \u001b[0my\u001b[0m\u001b[0;34m=\u001b[0m\u001b[0mgroupe_accidents\u001b[0m\u001b[0;34m.\u001b[0m\u001b[0mindex\u001b[0m\u001b[0;34m,\u001b[0m\u001b[0;34m\u001b[0m\u001b[0m\n",
      "\u001b[0;31mNameError\u001b[0m: name 'acc_df' is not defined"
     ]
    },
    {
     "data": {
      "text/plain": [
       "<matplotlib.figure.Figure at 0x7f8bdde8b080>"
      ]
     },
     "metadata": {},
     "output_type": "display_data"
    }
   ],
   "source": [
    "# Visualize the accident group\n",
    "plt.figure(figsize=(15,10))\n",
    "groupe_accidents = acc_df.GROUPE_ACCIDENT.value_counts()\n",
    "ax = sns.barplot(x=groupe_accidents, \n",
    "                 y=groupe_accidents.index, \n",
    "                 palette=sns.cubehelix_palette(reverse=True, n_colors=len(groupe_accidents.index)))\n",
    "ax.set(xticks=np.linspace(0,5500,num=12))\n",
    "#value_barplot_label(ax)\n",
    "plt.title(\"Accident Group\", fontsize=30).set_weight('bold')\n",
    "tick_format(ax, 1)\n",
    "ax.set_ylabel('Accident group', fontsize=16).set_weight('bold')\n",
    "ax.set_xlabel('# of accidents', fontsize=16).set_weight('bold')"
   ]
  },
  {
   "cell_type": "markdown",
   "metadata": {},
   "source": [
    "By the figure above, it can be identified that the accident groups with more accidents are:\n",
    "- Dérapage ou perte de maîtrise\n",
    "- Accident par tamponnement\n",
    "- Accident en parquant"
   ]
  },
  {
   "cell_type": "code",
   "execution_count": 13,
   "metadata": {},
   "outputs": [
    {
     "ename": "NameError",
     "evalue": "name 'acc_df' is not defined",
     "output_type": "error",
     "traceback": [
      "\u001b[0;31m---------------------------------------------------------------------------\u001b[0m",
      "\u001b[0;31mNameError\u001b[0m                                 Traceback (most recent call last)",
      "\u001b[0;32m<ipython-input-13-0117e6954c43>\u001b[0m in \u001b[0;36m<module>\u001b[0;34m()\u001b[0m\n\u001b[1;32m      1\u001b[0m \u001b[0;31m# Create a new df to treat the causes column\u001b[0m\u001b[0;34m\u001b[0m\u001b[0;34m\u001b[0m\u001b[0m\n\u001b[0;32m----> 2\u001b[0;31m \u001b[0mcauses\u001b[0m \u001b[0;34m=\u001b[0m \u001b[0macc_df\u001b[0m\u001b[0;34m[\u001b[0m\u001b[0;34m[\u001b[0m\u001b[0;34m'CAUSE'\u001b[0m\u001b[0;34m,\u001b[0m \u001b[0;34m'GROUPE_ACCIDENT'\u001b[0m\u001b[0;34m]\u001b[0m\u001b[0;34m]\u001b[0m\u001b[0;34m\u001b[0m\u001b[0m\n\u001b[0m\u001b[1;32m      3\u001b[0m \u001b[0mcauses\u001b[0m\u001b[0;34m[\u001b[0m\u001b[0;34m'count_'\u001b[0m\u001b[0;34m]\u001b[0m \u001b[0;34m=\u001b[0m \u001b[0mcauses\u001b[0m\u001b[0;34m.\u001b[0m\u001b[0mCAUSE\u001b[0m\u001b[0;34m.\u001b[0m\u001b[0mapply\u001b[0m\u001b[0;34m(\u001b[0m\u001b[0;32mlambda\u001b[0m \u001b[0mx\u001b[0m\u001b[0;34m:\u001b[0m \u001b[0mx\u001b[0m\u001b[0;34m.\u001b[0m\u001b[0mcount\u001b[0m\u001b[0;34m(\u001b[0m\u001b[0;34m' - '\u001b[0m\u001b[0;34m)\u001b[0m\u001b[0;34m)\u001b[0m\u001b[0;34m\u001b[0m\u001b[0m\n\u001b[1;32m      4\u001b[0m \u001b[0;32mdel\u001b[0m \u001b[0mcauses\u001b[0m\u001b[0;34m[\u001b[0m\u001b[0;34m'GROUPE_ACCIDENT'\u001b[0m\u001b[0;34m]\u001b[0m\u001b[0;34m\u001b[0m\u001b[0m\n\u001b[1;32m      5\u001b[0m \u001b[0;34m\u001b[0m\u001b[0m\n",
      "\u001b[0;31mNameError\u001b[0m: name 'acc_df' is not defined"
     ]
    }
   ],
   "source": [
    "# Create a new df to treat the causes column\n",
    "causes = acc_df[['CAUSE', 'GROUPE_ACCIDENT']]\n",
    "causes['count_'] = causes.CAUSE.apply(lambda x: x.count(' - '))\n",
    "del causes['GROUPE_ACCIDENT']\n",
    "\n",
    "# Goal: To have only one \"-\" in order to split the causes into two columns, group and sugroup of causes\n",
    "conflictive_txt = \"(confusion frein - accélérateur, glisser de la pédale de frein dans les véhicules à transmission automatique, etc.)\"\n",
    "causes.CAUSE = causes.CAUSE.str.replace(conflictive_txt, \"\")\n",
    "causes['count_'] = causes.CAUSE.apply(lambda x: x.count(' - '))\n",
    "causes = causes.CAUSE.str.split(' - ', expand=True)\n",
    "causes.rename(columns ={0: 'CAUSE_g', 1: 'CAUSE_sg'}, inplace=True)\n",
    "acc_new = pd.concat([acc_df, causes], axis=1)\n",
    "del acc_new['CAUSE']\n",
    "acc_new.head(5)"
   ]
  },
  {
   "cell_type": "code",
   "execution_count": 14,
   "metadata": {},
   "outputs": [
    {
     "ename": "NameError",
     "evalue": "name 'acc_new' is not defined",
     "output_type": "error",
     "traceback": [
      "\u001b[0;31m---------------------------------------------------------------------------\u001b[0m",
      "\u001b[0;31mNameError\u001b[0m                                 Traceback (most recent call last)",
      "\u001b[0;32m<ipython-input-14-09b6c680b45b>\u001b[0m in \u001b[0;36m<module>\u001b[0;34m()\u001b[0m\n\u001b[0;32m----> 1\u001b[0;31m \u001b[0macc_new\u001b[0m\u001b[0;34m[\u001b[0m\u001b[0macc_new\u001b[0m\u001b[0;34m.\u001b[0m\u001b[0mCAUSE_g\u001b[0m \u001b[0;34m==\u001b[0m \u001b[0;34m'Inattention et distraction'\u001b[0m\u001b[0;34m]\u001b[0m\u001b[0;34m\u001b[0m\u001b[0m\n\u001b[0m",
      "\u001b[0;31mNameError\u001b[0m: name 'acc_new' is not defined"
     ]
    }
   ],
   "source": [
    "acc_new[acc_new.CAUSE_g == 'Inattention et distraction']\n"
   ]
  },
  {
   "cell_type": "markdown",
   "metadata": {},
   "source": [
    "Utilisation inadéquate du véhicule\n",
    "    - Manoeuvres incorrectes dans le véhicule ():\n",
    "        -(confusion frein - accélérateur, glisser de la pédale de frein dans les véhicules à transmission automatique, etc.)"
   ]
  },
  {
   "cell_type": "code",
   "execution_count": 15,
   "metadata": {
    "collapsed": true
   },
   "outputs": [],
   "source": [
    "# Create the map visualization\n",
    "Geneve_coord = [46.2004013, 6.1531163]\n",
    "m = folium.Map(location=Geneve_coord,\n",
    "               tiles='OpenStreetMap',\n",
    "               zoom_start=10)"
   ]
  },
  {
   "cell_type": "code",
   "execution_count": 16,
   "metadata": {},
   "outputs": [
    {
     "ename": "NameError",
     "evalue": "name 'acc_df' is not defined",
     "output_type": "error",
     "traceback": [
      "\u001b[0;31m---------------------------------------------------------------------------\u001b[0m",
      "\u001b[0;31mNameError\u001b[0m                                 Traceback (most recent call last)",
      "\u001b[0;32m<ipython-input-16-c5ee927da49d>\u001b[0m in \u001b[0;36m<module>\u001b[0;34m()\u001b[0m\n\u001b[1;32m      1\u001b[0m \u001b[0;34m\u001b[0m\u001b[0m\n\u001b[0;32m----> 2\u001b[0;31m \u001b[0;32mfor\u001b[0m \u001b[0mi\u001b[0m \u001b[0;32min\u001b[0m \u001b[0mrange\u001b[0m\u001b[0;34m(\u001b[0m\u001b[0;36m0\u001b[0m\u001b[0;34m,\u001b[0m \u001b[0mlen\u001b[0m\u001b[0;34m(\u001b[0m\u001b[0macc_df\u001b[0m\u001b[0;34m[\u001b[0m\u001b[0;34m'COOR_X'\u001b[0m\u001b[0;34m]\u001b[0m\u001b[0;34m.\u001b[0m\u001b[0mhead\u001b[0m\u001b[0;34m(\u001b[0m\u001b[0;36m10\u001b[0m\u001b[0;34m)\u001b[0m\u001b[0;34m)\u001b[0m\u001b[0;34m)\u001b[0m\u001b[0;34m:\u001b[0m\u001b[0;34m\u001b[0m\u001b[0m\n\u001b[0m\u001b[1;32m      3\u001b[0m     \u001b[0mfolium\u001b[0m\u001b[0;34m.\u001b[0m\u001b[0mMarker\u001b[0m\u001b[0;34m(\u001b[0m\u001b[0;34m[\u001b[0m\u001b[0macc_df\u001b[0m\u001b[0;34m.\u001b[0m\u001b[0mCOOR_Y\u001b[0m\u001b[0;34m.\u001b[0m\u001b[0mloc\u001b[0m\u001b[0;34m[\u001b[0m\u001b[0mi\u001b[0m\u001b[0;34m]\u001b[0m\u001b[0;34m,\u001b[0m \u001b[0macc_df\u001b[0m\u001b[0;34m.\u001b[0m\u001b[0mCOOR_X\u001b[0m\u001b[0;34m.\u001b[0m\u001b[0mloc\u001b[0m\u001b[0;34m[\u001b[0m\u001b[0mi\u001b[0m\u001b[0;34m]\u001b[0m\u001b[0;34m]\u001b[0m \u001b[0;34m,\u001b[0m \u001b[0mpopup\u001b[0m\u001b[0;34m=\u001b[0m\u001b[0;34m\"1\"\u001b[0m\u001b[0;34m)\u001b[0m\u001b[0;34m.\u001b[0m\u001b[0madd_to\u001b[0m\u001b[0;34m(\u001b[0m\u001b[0mm\u001b[0m\u001b[0;34m)\u001b[0m\u001b[0;34m\u001b[0m\u001b[0m\n",
      "\u001b[0;31mNameError\u001b[0m: name 'acc_df' is not defined"
     ]
    }
   ],
   "source": [
    "\n",
    "for i in range(0, len(acc_df['COOR_X'].head(10))):\n",
    "    folium.Marker([acc_df.COOR_Y.loc[i], acc_df.COOR_X.loc[i]] , popup=\"1\").add_to(m)"
   ]
  },
  {
   "cell_type": "code",
   "execution_count": 17,
   "metadata": {
    "collapsed": true
   },
   "outputs": [],
   "source": [
    "#acc_df[acc_df.COMMUNE == 'Genève'].COOR_Y"
   ]
  },
  {
   "cell_type": "markdown",
   "metadata": {},
   "source": [
    "Ideas:\n",
    "* For each accident zone personalize the information panels"
   ]
  },
  {
   "cell_type": "code",
   "execution_count": 18,
   "metadata": {},
   "outputs": [
    {
     "data": {
      "text/html": [
       "<div style=\"width:100%;\"><div style=\"position:relative;width:100%;height:0;padding-bottom:60%;\"><iframe src=\"data:text/html;charset=utf-8;base64,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\" style=\"position:absolute;width:100%;height:100%;left:0;top:0;border:none !important;\" allowfullscreen webkitallowfullscreen mozallowfullscreen></iframe></div></div>"
      ],
      "text/plain": [
       "<folium.folium.Map at 0x7f8bdde3c400>"
      ]
     },
     "execution_count": 18,
     "metadata": {},
     "output_type": "execute_result"
    }
   ],
   "source": [
    "m"
   ]
  },
  {
   "cell_type": "code",
   "execution_count": null,
   "metadata": {
    "collapsed": true
   },
   "outputs": [],
   "source": []
  },
  {
   "cell_type": "code",
   "execution_count": null,
   "metadata": {
    "collapsed": true
   },
   "outputs": [],
   "source": []
  },
  {
   "cell_type": "code",
   "execution_count": null,
   "metadata": {
    "collapsed": true
   },
   "outputs": [],
   "source": []
  },
  {
   "cell_type": "code",
   "execution_count": null,
   "metadata": {
    "collapsed": true
   },
   "outputs": [],
   "source": []
  },
  {
   "cell_type": "code",
   "execution_count": null,
   "metadata": {
    "collapsed": true
   },
   "outputs": [],
   "source": []
  },
  {
   "cell_type": "code",
   "execution_count": null,
   "metadata": {
    "collapsed": true
   },
   "outputs": [],
   "source": []
  }
 ],
 "metadata": {
  "kernelspec": {
   "display_name": "Python 3",
   "language": "python",
   "name": "python3"
  },
  "language_info": {
   "codemirror_mode": {
    "name": "ipython",
    "version": 3
   },
   "file_extension": ".py",
   "mimetype": "text/x-python",
   "name": "python",
   "nbconvert_exporter": "python",
   "pygments_lexer": "ipython3",
   "version": "3.6.2"
  }
 },
 "nbformat": 4,
 "nbformat_minor": 2
}
