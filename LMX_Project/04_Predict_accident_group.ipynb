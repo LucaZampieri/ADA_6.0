{
 "cells": [
  {
   "cell_type": "markdown",
   "metadata": {},
   "source": [
    "# Accident group prediction"
   ]
  },
  {
   "cell_type": "markdown",
   "metadata": {},
   "source": [
    "The goal of this notebook is to predict the accident group depending on different condition. This predictior will help to define which measure could be taken in real time to avoid accidents. \n",
    "\n",
    "It is known that accidents are difficult to predict because they are very hazardous. we don't expect a very high precision "
   ]
  },
  {
   "cell_type": "code",
   "execution_count": 6,
   "metadata": {},
   "outputs": [],
   "source": [
    "# Import libraries\n",
    "import pandas as pd\n",
    "import numpy as np\n",
    "\n",
    "import matplotlib.pyplot as plt\n",
    "import seaborn as sns\n",
    "%matplotlib inline \n",
    "\n",
    "\n",
    "from sklearn.cluster import KMeans\n",
    "from sklearn.preprocessing import LabelEncoder\n",
    "from sklearn.model_selection import train_test_split\n",
    "from sklearn.ensemble import RandomForestClassifier"
   ]
  },
  {
   "cell_type": "code",
   "execution_count": 3,
   "metadata": {},
   "outputs": [],
   "source": [
    "# Load dataframe\n",
    "acc_df = pd.read_pickle('acc_df.pkl')"
   ]
  },
  {
   "cell_type": "code",
   "execution_count": null,
   "metadata": {},
   "outputs": [],
   "source": [
    "acc_new.DayTime.value_counts()"
   ]
  },
  {
   "cell_type": "code",
   "execution_count": 45,
   "metadata": {},
   "outputs": [
    {
     "name": "stderr",
     "output_type": "stream",
     "text": [
      "/Users/xaviergilcompanys/anaconda/lib/python3.6/site-packages/ipykernel/__main__.py:4: SettingWithCopyWarning: \n",
      "A value is trying to be set on a copy of a slice from a DataFrame.\n",
      "Try using .loc[row_indexer,col_indexer] = value instead\n",
      "\n",
      "See the caveats in the documentation: http://pandas.pydata.org/pandas-docs/stable/indexing.html#indexing-view-versus-copy\n"
     ]
    }
   ],
   "source": [
    "for feature in features_to_cluster:\n",
    "    le = LabelEncoder()\n",
    "    le = le.fit(df[feature])\n",
    "    df[feature] = le.transform(df[feature])"
   ]
  },
  {
   "cell_type": "code",
   "execution_count": 48,
   "metadata": {},
   "outputs": [],
   "source": [
    "predictors = ['CONDITIONS_LUMINEUSES','CONDITIONS_METEO','ETAT_ROUTE',\n",
    "                       'GENRE_ROUTE', 'JOUR','MONTH','DayTime', 'SEASON']\n",
    "predicted = 'GROUPE_ACCIDENT'\n",
    "\n",
    "X = df[predictors]\n",
    "y = df[predicted]"
   ]
  },
  {
   "cell_type": "code",
   "execution_count": 50,
   "metadata": {},
   "outputs": [],
   "source": [
    "X_train, X_test, y_train, y_test = train_test_split(X, y, test_size=0.33, random_state=42)"
   ]
  },
  {
   "cell_type": "code",
   "execution_count": 71,
   "metadata": {},
   "outputs": [
    {
     "data": {
      "text/plain": [
       "RandomForestClassifier(bootstrap=True, class_weight=None, criterion='gini',\n",
       "            max_depth=None, max_features='auto', max_leaf_nodes=None,\n",
       "            min_impurity_split=1e-07, min_samples_leaf=1,\n",
       "            min_samples_split=2, min_weight_fraction_leaf=0.0,\n",
       "            n_estimators=2000, n_jobs=1, oob_score=False,\n",
       "            random_state=None, verbose=0, warm_start=False)"
      ]
     },
     "execution_count": 71,
     "metadata": {},
     "output_type": "execute_result"
    }
   ],
   "source": [
    "rfc = RandomForestClassifier(n_estimators=2000)\n",
    "rfc.fit(X_train, y_train)"
   ]
  },
  {
   "cell_type": "code",
   "execution_count": 72,
   "metadata": {},
   "outputs": [
    {
     "data": {
      "text/plain": [
       "0.58607575287177893"
      ]
     },
     "execution_count": 72,
     "metadata": {},
     "output_type": "execute_result"
    }
   ],
   "source": [
    "rfc.score(X_train,y_train)"
   ]
  },
  {
   "cell_type": "code",
   "execution_count": 73,
   "metadata": {},
   "outputs": [
    {
     "data": {
      "text/plain": [
       "0.299669135024421"
      ]
     },
     "execution_count": 73,
     "metadata": {},
     "output_type": "execute_result"
    }
   ],
   "source": [
    "rfc.score(X_test,y_test)"
   ]
  },
  {
   "cell_type": "code",
   "execution_count": 74,
   "metadata": {},
   "outputs": [
    {
     "data": {
      "text/plain": [
       "array([ 0.07480473,  0.0931184 ,  0.06586885,  0.11728261,  0.26696416,\n",
       "        0.19466715,  0.13781637,  0.04947773])"
      ]
     },
     "execution_count": 74,
     "metadata": {},
     "output_type": "execute_result"
    }
   ],
   "source": [
    "rfc.feature_importances_"
   ]
  },
  {
   "cell_type": "code",
   "execution_count": 70,
   "metadata": {},
   "outputs": [
    {
     "data": {
      "text/html": [
       "<div>\n",
       "<style>\n",
       "    .dataframe thead tr:only-child th {\n",
       "        text-align: right;\n",
       "    }\n",
       "\n",
       "    .dataframe thead th {\n",
       "        text-align: left;\n",
       "    }\n",
       "\n",
       "    .dataframe tbody tr th {\n",
       "        vertical-align: top;\n",
       "    }\n",
       "</style>\n",
       "<table border=\"1\" class=\"dataframe\">\n",
       "  <thead>\n",
       "    <tr style=\"text-align: right;\">\n",
       "      <th></th>\n",
       "      <th>CONDITIONS_LUMINEUSES</th>\n",
       "      <th>CONDITIONS_METEO</th>\n",
       "      <th>ETAT_ROUTE</th>\n",
       "      <th>GENRE_ROUTE</th>\n",
       "      <th>JOUR</th>\n",
       "      <th>MONTH</th>\n",
       "      <th>DayTime</th>\n",
       "      <th>SEASON</th>\n",
       "      <th>GROUPE_ACCIDENT</th>\n",
       "    </tr>\n",
       "  </thead>\n",
       "  <tbody>\n",
       "    <tr>\n",
       "      <th>CONDITIONS_LUMINEUSES</th>\n",
       "      <td>1.000000</td>\n",
       "      <td>0.132046</td>\n",
       "      <td>0.014162</td>\n",
       "      <td>0.014796</td>\n",
       "      <td>0.002971</td>\n",
       "      <td>0.019448</td>\n",
       "      <td>0.186541</td>\n",
       "      <td>0.034377</td>\n",
       "      <td>0.167807</td>\n",
       "    </tr>\n",
       "    <tr>\n",
       "      <th>CONDITIONS_METEO</th>\n",
       "      <td>0.132046</td>\n",
       "      <td>1.000000</td>\n",
       "      <td>-0.404329</td>\n",
       "      <td>0.006460</td>\n",
       "      <td>0.001113</td>\n",
       "      <td>0.048104</td>\n",
       "      <td>0.051848</td>\n",
       "      <td>0.020762</td>\n",
       "      <td>0.115117</td>\n",
       "    </tr>\n",
       "    <tr>\n",
       "      <th>ETAT_ROUTE</th>\n",
       "      <td>0.014162</td>\n",
       "      <td>-0.404329</td>\n",
       "      <td>1.000000</td>\n",
       "      <td>0.002157</td>\n",
       "      <td>0.004708</td>\n",
       "      <td>-0.014485</td>\n",
       "      <td>-0.069672</td>\n",
       "      <td>-0.073904</td>\n",
       "      <td>0.001007</td>\n",
       "    </tr>\n",
       "    <tr>\n",
       "      <th>GENRE_ROUTE</th>\n",
       "      <td>0.014796</td>\n",
       "      <td>0.006460</td>\n",
       "      <td>0.002157</td>\n",
       "      <td>1.000000</td>\n",
       "      <td>-0.004487</td>\n",
       "      <td>0.002523</td>\n",
       "      <td>0.002162</td>\n",
       "      <td>-0.008198</td>\n",
       "      <td>-0.056710</td>\n",
       "    </tr>\n",
       "    <tr>\n",
       "      <th>JOUR</th>\n",
       "      <td>0.002971</td>\n",
       "      <td>0.001113</td>\n",
       "      <td>0.004708</td>\n",
       "      <td>-0.004487</td>\n",
       "      <td>1.000000</td>\n",
       "      <td>-0.012623</td>\n",
       "      <td>-0.022983</td>\n",
       "      <td>-0.004524</td>\n",
       "      <td>-0.016962</td>\n",
       "    </tr>\n",
       "    <tr>\n",
       "      <th>MONTH</th>\n",
       "      <td>0.019448</td>\n",
       "      <td>0.048104</td>\n",
       "      <td>-0.014485</td>\n",
       "      <td>0.002523</td>\n",
       "      <td>-0.012623</td>\n",
       "      <td>1.000000</td>\n",
       "      <td>-0.004900</td>\n",
       "      <td>-0.529236</td>\n",
       "      <td>-0.030464</td>\n",
       "    </tr>\n",
       "    <tr>\n",
       "      <th>DayTime</th>\n",
       "      <td>0.186541</td>\n",
       "      <td>0.051848</td>\n",
       "      <td>-0.069672</td>\n",
       "      <td>0.002162</td>\n",
       "      <td>-0.022983</td>\n",
       "      <td>-0.004900</td>\n",
       "      <td>1.000000</td>\n",
       "      <td>0.017886</td>\n",
       "      <td>0.136257</td>\n",
       "    </tr>\n",
       "    <tr>\n",
       "      <th>SEASON</th>\n",
       "      <td>0.034377</td>\n",
       "      <td>0.020762</td>\n",
       "      <td>-0.073904</td>\n",
       "      <td>-0.008198</td>\n",
       "      <td>-0.004524</td>\n",
       "      <td>-0.529236</td>\n",
       "      <td>0.017886</td>\n",
       "      <td>1.000000</td>\n",
       "      <td>0.024539</td>\n",
       "    </tr>\n",
       "    <tr>\n",
       "      <th>GROUPE_ACCIDENT</th>\n",
       "      <td>0.167807</td>\n",
       "      <td>0.115117</td>\n",
       "      <td>0.001007</td>\n",
       "      <td>-0.056710</td>\n",
       "      <td>-0.016962</td>\n",
       "      <td>-0.030464</td>\n",
       "      <td>0.136257</td>\n",
       "      <td>0.024539</td>\n",
       "      <td>1.000000</td>\n",
       "    </tr>\n",
       "  </tbody>\n",
       "</table>\n",
       "</div>"
      ],
      "text/plain": [
       "                       CONDITIONS_LUMINEUSES  CONDITIONS_METEO  ETAT_ROUTE  \\\n",
       "CONDITIONS_LUMINEUSES               1.000000          0.132046    0.014162   \n",
       "CONDITIONS_METEO                    0.132046          1.000000   -0.404329   \n",
       "ETAT_ROUTE                          0.014162         -0.404329    1.000000   \n",
       "GENRE_ROUTE                         0.014796          0.006460    0.002157   \n",
       "JOUR                                0.002971          0.001113    0.004708   \n",
       "MONTH                               0.019448          0.048104   -0.014485   \n",
       "DayTime                             0.186541          0.051848   -0.069672   \n",
       "SEASON                              0.034377          0.020762   -0.073904   \n",
       "GROUPE_ACCIDENT                     0.167807          0.115117    0.001007   \n",
       "\n",
       "                       GENRE_ROUTE      JOUR     MONTH   DayTime    SEASON  \\\n",
       "CONDITIONS_LUMINEUSES     0.014796  0.002971  0.019448  0.186541  0.034377   \n",
       "CONDITIONS_METEO          0.006460  0.001113  0.048104  0.051848  0.020762   \n",
       "ETAT_ROUTE                0.002157  0.004708 -0.014485 -0.069672 -0.073904   \n",
       "GENRE_ROUTE               1.000000 -0.004487  0.002523  0.002162 -0.008198   \n",
       "JOUR                     -0.004487  1.000000 -0.012623 -0.022983 -0.004524   \n",
       "MONTH                     0.002523 -0.012623  1.000000 -0.004900 -0.529236   \n",
       "DayTime                   0.002162 -0.022983 -0.004900  1.000000  0.017886   \n",
       "SEASON                   -0.008198 -0.004524 -0.529236  0.017886  1.000000   \n",
       "GROUPE_ACCIDENT          -0.056710 -0.016962 -0.030464  0.136257  0.024539   \n",
       "\n",
       "                       GROUPE_ACCIDENT  \n",
       "CONDITIONS_LUMINEUSES         0.167807  \n",
       "CONDITIONS_METEO              0.115117  \n",
       "ETAT_ROUTE                    0.001007  \n",
       "GENRE_ROUTE                  -0.056710  \n",
       "JOUR                         -0.016962  \n",
       "MONTH                        -0.030464  \n",
       "DayTime                       0.136257  \n",
       "SEASON                        0.024539  \n",
       "GROUPE_ACCIDENT               1.000000  "
      ]
     },
     "execution_count": 70,
     "metadata": {},
     "output_type": "execute_result"
    }
   ],
   "source": [
    "df.corr()"
   ]
  },
  {
   "cell_type": "code",
   "execution_count": null,
   "metadata": {},
   "outputs": [],
   "source": []
  }
 ],
 "metadata": {
  "kernelspec": {
   "display_name": "Python [conda root]",
   "language": "python",
   "name": "conda-root-py"
  },
  "language_info": {
   "codemirror_mode": {
    "name": "ipython",
    "version": 3
   },
   "file_extension": ".py",
   "mimetype": "text/x-python",
   "name": "python",
   "nbconvert_exporter": "python",
   "pygments_lexer": "ipython3",
   "version": "3.6.1"
  }
 },
 "nbformat": 4,
 "nbformat_minor": 2
}
