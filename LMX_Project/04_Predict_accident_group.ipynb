{
 "cells": [
  {
   "cell_type": "markdown",
   "metadata": {},
   "source": [
    "# Accident group prediction"
   ]
  },
  {
   "cell_type": "markdown",
   "metadata": {},
   "source": [
    "The goal of this notebook is to predict the accident group depending on different condition. This predictior will help to define which measure could be taken in real time to avoid accidents. \n",
    "\n",
    "It is known that accidents are difficult to predict because they are very hazardous. we don't expect a very high precision \n",
    "\n",
    "**STILL WORKING ON IT**"
   ]
  },
  {
   "cell_type": "code",
   "execution_count": 1,
   "metadata": {},
   "outputs": [],
   "source": [
    "# Import libraries\n",
    "import pandas as pd\n",
    "import numpy as np\n",
    "\n",
    "import matplotlib.pyplot as plt\n",
    "import seaborn as sns\n",
    "%matplotlib inline \n",
    "\n",
    "\n",
    "from sklearn.cluster import KMeans\n",
    "from sklearn.preprocessing import LabelEncoder\n",
    "from sklearn.model_selection import train_test_split\n",
    "from sklearn.ensemble import RandomForestClassifier"
   ]
  },
  {
   "cell_type": "code",
   "execution_count": 2,
   "metadata": {},
   "outputs": [],
   "source": [
    "# Load dataframe\n",
    "acc_df = pd.read_pickle('acc_df.pkl')"
   ]
  },
  {
   "cell_type": "code",
   "execution_count": 4,
   "metadata": {},
   "outputs": [
    {
     "data": {
      "text/plain": [
       "Index(['DATE_', 'GROUPE_ACCIDENT', 'COMMUNE', 'CONDITIONS_LUMINEUSES',\n",
       "       'CONDITIONS_METEO', 'CONSEQUENCES', 'COOR_X', 'COOR_Y', 'ETAT_ROUTE',\n",
       "       'GENRE_ROUTE', 'JOUR', 'LOCALITE', 'NB_ENFANTS_IMPLIQUES',\n",
       "       'NB_ENFANTS_ECOLE', 'NB_BLESSES_LEGERS', 'NB_BLESSES_GRAVES', 'NB_TUES',\n",
       "       'NB_PIETONS', 'NB_BICYCLETTES', 'NB_VAE_25', 'NB_VAE_45',\n",
       "       'NB_CYCLOMOTEURS', 'NB_MOTOS_50', 'NB_MOTOS_125', 'NB_MOTOS_11KW',\n",
       "       'NB_VOITURES_TOURISME', 'NB_VOITURES_LIVRAISON', 'NB_CAMIONS', 'NB_BUS',\n",
       "       'NB_TRAM', 'YEAR', 'MONTH', 'DAY', 'HOUR', 'DayTime', 'SEASON',\n",
       "       'CAUSE_g', 'CAUSE_sg', 'ENFANTS_IMPLIQUES', 'NB_MOTO', 'NB_BIKE',\n",
       "       'NB_TPubl', 'NB_ProfT', 'NB_LourdT'],\n",
       "      dtype='object')"
      ]
     },
     "execution_count": 4,
     "metadata": {},
     "output_type": "execute_result"
    }
   ],
   "source": [
    "# Show all the features\n",
    "acc_df.columns"
   ]
  },
  {
   "cell_type": "markdown",
   "metadata": {},
   "source": [
    "Our goal is to predict the group accident class. Let's check what are the different classes:"
   ]
  },
  {
   "cell_type": "code",
   "execution_count": 5,
   "metadata": {},
   "outputs": [
    {
     "data": {
      "text/plain": [
       "Dérapage ou perte de maîtrise                                                    5294\n",
       "Accident par tamponnement                                                        3615\n",
       "Accident en parquant                                                             3033\n",
       "Accident lors d'un dépassement ou lors d'un changement de voie de circulation    1934\n",
       "Accident en traversant une route                                                 1354\n",
       "Accident en quittant une route                                                   1251\n",
       "Accident impliquant des piétons                                                  1247\n",
       "Accident en s'engageant sur une route                                             886\n",
       "Collision frontale                                                                453\n",
       "Autres                                                                            124\n",
       "Accident impliquant des animaux                                                    40\n",
       "Name: GROUPE_ACCIDENT, dtype: int64"
      ]
     },
     "execution_count": 5,
     "metadata": {},
     "output_type": "execute_result"
    }
   ],
   "source": [
    "acc_df.GROUPE_ACCIDENT.value_counts()"
   ]
  },
  {
   "cell_type": "markdown",
   "metadata": {},
   "source": [
    "The first observation we can have is that we will have unbalanced classes. for example, the `Accident implicant des animaux` it will be difficult to predict as we only have 40 training samples.\n",
    "\n",
    "In addition, we can think about which kind of measures could be applied in this kind of situations. In  the case that is is the same kind of measure, we can group the different accident type."
   ]
  },
  {
   "cell_type": "markdown",
   "metadata": {},
   "source": [
    "###  Dérapage ou perte de maîtrise"
   ]
  },
  {
   "cell_type": "code",
   "execution_count": 11,
   "metadata": {},
   "outputs": [
    {
     "data": {
      "text/plain": [
       "Etat / intention du conducteur                           1517\n",
       "Inattention et distraction                               1438\n",
       "Vitesse                                                   735\n",
       "Cause inconnue                                            545\n",
       "Autres mouvements dans la circulation                     438\n",
       "Refus d'accorder la priorité                              153\n",
       "Utilisation inadéquate du véhicule                        129\n",
       "Circulation à droite / à gauche et présélectionnement      71\n",
       "Dépassement (circulation)                                  51\n",
       "Influence externe momentanée                               38\n",
       "Non-respect de la signalisation lumineuse                  26\n",
       "Défectuosité technique du véhicule                         26\n",
       "Influence / comportement du piéton                         25\n",
       "Inobservation de signaux ou de la signalisation            23\n",
       "Entretien insuffisant du véhicule                          20\n",
       "Influence de tiers                                         18\n",
       "Chargement / occupation du véhicule                        11\n",
       "Trafic de cycles et cyclomoteurs                           10\n",
       "Dépassement (situation)                                    10\n",
       "Visibilité diminuée du conducteur                           7\n",
       "Influence de la route                                       2\n",
       "Engins assimilés à des véhicules (EAV)                      1\n",
       "Name: CAUSE_g, dtype: int64"
      ]
     },
     "execution_count": 11,
     "metadata": {},
     "output_type": "execute_result"
    }
   ],
   "source": [
    "# Analyse the causes\n",
    "acc_df.CAUSE_g[acc_df.GROUPE_ACCIDENT =='Dérapage ou perte de maîtrise'].value_counts()"
   ]
  },
  {
   "cell_type": "markdown",
   "metadata": {},
   "source": [
    "It can be observ"
   ]
  },
  {
   "cell_type": "code",
   "execution_count": 22,
   "metadata": {},
   "outputs": [
    {
     "ename": "ValueError",
     "evalue": "Grouper for 'CAUSE_g' not 1-dimensional",
     "output_type": "error",
     "traceback": [
      "\u001b[0;31m---------------------------------------------------------------------------\u001b[0m",
      "\u001b[0;31mValueError\u001b[0m                                Traceback (most recent call last)",
      "\u001b[0;32m<ipython-input-22-47d5c6d2d820>\u001b[0m in \u001b[0;36m<module>\u001b[0;34m()\u001b[0m\n\u001b[0;32m----> 1\u001b[0;31m \u001b[0mtable\u001b[0m \u001b[0;34m=\u001b[0m \u001b[0mpd\u001b[0m\u001b[0;34m.\u001b[0m\u001b[0mpivot_table\u001b[0m\u001b[0;34m(\u001b[0m\u001b[0macc_df\u001b[0m\u001b[0;34m,\u001b[0m \u001b[0mvalues\u001b[0m\u001b[0;34m=\u001b[0m\u001b[0;34m'CAUSE_g'\u001b[0m\u001b[0;34m,\u001b[0m \u001b[0mindex\u001b[0m\u001b[0;34m=\u001b[0m\u001b[0;34m'GROUPE_ACCIDENT'\u001b[0m\u001b[0;34m,\u001b[0m \u001b[0mcolumns\u001b[0m\u001b[0;34m=\u001b[0m\u001b[0;34m'CAUSE_g'\u001b[0m\u001b[0;34m,\u001b[0m \u001b[0maggfunc\u001b[0m\u001b[0;34m=\u001b[0m\u001b[0;32mlambda\u001b[0m \u001b[0mx\u001b[0m\u001b[0;34m:\u001b[0m \u001b[0mlen\u001b[0m\u001b[0;34m(\u001b[0m\u001b[0mx\u001b[0m\u001b[0;34m.\u001b[0m\u001b[0munique\u001b[0m\u001b[0;34m(\u001b[0m\u001b[0;34m)\u001b[0m\u001b[0;34m)\u001b[0m\u001b[0;34m)\u001b[0m\u001b[0;34m\u001b[0m\u001b[0m\n\u001b[0m",
      "\u001b[0;32m~/anaconda/lib/python3.6/site-packages/pandas/core/reshape/pivot.py\u001b[0m in \u001b[0;36mpivot_table\u001b[0;34m(data, values, index, columns, aggfunc, fill_value, margins, dropna, margins_name)\u001b[0m\n\u001b[1;32m    133\u001b[0m         \u001b[0mvalues\u001b[0m \u001b[0;34m=\u001b[0m \u001b[0mlist\u001b[0m\u001b[0;34m(\u001b[0m\u001b[0mvalues\u001b[0m\u001b[0;34m)\u001b[0m\u001b[0;34m\u001b[0m\u001b[0m\n\u001b[1;32m    134\u001b[0m \u001b[0;34m\u001b[0m\u001b[0m\n\u001b[0;32m--> 135\u001b[0;31m     \u001b[0mgrouped\u001b[0m \u001b[0;34m=\u001b[0m \u001b[0mdata\u001b[0m\u001b[0;34m.\u001b[0m\u001b[0mgroupby\u001b[0m\u001b[0;34m(\u001b[0m\u001b[0mkeys\u001b[0m\u001b[0;34m)\u001b[0m\u001b[0;34m\u001b[0m\u001b[0m\n\u001b[0m\u001b[1;32m    136\u001b[0m     \u001b[0magged\u001b[0m \u001b[0;34m=\u001b[0m \u001b[0mgrouped\u001b[0m\u001b[0;34m.\u001b[0m\u001b[0magg\u001b[0m\u001b[0;34m(\u001b[0m\u001b[0maggfunc\u001b[0m\u001b[0;34m)\u001b[0m\u001b[0;34m\u001b[0m\u001b[0m\n\u001b[1;32m    137\u001b[0m \u001b[0;34m\u001b[0m\u001b[0m\n",
      "\u001b[0;32m~/anaconda/lib/python3.6/site-packages/pandas/core/generic.py\u001b[0m in \u001b[0;36mgroupby\u001b[0;34m(self, by, axis, level, as_index, sort, group_keys, squeeze, **kwargs)\u001b[0m\n\u001b[1;32m   4269\u001b[0m         return groupby(self, by=by, axis=axis, level=level, as_index=as_index,\n\u001b[1;32m   4270\u001b[0m                        \u001b[0msort\u001b[0m\u001b[0;34m=\u001b[0m\u001b[0msort\u001b[0m\u001b[0;34m,\u001b[0m \u001b[0mgroup_keys\u001b[0m\u001b[0;34m=\u001b[0m\u001b[0mgroup_keys\u001b[0m\u001b[0;34m,\u001b[0m \u001b[0msqueeze\u001b[0m\u001b[0;34m=\u001b[0m\u001b[0msqueeze\u001b[0m\u001b[0;34m,\u001b[0m\u001b[0;34m\u001b[0m\u001b[0m\n\u001b[0;32m-> 4271\u001b[0;31m                        **kwargs)\n\u001b[0m\u001b[1;32m   4272\u001b[0m \u001b[0;34m\u001b[0m\u001b[0m\n\u001b[1;32m   4273\u001b[0m     def asfreq(self, freq, method=None, how=None, normalize=False,\n",
      "\u001b[0;32m~/anaconda/lib/python3.6/site-packages/pandas/core/groupby.py\u001b[0m in \u001b[0;36mgroupby\u001b[0;34m(obj, by, **kwds)\u001b[0m\n\u001b[1;32m   1624\u001b[0m         \u001b[0;32mraise\u001b[0m \u001b[0mTypeError\u001b[0m\u001b[0;34m(\u001b[0m\u001b[0;34m'invalid type: %s'\u001b[0m \u001b[0;34m%\u001b[0m \u001b[0mtype\u001b[0m\u001b[0;34m(\u001b[0m\u001b[0mobj\u001b[0m\u001b[0;34m)\u001b[0m\u001b[0;34m)\u001b[0m\u001b[0;34m\u001b[0m\u001b[0m\n\u001b[1;32m   1625\u001b[0m \u001b[0;34m\u001b[0m\u001b[0m\n\u001b[0;32m-> 1626\u001b[0;31m     \u001b[0;32mreturn\u001b[0m \u001b[0mklass\u001b[0m\u001b[0;34m(\u001b[0m\u001b[0mobj\u001b[0m\u001b[0;34m,\u001b[0m \u001b[0mby\u001b[0m\u001b[0;34m,\u001b[0m \u001b[0;34m**\u001b[0m\u001b[0mkwds\u001b[0m\u001b[0;34m)\u001b[0m\u001b[0;34m\u001b[0m\u001b[0m\n\u001b[0m\u001b[1;32m   1627\u001b[0m \u001b[0;34m\u001b[0m\u001b[0m\n\u001b[1;32m   1628\u001b[0m \u001b[0;34m\u001b[0m\u001b[0m\n",
      "\u001b[0;32m~/anaconda/lib/python3.6/site-packages/pandas/core/groupby.py\u001b[0m in \u001b[0;36m__init__\u001b[0;34m(self, obj, keys, axis, level, grouper, exclusions, selection, as_index, sort, group_keys, squeeze, **kwargs)\u001b[0m\n\u001b[1;32m    390\u001b[0m                                                     \u001b[0mlevel\u001b[0m\u001b[0;34m=\u001b[0m\u001b[0mlevel\u001b[0m\u001b[0;34m,\u001b[0m\u001b[0;34m\u001b[0m\u001b[0m\n\u001b[1;32m    391\u001b[0m                                                     \u001b[0msort\u001b[0m\u001b[0;34m=\u001b[0m\u001b[0msort\u001b[0m\u001b[0;34m,\u001b[0m\u001b[0;34m\u001b[0m\u001b[0m\n\u001b[0;32m--> 392\u001b[0;31m                                                     mutated=self.mutated)\n\u001b[0m\u001b[1;32m    393\u001b[0m \u001b[0;34m\u001b[0m\u001b[0m\n\u001b[1;32m    394\u001b[0m         \u001b[0mself\u001b[0m\u001b[0;34m.\u001b[0m\u001b[0mobj\u001b[0m \u001b[0;34m=\u001b[0m \u001b[0mobj\u001b[0m\u001b[0;34m\u001b[0m\u001b[0m\n",
      "\u001b[0;32m~/anaconda/lib/python3.6/site-packages/pandas/core/groupby.py\u001b[0m in \u001b[0;36m_get_grouper\u001b[0;34m(obj, key, axis, level, sort, mutated)\u001b[0m\n\u001b[1;32m   2636\u001b[0m                         \u001b[0msort\u001b[0m\u001b[0;34m=\u001b[0m\u001b[0msort\u001b[0m\u001b[0;34m,\u001b[0m\u001b[0;34m\u001b[0m\u001b[0m\n\u001b[1;32m   2637\u001b[0m                         in_axis=in_axis) \\\n\u001b[0;32m-> 2638\u001b[0;31m             \u001b[0;32mif\u001b[0m \u001b[0;32mnot\u001b[0m \u001b[0misinstance\u001b[0m\u001b[0;34m(\u001b[0m\u001b[0mgpr\u001b[0m\u001b[0;34m,\u001b[0m \u001b[0mGrouping\u001b[0m\u001b[0;34m)\u001b[0m \u001b[0;32melse\u001b[0m \u001b[0mgpr\u001b[0m\u001b[0;34m\u001b[0m\u001b[0m\n\u001b[0m\u001b[1;32m   2639\u001b[0m \u001b[0;34m\u001b[0m\u001b[0m\n\u001b[1;32m   2640\u001b[0m         \u001b[0mgroupings\u001b[0m\u001b[0;34m.\u001b[0m\u001b[0mappend\u001b[0m\u001b[0;34m(\u001b[0m\u001b[0mping\u001b[0m\u001b[0;34m)\u001b[0m\u001b[0;34m\u001b[0m\u001b[0m\n",
      "\u001b[0;32m~/anaconda/lib/python3.6/site-packages/pandas/core/groupby.py\u001b[0m in \u001b[0;36m__init__\u001b[0;34m(self, index, grouper, obj, name, level, sort, in_axis)\u001b[0m\n\u001b[1;32m   2417\u001b[0m                 \u001b[0;32mif\u001b[0m \u001b[0mgetattr\u001b[0m\u001b[0;34m(\u001b[0m\u001b[0mself\u001b[0m\u001b[0;34m.\u001b[0m\u001b[0mgrouper\u001b[0m\u001b[0;34m,\u001b[0m \u001b[0;34m'ndim'\u001b[0m\u001b[0;34m,\u001b[0m \u001b[0;36m1\u001b[0m\u001b[0;34m)\u001b[0m \u001b[0;34m!=\u001b[0m \u001b[0;36m1\u001b[0m\u001b[0;34m:\u001b[0m\u001b[0;34m\u001b[0m\u001b[0m\n\u001b[1;32m   2418\u001b[0m                     \u001b[0mt\u001b[0m \u001b[0;34m=\u001b[0m \u001b[0mself\u001b[0m\u001b[0;34m.\u001b[0m\u001b[0mname\u001b[0m \u001b[0;32mor\u001b[0m \u001b[0mstr\u001b[0m\u001b[0;34m(\u001b[0m\u001b[0mtype\u001b[0m\u001b[0;34m(\u001b[0m\u001b[0mself\u001b[0m\u001b[0;34m.\u001b[0m\u001b[0mgrouper\u001b[0m\u001b[0;34m)\u001b[0m\u001b[0;34m)\u001b[0m\u001b[0;34m\u001b[0m\u001b[0m\n\u001b[0;32m-> 2419\u001b[0;31m                     \u001b[0;32mraise\u001b[0m \u001b[0mValueError\u001b[0m\u001b[0;34m(\u001b[0m\u001b[0;34m\"Grouper for '%s' not 1-dimensional\"\u001b[0m \u001b[0;34m%\u001b[0m \u001b[0mt\u001b[0m\u001b[0;34m)\u001b[0m\u001b[0;34m\u001b[0m\u001b[0m\n\u001b[0m\u001b[1;32m   2420\u001b[0m                 \u001b[0mself\u001b[0m\u001b[0;34m.\u001b[0m\u001b[0mgrouper\u001b[0m \u001b[0;34m=\u001b[0m \u001b[0mself\u001b[0m\u001b[0;34m.\u001b[0m\u001b[0mindex\u001b[0m\u001b[0;34m.\u001b[0m\u001b[0mmap\u001b[0m\u001b[0;34m(\u001b[0m\u001b[0mself\u001b[0m\u001b[0;34m.\u001b[0m\u001b[0mgrouper\u001b[0m\u001b[0;34m)\u001b[0m\u001b[0;34m\u001b[0m\u001b[0m\n\u001b[1;32m   2421\u001b[0m                 if not (hasattr(self.grouper, \"__len__\") and\n",
      "\u001b[0;31mValueError\u001b[0m: Grouper for 'CAUSE_g' not 1-dimensional"
     ]
    }
   ],
   "source": [
    "table = pd.pivot_table(acc_df, values='CAUSE_g', index='GROUPE_ACCIDENT', columns='CAUSE_g', aggfunc=lambda x: len(x.unique()))"
   ]
  },
  {
   "cell_type": "code",
   "execution_count": null,
   "metadata": {},
   "outputs": [],
   "source": []
  },
  {
   "cell_type": "code",
   "execution_count": null,
   "metadata": {},
   "outputs": [],
   "source": []
  },
  {
   "cell_type": "code",
   "execution_count": null,
   "metadata": {},
   "outputs": [],
   "source": []
  },
  {
   "cell_type": "code",
   "execution_count": 45,
   "metadata": {},
   "outputs": [
    {
     "name": "stderr",
     "output_type": "stream",
     "text": [
      "/Users/xaviergilcompanys/anaconda/lib/python3.6/site-packages/ipykernel/__main__.py:4: SettingWithCopyWarning: \n",
      "A value is trying to be set on a copy of a slice from a DataFrame.\n",
      "Try using .loc[row_indexer,col_indexer] = value instead\n",
      "\n",
      "See the caveats in the documentation: http://pandas.pydata.org/pandas-docs/stable/indexing.html#indexing-view-versus-copy\n"
     ]
    }
   ],
   "source": [
    "for feature in features_to_cluster:\n",
    "    le = LabelEncoder()\n",
    "    le = le.fit(acc_df[feature])\n",
    "    acc_df[feature] = le.transform(df[feature])"
   ]
  },
  {
   "cell_type": "code",
   "execution_count": 48,
   "metadata": {},
   "outputs": [],
   "source": [
    "predictors = ['CONDITIONS_LUMINEUSES','CONDITIONS_METEO','ETAT_ROUTE',\n",
    "                       'GENRE_ROUTE', 'JOUR','MONTH','DayTime', 'SEASON']\n",
    "predicted = 'GROUPE_ACCIDENT'\n",
    "\n",
    "X = df[predictors]\n",
    "y = df[predicted]"
   ]
  },
  {
   "cell_type": "code",
   "execution_count": 50,
   "metadata": {},
   "outputs": [],
   "source": [
    "X_train, X_test, y_train, y_test = train_test_split(X, y, test_size=0.33, random_state=42)"
   ]
  },
  {
   "cell_type": "code",
   "execution_count": 71,
   "metadata": {},
   "outputs": [
    {
     "data": {
      "text/plain": [
       "RandomForestClassifier(bootstrap=True, class_weight=None, criterion='gini',\n",
       "            max_depth=None, max_features='auto', max_leaf_nodes=None,\n",
       "            min_impurity_split=1e-07, min_samples_leaf=1,\n",
       "            min_samples_split=2, min_weight_fraction_leaf=0.0,\n",
       "            n_estimators=2000, n_jobs=1, oob_score=False,\n",
       "            random_state=None, verbose=0, warm_start=False)"
      ]
     },
     "execution_count": 71,
     "metadata": {},
     "output_type": "execute_result"
    }
   ],
   "source": [
    "rfc = RandomForestClassifier(n_estimators=2000)\n",
    "rfc.fit(X_train, y_train)"
   ]
  },
  {
   "cell_type": "code",
   "execution_count": 72,
   "metadata": {},
   "outputs": [
    {
     "data": {
      "text/plain": [
       "0.58607575287177893"
      ]
     },
     "execution_count": 72,
     "metadata": {},
     "output_type": "execute_result"
    }
   ],
   "source": [
    "rfc.score(X_train,y_train)"
   ]
  },
  {
   "cell_type": "code",
   "execution_count": 7,
   "metadata": {},
   "outputs": [
    {
     "ename": "NameError",
     "evalue": "name 'rfc' is not defined",
     "output_type": "error",
     "traceback": [
      "\u001b[0;31m---------------------------------------------------------------------------\u001b[0m",
      "\u001b[0;31mNameError\u001b[0m                                 Traceback (most recent call last)",
      "\u001b[0;32m<ipython-input-7-5ed3ed54ede2>\u001b[0m in \u001b[0;36m<module>\u001b[0;34m()\u001b[0m\n\u001b[0;32m----> 1\u001b[0;31m \u001b[0mrfc\u001b[0m\u001b[0;34m.\u001b[0m\u001b[0mscore\u001b[0m\u001b[0;34m(\u001b[0m\u001b[0mX_test\u001b[0m\u001b[0;34m,\u001b[0m\u001b[0my_test\u001b[0m\u001b[0;34m)\u001b[0m\u001b[0;34m\u001b[0m\u001b[0m\n\u001b[0m",
      "\u001b[0;31mNameError\u001b[0m: name 'rfc' is not defined"
     ]
    }
   ],
   "source": [
    "rfc.score(X_test,y_test)"
   ]
  },
  {
   "cell_type": "code",
   "execution_count": 74,
   "metadata": {},
   "outputs": [
    {
     "data": {
      "text/plain": [
       "array([ 0.07480473,  0.0931184 ,  0.06586885,  0.11728261,  0.26696416,\n",
       "        0.19466715,  0.13781637,  0.04947773])"
      ]
     },
     "execution_count": 74,
     "metadata": {},
     "output_type": "execute_result"
    }
   ],
   "source": [
    "rfc.feature_importances_"
   ]
  },
  {
   "cell_type": "code",
   "execution_count": 70,
   "metadata": {},
   "outputs": [
    {
     "data": {
      "text/html": [
       "<div>\n",
       "<style>\n",
       "    .dataframe thead tr:only-child th {\n",
       "        text-align: right;\n",
       "    }\n",
       "\n",
       "    .dataframe thead th {\n",
       "        text-align: left;\n",
       "    }\n",
       "\n",
       "    .dataframe tbody tr th {\n",
       "        vertical-align: top;\n",
       "    }\n",
       "</style>\n",
       "<table border=\"1\" class=\"dataframe\">\n",
       "  <thead>\n",
       "    <tr style=\"text-align: right;\">\n",
       "      <th></th>\n",
       "      <th>CONDITIONS_LUMINEUSES</th>\n",
       "      <th>CONDITIONS_METEO</th>\n",
       "      <th>ETAT_ROUTE</th>\n",
       "      <th>GENRE_ROUTE</th>\n",
       "      <th>JOUR</th>\n",
       "      <th>MONTH</th>\n",
       "      <th>DayTime</th>\n",
       "      <th>SEASON</th>\n",
       "      <th>GROUPE_ACCIDENT</th>\n",
       "    </tr>\n",
       "  </thead>\n",
       "  <tbody>\n",
       "    <tr>\n",
       "      <th>CONDITIONS_LUMINEUSES</th>\n",
       "      <td>1.000000</td>\n",
       "      <td>0.132046</td>\n",
       "      <td>0.014162</td>\n",
       "      <td>0.014796</td>\n",
       "      <td>0.002971</td>\n",
       "      <td>0.019448</td>\n",
       "      <td>0.186541</td>\n",
       "      <td>0.034377</td>\n",
       "      <td>0.167807</td>\n",
       "    </tr>\n",
       "    <tr>\n",
       "      <th>CONDITIONS_METEO</th>\n",
       "      <td>0.132046</td>\n",
       "      <td>1.000000</td>\n",
       "      <td>-0.404329</td>\n",
       "      <td>0.006460</td>\n",
       "      <td>0.001113</td>\n",
       "      <td>0.048104</td>\n",
       "      <td>0.051848</td>\n",
       "      <td>0.020762</td>\n",
       "      <td>0.115117</td>\n",
       "    </tr>\n",
       "    <tr>\n",
       "      <th>ETAT_ROUTE</th>\n",
       "      <td>0.014162</td>\n",
       "      <td>-0.404329</td>\n",
       "      <td>1.000000</td>\n",
       "      <td>0.002157</td>\n",
       "      <td>0.004708</td>\n",
       "      <td>-0.014485</td>\n",
       "      <td>-0.069672</td>\n",
       "      <td>-0.073904</td>\n",
       "      <td>0.001007</td>\n",
       "    </tr>\n",
       "    <tr>\n",
       "      <th>GENRE_ROUTE</th>\n",
       "      <td>0.014796</td>\n",
       "      <td>0.006460</td>\n",
       "      <td>0.002157</td>\n",
       "      <td>1.000000</td>\n",
       "      <td>-0.004487</td>\n",
       "      <td>0.002523</td>\n",
       "      <td>0.002162</td>\n",
       "      <td>-0.008198</td>\n",
       "      <td>-0.056710</td>\n",
       "    </tr>\n",
       "    <tr>\n",
       "      <th>JOUR</th>\n",
       "      <td>0.002971</td>\n",
       "      <td>0.001113</td>\n",
       "      <td>0.004708</td>\n",
       "      <td>-0.004487</td>\n",
       "      <td>1.000000</td>\n",
       "      <td>-0.012623</td>\n",
       "      <td>-0.022983</td>\n",
       "      <td>-0.004524</td>\n",
       "      <td>-0.016962</td>\n",
       "    </tr>\n",
       "    <tr>\n",
       "      <th>MONTH</th>\n",
       "      <td>0.019448</td>\n",
       "      <td>0.048104</td>\n",
       "      <td>-0.014485</td>\n",
       "      <td>0.002523</td>\n",
       "      <td>-0.012623</td>\n",
       "      <td>1.000000</td>\n",
       "      <td>-0.004900</td>\n",
       "      <td>-0.529236</td>\n",
       "      <td>-0.030464</td>\n",
       "    </tr>\n",
       "    <tr>\n",
       "      <th>DayTime</th>\n",
       "      <td>0.186541</td>\n",
       "      <td>0.051848</td>\n",
       "      <td>-0.069672</td>\n",
       "      <td>0.002162</td>\n",
       "      <td>-0.022983</td>\n",
       "      <td>-0.004900</td>\n",
       "      <td>1.000000</td>\n",
       "      <td>0.017886</td>\n",
       "      <td>0.136257</td>\n",
       "    </tr>\n",
       "    <tr>\n",
       "      <th>SEASON</th>\n",
       "      <td>0.034377</td>\n",
       "      <td>0.020762</td>\n",
       "      <td>-0.073904</td>\n",
       "      <td>-0.008198</td>\n",
       "      <td>-0.004524</td>\n",
       "      <td>-0.529236</td>\n",
       "      <td>0.017886</td>\n",
       "      <td>1.000000</td>\n",
       "      <td>0.024539</td>\n",
       "    </tr>\n",
       "    <tr>\n",
       "      <th>GROUPE_ACCIDENT</th>\n",
       "      <td>0.167807</td>\n",
       "      <td>0.115117</td>\n",
       "      <td>0.001007</td>\n",
       "      <td>-0.056710</td>\n",
       "      <td>-0.016962</td>\n",
       "      <td>-0.030464</td>\n",
       "      <td>0.136257</td>\n",
       "      <td>0.024539</td>\n",
       "      <td>1.000000</td>\n",
       "    </tr>\n",
       "  </tbody>\n",
       "</table>\n",
       "</div>"
      ],
      "text/plain": [
       "                       CONDITIONS_LUMINEUSES  CONDITIONS_METEO  ETAT_ROUTE  \\\n",
       "CONDITIONS_LUMINEUSES               1.000000          0.132046    0.014162   \n",
       "CONDITIONS_METEO                    0.132046          1.000000   -0.404329   \n",
       "ETAT_ROUTE                          0.014162         -0.404329    1.000000   \n",
       "GENRE_ROUTE                         0.014796          0.006460    0.002157   \n",
       "JOUR                                0.002971          0.001113    0.004708   \n",
       "MONTH                               0.019448          0.048104   -0.014485   \n",
       "DayTime                             0.186541          0.051848   -0.069672   \n",
       "SEASON                              0.034377          0.020762   -0.073904   \n",
       "GROUPE_ACCIDENT                     0.167807          0.115117    0.001007   \n",
       "\n",
       "                       GENRE_ROUTE      JOUR     MONTH   DayTime    SEASON  \\\n",
       "CONDITIONS_LUMINEUSES     0.014796  0.002971  0.019448  0.186541  0.034377   \n",
       "CONDITIONS_METEO          0.006460  0.001113  0.048104  0.051848  0.020762   \n",
       "ETAT_ROUTE                0.002157  0.004708 -0.014485 -0.069672 -0.073904   \n",
       "GENRE_ROUTE               1.000000 -0.004487  0.002523  0.002162 -0.008198   \n",
       "JOUR                     -0.004487  1.000000 -0.012623 -0.022983 -0.004524   \n",
       "MONTH                     0.002523 -0.012623  1.000000 -0.004900 -0.529236   \n",
       "DayTime                   0.002162 -0.022983 -0.004900  1.000000  0.017886   \n",
       "SEASON                   -0.008198 -0.004524 -0.529236  0.017886  1.000000   \n",
       "GROUPE_ACCIDENT          -0.056710 -0.016962 -0.030464  0.136257  0.024539   \n",
       "\n",
       "                       GROUPE_ACCIDENT  \n",
       "CONDITIONS_LUMINEUSES         0.167807  \n",
       "CONDITIONS_METEO              0.115117  \n",
       "ETAT_ROUTE                    0.001007  \n",
       "GENRE_ROUTE                  -0.056710  \n",
       "JOUR                         -0.016962  \n",
       "MONTH                        -0.030464  \n",
       "DayTime                       0.136257  \n",
       "SEASON                        0.024539  \n",
       "GROUPE_ACCIDENT               1.000000  "
      ]
     },
     "execution_count": 70,
     "metadata": {},
     "output_type": "execute_result"
    }
   ],
   "source": [
    "df.corr()"
   ]
  },
  {
   "cell_type": "code",
   "execution_count": null,
   "metadata": {},
   "outputs": [],
   "source": []
  }
 ],
 "metadata": {
  "kernelspec": {
   "display_name": "Python [conda root]",
   "language": "python",
   "name": "conda-root-py"
  },
  "language_info": {
   "codemirror_mode": {
    "name": "ipython",
    "version": 3
   },
   "file_extension": ".py",
   "mimetype": "text/x-python",
   "name": "python",
   "nbconvert_exporter": "python",
   "pygments_lexer": "ipython3",
   "version": "3.6.1"
  }
 },
 "nbformat": 4,
 "nbformat_minor": 2
}
