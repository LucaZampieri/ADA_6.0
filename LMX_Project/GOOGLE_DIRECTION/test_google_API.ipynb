{
 "cells": [
  {
   "cell_type": "code",
   "execution_count": 2,
   "metadata": {
    "collapsed": true
   },
   "outputs": [],
   "source": [
    "# import libraries\n",
    "import pandas as pd\n",
    "import numpy as np\n",
    "\n",
    "import requests\n",
    "from bs4 import BeautifulSoup\n",
    "import json\n",
    "import pandas as pd\n",
    "from pandas.io.json import json_normalize\n",
    "import copy\n",
    "import csv\n",
    "\n",
    "# for string processing\n",
    "import unidecode \n",
    "import collections\n",
    "import string\n",
    "\n",
    "# Merging names. Installation: pip install fuzzywuzzy and pip install fuzzywuzzy[speedup]\n",
    "from fuzzywuzzy import fuzz\n",
    "from fuzzywuzzy import process\n",
    "from IPython.core import display as ICD\n",
    "\n",
    "%matplotlib inline "
   ]
  },
  {
   "cell_type": "code",
   "execution_count": 3,
   "metadata": {
    "collapsed": true
   },
   "outputs": [],
   "source": [
    "def request_get_json(url):\n",
    "    r = requests.get(url)\n",
    "    if r.status_code != 200:\n",
    "        print (r.status_code)\n",
    "    page_body = r.text\n",
    "    return json.loads(page_body)"
   ]
  },
  {
   "cell_type": "code",
   "execution_count": 21,
   "metadata": {},
   "outputs": [],
   "source": [
    "# GO and fetch the google API keys from a local file\n",
    "CENTRAL_FOLDER = '../'\n",
    "API_keys = pd.read_csv(CENTRAL_FOLDER + 'API_google_key',index_col=0,header=None, sep='\\=', engine='python')\n",
    "\n",
    "#############   Google API KEYS ##################\n",
    "nearest_roads_API_KEY = API_keys.iloc[0].values[0] # accepts up to 100 points\n",
    "placesID_API_KEY = API_keys.iloc[1].values[0]\n",
    "API_KEY = API_keys.iloc[2].values[0] # google directions"
   ]
  },
  {
   "cell_type": "code",
   "execution_count": 22,
   "metadata": {
    "collapsed": true
   },
   "outputs": [],
   "source": [
    "origin = 'Chemin+terroux' \n",
    "destination= 'Quai+du+Mont-Blanc+1201+Genève'\n",
    "get_multiples_routes = 'true'\n"
   ]
  },
  {
   "cell_type": "code",
   "execution_count": 23,
   "metadata": {
    "collapsed": true
   },
   "outputs": [],
   "source": [
    "url = 'https://maps.googleapis.com/maps/api/directions/json?'+\\\n",
    "    'origin=' + origin  +\\\n",
    "    '&destination='+ destination  +\\\n",
    "    '&alternatives=' + get_multiples_routes +\\\n",
    "    '&key='+ API_KEY"
   ]
  },
  {
   "cell_type": "code",
   "execution_count": 24,
   "metadata": {
    "scrolled": true
   },
   "outputs": [
    {
     "data": {
      "text/plain": [
       "{'geocoded_waypoints': [{'geocoder_status': 'OK',\n",
       "   'place_id': 'ChIJd0ILYppkjEcRGkqevXzpzBs',\n",
       "   'types': ['route']},\n",
       "  {'geocoder_status': 'OK',\n",
       "   'place_id': 'ChIJg5tQUyRljEcR1JbJsz6diro',\n",
       "   'types': ['route']}],\n",
       " 'routes': [{'bounds': {'northeast': {'lat': 46.2331904, 'lng': 6.15271},\n",
       "    'southwest': {'lat': 46.20956169999999, 'lng': 6.1117618}},\n",
       "   'copyrights': 'Map data ©2017 Google',\n",
       "   'legs': [{'distance': {'text': '5.0 km', 'value': 5037},\n",
       "     'duration': {'text': '13 mins', 'value': 783},\n",
       "     'end_address': 'Quai du Mont-Blanc, 1201 Genève, Switzerland',\n",
       "     'end_location': {'lat': 46.20956169999999, 'lng': 6.1506504},\n",
       "     'start_address': 'Chemin Terroux, Switzerland',\n",
       "     'start_location': {'lat': 46.2255097, 'lng': 6.1117618},\n",
       "     'steps': [{'distance': {'text': '0.3 km', 'value': 315},\n",
       "       'duration': {'text': '1 min', 'value': 33},\n",
       "       'end_location': {'lat': 46.22782979999999, 'lng': 6.1140927},\n",
       "       'html_instructions': 'Head <b>northeast</b> on <b>Chemin Terroux</b> toward <b>Chemin Bonvent</b>',\n",
       "       'polyline': {'points': 'mlcyGouhd@o@}@w@gAQUKOOQe@c@[[iAgA]Ws@g@{AkA'},\n",
       "       'start_location': {'lat': 46.2255097, 'lng': 6.1117618},\n",
       "       'travel_mode': 'DRIVING'},\n",
       "      {'distance': {'text': '0.9 km', 'value': 938},\n",
       "       'duration': {'text': '2 mins', 'value': 139},\n",
       "       'end_location': {'lat': 46.2331904, 'lng': 6.1231633},\n",
       "       'html_instructions': 'Continue onto <b>Chemin Edouard-Sarasin</b>',\n",
       "       'polyline': {'points': '}zcyGadid@MIq@m@gAeAY[s@s@MMi@g@[[]]KMo@m@w@m@IIISQ[U[_@eAg@eBQe@q@kBYaASs@Ma@q@yBQg@Oo@_@kAi@eBQo@AEOe@mAaCWc@Kc@Y}@a@yA'},\n",
       "       'start_location': {'lat': 46.22782979999999, 'lng': 6.1140927},\n",
       "       'travel_mode': 'DRIVING'},\n",
       "      {'distance': {'text': '1.7 km', 'value': 1701},\n",
       "       'duration': {'text': '4 mins', 'value': 230},\n",
       "       'end_location': {'lat': 46.222267, 'lng': 6.137987799999999},\n",
       "       'html_instructions': 'Turn <b>right</b> onto <b>Route de Ferney</b>',\n",
       "       'maneuver': 'turn-right',\n",
       "       'polyline': {'points': 'm|dyGw|jd@h@@b@A^CF?JCXKPGLGJCLILINOj@k@xAgABAt@m@l@m@l@u@r@kANUP[^u@pBgDr@sAn@iAj@_AFK^s@f@w@HOdBwCfAmBXe@x@yA~AqC\\\\k@lAiB~AsBf@s@\\\\c@|BsDJSXa@\\\\k@Ra@r@gBFSZ}@HWdC_HFOHUFIDMrA}C'},\n",
       "       'start_location': {'lat': 46.2331904, 'lng': 6.1231633},\n",
       "       'travel_mode': 'DRIVING'},\n",
       "      {'distance': {'text': '0.1 km', 'value': 134},\n",
       "       'duration': {'text': '1 min', 'value': 26},\n",
       "       'end_location': {'lat': 46.2216462, 'lng': 6.139483999999999},\n",
       "       'html_instructions': 'Continue onto <b>Avenue de France</b>',\n",
       "       'polyline': {'points': 'exbyGmymd@HUr@oC|@cC'},\n",
       "       'start_location': {'lat': 46.222267, 'lng': 6.137987799999999},\n",
       "       'travel_mode': 'DRIVING'},\n",
       "      {'distance': {'text': '1.1 km', 'value': 1081},\n",
       "       'duration': {'text': '3 mins', 'value': 200},\n",
       "       'end_location': {'lat': 46.2167621, 'lng': 6.1510675},\n",
       "       'html_instructions': 'Keep <b>left</b> to stay on <b>Avenue de France</b>',\n",
       "       'maneuver': 'keep-left',\n",
       "       'polyline': {'points': 'itbyGwbnd@F_@JSFM\\\\w@La@Ji@TaADSNu@Ny@Je@Fe@Hk@@GDYVaBNeATcBPqABOPqAJ{@Hq@BOLcANy@f@aELm@HYRy@DOz@uCTi@P[\\\\m@N[BIRi@NUHMJO@At@{@FG^a@HIt@w@PSl@m@VUHEpAaA'},\n",
       "       'start_location': {'lat': 46.2216462, 'lng': 6.139483999999999},\n",
       "       'travel_mode': 'DRIVING'},\n",
       "      {'distance': {'text': '0.5 km', 'value': 503},\n",
       "       'duration': {'text': '1 min', 'value': 85},\n",
       "       'end_location': {'lat': 46.2123703, 'lng': 6.1525512},\n",
       "       'html_instructions': 'Continue onto <b>Quai Wilson</b>',\n",
       "       'polyline': {'points': 'wuayGekpd@h@]r@]BARId@QFCv@UTEXGt@MfB[t@M|AYLCv@MZGbCc@h@K^I'},\n",
       "       'start_location': {'lat': 46.2167621, 'lng': 6.1510675},\n",
       "       'travel_mode': 'DRIVING'},\n",
       "      {'distance': {'text': '81 m', 'value': 81},\n",
       "       'duration': {'text': '1 min', 'value': 12},\n",
       "       'end_location': {'lat': 46.21165, 'lng': 6.15271},\n",
       "       'html_instructions': 'Continue onto <b>Quai Wald-Wilson</b>',\n",
       "       'polyline': {'points': 'iz`yGmtpd@nC_@'},\n",
       "       'start_location': {'lat': 46.2123703, 'lng': 6.1525512},\n",
       "       'travel_mode': 'DRIVING'},\n",
       "      {'distance': {'text': '0.3 km', 'value': 284},\n",
       "       'duration': {'text': '1 min', 'value': 58},\n",
       "       'end_location': {'lat': 46.20956169999999, 'lng': 6.1506504},\n",
       "       'html_instructions': 'Continue onto <b>Quai du Mont-Blanc</b>',\n",
       "       'polyline': {'points': 'yu`yGmupd@X@XJr@p@RTJLNRpAtAPP`AjAVXLPn@r@LN'},\n",
       "       'start_location': {'lat': 46.21165, 'lng': 6.15271},\n",
       "       'travel_mode': 'DRIVING'}],\n",
       "     'traffic_speed_entry': [],\n",
       "     'via_waypoint': []}],\n",
       "   'overview_polyline': {'points': 'mlcyGouhd@eCkD{CyC{DuCyBsBmAoAqBoB{@{@aAw@[o@U[_@eAy@kCkAmDeBwFkBqGQk@eBeDe@aBa@yAh@@bAERCdA_@ZSz@{@|AiAt@m@l@m@l@u@r@kA`@q@tF{JlIsNxCkFjBuCfCgDzCwEd@u@p@mAz@{Bd@uAlCoHP_@xAkD|@eD|@cCF_@Ra@j@yA`@kBp@iDXsBnA}Ij@oEhAoIp@qCz@uCTi@n@iARe@b@_AT]v@}@fBkB~@aA`@[zB_Bv@_@x@[~@YlEw@xEy@hFaAnC_@X@XJr@p@^b@`BhBxBhC|@bA'},\n",
       "   'summary': 'Route de Ferney',\n",
       "   'warnings': [],\n",
       "   'waypoint_order': []},\n",
       "  {'bounds': {'northeast': {'lat': 46.2255097, 'lng': 6.15271},\n",
       "    'southwest': {'lat': 46.20956169999999, 'lng': 6.111470499999999}},\n",
       "   'copyrights': 'Map data ©2017 Google',\n",
       "   'legs': [{'distance': {'text': '4.6 km', 'value': 4640},\n",
       "     'duration': {'text': '13 mins', 'value': 805},\n",
       "     'end_address': 'Quai du Mont-Blanc, 1201 Genève, Switzerland',\n",
       "     'end_location': {'lat': 46.20956169999999, 'lng': 6.1506504},\n",
       "     'start_address': 'Chemin Terroux, Switzerland',\n",
       "     'start_location': {'lat': 46.2255097, 'lng': 6.1117618},\n",
       "     'steps': [{'distance': {'text': '34 m', 'value': 34},\n",
       "       'duration': {'text': '1 min', 'value': 3},\n",
       "       'end_location': {'lat': 46.2252751, 'lng': 6.111470499999999},\n",
       "       'html_instructions': 'Head <b>southwest</b> on <b>Chemin Terroux</b> toward <b>Chemin des Corbillettes</b>',\n",
       "       'polyline': {'points': 'mlcyGouhd@l@x@'},\n",
       "       'start_location': {'lat': 46.2255097, 'lng': 6.1117618},\n",
       "       'travel_mode': 'DRIVING'},\n",
       "      {'distance': {'text': '0.6 km', 'value': 603},\n",
       "       'duration': {'text': '1 min', 'value': 72},\n",
       "       'end_location': {'lat': 46.2219834, 'lng': 6.1173856},\n",
       "       'html_instructions': 'Turn <b>left</b> onto <b>Chemin des Corbillettes</b>',\n",
       "       'maneuver': 'turn-left',\n",
       "       'polyline': {'points': '_kcyGushd@d@o@\\\\i@BEr@gA|@oA`AsA\\\\g@rAoBHGXc@r@kAT[L[Tq@Lk@Hg@Fe@BY@_A@k@@]@IBSL[FKl@iANWNS'},\n",
       "       'start_location': {'lat': 46.2252751, 'lng': 6.111470499999999},\n",
       "       'travel_mode': 'DRIVING'},\n",
       "      {'distance': {'text': '9 m', 'value': 9},\n",
       "       'duration': {'text': '1 min', 'value': 2},\n",
       "       'end_location': {'lat': 46.2219922, 'lng': 6.1174975},\n",
       "       'html_instructions': 'Turn <b>left</b> onto <b>Chemin des Coudriers</b>',\n",
       "       'maneuver': 'turn-left',\n",
       "       'polyline': {'points': 'kvbyGuxid@AU'},\n",
       "       'start_location': {'lat': 46.2219834, 'lng': 6.1173856},\n",
       "       'travel_mode': 'DRIVING'},\n",
       "      {'distance': {'text': '0.3 km', 'value': 284},\n",
       "       'duration': {'text': '1 min', 'value': 36},\n",
       "       'end_location': {'lat': 46.2236688, 'lng': 6.1200224},\n",
       "       'html_instructions': 'At the roundabout, take the <b>3rd</b> exit and stay on <b>Chemin des Coudriers</b>',\n",
       "       'maneuver': 'roundabout-right',\n",
       "       'polyline': {'points': 'mvbyGkyid@@A@E@C?C?EAGACACAAEAC?C@CBABE?CAECeAoBcB}Ce@{@EG{@{AGKOW'},\n",
       "       'start_location': {'lat': 46.2219922, 'lng': 6.1174975},\n",
       "       'travel_mode': 'DRIVING'},\n",
       "      {'distance': {'text': '0.2 km', 'value': 222},\n",
       "       'duration': {'text': '1 min', 'value': 32},\n",
       "       'end_location': {'lat': 46.2234032, 'lng': 6.122835200000001},\n",
       "       'html_instructions': 'Turn <b>right</b> onto <b>Chemin Colladon</b>',\n",
       "       'maneuver': 'turn-right',\n",
       "       'polyline': {'points': '}`cyGcijd@PkAHsARmCRoC?S?]AOKs@'},\n",
       "       'start_location': {'lat': 46.2236688, 'lng': 6.1200224},\n",
       "       'travel_mode': 'DRIVING'},\n",
       "      {'distance': {'text': '0.3 km', 'value': 261},\n",
       "       'duration': {'text': '1 min', 'value': 47},\n",
       "       'end_location': {'lat': 46.222238, 'lng': 6.125764900000001},\n",
       "       'html_instructions': 'Turn <b>right</b> to stay on <b>Chemin Colladon</b>',\n",
       "       'maneuver': 'turn-right',\n",
       "       'polyline': {'points': 'g_cyGwzjd@HILY`@wAh@sBv@sCPk@Ni@h@mB'},\n",
       "       'start_location': {'lat': 46.2234032, 'lng': 6.122835200000001},\n",
       "       'travel_mode': 'DRIVING'},\n",
       "      {'distance': {'text': '0.1 km', 'value': 115},\n",
       "       'duration': {'text': '1 min', 'value': 18},\n",
       "       'end_location': {'lat': 46.22278439999999, 'lng': 6.127033399999999},\n",
       "       'html_instructions': 'Turn <b>left</b> onto <b>Chemin des Crêts</b>',\n",
       "       'maneuver': 'turn-left',\n",
       "       'polyline': {'points': '_xbyG_mkd@GIEKMYg@}Ag@oB'},\n",
       "       'start_location': {'lat': 46.222238, 'lng': 6.125764900000001},\n",
       "       'travel_mode': 'DRIVING'},\n",
       "      {'distance': {'text': '0.1 km', 'value': 95},\n",
       "       'duration': {'text': '1 min', 'value': 24},\n",
       "       'end_location': {'lat': 46.2232188, 'lng': 6.1280899},\n",
       "       'html_instructions': 'Continue onto <b>Place du Petit-Saconnex</b>',\n",
       "       'polyline': {'points': 'k{byG}tkd@UoAWw@i@kA'},\n",
       "       'start_location': {'lat': 46.22278439999999, 'lng': 6.127033399999999},\n",
       "       'travel_mode': 'DRIVING'},\n",
       "      {'distance': {'text': '0.1 km', 'value': 127},\n",
       "       'duration': {'text': '1 min', 'value': 26},\n",
       "       'end_location': {'lat': 46.2225211, 'lng': 6.1293944},\n",
       "       'html_instructions': 'Turn <b>right</b> onto <b>Rue de Moillebeau</b>',\n",
       "       'maneuver': 'turn-right',\n",
       "       'polyline': {'points': 'c~byGq{kd@Zy@HOb@aARc@\\\\u@N]'},\n",
       "       'start_location': {'lat': 46.2232188, 'lng': 6.1280899},\n",
       "       'travel_mode': 'DRIVING'},\n",
       "      {'distance': {'text': '0.4 km', 'value': 399},\n",
       "       'duration': {'text': '2 mins', 'value': 95},\n",
       "       'end_location': {'lat': 46.2244488, 'lng': 6.1337435},\n",
       "       'html_instructions': 'Turn <b>left</b> onto <b>Chemin du Petit-Saconnex</b>',\n",
       "       'maneuver': 'turn-left',\n",
       "       'polyline': {'points': 'wybyGucld@Yw@k@yA_@iAWm@o@yAUa@Mc@Ig@e@oBY{@]gAa@}@Og@IUEMEU'},\n",
       "       'start_location': {'lat': 46.2225211, 'lng': 6.1293944},\n",
       "       'travel_mode': 'DRIVING'},\n",
       "      {'distance': {'text': '0.4 km', 'value': 408},\n",
       "       'duration': {'text': '1 min', 'value': 69},\n",
       "       'end_location': {'lat': 46.222267, 'lng': 6.137987799999999},\n",
       "       'html_instructions': 'Turn <b>right</b> onto <b>Route de Ferney</b>',\n",
       "       'maneuver': 'turn-right',\n",
       "       'polyline': {'points': 'yecyG{~ld@JSXa@\\\\k@Ra@r@gBFSZ}@HWdC_HFOHUFIDMrA}C'},\n",
       "       'start_location': {'lat': 46.2244488, 'lng': 6.1337435},\n",
       "       'travel_mode': 'DRIVING'},\n",
       "      {'distance': {'text': '0.1 km', 'value': 134},\n",
       "       'duration': {'text': '1 min', 'value': 26},\n",
       "       'end_location': {'lat': 46.2216462, 'lng': 6.139483999999999},\n",
       "       'html_instructions': 'Continue onto <b>Avenue de France</b>',\n",
       "       'polyline': {'points': 'exbyGmymd@HUr@oC|@cC'},\n",
       "       'start_location': {'lat': 46.222267, 'lng': 6.137987799999999},\n",
       "       'travel_mode': 'DRIVING'},\n",
       "      {'distance': {'text': '1.1 km', 'value': 1081},\n",
       "       'duration': {'text': '3 mins', 'value': 200},\n",
       "       'end_location': {'lat': 46.2167621, 'lng': 6.1510675},\n",
       "       'html_instructions': 'Keep <b>left</b> to stay on <b>Avenue de France</b>',\n",
       "       'maneuver': 'keep-left',\n",
       "       'polyline': {'points': 'itbyGwbnd@F_@JSFM\\\\w@La@Ji@TaADSNu@Ny@Je@Fe@Hk@@GDYVaBNeATcBPqABOPqAJ{@Hq@BOLcANy@f@aELm@HYRy@DOz@uCTi@P[\\\\m@N[BIRi@NUHMJO@At@{@FG^a@HIt@w@PSl@m@VUHEpAaA'},\n",
       "       'start_location': {'lat': 46.2216462, 'lng': 6.139483999999999},\n",
       "       'travel_mode': 'DRIVING'},\n",
       "      {'distance': {'text': '0.5 km', 'value': 503},\n",
       "       'duration': {'text': '1 min', 'value': 85},\n",
       "       'end_location': {'lat': 46.2123703, 'lng': 6.1525512},\n",
       "       'html_instructions': 'Continue onto <b>Quai Wilson</b>',\n",
       "       'polyline': {'points': 'wuayGekpd@h@]r@]BARId@QFCv@UTEXGt@MfB[t@M|AYLCv@MZGbCc@h@K^I'},\n",
       "       'start_location': {'lat': 46.2167621, 'lng': 6.1510675},\n",
       "       'travel_mode': 'DRIVING'},\n",
       "      {'distance': {'text': '81 m', 'value': 81},\n",
       "       'duration': {'text': '1 min', 'value': 12},\n",
       "       'end_location': {'lat': 46.21165, 'lng': 6.15271},\n",
       "       'html_instructions': 'Continue onto <b>Quai Wald-Wilson</b>',\n",
       "       'polyline': {'points': 'iz`yGmtpd@nC_@'},\n",
       "       'start_location': {'lat': 46.2123703, 'lng': 6.1525512},\n",
       "       'travel_mode': 'DRIVING'},\n",
       "      {'distance': {'text': '0.3 km', 'value': 284},\n",
       "       'duration': {'text': '1 min', 'value': 58},\n",
       "       'end_location': {'lat': 46.20956169999999, 'lng': 6.1506504},\n",
       "       'html_instructions': 'Continue onto <b>Quai du Mont-Blanc</b>',\n",
       "       'polyline': {'points': 'yu`yGmupd@X@XJr@p@RTJLNRpAtAPP`AjAVXLPn@r@LN'},\n",
       "       'start_location': {'lat': 46.21165, 'lng': 6.15271},\n",
       "       'travel_mode': 'DRIVING'}],\n",
       "     'traffic_speed_entry': [],\n",
       "     'via_waypoint': []}],\n",
       "   'overview_polyline': {'points': 'mlcyGouhd@l@x@d@o@`@o@pBwC~A{B|AwBlAoBT[L[b@}APmADyABiAD]Tg@|@aBNSAUBG?UCGGCG@EFIAkAsBiCyEaAcBWc@PkAHsAf@}G?q@McAHILYjAkEhA_Ex@wCMUu@wBg@oBUoAWw@i@kAd@iAdByDeAqCw@wBeA{BWkAe@oBY{@]gAa@}@Y}@Kc@d@u@p@mAz@{Bd@uAlCoHP_@xAkD|@eD|@cCF_@Ra@j@yA`@kBp@iDXsBnA}ItB_Pp@qCz@uCTi@n@iARe@b@_AT]v@}@fBkB~@aA`@[zB_Bv@_@x@[~@YlEw@xEy@hFaAnC_@X@XJr@p@^b@`BhBxBhC|@bA'},\n",
       "   'summary': 'Avenue de France',\n",
       "   'warnings': [],\n",
       "   'waypoint_order': []},\n",
       "  {'bounds': {'northeast': {'lat': 46.2255097, 'lng': 6.15271},\n",
       "    'southwest': {'lat': 46.20956169999999, 'lng': 6.111470499999999}},\n",
       "   'copyrights': 'Map data ©2017 Google',\n",
       "   'legs': [{'distance': {'text': '4.9 km', 'value': 4926},\n",
       "     'duration': {'text': '15 mins', 'value': 910},\n",
       "     'end_address': 'Quai du Mont-Blanc, 1201 Genève, Switzerland',\n",
       "     'end_location': {'lat': 46.20956169999999, 'lng': 6.1506504},\n",
       "     'start_address': 'Chemin Terroux, Switzerland',\n",
       "     'start_location': {'lat': 46.2255097, 'lng': 6.1117618},\n",
       "     'steps': [{'distance': {'text': '34 m', 'value': 34},\n",
       "       'duration': {'text': '1 min', 'value': 3},\n",
       "       'end_location': {'lat': 46.2252751, 'lng': 6.111470499999999},\n",
       "       'html_instructions': 'Head <b>southwest</b> on <b>Chemin Terroux</b> toward <b>Chemin des Corbillettes</b>',\n",
       "       'polyline': {'points': 'mlcyGouhd@l@x@'},\n",
       "       'start_location': {'lat': 46.2255097, 'lng': 6.1117618},\n",
       "       'travel_mode': 'DRIVING'},\n",
       "      {'distance': {'text': '0.6 km', 'value': 603},\n",
       "       'duration': {'text': '1 min', 'value': 72},\n",
       "       'end_location': {'lat': 46.2219834, 'lng': 6.1173856},\n",
       "       'html_instructions': 'Turn <b>left</b> onto <b>Chemin des Corbillettes</b>',\n",
       "       'maneuver': 'turn-left',\n",
       "       'polyline': {'points': '_kcyGushd@d@o@\\\\i@BEr@gA|@oA`AsA\\\\g@rAoBHGXc@r@kAT[L[Tq@Lk@Hg@Fe@BY@_A@k@@]@IBSL[FKl@iANWNS'},\n",
       "       'start_location': {'lat': 46.2252751, 'lng': 6.111470499999999},\n",
       "       'travel_mode': 'DRIVING'},\n",
       "      {'distance': {'text': '9 m', 'value': 9},\n",
       "       'duration': {'text': '1 min', 'value': 2},\n",
       "       'end_location': {'lat': 46.2219922, 'lng': 6.1174975},\n",
       "       'html_instructions': 'Turn <b>left</b> onto <b>Chemin des Coudriers</b>',\n",
       "       'maneuver': 'turn-left',\n",
       "       'polyline': {'points': 'kvbyGuxid@AU'},\n",
       "       'start_location': {'lat': 46.2219834, 'lng': 6.1173856},\n",
       "       'travel_mode': 'DRIVING'},\n",
       "      {'distance': {'text': '1.2 km', 'value': 1219},\n",
       "       'duration': {'text': '4 mins', 'value': 211},\n",
       "       'end_location': {'lat': 46.2160875, 'lng': 6.1305026},\n",
       "       'html_instructions': 'At the roundabout, take the <b>2nd</b> exit onto <b>Avenue Trembley</b><div style=\"font-size:0.9em\">Go through 1 roundabout</div>',\n",
       "       'maneuver': 'roundabout-right',\n",
       "       'polyline': {'points': 'mvbyGkyid@@A@E@C?C?EAGACDM@KPaAJk@XeBDU\\\\qBd@}Av@{BJY`A{Cx@gCz@kCd@eBn@oBPc@v@eAV]rAmBp@_Ad@c@j@iAB?@A@A@?@C@A@C?A?CLMFIHK\\\\k@d@{@@GDSDKRq@j@kAXaAF[AOf@mBr@mCXiAJa@^uA'},\n",
       "       'start_location': {'lat': 46.2219922, 'lng': 6.1174975},\n",
       "       'travel_mode': 'DRIVING'},\n",
       "      {'distance': {'text': '0.3 km', 'value': 273},\n",
       "       'duration': {'text': '1 min', 'value': 68},\n",
       "       'end_location': {'lat': 46.21494149999999, 'lng': 6.1336222},\n",
       "       'html_instructions': 'Continue onto <b>Rue du Grand-Pré</b>',\n",
       "       'polyline': {'points': 'qqayGsjld@Pk@LMDUDKXy@J_@BKXkA^yA^uAh@oCJa@'},\n",
       "       'start_location': {'lat': 46.2160875, 'lng': 6.1305026},\n",
       "       'travel_mode': 'DRIVING'},\n",
       "      {'distance': {'text': '0.8 km', 'value': 843},\n",
       "       'duration': {'text': '3 mins', 'value': 181},\n",
       "       'end_location': {'lat': 46.2206943, 'lng': 6.1404606},\n",
       "       'html_instructions': 'Turn <b>left</b> onto <b>Rue de Vermont</b>',\n",
       "       'maneuver': 'turn-left',\n",
       "       'polyline': {'points': 'kjayGc~ld@FSMOQEa@g@QUU[[c@w@w@MMGEw@y@SMoAeAyBmByA}AaBuAQSg@i@o@}@q@iAEG}BoDaBaCKSy@cBW{@'},\n",
       "       'start_location': {'lat': 46.21494149999999, 'lng': 6.1336222},\n",
       "       'travel_mode': 'DRIVING'},\n",
       "      {'distance': {'text': '69 m', 'value': 69},\n",
       "       'duration': {'text': '1 min', 'value': 28},\n",
       "       'end_location': {'lat': 46.2212888, 'lng': 6.140261199999999},\n",
       "       'html_instructions': 'Turn <b>left</b> onto <b>Rue de Montbrillant</b>',\n",
       "       'maneuver': 'turn-left',\n",
       "       'polyline': {'points': 'inbyG{hnd@GBGBKA[NYJOHMAGA'},\n",
       "       'start_location': {'lat': 46.2206943, 'lng': 6.1404606},\n",
       "       'travel_mode': 'DRIVING'},\n",
       "      {'distance': {'text': '1.0 km', 'value': 1008},\n",
       "       'duration': {'text': '3 mins', 'value': 190},\n",
       "       'end_location': {'lat': 46.2167621, 'lng': 6.1510675},\n",
       "       'html_instructions': 'Turn <b>right</b> onto <b>Avenue de France</b>',\n",
       "       'maneuver': 'turn-right',\n",
       "       'polyline': {'points': 'arbyGsgnd@Ji@TaADSNu@Ny@Je@Fe@Hk@@GDYVaBNeATcBPqABOPqAJ{@Hq@BOLcANy@f@aELm@HYRy@DOz@uCTi@P[\\\\m@N[BIRi@NUHMJO@At@{@FG^a@HIt@w@PSl@m@VUHEpAaA'},\n",
       "       'start_location': {'lat': 46.2212888, 'lng': 6.140261199999999},\n",
       "       'travel_mode': 'DRIVING'},\n",
       "      {'distance': {'text': '0.5 km', 'value': 503},\n",
       "       'duration': {'text': '1 min', 'value': 85},\n",
       "       'end_location': {'lat': 46.2123703, 'lng': 6.1525512},\n",
       "       'html_instructions': 'Continue onto <b>Quai Wilson</b>',\n",
       "       'polyline': {'points': 'wuayGekpd@h@]r@]BARId@QFCv@UTEXGt@MfB[t@M|AYLCv@MZGbCc@h@K^I'},\n",
       "       'start_location': {'lat': 46.2167621, 'lng': 6.1510675},\n",
       "       'travel_mode': 'DRIVING'},\n",
       "      {'distance': {'text': '81 m', 'value': 81},\n",
       "       'duration': {'text': '1 min', 'value': 12},\n",
       "       'end_location': {'lat': 46.21165, 'lng': 6.15271},\n",
       "       'html_instructions': 'Continue onto <b>Quai Wald-Wilson</b>',\n",
       "       'polyline': {'points': 'iz`yGmtpd@nC_@'},\n",
       "       'start_location': {'lat': 46.2123703, 'lng': 6.1525512},\n",
       "       'travel_mode': 'DRIVING'},\n",
       "      {'distance': {'text': '0.3 km', 'value': 284},\n",
       "       'duration': {'text': '1 min', 'value': 58},\n",
       "       'end_location': {'lat': 46.20956169999999, 'lng': 6.1506504},\n",
       "       'html_instructions': 'Continue onto <b>Quai du Mont-Blanc</b>',\n",
       "       'polyline': {'points': 'yu`yGmupd@X@XJr@p@RTJLNRpAtAPP`AjAVXLPn@r@LN'},\n",
       "       'start_location': {'lat': 46.21165, 'lng': 6.15271},\n",
       "       'travel_mode': 'DRIVING'}],\n",
       "     'traffic_speed_entry': [],\n",
       "     'via_waypoint': []}],\n",
       "   'overview_polyline': {'points': 'mlcyGouhd@l@x@d@o@`@o@pBwC~A{B|AwBlAoBT[L[b@}APmADyABiAD]Tg@|@aBNSAUBG?UBQRmAhAyG|AyElAuDtBsGtAuEPc@v@eAjBkCp@_Ad@c@n@iADCDK^g@bAgBF[X}@j@kAXaAF[AOzA{FvAmFLMDU^eAhAqE^uAh@oCRu@MOQEs@}@q@_AeAeA_A_AcBsAyBmByA}AsBiBg@i@o@}@w@qA_FqHeAwBW{@GBGBKAu@ZOHMAGAJi@ZuAr@{Dh@oDfB{M\\\\}Bf@aELm@\\\\sA`AeDf@eAl@iAVs@Xc@jAuApBwBdAcAzAgA|A{@VKl@UlA[lF_A~Ds@lDo@nDi@X@XJfAfA~BhCdDzD'},\n",
       "   'summary': 'Rue de Vermont and Avenue de France',\n",
       "   'warnings': [],\n",
       "   'waypoint_order': []}],\n",
       " 'status': 'OK'}"
      ]
     },
     "execution_count": 24,
     "metadata": {},
     "output_type": "execute_result"
    }
   ],
   "source": [
    "my_json = request_get_json(url)\n",
    "my_json"
   ]
  },
  {
   "cell_type": "code",
   "execution_count": 9,
   "metadata": {},
   "outputs": [
    {
     "name": "stdout",
     "output_type": "stream",
     "text": [
      "geocoded_waypoints\n",
      "routes\n",
      "status\n"
     ]
    }
   ],
   "source": [
    "for key, value in my_json.items() :\n",
    "    print (key)"
   ]
  },
  {
   "cell_type": "code",
   "execution_count": 10,
   "metadata": {},
   "outputs": [
    {
     "data": {
      "text/plain": [
       "3"
      ]
     },
     "execution_count": 10,
     "metadata": {},
     "output_type": "execute_result"
    }
   ],
   "source": [
    "len(my_json['routes'])"
   ]
  },
  {
   "cell_type": "code",
   "execution_count": 121,
   "metadata": {
    "collapsed": true
   },
   "outputs": [],
   "source": [
    "tmp0 = []\n",
    "for x in my_json['geocoded_waypoints']:\n",
    "    tmp0.append(x['place_id'])"
   ]
  },
  {
   "cell_type": "code",
   "execution_count": 15,
   "metadata": {},
   "outputs": [
    {
     "data": {
      "text/plain": [
       "['ChIJWSs7wyZljEcRRb_sGE9NiBo', 'ChIJg5tQUyRljEcR1JbJsz6diro']"
      ]
     },
     "execution_count": 15,
     "metadata": {},
     "output_type": "execute_result"
    }
   ],
   "source": [
    "tmp0"
   ]
  },
  {
   "cell_type": "code",
   "execution_count": 21,
   "metadata": {
    "collapsed": true
   },
   "outputs": [],
   "source": [
    "url = 'https://maps.googleapis.com/maps/api/place/details/json?'+\\\n",
    "            'placeid='+ tmp0[0] +'&key='+placesID_API_KEY"
   ]
  },
  {
   "cell_type": "code",
   "execution_count": 31,
   "metadata": {
    "collapsed": true
   },
   "outputs": [],
   "source": [
    "r = requests.get(url)\n",
    "if r.status_code != 200:\n",
    "        print (r.status_code)\n",
    "page_body = r.text"
   ]
  },
  {
   "cell_type": "code",
   "execution_count": 33,
   "metadata": {
    "scrolled": true
   },
   "outputs": [
    {
     "name": "stdout",
     "output_type": "stream",
     "text": [
      "{\n",
      "   \"html_attributions\" : [],\n",
      "   \"result\" : {\n",
      "      \"address_components\" : [\n",
      "         {\n",
      "            \"long_name\" : \"Rue de Berne\",\n",
      "            \"short_name\" : \"Rue de Berne\",\n",
      "            \"types\" : [ \"route\" ]\n",
      "         },\n",
      "         {\n",
      "            \"long_name\" : \"Genève\",\n",
      "            \"short_name\" : \"Genève\",\n",
      "            \"types\" : [ \"locality\", \"political\" ]\n",
      "         },\n",
      "         {\n",
      "            \"long_name\" : \"Genève\",\n",
      "            \"short_name\" : \"Genève\",\n",
      "            \"types\" : [ \"administrative_area_level_2\", \"political\" ]\n",
      "         },\n",
      "         {\n",
      "            \"long_name\" : \"Genève\",\n",
      "            \"short_name\" : \"GE\",\n",
      "            \"types\" : [ \"administrative_area_level_1\", \"political\" ]\n",
      "         },\n",
      "         {\n",
      "            \"long_name\" : \"Switzerland\",\n",
      "            \"short_name\" : \"CH\",\n",
      "            \"types\" : [ \"country\", \"political\" ]\n",
      "         },\n",
      "         {\n",
      "            \"long_name\" : \"1201\",\n",
      "            \"short_name\" : \"1201\",\n",
      "            \"types\" : [ \"postal_code\" ]\n",
      "         }\n",
      "      ],\n",
      "      \"adr_address\" : \"\\u003cspan class=\\\"street-address\\\"\\u003eRue de Berne\\u003c/span\\u003e, \\u003cspan class=\\\"postal-code\\\"\\u003e1201\\u003c/span\\u003e \\u003cspan class=\\\"locality\\\"\\u003eGenève\\u003c/span\\u003e, \\u003cspan class=\\\"country-name\\\"\\u003eSwitzerland\\u003c/span\\u003e\",\n",
      "      \"formatted_address\" : \"Rue de Berne, 1201 Genève, Switzerland\",\n",
      "      \"geometry\" : {\n",
      "         \"location\" : {\n",
      "            \"lat\" : 46.21089,\n",
      "            \"lng\" : 6.146420000000001\n",
      "         },\n",
      "         \"viewport\" : {\n",
      "            \"northeast\" : {\n",
      "               \"lat\" : 46.2122389802915,\n",
      "               \"lng\" : 6.147768980291502\n",
      "            },\n",
      "            \"southwest\" : {\n",
      "               \"lat\" : 46.2095410197085,\n",
      "               \"lng\" : 6.145071019708499\n",
      "            }\n",
      "         }\n",
      "      },\n",
      "      \"icon\" : \"https://maps.gstatic.com/mapfiles/place_api/icons/geocode-71.png\",\n",
      "      \"id\" : \"fd69ffdb215419c63a8482d1849cf82873b827eb\",\n",
      "      \"name\" : \"Rue de Berne\",\n",
      "      \"place_id\" : \"ChIJWSs7wyZljEcRRb_sGE9NiBo\",\n",
      "      \"reference\" : \"CmRbAAAA7jf8A78DonIM8J8CHAYiJN2J69ephyGo7PS0N1TLu8kuZ4iatkRshk_Nq1jINaiNWzYI0QqP2dJJJU62EgebInuXku3Mqchq9lEjCcO2ZhL2YluOSvFKVdQ0XJARm6waEhAx-dN0iEmHNpZ3a3s8eEGoGhTq2_V3yELvhyYHfiukcSVwy_-FhQ\",\n",
      "      \"scope\" : \"GOOGLE\",\n",
      "      \"types\" : [ \"route\" ],\n",
      "      \"url\" : \"https://maps.google.com/?q=Rue+de+Berne,+1201+Gen%C3%A8ve,+Switzerland&ftid=0x478c6526c33b2b59:0x1a884d4f18ecbf45\",\n",
      "      \"utc_offset\" : 60,\n",
      "      \"vicinity\" : \"Genève\"\n",
      "   },\n",
      "   \"status\" : \"OK\"\n",
      "}\n",
      "\n"
     ]
    }
   ],
   "source": [
    "print(r.text)"
   ]
  },
  {
   "cell_type": "code",
   "execution_count": 156,
   "metadata": {
    "collapsed": true,
    "scrolled": true
   },
   "outputs": [],
   "source": [
    "place_json = request_get_json(url)"
   ]
  },
  {
   "cell_type": "code",
   "execution_count": 19,
   "metadata": {},
   "outputs": [
    {
     "ename": "AttributeError",
     "evalue": "'dict' object has no attribute 'loads'",
     "output_type": "error",
     "traceback": [
      "\u001b[0;31m---------------------------------------------------------------------------\u001b[0m",
      "\u001b[0;31mAttributeError\u001b[0m                            Traceback (most recent call last)",
      "\u001b[0;32m<ipython-input-19-054057ac67cb>\u001b[0m in \u001b[0;36m<module>\u001b[0;34m()\u001b[0m\n\u001b[1;32m      4\u001b[0m \u001b[0;32mfor\u001b[0m \u001b[0mi\u001b[0m\u001b[0;34m,\u001b[0m\u001b[0mx\u001b[0m \u001b[0;32min\u001b[0m \u001b[0menumerate\u001b[0m\u001b[0;34m(\u001b[0m\u001b[0mtmp0\u001b[0m\u001b[0;34m)\u001b[0m\u001b[0;34m:\u001b[0m \u001b[0;31m# uncomment this line to run the ode\u001b[0m\u001b[0;34m\u001b[0m\u001b[0m\n\u001b[1;32m      5\u001b[0m     \u001b[0murl\u001b[0m \u001b[0;34m=\u001b[0m \u001b[0;34m'https://maps.googleapis.com/maps/api/place/details/json?'\u001b[0m\u001b[0;34m+\u001b[0m                \u001b[0;34m'placeid='\u001b[0m\u001b[0;34m+\u001b[0m \u001b[0mx\u001b[0m \u001b[0;34m+\u001b[0m\u001b[0;34m'&key='\u001b[0m\u001b[0;34m+\u001b[0m\u001b[0mplacesID_API_KEY\u001b[0m\u001b[0;34m\u001b[0m\u001b[0m\n\u001b[0;32m----> 6\u001b[0;31m     \u001b[0mplace_json\u001b[0m \u001b[0;34m=\u001b[0m \u001b[0mrequest_get_json\u001b[0m\u001b[0;34m(\u001b[0m\u001b[0murl\u001b[0m\u001b[0;34m)\u001b[0m \u001b[0;31m# to uncomment to do the requests\u001b[0m\u001b[0;34m\u001b[0m\u001b[0m\n\u001b[0m\u001b[1;32m      7\u001b[0m     \u001b[0mtmp\u001b[0m\u001b[0;34m.\u001b[0m\u001b[0mappend\u001b[0m\u001b[0;34m(\u001b[0m\u001b[0mplace_json\u001b[0m\u001b[0;34m)\u001b[0m\u001b[0;34m\u001b[0m\u001b[0m\n\u001b[1;32m      8\u001b[0m     \u001b[0mprint\u001b[0m\u001b[0;34m(\u001b[0m\u001b[0mi\u001b[0m\u001b[0;34m,\u001b[0m\u001b[0;34m'||'\u001b[0m\u001b[0;34m,\u001b[0m \u001b[0mend\u001b[0m\u001b[0;34m=\u001b[0m\u001b[0;34m\"\"\u001b[0m\u001b[0;34m)\u001b[0m \u001b[0;31m# i-start to have the right index in tmp\u001b[0m\u001b[0;34m\u001b[0m\u001b[0m\n",
      "\u001b[0;32m<ipython-input-6-dfcf2d603437>\u001b[0m in \u001b[0;36mrequest_get_json\u001b[0;34m(url)\u001b[0m\n\u001b[1;32m      4\u001b[0m         \u001b[0mprint\u001b[0m \u001b[0;34m(\u001b[0m\u001b[0mr\u001b[0m\u001b[0;34m.\u001b[0m\u001b[0mstatus_code\u001b[0m\u001b[0;34m)\u001b[0m\u001b[0;34m\u001b[0m\u001b[0m\n\u001b[1;32m      5\u001b[0m     \u001b[0mpage_body\u001b[0m \u001b[0;34m=\u001b[0m \u001b[0mr\u001b[0m\u001b[0;34m.\u001b[0m\u001b[0mtext\u001b[0m\u001b[0;34m\u001b[0m\u001b[0m\n\u001b[0;32m----> 6\u001b[0;31m     \u001b[0;32mreturn\u001b[0m \u001b[0mjson\u001b[0m\u001b[0;34m.\u001b[0m\u001b[0mloads\u001b[0m\u001b[0;34m(\u001b[0m\u001b[0mpage_body\u001b[0m\u001b[0;34m)\u001b[0m\u001b[0;34m\u001b[0m\u001b[0m\n\u001b[0m",
      "\u001b[0;31mAttributeError\u001b[0m: 'dict' object has no attribute 'loads'"
     ]
    }
   ],
   "source": [
    "tmp = []\n",
    "start = 1997\n",
    "end_ = 2001 \n",
    "for i,x in enumerate(tmp0): # uncomment this line to run the ode\n",
    "    url = 'https://maps.googleapis.com/maps/api/place/details/json?'+\\\n",
    "                'placeid='+ x +'&key='+placesID_API_KEY\n",
    "    place_json = request_get_json(url) # to uncomment to do the requests\n",
    "    tmp.append(place_json)\n",
    "    print(i,'||', end=\"\") # i-start to have the right index in tmp\n",
    "    if tmp[i-start]['status']=='OVER_QUERY_LIMIT':\n",
    "        print ('BREAK: reason is:',  tmp[i-start]['status'])\n",
    "        print('the last valid index was ',i-1)\n",
    "        break"
   ]
  },
  {
   "cell_type": "code",
   "execution_count": null,
   "metadata": {
    "collapsed": true
   },
   "outputs": [],
   "source": [
    "  \n",
    "\n",
    "# extract only the road name\n",
    "tmp2 = []\n",
    "for i in range(len(tmp)):\n",
    "    if tmp[i]['status']=='OK':\n",
    "        tmp2.append(tmp[i]['result']['name'])\n",
    "    else:\n",
    "        tmp2.append(':ERROR STATUS: ' + tmp[i]['status'])\n",
    "\n",
    "# Write down roads in a csv file\n",
    "df = pd.DataFrame(tmp2)\n",
    "df = df[df[0] != ':ERROR STATUS: OVER_QUERY_LIMIT'] # just an additional check\n",
    "df.columns = ['road_name']"
   ]
  },
  {
   "cell_type": "code",
   "execution_count": null,
   "metadata": {
    "collapsed": true
   },
   "outputs": [],
   "source": []
  },
  {
   "cell_type": "code",
   "execution_count": null,
   "metadata": {
    "collapsed": true
   },
   "outputs": [],
   "source": []
  },
  {
   "cell_type": "code",
   "execution_count": null,
   "metadata": {
    "collapsed": true
   },
   "outputs": [],
   "source": []
  },
  {
   "cell_type": "code",
   "execution_count": null,
   "metadata": {
    "collapsed": true
   },
   "outputs": [],
   "source": []
  }
 ],
 "metadata": {
  "kernelspec": {
   "display_name": "Python 3",
   "language": "python",
   "name": "python3"
  },
  "language_info": {
   "codemirror_mode": {
    "name": "ipython",
    "version": 3
   },
   "file_extension": ".py",
   "mimetype": "text/x-python",
   "name": "python",
   "nbconvert_exporter": "python",
   "pygments_lexer": "ipython3",
   "version": "3.6.2"
  }
 },
 "nbformat": 4,
 "nbformat_minor": 2
}
